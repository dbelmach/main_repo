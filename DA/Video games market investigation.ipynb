{
 "cells": [
  {
   "cell_type": "markdown",
   "metadata": {},
   "source": [
    "## Вводная часть\n",
    "### Цели и задачи\n",
    "**Основная задача** - выявить закономерности, определяющие успешность игры для проведение рекламной компании. Успешность - число продаж игры.\n",
    "### План работ\n",
    "1. Изучение имеющегося датасета.\n",
    "2. Предобработка данных:\n",
    "    2.1. Приведение к единому стилю.\n",
    "    2.2. Выявление дублей.\n",
    "    2.3. Выявление аномалий.\n",
    "    2.4. Заполнение пропусков.\n",
    "3. Анализ данных.\n",
    "4. Общий вывод и рекомендации.\n",
    "\n",
    "### Описание данных\n",
    "**Name** — название игры   \n",
    "**Platform** — платформа   \n",
    "**Year_of_Release** — год выпуска   \n",
    "**Genre** — жанр игры   \n",
    "**NA_sales** — продажи в Северной Америке (миллионы проданных копий)   \n",
    "**EU_sales** — продажи в Европе (миллионы проданных копий)   \n",
    "**JP_sales** — продажи в Японии (миллионы проданных копий)   \n",
    "**Other_sales** — продажи в других странах (миллионы проданных копий)   \n",
    "**Critic_Score** — оценка критиков (максимум 100)   \n",
    "**User_Score** — оценка пользователей (максимум 10)   \n",
    "**Rating** — рейтинг от организации ESRB (англ. Entertainment Software Rating Board). Эта ассоциация определяет рейтинг компьютерных игр и присваивает им подходящую возрастную категорию."
   ]
  },
  {
   "cell_type": "markdown",
   "metadata": {},
   "source": [
    "## Основная часть\n",
    "### Изучение датасета и подготовка данных\n",
    "До начала работ импортирую все необходимые модули и библиотеки. Далее сохраню данные в датасет, с которым уже и буду работать."
   ]
  },
  {
   "cell_type": "code",
   "execution_count": 1,
   "metadata": {},
   "outputs": [],
   "source": [
    "import pandas as pd\n",
    "from scipy import stats as st\n",
    "import numpy as np\n",
    "import matplotlib.pyplot as plt\n",
    "import seaborn as sns"
   ]
  },
  {
   "cell_type": "code",
   "execution_count": 2,
   "metadata": {},
   "outputs": [],
   "source": [
    "df = pd.read_csv('games.csv') # Загружаю файл с данными"
   ]
  },
  {
   "cell_type": "markdown",
   "metadata": {},
   "source": [
    "Посмотрю на общую информацию о файле."
   ]
  },
  {
   "cell_type": "code",
   "execution_count": 3,
   "metadata": {},
   "outputs": [
    {
     "name": "stdout",
     "output_type": "stream",
     "text": [
      "<class 'pandas.core.frame.DataFrame'>\n",
      "RangeIndex: 16715 entries, 0 to 16714\n",
      "Data columns (total 11 columns):\n",
      " #   Column           Non-Null Count  Dtype  \n",
      "---  ------           --------------  -----  \n",
      " 0   Name             16713 non-null  object \n",
      " 1   Platform         16715 non-null  object \n",
      " 2   Year_of_Release  16446 non-null  float64\n",
      " 3   Genre            16713 non-null  object \n",
      " 4   NA_sales         16715 non-null  float64\n",
      " 5   EU_sales         16715 non-null  float64\n",
      " 6   JP_sales         16715 non-null  float64\n",
      " 7   Other_sales      16715 non-null  float64\n",
      " 8   Critic_Score     8137 non-null   float64\n",
      " 9   User_Score       10014 non-null  object \n",
      " 10  Rating           9949 non-null   object \n",
      "dtypes: float64(6), object(5)\n",
      "memory usage: 1.4+ MB\n"
     ]
    },
    {
     "data": {
      "text/html": [
       "<div>\n",
       "<style scoped>\n",
       "    .dataframe tbody tr th:only-of-type {\n",
       "        vertical-align: middle;\n",
       "    }\n",
       "\n",
       "    .dataframe tbody tr th {\n",
       "        vertical-align: top;\n",
       "    }\n",
       "\n",
       "    .dataframe thead th {\n",
       "        text-align: right;\n",
       "    }\n",
       "</style>\n",
       "<table border=\"1\" class=\"dataframe\">\n",
       "  <thead>\n",
       "    <tr style=\"text-align: right;\">\n",
       "      <th></th>\n",
       "      <th>Name</th>\n",
       "      <th>Platform</th>\n",
       "      <th>Year_of_Release</th>\n",
       "      <th>Genre</th>\n",
       "      <th>NA_sales</th>\n",
       "      <th>EU_sales</th>\n",
       "      <th>JP_sales</th>\n",
       "      <th>Other_sales</th>\n",
       "      <th>Critic_Score</th>\n",
       "      <th>User_Score</th>\n",
       "      <th>Rating</th>\n",
       "    </tr>\n",
       "  </thead>\n",
       "  <tbody>\n",
       "    <tr>\n",
       "      <th>0</th>\n",
       "      <td>Wii Sports</td>\n",
       "      <td>Wii</td>\n",
       "      <td>2006.0</td>\n",
       "      <td>Sports</td>\n",
       "      <td>41.36</td>\n",
       "      <td>28.96</td>\n",
       "      <td>3.77</td>\n",
       "      <td>8.45</td>\n",
       "      <td>76.0</td>\n",
       "      <td>8</td>\n",
       "      <td>E</td>\n",
       "    </tr>\n",
       "    <tr>\n",
       "      <th>1</th>\n",
       "      <td>Super Mario Bros.</td>\n",
       "      <td>NES</td>\n",
       "      <td>1985.0</td>\n",
       "      <td>Platform</td>\n",
       "      <td>29.08</td>\n",
       "      <td>3.58</td>\n",
       "      <td>6.81</td>\n",
       "      <td>0.77</td>\n",
       "      <td>NaN</td>\n",
       "      <td>NaN</td>\n",
       "      <td>NaN</td>\n",
       "    </tr>\n",
       "    <tr>\n",
       "      <th>2</th>\n",
       "      <td>Mario Kart Wii</td>\n",
       "      <td>Wii</td>\n",
       "      <td>2008.0</td>\n",
       "      <td>Racing</td>\n",
       "      <td>15.68</td>\n",
       "      <td>12.76</td>\n",
       "      <td>3.79</td>\n",
       "      <td>3.29</td>\n",
       "      <td>82.0</td>\n",
       "      <td>8.3</td>\n",
       "      <td>E</td>\n",
       "    </tr>\n",
       "    <tr>\n",
       "      <th>3</th>\n",
       "      <td>Wii Sports Resort</td>\n",
       "      <td>Wii</td>\n",
       "      <td>2009.0</td>\n",
       "      <td>Sports</td>\n",
       "      <td>15.61</td>\n",
       "      <td>10.93</td>\n",
       "      <td>3.28</td>\n",
       "      <td>2.95</td>\n",
       "      <td>80.0</td>\n",
       "      <td>8</td>\n",
       "      <td>E</td>\n",
       "    </tr>\n",
       "    <tr>\n",
       "      <th>4</th>\n",
       "      <td>Pokemon Red/Pokemon Blue</td>\n",
       "      <td>GB</td>\n",
       "      <td>1996.0</td>\n",
       "      <td>Role-Playing</td>\n",
       "      <td>11.27</td>\n",
       "      <td>8.89</td>\n",
       "      <td>10.22</td>\n",
       "      <td>1.00</td>\n",
       "      <td>NaN</td>\n",
       "      <td>NaN</td>\n",
       "      <td>NaN</td>\n",
       "    </tr>\n",
       "    <tr>\n",
       "      <th>5</th>\n",
       "      <td>Tetris</td>\n",
       "      <td>GB</td>\n",
       "      <td>1989.0</td>\n",
       "      <td>Puzzle</td>\n",
       "      <td>23.20</td>\n",
       "      <td>2.26</td>\n",
       "      <td>4.22</td>\n",
       "      <td>0.58</td>\n",
       "      <td>NaN</td>\n",
       "      <td>NaN</td>\n",
       "      <td>NaN</td>\n",
       "    </tr>\n",
       "    <tr>\n",
       "      <th>6</th>\n",
       "      <td>New Super Mario Bros.</td>\n",
       "      <td>DS</td>\n",
       "      <td>2006.0</td>\n",
       "      <td>Platform</td>\n",
       "      <td>11.28</td>\n",
       "      <td>9.14</td>\n",
       "      <td>6.50</td>\n",
       "      <td>2.88</td>\n",
       "      <td>89.0</td>\n",
       "      <td>8.5</td>\n",
       "      <td>E</td>\n",
       "    </tr>\n",
       "    <tr>\n",
       "      <th>7</th>\n",
       "      <td>Wii Play</td>\n",
       "      <td>Wii</td>\n",
       "      <td>2006.0</td>\n",
       "      <td>Misc</td>\n",
       "      <td>13.96</td>\n",
       "      <td>9.18</td>\n",
       "      <td>2.93</td>\n",
       "      <td>2.84</td>\n",
       "      <td>58.0</td>\n",
       "      <td>6.6</td>\n",
       "      <td>E</td>\n",
       "    </tr>\n",
       "    <tr>\n",
       "      <th>8</th>\n",
       "      <td>New Super Mario Bros. Wii</td>\n",
       "      <td>Wii</td>\n",
       "      <td>2009.0</td>\n",
       "      <td>Platform</td>\n",
       "      <td>14.44</td>\n",
       "      <td>6.94</td>\n",
       "      <td>4.70</td>\n",
       "      <td>2.24</td>\n",
       "      <td>87.0</td>\n",
       "      <td>8.4</td>\n",
       "      <td>E</td>\n",
       "    </tr>\n",
       "    <tr>\n",
       "      <th>9</th>\n",
       "      <td>Duck Hunt</td>\n",
       "      <td>NES</td>\n",
       "      <td>1984.0</td>\n",
       "      <td>Shooter</td>\n",
       "      <td>26.93</td>\n",
       "      <td>0.63</td>\n",
       "      <td>0.28</td>\n",
       "      <td>0.47</td>\n",
       "      <td>NaN</td>\n",
       "      <td>NaN</td>\n",
       "      <td>NaN</td>\n",
       "    </tr>\n",
       "    <tr>\n",
       "      <th>10</th>\n",
       "      <td>Nintendogs</td>\n",
       "      <td>DS</td>\n",
       "      <td>2005.0</td>\n",
       "      <td>Simulation</td>\n",
       "      <td>9.05</td>\n",
       "      <td>10.95</td>\n",
       "      <td>1.93</td>\n",
       "      <td>2.74</td>\n",
       "      <td>NaN</td>\n",
       "      <td>NaN</td>\n",
       "      <td>NaN</td>\n",
       "    </tr>\n",
       "    <tr>\n",
       "      <th>11</th>\n",
       "      <td>Mario Kart DS</td>\n",
       "      <td>DS</td>\n",
       "      <td>2005.0</td>\n",
       "      <td>Racing</td>\n",
       "      <td>9.71</td>\n",
       "      <td>7.47</td>\n",
       "      <td>4.13</td>\n",
       "      <td>1.90</td>\n",
       "      <td>91.0</td>\n",
       "      <td>8.6</td>\n",
       "      <td>E</td>\n",
       "    </tr>\n",
       "    <tr>\n",
       "      <th>12</th>\n",
       "      <td>Pokemon Gold/Pokemon Silver</td>\n",
       "      <td>GB</td>\n",
       "      <td>1999.0</td>\n",
       "      <td>Role-Playing</td>\n",
       "      <td>9.00</td>\n",
       "      <td>6.18</td>\n",
       "      <td>7.20</td>\n",
       "      <td>0.71</td>\n",
       "      <td>NaN</td>\n",
       "      <td>NaN</td>\n",
       "      <td>NaN</td>\n",
       "    </tr>\n",
       "    <tr>\n",
       "      <th>13</th>\n",
       "      <td>Wii Fit</td>\n",
       "      <td>Wii</td>\n",
       "      <td>2007.0</td>\n",
       "      <td>Sports</td>\n",
       "      <td>8.92</td>\n",
       "      <td>8.03</td>\n",
       "      <td>3.60</td>\n",
       "      <td>2.15</td>\n",
       "      <td>80.0</td>\n",
       "      <td>7.7</td>\n",
       "      <td>E</td>\n",
       "    </tr>\n",
       "    <tr>\n",
       "      <th>14</th>\n",
       "      <td>Kinect Adventures!</td>\n",
       "      <td>X360</td>\n",
       "      <td>2010.0</td>\n",
       "      <td>Misc</td>\n",
       "      <td>15.00</td>\n",
       "      <td>4.89</td>\n",
       "      <td>0.24</td>\n",
       "      <td>1.69</td>\n",
       "      <td>61.0</td>\n",
       "      <td>6.3</td>\n",
       "      <td>E</td>\n",
       "    </tr>\n",
       "    <tr>\n",
       "      <th>15</th>\n",
       "      <td>Wii Fit Plus</td>\n",
       "      <td>Wii</td>\n",
       "      <td>2009.0</td>\n",
       "      <td>Sports</td>\n",
       "      <td>9.01</td>\n",
       "      <td>8.49</td>\n",
       "      <td>2.53</td>\n",
       "      <td>1.77</td>\n",
       "      <td>80.0</td>\n",
       "      <td>7.4</td>\n",
       "      <td>E</td>\n",
       "    </tr>\n",
       "    <tr>\n",
       "      <th>16</th>\n",
       "      <td>Grand Theft Auto V</td>\n",
       "      <td>PS3</td>\n",
       "      <td>2013.0</td>\n",
       "      <td>Action</td>\n",
       "      <td>7.02</td>\n",
       "      <td>9.09</td>\n",
       "      <td>0.98</td>\n",
       "      <td>3.96</td>\n",
       "      <td>97.0</td>\n",
       "      <td>8.2</td>\n",
       "      <td>M</td>\n",
       "    </tr>\n",
       "    <tr>\n",
       "      <th>17</th>\n",
       "      <td>Grand Theft Auto: San Andreas</td>\n",
       "      <td>PS2</td>\n",
       "      <td>2004.0</td>\n",
       "      <td>Action</td>\n",
       "      <td>9.43</td>\n",
       "      <td>0.40</td>\n",
       "      <td>0.41</td>\n",
       "      <td>10.57</td>\n",
       "      <td>95.0</td>\n",
       "      <td>9</td>\n",
       "      <td>M</td>\n",
       "    </tr>\n",
       "    <tr>\n",
       "      <th>18</th>\n",
       "      <td>Super Mario World</td>\n",
       "      <td>SNES</td>\n",
       "      <td>1990.0</td>\n",
       "      <td>Platform</td>\n",
       "      <td>12.78</td>\n",
       "      <td>3.75</td>\n",
       "      <td>3.54</td>\n",
       "      <td>0.55</td>\n",
       "      <td>NaN</td>\n",
       "      <td>NaN</td>\n",
       "      <td>NaN</td>\n",
       "    </tr>\n",
       "    <tr>\n",
       "      <th>19</th>\n",
       "      <td>Brain Age: Train Your Brain in Minutes a Day</td>\n",
       "      <td>DS</td>\n",
       "      <td>2005.0</td>\n",
       "      <td>Misc</td>\n",
       "      <td>4.74</td>\n",
       "      <td>9.20</td>\n",
       "      <td>4.16</td>\n",
       "      <td>2.04</td>\n",
       "      <td>77.0</td>\n",
       "      <td>7.9</td>\n",
       "      <td>E</td>\n",
       "    </tr>\n",
       "  </tbody>\n",
       "</table>\n",
       "</div>"
      ],
      "text/plain": [
       "                                            Name Platform  Year_of_Release  \\\n",
       "0                                     Wii Sports      Wii           2006.0   \n",
       "1                              Super Mario Bros.      NES           1985.0   \n",
       "2                                 Mario Kart Wii      Wii           2008.0   \n",
       "3                              Wii Sports Resort      Wii           2009.0   \n",
       "4                       Pokemon Red/Pokemon Blue       GB           1996.0   \n",
       "5                                         Tetris       GB           1989.0   \n",
       "6                          New Super Mario Bros.       DS           2006.0   \n",
       "7                                       Wii Play      Wii           2006.0   \n",
       "8                      New Super Mario Bros. Wii      Wii           2009.0   \n",
       "9                                      Duck Hunt      NES           1984.0   \n",
       "10                                    Nintendogs       DS           2005.0   \n",
       "11                                 Mario Kart DS       DS           2005.0   \n",
       "12                   Pokemon Gold/Pokemon Silver       GB           1999.0   \n",
       "13                                       Wii Fit      Wii           2007.0   \n",
       "14                            Kinect Adventures!     X360           2010.0   \n",
       "15                                  Wii Fit Plus      Wii           2009.0   \n",
       "16                            Grand Theft Auto V      PS3           2013.0   \n",
       "17                 Grand Theft Auto: San Andreas      PS2           2004.0   \n",
       "18                             Super Mario World     SNES           1990.0   \n",
       "19  Brain Age: Train Your Brain in Minutes a Day       DS           2005.0   \n",
       "\n",
       "           Genre  NA_sales  EU_sales  JP_sales  Other_sales  Critic_Score  \\\n",
       "0         Sports     41.36     28.96      3.77         8.45          76.0   \n",
       "1       Platform     29.08      3.58      6.81         0.77           NaN   \n",
       "2         Racing     15.68     12.76      3.79         3.29          82.0   \n",
       "3         Sports     15.61     10.93      3.28         2.95          80.0   \n",
       "4   Role-Playing     11.27      8.89     10.22         1.00           NaN   \n",
       "5         Puzzle     23.20      2.26      4.22         0.58           NaN   \n",
       "6       Platform     11.28      9.14      6.50         2.88          89.0   \n",
       "7           Misc     13.96      9.18      2.93         2.84          58.0   \n",
       "8       Platform     14.44      6.94      4.70         2.24          87.0   \n",
       "9        Shooter     26.93      0.63      0.28         0.47           NaN   \n",
       "10    Simulation      9.05     10.95      1.93         2.74           NaN   \n",
       "11        Racing      9.71      7.47      4.13         1.90          91.0   \n",
       "12  Role-Playing      9.00      6.18      7.20         0.71           NaN   \n",
       "13        Sports      8.92      8.03      3.60         2.15          80.0   \n",
       "14          Misc     15.00      4.89      0.24         1.69          61.0   \n",
       "15        Sports      9.01      8.49      2.53         1.77          80.0   \n",
       "16        Action      7.02      9.09      0.98         3.96          97.0   \n",
       "17        Action      9.43      0.40      0.41        10.57          95.0   \n",
       "18      Platform     12.78      3.75      3.54         0.55           NaN   \n",
       "19          Misc      4.74      9.20      4.16         2.04          77.0   \n",
       "\n",
       "   User_Score Rating  \n",
       "0           8      E  \n",
       "1         NaN    NaN  \n",
       "2         8.3      E  \n",
       "3           8      E  \n",
       "4         NaN    NaN  \n",
       "5         NaN    NaN  \n",
       "6         8.5      E  \n",
       "7         6.6      E  \n",
       "8         8.4      E  \n",
       "9         NaN    NaN  \n",
       "10        NaN    NaN  \n",
       "11        8.6      E  \n",
       "12        NaN    NaN  \n",
       "13        7.7      E  \n",
       "14        6.3      E  \n",
       "15        7.4      E  \n",
       "16        8.2      M  \n",
       "17          9      M  \n",
       "18        NaN    NaN  \n",
       "19        7.9      E  "
      ]
     },
     "execution_count": 3,
     "metadata": {},
     "output_type": "execute_result"
    }
   ],
   "source": [
    "df.info() # Общая информация о датасете\n",
    "df.head(20)"
   ]
  },
  {
   "cell_type": "markdown",
   "metadata": {},
   "source": [
    "Сразу видно, что необходимо переименовать столбцы, привести данные к нужным типам. Пропусков не так много как могло бы быть, но и с ними нужно решить."
   ]
  },
  {
   "cell_type": "code",
   "execution_count": 4,
   "metadata": {},
   "outputs": [
    {
     "name": "stdout",
     "output_type": "stream",
     "text": [
      "<class 'pandas.core.frame.DataFrame'>\n",
      "RangeIndex: 16715 entries, 0 to 16714\n",
      "Data columns (total 11 columns):\n",
      " #   Column           Non-Null Count  Dtype  \n",
      "---  ------           --------------  -----  \n",
      " 0   name             16713 non-null  object \n",
      " 1   platform         16715 non-null  object \n",
      " 2   year_of_release  16446 non-null  float64\n",
      " 3   genre            16713 non-null  object \n",
      " 4   na_sales         16715 non-null  float64\n",
      " 5   eu_sales         16715 non-null  float64\n",
      " 6   jp_sales         16715 non-null  float64\n",
      " 7   other_sales      16715 non-null  float64\n",
      " 8   critic_score     8137 non-null   float64\n",
      " 9   user_score       10014 non-null  object \n",
      " 10  rating           9949 non-null   object \n",
      "dtypes: float64(6), object(5)\n",
      "memory usage: 1.4+ MB\n"
     ]
    }
   ],
   "source": [
    "df.columns = df.columns.str.lower() # Привожу имена столбцов к lower_case\n",
    "df.info()"
   ]
  },
  {
   "cell_type": "code",
   "execution_count": 5,
   "metadata": {},
   "outputs": [
    {
     "name": "stdout",
     "output_type": "stream",
     "text": [
      "Полных дубликатов: 0\n"
     ]
    }
   ],
   "source": [
    "print('Полных дубликатов:', df.duplicated().sum())"
   ]
  },
  {
   "cell_type": "markdown",
   "metadata": {},
   "source": [
    "Полных дубликатов не обнаружено. Далее посмотрю по отдельности все столбцы и внесу корректировки где необходимо.\n",
    "#### name"
   ]
  },
  {
   "cell_type": "code",
   "execution_count": 6,
   "metadata": {},
   "outputs": [
    {
     "name": "stdout",
     "output_type": "stream",
     "text": [
      "<class 'pandas.core.frame.DataFrame'>\n",
      "Int64Index: 16713 entries, 0 to 16714\n",
      "Data columns (total 11 columns):\n",
      " #   Column           Non-Null Count  Dtype  \n",
      "---  ------           --------------  -----  \n",
      " 0   name             16713 non-null  object \n",
      " 1   platform         16713 non-null  object \n",
      " 2   year_of_release  16444 non-null  float64\n",
      " 3   genre            16713 non-null  object \n",
      " 4   na_sales         16713 non-null  float64\n",
      " 5   eu_sales         16713 non-null  float64\n",
      " 6   jp_sales         16713 non-null  float64\n",
      " 7   other_sales      16713 non-null  float64\n",
      " 8   critic_score     8137 non-null   float64\n",
      " 9   user_score       10014 non-null  object \n",
      " 10  rating           9949 non-null   object \n",
      "dtypes: float64(6), object(5)\n",
      "memory usage: 1.5+ MB\n"
     ]
    }
   ],
   "source": [
    "# Общая инфо по столбцу\n",
    "df['name'].describe()\n",
    "\n",
    "# Проверю что уники действительно уники\n",
    "df.query('name == \"Need for Speed: Most Wanted\"')\n",
    "\n",
    "# Проверю что за игры без названия\n",
    "df.query('name.isna()')\n",
    "\n",
    "# Удалю строки с пропусками\n",
    "df = df.dropna(subset=['name'])\n",
    "\n",
    "df.info() # Проверка"
   ]
  },
  {
   "cell_type": "markdown",
   "metadata": {},
   "source": [
    "Данные в порядке. Удалил две строки, где кроме данных о продажах и года выпуска не было ничего. Для анализа такие не годятся, да и удаление их не повлияет на анализ в целом."
   ]
  },
  {
   "cell_type": "markdown",
   "metadata": {},
   "source": [
    "#### platform"
   ]
  },
  {
   "cell_type": "code",
   "execution_count": 7,
   "metadata": {},
   "outputs": [
    {
     "data": {
      "text/plain": [
       "PS2     2161\n",
       "DS      2151\n",
       "PS3     1331\n",
       "Wii     1320\n",
       "X360    1262\n",
       "PSP     1209\n",
       "PS      1197\n",
       "PC       974\n",
       "XB       824\n",
       "GBA      822\n",
       "GC       556\n",
       "3DS      520\n",
       "PSV      430\n",
       "PS4      392\n",
       "N64      319\n",
       "XOne     247\n",
       "SNES     239\n",
       "SAT      173\n",
       "WiiU     147\n",
       "2600     133\n",
       "NES       98\n",
       "GB        98\n",
       "DC        52\n",
       "GEN       27\n",
       "NG        12\n",
       "SCD        6\n",
       "WS         6\n",
       "3DO        3\n",
       "TG16       2\n",
       "GG         1\n",
       "PCFX       1\n",
       "Name: platform, dtype: int64"
      ]
     },
     "execution_count": 7,
     "metadata": {},
     "output_type": "execute_result"
    }
   ],
   "source": [
    "df['platform'].value_counts()"
   ]
  },
  {
   "cell_type": "markdown",
   "metadata": {},
   "source": [
    "Тут все в порядке."
   ]
  },
  {
   "cell_type": "markdown",
   "metadata": {},
   "source": [
    "#### year_of_release"
   ]
  },
  {
   "cell_type": "code",
   "execution_count": 8,
   "metadata": {},
   "outputs": [
    {
     "data": {
      "text/plain": [
       "count    16444.000000\n",
       "mean      2006.486256\n",
       "std          5.875525\n",
       "min       1980.000000\n",
       "25%       2003.000000\n",
       "50%       2007.000000\n",
       "75%       2010.000000\n",
       "max       2016.000000\n",
       "Name: year_of_release, dtype: float64"
      ]
     },
     "metadata": {},
     "output_type": "display_data"
    },
    {
     "data": {
      "text/plain": [
       "2008.0    1427\n",
       "2009.0    1426\n",
       "2010.0    1255\n",
       "2007.0    1197\n",
       "2011.0    1136\n",
       "2006.0    1006\n",
       "2005.0     939\n",
       "2002.0     829\n",
       "2003.0     775\n",
       "2004.0     762\n",
       "2012.0     653\n",
       "2015.0     606\n",
       "2014.0     581\n",
       "2013.0     544\n",
       "2016.0     502\n",
       "2001.0     482\n",
       "1998.0     379\n",
       "2000.0     350\n",
       "1999.0     338\n",
       "1997.0     289\n",
       "1996.0     263\n",
       "1995.0     219\n",
       "1994.0     121\n",
       "1993.0      60\n",
       "1981.0      46\n",
       "1992.0      43\n",
       "1991.0      41\n",
       "1982.0      36\n",
       "1986.0      21\n",
       "1989.0      17\n",
       "1983.0      17\n",
       "1990.0      16\n",
       "1987.0      16\n",
       "1988.0      15\n",
       "1985.0      14\n",
       "1984.0      14\n",
       "1980.0       9\n",
       "Name: year_of_release, dtype: int64"
      ]
     },
     "metadata": {},
     "output_type": "display_data"
    },
    {
     "data": {
      "text/html": [
       "<div>\n",
       "<style scoped>\n",
       "    .dataframe tbody tr th:only-of-type {\n",
       "        vertical-align: middle;\n",
       "    }\n",
       "\n",
       "    .dataframe tbody tr th {\n",
       "        vertical-align: top;\n",
       "    }\n",
       "\n",
       "    .dataframe thead th {\n",
       "        text-align: right;\n",
       "    }\n",
       "</style>\n",
       "<table border=\"1\" class=\"dataframe\">\n",
       "  <thead>\n",
       "    <tr style=\"text-align: right;\">\n",
       "      <th></th>\n",
       "      <th>name</th>\n",
       "      <th>platform</th>\n",
       "      <th>year_of_release</th>\n",
       "      <th>genre</th>\n",
       "      <th>na_sales</th>\n",
       "      <th>eu_sales</th>\n",
       "      <th>jp_sales</th>\n",
       "      <th>other_sales</th>\n",
       "      <th>critic_score</th>\n",
       "      <th>user_score</th>\n",
       "      <th>rating</th>\n",
       "    </tr>\n",
       "  </thead>\n",
       "  <tbody>\n",
       "    <tr>\n",
       "      <th>183</th>\n",
       "      <td>Madden NFL 2004</td>\n",
       "      <td>PS2</td>\n",
       "      <td>NaN</td>\n",
       "      <td>Sports</td>\n",
       "      <td>4.26</td>\n",
       "      <td>0.26</td>\n",
       "      <td>0.01</td>\n",
       "      <td>0.71</td>\n",
       "      <td>94.0</td>\n",
       "      <td>8.5</td>\n",
       "      <td>E</td>\n",
       "    </tr>\n",
       "    <tr>\n",
       "      <th>377</th>\n",
       "      <td>FIFA Soccer 2004</td>\n",
       "      <td>PS2</td>\n",
       "      <td>NaN</td>\n",
       "      <td>Sports</td>\n",
       "      <td>0.59</td>\n",
       "      <td>2.36</td>\n",
       "      <td>0.04</td>\n",
       "      <td>0.51</td>\n",
       "      <td>84.0</td>\n",
       "      <td>6.4</td>\n",
       "      <td>E</td>\n",
       "    </tr>\n",
       "    <tr>\n",
       "      <th>456</th>\n",
       "      <td>LEGO Batman: The Videogame</td>\n",
       "      <td>Wii</td>\n",
       "      <td>NaN</td>\n",
       "      <td>Action</td>\n",
       "      <td>1.80</td>\n",
       "      <td>0.97</td>\n",
       "      <td>0.00</td>\n",
       "      <td>0.29</td>\n",
       "      <td>74.0</td>\n",
       "      <td>7.9</td>\n",
       "      <td>E10+</td>\n",
       "    </tr>\n",
       "    <tr>\n",
       "      <th>475</th>\n",
       "      <td>wwe Smackdown vs. Raw 2006</td>\n",
       "      <td>PS2</td>\n",
       "      <td>NaN</td>\n",
       "      <td>Fighting</td>\n",
       "      <td>1.57</td>\n",
       "      <td>1.02</td>\n",
       "      <td>0.00</td>\n",
       "      <td>0.41</td>\n",
       "      <td>NaN</td>\n",
       "      <td>NaN</td>\n",
       "      <td>NaN</td>\n",
       "    </tr>\n",
       "    <tr>\n",
       "      <th>609</th>\n",
       "      <td>Space Invaders</td>\n",
       "      <td>2600</td>\n",
       "      <td>NaN</td>\n",
       "      <td>Shooter</td>\n",
       "      <td>2.36</td>\n",
       "      <td>0.14</td>\n",
       "      <td>0.00</td>\n",
       "      <td>0.03</td>\n",
       "      <td>NaN</td>\n",
       "      <td>NaN</td>\n",
       "      <td>NaN</td>\n",
       "    </tr>\n",
       "    <tr>\n",
       "      <th>627</th>\n",
       "      <td>Rock Band</td>\n",
       "      <td>X360</td>\n",
       "      <td>NaN</td>\n",
       "      <td>Misc</td>\n",
       "      <td>1.93</td>\n",
       "      <td>0.33</td>\n",
       "      <td>0.00</td>\n",
       "      <td>0.21</td>\n",
       "      <td>92.0</td>\n",
       "      <td>8.2</td>\n",
       "      <td>T</td>\n",
       "    </tr>\n",
       "    <tr>\n",
       "      <th>657</th>\n",
       "      <td>Frogger's Adventures: Temple of the Frog</td>\n",
       "      <td>GBA</td>\n",
       "      <td>NaN</td>\n",
       "      <td>Adventure</td>\n",
       "      <td>2.15</td>\n",
       "      <td>0.18</td>\n",
       "      <td>0.00</td>\n",
       "      <td>0.07</td>\n",
       "      <td>73.0</td>\n",
       "      <td>tbd</td>\n",
       "      <td>E</td>\n",
       "    </tr>\n",
       "    <tr>\n",
       "      <th>678</th>\n",
       "      <td>LEGO Indiana Jones: The Original Adventures</td>\n",
       "      <td>Wii</td>\n",
       "      <td>NaN</td>\n",
       "      <td>Action</td>\n",
       "      <td>1.51</td>\n",
       "      <td>0.61</td>\n",
       "      <td>0.00</td>\n",
       "      <td>0.21</td>\n",
       "      <td>78.0</td>\n",
       "      <td>6.6</td>\n",
       "      <td>E10+</td>\n",
       "    </tr>\n",
       "    <tr>\n",
       "      <th>719</th>\n",
       "      <td>Call of Duty 3</td>\n",
       "      <td>Wii</td>\n",
       "      <td>NaN</td>\n",
       "      <td>Shooter</td>\n",
       "      <td>1.17</td>\n",
       "      <td>0.84</td>\n",
       "      <td>0.00</td>\n",
       "      <td>0.23</td>\n",
       "      <td>69.0</td>\n",
       "      <td>6.7</td>\n",
       "      <td>T</td>\n",
       "    </tr>\n",
       "    <tr>\n",
       "      <th>805</th>\n",
       "      <td>Rock Band</td>\n",
       "      <td>Wii</td>\n",
       "      <td>NaN</td>\n",
       "      <td>Misc</td>\n",
       "      <td>1.33</td>\n",
       "      <td>0.56</td>\n",
       "      <td>0.00</td>\n",
       "      <td>0.20</td>\n",
       "      <td>80.0</td>\n",
       "      <td>6.3</td>\n",
       "      <td>T</td>\n",
       "    </tr>\n",
       "    <tr>\n",
       "      <th>1131</th>\n",
       "      <td>Call of Duty: Black Ops</td>\n",
       "      <td>PC</td>\n",
       "      <td>NaN</td>\n",
       "      <td>Shooter</td>\n",
       "      <td>0.58</td>\n",
       "      <td>0.81</td>\n",
       "      <td>0.00</td>\n",
       "      <td>0.23</td>\n",
       "      <td>81.0</td>\n",
       "      <td>5.2</td>\n",
       "      <td>M</td>\n",
       "    </tr>\n",
       "    <tr>\n",
       "      <th>1142</th>\n",
       "      <td>Rock Band</td>\n",
       "      <td>PS3</td>\n",
       "      <td>NaN</td>\n",
       "      <td>Misc</td>\n",
       "      <td>0.99</td>\n",
       "      <td>0.41</td>\n",
       "      <td>0.00</td>\n",
       "      <td>0.22</td>\n",
       "      <td>92.0</td>\n",
       "      <td>8.4</td>\n",
       "      <td>T</td>\n",
       "    </tr>\n",
       "    <tr>\n",
       "      <th>1301</th>\n",
       "      <td>Triple Play 99</td>\n",
       "      <td>PS</td>\n",
       "      <td>NaN</td>\n",
       "      <td>Sports</td>\n",
       "      <td>0.81</td>\n",
       "      <td>0.55</td>\n",
       "      <td>0.00</td>\n",
       "      <td>0.10</td>\n",
       "      <td>NaN</td>\n",
       "      <td>NaN</td>\n",
       "      <td>NaN</td>\n",
       "    </tr>\n",
       "    <tr>\n",
       "      <th>1506</th>\n",
       "      <td>Adventure</td>\n",
       "      <td>2600</td>\n",
       "      <td>NaN</td>\n",
       "      <td>Adventure</td>\n",
       "      <td>1.21</td>\n",
       "      <td>0.08</td>\n",
       "      <td>0.00</td>\n",
       "      <td>0.01</td>\n",
       "      <td>NaN</td>\n",
       "      <td>NaN</td>\n",
       "      <td>NaN</td>\n",
       "    </tr>\n",
       "    <tr>\n",
       "      <th>1538</th>\n",
       "      <td>LEGO Batman: The Videogame</td>\n",
       "      <td>PSP</td>\n",
       "      <td>NaN</td>\n",
       "      <td>Action</td>\n",
       "      <td>0.57</td>\n",
       "      <td>0.44</td>\n",
       "      <td>0.00</td>\n",
       "      <td>0.27</td>\n",
       "      <td>73.0</td>\n",
       "      <td>7.4</td>\n",
       "      <td>E10+</td>\n",
       "    </tr>\n",
       "    <tr>\n",
       "      <th>1585</th>\n",
       "      <td>Combat</td>\n",
       "      <td>2600</td>\n",
       "      <td>NaN</td>\n",
       "      <td>Action</td>\n",
       "      <td>1.17</td>\n",
       "      <td>0.07</td>\n",
       "      <td>0.00</td>\n",
       "      <td>0.01</td>\n",
       "      <td>NaN</td>\n",
       "      <td>NaN</td>\n",
       "      <td>NaN</td>\n",
       "    </tr>\n",
       "    <tr>\n",
       "      <th>1609</th>\n",
       "      <td>LEGO Harry Potter: Years 5-7</td>\n",
       "      <td>Wii</td>\n",
       "      <td>NaN</td>\n",
       "      <td>Action</td>\n",
       "      <td>0.69</td>\n",
       "      <td>0.42</td>\n",
       "      <td>0.00</td>\n",
       "      <td>0.12</td>\n",
       "      <td>76.0</td>\n",
       "      <td>7.8</td>\n",
       "      <td>E10+</td>\n",
       "    </tr>\n",
       "    <tr>\n",
       "      <th>1650</th>\n",
       "      <td>NASCAR Thunder 2003</td>\n",
       "      <td>PS2</td>\n",
       "      <td>NaN</td>\n",
       "      <td>Racing</td>\n",
       "      <td>0.60</td>\n",
       "      <td>0.46</td>\n",
       "      <td>0.00</td>\n",
       "      <td>0.16</td>\n",
       "      <td>84.0</td>\n",
       "      <td>8.7</td>\n",
       "      <td>E</td>\n",
       "    </tr>\n",
       "    <tr>\n",
       "      <th>1699</th>\n",
       "      <td>Hitman 2: Silent Assassin</td>\n",
       "      <td>XB</td>\n",
       "      <td>NaN</td>\n",
       "      <td>Action</td>\n",
       "      <td>0.76</td>\n",
       "      <td>0.38</td>\n",
       "      <td>0.00</td>\n",
       "      <td>0.05</td>\n",
       "      <td>84.0</td>\n",
       "      <td>8</td>\n",
       "      <td>M</td>\n",
       "    </tr>\n",
       "    <tr>\n",
       "      <th>1840</th>\n",
       "      <td>Rock Band</td>\n",
       "      <td>PS2</td>\n",
       "      <td>NaN</td>\n",
       "      <td>Misc</td>\n",
       "      <td>0.71</td>\n",
       "      <td>0.06</td>\n",
       "      <td>0.00</td>\n",
       "      <td>0.35</td>\n",
       "      <td>82.0</td>\n",
       "      <td>6.8</td>\n",
       "      <td>T</td>\n",
       "    </tr>\n",
       "  </tbody>\n",
       "</table>\n",
       "</div>"
      ],
      "text/plain": [
       "                                             name platform  year_of_release  \\\n",
       "183                               Madden NFL 2004      PS2              NaN   \n",
       "377                              FIFA Soccer 2004      PS2              NaN   \n",
       "456                    LEGO Batman: The Videogame      Wii              NaN   \n",
       "475                    wwe Smackdown vs. Raw 2006      PS2              NaN   \n",
       "609                                Space Invaders     2600              NaN   \n",
       "627                                     Rock Band     X360              NaN   \n",
       "657      Frogger's Adventures: Temple of the Frog      GBA              NaN   \n",
       "678   LEGO Indiana Jones: The Original Adventures      Wii              NaN   \n",
       "719                                Call of Duty 3      Wii              NaN   \n",
       "805                                     Rock Band      Wii              NaN   \n",
       "1131                      Call of Duty: Black Ops       PC              NaN   \n",
       "1142                                    Rock Band      PS3              NaN   \n",
       "1301                               Triple Play 99       PS              NaN   \n",
       "1506                                    Adventure     2600              NaN   \n",
       "1538                   LEGO Batman: The Videogame      PSP              NaN   \n",
       "1585                                       Combat     2600              NaN   \n",
       "1609                 LEGO Harry Potter: Years 5-7      Wii              NaN   \n",
       "1650                          NASCAR Thunder 2003      PS2              NaN   \n",
       "1699                    Hitman 2: Silent Assassin       XB              NaN   \n",
       "1840                                    Rock Band      PS2              NaN   \n",
       "\n",
       "          genre  na_sales  eu_sales  jp_sales  other_sales  critic_score  \\\n",
       "183      Sports      4.26      0.26      0.01         0.71          94.0   \n",
       "377      Sports      0.59      2.36      0.04         0.51          84.0   \n",
       "456      Action      1.80      0.97      0.00         0.29          74.0   \n",
       "475    Fighting      1.57      1.02      0.00         0.41           NaN   \n",
       "609     Shooter      2.36      0.14      0.00         0.03           NaN   \n",
       "627        Misc      1.93      0.33      0.00         0.21          92.0   \n",
       "657   Adventure      2.15      0.18      0.00         0.07          73.0   \n",
       "678      Action      1.51      0.61      0.00         0.21          78.0   \n",
       "719     Shooter      1.17      0.84      0.00         0.23          69.0   \n",
       "805        Misc      1.33      0.56      0.00         0.20          80.0   \n",
       "1131    Shooter      0.58      0.81      0.00         0.23          81.0   \n",
       "1142       Misc      0.99      0.41      0.00         0.22          92.0   \n",
       "1301     Sports      0.81      0.55      0.00         0.10           NaN   \n",
       "1506  Adventure      1.21      0.08      0.00         0.01           NaN   \n",
       "1538     Action      0.57      0.44      0.00         0.27          73.0   \n",
       "1585     Action      1.17      0.07      0.00         0.01           NaN   \n",
       "1609     Action      0.69      0.42      0.00         0.12          76.0   \n",
       "1650     Racing      0.60      0.46      0.00         0.16          84.0   \n",
       "1699     Action      0.76      0.38      0.00         0.05          84.0   \n",
       "1840       Misc      0.71      0.06      0.00         0.35          82.0   \n",
       "\n",
       "     user_score rating  \n",
       "183         8.5      E  \n",
       "377         6.4      E  \n",
       "456         7.9   E10+  \n",
       "475         NaN    NaN  \n",
       "609         NaN    NaN  \n",
       "627         8.2      T  \n",
       "657         tbd      E  \n",
       "678         6.6   E10+  \n",
       "719         6.7      T  \n",
       "805         6.3      T  \n",
       "1131        5.2      M  \n",
       "1142        8.4      T  \n",
       "1301        NaN    NaN  \n",
       "1506        NaN    NaN  \n",
       "1538        7.4   E10+  \n",
       "1585        NaN    NaN  \n",
       "1609        7.8   E10+  \n",
       "1650        8.7      E  \n",
       "1699          8      M  \n",
       "1840        6.8      T  "
      ]
     },
     "execution_count": 8,
     "metadata": {},
     "output_type": "execute_result"
    }
   ],
   "source": [
    "# Общая информация\n",
    "display(df['year_of_release'].describe())\n",
    "display(df['year_of_release'].value_counts())\n",
    "df.query('year_of_release.isna()').head(20)"
   ]
  },
  {
   "cell_type": "markdown",
   "metadata": {},
   "source": [
    "Пропусков чуть больше 1.5%, а корректно заполнить их возможно только вручную. Поэтому я пожертвую этой частью данных, просто удалю.   \n",
    "Оставшиеся значения преобразую в тип ```int```, т.к. указан только год."
   ]
  },
  {
   "cell_type": "code",
   "execution_count": 9,
   "metadata": {},
   "outputs": [
    {
     "name": "stdout",
     "output_type": "stream",
     "text": [
      "<class 'pandas.core.frame.DataFrame'>\n",
      "Int64Index: 16444 entries, 0 to 16714\n",
      "Data columns (total 11 columns):\n",
      " #   Column           Non-Null Count  Dtype  \n",
      "---  ------           --------------  -----  \n",
      " 0   name             16444 non-null  object \n",
      " 1   platform         16444 non-null  object \n",
      " 2   year_of_release  16444 non-null  int64  \n",
      " 3   genre            16444 non-null  object \n",
      " 4   na_sales         16444 non-null  float64\n",
      " 5   eu_sales         16444 non-null  float64\n",
      " 6   jp_sales         16444 non-null  float64\n",
      " 7   other_sales      16444 non-null  float64\n",
      " 8   critic_score     7983 non-null   float64\n",
      " 9   user_score       9839 non-null   object \n",
      " 10  rating           9768 non-null   object \n",
      "dtypes: float64(5), int64(1), object(5)\n",
      "memory usage: 1.5+ MB\n"
     ]
    }
   ],
   "source": [
    "df = df.dropna(subset=['year_of_release'])\n",
    "df['year_of_release'] = df['year_of_release'].apply(int)\n",
    "df.info()"
   ]
  },
  {
   "cell_type": "markdown",
   "metadata": {},
   "source": [
    "#### genre"
   ]
  },
  {
   "cell_type": "code",
   "execution_count": 10,
   "metadata": {},
   "outputs": [
    {
     "data": {
      "text/plain": [
       "Action          3307\n",
       "Sports          2306\n",
       "Misc            1721\n",
       "Role-Playing    1481\n",
       "Shooter         1296\n",
       "Adventure       1293\n",
       "Racing          1226\n",
       "Platform         878\n",
       "Simulation       857\n",
       "Fighting         837\n",
       "Strategy         673\n",
       "Puzzle           569\n",
       "Name: genre, dtype: int64"
      ]
     },
     "execution_count": 10,
     "metadata": {},
     "output_type": "execute_result"
    }
   ],
   "source": [
    "df['genre'].describe()\n",
    "df['genre'].value_counts()"
   ]
  },
  {
   "cell_type": "markdown",
   "metadata": {},
   "source": [
    "#### sales"
   ]
  },
  {
   "cell_type": "code",
   "execution_count": 11,
   "metadata": {},
   "outputs": [
    {
     "data": {
      "text/plain": [
       "count    16444.000000\n",
       "mean         0.264012\n",
       "std          0.818378\n",
       "min          0.000000\n",
       "25%          0.000000\n",
       "50%          0.080000\n",
       "75%          0.240000\n",
       "max         41.360000\n",
       "Name: na_sales, dtype: float64"
      ]
     },
     "metadata": {},
     "output_type": "display_data"
    },
    {
     "data": {
      "text/plain": [
       "count    16444.000000\n",
       "mean         0.145930\n",
       "std          0.506716\n",
       "min          0.000000\n",
       "25%          0.000000\n",
       "50%          0.020000\n",
       "75%          0.110000\n",
       "max         28.960000\n",
       "Name: eu_sales, dtype: float64"
      ]
     },
     "metadata": {},
     "output_type": "display_data"
    },
    {
     "data": {
      "text/plain": [
       "count    16444.000000\n",
       "mean         0.078487\n",
       "std          0.311100\n",
       "min          0.000000\n",
       "25%          0.000000\n",
       "50%          0.000000\n",
       "75%          0.040000\n",
       "max         10.220000\n",
       "Name: jp_sales, dtype: float64"
      ]
     },
     "metadata": {},
     "output_type": "display_data"
    },
    {
     "data": {
      "text/plain": [
       "count    16444.000000\n",
       "mean         0.047594\n",
       "std          0.188005\n",
       "min          0.000000\n",
       "25%          0.000000\n",
       "50%          0.010000\n",
       "75%          0.030000\n",
       "max         10.570000\n",
       "Name: other_sales, dtype: float64"
      ]
     },
     "metadata": {},
     "output_type": "display_data"
    }
   ],
   "source": [
    "for sale in ['na_sales', 'eu_sales', 'jp_sales', 'other_sales']:\n",
    "    display(df[sale].describe())"
   ]
  },
  {
   "cell_type": "markdown",
   "metadata": {},
   "source": [
    "#### score\n",
    "В оценках критиков и пользователей есть большое число пропущенных значений. Т.к. в данном случае отсутствие значения не указывает на совсем высокий или низкий рейтинг, то просто заменить его каким-либо другим я тоже не могу. Тем не менее посмотрю на оценки в различных разрезах, чтобы лучше понять ситуацию."
   ]
  },
  {
   "cell_type": "code",
   "execution_count": 12,
   "metadata": {},
   "outputs": [
    {
     "data": {
      "text/html": [
       "<div>\n",
       "<style scoped>\n",
       "    .dataframe tbody tr th:only-of-type {\n",
       "        vertical-align: middle;\n",
       "    }\n",
       "\n",
       "    .dataframe tbody tr th {\n",
       "        vertical-align: top;\n",
       "    }\n",
       "\n",
       "    .dataframe thead th {\n",
       "        text-align: right;\n",
       "    }\n",
       "</style>\n",
       "<table border=\"1\" class=\"dataframe\">\n",
       "  <thead>\n",
       "    <tr style=\"text-align: right;\">\n",
       "      <th></th>\n",
       "      <th>name</th>\n",
       "      <th>platform</th>\n",
       "      <th>year_of_release</th>\n",
       "      <th>genre</th>\n",
       "      <th>na_sales</th>\n",
       "      <th>eu_sales</th>\n",
       "      <th>jp_sales</th>\n",
       "      <th>other_sales</th>\n",
       "      <th>critic_score</th>\n",
       "      <th>user_score</th>\n",
       "      <th>rating</th>\n",
       "    </tr>\n",
       "  </thead>\n",
       "  <tbody>\n",
       "    <tr>\n",
       "      <th>119</th>\n",
       "      <td>Zumba Fitness</td>\n",
       "      <td>Wii</td>\n",
       "      <td>2010</td>\n",
       "      <td>Sports</td>\n",
       "      <td>3.45</td>\n",
       "      <td>2.59</td>\n",
       "      <td>0.00</td>\n",
       "      <td>0.66</td>\n",
       "      <td>NaN</td>\n",
       "      <td>tbd</td>\n",
       "      <td>E</td>\n",
       "    </tr>\n",
       "    <tr>\n",
       "      <th>255</th>\n",
       "      <td>Call of Duty: Advanced Warfare</td>\n",
       "      <td>PS3</td>\n",
       "      <td>2014</td>\n",
       "      <td>Shooter</td>\n",
       "      <td>1.56</td>\n",
       "      <td>1.93</td>\n",
       "      <td>0.19</td>\n",
       "      <td>0.68</td>\n",
       "      <td>NaN</td>\n",
       "      <td>4.8</td>\n",
       "      <td>M</td>\n",
       "    </tr>\n",
       "    <tr>\n",
       "      <th>263</th>\n",
       "      <td>Call of Duty: Advanced Warfare</td>\n",
       "      <td>X360</td>\n",
       "      <td>2014</td>\n",
       "      <td>Shooter</td>\n",
       "      <td>2.77</td>\n",
       "      <td>1.11</td>\n",
       "      <td>0.00</td>\n",
       "      <td>0.40</td>\n",
       "      <td>NaN</td>\n",
       "      <td>4.9</td>\n",
       "      <td>M</td>\n",
       "    </tr>\n",
       "    <tr>\n",
       "      <th>264</th>\n",
       "      <td>FIFA 15</td>\n",
       "      <td>PS3</td>\n",
       "      <td>2014</td>\n",
       "      <td>Sports</td>\n",
       "      <td>0.58</td>\n",
       "      <td>3.02</td>\n",
       "      <td>0.04</td>\n",
       "      <td>0.64</td>\n",
       "      <td>NaN</td>\n",
       "      <td>4.5</td>\n",
       "      <td>E</td>\n",
       "    </tr>\n",
       "    <tr>\n",
       "      <th>291</th>\n",
       "      <td>World Soccer Winning Eleven 9</td>\n",
       "      <td>PS2</td>\n",
       "      <td>2005</td>\n",
       "      <td>Sports</td>\n",
       "      <td>0.12</td>\n",
       "      <td>2.26</td>\n",
       "      <td>0.90</td>\n",
       "      <td>0.77</td>\n",
       "      <td>NaN</td>\n",
       "      <td>8.2</td>\n",
       "      <td>E</td>\n",
       "    </tr>\n",
       "    <tr>\n",
       "      <th>359</th>\n",
       "      <td>Just Dance 2014</td>\n",
       "      <td>Wii</td>\n",
       "      <td>2013</td>\n",
       "      <td>Misc</td>\n",
       "      <td>1.88</td>\n",
       "      <td>1.39</td>\n",
       "      <td>0.00</td>\n",
       "      <td>0.31</td>\n",
       "      <td>NaN</td>\n",
       "      <td>6.2</td>\n",
       "      <td>E10+</td>\n",
       "    </tr>\n",
       "    <tr>\n",
       "      <th>437</th>\n",
       "      <td>Club Penguin: Elite Penguin Force</td>\n",
       "      <td>DS</td>\n",
       "      <td>2008</td>\n",
       "      <td>Adventure</td>\n",
       "      <td>1.87</td>\n",
       "      <td>0.97</td>\n",
       "      <td>0.00</td>\n",
       "      <td>0.30</td>\n",
       "      <td>NaN</td>\n",
       "      <td>8</td>\n",
       "      <td>E</td>\n",
       "    </tr>\n",
       "    <tr>\n",
       "      <th>494</th>\n",
       "      <td>FIFA 15</td>\n",
       "      <td>X360</td>\n",
       "      <td>2014</td>\n",
       "      <td>Sports</td>\n",
       "      <td>0.79</td>\n",
       "      <td>1.92</td>\n",
       "      <td>0.00</td>\n",
       "      <td>0.21</td>\n",
       "      <td>NaN</td>\n",
       "      <td>4.2</td>\n",
       "      <td>E</td>\n",
       "    </tr>\n",
       "    <tr>\n",
       "      <th>505</th>\n",
       "      <td>Imagine: Babyz</td>\n",
       "      <td>DS</td>\n",
       "      <td>2007</td>\n",
       "      <td>Simulation</td>\n",
       "      <td>1.30</td>\n",
       "      <td>1.26</td>\n",
       "      <td>0.00</td>\n",
       "      <td>0.31</td>\n",
       "      <td>NaN</td>\n",
       "      <td>7.7</td>\n",
       "      <td>E</td>\n",
       "    </tr>\n",
       "    <tr>\n",
       "      <th>519</th>\n",
       "      <td>Finding Nemo</td>\n",
       "      <td>GBA</td>\n",
       "      <td>2003</td>\n",
       "      <td>Action</td>\n",
       "      <td>1.59</td>\n",
       "      <td>1.05</td>\n",
       "      <td>0.04</td>\n",
       "      <td>0.14</td>\n",
       "      <td>NaN</td>\n",
       "      <td>7</td>\n",
       "      <td>E</td>\n",
       "    </tr>\n",
       "    <tr>\n",
       "      <th>520</th>\n",
       "      <td>Zumba Fitness 2</td>\n",
       "      <td>Wii</td>\n",
       "      <td>2011</td>\n",
       "      <td>Sports</td>\n",
       "      <td>1.51</td>\n",
       "      <td>1.03</td>\n",
       "      <td>0.00</td>\n",
       "      <td>0.27</td>\n",
       "      <td>NaN</td>\n",
       "      <td>tbd</td>\n",
       "      <td>T</td>\n",
       "    </tr>\n",
       "    <tr>\n",
       "      <th>524</th>\n",
       "      <td>Imagine: Fashion Designer</td>\n",
       "      <td>DS</td>\n",
       "      <td>2007</td>\n",
       "      <td>Simulation</td>\n",
       "      <td>1.32</td>\n",
       "      <td>1.19</td>\n",
       "      <td>0.00</td>\n",
       "      <td>0.30</td>\n",
       "      <td>NaN</td>\n",
       "      <td>7.6</td>\n",
       "      <td>E</td>\n",
       "    </tr>\n",
       "    <tr>\n",
       "      <th>552</th>\n",
       "      <td>FIFA 16</td>\n",
       "      <td>PS3</td>\n",
       "      <td>2015</td>\n",
       "      <td>Sports</td>\n",
       "      <td>0.41</td>\n",
       "      <td>1.84</td>\n",
       "      <td>0.05</td>\n",
       "      <td>0.40</td>\n",
       "      <td>NaN</td>\n",
       "      <td>3.2</td>\n",
       "      <td>E</td>\n",
       "    </tr>\n",
       "    <tr>\n",
       "      <th>572</th>\n",
       "      <td>Hannah Montana</td>\n",
       "      <td>DS</td>\n",
       "      <td>2006</td>\n",
       "      <td>Action</td>\n",
       "      <td>1.59</td>\n",
       "      <td>0.80</td>\n",
       "      <td>0.00</td>\n",
       "      <td>0.26</td>\n",
       "      <td>NaN</td>\n",
       "      <td>6.7</td>\n",
       "      <td>E</td>\n",
       "    </tr>\n",
       "    <tr>\n",
       "      <th>656</th>\n",
       "      <td>Theme Hospital</td>\n",
       "      <td>PC</td>\n",
       "      <td>1997</td>\n",
       "      <td>Strategy</td>\n",
       "      <td>2.30</td>\n",
       "      <td>0.10</td>\n",
       "      <td>0.00</td>\n",
       "      <td>0.00</td>\n",
       "      <td>NaN</td>\n",
       "      <td>9</td>\n",
       "      <td>K-A</td>\n",
       "    </tr>\n",
       "    <tr>\n",
       "      <th>682</th>\n",
       "      <td>My Fitness Coach</td>\n",
       "      <td>Wii</td>\n",
       "      <td>2008</td>\n",
       "      <td>Sports</td>\n",
       "      <td>1.18</td>\n",
       "      <td>0.90</td>\n",
       "      <td>0.00</td>\n",
       "      <td>0.24</td>\n",
       "      <td>NaN</td>\n",
       "      <td>8.6</td>\n",
       "      <td>E</td>\n",
       "    </tr>\n",
       "    <tr>\n",
       "      <th>693</th>\n",
       "      <td>Tomb Raider II</td>\n",
       "      <td>PC</td>\n",
       "      <td>1997</td>\n",
       "      <td>Action</td>\n",
       "      <td>0.91</td>\n",
       "      <td>1.25</td>\n",
       "      <td>0.00</td>\n",
       "      <td>0.13</td>\n",
       "      <td>NaN</td>\n",
       "      <td>8.3</td>\n",
       "      <td>NaN</td>\n",
       "    </tr>\n",
       "    <tr>\n",
       "      <th>718</th>\n",
       "      <td>Just Dance Kids</td>\n",
       "      <td>Wii</td>\n",
       "      <td>2010</td>\n",
       "      <td>Misc</td>\n",
       "      <td>1.52</td>\n",
       "      <td>0.54</td>\n",
       "      <td>0.00</td>\n",
       "      <td>0.18</td>\n",
       "      <td>NaN</td>\n",
       "      <td>tbd</td>\n",
       "      <td>E</td>\n",
       "    </tr>\n",
       "    <tr>\n",
       "      <th>721</th>\n",
       "      <td>Assassin's Creed IV: Black Flag</td>\n",
       "      <td>XOne</td>\n",
       "      <td>2013</td>\n",
       "      <td>Action</td>\n",
       "      <td>1.48</td>\n",
       "      <td>0.55</td>\n",
       "      <td>0.00</td>\n",
       "      <td>0.21</td>\n",
       "      <td>NaN</td>\n",
       "      <td>7.4</td>\n",
       "      <td>M</td>\n",
       "    </tr>\n",
       "    <tr>\n",
       "      <th>726</th>\n",
       "      <td>Dance Dance Revolution X2</td>\n",
       "      <td>PS2</td>\n",
       "      <td>2009</td>\n",
       "      <td>Simulation</td>\n",
       "      <td>1.09</td>\n",
       "      <td>0.85</td>\n",
       "      <td>0.00</td>\n",
       "      <td>0.28</td>\n",
       "      <td>NaN</td>\n",
       "      <td>tbd</td>\n",
       "      <td>E10+</td>\n",
       "    </tr>\n",
       "  </tbody>\n",
       "</table>\n",
       "</div>"
      ],
      "text/plain": [
       "                                  name platform  year_of_release       genre  \\\n",
       "119                      Zumba Fitness      Wii             2010      Sports   \n",
       "255     Call of Duty: Advanced Warfare      PS3             2014     Shooter   \n",
       "263     Call of Duty: Advanced Warfare     X360             2014     Shooter   \n",
       "264                            FIFA 15      PS3             2014      Sports   \n",
       "291      World Soccer Winning Eleven 9      PS2             2005      Sports   \n",
       "359                    Just Dance 2014      Wii             2013        Misc   \n",
       "437  Club Penguin: Elite Penguin Force       DS             2008   Adventure   \n",
       "494                            FIFA 15     X360             2014      Sports   \n",
       "505                     Imagine: Babyz       DS             2007  Simulation   \n",
       "519                       Finding Nemo      GBA             2003      Action   \n",
       "520                    Zumba Fitness 2      Wii             2011      Sports   \n",
       "524          Imagine: Fashion Designer       DS             2007  Simulation   \n",
       "552                            FIFA 16      PS3             2015      Sports   \n",
       "572                     Hannah Montana       DS             2006      Action   \n",
       "656                     Theme Hospital       PC             1997    Strategy   \n",
       "682                   My Fitness Coach      Wii             2008      Sports   \n",
       "693                     Tomb Raider II       PC             1997      Action   \n",
       "718                    Just Dance Kids      Wii             2010        Misc   \n",
       "721    Assassin's Creed IV: Black Flag     XOne             2013      Action   \n",
       "726          Dance Dance Revolution X2      PS2             2009  Simulation   \n",
       "\n",
       "     na_sales  eu_sales  jp_sales  other_sales  critic_score user_score rating  \n",
       "119      3.45      2.59      0.00         0.66           NaN        tbd      E  \n",
       "255      1.56      1.93      0.19         0.68           NaN        4.8      M  \n",
       "263      2.77      1.11      0.00         0.40           NaN        4.9      M  \n",
       "264      0.58      3.02      0.04         0.64           NaN        4.5      E  \n",
       "291      0.12      2.26      0.90         0.77           NaN        8.2      E  \n",
       "359      1.88      1.39      0.00         0.31           NaN        6.2   E10+  \n",
       "437      1.87      0.97      0.00         0.30           NaN          8      E  \n",
       "494      0.79      1.92      0.00         0.21           NaN        4.2      E  \n",
       "505      1.30      1.26      0.00         0.31           NaN        7.7      E  \n",
       "519      1.59      1.05      0.04         0.14           NaN          7      E  \n",
       "520      1.51      1.03      0.00         0.27           NaN        tbd      T  \n",
       "524      1.32      1.19      0.00         0.30           NaN        7.6      E  \n",
       "552      0.41      1.84      0.05         0.40           NaN        3.2      E  \n",
       "572      1.59      0.80      0.00         0.26           NaN        6.7      E  \n",
       "656      2.30      0.10      0.00         0.00           NaN          9    K-A  \n",
       "682      1.18      0.90      0.00         0.24           NaN        8.6      E  \n",
       "693      0.91      1.25      0.00         0.13           NaN        8.3    NaN  \n",
       "718      1.52      0.54      0.00         0.18           NaN        tbd      E  \n",
       "721      1.48      0.55      0.00         0.21           NaN        7.4      M  \n",
       "726      1.09      0.85      0.00         0.28           NaN        tbd   E10+  "
      ]
     },
     "metadata": {},
     "output_type": "display_data"
    },
    {
     "data": {
      "text/html": [
       "<div>\n",
       "<style scoped>\n",
       "    .dataframe tbody tr th:only-of-type {\n",
       "        vertical-align: middle;\n",
       "    }\n",
       "\n",
       "    .dataframe tbody tr th {\n",
       "        vertical-align: top;\n",
       "    }\n",
       "\n",
       "    .dataframe thead th {\n",
       "        text-align: right;\n",
       "    }\n",
       "</style>\n",
       "<table border=\"1\" class=\"dataframe\">\n",
       "  <thead>\n",
       "    <tr style=\"text-align: right;\">\n",
       "      <th></th>\n",
       "      <th>name</th>\n",
       "      <th>platform</th>\n",
       "      <th>year_of_release</th>\n",
       "      <th>genre</th>\n",
       "      <th>na_sales</th>\n",
       "      <th>eu_sales</th>\n",
       "      <th>jp_sales</th>\n",
       "      <th>other_sales</th>\n",
       "      <th>critic_score</th>\n",
       "      <th>user_score</th>\n",
       "      <th>rating</th>\n",
       "    </tr>\n",
       "  </thead>\n",
       "  <tbody>\n",
       "    <tr>\n",
       "      <th>119</th>\n",
       "      <td>Zumba Fitness</td>\n",
       "      <td>Wii</td>\n",
       "      <td>2010</td>\n",
       "      <td>Sports</td>\n",
       "      <td>3.45</td>\n",
       "      <td>2.59</td>\n",
       "      <td>0.0</td>\n",
       "      <td>0.66</td>\n",
       "      <td>NaN</td>\n",
       "      <td>tbd</td>\n",
       "      <td>E</td>\n",
       "    </tr>\n",
       "    <tr>\n",
       "      <th>520</th>\n",
       "      <td>Zumba Fitness 2</td>\n",
       "      <td>Wii</td>\n",
       "      <td>2011</td>\n",
       "      <td>Sports</td>\n",
       "      <td>1.51</td>\n",
       "      <td>1.03</td>\n",
       "      <td>0.0</td>\n",
       "      <td>0.27</td>\n",
       "      <td>NaN</td>\n",
       "      <td>tbd</td>\n",
       "      <td>T</td>\n",
       "    </tr>\n",
       "    <tr>\n",
       "      <th>718</th>\n",
       "      <td>Just Dance Kids</td>\n",
       "      <td>Wii</td>\n",
       "      <td>2010</td>\n",
       "      <td>Misc</td>\n",
       "      <td>1.52</td>\n",
       "      <td>0.54</td>\n",
       "      <td>0.0</td>\n",
       "      <td>0.18</td>\n",
       "      <td>NaN</td>\n",
       "      <td>tbd</td>\n",
       "      <td>E</td>\n",
       "    </tr>\n",
       "    <tr>\n",
       "      <th>726</th>\n",
       "      <td>Dance Dance Revolution X2</td>\n",
       "      <td>PS2</td>\n",
       "      <td>2009</td>\n",
       "      <td>Simulation</td>\n",
       "      <td>1.09</td>\n",
       "      <td>0.85</td>\n",
       "      <td>0.0</td>\n",
       "      <td>0.28</td>\n",
       "      <td>NaN</td>\n",
       "      <td>tbd</td>\n",
       "      <td>E10+</td>\n",
       "    </tr>\n",
       "    <tr>\n",
       "      <th>881</th>\n",
       "      <td>Who wants to be a millionaire</td>\n",
       "      <td>PC</td>\n",
       "      <td>1999</td>\n",
       "      <td>Misc</td>\n",
       "      <td>1.94</td>\n",
       "      <td>0.00</td>\n",
       "      <td>0.0</td>\n",
       "      <td>0.00</td>\n",
       "      <td>NaN</td>\n",
       "      <td>tbd</td>\n",
       "      <td>E</td>\n",
       "    </tr>\n",
       "    <tr>\n",
       "      <th>...</th>\n",
       "      <td>...</td>\n",
       "      <td>...</td>\n",
       "      <td>...</td>\n",
       "      <td>...</td>\n",
       "      <td>...</td>\n",
       "      <td>...</td>\n",
       "      <td>...</td>\n",
       "      <td>...</td>\n",
       "      <td>...</td>\n",
       "      <td>...</td>\n",
       "      <td>...</td>\n",
       "    </tr>\n",
       "    <tr>\n",
       "      <th>16655</th>\n",
       "      <td>Summer Athletics</td>\n",
       "      <td>PC</td>\n",
       "      <td>2008</td>\n",
       "      <td>Sports</td>\n",
       "      <td>0.00</td>\n",
       "      <td>0.01</td>\n",
       "      <td>0.0</td>\n",
       "      <td>0.00</td>\n",
       "      <td>NaN</td>\n",
       "      <td>tbd</td>\n",
       "      <td>NaN</td>\n",
       "    </tr>\n",
       "    <tr>\n",
       "      <th>16672</th>\n",
       "      <td>Metal Gear Solid V: The Definitive Experience</td>\n",
       "      <td>XOne</td>\n",
       "      <td>2016</td>\n",
       "      <td>Action</td>\n",
       "      <td>0.01</td>\n",
       "      <td>0.00</td>\n",
       "      <td>0.0</td>\n",
       "      <td>0.00</td>\n",
       "      <td>NaN</td>\n",
       "      <td>tbd</td>\n",
       "      <td>M</td>\n",
       "    </tr>\n",
       "    <tr>\n",
       "      <th>16688</th>\n",
       "      <td>Outdoors Unleashed: Africa 3D</td>\n",
       "      <td>3DS</td>\n",
       "      <td>2011</td>\n",
       "      <td>Sports</td>\n",
       "      <td>0.01</td>\n",
       "      <td>0.00</td>\n",
       "      <td>0.0</td>\n",
       "      <td>0.00</td>\n",
       "      <td>NaN</td>\n",
       "      <td>tbd</td>\n",
       "      <td>T</td>\n",
       "    </tr>\n",
       "    <tr>\n",
       "      <th>16704</th>\n",
       "      <td>Plushees</td>\n",
       "      <td>DS</td>\n",
       "      <td>2008</td>\n",
       "      <td>Simulation</td>\n",
       "      <td>0.01</td>\n",
       "      <td>0.00</td>\n",
       "      <td>0.0</td>\n",
       "      <td>0.00</td>\n",
       "      <td>NaN</td>\n",
       "      <td>tbd</td>\n",
       "      <td>E</td>\n",
       "    </tr>\n",
       "    <tr>\n",
       "      <th>16706</th>\n",
       "      <td>Men in Black II: Alien Escape</td>\n",
       "      <td>GC</td>\n",
       "      <td>2003</td>\n",
       "      <td>Shooter</td>\n",
       "      <td>0.01</td>\n",
       "      <td>0.00</td>\n",
       "      <td>0.0</td>\n",
       "      <td>0.00</td>\n",
       "      <td>NaN</td>\n",
       "      <td>tbd</td>\n",
       "      <td>T</td>\n",
       "    </tr>\n",
       "  </tbody>\n",
       "</table>\n",
       "<p>1320 rows × 11 columns</p>\n",
       "</div>"
      ],
      "text/plain": [
       "                                                name platform  \\\n",
       "119                                    Zumba Fitness      Wii   \n",
       "520                                  Zumba Fitness 2      Wii   \n",
       "718                                  Just Dance Kids      Wii   \n",
       "726                        Dance Dance Revolution X2      PS2   \n",
       "881                    Who wants to be a millionaire       PC   \n",
       "...                                              ...      ...   \n",
       "16655                               Summer Athletics       PC   \n",
       "16672  Metal Gear Solid V: The Definitive Experience     XOne   \n",
       "16688                  Outdoors Unleashed: Africa 3D      3DS   \n",
       "16704                                       Plushees       DS   \n",
       "16706                  Men in Black II: Alien Escape       GC   \n",
       "\n",
       "       year_of_release       genre  na_sales  eu_sales  jp_sales  other_sales  \\\n",
       "119               2010      Sports      3.45      2.59       0.0         0.66   \n",
       "520               2011      Sports      1.51      1.03       0.0         0.27   \n",
       "718               2010        Misc      1.52      0.54       0.0         0.18   \n",
       "726               2009  Simulation      1.09      0.85       0.0         0.28   \n",
       "881               1999        Misc      1.94      0.00       0.0         0.00   \n",
       "...                ...         ...       ...       ...       ...          ...   \n",
       "16655             2008      Sports      0.00      0.01       0.0         0.00   \n",
       "16672             2016      Action      0.01      0.00       0.0         0.00   \n",
       "16688             2011      Sports      0.01      0.00       0.0         0.00   \n",
       "16704             2008  Simulation      0.01      0.00       0.0         0.00   \n",
       "16706             2003     Shooter      0.01      0.00       0.0         0.00   \n",
       "\n",
       "       critic_score user_score rating  \n",
       "119             NaN        tbd      E  \n",
       "520             NaN        tbd      T  \n",
       "718             NaN        tbd      E  \n",
       "726             NaN        tbd   E10+  \n",
       "881             NaN        tbd      E  \n",
       "...             ...        ...    ...  \n",
       "16655           NaN        tbd    NaN  \n",
       "16672           NaN        tbd      M  \n",
       "16688           NaN        tbd      T  \n",
       "16704           NaN        tbd      E  \n",
       "16706           NaN        tbd      T  \n",
       "\n",
       "[1320 rows x 11 columns]"
      ]
     },
     "metadata": {},
     "output_type": "display_data"
    }
   ],
   "source": [
    "display(df.query('critic_score.isna() and not user_score.isna()').head(20))\n",
    "display(df.query('critic_score.isna() and user_score == \"tbd\"'))"
   ]
  },
  {
   "cell_type": "markdown",
   "metadata": {},
   "source": [
    "TBD = to be determine, т.е. рейтинг отсутствует. Т.к. запись tbd будет мешать анализу, являясь по сути отсутствующим значением, заменю его на NaN."
   ]
  },
  {
   "cell_type": "code",
   "execution_count": 13,
   "metadata": {},
   "outputs": [
    {
     "name": "stdout",
     "output_type": "stream",
     "text": [
      "<class 'pandas.core.frame.DataFrame'>\n",
      "Int64Index: 16444 entries, 0 to 16714\n",
      "Data columns (total 11 columns):\n",
      " #   Column           Non-Null Count  Dtype  \n",
      "---  ------           --------------  -----  \n",
      " 0   name             16444 non-null  object \n",
      " 1   platform         16444 non-null  object \n",
      " 2   year_of_release  16444 non-null  int64  \n",
      " 3   genre            16444 non-null  object \n",
      " 4   na_sales         16444 non-null  float64\n",
      " 5   eu_sales         16444 non-null  float64\n",
      " 6   jp_sales         16444 non-null  float64\n",
      " 7   other_sales      16444 non-null  float64\n",
      " 8   critic_score     7983 non-null   float64\n",
      " 9   user_score       7463 non-null   object \n",
      " 10  rating           9768 non-null   object \n",
      "dtypes: float64(5), int64(1), object(5)\n",
      "memory usage: 1.5+ MB\n"
     ]
    }
   ],
   "source": [
    "df['user_score'] = df['user_score'].replace('tbd', np.nan)\n",
    "df.info() # Проверка\n",
    "df['user_score'] = df['user_score'].astype(float) # К числовому типу"
   ]
  },
  {
   "cell_type": "markdown",
   "metadata": {},
   "source": [
    "Подсчет суммарных продаж по всем регионам."
   ]
  },
  {
   "cell_type": "code",
   "execution_count": 14,
   "metadata": {
    "scrolled": true
   },
   "outputs": [
    {
     "data": {
      "text/plain": [
       "count    16444.000000\n",
       "mean         0.536023\n",
       "std          1.558786\n",
       "min          0.000000\n",
       "25%          0.060000\n",
       "50%          0.170000\n",
       "75%          0.470000\n",
       "max         82.540000\n",
       "Name: total_sales, dtype: float64"
      ]
     },
     "execution_count": 14,
     "metadata": {},
     "output_type": "execute_result"
    }
   ],
   "source": [
    "df['total_sales'] = df['na_sales'] + df['eu_sales'] + df['jp_sales'] + df['other_sales']\n",
    "df['total_sales'].describe() #Проверка"
   ]
  },
  {
   "cell_type": "markdown",
   "metadata": {},
   "source": [
    "#### rating"
   ]
  },
  {
   "cell_type": "code",
   "execution_count": 15,
   "metadata": {
    "scrolled": true
   },
   "outputs": [
    {
     "data": {
      "text/plain": [
       "count     9768\n",
       "unique       8\n",
       "top          E\n",
       "freq      3921\n",
       "Name: rating, dtype: object"
      ]
     },
     "metadata": {},
     "output_type": "display_data"
    },
    {
     "data": {
      "text/plain": [
       "E       3921\n",
       "T       2905\n",
       "M       1536\n",
       "E10+    1393\n",
       "EC         8\n",
       "K-A        3\n",
       "AO         1\n",
       "RP         1\n",
       "Name: rating, dtype: int64"
      ]
     },
     "metadata": {},
     "output_type": "display_data"
    },
    {
     "data": {
      "text/plain": [
       "6676"
      ]
     },
     "metadata": {},
     "output_type": "display_data"
    }
   ],
   "source": [
    "display(df['rating'].describe())\n",
    "display(df['rating'].value_counts())\n",
    "display(df['rating'].isna().sum())"
   ]
  },
  {
   "cell_type": "markdown",
   "metadata": {},
   "source": [
    "В столбце есть много отсутствующих значений. При этом также есть уник RP, что означает rating pending(ожидает рейтинга). Т.к. тут суть одианкова - рейтинга еще нет, то вполне могу заменить пустые значения на RP."
   ]
  },
  {
   "cell_type": "code",
   "execution_count": 16,
   "metadata": {},
   "outputs": [
    {
     "data": {
      "text/plain": [
       "count     16444\n",
       "unique        8\n",
       "top          RP\n",
       "freq       6677\n",
       "Name: rating, dtype: object"
      ]
     },
     "execution_count": 16,
     "metadata": {},
     "output_type": "execute_result"
    }
   ],
   "source": [
    "df['rating'] = df['rating'].fillna('RP')\n",
    "df['rating'].describe()"
   ]
  },
  {
   "cell_type": "markdown",
   "metadata": {},
   "source": [
    "#### Вывод 1\n",
    "При подготовке данных выявил и поправил следующие моменты:   \n",
    "- привел названия столбцов к нижнему регистру\n",
    "- удалил строки с отсутствующим названием игр и неизвестной датой выхода\n",
    "- заменил в пользовательской оценке значения TBD на NaN\n",
    "- заполнил пропуски в rating на RP\n",
    "- посчитал суммарные продажи\n",
    "\n",
    "Такое количество пропусков в оценках, думаю, связано с тем, что система оценок и рейтинги игр появились сравнительно недавно, а игры в датасете есть и весьма старые, которые не успели/не получали оценок ни пользователей ни критиков позднее."
   ]
  },
  {
   "cell_type": "markdown",
   "metadata": {},
   "source": [
    "### Исследовательский анализ данных\n",
    "#### Динамика продаж\n",
    "Сперва посмотрю на динамику выхода игр по годам. Меня интересует только 2016г., но тренд важен."
   ]
  },
  {
   "cell_type": "code",
   "execution_count": 17,
   "metadata": {
    "scrolled": false
   },
   "outputs": [
    {
     "data": {
      "text/html": [
       "<div>\n",
       "<style scoped>\n",
       "    .dataframe tbody tr th:only-of-type {\n",
       "        vertical-align: middle;\n",
       "    }\n",
       "\n",
       "    .dataframe tbody tr th {\n",
       "        vertical-align: top;\n",
       "    }\n",
       "\n",
       "    .dataframe thead th {\n",
       "        text-align: right;\n",
       "    }\n",
       "</style>\n",
       "<table border=\"1\" class=\"dataframe\">\n",
       "  <thead>\n",
       "    <tr style=\"text-align: right;\">\n",
       "      <th></th>\n",
       "      <th>name</th>\n",
       "    </tr>\n",
       "    <tr>\n",
       "      <th>year_of_release</th>\n",
       "      <th></th>\n",
       "    </tr>\n",
       "  </thead>\n",
       "  <tbody>\n",
       "    <tr>\n",
       "      <th>1980</th>\n",
       "      <td>9</td>\n",
       "    </tr>\n",
       "    <tr>\n",
       "      <th>1981</th>\n",
       "      <td>46</td>\n",
       "    </tr>\n",
       "    <tr>\n",
       "      <th>1982</th>\n",
       "      <td>36</td>\n",
       "    </tr>\n",
       "    <tr>\n",
       "      <th>1983</th>\n",
       "      <td>17</td>\n",
       "    </tr>\n",
       "    <tr>\n",
       "      <th>1984</th>\n",
       "      <td>14</td>\n",
       "    </tr>\n",
       "    <tr>\n",
       "      <th>1985</th>\n",
       "      <td>14</td>\n",
       "    </tr>\n",
       "    <tr>\n",
       "      <th>1986</th>\n",
       "      <td>21</td>\n",
       "    </tr>\n",
       "    <tr>\n",
       "      <th>1987</th>\n",
       "      <td>16</td>\n",
       "    </tr>\n",
       "    <tr>\n",
       "      <th>1988</th>\n",
       "      <td>15</td>\n",
       "    </tr>\n",
       "    <tr>\n",
       "      <th>1989</th>\n",
       "      <td>17</td>\n",
       "    </tr>\n",
       "    <tr>\n",
       "      <th>1990</th>\n",
       "      <td>16</td>\n",
       "    </tr>\n",
       "    <tr>\n",
       "      <th>1991</th>\n",
       "      <td>41</td>\n",
       "    </tr>\n",
       "    <tr>\n",
       "      <th>1992</th>\n",
       "      <td>43</td>\n",
       "    </tr>\n",
       "    <tr>\n",
       "      <th>1993</th>\n",
       "      <td>60</td>\n",
       "    </tr>\n",
       "    <tr>\n",
       "      <th>1994</th>\n",
       "      <td>121</td>\n",
       "    </tr>\n",
       "    <tr>\n",
       "      <th>1995</th>\n",
       "      <td>219</td>\n",
       "    </tr>\n",
       "    <tr>\n",
       "      <th>1996</th>\n",
       "      <td>263</td>\n",
       "    </tr>\n",
       "    <tr>\n",
       "      <th>1997</th>\n",
       "      <td>289</td>\n",
       "    </tr>\n",
       "    <tr>\n",
       "      <th>1998</th>\n",
       "      <td>379</td>\n",
       "    </tr>\n",
       "    <tr>\n",
       "      <th>1999</th>\n",
       "      <td>338</td>\n",
       "    </tr>\n",
       "    <tr>\n",
       "      <th>2000</th>\n",
       "      <td>350</td>\n",
       "    </tr>\n",
       "    <tr>\n",
       "      <th>2001</th>\n",
       "      <td>482</td>\n",
       "    </tr>\n",
       "    <tr>\n",
       "      <th>2002</th>\n",
       "      <td>829</td>\n",
       "    </tr>\n",
       "    <tr>\n",
       "      <th>2003</th>\n",
       "      <td>775</td>\n",
       "    </tr>\n",
       "    <tr>\n",
       "      <th>2004</th>\n",
       "      <td>762</td>\n",
       "    </tr>\n",
       "    <tr>\n",
       "      <th>2005</th>\n",
       "      <td>939</td>\n",
       "    </tr>\n",
       "    <tr>\n",
       "      <th>2006</th>\n",
       "      <td>1006</td>\n",
       "    </tr>\n",
       "    <tr>\n",
       "      <th>2007</th>\n",
       "      <td>1197</td>\n",
       "    </tr>\n",
       "    <tr>\n",
       "      <th>2008</th>\n",
       "      <td>1427</td>\n",
       "    </tr>\n",
       "    <tr>\n",
       "      <th>2009</th>\n",
       "      <td>1426</td>\n",
       "    </tr>\n",
       "    <tr>\n",
       "      <th>2010</th>\n",
       "      <td>1255</td>\n",
       "    </tr>\n",
       "    <tr>\n",
       "      <th>2011</th>\n",
       "      <td>1136</td>\n",
       "    </tr>\n",
       "    <tr>\n",
       "      <th>2012</th>\n",
       "      <td>653</td>\n",
       "    </tr>\n",
       "    <tr>\n",
       "      <th>2013</th>\n",
       "      <td>544</td>\n",
       "    </tr>\n",
       "    <tr>\n",
       "      <th>2014</th>\n",
       "      <td>581</td>\n",
       "    </tr>\n",
       "    <tr>\n",
       "      <th>2015</th>\n",
       "      <td>606</td>\n",
       "    </tr>\n",
       "    <tr>\n",
       "      <th>2016</th>\n",
       "      <td>502</td>\n",
       "    </tr>\n",
       "  </tbody>\n",
       "</table>\n",
       "</div>"
      ],
      "text/plain": [
       "                 name\n",
       "year_of_release      \n",
       "1980                9\n",
       "1981               46\n",
       "1982               36\n",
       "1983               17\n",
       "1984               14\n",
       "1985               14\n",
       "1986               21\n",
       "1987               16\n",
       "1988               15\n",
       "1989               17\n",
       "1990               16\n",
       "1991               41\n",
       "1992               43\n",
       "1993               60\n",
       "1994              121\n",
       "1995              219\n",
       "1996              263\n",
       "1997              289\n",
       "1998              379\n",
       "1999              338\n",
       "2000              350\n",
       "2001              482\n",
       "2002              829\n",
       "2003              775\n",
       "2004              762\n",
       "2005              939\n",
       "2006             1006\n",
       "2007             1197\n",
       "2008             1427\n",
       "2009             1426\n",
       "2010             1255\n",
       "2011             1136\n",
       "2012              653\n",
       "2013              544\n",
       "2014              581\n",
       "2015              606\n",
       "2016              502"
      ]
     },
     "metadata": {},
     "output_type": "display_data"
    },
    {
     "data": {
      "text/plain": [
       "<AxesSubplot:title={'center':'График выхода игр по годам'}, xlabel='Дата выхода', ylabel='Количество'>"
      ]
     },
     "execution_count": 17,
     "metadata": {},
     "output_type": "execute_result"
    },
    {
     "data": {
      "image/png": "[encoded data removed]",
      "text/plain": [
       "<Figure size 864x576 with 1 Axes>"
      ]
     },
     "metadata": {
      "needs_background": "light"
     },
     "output_type": "display_data"
    }
   ],
   "source": [
    "release_stat = df.pivot_table(index = 'year_of_release', values = 'name', aggfunc = 'count')\n",
    "display(release_stat)\n",
    "\n",
    "# Отображу на графике\n",
    "release_stat.plot(\n",
    "    xlabel = 'Дата выхода',\n",
    "    ylabel = 'Количество',\n",
    "    title = 'График выхода игр по годам',\n",
    "    figsize = (12, 8),\n",
    "    grid = True\n",
    ")"
   ]
  },
  {
   "cell_type": "markdown",
   "metadata": {},
   "source": [
    "На графике четко виден рост выпуска игр с начала 90х годов. Объясняется развитием технологий: сперва переход с игровых автоматов на PC и приставки, далее развитие графики и носителей, совершенствование приставок и технологий производства. Также, полагаю, улучшается доступность игровых консолей и ПК, а значит увеличивается рынок сбыта.   \n",
    "Далее не стоит списывать со счетов развитие технологий широкополосного доступа в интернет, развитие мобильных платформ (Symbian, iOS, Android, J2EE и т.д.)   \n",
    "Спад после 2009г. можно объяснить не таким прорывным совершенствованием технологий как ранее.   \n",
    "   \n",
    "#### Популярность платформ\n",
    "Далее смотрю на популярность платформ."
   ]
  },
  {
   "cell_type": "code",
   "execution_count": 18,
   "metadata": {},
   "outputs": [
    {
     "data": {
      "text/html": [
       "<div>\n",
       "<style scoped>\n",
       "    .dataframe tbody tr th:only-of-type {\n",
       "        vertical-align: middle;\n",
       "    }\n",
       "\n",
       "    .dataframe tbody tr th {\n",
       "        vertical-align: top;\n",
       "    }\n",
       "\n",
       "    .dataframe thead th {\n",
       "        text-align: right;\n",
       "    }\n",
       "</style>\n",
       "<table border=\"1\" class=\"dataframe\">\n",
       "  <thead>\n",
       "    <tr style=\"text-align: right;\">\n",
       "      <th></th>\n",
       "      <th>total_sales</th>\n",
       "    </tr>\n",
       "    <tr>\n",
       "      <th>platform</th>\n",
       "      <th></th>\n",
       "    </tr>\n",
       "  </thead>\n",
       "  <tbody>\n",
       "    <tr>\n",
       "      <th>PS2</th>\n",
       "      <td>1233.56</td>\n",
       "    </tr>\n",
       "    <tr>\n",
       "      <th>X360</th>\n",
       "      <td>961.24</td>\n",
       "    </tr>\n",
       "    <tr>\n",
       "      <th>PS3</th>\n",
       "      <td>931.34</td>\n",
       "    </tr>\n",
       "    <tr>\n",
       "      <th>Wii</th>\n",
       "      <td>891.18</td>\n",
       "    </tr>\n",
       "    <tr>\n",
       "      <th>DS</th>\n",
       "      <td>802.78</td>\n",
       "    </tr>\n",
       "    <tr>\n",
       "      <th>PS</th>\n",
       "      <td>727.58</td>\n",
       "    </tr>\n",
       "    <tr>\n",
       "      <th>PS4</th>\n",
       "      <td>314.14</td>\n",
       "    </tr>\n",
       "    <tr>\n",
       "      <th>GBA</th>\n",
       "      <td>312.88</td>\n",
       "    </tr>\n",
       "    <tr>\n",
       "      <th>PSP</th>\n",
       "      <td>289.53</td>\n",
       "    </tr>\n",
       "    <tr>\n",
       "      <th>3DS</th>\n",
       "      <td>257.81</td>\n",
       "    </tr>\n",
       "  </tbody>\n",
       "</table>\n",
       "</div>"
      ],
      "text/plain": [
       "          total_sales\n",
       "platform             \n",
       "PS2           1233.56\n",
       "X360           961.24\n",
       "PS3            931.34\n",
       "Wii            891.18\n",
       "DS             802.78\n",
       "PS             727.58\n",
       "PS4            314.14\n",
       "GBA            312.88\n",
       "PSP            289.53\n",
       "3DS            257.81"
      ]
     },
     "metadata": {},
     "output_type": "display_data"
    },
    {
     "data": {
      "image/png": "[encoded data removed]",
      "text/plain": [
       "<Figure size 720x432 with 1 Axes>"
      ]
     },
     "metadata": {
      "needs_background": "light"
     },
     "output_type": "display_data"
    }
   ],
   "source": [
    "pop_platform = df.pivot_table(index = 'platform', values = 'total_sales', aggfunc = 'sum').sort_values(by='total_sales', ascending=False)\n",
    "pop_platform.plot(\n",
    "    kind = 'bar',\n",
    "    figsize = (10, 6),\n",
    "    title = 'Продажи по платформам',\n",
    "    xlabel = 'Платформа',\n",
    "    ylabel = 'Количество продаж'\n",
    ")\n",
    "display(pop_platform.head(10))"
   ]
  },
  {
   "cell_type": "markdown",
   "metadata": {},
   "source": [
    "Самыми популярнымы платформами являются:   \n",
    "1. PS2\n",
    "2. Xbox 360 (X360)\n",
    "3. PS3\n",
    "4. Wii\n",
    "5. DS\n",
    "6. PS"
   ]
  },
  {
   "cell_type": "markdown",
   "metadata": {},
   "source": [
    "Чтобы понять какие платформы сейчас актуальны и выбрать актуальный период для анализа, нужно понять время, за которое платформа устаревает. Для этого построю распределения продаж игр по годам."
   ]
  },
  {
   "cell_type": "code",
   "execution_count": 19,
   "metadata": {
    "scrolled": false
   },
   "outputs": [
    {
     "name": "stderr",
     "output_type": "stream",
     "text": [
      "/opt/anaconda3/lib/python3.9/site-packages/pandas/plotting/_matplotlib/core.py:386: RuntimeWarning: More than 20 figures have been opened. Figures created through the pyplot interface (`matplotlib.pyplot.figure`) are retained until explicitly closed and may consume too much memory. (To control this warning, see the rcParam `figure.max_open_warning`).\n",
      "  fig = self.plt.figure(figsize=self.figsize)\n"
     ]
    },
    {
     "data": {
      "image/png": "[encoded data removed]",
      "text/plain": [
       "<Figure size 720x432 with 1 Axes>"
      ]
     },
     "metadata": {
      "needs_background": "light"
     },
     "output_type": "display_data"
    },
    {
     "data": {
      "image/png": "[encoded data removed]",
      "text/plain": [
       "<Figure size 720x432 with 1 Axes>"
      ]
     },
     "metadata": {
      "needs_background": "light"
     },
     "output_type": "display_data"
    },
    {
     "data": {
      "image/png": "[encoded data removed]",
      "text/plain": [
       "<Figure size 720x432 with 1 Axes>"
      ]
     },
     "metadata": {
      "needs_background": "light"
     },
     "output_type": "display_data"
    },
    {
     "data": {
      "image/png": "[encoded data removed]",
      "text/plain": [
       "<Figure size 720x432 with 1 Axes>"
      ]
     },
     "metadata": {
      "needs_background": "light"
     },
     "output_type": "display_data"
    },
    {
     "data": {
      "image/png": "[encoded data removed]",
      "text/plain": [
       "<Figure size 720x432 with 1 Axes>"
      ]
     },
     "metadata": {
      "needs_background": "light"
     },
     "output_type": "display_data"
    },
    {
     "data": {
      "image/png": "[encoded data removed]",
      "text/plain": [
       "<Figure size 720x432 with 1 Axes>"
      ]
     },
     "metadata": {
      "needs_background": "light"
     },
     "output_type": "display_data"
    },
    {
     "data": {
      "image/png": "[encoded data removed]",
      "text/plain": [
       "<Figure size 720x432 with 1 Axes>"
      ]
     },
     "metadata": {
      "needs_background": "light"
     },
     "output_type": "display_data"
    },
    {
     "data": {
      "image/png": "[encoded data removed]",
      "text/plain": [
       "<Figure size 720x432 with 1 Axes>"
      ]
     },
     "metadata": {
      "needs_background": "light"
     },
     "output_type": "display_data"
    },
    {
     "data": {
      "image/png": "[encoded data removed]",
      "text/plain": [
       "<Figure size 720x432 with 1 Axes>"
      ]
     },
     "metadata": {
      "needs_background": "light"
     },
     "output_type": "display_data"
    },
    {
     "data": {
      "image/png": "[encoded data removed]",
      "text/plain": [
       "<Figure size 720x432 with 1 Axes>"
      ]
     },
     "metadata": {
      "needs_background": "light"
     },
     "output_type": "display_data"
    },
    {
     "data": {
      "image/png": "[encoded data removed]",
      "text/plain": [
       "<Figure size 720x432 with 1 Axes>"
      ]
     },
     "metadata": {
      "needs_background": "light"
     },
     "output_type": "display_data"
    },
    {
     "data": {
      "image/png": "[encoded data removed]",
      "text/plain": [
       "<Figure size 720x432 with 1 Axes>"
      ]
     },
     "metadata": {
      "needs_background": "light"
     },
     "output_type": "display_data"
    },
    {
     "data": {
      "image/png": "[encoded data removed]",
      "text/plain": [
       "<Figure size 720x432 with 1 Axes>"
      ]
     },
     "metadata": {
      "needs_background": "light"
     },
     "output_type": "display_data"
    },
    {
     "data": {
      "image/png": "[encoded data removed]",
      "text/plain": [
       "<Figure size 720x432 with 1 Axes>"
      ]
     },
     "metadata": {
      "needs_background": "light"
     },
     "output_type": "display_data"
    },
    {
     "data": {
      "image/png": "[encoded data removed]",
      "text/plain": [
       "<Figure size 720x432 with 1 Axes>"
      ]
     },
     "metadata": {
      "needs_background": "light"
     },
     "output_type": "display_data"
    },
    {
     "data": {
      "image/png": "[encoded data removed]",
      "text/plain": [
       "<Figure size 720x432 with 1 Axes>"
      ]
     },
     "metadata": {
      "needs_background": "light"
     },
     "output_type": "display_data"
    },
    {
     "data": {
      "image/png": "[encoded data removed]",
      "text/plain": [
       "<Figure size 720x432 with 1 Axes>"
      ]
     },
     "metadata": {
      "needs_background": "light"
     },
     "output_type": "display_data"
    },
    {
     "data": {
      "image/png": "[encoded data removed]",
      "text/plain": [
       "<Figure size 720x432 with 1 Axes>"
      ]
     },
     "metadata": {
      "needs_background": "light"
     },
     "output_type": "display_data"
    },
    {
     "data": {
      "image/png": "[encoded data removed]",
      "text/plain": [
       "<Figure size 720x432 with 1 Axes>"
      ]
     },
     "metadata": {
      "needs_background": "light"
     },
     "output_type": "display_data"
    },
    {
     "data": {
      "image/png": "[encoded data removed]",
      "text/plain": [
       "<Figure size 720x432 with 1 Axes>"
      ]
     },
     "metadata": {
      "needs_background": "light"
     },
     "output_type": "display_data"
    },
    {
     "data": {
      "image/png": "[encoded data removed]",
      "text/plain": [
       "<Figure size 720x432 with 1 Axes>"
      ]
     },
     "metadata": {
      "needs_background": "light"
     },
     "output_type": "display_data"
    },
    {
     "data": {
      "image/png": "[encoded data removed]",
      "text/plain": [
       "<Figure size 720x432 with 1 Axes>"
      ]
     },
     "metadata": {
      "needs_background": "light"
     },
     "output_type": "display_data"
    },
    {
     "data": {
      "image/png": "[encoded data removed]",
      "text/plain": [
       "<Figure size 720x432 with 1 Axes>"
      ]
     },
     "metadata": {
      "needs_background": "light"
     },
     "output_type": "display_data"
    },
    {
     "data": {
      "image/png": "[encoded data removed]",
      "text/plain": [
       "<Figure size 720x432 with 1 Axes>"
      ]
     },
     "metadata": {
      "needs_background": "light"
     },
     "output_type": "display_data"
    },
    {
     "data": {
      "image/png": "[encoded data removed]",
      "text/plain": [
       "<Figure size 720x432 with 1 Axes>"
      ]
     },
     "metadata": {
      "needs_background": "light"
     },
     "output_type": "display_data"
    },
    {
     "data": {
      "image/png": "[encoded data removed]",
      "text/plain": [
       "<Figure size 720x432 with 1 Axes>"
      ]
     },
     "metadata": {
      "needs_background": "light"
     },
     "output_type": "display_data"
    },
    {
     "data": {
      "image/png": "[encoded data removed]",
      "text/plain": [
       "<Figure size 720x432 with 1 Axes>"
      ]
     },
     "metadata": {
      "needs_background": "light"
     },
     "output_type": "display_data"
    },
    {
     "data": {
      "image/png": "[encoded data removed]",
      "text/plain": [
       "<Figure size 720x432 with 1 Axes>"
      ]
     },
     "metadata": {
      "needs_background": "light"
     },
     "output_type": "display_data"
    },
    {
     "data": {
      "image/png": "[encoded data removed]",
      "text/plain": [
       "<Figure size 720x432 with 1 Axes>"
      ]
     },
     "metadata": {
      "needs_background": "light"
     },
     "output_type": "display_data"
    },
    {
     "data": {
      "image/png": "[encoded data removed]",
      "text/plain": [
       "<Figure size 720x432 with 1 Axes>"
      ]
     },
     "metadata": {
      "needs_background": "light"
     },
     "output_type": "display_data"
    },
    {
     "data": {
      "image/png": "[encoded data removed]",
      "text/plain": [
       "<Figure size 720x432 with 1 Axes>"
      ]
     },
     "metadata": {
      "needs_background": "light"
     },
     "output_type": "display_data"
    }
   ],
   "source": [
    "for platform in df['platform'].unique():\n",
    "    df[df['platform'] == platform].pivot_table(\n",
    "        index = 'year_of_release',\n",
    "        values = 'total_sales',\n",
    "        aggfunc = 'sum'\n",
    "    ).plot(\n",
    "        kind = 'bar',\n",
    "        figsize = (10, 6),\n",
    "        title = platform\n",
    "    )"
   ]
  },
  {
   "cell_type": "markdown",
   "metadata": {},
   "source": [
    "Выходит, что от появления платформы до ее полного устаревания проходит в среднем 8-10 лет, при этом на пике платформа держится 4-6 лет.\n",
    "В 2016 году 5 топ-платформ по продажам уже утратили свою актуальность. Их место заняли PS4, PC, 3DS, PS Vita, Xbox One, Wii U.\n",
    "Для дальнейшего исследования я возьму данные игр, которые выходили с 2013г., т.е. в 2016г. еще были актуальны."
   ]
  },
  {
   "cell_type": "code",
   "execution_count": 20,
   "metadata": {},
   "outputs": [
    {
     "data": {
      "text/html": [
       "<div>\n",
       "<style scoped>\n",
       "    .dataframe tbody tr th:only-of-type {\n",
       "        vertical-align: middle;\n",
       "    }\n",
       "\n",
       "    .dataframe tbody tr th {\n",
       "        vertical-align: top;\n",
       "    }\n",
       "\n",
       "    .dataframe thead th {\n",
       "        text-align: right;\n",
       "    }\n",
       "</style>\n",
       "<table border=\"1\" class=\"dataframe\">\n",
       "  <thead>\n",
       "    <tr style=\"text-align: right;\">\n",
       "      <th></th>\n",
       "      <th>name</th>\n",
       "      <th>platform</th>\n",
       "      <th>year_of_release</th>\n",
       "      <th>genre</th>\n",
       "      <th>na_sales</th>\n",
       "      <th>eu_sales</th>\n",
       "      <th>jp_sales</th>\n",
       "      <th>other_sales</th>\n",
       "      <th>critic_score</th>\n",
       "      <th>user_score</th>\n",
       "      <th>rating</th>\n",
       "      <th>total_sales</th>\n",
       "    </tr>\n",
       "  </thead>\n",
       "  <tbody>\n",
       "    <tr>\n",
       "      <th>16</th>\n",
       "      <td>Grand Theft Auto V</td>\n",
       "      <td>PS3</td>\n",
       "      <td>2013</td>\n",
       "      <td>Action</td>\n",
       "      <td>7.02</td>\n",
       "      <td>9.09</td>\n",
       "      <td>0.98</td>\n",
       "      <td>3.96</td>\n",
       "      <td>97.0</td>\n",
       "      <td>8.2</td>\n",
       "      <td>M</td>\n",
       "      <td>21.05</td>\n",
       "    </tr>\n",
       "    <tr>\n",
       "      <th>23</th>\n",
       "      <td>Grand Theft Auto V</td>\n",
       "      <td>X360</td>\n",
       "      <td>2013</td>\n",
       "      <td>Action</td>\n",
       "      <td>9.66</td>\n",
       "      <td>5.14</td>\n",
       "      <td>0.06</td>\n",
       "      <td>1.41</td>\n",
       "      <td>97.0</td>\n",
       "      <td>8.1</td>\n",
       "      <td>M</td>\n",
       "      <td>16.27</td>\n",
       "    </tr>\n",
       "    <tr>\n",
       "      <th>31</th>\n",
       "      <td>Call of Duty: Black Ops 3</td>\n",
       "      <td>PS4</td>\n",
       "      <td>2015</td>\n",
       "      <td>Shooter</td>\n",
       "      <td>6.03</td>\n",
       "      <td>5.86</td>\n",
       "      <td>0.36</td>\n",
       "      <td>2.38</td>\n",
       "      <td>NaN</td>\n",
       "      <td>NaN</td>\n",
       "      <td>RP</td>\n",
       "      <td>14.63</td>\n",
       "    </tr>\n",
       "    <tr>\n",
       "      <th>33</th>\n",
       "      <td>Pokemon X/Pokemon Y</td>\n",
       "      <td>3DS</td>\n",
       "      <td>2013</td>\n",
       "      <td>Role-Playing</td>\n",
       "      <td>5.28</td>\n",
       "      <td>4.19</td>\n",
       "      <td>4.35</td>\n",
       "      <td>0.78</td>\n",
       "      <td>NaN</td>\n",
       "      <td>NaN</td>\n",
       "      <td>RP</td>\n",
       "      <td>14.60</td>\n",
       "    </tr>\n",
       "    <tr>\n",
       "      <th>42</th>\n",
       "      <td>Grand Theft Auto V</td>\n",
       "      <td>PS4</td>\n",
       "      <td>2014</td>\n",
       "      <td>Action</td>\n",
       "      <td>3.96</td>\n",
       "      <td>6.31</td>\n",
       "      <td>0.38</td>\n",
       "      <td>1.97</td>\n",
       "      <td>97.0</td>\n",
       "      <td>8.3</td>\n",
       "      <td>M</td>\n",
       "      <td>12.62</td>\n",
       "    </tr>\n",
       "    <tr>\n",
       "      <th>47</th>\n",
       "      <td>Pokemon Omega Ruby/Pokemon Alpha Sapphire</td>\n",
       "      <td>3DS</td>\n",
       "      <td>2014</td>\n",
       "      <td>Role-Playing</td>\n",
       "      <td>4.35</td>\n",
       "      <td>3.49</td>\n",
       "      <td>3.10</td>\n",
       "      <td>0.74</td>\n",
       "      <td>NaN</td>\n",
       "      <td>NaN</td>\n",
       "      <td>RP</td>\n",
       "      <td>11.68</td>\n",
       "    </tr>\n",
       "    <tr>\n",
       "      <th>60</th>\n",
       "      <td>Call of Duty: Ghosts</td>\n",
       "      <td>X360</td>\n",
       "      <td>2013</td>\n",
       "      <td>Shooter</td>\n",
       "      <td>6.73</td>\n",
       "      <td>2.56</td>\n",
       "      <td>0.04</td>\n",
       "      <td>0.91</td>\n",
       "      <td>73.0</td>\n",
       "      <td>2.6</td>\n",
       "      <td>M</td>\n",
       "      <td>10.24</td>\n",
       "    </tr>\n",
       "    <tr>\n",
       "      <th>69</th>\n",
       "      <td>Call of Duty: Ghosts</td>\n",
       "      <td>PS3</td>\n",
       "      <td>2013</td>\n",
       "      <td>Shooter</td>\n",
       "      <td>4.10</td>\n",
       "      <td>3.63</td>\n",
       "      <td>0.38</td>\n",
       "      <td>1.25</td>\n",
       "      <td>71.0</td>\n",
       "      <td>2.6</td>\n",
       "      <td>M</td>\n",
       "      <td>9.36</td>\n",
       "    </tr>\n",
       "    <tr>\n",
       "      <th>72</th>\n",
       "      <td>Minecraft</td>\n",
       "      <td>X360</td>\n",
       "      <td>2013</td>\n",
       "      <td>Misc</td>\n",
       "      <td>5.70</td>\n",
       "      <td>2.65</td>\n",
       "      <td>0.02</td>\n",
       "      <td>0.81</td>\n",
       "      <td>NaN</td>\n",
       "      <td>NaN</td>\n",
       "      <td>RP</td>\n",
       "      <td>9.18</td>\n",
       "    </tr>\n",
       "    <tr>\n",
       "      <th>77</th>\n",
       "      <td>FIFA 16</td>\n",
       "      <td>PS4</td>\n",
       "      <td>2015</td>\n",
       "      <td>Sports</td>\n",
       "      <td>1.12</td>\n",
       "      <td>6.12</td>\n",
       "      <td>0.06</td>\n",
       "      <td>1.28</td>\n",
       "      <td>82.0</td>\n",
       "      <td>4.3</td>\n",
       "      <td>E</td>\n",
       "      <td>8.58</td>\n",
       "    </tr>\n",
       "  </tbody>\n",
       "</table>\n",
       "</div>"
      ],
      "text/plain": [
       "                                         name platform  year_of_release  \\\n",
       "16                         Grand Theft Auto V      PS3             2013   \n",
       "23                         Grand Theft Auto V     X360             2013   \n",
       "31                  Call of Duty: Black Ops 3      PS4             2015   \n",
       "33                        Pokemon X/Pokemon Y      3DS             2013   \n",
       "42                         Grand Theft Auto V      PS4             2014   \n",
       "47  Pokemon Omega Ruby/Pokemon Alpha Sapphire      3DS             2014   \n",
       "60                       Call of Duty: Ghosts     X360             2013   \n",
       "69                       Call of Duty: Ghosts      PS3             2013   \n",
       "72                                  Minecraft     X360             2013   \n",
       "77                                    FIFA 16      PS4             2015   \n",
       "\n",
       "           genre  na_sales  eu_sales  jp_sales  other_sales  critic_score  \\\n",
       "16        Action      7.02      9.09      0.98         3.96          97.0   \n",
       "23        Action      9.66      5.14      0.06         1.41          97.0   \n",
       "31       Shooter      6.03      5.86      0.36         2.38           NaN   \n",
       "33  Role-Playing      5.28      4.19      4.35         0.78           NaN   \n",
       "42        Action      3.96      6.31      0.38         1.97          97.0   \n",
       "47  Role-Playing      4.35      3.49      3.10         0.74           NaN   \n",
       "60       Shooter      6.73      2.56      0.04         0.91          73.0   \n",
       "69       Shooter      4.10      3.63      0.38         1.25          71.0   \n",
       "72          Misc      5.70      2.65      0.02         0.81           NaN   \n",
       "77        Sports      1.12      6.12      0.06         1.28          82.0   \n",
       "\n",
       "    user_score rating  total_sales  \n",
       "16         8.2      M        21.05  \n",
       "23         8.1      M        16.27  \n",
       "31         NaN     RP        14.63  \n",
       "33         NaN     RP        14.60  \n",
       "42         8.3      M        12.62  \n",
       "47         NaN     RP        11.68  \n",
       "60         2.6      M        10.24  \n",
       "69         2.6      M         9.36  \n",
       "72         NaN     RP         9.18  \n",
       "77         4.3      E         8.58  "
      ]
     },
     "metadata": {},
     "output_type": "display_data"
    },
    {
     "name": "stdout",
     "output_type": "stream",
     "text": [
      "<class 'pandas.core.frame.DataFrame'>\n",
      "Int64Index: 2233 entries, 16 to 16714\n",
      "Data columns (total 12 columns):\n",
      " #   Column           Non-Null Count  Dtype  \n",
      "---  ------           --------------  -----  \n",
      " 0   name             2233 non-null   object \n",
      " 1   platform         2233 non-null   object \n",
      " 2   year_of_release  2233 non-null   int64  \n",
      " 3   genre            2233 non-null   object \n",
      " 4   na_sales         2233 non-null   float64\n",
      " 5   eu_sales         2233 non-null   float64\n",
      " 6   jp_sales         2233 non-null   float64\n",
      " 7   other_sales      2233 non-null   float64\n",
      " 8   critic_score     991 non-null    float64\n",
      " 9   user_score       1192 non-null   float64\n",
      " 10  rating           2233 non-null   object \n",
      " 11  total_sales      2233 non-null   float64\n",
      "dtypes: float64(7), int64(1), object(4)\n",
      "memory usage: 226.8+ KB\n"
     ]
    },
    {
     "data": {
      "text/plain": [
       "None"
      ]
     },
     "metadata": {},
     "output_type": "display_data"
    }
   ],
   "source": [
    "# Выбираю игры с 2013гв.\n",
    "df_actual = df.query('year_of_release > 2012')\n",
    "display(df_actual.head(10))\n",
    "display(df_actual.info())"
   ]
  },
  {
   "cell_type": "code",
   "execution_count": 21,
   "metadata": {
    "scrolled": true
   },
   "outputs": [
    {
     "data": {
      "text/plain": [
       "count    1604.000000\n",
       "mean        0.469925\n",
       "std         1.150981\n",
       "min         0.010000\n",
       "25%         0.030000\n",
       "50%         0.100000\n",
       "75%         0.360000\n",
       "max        14.630000\n",
       "Name: total_sales, dtype: float64"
      ]
     },
     "execution_count": 21,
     "metadata": {},
     "output_type": "execute_result"
    }
   ],
   "source": [
    "# Создам список из топа актуальных платформ\n",
    "act_top_platforms = ['PS4', '3DS', 'XOne', 'PSV', 'WiiU', 'PC']\n",
    "# Выбираю строки из нового датасета только по акутальным платформам\n",
    "df_act_top_platforms = df_actual.query('platform in @act_top_platforms')\n",
    "df_act_top_platforms['total_sales'].describe()"
   ]
  },
  {
   "cell_type": "markdown",
   "metadata": {},
   "source": [
    "Занятно, что 75% процентов продаж количественно укладываются в 360 000 копий, но максимальное значение - 14 млн.\n",
    "Это явно выбросы (какие-то ААА игры-шедевры).   \n",
    "Посмотрю на продажи в разрезе платформ."
   ]
  },
  {
   "cell_type": "code",
   "execution_count": 22,
   "metadata": {},
   "outputs": [
    {
     "data": {
      "text/html": [
       "<div>\n",
       "<style scoped>\n",
       "    .dataframe tbody tr th:only-of-type {\n",
       "        vertical-align: middle;\n",
       "    }\n",
       "\n",
       "    .dataframe tbody tr th {\n",
       "        vertical-align: top;\n",
       "    }\n",
       "\n",
       "    .dataframe thead th {\n",
       "        text-align: right;\n",
       "    }\n",
       "</style>\n",
       "<table border=\"1\" class=\"dataframe\">\n",
       "  <thead>\n",
       "    <tr style=\"text-align: right;\">\n",
       "      <th></th>\n",
       "      <th>count</th>\n",
       "      <th>mean</th>\n",
       "      <th>std</th>\n",
       "      <th>min</th>\n",
       "      <th>25%</th>\n",
       "      <th>50%</th>\n",
       "      <th>75%</th>\n",
       "      <th>max</th>\n",
       "    </tr>\n",
       "    <tr>\n",
       "      <th>platform</th>\n",
       "      <th></th>\n",
       "      <th></th>\n",
       "      <th></th>\n",
       "      <th></th>\n",
       "      <th></th>\n",
       "      <th></th>\n",
       "      <th></th>\n",
       "      <th></th>\n",
       "    </tr>\n",
       "  </thead>\n",
       "  <tbody>\n",
       "    <tr>\n",
       "      <th>3DS</th>\n",
       "      <td>303.0</td>\n",
       "      <td>0.472772</td>\n",
       "      <td>1.381347</td>\n",
       "      <td>0.01</td>\n",
       "      <td>0.04</td>\n",
       "      <td>0.09</td>\n",
       "      <td>0.280</td>\n",
       "      <td>14.60</td>\n",
       "    </tr>\n",
       "    <tr>\n",
       "      <th>PC</th>\n",
       "      <td>189.0</td>\n",
       "      <td>0.208624</td>\n",
       "      <td>0.352304</td>\n",
       "      <td>0.01</td>\n",
       "      <td>0.03</td>\n",
       "      <td>0.08</td>\n",
       "      <td>0.230</td>\n",
       "      <td>3.05</td>\n",
       "    </tr>\n",
       "    <tr>\n",
       "      <th>PS4</th>\n",
       "      <td>392.0</td>\n",
       "      <td>0.801378</td>\n",
       "      <td>1.609456</td>\n",
       "      <td>0.01</td>\n",
       "      <td>0.06</td>\n",
       "      <td>0.20</td>\n",
       "      <td>0.730</td>\n",
       "      <td>14.63</td>\n",
       "    </tr>\n",
       "    <tr>\n",
       "      <th>PSV</th>\n",
       "      <td>358.0</td>\n",
       "      <td>0.092151</td>\n",
       "      <td>0.153816</td>\n",
       "      <td>0.01</td>\n",
       "      <td>0.02</td>\n",
       "      <td>0.04</td>\n",
       "      <td>0.110</td>\n",
       "      <td>1.96</td>\n",
       "    </tr>\n",
       "    <tr>\n",
       "      <th>WiiU</th>\n",
       "      <td>115.0</td>\n",
       "      <td>0.562000</td>\n",
       "      <td>1.038778</td>\n",
       "      <td>0.01</td>\n",
       "      <td>0.06</td>\n",
       "      <td>0.20</td>\n",
       "      <td>0.595</td>\n",
       "      <td>7.09</td>\n",
       "    </tr>\n",
       "    <tr>\n",
       "      <th>XOne</th>\n",
       "      <td>247.0</td>\n",
       "      <td>0.645020</td>\n",
       "      <td>1.036139</td>\n",
       "      <td>0.01</td>\n",
       "      <td>0.06</td>\n",
       "      <td>0.22</td>\n",
       "      <td>0.685</td>\n",
       "      <td>7.39</td>\n",
       "    </tr>\n",
       "  </tbody>\n",
       "</table>\n",
       "</div>"
      ],
      "text/plain": [
       "          count      mean       std   min   25%   50%    75%    max\n",
       "platform                                                           \n",
       "3DS       303.0  0.472772  1.381347  0.01  0.04  0.09  0.280  14.60\n",
       "PC        189.0  0.208624  0.352304  0.01  0.03  0.08  0.230   3.05\n",
       "PS4       392.0  0.801378  1.609456  0.01  0.06  0.20  0.730  14.63\n",
       "PSV       358.0  0.092151  0.153816  0.01  0.02  0.04  0.110   1.96\n",
       "WiiU      115.0  0.562000  1.038778  0.01  0.06  0.20  0.595   7.09\n",
       "XOne      247.0  0.645020  1.036139  0.01  0.06  0.22  0.685   7.39"
      ]
     },
     "execution_count": 22,
     "metadata": {},
     "output_type": "execute_result"
    }
   ],
   "source": [
    "df_act_top_platforms.groupby('platform')['total_sales'].describe()"
   ]
  },
  {
   "cell_type": "markdown",
   "metadata": {},
   "source": [
    "Построю диаграмму размаха по этим данным."
   ]
  },
  {
   "cell_type": "code",
   "execution_count": 23,
   "metadata": {},
   "outputs": [
    {
     "data": {
      "text/plain": [
       "(0.0, 2.0)"
      ]
     },
     "execution_count": 23,
     "metadata": {},
     "output_type": "execute_result"
    },
    {
     "data": {
      "image/png": "[encoded data removed]",
      "text/plain": [
       "<Figure size 720x432 with 1 Axes>"
      ]
     },
     "metadata": {
      "needs_background": "light"
     },
     "output_type": "display_data"
    }
   ],
   "source": [
    "plt.figure(figsize = (10, 6))\n",
    "sns.boxplot(data = df_act_top_platforms, x = 'platform', y = 'total_sales')\n",
    "plt.xlabel('Платформа')\n",
    "plt.ylabel('Продажи')\n",
    "plt.ylim(0, 2) # Закомментировать для просмотра на всех данных"
   ]
  },
  {
   "cell_type": "markdown",
   "metadata": {},
   "source": [
    "При построении диаграммы по всем данным (без ограничений), график становится абсолютно нечитаемым из-за ряда выбросов - топ игр с огромным числом продаж.   \n",
    "По графику видно, что лидерами продаж в среднем являются игры ддля домашних консолей - PS4 и Xbox One, а следом за ними портативная консоль Wii U. Интересно что Wii U может быть и домашней консолью тоже.   \n",
    "PC показыавет достаточно скромный результат, примерно на равне с 3DS. Хуже же всех себя показала портативная консоль PS Vita.\n",
    "\n",
    "#### Влияние отзывов на продажи\n",
    "Посмотрю, как влияют на продажи внутри одной популярной платформы отзывы пользователей и критиков.   \n",
    "Для примера возьму Xbox One."
   ]
  },
  {
   "cell_type": "code",
   "execution_count": 24,
   "metadata": {},
   "outputs": [
    {
     "name": "stdout",
     "output_type": "stream",
     "text": [
      "Корреляция между оценками пользователей и продажами -0.06892505328279414\n",
      "Корреляция между оценками критиков и продажами 0.4169983280084017\n"
     ]
    },
    {
     "data": {
      "text/plain": [
       "<AxesSubplot:xlabel='Оценка критиков', ylabel='Продажи'>"
      ]
     },
     "execution_count": 24,
     "metadata": {},
     "output_type": "execute_result"
    },
    {
     "data": {
      "image/png": "[encoded data removed]",
      "text/plain": [
       "<Figure size 720x432 with 1 Axes>"
      ]
     },
     "metadata": {
      "needs_background": "light"
     },
     "output_type": "display_data"
    },
    {
     "data": {
      "image/png": "[encoded data removed]",
      "text/plain": [
       "<Figure size 720x432 with 1 Axes>"
      ]
     },
     "metadata": {
      "needs_background": "light"
     },
     "output_type": "display_data"
    }
   ],
   "source": [
    "# Выбираю только игры Xbox One\n",
    "df_xone = df_act_top_platforms.query('platform == \"XOne\"')\n",
    "\n",
    "# Посмотрю корреляции\n",
    "print('Корреляция между оценками пользователей и продажами', df_xone['user_score'].corr(df_xone['total_sales']))\n",
    "print('Корреляция между оценками критиков и продажами', df_xone['critic_score'].corr(df_xone['total_sales']))\n",
    "\n",
    "# Диаграммы рассеивания\n",
    "df_xone.plot(\n",
    "    kind = 'scatter',\n",
    "    x = 'user_score',\n",
    "    y = 'total_sales',\n",
    "    figsize = (10, 6),\n",
    "    xlabel = 'Оценка пользователей',\n",
    "    ylabel = 'Продажи'\n",
    ")\n",
    "plt.show\n",
    "df_xone.plot(\n",
    "    kind = 'scatter',\n",
    "    x = 'critic_score',\n",
    "    y = 'total_sales',\n",
    "    figsize = (10, 6),\n",
    "    xlabel = 'Оценка критиков',\n",
    "    ylabel = 'Продажи'\n",
    ")"
   ]
  },
  {
   "cell_type": "markdown",
   "metadata": {},
   "source": [
    "**Промежуточный вывод**   \n",
    "Корреляция между оценкой критиков и продажами достаточно слабая, а между продажами и оценками пользователей вовсе отсутствует.   \n",
    "Посмотрю сохраняется ли ситуация для остальных топ платформ."
   ]
  },
  {
   "cell_type": "code",
   "execution_count": 25,
   "metadata": {
    "scrolled": false
   },
   "outputs": [
    {
     "name": "stdout",
     "output_type": "stream",
     "text": [
      "Для PS4\n",
      "Корреляция между оценкой пользователей и продажами равна -0.031957110204556424\n",
      "Корреляция между оценкой критиков и продажами равна 0.40656790206178095\n",
      "\n",
      "Для 3DS\n",
      "Корреляция между оценкой пользователей и продажами равна 0.24150411773563016\n",
      "Корреляция между оценкой критиков и продажами равна 0.3570566142288103\n",
      "\n",
      "Для XOne\n",
      "Корреляция между оценкой пользователей и продажами равна -0.06892505328279414\n",
      "Корреляция между оценкой критиков и продажами равна 0.4169983280084017\n",
      "\n",
      "Для WiiU\n",
      "Корреляция между оценкой пользователей и продажами равна 0.4193304819266187\n",
      "Корреляция между оценкой критиков и продажами равна 0.3764149065423912\n",
      "\n",
      "Для PC\n",
      "Корреляция между оценкой пользователей и продажами равна -0.0938418695247674\n",
      "Корреляция между оценкой критиков и продажами равна 0.19603028294369382\n",
      "\n",
      "Для PSV\n",
      "Корреляция между оценкой пользователей и продажами равна 0.0009424723319108626\n",
      "Корреляция между оценкой критиков и продажами равна 0.2547423503068656\n",
      "\n"
     ]
    }
   ],
   "source": [
    "# Выведу значения корреляций\n",
    "for platform in df_act_top_platforms['platform'].unique():\n",
    "    plat = df_act_top_platforms.query('platform == @platform')\n",
    "    user_corr = plat['user_score'].corr(plat['total_sales'])\n",
    "    critic_corr = plat['critic_score'].corr(plat['total_sales'])\n",
    "    \n",
    "    print('Для', platform)\n",
    "    print('Корреляция между оценкой пользователей и продажами равна', user_corr)\n",
    "    print('Корреляция между оценкой критиков и продажами равна', critic_corr)\n",
    "    print()"
   ]
  },
  {
   "cell_type": "markdown",
   "metadata": {},
   "source": [
    "Почти везде корреляция между оценкой пользователей и продажами отсутствует или очень слабая, кроме Wii U - у нее корреляция посильнее. А вот между оценкой критиков и продажами корреляция есть везде, хоть и не сильная.   \n",
    "Значит пользователи больше ориентируются на оценку критиков. Уверен, это из-за двух причин:   \n",
    "1. Оценка критиков появляется раньше, иногда до официального выхода игры.\n",
    "2. Оценка пользователей меняется с течением времени просто из-за количества этих самых оценок.\n",
    "\n",
    "#### Распределение игр по жанрам\n",
    "Посмотрю на общее распределение игр по жанрам."
   ]
  },
  {
   "cell_type": "code",
   "execution_count": 26,
   "metadata": {},
   "outputs": [
    {
     "data": {
      "text/plain": [
       "<AxesSubplot:xlabel='genre'>"
      ]
     },
     "execution_count": 26,
     "metadata": {},
     "output_type": "execute_result"
    },
    {
     "data": {
      "image/png": "[encoded data removed]",
      "text/plain": [
       "<Figure size 720x432 with 1 Axes>"
      ]
     },
     "metadata": {
      "needs_background": "light"
     },
     "output_type": "display_data"
    }
   ],
   "source": [
    "df_act_top_platforms.pivot_table(\n",
    "    index = 'genre',\n",
    "    values = 'total_sales',\n",
    "    #aggfunc = 'sum'\n",
    ").sort_values(by = 'total_sales', ascending = False).plot(\n",
    "    kind = 'bar',\n",
    "    figsize = (10, 6)\n",
    ")"
   ]
  },
  {
   "cell_type": "markdown",
   "metadata": {},
   "source": [
    "Лидирующие позиции занимают жанры шутер, спортивные симуляторы, платформеры. Хуже всего с продажами игр жанра приключения. Большинство игр этого жанра - инди (по крайней мере если экстраполировать ситуацию на сейчас), то есть выпускаются независимыми разработчиками, с очень малым бюджетом, ну и в общем не ориентированы на безумные продажи.\n",
    "\n",
    "#### Вывод 2\n",
    "Исследовательский анализ помог выявить следующие моменты:   \n",
    "- с 90х годов был резкий подъем производства и продаж видеоигр. После 2008г. наблюдается сильный спад, скорее всего связанный с сильным замеделнием роста технологий\n",
    "- самые популярные платформы за все время по имеющимся данным: PS 1-3, Xbox 360, Wii, DS\n",
    "- в среднем платформа актуальна 8-10 лет\n",
    "- существует корреляция между оценкой игры критиками и количеством продаж. Пользовательские оценки на продажи влияют почти никак\n",
    "- самые продаваемые жанры: экшн, шутер, РПГ\n",
    "\n",
    "### Портрет пользователя\n",
    "Определю для пользователей Северной Америки, Европы и Японии самые популярные платформы и жанры, а так же как влияет рейтинг ESRB на продажи.   \n",
    "#### Пользователи Северной Америки"
   ]
  },
  {
   "cell_type": "code",
   "execution_count": 27,
   "metadata": {},
   "outputs": [
    {
     "data": {
      "image/png": "[encoded data removed]",
      "text/plain": [
       "<Figure size 720x432 with 1 Axes>"
      ]
     },
     "metadata": {
      "needs_background": "light"
     },
     "output_type": "display_data"
    },
    {
     "data": {
      "image/png": "[encoded data removed]",
      "text/plain": [
       "<Figure size 720x432 with 1 Axes>"
      ]
     },
     "metadata": {
      "needs_background": "light"
     },
     "output_type": "display_data"
    },
    {
     "data": {
      "image/png": "[encoded data removed]",
      "text/plain": [
       "<Figure size 720x432 with 1 Axes>"
      ]
     },
     "metadata": {
      "needs_background": "light"
     },
     "output_type": "display_data"
    }
   ],
   "source": [
    "#  Создаю список колонок для графиков\n",
    "list_for_bar = ['platform', 'genre', 'rating']\n",
    "\n",
    "# Отрисовка графиков\n",
    "for i in list_for_bar:\n",
    "    df_act_top_platforms.pivot_table(\n",
    "        index = i,\n",
    "        values = 'na_sales',\n",
    "        aggfunc = 'sum'\n",
    "    ).sort_values(\n",
    "        by = 'na_sales',\n",
    "        ascending = False\n",
    "    ).plot(\n",
    "        kind = 'bar',\n",
    "        figsize = (10, 6),\n",
    "        xlabel = i,\n",
    "        ylabel = 'sales',\n",
    "    )"
   ]
  },
  {
   "cell_type": "markdown",
   "metadata": {},
   "source": [
    "- топ платформ в Северной Америке: PS4, Xbox One, 3DS, PC и Wii U\n",
    "- по жанрам топ: экшн, шутер, РПГ, спортивные симуляторы и платформеры\n",
    "- по рейтингу: игры 18+ (М), без рейтинга, для всех (Е), 16+ (Т), 10+ (Е10+)\n",
    "\n",
    "#### Пользователи Европы"
   ]
  },
  {
   "cell_type": "code",
   "execution_count": 28,
   "metadata": {},
   "outputs": [
    {
     "data": {
      "image/png": "[encoded data removed]",
      "text/plain": [
       "<Figure size 720x432 with 1 Axes>"
      ]
     },
     "metadata": {
      "needs_background": "light"
     },
     "output_type": "display_data"
    },
    {
     "data": {
      "image/png": "[encoded data removed]",
      "text/plain": [
       "<Figure size 720x432 with 1 Axes>"
      ]
     },
     "metadata": {
      "needs_background": "light"
     },
     "output_type": "display_data"
    },
    {
     "data": {
      "image/png": "[encoded data removed]",
      "text/plain": [
       "<Figure size 720x432 with 1 Axes>"
      ]
     },
     "metadata": {
      "needs_background": "light"
     },
     "output_type": "display_data"
    }
   ],
   "source": [
    "# Отрисовка графиков\n",
    "for i in list_for_bar:\n",
    "    df_act_top_platforms.pivot_table(\n",
    "        index = i,\n",
    "        values = 'eu_sales',\n",
    "        aggfunc = 'sum'\n",
    "    ).sort_values(\n",
    "        by = 'eu_sales',\n",
    "        ascending = False\n",
    "    ).plot(\n",
    "        kind = 'bar',\n",
    "        figsize = (10, 6),\n",
    "        xlabel = i,\n",
    "        ylabel = 'sales',\n",
    "    )"
   ]
  },
  {
   "cell_type": "markdown",
   "metadata": {},
   "source": [
    "- топ платформ в Европе: PS4, Xbox One, 3DS, PC, Wii U\n",
    "- по жанрам топ: экшн, шутер, РПГ, спортивные симуляторы и гонки\n",
    "- по рейтингу: игры 18+ (М), без рейтинга, для всех (Е), 16+ (Т), 10+ (Е10+)\n",
    "\n",
    "#### Пользователи Японии"
   ]
  },
  {
   "cell_type": "code",
   "execution_count": 29,
   "metadata": {
    "scrolled": false
   },
   "outputs": [
    {
     "data": {
      "image/png": "[encoded data removed]",
      "text/plain": [
       "<Figure size 720x432 with 1 Axes>"
      ]
     },
     "metadata": {
      "needs_background": "light"
     },
     "output_type": "display_data"
    },
    {
     "data": {
      "image/png": "[encoded data removed]",
      "text/plain": [
       "<Figure size 720x432 with 1 Axes>"
      ]
     },
     "metadata": {
      "needs_background": "light"
     },
     "output_type": "display_data"
    },
    {
     "data": {
      "image/png": "[encoded data removed]",
      "text/plain": [
       "<Figure size 720x432 with 1 Axes>"
      ]
     },
     "metadata": {
      "needs_background": "light"
     },
     "output_type": "display_data"
    }
   ],
   "source": [
    "# Отрисовка графиков\n",
    "for i in list_for_bar:\n",
    "    df_act_top_platforms.pivot_table(\n",
    "        index = i,\n",
    "        values = 'jp_sales',\n",
    "        aggfunc = 'sum'\n",
    "    ).sort_values(\n",
    "        by = 'jp_sales',\n",
    "        ascending = False\n",
    "    ).plot(\n",
    "        kind = 'bar',\n",
    "        figsize = (10, 6),\n",
    "        xlabel = i,\n",
    "        ylabel = 'sales',\n",
    "    )"
   ]
  },
  {
   "cell_type": "markdown",
   "metadata": {},
   "source": [
    "- топ платформ в Японии: 3DS, PS Vita, PS4, Wii U. Xbox One и PC не пользуются популярностью\n",
    "- по жанрам топ: РПГ, экшн, аркады, платформеры и файтинги\n",
    "- по рейтингу: без рейтинга, 16+ (Т), для всех (Е), 18+ (M), 10+ (Е10+)\n",
    "\n",
    "#### Вывод 3\n",
    "- Топы для Америки и Европы очень похожи: экшн/шутер на PS4 с рейтингом 18+.\n",
    "- Для пользователей Японии характерны другие предпочтения:ролевые игры на 3DS.\n",
    "\n",
    "### Проверка гипотез\n",
    "Проверю две гипотезы:   \n",
    "- Средние пользовательские рейтинги платформ Xbox One и PC одинаковые\n",
    "- Средние пользовательские рейтинги жанров Action и Sports разные\n",
    "\n",
    "Начну с первой.   \n",
    "**Нулевая гипотеза** - средние пользовательские рейтинги платформ XOne и PC одинаковые.   \n",
    "**Алтернативная** - средние пользовательские рейтинги платформ XOne и PC различаются."
   ]
  },
  {
   "cell_type": "code",
   "execution_count": 30,
   "metadata": {
    "scrolled": false
   },
   "outputs": [
    {
     "data": {
      "text/plain": [
       "1.8965188383045526"
      ]
     },
     "metadata": {},
     "output_type": "display_data"
    },
    {
     "data": {
      "text/plain": [
       "3.016306347554631"
      ]
     },
     "metadata": {},
     "output_type": "display_data"
    }
   ],
   "source": [
    "# Сделаю 2 выборки по платформам\n",
    "xone_rat = df_act_top_platforms.query('platform == \"XOne\"')['user_score'].dropna().to_list()\n",
    "pc_rat = df_act_top_platforms.query('platform == \"PC\"')['user_score'].dropna().to_list()\n",
    "\n",
    "# Дисперсии\n",
    "display(np.var(xone_rat))\n",
    "display(np.var(pc_rat))"
   ]
  },
  {
   "cell_type": "code",
   "execution_count": 31,
   "metadata": {},
   "outputs": [
    {
     "name": "stdout",
     "output_type": "stream",
     "text": [
      "p-значение: 0.14759594013430463\n",
      "Не удалось отвергнуть нулевую гипотезу\n"
     ]
    }
   ],
   "source": [
    "alpha = .05\n",
    "results = st.ttest_ind(xone_rat, pc_rat, equal_var=False)\n",
    "\n",
    "print('p-значение:', results.pvalue)\n",
    "\n",
    "if results.pvalue < alpha:\n",
    "    print(\"Отвергаем нулевую гипотезу\")\n",
    "else:\n",
    "    print(\"Не удалось отвергнуть нулевую гипотезу\")"
   ]
  },
  {
   "cell_type": "markdown",
   "metadata": {},
   "source": [
    "Нулевую гипотезу отвергнуть не удалось.  \n",
    "   \n",
    "Проверю вторую гипотезу.   \n",
    "**Нулевая гипотеза** - средние пользовательские рейтинги жанров Action и Sports одинаковые.   \n",
    "**Алтернативная** - средние пользовательские рейтинги жанров Action и Sports различаются."
   ]
  },
  {
   "cell_type": "code",
   "execution_count": 32,
   "metadata": {},
   "outputs": [
    {
     "data": {
      "text/plain": [
       "1.7416009849184362"
      ]
     },
     "metadata": {},
     "output_type": "display_data"
    },
    {
     "data": {
      "text/plain": [
       "2.645630820507794"
      ]
     },
     "metadata": {},
     "output_type": "display_data"
    }
   ],
   "source": [
    "# Сделаю 2 выборки по платформам\n",
    "action_rat = df_act_top_platforms.query('genre == \"Action\"')['user_score'].dropna().to_list()\n",
    "sports_rat = df_act_top_platforms.query('genre == \"Sports\"')['user_score'].dropna().to_list()\n",
    "\n",
    "# Дисперсии\n",
    "display(np.var(action_rat))\n",
    "display(np.var(sports_rat))"
   ]
  },
  {
   "cell_type": "code",
   "execution_count": 33,
   "metadata": {},
   "outputs": [
    {
     "name": "stdout",
     "output_type": "stream",
     "text": [
      "p-значение: 1.2678091455806196e-11\n",
      "Отвергаем нулевую гипотезу\n"
     ]
    }
   ],
   "source": [
    "alpha = .05\n",
    "results = st.ttest_ind(action_rat, sports_rat, equal_var=False)\n",
    "\n",
    "print('p-значение:', results.pvalue)\n",
    "\n",
    "if results.pvalue < alpha:\n",
    "    print(\"Отвергаем нулевую гипотезу\")\n",
    "else:\n",
    "    print(\"Не удалось отвергнуть нулевую гипотезу\")"
   ]
  },
  {
   "cell_type": "markdown",
   "metadata": {},
   "source": [
    "Средние пользовательские рейтинги жанров Action и Sports не одинаковые."
   ]
  },
  {
   "cell_type": "markdown",
   "metadata": {},
   "source": [
    "## Общий вывод\n",
    "\n",
    "**Что было сделано**   \n",
    "- приведены названия столбцов к единому стилю\n",
    "- удалены строки с отсутствующим названием игр и неизвестной датой выхода\n",
    "- заменены в пользовательской оценке значения TBD на NaN\n",
    "- заполнены пропуски в рейтинге на RP (rating pending)\n",
    "- посчитаны суммарные продажи   \n",
    "\n",
    "**Выводы**   \n",
    "Такое количество пропусков в оценках, думаю, связано с тем, что система оценок и рейтинги игр появились сравнительно недавно, а игры в датасете есть и весьма старые, которые не успели/не получали оценок ни пользователей ни критиков позднее.\n",
    "\n",
    "1. С 90х годов был резкий подъем производства и продаж видеоигр. После 2008г. наблюдается сильный спад, скорее всего связанный с сильным замеделнием роста технологий. \n",
    "2. Самые популярные платформы за все время по имеющимся данным: первые три поколоения платформы PlayStation от Sony, Xbox 360 от Microsoft, Nintendo Wii и Nintendo DS. \n",
    "3. В среднем платформа актуальна 8-10 лет.\n",
    "4. Существует корреляция между оценкой игры критиками и количеством продаж. \n",
    "5. Пользовательские оценки почти не влияют на продажи.\n",
    "6. Рейтинг тоже не сильно, потому как очень многи игр без рейтинга.\n",
    "7. Самые продаваемые жанры: Shooter, Sports, Platfrom.\n",
    "8. Топ жанров для Америки и Европы очень похожи: экшн/шутер на PS4 с рейтингом 18+.\n",
    "9. Топ для Японии:ролевые игры на 3DS.\n",
    "\n",
    "Собственно, в зависимости от рынка, рекламные компании стоит проводить, ориентируясь на пп.7-8 выше.\n",
    "\n",
    "**Гипотезы**   \n",
    "Гипотезу об одинаковых средних пользовательских рейтингах платформ XBox One и PC отвергнуть не удалось.   \n",
    "Гипотезу об одинаковых средних пользовательских рейтингов жанров Action и Sports отвергли.\n"
   ]
  },
  {
   "cell_type": "code",
   "execution_count": null,
   "metadata": {},
   "outputs": [],
   "source": []
  }
 ],
 "metadata": {
  "ExecuteTimeLog": [
   {
    "duration": 802,
    "start_time": "2022-05-30T11:50:30.984Z"
   },
   {
    "duration": 409,
    "start_time": "2022-05-30T11:51:24.285Z"
   },
   {
    "duration": 3,
    "start_time": "2022-05-30T11:52:22.671Z"
   },
   {
    "duration": 188,
    "start_time": "2022-05-30T11:53:12.727Z"
   },
   {
    "duration": 52,
    "start_time": "2022-05-30T11:53:18.189Z"
   },
   {
    "duration": 21,
    "start_time": "2022-05-30T11:54:28.415Z"
   },
   {
    "duration": 12,
    "start_time": "2022-05-30T11:54:41.585Z"
   },
   {
    "duration": 917,
    "start_time": "2022-05-30T17:06:04.461Z"
   },
   {
    "duration": 119,
    "start_time": "2022-05-30T17:06:05.380Z"
   },
   {
    "duration": 96,
    "start_time": "2022-05-30T17:10:34.525Z"
   },
   {
    "duration": 12,
    "start_time": "2022-05-30T17:11:15.015Z"
   },
   {
    "duration": 11,
    "start_time": "2022-05-30T17:11:25.609Z"
   },
   {
    "duration": 9,
    "start_time": "2022-05-30T17:11:40.526Z"
   },
   {
    "duration": 2,
    "start_time": "2022-05-30T17:12:05.271Z"
   },
   {
    "duration": 16,
    "start_time": "2022-05-30T17:12:14.608Z"
   },
   {
    "duration": 4,
    "start_time": "2022-05-30T17:12:56.895Z"
   },
   {
    "duration": 5,
    "start_time": "2022-05-30T17:13:05.025Z"
   },
   {
    "duration": 4,
    "start_time": "2022-05-30T17:13:49.786Z"
   },
   {
    "duration": 4,
    "start_time": "2022-05-30T17:14:53.779Z"
   },
   {
    "duration": 21,
    "start_time": "2022-05-30T17:15:02.424Z"
   },
   {
    "duration": 34,
    "start_time": "2022-05-30T17:15:29.404Z"
   },
   {
    "duration": 12,
    "start_time": "2022-05-30T17:18:54.071Z"
   },
   {
    "duration": 17,
    "start_time": "2022-05-30T17:19:03.034Z"
   },
   {
    "duration": 15,
    "start_time": "2022-05-30T17:20:28.307Z"
   },
   {
    "duration": 24,
    "start_time": "2022-05-30T17:20:45.903Z"
   },
   {
    "duration": 24,
    "start_time": "2022-05-30T17:23:38.041Z"
   },
   {
    "duration": 17,
    "start_time": "2022-05-30T17:24:35.507Z"
   },
   {
    "duration": 15,
    "start_time": "2022-05-30T17:24:37.882Z"
   },
   {
    "duration": 369,
    "start_time": "2022-05-30T17:25:10.822Z"
   },
   {
    "duration": 5,
    "start_time": "2022-05-30T17:25:26.408Z"
   },
   {
    "duration": 22,
    "start_time": "2022-05-30T17:25:30.046Z"
   },
   {
    "duration": 18,
    "start_time": "2022-05-30T17:26:23.673Z"
   },
   {
    "duration": 8,
    "start_time": "2022-05-30T17:26:30.659Z"
   },
   {
    "duration": 15,
    "start_time": "2022-05-30T17:26:35.640Z"
   },
   {
    "duration": 11,
    "start_time": "2022-05-30T17:26:56.392Z"
   },
   {
    "duration": 10,
    "start_time": "2022-05-30T17:27:25.271Z"
   },
   {
    "duration": 14,
    "start_time": "2022-05-30T17:27:29.440Z"
   },
   {
    "duration": 29,
    "start_time": "2022-05-30T17:30:33.294Z"
   },
   {
    "duration": 40,
    "start_time": "2022-05-30T17:31:43.557Z"
   },
   {
    "duration": 23,
    "start_time": "2022-05-30T17:32:36.971Z"
   },
   {
    "duration": 22,
    "start_time": "2022-05-30T17:33:51.366Z"
   },
   {
    "duration": 296,
    "start_time": "2022-05-30T17:34:03.723Z"
   },
   {
    "duration": 297,
    "start_time": "2022-05-30T17:34:06.418Z"
   },
   {
    "duration": 339,
    "start_time": "2022-05-30T17:34:18.478Z"
   },
   {
    "duration": 348,
    "start_time": "2022-05-30T17:34:27.939Z"
   },
   {
    "duration": 914,
    "start_time": "2022-05-30T17:34:36.936Z"
   },
   {
    "duration": 68,
    "start_time": "2022-05-30T17:34:37.855Z"
   },
   {
    "duration": 57,
    "start_time": "2022-05-30T17:34:37.925Z"
   },
   {
    "duration": 16,
    "start_time": "2022-05-30T17:34:37.984Z"
   },
   {
    "duration": 22,
    "start_time": "2022-05-30T17:34:38.002Z"
   },
   {
    "duration": 66,
    "start_time": "2022-05-30T17:34:38.026Z"
   },
   {
    "duration": 123,
    "start_time": "2022-05-30T17:36:07.184Z"
   },
   {
    "duration": 29,
    "start_time": "2022-05-30T17:36:16.955Z"
   },
   {
    "duration": 35,
    "start_time": "2022-05-30T17:36:32.532Z"
   },
   {
    "duration": 6,
    "start_time": "2022-05-30T17:38:56.908Z"
   },
   {
    "duration": 848,
    "start_time": "2022-05-30T17:48:37.537Z"
   },
   {
    "duration": 60,
    "start_time": "2022-05-30T17:48:38.387Z"
   },
   {
    "duration": 45,
    "start_time": "2022-05-30T17:48:38.449Z"
   },
   {
    "duration": 20,
    "start_time": "2022-05-30T17:48:38.497Z"
   },
   {
    "duration": 58,
    "start_time": "2022-05-30T17:48:38.519Z"
   },
   {
    "duration": 44,
    "start_time": "2022-05-30T17:48:38.579Z"
   },
   {
    "duration": 7,
    "start_time": "2022-05-30T17:48:38.625Z"
   },
   {
    "duration": 9,
    "start_time": "2022-05-30T17:49:03.605Z"
   },
   {
    "duration": 12,
    "start_time": "2022-05-30T17:49:41.401Z"
   },
   {
    "duration": 14,
    "start_time": "2022-05-30T17:53:10.577Z"
   },
   {
    "duration": 17,
    "start_time": "2022-05-30T18:00:35.374Z"
   },
   {
    "duration": 131,
    "start_time": "2022-05-30T18:02:33.233Z"
   },
   {
    "duration": 19,
    "start_time": "2022-05-30T18:04:14.568Z"
   },
   {
    "duration": 19,
    "start_time": "2022-05-30T18:04:31.664Z"
   },
   {
    "duration": 22,
    "start_time": "2022-05-30T18:05:46.215Z"
   },
   {
    "duration": 29,
    "start_time": "2022-05-30T18:06:15.699Z"
   },
   {
    "duration": 82,
    "start_time": "2022-05-30T18:06:47.780Z"
   },
   {
    "duration": 16,
    "start_time": "2022-05-30T18:06:52.811Z"
   },
   {
    "duration": 23,
    "start_time": "2022-05-30T18:07:09.880Z"
   },
   {
    "duration": 35,
    "start_time": "2022-05-30T18:07:27.091Z"
   },
   {
    "duration": 831,
    "start_time": "2022-05-30T18:07:36.529Z"
   },
   {
    "duration": 53,
    "start_time": "2022-05-30T18:07:37.363Z"
   },
   {
    "duration": 49,
    "start_time": "2022-05-30T18:07:37.417Z"
   },
   {
    "duration": 17,
    "start_time": "2022-05-30T18:07:37.468Z"
   },
   {
    "duration": 51,
    "start_time": "2022-05-30T18:07:37.487Z"
   },
   {
    "duration": 89,
    "start_time": "2022-05-30T18:07:37.540Z"
   },
   {
    "duration": 29,
    "start_time": "2022-05-30T18:07:37.630Z"
   },
   {
    "duration": 27,
    "start_time": "2022-05-30T18:07:37.661Z"
   },
   {
    "duration": 16,
    "start_time": "2022-05-30T18:08:40.261Z"
   },
   {
    "duration": 872,
    "start_time": "2022-05-30T18:08:47.084Z"
   },
   {
    "duration": 55,
    "start_time": "2022-05-30T18:08:47.958Z"
   },
   {
    "duration": 47,
    "start_time": "2022-05-30T18:08:48.015Z"
   },
   {
    "duration": 16,
    "start_time": "2022-05-30T18:08:48.064Z"
   },
   {
    "duration": 21,
    "start_time": "2022-05-30T18:08:48.083Z"
   },
   {
    "duration": 54,
    "start_time": "2022-05-30T18:08:48.106Z"
   },
   {
    "duration": 7,
    "start_time": "2022-05-30T18:08:48.162Z"
   },
   {
    "duration": 22,
    "start_time": "2022-05-30T18:08:48.170Z"
   },
   {
    "duration": 13,
    "start_time": "2022-05-30T18:09:15.035Z"
   },
   {
    "duration": 16,
    "start_time": "2022-05-30T18:09:34.721Z"
   },
   {
    "duration": 29,
    "start_time": "2022-05-30T18:10:07.480Z"
   },
   {
    "duration": 28,
    "start_time": "2022-05-30T18:10:35.409Z"
   },
   {
    "duration": 41,
    "start_time": "2022-05-30T18:11:31.142Z"
   },
   {
    "duration": 42,
    "start_time": "2022-05-30T18:11:43.528Z"
   },
   {
    "duration": 27,
    "start_time": "2022-05-30T18:11:59.769Z"
   },
   {
    "duration": 98,
    "start_time": "2022-05-30T18:14:31.164Z"
   },
   {
    "duration": 274,
    "start_time": "2022-05-30T18:15:21.397Z"
   },
   {
    "duration": 812,
    "start_time": "2022-05-30T18:15:32.895Z"
   },
   {
    "duration": 60,
    "start_time": "2022-05-30T18:15:33.709Z"
   },
   {
    "duration": 38,
    "start_time": "2022-05-30T18:15:33.771Z"
   },
   {
    "duration": 13,
    "start_time": "2022-05-30T18:15:33.811Z"
   },
   {
    "duration": 62,
    "start_time": "2022-05-30T18:15:33.826Z"
   },
   {
    "duration": 32,
    "start_time": "2022-05-30T18:15:33.890Z"
   },
   {
    "duration": 9,
    "start_time": "2022-05-30T18:15:33.924Z"
   },
   {
    "duration": 136,
    "start_time": "2022-05-30T18:15:33.935Z"
   },
   {
    "duration": 13,
    "start_time": "2022-05-30T18:16:13.266Z"
   },
   {
    "duration": 33,
    "start_time": "2022-05-30T18:16:53.022Z"
   },
   {
    "duration": 37,
    "start_time": "2022-05-30T18:18:35.840Z"
   },
   {
    "duration": 5,
    "start_time": "2022-05-30T18:23:13.712Z"
   },
   {
    "duration": 8,
    "start_time": "2022-05-30T18:25:10.192Z"
   },
   {
    "duration": 23,
    "start_time": "2022-05-30T18:25:18.388Z"
   },
   {
    "duration": 826,
    "start_time": "2022-05-31T07:53:02.422Z"
   },
   {
    "duration": 95,
    "start_time": "2022-05-31T07:53:03.250Z"
   },
   {
    "duration": 37,
    "start_time": "2022-05-31T07:53:03.346Z"
   },
   {
    "duration": 14,
    "start_time": "2022-05-31T07:53:03.386Z"
   },
   {
    "duration": 14,
    "start_time": "2022-05-31T07:53:03.401Z"
   },
   {
    "duration": 30,
    "start_time": "2022-05-31T07:53:03.426Z"
   },
   {
    "duration": 7,
    "start_time": "2022-05-31T07:53:03.458Z"
   },
   {
    "duration": 35,
    "start_time": "2022-05-31T07:53:03.466Z"
   },
   {
    "duration": 38,
    "start_time": "2022-05-31T07:53:03.503Z"
   },
   {
    "duration": 97,
    "start_time": "2022-05-31T07:53:36.139Z"
   },
   {
    "duration": 20,
    "start_time": "2022-05-31T07:53:59.357Z"
   },
   {
    "duration": 19,
    "start_time": "2022-05-31T07:54:04.328Z"
   },
   {
    "duration": 18,
    "start_time": "2022-05-31T07:54:14.154Z"
   },
   {
    "duration": 27,
    "start_time": "2022-05-31T07:54:29.845Z"
   },
   {
    "duration": 76,
    "start_time": "2022-05-31T07:54:36.222Z"
   },
   {
    "duration": 20,
    "start_time": "2022-05-31T07:55:07.799Z"
   },
   {
    "duration": 868,
    "start_time": "2022-05-31T07:55:20.989Z"
   },
   {
    "duration": 54,
    "start_time": "2022-05-31T07:55:21.859Z"
   },
   {
    "duration": 38,
    "start_time": "2022-05-31T07:55:21.915Z"
   },
   {
    "duration": 15,
    "start_time": "2022-05-31T07:55:21.955Z"
   },
   {
    "duration": 16,
    "start_time": "2022-05-31T07:55:21.976Z"
   },
   {
    "duration": 48,
    "start_time": "2022-05-31T07:55:21.993Z"
   },
   {
    "duration": 7,
    "start_time": "2022-05-31T07:55:22.042Z"
   },
   {
    "duration": 35,
    "start_time": "2022-05-31T07:55:22.050Z"
   },
   {
    "duration": 41,
    "start_time": "2022-05-31T07:55:22.086Z"
   },
   {
    "duration": 8,
    "start_time": "2022-05-31T07:56:52.537Z"
   },
   {
    "duration": 10,
    "start_time": "2022-05-31T07:57:08.485Z"
   },
   {
    "duration": 23,
    "start_time": "2022-05-31T07:58:45.191Z"
   },
   {
    "duration": 20,
    "start_time": "2022-05-31T08:04:12.827Z"
   },
   {
    "duration": 20,
    "start_time": "2022-05-31T08:04:19.363Z"
   },
   {
    "duration": 22,
    "start_time": "2022-05-31T08:05:01.177Z"
   },
   {
    "duration": 24,
    "start_time": "2022-05-31T08:05:39.371Z"
   },
   {
    "duration": 30,
    "start_time": "2022-05-31T08:07:42.083Z"
   },
   {
    "duration": 28,
    "start_time": "2022-05-31T08:07:47.153Z"
   },
   {
    "duration": 929,
    "start_time": "2022-06-01T07:54:38.829Z"
   },
   {
    "duration": 97,
    "start_time": "2022-06-01T07:54:39.760Z"
   },
   {
    "duration": 41,
    "start_time": "2022-06-01T07:54:39.859Z"
   },
   {
    "duration": 14,
    "start_time": "2022-06-01T07:54:39.902Z"
   },
   {
    "duration": 27,
    "start_time": "2022-06-01T07:54:39.918Z"
   },
   {
    "duration": 50,
    "start_time": "2022-06-01T07:54:39.946Z"
   },
   {
    "duration": 7,
    "start_time": "2022-06-01T07:54:39.998Z"
   },
   {
    "duration": 60,
    "start_time": "2022-06-01T07:54:40.007Z"
   },
   {
    "duration": 35,
    "start_time": "2022-06-01T07:54:40.069Z"
   },
   {
    "duration": 12,
    "start_time": "2022-06-01T07:54:40.106Z"
   },
   {
    "duration": 46,
    "start_time": "2022-06-01T07:54:40.120Z"
   },
   {
    "duration": 24,
    "start_time": "2022-06-01T07:54:40.168Z"
   },
   {
    "duration": 28,
    "start_time": "2022-06-01T07:55:09.796Z"
   },
   {
    "duration": 49,
    "start_time": "2022-06-01T07:55:27.387Z"
   },
   {
    "duration": 6,
    "start_time": "2022-06-01T08:01:53.966Z"
   },
   {
    "duration": 11,
    "start_time": "2022-06-01T08:02:41.210Z"
   },
   {
    "duration": 12,
    "start_time": "2022-06-01T08:02:46.664Z"
   },
   {
    "duration": 11,
    "start_time": "2022-06-01T08:02:55.224Z"
   },
   {
    "duration": 8,
    "start_time": "2022-06-01T08:03:13.529Z"
   },
   {
    "duration": 17,
    "start_time": "2022-06-01T08:05:38.154Z"
   },
   {
    "duration": 17,
    "start_time": "2022-06-01T08:06:40.096Z"
   },
   {
    "duration": 19,
    "start_time": "2022-06-01T08:07:12.795Z"
   },
   {
    "duration": 22,
    "start_time": "2022-06-01T08:07:25.913Z"
   },
   {
    "duration": 12,
    "start_time": "2022-06-01T08:19:46.576Z"
   },
   {
    "duration": 14,
    "start_time": "2022-06-01T08:19:57.181Z"
   },
   {
    "duration": 777,
    "start_time": "2022-06-01T08:23:07.487Z"
   },
   {
    "duration": 658,
    "start_time": "2022-06-01T08:24:49.118Z"
   },
   {
    "duration": 313,
    "start_time": "2022-06-01T08:25:52.949Z"
   },
   {
    "duration": 281,
    "start_time": "2022-06-01T08:26:24.286Z"
   },
   {
    "duration": 202,
    "start_time": "2022-06-01T08:26:43.004Z"
   },
   {
    "duration": 227,
    "start_time": "2022-06-01T08:26:52.367Z"
   },
   {
    "duration": 217,
    "start_time": "2022-06-01T08:27:05.220Z"
   },
   {
    "duration": 1292,
    "start_time": "2022-06-01T10:59:50.292Z"
   },
   {
    "duration": 104,
    "start_time": "2022-06-01T10:59:51.586Z"
   },
   {
    "duration": 37,
    "start_time": "2022-06-01T10:59:51.692Z"
   },
   {
    "duration": 19,
    "start_time": "2022-06-01T10:59:51.732Z"
   },
   {
    "duration": 17,
    "start_time": "2022-06-01T10:59:51.754Z"
   },
   {
    "duration": 31,
    "start_time": "2022-06-01T10:59:51.773Z"
   },
   {
    "duration": 8,
    "start_time": "2022-06-01T10:59:51.806Z"
   },
   {
    "duration": 66,
    "start_time": "2022-06-01T10:59:51.816Z"
   },
   {
    "duration": 24,
    "start_time": "2022-06-01T10:59:51.884Z"
   },
   {
    "duration": 35,
    "start_time": "2022-06-01T10:59:51.911Z"
   },
   {
    "duration": 28,
    "start_time": "2022-06-01T10:59:51.948Z"
   },
   {
    "duration": 76,
    "start_time": "2022-06-01T10:59:51.978Z"
   },
   {
    "duration": 24,
    "start_time": "2022-06-01T10:59:52.056Z"
   },
   {
    "duration": 320,
    "start_time": "2022-06-01T10:59:52.082Z"
   },
   {
    "duration": 46,
    "start_time": "2022-06-01T11:00:25.123Z"
   },
   {
    "duration": 249,
    "start_time": "2022-06-01T11:00:27.827Z"
   },
   {
    "duration": 300,
    "start_time": "2022-06-01T11:01:24.102Z"
   },
   {
    "duration": 11,
    "start_time": "2022-06-01T11:15:50.890Z"
   },
   {
    "duration": 3,
    "start_time": "2022-06-01T12:00:48.460Z"
   },
   {
    "duration": 82,
    "start_time": "2022-06-01T12:00:48.465Z"
   },
   {
    "duration": 40,
    "start_time": "2022-06-01T12:00:48.549Z"
   },
   {
    "duration": 15,
    "start_time": "2022-06-01T12:00:48.590Z"
   },
   {
    "duration": 43,
    "start_time": "2022-06-01T12:00:48.607Z"
   },
   {
    "duration": 39,
    "start_time": "2022-06-01T12:00:48.652Z"
   },
   {
    "duration": 6,
    "start_time": "2022-06-01T12:00:48.693Z"
   },
   {
    "duration": 52,
    "start_time": "2022-06-01T12:00:48.701Z"
   },
   {
    "duration": 29,
    "start_time": "2022-06-01T12:00:48.756Z"
   },
   {
    "duration": 10,
    "start_time": "2022-06-01T12:00:48.786Z"
   },
   {
    "duration": 54,
    "start_time": "2022-06-01T12:00:48.797Z"
   },
   {
    "duration": 47,
    "start_time": "2022-06-01T12:00:48.853Z"
   },
   {
    "duration": 17,
    "start_time": "2022-06-01T12:00:48.902Z"
   },
   {
    "duration": 16,
    "start_time": "2022-06-01T12:00:48.951Z"
   },
   {
    "duration": 251,
    "start_time": "2022-06-01T12:00:48.969Z"
   },
   {
    "duration": 12,
    "start_time": "2022-06-01T12:03:45.547Z"
   },
   {
    "duration": 304,
    "start_time": "2022-06-01T12:04:18.723Z"
   },
   {
    "duration": 312,
    "start_time": "2022-06-01T12:04:50.291Z"
   },
   {
    "duration": 328,
    "start_time": "2022-06-01T12:05:15.022Z"
   },
   {
    "duration": 351,
    "start_time": "2022-06-01T12:05:22.291Z"
   },
   {
    "duration": 462,
    "start_time": "2022-06-01T12:06:44.485Z"
   },
   {
    "duration": 331,
    "start_time": "2022-06-01T12:06:55.358Z"
   },
   {
    "duration": 3,
    "start_time": "2022-06-01T13:14:15.415Z"
   },
   {
    "duration": 71,
    "start_time": "2022-06-01T13:14:15.422Z"
   },
   {
    "duration": 31,
    "start_time": "2022-06-01T13:14:15.495Z"
   },
   {
    "duration": 13,
    "start_time": "2022-06-01T13:14:15.528Z"
   },
   {
    "duration": 35,
    "start_time": "2022-06-01T13:14:15.543Z"
   },
   {
    "duration": 53,
    "start_time": "2022-06-01T13:14:15.580Z"
   },
   {
    "duration": 6,
    "start_time": "2022-06-01T13:14:15.635Z"
   },
   {
    "duration": 65,
    "start_time": "2022-06-01T13:14:15.643Z"
   },
   {
    "duration": 30,
    "start_time": "2022-06-01T13:14:15.710Z"
   },
   {
    "duration": 27,
    "start_time": "2022-06-01T13:14:15.742Z"
   },
   {
    "duration": 37,
    "start_time": "2022-06-01T13:14:15.771Z"
   },
   {
    "duration": 54,
    "start_time": "2022-06-01T13:14:15.810Z"
   },
   {
    "duration": 18,
    "start_time": "2022-06-01T13:14:15.866Z"
   },
   {
    "duration": 15,
    "start_time": "2022-06-01T13:14:15.886Z"
   },
   {
    "duration": 245,
    "start_time": "2022-06-01T13:14:15.903Z"
   },
   {
    "duration": 351,
    "start_time": "2022-06-01T13:14:16.150Z"
   },
   {
    "duration": 4,
    "start_time": "2022-06-01T13:31:23.553Z"
   },
   {
    "duration": 6,
    "start_time": "2022-06-01T13:33:17.694Z"
   },
   {
    "duration": 178,
    "start_time": "2022-06-01T13:37:29.806Z"
   },
   {
    "duration": 4879,
    "start_time": "2022-06-01T13:38:00.120Z"
   },
   {
    "duration": 5098,
    "start_time": "2022-06-01T13:38:19.603Z"
   },
   {
    "duration": 5489,
    "start_time": "2022-06-01T13:38:42.864Z"
   },
   {
    "duration": 5981,
    "start_time": "2022-06-01T13:39:56.090Z"
   },
   {
    "duration": 1137,
    "start_time": "2022-06-01T13:46:56.063Z"
   },
   {
    "duration": 348,
    "start_time": "2022-06-01T13:48:43.068Z"
   },
   {
    "duration": 327,
    "start_time": "2022-06-01T13:49:25.461Z"
   },
   {
    "duration": 587,
    "start_time": "2022-06-01T13:58:55.908Z"
   },
   {
    "duration": 5518,
    "start_time": "2022-06-01T13:59:03.128Z"
   },
   {
    "duration": 1261,
    "start_time": "2022-06-01T16:30:05.708Z"
   },
   {
    "duration": 106,
    "start_time": "2022-06-01T16:30:06.972Z"
   },
   {
    "duration": 36,
    "start_time": "2022-06-01T16:30:07.080Z"
   },
   {
    "duration": 19,
    "start_time": "2022-06-01T16:30:07.119Z"
   },
   {
    "duration": 32,
    "start_time": "2022-06-01T16:30:07.140Z"
   },
   {
    "duration": 32,
    "start_time": "2022-06-01T16:30:07.173Z"
   },
   {
    "duration": 10,
    "start_time": "2022-06-01T16:30:07.207Z"
   },
   {
    "duration": 67,
    "start_time": "2022-06-01T16:30:07.219Z"
   },
   {
    "duration": 23,
    "start_time": "2022-06-01T16:30:07.288Z"
   },
   {
    "duration": 10,
    "start_time": "2022-06-01T16:30:07.313Z"
   },
   {
    "duration": 56,
    "start_time": "2022-06-01T16:30:07.324Z"
   },
   {
    "duration": 60,
    "start_time": "2022-06-01T16:30:07.382Z"
   },
   {
    "duration": 46,
    "start_time": "2022-06-01T16:30:07.444Z"
   },
   {
    "duration": 18,
    "start_time": "2022-06-01T16:30:07.492Z"
   },
   {
    "duration": 385,
    "start_time": "2022-06-01T16:30:07.512Z"
   },
   {
    "duration": 387,
    "start_time": "2022-06-01T16:30:07.900Z"
   },
   {
    "duration": 5525,
    "start_time": "2022-06-01T16:30:08.289Z"
   },
   {
    "duration": 122,
    "start_time": "2022-06-01T16:32:25.381Z"
   },
   {
    "duration": 6,
    "start_time": "2022-06-01T16:32:33.468Z"
   },
   {
    "duration": 20,
    "start_time": "2022-06-01T16:32:53.023Z"
   },
   {
    "duration": 36,
    "start_time": "2022-06-01T16:33:14.378Z"
   },
   {
    "duration": 3,
    "start_time": "2022-06-01T16:37:55.574Z"
   },
   {
    "duration": 9,
    "start_time": "2022-06-01T16:39:22.081Z"
   },
   {
    "duration": 27,
    "start_time": "2022-06-01T16:39:53.426Z"
   },
   {
    "duration": 14,
    "start_time": "2022-06-01T16:40:17.110Z"
   },
   {
    "duration": 31,
    "start_time": "2022-06-01T16:40:43.144Z"
   },
   {
    "duration": 6,
    "start_time": "2022-06-01T16:40:50.295Z"
   },
   {
    "duration": 19,
    "start_time": "2022-06-01T16:41:01.848Z"
   },
   {
    "duration": 34,
    "start_time": "2022-06-01T16:41:20.141Z"
   },
   {
    "duration": 12,
    "start_time": "2022-06-01T16:42:00.950Z"
   },
   {
    "duration": 23,
    "start_time": "2022-06-01T16:51:13.079Z"
   },
   {
    "duration": 310,
    "start_time": "2022-06-01T16:51:43.822Z"
   },
   {
    "duration": 130,
    "start_time": "2022-06-01T16:51:51.361Z"
   },
   {
    "duration": 25,
    "start_time": "2022-06-01T16:53:19.486Z"
   },
   {
    "duration": 164,
    "start_time": "2022-06-01T16:53:51.029Z"
   },
   {
    "duration": 1030,
    "start_time": "2022-06-01T16:55:16.984Z"
   },
   {
    "duration": 857,
    "start_time": "2022-06-01T16:57:29.269Z"
   },
   {
    "duration": 916,
    "start_time": "2022-06-01T16:57:51.306Z"
   },
   {
    "duration": 987,
    "start_time": "2022-06-01T16:58:22.460Z"
   },
   {
    "duration": 4974,
    "start_time": "2022-06-01T16:59:05.496Z"
   },
   {
    "duration": 868,
    "start_time": "2022-06-01T16:59:23.699Z"
   },
   {
    "duration": 17,
    "start_time": "2022-06-01T17:08:51.902Z"
   },
   {
    "duration": 838,
    "start_time": "2022-06-01T17:08:54.629Z"
   },
   {
    "duration": 2,
    "start_time": "2022-06-01T17:15:30.185Z"
   },
   {
    "duration": 8,
    "start_time": "2022-06-01T17:16:24.276Z"
   },
   {
    "duration": 8,
    "start_time": "2022-06-01T17:16:30.123Z"
   },
   {
    "duration": 8,
    "start_time": "2022-06-01T17:16:34.344Z"
   },
   {
    "duration": 7,
    "start_time": "2022-06-01T17:16:41.338Z"
   },
   {
    "duration": 10,
    "start_time": "2022-06-01T17:17:01.192Z"
   },
   {
    "duration": 7,
    "start_time": "2022-06-01T17:17:05.247Z"
   },
   {
    "duration": 8,
    "start_time": "2022-06-01T17:17:10.627Z"
   },
   {
    "duration": 10,
    "start_time": "2022-06-01T17:17:14.194Z"
   },
   {
    "duration": 8,
    "start_time": "2022-06-01T17:17:17.943Z"
   },
   {
    "duration": 9,
    "start_time": "2022-06-01T17:17:24.244Z"
   },
   {
    "duration": 8,
    "start_time": "2022-06-01T17:17:27.920Z"
   },
   {
    "duration": 8,
    "start_time": "2022-06-01T17:17:31.476Z"
   },
   {
    "duration": 10,
    "start_time": "2022-06-01T17:17:36.369Z"
   },
   {
    "duration": 8,
    "start_time": "2022-06-01T17:19:19.812Z"
   },
   {
    "duration": 843,
    "start_time": "2022-06-01T17:22:39.641Z"
   },
   {
    "duration": 1038,
    "start_time": "2022-06-01T17:22:49.927Z"
   },
   {
    "duration": 866,
    "start_time": "2022-06-01T17:22:56.187Z"
   },
   {
    "duration": 886,
    "start_time": "2022-06-01T17:23:52.649Z"
   },
   {
    "duration": 1088,
    "start_time": "2022-06-01T17:24:13.652Z"
   },
   {
    "duration": 15,
    "start_time": "2022-06-01T17:25:08.894Z"
   },
   {
    "duration": 19,
    "start_time": "2022-06-01T17:25:14.760Z"
   },
   {
    "duration": 30,
    "start_time": "2022-06-01T17:25:29.209Z"
   },
   {
    "duration": 30,
    "start_time": "2022-06-01T17:25:45.615Z"
   },
   {
    "duration": 2,
    "start_time": "2022-06-01T17:26:34.934Z"
   },
   {
    "duration": 2,
    "start_time": "2022-06-01T17:26:43.638Z"
   },
   {
    "duration": 12,
    "start_time": "2022-06-01T17:26:48.145Z"
   },
   {
    "duration": 3,
    "start_time": "2022-06-01T17:27:56.348Z"
   },
   {
    "duration": 3,
    "start_time": "2022-06-01T17:30:22.860Z"
   },
   {
    "duration": 3,
    "start_time": "2022-06-01T17:30:42.153Z"
   },
   {
    "duration": 3,
    "start_time": "2022-06-01T17:30:47.074Z"
   },
   {
    "duration": 11,
    "start_time": "2022-06-01T17:33:14.844Z"
   },
   {
    "duration": 26,
    "start_time": "2022-06-01T17:33:19.286Z"
   },
   {
    "duration": 1412,
    "start_time": "2022-06-02T09:44:51.161Z"
   },
   {
    "duration": 97,
    "start_time": "2022-06-02T09:44:52.576Z"
   },
   {
    "duration": 40,
    "start_time": "2022-06-02T09:44:52.675Z"
   },
   {
    "duration": 17,
    "start_time": "2022-06-02T09:44:52.719Z"
   },
   {
    "duration": 28,
    "start_time": "2022-06-02T09:44:52.738Z"
   },
   {
    "duration": 66,
    "start_time": "2022-06-02T09:44:52.769Z"
   },
   {
    "duration": 11,
    "start_time": "2022-06-02T09:44:52.837Z"
   },
   {
    "duration": 56,
    "start_time": "2022-06-02T09:44:52.850Z"
   },
   {
    "duration": 50,
    "start_time": "2022-06-02T09:44:52.908Z"
   },
   {
    "duration": 11,
    "start_time": "2022-06-02T09:44:52.960Z"
   },
   {
    "duration": 66,
    "start_time": "2022-06-02T09:44:52.973Z"
   },
   {
    "duration": 57,
    "start_time": "2022-06-02T09:44:53.041Z"
   },
   {
    "duration": 37,
    "start_time": "2022-06-02T09:44:53.100Z"
   },
   {
    "duration": 12,
    "start_time": "2022-06-02T09:44:53.140Z"
   },
   {
    "duration": 281,
    "start_time": "2022-06-02T09:44:53.154Z"
   },
   {
    "duration": 448,
    "start_time": "2022-06-02T09:44:53.438Z"
   },
   {
    "duration": 5824,
    "start_time": "2022-06-02T09:44:53.887Z"
   },
   {
    "duration": 41,
    "start_time": "2022-06-02T09:44:59.713Z"
   },
   {
    "duration": 14,
    "start_time": "2022-06-02T09:44:59.756Z"
   },
   {
    "duration": 32,
    "start_time": "2022-06-02T09:44:59.772Z"
   },
   {
    "duration": 3,
    "start_time": "2022-06-02T09:44:59.826Z"
   },
   {
    "duration": 39,
    "start_time": "2022-06-02T09:44:59.830Z"
   },
   {
    "duration": 154,
    "start_time": "2022-06-02T09:46:13.229Z"
   },
   {
    "duration": 220,
    "start_time": "2022-06-02T09:46:48.211Z"
   },
   {
    "duration": 15,
    "start_time": "2022-06-02T09:47:33.315Z"
   },
   {
    "duration": 613,
    "start_time": "2022-06-02T09:48:06.817Z"
   },
   {
    "duration": 893,
    "start_time": "2022-06-02T09:48:16.335Z"
   },
   {
    "duration": 917,
    "start_time": "2022-06-02T09:48:48.010Z"
   },
   {
    "duration": 266,
    "start_time": "2022-06-02T09:49:22.227Z"
   },
   {
    "duration": 962,
    "start_time": "2022-06-02T09:50:01.611Z"
   },
   {
    "duration": 227,
    "start_time": "2022-06-02T09:50:42.543Z"
   },
   {
    "duration": 218,
    "start_time": "2022-06-02T09:51:05.071Z"
   },
   {
    "duration": 226,
    "start_time": "2022-06-02T09:51:19.701Z"
   },
   {
    "duration": 307,
    "start_time": "2022-06-02T09:51:44.511Z"
   },
   {
    "duration": 233,
    "start_time": "2022-06-02T09:51:49.282Z"
   },
   {
    "duration": 302,
    "start_time": "2022-06-02T09:52:24.163Z"
   },
   {
    "duration": 207,
    "start_time": "2022-06-02T09:52:34.640Z"
   },
   {
    "duration": 292,
    "start_time": "2022-06-02T09:52:51.141Z"
   },
   {
    "duration": 195,
    "start_time": "2022-06-02T09:53:07.675Z"
   },
   {
    "duration": 198,
    "start_time": "2022-06-02T09:54:16.855Z"
   },
   {
    "duration": 34,
    "start_time": "2022-06-02T10:05:00.027Z"
   },
   {
    "duration": 7,
    "start_time": "2022-06-02T10:05:13.840Z"
   },
   {
    "duration": 7,
    "start_time": "2022-06-02T10:05:45.100Z"
   },
   {
    "duration": 11,
    "start_time": "2022-06-02T10:06:29.112Z"
   },
   {
    "duration": 152,
    "start_time": "2022-06-02T10:09:15.445Z"
   },
   {
    "duration": 184,
    "start_time": "2022-06-02T10:09:25.505Z"
   },
   {
    "duration": 245,
    "start_time": "2022-06-02T10:10:01.857Z"
   },
   {
    "duration": 213,
    "start_time": "2022-06-02T10:10:14.565Z"
   },
   {
    "duration": 172,
    "start_time": "2022-06-02T10:10:20.257Z"
   },
   {
    "duration": 184,
    "start_time": "2022-06-02T10:11:59.866Z"
   },
   {
    "duration": 369,
    "start_time": "2022-06-02T10:12:27.334Z"
   },
   {
    "duration": 4,
    "start_time": "2022-06-02T10:28:48.135Z"
   },
   {
    "duration": 4,
    "start_time": "2022-06-02T10:29:44.851Z"
   },
   {
    "duration": 5,
    "start_time": "2022-06-02T11:39:11.860Z"
   },
   {
    "duration": 86,
    "start_time": "2022-06-02T11:39:11.868Z"
   },
   {
    "duration": 52,
    "start_time": "2022-06-02T11:39:11.957Z"
   },
   {
    "duration": 40,
    "start_time": "2022-06-02T11:39:12.011Z"
   },
   {
    "duration": 41,
    "start_time": "2022-06-02T11:39:12.057Z"
   },
   {
    "duration": 65,
    "start_time": "2022-06-02T11:39:12.101Z"
   },
   {
    "duration": 32,
    "start_time": "2022-06-02T11:39:12.171Z"
   },
   {
    "duration": 103,
    "start_time": "2022-06-02T11:39:12.207Z"
   },
   {
    "duration": 38,
    "start_time": "2022-06-02T11:39:12.313Z"
   },
   {
    "duration": 34,
    "start_time": "2022-06-02T11:39:12.353Z"
   },
   {
    "duration": 51,
    "start_time": "2022-06-02T11:39:12.391Z"
   },
   {
    "duration": 80,
    "start_time": "2022-06-02T11:39:12.444Z"
   },
   {
    "duration": 43,
    "start_time": "2022-06-02T11:39:12.533Z"
   },
   {
    "duration": 17,
    "start_time": "2022-06-02T11:39:12.582Z"
   },
   {
    "duration": 364,
    "start_time": "2022-06-02T11:39:12.601Z"
   },
   {
    "duration": 516,
    "start_time": "2022-06-02T11:39:12.968Z"
   },
   {
    "duration": 7353,
    "start_time": "2022-06-02T11:39:13.487Z"
   },
   {
    "duration": 38,
    "start_time": "2022-06-02T11:39:20.847Z"
   },
   {
    "duration": 12,
    "start_time": "2022-06-02T11:39:20.888Z"
   },
   {
    "duration": 51,
    "start_time": "2022-06-02T11:39:20.902Z"
   },
   {
    "duration": 3,
    "start_time": "2022-06-02T11:39:20.955Z"
   },
   {
    "duration": 13,
    "start_time": "2022-06-02T11:39:20.960Z"
   },
   {
    "duration": 230,
    "start_time": "2022-06-02T11:39:20.975Z"
   },
   {
    "duration": 456,
    "start_time": "2022-06-02T11:39:21.207Z"
   },
   {
    "duration": 8576,
    "start_time": "2022-06-02T11:39:21.665Z"
   },
   {
    "duration": 26,
    "start_time": "2022-06-02T11:39:43.922Z"
   },
   {
    "duration": 56,
    "start_time": "2022-06-02T11:45:53.321Z"
   },
   {
    "duration": 40,
    "start_time": "2022-06-02T11:46:03.275Z"
   },
   {
    "duration": 14,
    "start_time": "2022-06-02T12:35:58.437Z"
   },
   {
    "duration": 4,
    "start_time": "2022-06-02T12:36:17.524Z"
   },
   {
    "duration": 101,
    "start_time": "2022-06-02T12:36:17.530Z"
   },
   {
    "duration": 36,
    "start_time": "2022-06-02T12:36:17.633Z"
   },
   {
    "duration": 16,
    "start_time": "2022-06-02T12:36:17.670Z"
   },
   {
    "duration": 46,
    "start_time": "2022-06-02T12:36:17.688Z"
   },
   {
    "duration": 32,
    "start_time": "2022-06-02T12:36:17.746Z"
   },
   {
    "duration": 8,
    "start_time": "2022-06-02T12:36:17.781Z"
   },
   {
    "duration": 64,
    "start_time": "2022-06-02T12:36:17.791Z"
   },
   {
    "duration": 27,
    "start_time": "2022-06-02T12:36:17.858Z"
   },
   {
    "duration": 16,
    "start_time": "2022-06-02T12:36:17.887Z"
   },
   {
    "duration": 74,
    "start_time": "2022-06-02T12:36:17.905Z"
   },
   {
    "duration": 65,
    "start_time": "2022-06-02T12:36:17.981Z"
   },
   {
    "duration": 21,
    "start_time": "2022-06-02T12:36:18.049Z"
   },
   {
    "duration": 13,
    "start_time": "2022-06-02T12:36:18.073Z"
   },
   {
    "duration": 269,
    "start_time": "2022-06-02T12:36:18.088Z"
   },
   {
    "duration": 350,
    "start_time": "2022-06-02T12:36:18.359Z"
   },
   {
    "duration": 7309,
    "start_time": "2022-06-02T12:36:18.711Z"
   },
   {
    "duration": 42,
    "start_time": "2022-06-02T12:36:26.026Z"
   },
   {
    "duration": 16,
    "start_time": "2022-06-02T12:36:26.071Z"
   },
   {
    "duration": 74,
    "start_time": "2022-06-02T12:36:26.089Z"
   },
   {
    "duration": 3,
    "start_time": "2022-06-02T12:36:26.165Z"
   },
   {
    "duration": 9,
    "start_time": "2022-06-02T12:36:26.169Z"
   },
   {
    "duration": 487,
    "start_time": "2022-06-02T12:36:26.180Z"
   },
   {
    "duration": 381,
    "start_time": "2022-06-02T12:36:26.669Z"
   },
   {
    "duration": 29,
    "start_time": "2022-06-02T12:36:27.054Z"
   },
   {
    "duration": 13,
    "start_time": "2022-06-02T12:36:27.085Z"
   },
   {
    "duration": 239,
    "start_time": "2022-06-02T12:36:39.535Z"
   },
   {
    "duration": 271,
    "start_time": "2022-06-02T12:36:58.277Z"
   },
   {
    "duration": 232,
    "start_time": "2022-06-02T12:37:29.769Z"
   },
   {
    "duration": 1380,
    "start_time": "2022-06-03T10:40:28.385Z"
   },
   {
    "duration": 126,
    "start_time": "2022-06-03T10:40:29.770Z"
   },
   {
    "duration": 54,
    "start_time": "2022-06-03T10:40:29.897Z"
   },
   {
    "duration": 27,
    "start_time": "2022-06-03T10:40:29.953Z"
   },
   {
    "duration": 22,
    "start_time": "2022-06-03T10:40:29.981Z"
   },
   {
    "duration": 33,
    "start_time": "2022-06-03T10:40:30.005Z"
   },
   {
    "duration": 8,
    "start_time": "2022-06-03T10:40:30.040Z"
   },
   {
    "duration": 67,
    "start_time": "2022-06-03T10:40:30.050Z"
   },
   {
    "duration": 33,
    "start_time": "2022-06-03T10:40:30.120Z"
   },
   {
    "duration": 14,
    "start_time": "2022-06-03T10:40:30.166Z"
   },
   {
    "duration": 32,
    "start_time": "2022-06-03T10:40:30.181Z"
   },
   {
    "duration": 70,
    "start_time": "2022-06-03T10:40:30.215Z"
   },
   {
    "duration": 18,
    "start_time": "2022-06-03T10:40:30.287Z"
   },
   {
    "duration": 11,
    "start_time": "2022-06-03T10:40:30.307Z"
   },
   {
    "duration": 295,
    "start_time": "2022-06-03T10:40:30.321Z"
   },
   {
    "duration": 465,
    "start_time": "2022-06-03T10:40:30.617Z"
   },
   {
    "duration": 5532,
    "start_time": "2022-06-03T10:40:31.084Z"
   },
   {
    "duration": 31,
    "start_time": "2022-06-03T10:40:36.618Z"
   },
   {
    "duration": 18,
    "start_time": "2022-06-03T10:40:36.669Z"
   },
   {
    "duration": 31,
    "start_time": "2022-06-03T10:40:36.689Z"
   },
   {
    "duration": 228,
    "start_time": "2022-06-03T10:40:36.722Z"
   },
   {
    "duration": 340,
    "start_time": "2022-06-03T10:40:36.952Z"
   },
   {
    "duration": 29,
    "start_time": "2022-06-03T10:40:37.293Z"
   },
   {
    "duration": 256,
    "start_time": "2022-06-03T10:40:37.324Z"
   },
   {
    "duration": 22,
    "start_time": "2022-06-03T10:45:09.059Z"
   },
   {
    "duration": 16,
    "start_time": "2022-06-03T10:45:44.294Z"
   },
   {
    "duration": 331,
    "start_time": "2022-06-03T10:46:05.024Z"
   },
   {
    "duration": 164,
    "start_time": "2022-06-03T10:46:34.463Z"
   },
   {
    "duration": 173,
    "start_time": "2022-06-03T10:46:55.828Z"
   },
   {
    "duration": 182,
    "start_time": "2022-06-03T10:47:30.629Z"
   },
   {
    "duration": 192,
    "start_time": "2022-06-03T10:50:11.853Z"
   },
   {
    "duration": 195,
    "start_time": "2022-06-03T10:51:04.915Z"
   },
   {
    "duration": 170,
    "start_time": "2022-06-03T10:52:11.112Z"
   },
   {
    "duration": 356,
    "start_time": "2022-06-03T11:01:12.616Z"
   },
   {
    "duration": 540,
    "start_time": "2022-06-03T11:01:30.004Z"
   },
   {
    "duration": 581,
    "start_time": "2022-06-03T11:06:51.320Z"
   },
   {
    "duration": 489,
    "start_time": "2022-06-03T11:07:10.734Z"
   },
   {
    "duration": 497,
    "start_time": "2022-06-03T11:08:00.044Z"
   },
   {
    "duration": 508,
    "start_time": "2022-06-03T11:08:41.550Z"
   },
   {
    "duration": 465,
    "start_time": "2022-06-03T11:12:00.431Z"
   },
   {
    "duration": 110,
    "start_time": "2022-06-03T11:17:46.315Z"
   },
   {
    "duration": 906,
    "start_time": "2022-06-03T11:18:10.369Z"
   },
   {
    "duration": 459,
    "start_time": "2022-06-03T11:18:19.536Z"
   },
   {
    "duration": 499,
    "start_time": "2022-06-03T11:18:22.759Z"
   },
   {
    "duration": 36,
    "start_time": "2022-06-03T11:54:42.571Z"
   },
   {
    "duration": 7,
    "start_time": "2022-06-03T11:54:49.461Z"
   },
   {
    "duration": 3,
    "start_time": "2022-06-03T11:56:36.650Z"
   },
   {
    "duration": 58,
    "start_time": "2022-06-03T11:56:36.655Z"
   },
   {
    "duration": 31,
    "start_time": "2022-06-03T11:56:36.715Z"
   },
   {
    "duration": 21,
    "start_time": "2022-06-03T11:56:36.748Z"
   },
   {
    "duration": 15,
    "start_time": "2022-06-03T11:56:36.771Z"
   },
   {
    "duration": 27,
    "start_time": "2022-06-03T11:56:36.788Z"
   },
   {
    "duration": 6,
    "start_time": "2022-06-03T11:56:36.817Z"
   },
   {
    "duration": 62,
    "start_time": "2022-06-03T11:56:36.825Z"
   },
   {
    "duration": 21,
    "start_time": "2022-06-03T11:56:36.889Z"
   },
   {
    "duration": 9,
    "start_time": "2022-06-03T11:56:36.912Z"
   },
   {
    "duration": 47,
    "start_time": "2022-06-03T11:56:36.923Z"
   },
   {
    "duration": 40,
    "start_time": "2022-06-03T11:56:36.972Z"
   },
   {
    "duration": 18,
    "start_time": "2022-06-03T11:56:37.013Z"
   },
   {
    "duration": 37,
    "start_time": "2022-06-03T11:56:37.032Z"
   },
   {
    "duration": 215,
    "start_time": "2022-06-03T11:56:37.071Z"
   },
   {
    "duration": 312,
    "start_time": "2022-06-03T11:56:37.288Z"
   },
   {
    "duration": 5221,
    "start_time": "2022-06-03T11:56:37.602Z"
   },
   {
    "duration": 41,
    "start_time": "2022-06-03T11:56:42.824Z"
   },
   {
    "duration": 12,
    "start_time": "2022-06-03T11:56:42.867Z"
   },
   {
    "duration": 27,
    "start_time": "2022-06-03T11:56:42.880Z"
   },
   {
    "duration": 211,
    "start_time": "2022-06-03T11:56:42.909Z"
   },
   {
    "duration": 309,
    "start_time": "2022-06-03T11:56:43.121Z"
   },
   {
    "duration": 35,
    "start_time": "2022-06-03T11:56:43.432Z"
   },
   {
    "duration": 204,
    "start_time": "2022-06-03T11:56:43.470Z"
   },
   {
    "duration": 473,
    "start_time": "2022-06-03T11:56:43.675Z"
   },
   {
    "duration": 501,
    "start_time": "2022-06-03T11:56:44.149Z"
   },
   {
    "duration": 474,
    "start_time": "2022-06-03T11:56:44.652Z"
   },
   {
    "duration": 7,
    "start_time": "2022-06-03T11:56:45.128Z"
   },
   {
    "duration": 10,
    "start_time": "2022-06-03T11:58:16.564Z"
   },
   {
    "duration": 9,
    "start_time": "2022-06-03T11:58:22.000Z"
   },
   {
    "duration": 9,
    "start_time": "2022-06-03T11:58:34.311Z"
   },
   {
    "duration": 9,
    "start_time": "2022-06-03T11:58:58.042Z"
   },
   {
    "duration": 9,
    "start_time": "2022-06-03T11:59:33.992Z"
   },
   {
    "duration": 17,
    "start_time": "2022-06-03T12:00:00.669Z"
   },
   {
    "duration": 18,
    "start_time": "2022-06-03T12:00:55.562Z"
   },
   {
    "duration": 12,
    "start_time": "2022-06-03T12:01:02.581Z"
   },
   {
    "duration": 10,
    "start_time": "2022-06-03T12:02:11.167Z"
   },
   {
    "duration": 10,
    "start_time": "2022-06-03T12:03:24.866Z"
   },
   {
    "duration": 14,
    "start_time": "2022-06-03T12:03:36.213Z"
   },
   {
    "duration": 14,
    "start_time": "2022-06-03T12:03:52.332Z"
   },
   {
    "duration": 5,
    "start_time": "2022-06-03T12:04:02.015Z"
   },
   {
    "duration": 6,
    "start_time": "2022-06-03T12:04:20.590Z"
   },
   {
    "duration": 13,
    "start_time": "2022-06-03T12:07:55.279Z"
   },
   {
    "duration": 4,
    "start_time": "2022-06-03T12:08:05.456Z"
   },
   {
    "duration": 6,
    "start_time": "2022-06-03T12:08:08.985Z"
   },
   {
    "duration": 4,
    "start_time": "2022-06-03T12:08:19.602Z"
   },
   {
    "duration": 4,
    "start_time": "2022-06-03T12:09:09.703Z"
   },
   {
    "duration": 6,
    "start_time": "2022-06-03T12:09:16.317Z"
   },
   {
    "duration": 239,
    "start_time": "2022-06-03T12:13:20.413Z"
   },
   {
    "duration": 1166,
    "start_time": "2022-06-03T12:24:41.025Z"
   },
   {
    "duration": 53,
    "start_time": "2022-06-03T12:24:42.193Z"
   },
   {
    "duration": 41,
    "start_time": "2022-06-03T12:24:42.248Z"
   },
   {
    "duration": 14,
    "start_time": "2022-06-03T12:24:42.291Z"
   },
   {
    "duration": 17,
    "start_time": "2022-06-03T12:24:42.306Z"
   },
   {
    "duration": 56,
    "start_time": "2022-06-03T12:24:42.324Z"
   },
   {
    "duration": 7,
    "start_time": "2022-06-03T12:24:42.382Z"
   },
   {
    "duration": 33,
    "start_time": "2022-06-03T12:24:42.390Z"
   },
   {
    "duration": 41,
    "start_time": "2022-06-03T12:24:42.424Z"
   },
   {
    "duration": 14,
    "start_time": "2022-06-03T12:24:42.468Z"
   },
   {
    "duration": 27,
    "start_time": "2022-06-03T12:24:42.484Z"
   },
   {
    "duration": 74,
    "start_time": "2022-06-03T12:24:42.513Z"
   },
   {
    "duration": 17,
    "start_time": "2022-06-03T12:24:42.590Z"
   },
   {
    "duration": 9,
    "start_time": "2022-06-03T12:24:42.609Z"
   },
   {
    "duration": 274,
    "start_time": "2022-06-03T12:24:42.620Z"
   },
   {
    "duration": 395,
    "start_time": "2022-06-03T12:24:42.896Z"
   },
   {
    "duration": 5461,
    "start_time": "2022-06-03T12:24:43.292Z"
   },
   {
    "duration": 40,
    "start_time": "2022-06-03T12:24:48.755Z"
   },
   {
    "duration": 10,
    "start_time": "2022-06-03T12:24:48.797Z"
   },
   {
    "duration": 27,
    "start_time": "2022-06-03T12:24:48.809Z"
   },
   {
    "duration": 263,
    "start_time": "2022-06-03T12:24:48.838Z"
   },
   {
    "duration": 385,
    "start_time": "2022-06-03T12:24:49.103Z"
   },
   {
    "duration": 26,
    "start_time": "2022-06-03T12:24:49.490Z"
   },
   {
    "duration": 213,
    "start_time": "2022-06-03T12:24:49.518Z"
   },
   {
    "duration": 686,
    "start_time": "2022-06-03T12:24:49.732Z"
   },
   {
    "duration": 525,
    "start_time": "2022-06-03T12:24:50.420Z"
   },
   {
    "duration": 524,
    "start_time": "2022-06-03T12:24:50.947Z"
   },
   {
    "duration": 13,
    "start_time": "2022-06-03T12:24:51.475Z"
   },
   {
    "duration": 7,
    "start_time": "2022-06-03T12:24:51.490Z"
   },
   {
    "duration": 22,
    "start_time": "2022-06-03T12:24:51.499Z"
   },
   {
    "duration": 23,
    "start_time": "2022-06-03T12:24:51.523Z"
   },
   {
    "duration": 41,
    "start_time": "2022-06-03T15:32:28.227Z"
   },
   {
    "duration": 37,
    "start_time": "2022-06-03T15:33:16.217Z"
   },
   {
    "duration": 58,
    "start_time": "2022-06-03T16:51:32.945Z"
   },
   {
    "duration": 1349,
    "start_time": "2022-06-03T16:51:39.453Z"
   },
   {
    "duration": 96,
    "start_time": "2022-06-03T16:51:40.805Z"
   },
   {
    "duration": 37,
    "start_time": "2022-06-03T16:51:40.903Z"
   },
   {
    "duration": 16,
    "start_time": "2022-06-03T16:51:40.942Z"
   },
   {
    "duration": 16,
    "start_time": "2022-06-03T16:51:40.965Z"
   },
   {
    "duration": 32,
    "start_time": "2022-06-03T16:51:40.983Z"
   },
   {
    "duration": 7,
    "start_time": "2022-06-03T16:51:41.017Z"
   },
   {
    "duration": 67,
    "start_time": "2022-06-03T16:51:41.027Z"
   },
   {
    "duration": 25,
    "start_time": "2022-06-03T16:51:41.095Z"
   },
   {
    "duration": 10,
    "start_time": "2022-06-03T16:51:41.123Z"
   },
   {
    "duration": 51,
    "start_time": "2022-06-03T16:51:41.135Z"
   },
   {
    "duration": 46,
    "start_time": "2022-06-03T16:51:41.188Z"
   },
   {
    "duration": 42,
    "start_time": "2022-06-03T16:51:41.235Z"
   },
   {
    "duration": 10,
    "start_time": "2022-06-03T16:51:41.279Z"
   },
   {
    "duration": 8,
    "start_time": "2022-06-03T16:51:41.291Z"
   },
   {
    "duration": 242,
    "start_time": "2022-06-03T16:51:41.301Z"
   },
   {
    "duration": 387,
    "start_time": "2022-06-03T16:51:41.545Z"
   },
   {
    "duration": 5712,
    "start_time": "2022-06-03T16:51:41.935Z"
   },
   {
    "duration": 37,
    "start_time": "2022-06-03T16:51:47.648Z"
   },
   {
    "duration": 10,
    "start_time": "2022-06-03T16:51:47.687Z"
   },
   {
    "duration": 27,
    "start_time": "2022-06-03T16:51:47.699Z"
   },
   {
    "duration": 227,
    "start_time": "2022-06-03T16:51:47.728Z"
   },
   {
    "duration": 322,
    "start_time": "2022-06-03T16:51:47.957Z"
   },
   {
    "duration": 26,
    "start_time": "2022-06-03T16:51:48.281Z"
   },
   {
    "duration": 219,
    "start_time": "2022-06-03T16:51:48.308Z"
   },
   {
    "duration": 748,
    "start_time": "2022-06-03T16:51:48.529Z"
   },
   {
    "duration": 500,
    "start_time": "2022-06-03T16:51:49.279Z"
   },
   {
    "duration": 484,
    "start_time": "2022-06-03T16:51:49.782Z"
   },
   {
    "duration": 12,
    "start_time": "2022-06-03T16:51:50.267Z"
   },
   {
    "duration": 6,
    "start_time": "2022-06-03T16:51:50.280Z"
   },
   {
    "duration": 13,
    "start_time": "2022-06-03T16:51:50.287Z"
   },
   {
    "duration": 6,
    "start_time": "2022-06-03T16:51:50.302Z"
   },
   {
    "duration": 13,
    "start_time": "2022-06-03T16:53:09.447Z"
   },
   {
    "duration": 11,
    "start_time": "2022-06-03T16:53:51.057Z"
   },
   {
    "duration": 17,
    "start_time": "2022-06-03T16:54:43.485Z"
   },
   {
    "duration": 6,
    "start_time": "2022-06-03T16:58:10.384Z"
   },
   {
    "duration": 7,
    "start_time": "2022-06-03T16:58:30.140Z"
   },
   {
    "duration": 10,
    "start_time": "2022-06-03T16:58:40.413Z"
   },
   {
    "duration": 43,
    "start_time": "2022-06-03T17:07:02.013Z"
   },
   {
    "duration": 30,
    "start_time": "2022-06-03T17:34:06.622Z"
   },
   {
    "duration": 11,
    "start_time": "2022-06-03T17:34:21.584Z"
   },
   {
    "duration": 51,
    "start_time": "2022-06-03T17:34:37.390Z"
   },
   {
    "duration": 272,
    "start_time": "2022-06-03T17:34:42.740Z"
   },
   {
    "duration": 249,
    "start_time": "2022-06-03T17:35:44.881Z"
   },
   {
    "duration": 266,
    "start_time": "2022-06-03T17:36:46.297Z"
   },
   {
    "duration": 564,
    "start_time": "2022-06-03T17:40:01.585Z"
   },
   {
    "duration": 48,
    "start_time": "2022-06-03T17:40:20.903Z"
   },
   {
    "duration": 346,
    "start_time": "2022-06-03T17:40:34.835Z"
   },
   {
    "duration": 9,
    "start_time": "2022-06-03T17:44:51.793Z"
   },
   {
    "duration": 99,
    "start_time": "2022-06-03T17:45:20.496Z"
   },
   {
    "duration": 410,
    "start_time": "2022-06-03T17:45:29.347Z"
   },
   {
    "duration": 534,
    "start_time": "2022-06-03T17:45:44.335Z"
   },
   {
    "duration": 293,
    "start_time": "2022-06-03T17:46:22.833Z"
   },
   {
    "duration": 390,
    "start_time": "2022-06-03T17:46:44.003Z"
   },
   {
    "duration": 240,
    "start_time": "2022-06-03T17:46:58.194Z"
   },
   {
    "duration": 348,
    "start_time": "2022-06-03T17:47:39.221Z"
   },
   {
    "duration": 290,
    "start_time": "2022-06-03T17:48:05.733Z"
   },
   {
    "duration": 1737,
    "start_time": "2022-06-03T17:54:21.650Z"
   },
   {
    "duration": 64,
    "start_time": "2022-06-03T17:54:23.390Z"
   },
   {
    "duration": 61,
    "start_time": "2022-06-03T17:54:23.456Z"
   },
   {
    "duration": 20,
    "start_time": "2022-06-03T17:54:23.522Z"
   },
   {
    "duration": 50,
    "start_time": "2022-06-03T17:54:23.544Z"
   },
   {
    "duration": 80,
    "start_time": "2022-06-03T17:54:23.597Z"
   },
   {
    "duration": 9,
    "start_time": "2022-06-03T17:54:23.679Z"
   },
   {
    "duration": 107,
    "start_time": "2022-06-03T17:54:23.690Z"
   },
   {
    "duration": 41,
    "start_time": "2022-06-03T17:54:23.799Z"
   },
   {
    "duration": 32,
    "start_time": "2022-06-03T17:54:23.844Z"
   },
   {
    "duration": 65,
    "start_time": "2022-06-03T17:54:23.878Z"
   },
   {
    "duration": 72,
    "start_time": "2022-06-03T17:54:23.945Z"
   },
   {
    "duration": 20,
    "start_time": "2022-06-03T17:54:24.019Z"
   },
   {
    "duration": 12,
    "start_time": "2022-06-03T17:54:24.040Z"
   },
   {
    "duration": 38,
    "start_time": "2022-06-03T17:54:24.054Z"
   },
   {
    "duration": 46,
    "start_time": "2022-06-03T17:54:24.095Z"
   },
   {
    "duration": 334,
    "start_time": "2022-06-03T17:54:24.144Z"
   },
   {
    "duration": 665,
    "start_time": "2022-06-03T17:54:24.480Z"
   },
   {
    "duration": 9341,
    "start_time": "2022-06-03T17:54:25.148Z"
   },
   {
    "duration": 61,
    "start_time": "2022-06-03T17:54:34.496Z"
   },
   {
    "duration": 53,
    "start_time": "2022-06-03T17:54:34.563Z"
   },
   {
    "duration": 90,
    "start_time": "2022-06-03T17:54:34.623Z"
   },
   {
    "duration": 373,
    "start_time": "2022-06-03T17:54:34.720Z"
   },
   {
    "duration": 540,
    "start_time": "2022-06-03T17:54:35.100Z"
   },
   {
    "duration": 37,
    "start_time": "2022-06-03T17:54:35.650Z"
   },
   {
    "duration": 364,
    "start_time": "2022-06-03T17:54:35.690Z"
   },
   {
    "duration": 962,
    "start_time": "2022-06-03T17:54:36.056Z"
   },
   {
    "duration": 735,
    "start_time": "2022-06-03T17:54:37.022Z"
   },
   {
    "duration": 732,
    "start_time": "2022-06-03T17:54:37.765Z"
   },
   {
    "duration": 17,
    "start_time": "2022-06-03T17:54:38.499Z"
   },
   {
    "duration": 32,
    "start_time": "2022-06-03T17:54:38.518Z"
   },
   {
    "duration": 88,
    "start_time": "2022-06-03T17:54:38.552Z"
   },
   {
    "duration": 30,
    "start_time": "2022-06-03T17:54:38.642Z"
   },
   {
    "duration": 46,
    "start_time": "2022-06-04T05:40:39.627Z"
   },
   {
    "duration": 60,
    "start_time": "2022-06-04T07:24:42.290Z"
   },
   {
    "duration": 1228,
    "start_time": "2022-06-04T07:24:46.261Z"
   },
   {
    "duration": 180,
    "start_time": "2022-06-04T07:24:47.491Z"
   },
   {
    "duration": 32,
    "start_time": "2022-06-04T07:24:47.673Z"
   },
   {
    "duration": 11,
    "start_time": "2022-06-04T07:24:47.707Z"
   },
   {
    "duration": 21,
    "start_time": "2022-06-04T07:24:47.720Z"
   },
   {
    "duration": 28,
    "start_time": "2022-06-04T07:24:47.742Z"
   },
   {
    "duration": 6,
    "start_time": "2022-06-04T07:24:47.771Z"
   },
   {
    "duration": 51,
    "start_time": "2022-06-04T07:24:47.778Z"
   },
   {
    "duration": 26,
    "start_time": "2022-06-04T07:24:47.831Z"
   },
   {
    "duration": 10,
    "start_time": "2022-06-04T07:24:47.860Z"
   },
   {
    "duration": 23,
    "start_time": "2022-06-04T07:24:47.871Z"
   },
   {
    "duration": 72,
    "start_time": "2022-06-04T07:24:47.895Z"
   },
   {
    "duration": 16,
    "start_time": "2022-06-04T07:24:47.968Z"
   },
   {
    "duration": 10,
    "start_time": "2022-06-04T07:24:47.985Z"
   },
   {
    "duration": 47,
    "start_time": "2022-06-04T07:24:47.996Z"
   },
   {
    "duration": 9,
    "start_time": "2022-06-04T07:24:48.044Z"
   },
   {
    "duration": 207,
    "start_time": "2022-06-04T07:24:48.054Z"
   },
   {
    "duration": 347,
    "start_time": "2022-06-04T07:24:48.262Z"
   },
   {
    "duration": 4938,
    "start_time": "2022-06-04T07:24:48.610Z"
   },
   {
    "duration": 27,
    "start_time": "2022-06-04T07:24:53.549Z"
   },
   {
    "duration": 9,
    "start_time": "2022-06-04T07:24:53.578Z"
   },
   {
    "duration": 60,
    "start_time": "2022-06-04T07:24:53.589Z"
   },
   {
    "duration": 203,
    "start_time": "2022-06-04T07:24:53.650Z"
   },
   {
    "duration": 304,
    "start_time": "2022-06-04T07:24:53.855Z"
   },
   {
    "duration": 22,
    "start_time": "2022-06-04T07:24:54.160Z"
   },
   {
    "duration": 212,
    "start_time": "2022-06-04T07:24:54.184Z"
   },
   {
    "duration": 643,
    "start_time": "2022-06-04T07:24:54.398Z"
   },
   {
    "duration": 456,
    "start_time": "2022-06-04T07:24:55.046Z"
   },
   {
    "duration": 453,
    "start_time": "2022-06-04T07:24:55.503Z"
   },
   {
    "duration": 12,
    "start_time": "2022-06-04T07:24:55.958Z"
   },
   {
    "duration": 6,
    "start_time": "2022-06-04T07:24:55.972Z"
   },
   {
    "duration": 18,
    "start_time": "2022-06-04T07:24:55.979Z"
   },
   {
    "duration": 12,
    "start_time": "2022-06-04T07:24:55.998Z"
   }
  ],
  "kernelspec": {
   "display_name": "Python 3 (ipykernel)",
   "language": "python",
   "name": "python3"
  },
  "language_info": {
   "codemirror_mode": {
    "name": "ipython",
    "version": 3
   },
   "file_extension": ".py",
   "mimetype": "text/x-python",
   "name": "python",
   "nbconvert_exporter": "python",
   "pygments_lexer": "ipython3",
   "version": "3.9.12"
  },
  "toc": {
   "base_numbering": 1,
   "nav_menu": {},
   "number_sections": true,
   "sideBar": true,
   "skip_h1_title": true,
   "title_cell": "Table of Contents",
   "title_sidebar": "Содержание",
   "toc_cell": false,
   "toc_position": {
    "height": "calc(100% - 180px)",
    "left": "10px",
    "top": "150px",
    "width": "165px"
   },
   "toc_section_display": true,
   "toc_window_display": true
  }
 },
 "nbformat": 4,
 "nbformat_minor": 2
}
