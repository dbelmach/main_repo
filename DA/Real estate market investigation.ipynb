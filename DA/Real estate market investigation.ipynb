{
 "cells": [
  {
   "cell_type": "markdown",
   "metadata": {},
   "source": [
    "# Исследование объявлений о продаже квартир"
   ]
  },
  {
   "cell_type": "markdown",
   "metadata": {},
   "source": [
    "**Моя задача** - установить параметры для определения рыночной стоимости объекта недвижимости, т.е. <span style = \"color:blue\">выявить корреляцию между стоимостью и другими характеристиками квартиры</span>.\n",
    "\n",
    "**План работ:**\n",
    "1. Изучить данные в файле.\n",
    "2. Обработать пропуски и дубликаты в данных.\n",
    "3. Добавить в таблицу дополнительные расчетные данные.\n",
    "4. Исследовать полученный результат.\n",
    "5. Выявить необходимые корреляции."
   ]
  },
  {
   "cell_type": "markdown",
   "metadata": {},
   "source": [
    "## Изучение данных из файла"
   ]
  },
  {
   "cell_type": "code",
   "execution_count": 1,
   "metadata": {},
   "outputs": [],
   "source": [
    "# Загружу необхожимые библиотеки\n",
    "import pandas as pd\n",
    "import matplotlib.pyplot as plt\n",
    "import seaborn as sns\n",
    "import math"
   ]
  },
  {
   "cell_type": "code",
   "execution_count": 2,
   "metadata": {},
   "outputs": [],
   "source": [
    "df = pd.read_csv('real_estate_data.csv', sep='\\t') # Читаю файл с данными и сохраняем в датафрейм df"
   ]
  },
  {
   "cell_type": "code",
   "execution_count": 3,
   "metadata": {
    "scrolled": false
   },
   "outputs": [
    {
     "name": "stdout",
     "output_type": "stream",
     "text": [
      "<class 'pandas.core.frame.DataFrame'>\n",
      "RangeIndex: 23699 entries, 0 to 23698\n",
      "Data columns (total 22 columns):\n",
      " #   Column                Non-Null Count  Dtype  \n",
      "---  ------                --------------  -----  \n",
      " 0   total_images          23699 non-null  int64  \n",
      " 1   last_price            23699 non-null  float64\n",
      " 2   total_area            23699 non-null  float64\n",
      " 3   first_day_exposition  23699 non-null  object \n",
      " 4   rooms                 23699 non-null  int64  \n",
      " 5   ceiling_height        14504 non-null  float64\n",
      " 6   floors_total          23613 non-null  float64\n",
      " 7   living_area           21796 non-null  float64\n",
      " 8   floor                 23699 non-null  int64  \n",
      " 9   is_apartment          2775 non-null   object \n",
      " 10  studio                23699 non-null  bool   \n",
      " 11  open_plan             23699 non-null  bool   \n",
      " 12  kitchen_area          21421 non-null  float64\n",
      " 13  balcony               12180 non-null  float64\n",
      " 14  locality_name         23650 non-null  object \n",
      " 15  airports_nearest      18157 non-null  float64\n",
      " 16  cityCenters_nearest   18180 non-null  float64\n",
      " 17  parks_around3000      18181 non-null  float64\n",
      " 18  parks_nearest         8079 non-null   float64\n",
      " 19  ponds_around3000      18181 non-null  float64\n",
      " 20  ponds_nearest         9110 non-null   float64\n",
      " 21  days_exposition       20518 non-null  float64\n",
      "dtypes: bool(2), float64(14), int64(3), object(3)\n",
      "memory usage: 3.7+ MB\n"
     ]
    },
    {
     "data": {
      "text/html": [
       "<div>\n",
       "<style scoped>\n",
       "    .dataframe tbody tr th:only-of-type {\n",
       "        vertical-align: middle;\n",
       "    }\n",
       "\n",
       "    .dataframe tbody tr th {\n",
       "        vertical-align: top;\n",
       "    }\n",
       "\n",
       "    .dataframe thead th {\n",
       "        text-align: right;\n",
       "    }\n",
       "</style>\n",
       "<table border=\"1\" class=\"dataframe\">\n",
       "  <thead>\n",
       "    <tr style=\"text-align: right;\">\n",
       "      <th></th>\n",
       "      <th>total_images</th>\n",
       "      <th>last_price</th>\n",
       "      <th>total_area</th>\n",
       "      <th>first_day_exposition</th>\n",
       "      <th>rooms</th>\n",
       "      <th>ceiling_height</th>\n",
       "      <th>floors_total</th>\n",
       "      <th>living_area</th>\n",
       "      <th>floor</th>\n",
       "      <th>is_apartment</th>\n",
       "      <th>...</th>\n",
       "      <th>kitchen_area</th>\n",
       "      <th>balcony</th>\n",
       "      <th>locality_name</th>\n",
       "      <th>airports_nearest</th>\n",
       "      <th>cityCenters_nearest</th>\n",
       "      <th>parks_around3000</th>\n",
       "      <th>parks_nearest</th>\n",
       "      <th>ponds_around3000</th>\n",
       "      <th>ponds_nearest</th>\n",
       "      <th>days_exposition</th>\n",
       "    </tr>\n",
       "  </thead>\n",
       "  <tbody>\n",
       "    <tr>\n",
       "      <th>0</th>\n",
       "      <td>20</td>\n",
       "      <td>13000000.0</td>\n",
       "      <td>108.00</td>\n",
       "      <td>2019-03-07T00:00:00</td>\n",
       "      <td>3</td>\n",
       "      <td>2.70</td>\n",
       "      <td>16.0</td>\n",
       "      <td>51.00</td>\n",
       "      <td>8</td>\n",
       "      <td>NaN</td>\n",
       "      <td>...</td>\n",
       "      <td>25.00</td>\n",
       "      <td>NaN</td>\n",
       "      <td>Санкт-Петербург</td>\n",
       "      <td>18863.0</td>\n",
       "      <td>16028.0</td>\n",
       "      <td>1.0</td>\n",
       "      <td>482.0</td>\n",
       "      <td>2.0</td>\n",
       "      <td>755.0</td>\n",
       "      <td>NaN</td>\n",
       "    </tr>\n",
       "    <tr>\n",
       "      <th>1</th>\n",
       "      <td>7</td>\n",
       "      <td>3350000.0</td>\n",
       "      <td>40.40</td>\n",
       "      <td>2018-12-04T00:00:00</td>\n",
       "      <td>1</td>\n",
       "      <td>NaN</td>\n",
       "      <td>11.0</td>\n",
       "      <td>18.60</td>\n",
       "      <td>1</td>\n",
       "      <td>NaN</td>\n",
       "      <td>...</td>\n",
       "      <td>11.00</td>\n",
       "      <td>2.0</td>\n",
       "      <td>посёлок Шушары</td>\n",
       "      <td>12817.0</td>\n",
       "      <td>18603.0</td>\n",
       "      <td>0.0</td>\n",
       "      <td>NaN</td>\n",
       "      <td>0.0</td>\n",
       "      <td>NaN</td>\n",
       "      <td>81.0</td>\n",
       "    </tr>\n",
       "    <tr>\n",
       "      <th>2</th>\n",
       "      <td>10</td>\n",
       "      <td>5196000.0</td>\n",
       "      <td>56.00</td>\n",
       "      <td>2015-08-20T00:00:00</td>\n",
       "      <td>2</td>\n",
       "      <td>NaN</td>\n",
       "      <td>5.0</td>\n",
       "      <td>34.30</td>\n",
       "      <td>4</td>\n",
       "      <td>NaN</td>\n",
       "      <td>...</td>\n",
       "      <td>8.30</td>\n",
       "      <td>0.0</td>\n",
       "      <td>Санкт-Петербург</td>\n",
       "      <td>21741.0</td>\n",
       "      <td>13933.0</td>\n",
       "      <td>1.0</td>\n",
       "      <td>90.0</td>\n",
       "      <td>2.0</td>\n",
       "      <td>574.0</td>\n",
       "      <td>558.0</td>\n",
       "    </tr>\n",
       "    <tr>\n",
       "      <th>3</th>\n",
       "      <td>0</td>\n",
       "      <td>64900000.0</td>\n",
       "      <td>159.00</td>\n",
       "      <td>2015-07-24T00:00:00</td>\n",
       "      <td>3</td>\n",
       "      <td>NaN</td>\n",
       "      <td>14.0</td>\n",
       "      <td>NaN</td>\n",
       "      <td>9</td>\n",
       "      <td>NaN</td>\n",
       "      <td>...</td>\n",
       "      <td>NaN</td>\n",
       "      <td>0.0</td>\n",
       "      <td>Санкт-Петербург</td>\n",
       "      <td>28098.0</td>\n",
       "      <td>6800.0</td>\n",
       "      <td>2.0</td>\n",
       "      <td>84.0</td>\n",
       "      <td>3.0</td>\n",
       "      <td>234.0</td>\n",
       "      <td>424.0</td>\n",
       "    </tr>\n",
       "    <tr>\n",
       "      <th>4</th>\n",
       "      <td>2</td>\n",
       "      <td>10000000.0</td>\n",
       "      <td>100.00</td>\n",
       "      <td>2018-06-19T00:00:00</td>\n",
       "      <td>2</td>\n",
       "      <td>3.03</td>\n",
       "      <td>14.0</td>\n",
       "      <td>32.00</td>\n",
       "      <td>13</td>\n",
       "      <td>NaN</td>\n",
       "      <td>...</td>\n",
       "      <td>41.00</td>\n",
       "      <td>NaN</td>\n",
       "      <td>Санкт-Петербург</td>\n",
       "      <td>31856.0</td>\n",
       "      <td>8098.0</td>\n",
       "      <td>2.0</td>\n",
       "      <td>112.0</td>\n",
       "      <td>1.0</td>\n",
       "      <td>48.0</td>\n",
       "      <td>121.0</td>\n",
       "    </tr>\n",
       "    <tr>\n",
       "      <th>5</th>\n",
       "      <td>10</td>\n",
       "      <td>2890000.0</td>\n",
       "      <td>30.40</td>\n",
       "      <td>2018-09-10T00:00:00</td>\n",
       "      <td>1</td>\n",
       "      <td>NaN</td>\n",
       "      <td>12.0</td>\n",
       "      <td>14.40</td>\n",
       "      <td>5</td>\n",
       "      <td>NaN</td>\n",
       "      <td>...</td>\n",
       "      <td>9.10</td>\n",
       "      <td>NaN</td>\n",
       "      <td>городской посёлок Янино-1</td>\n",
       "      <td>NaN</td>\n",
       "      <td>NaN</td>\n",
       "      <td>NaN</td>\n",
       "      <td>NaN</td>\n",
       "      <td>NaN</td>\n",
       "      <td>NaN</td>\n",
       "      <td>55.0</td>\n",
       "    </tr>\n",
       "    <tr>\n",
       "      <th>6</th>\n",
       "      <td>6</td>\n",
       "      <td>3700000.0</td>\n",
       "      <td>37.30</td>\n",
       "      <td>2017-11-02T00:00:00</td>\n",
       "      <td>1</td>\n",
       "      <td>NaN</td>\n",
       "      <td>26.0</td>\n",
       "      <td>10.60</td>\n",
       "      <td>6</td>\n",
       "      <td>NaN</td>\n",
       "      <td>...</td>\n",
       "      <td>14.40</td>\n",
       "      <td>1.0</td>\n",
       "      <td>посёлок Парголово</td>\n",
       "      <td>52996.0</td>\n",
       "      <td>19143.0</td>\n",
       "      <td>0.0</td>\n",
       "      <td>NaN</td>\n",
       "      <td>0.0</td>\n",
       "      <td>NaN</td>\n",
       "      <td>155.0</td>\n",
       "    </tr>\n",
       "    <tr>\n",
       "      <th>7</th>\n",
       "      <td>5</td>\n",
       "      <td>7915000.0</td>\n",
       "      <td>71.60</td>\n",
       "      <td>2019-04-18T00:00:00</td>\n",
       "      <td>2</td>\n",
       "      <td>NaN</td>\n",
       "      <td>24.0</td>\n",
       "      <td>NaN</td>\n",
       "      <td>22</td>\n",
       "      <td>NaN</td>\n",
       "      <td>...</td>\n",
       "      <td>18.90</td>\n",
       "      <td>2.0</td>\n",
       "      <td>Санкт-Петербург</td>\n",
       "      <td>23982.0</td>\n",
       "      <td>11634.0</td>\n",
       "      <td>0.0</td>\n",
       "      <td>NaN</td>\n",
       "      <td>0.0</td>\n",
       "      <td>NaN</td>\n",
       "      <td>NaN</td>\n",
       "    </tr>\n",
       "    <tr>\n",
       "      <th>8</th>\n",
       "      <td>20</td>\n",
       "      <td>2900000.0</td>\n",
       "      <td>33.16</td>\n",
       "      <td>2018-05-23T00:00:00</td>\n",
       "      <td>1</td>\n",
       "      <td>NaN</td>\n",
       "      <td>27.0</td>\n",
       "      <td>15.43</td>\n",
       "      <td>26</td>\n",
       "      <td>NaN</td>\n",
       "      <td>...</td>\n",
       "      <td>8.81</td>\n",
       "      <td>NaN</td>\n",
       "      <td>посёлок Мурино</td>\n",
       "      <td>NaN</td>\n",
       "      <td>NaN</td>\n",
       "      <td>NaN</td>\n",
       "      <td>NaN</td>\n",
       "      <td>NaN</td>\n",
       "      <td>NaN</td>\n",
       "      <td>189.0</td>\n",
       "    </tr>\n",
       "    <tr>\n",
       "      <th>9</th>\n",
       "      <td>18</td>\n",
       "      <td>5400000.0</td>\n",
       "      <td>61.00</td>\n",
       "      <td>2017-02-26T00:00:00</td>\n",
       "      <td>3</td>\n",
       "      <td>2.50</td>\n",
       "      <td>9.0</td>\n",
       "      <td>43.60</td>\n",
       "      <td>7</td>\n",
       "      <td>NaN</td>\n",
       "      <td>...</td>\n",
       "      <td>6.50</td>\n",
       "      <td>2.0</td>\n",
       "      <td>Санкт-Петербург</td>\n",
       "      <td>50898.0</td>\n",
       "      <td>15008.0</td>\n",
       "      <td>0.0</td>\n",
       "      <td>NaN</td>\n",
       "      <td>0.0</td>\n",
       "      <td>NaN</td>\n",
       "      <td>289.0</td>\n",
       "    </tr>\n",
       "  </tbody>\n",
       "</table>\n",
       "<p>10 rows × 22 columns</p>\n",
       "</div>"
      ],
      "text/plain": [
       "   total_images  last_price  total_area first_day_exposition  rooms  \\\n",
       "0            20  13000000.0      108.00  2019-03-07T00:00:00      3   \n",
       "1             7   3350000.0       40.40  2018-12-04T00:00:00      1   \n",
       "2            10   5196000.0       56.00  2015-08-20T00:00:00      2   \n",
       "3             0  64900000.0      159.00  2015-07-24T00:00:00      3   \n",
       "4             2  10000000.0      100.00  2018-06-19T00:00:00      2   \n",
       "5            10   2890000.0       30.40  2018-09-10T00:00:00      1   \n",
       "6             6   3700000.0       37.30  2017-11-02T00:00:00      1   \n",
       "7             5   7915000.0       71.60  2019-04-18T00:00:00      2   \n",
       "8            20   2900000.0       33.16  2018-05-23T00:00:00      1   \n",
       "9            18   5400000.0       61.00  2017-02-26T00:00:00      3   \n",
       "\n",
       "   ceiling_height  floors_total  living_area  floor is_apartment  ...  \\\n",
       "0            2.70          16.0        51.00      8          NaN  ...   \n",
       "1             NaN          11.0        18.60      1          NaN  ...   \n",
       "2             NaN           5.0        34.30      4          NaN  ...   \n",
       "3             NaN          14.0          NaN      9          NaN  ...   \n",
       "4            3.03          14.0        32.00     13          NaN  ...   \n",
       "5             NaN          12.0        14.40      5          NaN  ...   \n",
       "6             NaN          26.0        10.60      6          NaN  ...   \n",
       "7             NaN          24.0          NaN     22          NaN  ...   \n",
       "8             NaN          27.0        15.43     26          NaN  ...   \n",
       "9            2.50           9.0        43.60      7          NaN  ...   \n",
       "\n",
       "   kitchen_area  balcony              locality_name  airports_nearest  \\\n",
       "0         25.00      NaN            Санкт-Петербург           18863.0   \n",
       "1         11.00      2.0             посёлок Шушары           12817.0   \n",
       "2          8.30      0.0            Санкт-Петербург           21741.0   \n",
       "3           NaN      0.0            Санкт-Петербург           28098.0   \n",
       "4         41.00      NaN            Санкт-Петербург           31856.0   \n",
       "5          9.10      NaN  городской посёлок Янино-1               NaN   \n",
       "6         14.40      1.0          посёлок Парголово           52996.0   \n",
       "7         18.90      2.0            Санкт-Петербург           23982.0   \n",
       "8          8.81      NaN             посёлок Мурино               NaN   \n",
       "9          6.50      2.0            Санкт-Петербург           50898.0   \n",
       "\n",
       "  cityCenters_nearest  parks_around3000  parks_nearest  ponds_around3000  \\\n",
       "0             16028.0               1.0          482.0               2.0   \n",
       "1             18603.0               0.0            NaN               0.0   \n",
       "2             13933.0               1.0           90.0               2.0   \n",
       "3              6800.0               2.0           84.0               3.0   \n",
       "4              8098.0               2.0          112.0               1.0   \n",
       "5                 NaN               NaN            NaN               NaN   \n",
       "6             19143.0               0.0            NaN               0.0   \n",
       "7             11634.0               0.0            NaN               0.0   \n",
       "8                 NaN               NaN            NaN               NaN   \n",
       "9             15008.0               0.0            NaN               0.0   \n",
       "\n",
       "   ponds_nearest  days_exposition  \n",
       "0          755.0              NaN  \n",
       "1            NaN             81.0  \n",
       "2          574.0            558.0  \n",
       "3          234.0            424.0  \n",
       "4           48.0            121.0  \n",
       "5            NaN             55.0  \n",
       "6            NaN            155.0  \n",
       "7            NaN              NaN  \n",
       "8            NaN            189.0  \n",
       "9            NaN            289.0  \n",
       "\n",
       "[10 rows x 22 columns]"
      ]
     },
     "metadata": {},
     "output_type": "display_data"
    },
    {
     "data": {
      "text/html": [
       "<div>\n",
       "<style scoped>\n",
       "    .dataframe tbody tr th:only-of-type {\n",
       "        vertical-align: middle;\n",
       "    }\n",
       "\n",
       "    .dataframe tbody tr th {\n",
       "        vertical-align: top;\n",
       "    }\n",
       "\n",
       "    .dataframe thead th {\n",
       "        text-align: right;\n",
       "    }\n",
       "</style>\n",
       "<table border=\"1\" class=\"dataframe\">\n",
       "  <thead>\n",
       "    <tr style=\"text-align: right;\">\n",
       "      <th></th>\n",
       "      <th>total_images</th>\n",
       "      <th>last_price</th>\n",
       "      <th>total_area</th>\n",
       "      <th>rooms</th>\n",
       "      <th>ceiling_height</th>\n",
       "      <th>floors_total</th>\n",
       "      <th>living_area</th>\n",
       "      <th>floor</th>\n",
       "      <th>kitchen_area</th>\n",
       "      <th>balcony</th>\n",
       "      <th>airports_nearest</th>\n",
       "      <th>cityCenters_nearest</th>\n",
       "      <th>parks_around3000</th>\n",
       "      <th>parks_nearest</th>\n",
       "      <th>ponds_around3000</th>\n",
       "      <th>ponds_nearest</th>\n",
       "      <th>days_exposition</th>\n",
       "    </tr>\n",
       "  </thead>\n",
       "  <tbody>\n",
       "    <tr>\n",
       "      <th>count</th>\n",
       "      <td>23699.000000</td>\n",
       "      <td>2.369900e+04</td>\n",
       "      <td>23699.000000</td>\n",
       "      <td>23699.000000</td>\n",
       "      <td>14504.000000</td>\n",
       "      <td>23613.000000</td>\n",
       "      <td>21796.000000</td>\n",
       "      <td>23699.000000</td>\n",
       "      <td>21421.000000</td>\n",
       "      <td>12180.000000</td>\n",
       "      <td>18157.000000</td>\n",
       "      <td>18180.000000</td>\n",
       "      <td>18181.000000</td>\n",
       "      <td>8079.000000</td>\n",
       "      <td>18181.000000</td>\n",
       "      <td>9110.000000</td>\n",
       "      <td>20518.000000</td>\n",
       "    </tr>\n",
       "    <tr>\n",
       "      <th>mean</th>\n",
       "      <td>9.858475</td>\n",
       "      <td>6.541549e+06</td>\n",
       "      <td>60.348651</td>\n",
       "      <td>2.070636</td>\n",
       "      <td>2.771499</td>\n",
       "      <td>10.673824</td>\n",
       "      <td>34.457852</td>\n",
       "      <td>5.892358</td>\n",
       "      <td>10.569807</td>\n",
       "      <td>1.150082</td>\n",
       "      <td>28793.672193</td>\n",
       "      <td>14191.277833</td>\n",
       "      <td>0.611408</td>\n",
       "      <td>490.804555</td>\n",
       "      <td>0.770255</td>\n",
       "      <td>517.980900</td>\n",
       "      <td>180.888634</td>\n",
       "    </tr>\n",
       "    <tr>\n",
       "      <th>std</th>\n",
       "      <td>5.682529</td>\n",
       "      <td>1.088701e+07</td>\n",
       "      <td>35.654083</td>\n",
       "      <td>1.078405</td>\n",
       "      <td>1.261056</td>\n",
       "      <td>6.597173</td>\n",
       "      <td>22.030445</td>\n",
       "      <td>4.885249</td>\n",
       "      <td>5.905438</td>\n",
       "      <td>1.071300</td>\n",
       "      <td>12630.880622</td>\n",
       "      <td>8608.386210</td>\n",
       "      <td>0.802074</td>\n",
       "      <td>342.317995</td>\n",
       "      <td>0.938346</td>\n",
       "      <td>277.720643</td>\n",
       "      <td>219.727988</td>\n",
       "    </tr>\n",
       "    <tr>\n",
       "      <th>min</th>\n",
       "      <td>0.000000</td>\n",
       "      <td>1.219000e+04</td>\n",
       "      <td>12.000000</td>\n",
       "      <td>0.000000</td>\n",
       "      <td>1.000000</td>\n",
       "      <td>1.000000</td>\n",
       "      <td>2.000000</td>\n",
       "      <td>1.000000</td>\n",
       "      <td>1.300000</td>\n",
       "      <td>0.000000</td>\n",
       "      <td>0.000000</td>\n",
       "      <td>181.000000</td>\n",
       "      <td>0.000000</td>\n",
       "      <td>1.000000</td>\n",
       "      <td>0.000000</td>\n",
       "      <td>13.000000</td>\n",
       "      <td>1.000000</td>\n",
       "    </tr>\n",
       "    <tr>\n",
       "      <th>25%</th>\n",
       "      <td>6.000000</td>\n",
       "      <td>3.400000e+06</td>\n",
       "      <td>40.000000</td>\n",
       "      <td>1.000000</td>\n",
       "      <td>2.520000</td>\n",
       "      <td>5.000000</td>\n",
       "      <td>18.600000</td>\n",
       "      <td>2.000000</td>\n",
       "      <td>7.000000</td>\n",
       "      <td>0.000000</td>\n",
       "      <td>18585.000000</td>\n",
       "      <td>9238.000000</td>\n",
       "      <td>0.000000</td>\n",
       "      <td>288.000000</td>\n",
       "      <td>0.000000</td>\n",
       "      <td>294.000000</td>\n",
       "      <td>45.000000</td>\n",
       "    </tr>\n",
       "    <tr>\n",
       "      <th>50%</th>\n",
       "      <td>9.000000</td>\n",
       "      <td>4.650000e+06</td>\n",
       "      <td>52.000000</td>\n",
       "      <td>2.000000</td>\n",
       "      <td>2.650000</td>\n",
       "      <td>9.000000</td>\n",
       "      <td>30.000000</td>\n",
       "      <td>4.000000</td>\n",
       "      <td>9.100000</td>\n",
       "      <td>1.000000</td>\n",
       "      <td>26726.000000</td>\n",
       "      <td>13098.500000</td>\n",
       "      <td>0.000000</td>\n",
       "      <td>455.000000</td>\n",
       "      <td>1.000000</td>\n",
       "      <td>502.000000</td>\n",
       "      <td>95.000000</td>\n",
       "    </tr>\n",
       "    <tr>\n",
       "      <th>75%</th>\n",
       "      <td>14.000000</td>\n",
       "      <td>6.800000e+06</td>\n",
       "      <td>69.900000</td>\n",
       "      <td>3.000000</td>\n",
       "      <td>2.800000</td>\n",
       "      <td>16.000000</td>\n",
       "      <td>42.300000</td>\n",
       "      <td>8.000000</td>\n",
       "      <td>12.000000</td>\n",
       "      <td>2.000000</td>\n",
       "      <td>37273.000000</td>\n",
       "      <td>16293.000000</td>\n",
       "      <td>1.000000</td>\n",
       "      <td>612.000000</td>\n",
       "      <td>1.000000</td>\n",
       "      <td>729.000000</td>\n",
       "      <td>232.000000</td>\n",
       "    </tr>\n",
       "    <tr>\n",
       "      <th>max</th>\n",
       "      <td>50.000000</td>\n",
       "      <td>7.630000e+08</td>\n",
       "      <td>900.000000</td>\n",
       "      <td>19.000000</td>\n",
       "      <td>100.000000</td>\n",
       "      <td>60.000000</td>\n",
       "      <td>409.700000</td>\n",
       "      <td>33.000000</td>\n",
       "      <td>112.000000</td>\n",
       "      <td>5.000000</td>\n",
       "      <td>84869.000000</td>\n",
       "      <td>65968.000000</td>\n",
       "      <td>3.000000</td>\n",
       "      <td>3190.000000</td>\n",
       "      <td>3.000000</td>\n",
       "      <td>1344.000000</td>\n",
       "      <td>1580.000000</td>\n",
       "    </tr>\n",
       "  </tbody>\n",
       "</table>\n",
       "</div>"
      ],
      "text/plain": [
       "       total_images    last_price    total_area         rooms  ceiling_height  \\\n",
       "count  23699.000000  2.369900e+04  23699.000000  23699.000000    14504.000000   \n",
       "mean       9.858475  6.541549e+06     60.348651      2.070636        2.771499   \n",
       "std        5.682529  1.088701e+07     35.654083      1.078405        1.261056   \n",
       "min        0.000000  1.219000e+04     12.000000      0.000000        1.000000   \n",
       "25%        6.000000  3.400000e+06     40.000000      1.000000        2.520000   \n",
       "50%        9.000000  4.650000e+06     52.000000      2.000000        2.650000   \n",
       "75%       14.000000  6.800000e+06     69.900000      3.000000        2.800000   \n",
       "max       50.000000  7.630000e+08    900.000000     19.000000      100.000000   \n",
       "\n",
       "       floors_total   living_area         floor  kitchen_area       balcony  \\\n",
       "count  23613.000000  21796.000000  23699.000000  21421.000000  12180.000000   \n",
       "mean      10.673824     34.457852      5.892358     10.569807      1.150082   \n",
       "std        6.597173     22.030445      4.885249      5.905438      1.071300   \n",
       "min        1.000000      2.000000      1.000000      1.300000      0.000000   \n",
       "25%        5.000000     18.600000      2.000000      7.000000      0.000000   \n",
       "50%        9.000000     30.000000      4.000000      9.100000      1.000000   \n",
       "75%       16.000000     42.300000      8.000000     12.000000      2.000000   \n",
       "max       60.000000    409.700000     33.000000    112.000000      5.000000   \n",
       "\n",
       "       airports_nearest  cityCenters_nearest  parks_around3000  parks_nearest  \\\n",
       "count      18157.000000         18180.000000      18181.000000    8079.000000   \n",
       "mean       28793.672193         14191.277833          0.611408     490.804555   \n",
       "std        12630.880622          8608.386210          0.802074     342.317995   \n",
       "min            0.000000           181.000000          0.000000       1.000000   \n",
       "25%        18585.000000          9238.000000          0.000000     288.000000   \n",
       "50%        26726.000000         13098.500000          0.000000     455.000000   \n",
       "75%        37273.000000         16293.000000          1.000000     612.000000   \n",
       "max        84869.000000         65968.000000          3.000000    3190.000000   \n",
       "\n",
       "       ponds_around3000  ponds_nearest  days_exposition  \n",
       "count      18181.000000    9110.000000     20518.000000  \n",
       "mean           0.770255     517.980900       180.888634  \n",
       "std            0.938346     277.720643       219.727988  \n",
       "min            0.000000      13.000000         1.000000  \n",
       "25%            0.000000     294.000000        45.000000  \n",
       "50%            1.000000     502.000000        95.000000  \n",
       "75%            1.000000     729.000000       232.000000  \n",
       "max            3.000000    1344.000000      1580.000000  "
      ]
     },
     "metadata": {},
     "output_type": "display_data"
    },
    {
     "name": "stdout",
     "output_type": "stream",
     "text": [
      "Явных дубликатов:  0\n"
     ]
    }
   ],
   "source": [
    "df.info() # Смотрю общее инфо по файлу\n",
    "display(df.head(10))\n",
    "display(df.describe())\n",
    "print('Явных дубликатов: ', df.duplicated().sum()) # Смотрю есть ли явные дубликаты"
   ]
  },
  {
   "cell_type": "code",
   "execution_count": 4,
   "metadata": {},
   "outputs": [
    {
     "data": {
      "text/plain": [
       "0"
      ]
     },
     "execution_count": 4,
     "metadata": {},
     "output_type": "execute_result"
    }
   ],
   "source": [
    "df.duplicated().sum()"
   ]
  },
  {
   "cell_type": "markdown",
   "metadata": {},
   "source": [
    "### Вывод\n",
    "В таблице много пропущенных данных, а также есть вопросы по типам данных. Например, ```first_day_exposition``` нужно сразу поменять на тип datetime, чтобы с ней можно было работать. А вот у столбца ```is_apartment``` тип данных строка из-за большого числа отсутствующих значений. Этот столбец пока не трогаю, т.к. если изменить тип данных, то все пустые значения станут ***True***, что сделает данные куда менее объективными. Оставлю его пока в покое.\n",
    "Некоторые столбцы можно было изменить с float на int, например, балконы или всего этажей, потому что не бывает 2,5 балконов или 14,2 этажа в доме, но пока это не мешает.\n",
    "Еще поправлю заголовки таблицы для единого стиля."
   ]
  },
  {
   "cell_type": "markdown",
   "metadata": {},
   "source": [
    "## Предобработка данных"
   ]
  },
  {
   "cell_type": "code",
   "execution_count": 5,
   "metadata": {},
   "outputs": [],
   "source": [
    "# Сначала поправлю названия столбцов\n",
    "df = df.rename(columns={\n",
    "    'cityCenters_nearest': 'city_centers_nearest',\n",
    "    'parks_around3000':'parks_around_3000',\n",
    "    'ponds_around3000':'ponds_around_3000'}\n",
    "              )"
   ]
  },
  {
   "cell_type": "code",
   "execution_count": 6,
   "metadata": {
    "scrolled": false
   },
   "outputs": [
    {
     "name": "stdout",
     "output_type": "stream",
     "text": [
      "<class 'pandas.core.frame.DataFrame'>\n",
      "RangeIndex: 23699 entries, 0 to 23698\n",
      "Data columns (total 22 columns):\n",
      " #   Column                Non-Null Count  Dtype         \n",
      "---  ------                --------------  -----         \n",
      " 0   total_images          23699 non-null  int64         \n",
      " 1   last_price            23699 non-null  float64       \n",
      " 2   total_area            23699 non-null  float64       \n",
      " 3   first_day_exposition  23699 non-null  datetime64[ns]\n",
      " 4   rooms                 23699 non-null  int64         \n",
      " 5   ceiling_height        14504 non-null  float64       \n",
      " 6   floors_total          23613 non-null  float64       \n",
      " 7   living_area           21796 non-null  float64       \n",
      " 8   floor                 23699 non-null  int64         \n",
      " 9   is_apartment          2775 non-null   object        \n",
      " 10  studio                23699 non-null  bool          \n",
      " 11  open_plan             23699 non-null  bool          \n",
      " 12  kitchen_area          21421 non-null  float64       \n",
      " 13  balcony               12180 non-null  float64       \n",
      " 14  locality_name         23650 non-null  object        \n",
      " 15  airports_nearest      18157 non-null  float64       \n",
      " 16  city_centers_nearest  18180 non-null  float64       \n",
      " 17  parks_around_3000     18181 non-null  float64       \n",
      " 18  parks_nearest         8079 non-null   float64       \n",
      " 19  ponds_around_3000     18181 non-null  float64       \n",
      " 20  ponds_nearest         9110 non-null   float64       \n",
      " 21  days_exposition       20518 non-null  float64       \n",
      "dtypes: bool(2), datetime64[ns](1), float64(14), int64(3), object(2)\n",
      "memory usage: 3.7+ MB\n"
     ]
    }
   ],
   "source": [
    "# Меняю тип first_day_exposition со строки в datetime\n",
    "\n",
    "df['first_day_exposition'] = pd.to_datetime(df['first_day_exposition'], format='%Y-%m-%dT%H:%M:%S')\n",
    "df.info() # Проверка"
   ]
  },
  {
   "cell_type": "markdown",
   "metadata": {},
   "source": [
    "### Теперь разберусь с пропущенными значениями, где это возможно и важно."
   ]
  },
  {
   "cell_type": "code",
   "execution_count": 7,
   "metadata": {
    "scrolled": false
   },
   "outputs": [
    {
     "name": "stdout",
     "output_type": "stream",
     "text": [
      "В столбце ceiling_height пропущено значений: 9195\n"
     ]
    },
    {
     "data": {
      "text/plain": [
       "2.50    3515\n",
       "2.60    1646\n",
       "2.70    1574\n",
       "3.00    1112\n",
       "2.80     993\n",
       "        ... \n",
       "5.00       1\n",
       "2.20       1\n",
       "2.34       1\n",
       "3.93       1\n",
       "3.59       1\n",
       "Name: ceiling_height, Length: 183, dtype: int64"
      ]
     },
     "metadata": {},
     "output_type": "display_data"
    },
    {
     "name": "stdout",
     "output_type": "stream",
     "text": [
      "**************************************************\n",
      "В столбце floors_total пропущено значений: 86\n"
     ]
    },
    {
     "data": {
      "text/plain": [
       "5.0     5788\n",
       "9.0     3761\n",
       "16.0    1376\n",
       "12.0    1362\n",
       "4.0     1200\n",
       "10.0    1174\n",
       "25.0    1075\n",
       "6.0      914\n",
       "17.0     833\n",
       "3.0      668\n",
       "7.0      592\n",
       "14.0     553\n",
       "18.0     505\n",
       "24.0     469\n",
       "8.0      390\n",
       "2.0      383\n",
       "15.0     365\n",
       "23.0     352\n",
       "19.0     339\n",
       "22.0     286\n",
       "20.0     271\n",
       "13.0     229\n",
       "11.0     203\n",
       "27.0     164\n",
       "21.0     158\n",
       "26.0     124\n",
       "1.0       25\n",
       "35.0      24\n",
       "28.0      21\n",
       "36.0       3\n",
       "34.0       1\n",
       "60.0       1\n",
       "29.0       1\n",
       "33.0       1\n",
       "52.0       1\n",
       "37.0       1\n",
       "Name: floors_total, dtype: int64"
      ]
     },
     "metadata": {},
     "output_type": "display_data"
    },
    {
     "name": "stdout",
     "output_type": "stream",
     "text": [
      "**************************************************\n",
      "В столбце living_area пропущено значений: 1903\n"
     ]
    },
    {
     "data": {
      "text/plain": [
       "18.00     882\n",
       "17.00     675\n",
       "30.00     598\n",
       "16.00     486\n",
       "20.00     481\n",
       "         ... \n",
       "76.70       1\n",
       "39.41       1\n",
       "124.90      1\n",
       "36.07       1\n",
       "42.55       1\n",
       "Name: living_area, Length: 1782, dtype: int64"
      ]
     },
     "metadata": {},
     "output_type": "display_data"
    },
    {
     "name": "stdout",
     "output_type": "stream",
     "text": [
      "**************************************************\n",
      "В столбце is_apartment пропущено значений: 20924\n"
     ]
    },
    {
     "data": {
      "text/plain": [
       "False    2725\n",
       "True       50\n",
       "Name: is_apartment, dtype: int64"
      ]
     },
     "metadata": {},
     "output_type": "display_data"
    },
    {
     "name": "stdout",
     "output_type": "stream",
     "text": [
      "**************************************************\n",
      "В столбце kitchen_area пропущено значений: 2278\n"
     ]
    },
    {
     "data": {
      "text/plain": [
       "6.00     1300\n",
       "10.00    1262\n",
       "8.00     1110\n",
       "9.00     1101\n",
       "7.00     1062\n",
       "         ... \n",
       "53.10       1\n",
       "12.56       1\n",
       "11.84       1\n",
       "13.27       1\n",
       "13.83       1\n",
       "Name: kitchen_area, Length: 971, dtype: int64"
      ]
     },
     "metadata": {},
     "output_type": "display_data"
    },
    {
     "name": "stdout",
     "output_type": "stream",
     "text": [
      "**************************************************\n",
      "В столбце balcony пропущено значений: 11519\n"
     ]
    },
    {
     "data": {
      "text/plain": [
       "1.0    4195\n",
       "0.0    3758\n",
       "2.0    3659\n",
       "5.0     304\n",
       "4.0     183\n",
       "3.0      81\n",
       "Name: balcony, dtype: int64"
      ]
     },
     "metadata": {},
     "output_type": "display_data"
    },
    {
     "name": "stdout",
     "output_type": "stream",
     "text": [
      "**************************************************\n",
      "В столбце locality_name пропущено значений: 49\n"
     ]
    },
    {
     "data": {
      "text/plain": [
       "Санкт-Петербург                    15721\n",
       "посёлок Мурино                       522\n",
       "посёлок Шушары                       440\n",
       "Всеволожск                           398\n",
       "Пушкин                               369\n",
       "                                   ...  \n",
       "поселок Каложицы                       1\n",
       "посёлок Платформа 69-й километр        1\n",
       "поселок Почап                          1\n",
       "поселок Гончарово                      1\n",
       "посёлок Дзержинского                   1\n",
       "Name: locality_name, Length: 364, dtype: int64"
      ]
     },
     "metadata": {},
     "output_type": "display_data"
    },
    {
     "name": "stdout",
     "output_type": "stream",
     "text": [
      "**************************************************\n",
      "В столбце airports_nearest пропущено значений: 5542\n"
     ]
    },
    {
     "data": {
      "text/plain": [
       "37434.0    61\n",
       "21928.0    32\n",
       "44870.0    30\n",
       "39946.0    30\n",
       "18732.0    27\n",
       "           ..\n",
       "32366.0     1\n",
       "13024.0     1\n",
       "52394.0     1\n",
       "20007.0     1\n",
       "24665.0     1\n",
       "Name: airports_nearest, Length: 8275, dtype: int64"
      ]
     },
     "metadata": {},
     "output_type": "display_data"
    },
    {
     "name": "stdout",
     "output_type": "stream",
     "text": [
      "**************************************************\n",
      "В столбце city_centers_nearest пропущено значений: 5519\n"
     ]
    },
    {
     "data": {
      "text/plain": [
       "8460.0     61\n",
       "20802.0    32\n",
       "10720.0    30\n",
       "20444.0    27\n",
       "8434.0     27\n",
       "           ..\n",
       "16631.0     1\n",
       "24311.0     1\n",
       "15782.0     1\n",
       "11940.0     1\n",
       "6263.0      1\n",
       "Name: city_centers_nearest, Length: 7642, dtype: int64"
      ]
     },
     "metadata": {},
     "output_type": "display_data"
    },
    {
     "name": "stdout",
     "output_type": "stream",
     "text": [
      "**************************************************\n",
      "В столбце parks_around_3000 пропущено значений: 5518\n"
     ]
    },
    {
     "data": {
      "text/plain": [
       "0.0    10106\n",
       "1.0     5681\n",
       "2.0     1747\n",
       "3.0      647\n",
       "Name: parks_around_3000, dtype: int64"
      ]
     },
     "metadata": {},
     "output_type": "display_data"
    },
    {
     "name": "stdout",
     "output_type": "stream",
     "text": [
      "**************************************************\n",
      "В столбце parks_nearest пропущено значений: 15620\n"
     ]
    },
    {
     "data": {
      "text/plain": [
       "441.0     67\n",
       "173.0     41\n",
       "392.0     41\n",
       "456.0     40\n",
       "471.0     32\n",
       "          ..\n",
       "3.0        1\n",
       "2847.0     1\n",
       "1443.0     1\n",
       "7.0        1\n",
       "2984.0     1\n",
       "Name: parks_nearest, Length: 995, dtype: int64"
      ]
     },
     "metadata": {},
     "output_type": "display_data"
    },
    {
     "name": "stdout",
     "output_type": "stream",
     "text": [
      "**************************************************\n",
      "В столбце ponds_around_3000 пропущено значений: 5518\n"
     ]
    },
    {
     "data": {
      "text/plain": [
       "0.0    9071\n",
       "1.0    5717\n",
       "2.0    1892\n",
       "3.0    1501\n",
       "Name: ponds_around_3000, dtype: int64"
      ]
     },
     "metadata": {},
     "output_type": "display_data"
    },
    {
     "name": "stdout",
     "output_type": "stream",
     "text": [
      "**************************************************\n",
      "В столбце ponds_nearest пропущено значений: 14589\n"
     ]
    },
    {
     "data": {
      "text/plain": [
       "427.0     70\n",
       "454.0     41\n",
       "153.0     40\n",
       "433.0     39\n",
       "474.0     37\n",
       "          ..\n",
       "150.0      1\n",
       "967.0      1\n",
       "131.0      1\n",
       "1164.0     1\n",
       "1134.0     1\n",
       "Name: ponds_nearest, Length: 1096, dtype: int64"
      ]
     },
     "metadata": {},
     "output_type": "display_data"
    },
    {
     "name": "stdout",
     "output_type": "stream",
     "text": [
      "**************************************************\n",
      "В столбце days_exposition пропущено значений: 3181\n"
     ]
    },
    {
     "data": {
      "text/plain": [
       "45.0      880\n",
       "60.0      538\n",
       "7.0       234\n",
       "30.0      208\n",
       "90.0      204\n",
       "         ... \n",
       "1021.0      1\n",
       "1362.0      1\n",
       "1105.0      1\n",
       "795.0       1\n",
       "971.0       1\n",
       "Name: days_exposition, Length: 1141, dtype: int64"
      ]
     },
     "metadata": {},
     "output_type": "display_data"
    },
    {
     "name": "stdout",
     "output_type": "stream",
     "text": [
      "**************************************************\n"
     ]
    }
   ],
   "source": [
    "# Выведу число пропусков и кол-во различных значений по столбцам\n",
    "\n",
    "for column in df.columns:\n",
    "    if df[column].isna().sum() > 0:\n",
    "        print(f'В столбце {column} пропущено значений: {df[column].isna().sum()}')\n",
    "        display(df[column].value_counts())\n",
    "        print('*'*50)"
   ]
  },
  {
   "cell_type": "markdown",
   "metadata": {},
   "source": [
    "Незначительное число пропусков, с которыми можно распрощаться, в столбцах ```locality_name``` и ```floors_total```. Просто уберу строки с пропущенными значениями, это сильно не повлияет на дальнейший анализ."
   ]
  },
  {
   "cell_type": "code",
   "execution_count": 8,
   "metadata": {},
   "outputs": [
    {
     "name": "stdout",
     "output_type": "stream",
     "text": [
      "<class 'pandas.core.frame.DataFrame'>\n",
      "Int64Index: 23565 entries, 0 to 23698\n",
      "Data columns (total 22 columns):\n",
      " #   Column                Non-Null Count  Dtype         \n",
      "---  ------                --------------  -----         \n",
      " 0   total_images          23565 non-null  int64         \n",
      " 1   last_price            23565 non-null  float64       \n",
      " 2   total_area            23565 non-null  float64       \n",
      " 3   first_day_exposition  23565 non-null  datetime64[ns]\n",
      " 4   rooms                 23565 non-null  int64         \n",
      " 5   ceiling_height        14481 non-null  float64       \n",
      " 6   floors_total          23565 non-null  float64       \n",
      " 7   living_area           21700 non-null  float64       \n",
      " 8   floor                 23565 non-null  int64         \n",
      " 9   is_apartment          2760 non-null   object        \n",
      " 10  studio                23565 non-null  bool          \n",
      " 11  open_plan             23565 non-null  bool          \n",
      " 12  kitchen_area          21343 non-null  float64       \n",
      " 13  balcony               12090 non-null  float64       \n",
      " 14  locality_name         23565 non-null  object        \n",
      " 15  airports_nearest      18041 non-null  float64       \n",
      " 16  city_centers_nearest  18064 non-null  float64       \n",
      " 17  parks_around_3000     18065 non-null  float64       \n",
      " 18  parks_nearest         8030 non-null   float64       \n",
      " 19  ponds_around_3000     18065 non-null  float64       \n",
      " 20  ponds_nearest         9036 non-null   float64       \n",
      " 21  days_exposition       20394 non-null  float64       \n",
      "dtypes: bool(2), datetime64[ns](1), float64(14), int64(3), object(2)\n",
      "memory usage: 3.8+ MB\n"
     ]
    }
   ],
   "source": [
    "df = df.dropna(subset=['locality_name', 'floors_total'])\n",
    "df.info() # Проверка результата"
   ]
  },
  {
   "cell_type": "markdown",
   "metadata": {},
   "source": [
    "***Теперь заполню пропуски.*** \n",
    "- В столбце ```ceiling_height``` пропущено значений: 9195.\n",
    "- В столбце ```living_area``` пропущено значений: 1903.\n",
    "- В столбце ```is_apartment``` пропущено значений: 20924.\n",
    "- В столбце ```kitchen_area``` пропущено значений: 2278.\n",
    "- В столбце ```balcony``` пропущено значений: 11519.\n",
    "- В столбце ```airports_nearest``` пропущено значений: 5542.\n",
    "- В столбце ```city_centers_nearest``` пропущено значений: 5519.\n",
    "- В столбце ```parks_around_3000``` пропущено значений: 5518.\n",
    "- В столбце ```parks_nearest``` пропущено значений: 15620.\n",
    "- В столбце ```ponds_around_3000``` пропущено значений: 5518.\n",
    "- В столбце ```ponds_nearest``` пропущено значений: 14589.\n",
    "- В столбце ```days_exposition``` пропущено значений: 3181."
   ]
  },
  {
   "cell_type": "markdown",
   "metadata": {},
   "source": [
    "### Разберусь с высотой потолков"
   ]
  },
  {
   "cell_type": "code",
   "execution_count": 9,
   "metadata": {
    "scrolled": false
   },
   "outputs": [
    {
     "data": {
      "text/plain": [
       "count    14481.000000\n",
       "mean         2.771283\n",
       "std          1.261983\n",
       "min          1.000000\n",
       "25%          2.510000\n",
       "50%          2.650000\n",
       "75%          2.800000\n",
       "max        100.000000\n",
       "Name: ceiling_height, dtype: float64"
      ]
     },
     "metadata": {},
     "output_type": "display_data"
    },
    {
     "data": {
      "text/plain": [
       "2.00      11\n",
       "27.00      8\n",
       "25.00      7\n",
       "8.00       3\n",
       "32.00      2\n",
       "20.00      1\n",
       "1.00       1\n",
       "10.30      1\n",
       "27.50      1\n",
       "22.60      1\n",
       "8.30       1\n",
       "1.75       1\n",
       "14.00      1\n",
       "1.20       1\n",
       "26.00      1\n",
       "24.00      1\n",
       "100.00     1\n",
       "Name: ceiling_height, dtype: int64"
      ]
     },
     "metadata": {},
     "output_type": "display_data"
    },
    {
     "name": "stdout",
     "output_type": "stream",
     "text": [
      "Число пропусков в столбце 9084\n"
     ]
    }
   ],
   "source": [
    "# Изучаю высоту потолков\n",
    "display(df['ceiling_height'].describe())\n",
    "display(\n",
    "    df.query('ceiling_height <= 2 or ceiling_height > 6')['ceiling_height'].value_counts()\n",
    ") # Смотрю кол-во крайне малых и крайне выскоих значений\n",
    "print('Число пропусков в столбце', df['ceiling_height'].isna().sum()) # Количество пропуков"
   ]
  },
  {
   "cell_type": "markdown",
   "metadata": {},
   "source": [
    "Видим странные значения: или слишком малые (менее 2м) или слишком большие (более 6м). Моя гипотеза такова: высоту в 20+ и 30+ метров указали ошибочно, неверно указав разделение порядков чисел, т.е. в действительности там 2+ и 3+ метра, что вполне может быть. А остальные значения при любых манипуляциях окажутся либо слишком малыми либо слишком большими. Тут устанавливаю правило.\n",
    "\n",
    "***Правило***\n",
    "Высота потолков в квартирах может быть от 2.4 до 4 метров.\n",
    "\n",
    "Исправлю данные согласно правилу: часть скорректирую, другую часть удалю.\n",
    "Создам копию датарфейма, чтобы работать с ним, а сырые данные оставлю для сравнения (может пригодиться).\n",
    "Пропущенные значения заполню средними по столбцу."
   ]
  },
  {
   "cell_type": "code",
   "execution_count": 10,
   "metadata": {
    "scrolled": true
   },
   "outputs": [
    {
     "data": {
      "text/plain": [
       "count    23469.000000\n",
       "mean         2.740749\n",
       "std          0.202761\n",
       "min          2.400000\n",
       "25%          2.600000\n",
       "50%          2.771283\n",
       "75%          2.771283\n",
       "max          4.000000\n",
       "Name: ceiling_height, dtype: float64"
      ]
     },
     "metadata": {},
     "output_type": "display_data"
    },
    {
     "name": "stdout",
     "output_type": "stream",
     "text": [
      "Число пропусков в столбце: 0\n"
     ]
    }
   ],
   "source": [
    "df_new = df.copy()\n",
    "df_new['ceiling_height'] = df_new['ceiling_height'].fillna(df_new['ceiling_height'].mean()) # Заполняю пропуски средними значениями\n",
    "df_new['ceiling_height'].apply(lambda x: x/10 if (x > 24) else None) # Меняю значения у 20 и 30 метровых потолков\n",
    "df_new = df_new.query('ceiling_height >= 2.4 and ceiling_height <= 4') # Оставляю строки, где высота потолков от 2.4 до 4 метров\n",
    "display(df_new['ceiling_height'].describe()) # Проверка\n",
    "print('Число пропусков в столбце:', df_new['ceiling_height'].isna().sum())"
   ]
  },
  {
   "cell_type": "markdown",
   "metadata": {},
   "source": [
    "### Изучу значения в ```living_area```."
   ]
  },
  {
   "cell_type": "code",
   "execution_count": 11,
   "metadata": {},
   "outputs": [
    {
     "data": {
      "text/plain": [
       "count    21613.000000\n",
       "mean        34.352410\n",
       "std         21.669848\n",
       "min          2.000000\n",
       "25%         18.600000\n",
       "50%         30.000000\n",
       "75%         42.200000\n",
       "max        409.700000\n",
       "Name: living_area, dtype: float64"
      ]
     },
     "metadata": {},
     "output_type": "display_data"
    },
    {
     "name": "stdout",
     "output_type": "stream",
     "text": [
      "Число квартир с маленькой жилой площадью 128\n",
      "Число квартир с большой жилой площадью 28\n",
      "Число пропусков в столбце 1856\n"
     ]
    }
   ],
   "source": [
    "display(df_new['living_area'].describe())\n",
    "print('Число квартир с маленькой жилой площадью', df_new[df_new['living_area'] < 12]['living_area'].count()) # Число квартир с маленькой жилой площадью\n",
    "print('Число квартир с большой жилой площадью', df_new[df_new['living_area'] > 200]['living_area'].count())\n",
    "print('Число пропусков в столбце', df_new['living_area'].isna().sum()) # Число пропусков в столбце"
   ]
  },
  {
   "cell_type": "markdown",
   "metadata": {},
   "source": [
    "Минимальная жилая площадь составляет всего 2 кв.м. Как минимум странно. При этом квартир с жилой площадью менее 12 метров всего 128. Введу еще одно правило.   \n",
    "\n",
    "***Правило***   \n",
    "Жилую площадь в квартире менее 12 квадратных метров считать крайне малой.   \n",
    "\n",
    "Это или ошибка или выброс. От строк с крайне малой жилой площадью избавлюсь.\n",
    "Максимальное значение - почти 410 метров. Квартиры бывают такими большими. Тем не менее выкину квартиры с жилой площадью более 200 метров, потому что это уже совсем другой класс недвижимости, цены на который зависят от большего числа параметров. Опять же, возможны ошибки при вводе данных."
   ]
  },
  {
   "cell_type": "code",
   "execution_count": 12,
   "metadata": {},
   "outputs": [
    {
     "name": "stdout",
     "output_type": "stream",
     "text": [
      "0.5561161239876843\n",
      "count    21422.000000\n",
      "mean        34.218005\n",
      "std         19.878945\n",
      "min         12.080000\n",
      "25%         18.800000\n",
      "50%         30.000000\n",
      "75%         42.300000\n",
      "max        199.000000\n",
      "Name: living_area, dtype: float64\n"
     ]
    },
    {
     "data": {
      "text/plain": [
       "<AxesSubplot:>"
      ]
     },
     "execution_count": 12,
     "metadata": {},
     "output_type": "execute_result"
    },
    {
     "data": {
      "image/png": "[encoded data removed]",
      "text/plain": [
       "<Figure size 432x288 with 1 Axes>"
      ]
     },
     "metadata": {
      "needs_background": "light"
     },
     "output_type": "display_data"
    }
   ],
   "source": [
    "print(df_new['last_price'].corr(df_new['living_area'])) # Проверим корреляцию между стоимостью и жилой площадью\n",
    "df_new = df_new.query('living_area > 12') # Выбираю только строки с жилой площадью более 12 метров\n",
    "df_new = df_new.query('living_area < 200') # Выбираю только строки с жилой площадью менее 200 метров\n",
    "print(df_new['living_area'].describe())\n",
    "df_new['living_area'].hist(bins=30)"
   ]
  },
  {
   "cell_type": "markdown",
   "metadata": {},
   "source": [
    "### is_apartment\n",
    "В столбце ```is_apartment``` очень много пропусков. При этом нельзя заменить значения, т.к. не понять по косвенным признакам является ли площадь апартаментами или нет. Запомню и передам разработчикам. Скорее всего это поле для ввода не является обязательным и пользователи его просто пропускают."
   ]
  },
  {
   "cell_type": "markdown",
   "metadata": {},
   "source": [
    "### Разберусь с площадью кухонь."
   ]
  },
  {
   "cell_type": "code",
   "execution_count": 13,
   "metadata": {},
   "outputs": [
    {
     "name": "stdout",
     "output_type": "stream",
     "text": [
      "count    20662.000000\n",
      "mean        10.427518\n",
      "std          5.624183\n",
      "min          1.300000\n",
      "25%          7.000000\n",
      "50%          9.000000\n",
      "75%         11.900000\n",
      "max        107.000000\n",
      "Name: kitchen_area, dtype: float64\n",
      "Кол-во кухонь менее 4 метров: 26\n",
      "Кол-во кухонь более 40 метров: 103\n",
      "Пропущенных значений: 760\n"
     ]
    },
    {
     "data": {
      "text/plain": [
       "<AxesSubplot:>"
      ]
     },
     "execution_count": 13,
     "metadata": {},
     "output_type": "execute_result"
    },
    {
     "data": {
      "image/png": "[encoded data removed]",
      "text/plain": [
       "<Figure size 432x288 with 1 Axes>"
      ]
     },
     "metadata": {
      "needs_background": "light"
     },
     "output_type": "display_data"
    }
   ],
   "source": [
    "print(df_new['kitchen_area'].describe())\n",
    "print('Кол-во кухонь менее 4 метров:', df_new[df_new['kitchen_area'] < 4]['kitchen_area'].count()) # Число кухонь менее 4 метров\n",
    "print('Кол-во кухонь более 40 метров:', df_new[df_new['kitchen_area'] > 40]['kitchen_area'].count()) # Число кухонь более 40 метров\n",
    "print('Пропущенных значений:', df_new['kitchen_area'].isna().sum())\n",
    "df_new['kitchen_area'].hist(bins=30)"
   ]
  },
  {
   "cell_type": "markdown",
   "metadata": {},
   "source": [
    "Что можно делать на кухне менее 4 метров? Тоже считаю, что ничего. Избавимся от этих строк.   \n",
    "Большое число кухонь более 18 метров. Предположу, что пользователи имели ввиду, что это кухня-гостинная - это вполне возможно. Но кухни более 50 метров вероятнее всего просто ошибка ввода. Проверю такие по общей площади и стоимости. "
   ]
  },
  {
   "cell_type": "code",
   "execution_count": 14,
   "metadata": {},
   "outputs": [
    {
     "data": {
      "text/html": [
       "<div>\n",
       "<style scoped>\n",
       "    .dataframe tbody tr th:only-of-type {\n",
       "        vertical-align: middle;\n",
       "    }\n",
       "\n",
       "    .dataframe tbody tr th {\n",
       "        vertical-align: top;\n",
       "    }\n",
       "\n",
       "    .dataframe thead th {\n",
       "        text-align: right;\n",
       "    }\n",
       "</style>\n",
       "<table border=\"1\" class=\"dataframe\">\n",
       "  <thead>\n",
       "    <tr style=\"text-align: right;\">\n",
       "      <th></th>\n",
       "      <th>total_images</th>\n",
       "      <th>last_price</th>\n",
       "      <th>total_area</th>\n",
       "      <th>first_day_exposition</th>\n",
       "      <th>rooms</th>\n",
       "      <th>ceiling_height</th>\n",
       "      <th>floors_total</th>\n",
       "      <th>living_area</th>\n",
       "      <th>floor</th>\n",
       "      <th>is_apartment</th>\n",
       "      <th>...</th>\n",
       "      <th>kitchen_area</th>\n",
       "      <th>balcony</th>\n",
       "      <th>locality_name</th>\n",
       "      <th>airports_nearest</th>\n",
       "      <th>city_centers_nearest</th>\n",
       "      <th>parks_around_3000</th>\n",
       "      <th>parks_nearest</th>\n",
       "      <th>ponds_around_3000</th>\n",
       "      <th>ponds_nearest</th>\n",
       "      <th>days_exposition</th>\n",
       "    </tr>\n",
       "  </thead>\n",
       "  <tbody>\n",
       "    <tr>\n",
       "      <th>511</th>\n",
       "      <td>7</td>\n",
       "      <td>5950000.0</td>\n",
       "      <td>69.0</td>\n",
       "      <td>2017-12-21</td>\n",
       "      <td>1</td>\n",
       "      <td>2.771283</td>\n",
       "      <td>16.0</td>\n",
       "      <td>13.0</td>\n",
       "      <td>12</td>\n",
       "      <td>NaN</td>\n",
       "      <td>...</td>\n",
       "      <td>50.0</td>\n",
       "      <td>1.0</td>\n",
       "      <td>посёлок Мурино</td>\n",
       "      <td>NaN</td>\n",
       "      <td>NaN</td>\n",
       "      <td>NaN</td>\n",
       "      <td>NaN</td>\n",
       "      <td>NaN</td>\n",
       "      <td>NaN</td>\n",
       "      <td>56.0</td>\n",
       "    </tr>\n",
       "  </tbody>\n",
       "</table>\n",
       "<p>1 rows × 22 columns</p>\n",
       "</div>"
      ],
      "text/plain": [
       "     total_images  last_price  total_area first_day_exposition  rooms  \\\n",
       "511             7   5950000.0        69.0           2017-12-21      1   \n",
       "\n",
       "     ceiling_height  floors_total  living_area  floor is_apartment  ...  \\\n",
       "511        2.771283          16.0         13.0     12          NaN  ...   \n",
       "\n",
       "     kitchen_area  balcony   locality_name  airports_nearest  \\\n",
       "511          50.0      1.0  посёлок Мурино               NaN   \n",
       "\n",
       "    city_centers_nearest  parks_around_3000  parks_nearest  ponds_around_3000  \\\n",
       "511                  NaN                NaN            NaN                NaN   \n",
       "\n",
       "     ponds_nearest  days_exposition  \n",
       "511            NaN             56.0  \n",
       "\n",
       "[1 rows x 22 columns]"
      ]
     },
     "metadata": {},
     "output_type": "display_data"
    }
   ],
   "source": [
    "display(df_new.query('kitchen_area > 40 and total_area < 70')) # Смотрю на размеры кухонь и общую площадь"
   ]
  },
  {
   "cell_type": "markdown",
   "metadata": {},
   "source": [
    "Наиболее вероятно, что кухни с огромной площадью - это все же кухни-гостинные, т.к. не нашлось небольших квартир с большими кухнями. Ошибок нет.\n",
    "760 пропущенных значений достаточно много, чтобы просто от них избавляться. Поэтому сгруппирую квартиры по площади и заполню площади кухонь средним по группе."
   ]
  },
  {
   "cell_type": "code",
   "execution_count": 15,
   "metadata": {},
   "outputs": [
    {
     "name": "stdout",
     "output_type": "stream",
     "text": [
      "count    21422.000000\n",
      "mean        59.603028\n",
      "std         31.147928\n",
      "min         16.000000\n",
      "25%         40.000000\n",
      "50%         52.000000\n",
      "75%         69.500000\n",
      "max        413.500000\n",
      "Name: total_area, dtype: float64\n"
     ]
    },
    {
     "data": {
      "text/plain": [
       "<AxesSubplot:>"
      ]
     },
     "execution_count": 15,
     "metadata": {},
     "output_type": "execute_result"
    },
    {
     "data": {
      "image/png": "[encoded data removed]",
      "text/plain": [
       "<Figure size 432x288 with 1 Axes>"
      ]
     },
     "metadata": {
      "needs_background": "light"
     },
     "output_type": "display_data"
    }
   ],
   "source": [
    "print(df_new['total_area'].describe())\n",
    "df_new['total_area'].hist(bins=30)"
   ]
  },
  {
   "cell_type": "markdown",
   "metadata": {},
   "source": [
    "Ориентируясь на распределение общих площадей, создам 4 группы квартир по площади:\n",
    "- до 40м - маленькие\n",
    "- от 40м до 60м - средние\n",
    "- от 60м до 90м - большие\n",
    "- более 90м - очень большие"
   ]
  },
  {
   "cell_type": "code",
   "execution_count": 16,
   "metadata": {},
   "outputs": [
    {
     "name": "stdout",
     "output_type": "stream",
     "text": [
      "<class 'pandas.core.frame.DataFrame'>\n",
      "Int64Index: 21372 entries, 0 to 23698\n",
      "Data columns (total 23 columns):\n",
      " #   Column                Non-Null Count  Dtype         \n",
      "---  ------                --------------  -----         \n",
      " 0   total_images          21372 non-null  int64         \n",
      " 1   last_price            21372 non-null  float64       \n",
      " 2   total_area            21372 non-null  float64       \n",
      " 3   first_day_exposition  21372 non-null  datetime64[ns]\n",
      " 4   rooms                 21372 non-null  int64         \n",
      " 5   ceiling_height        21372 non-null  float64       \n",
      " 6   floors_total          21372 non-null  float64       \n",
      " 7   living_area           21372 non-null  float64       \n",
      " 8   floor                 21372 non-null  int64         \n",
      " 9   is_apartment          2604 non-null   object        \n",
      " 10  studio                21372 non-null  bool          \n",
      " 11  open_plan             21372 non-null  bool          \n",
      " 12  kitchen_area          21372 non-null  float64       \n",
      " 13  balcony               11447 non-null  float64       \n",
      " 14  locality_name         21372 non-null  object        \n",
      " 15  airports_nearest      16542 non-null  float64       \n",
      " 16  city_centers_nearest  16560 non-null  float64       \n",
      " 17  parks_around_3000     16561 non-null  float64       \n",
      " 18  parks_nearest         7342 non-null   float64       \n",
      " 19  ponds_around_3000     16561 non-null  float64       \n",
      " 20  ponds_nearest         8203 non-null   float64       \n",
      " 21  days_exposition       18439 non-null  float64       \n",
      " 22  area_group            21372 non-null  object        \n",
      "dtypes: bool(2), datetime64[ns](1), float64(14), int64(3), object(3)\n",
      "memory usage: 3.6+ MB\n"
     ]
    }
   ],
   "source": [
    "def area_group(area):\n",
    "    '''\n",
    "    Возвращает категорию квартиры по площади:\n",
    "    до 40м - small (s)\n",
    "    40-60м - medium (m)\n",
    "    60-90м - large (l)\n",
    "    более 90м - extra large (xl)\n",
    "    '''\n",
    "    if 0 <= area <= 40:\n",
    "        return 's'\n",
    "    if 41 <= area <= 60:\n",
    "        return 'm'\n",
    "    if 61 <= area <= 90:\n",
    "        return 'l'\n",
    "    return 'xl'\n",
    "\n",
    "# Применю функцию для создания нового столбца с категорией\n",
    "df_new['area_group'] = df_new['total_area'].apply(area_group)\n",
    "df_new.head() # Проверка\n",
    "\n",
    "df_new_grouped = df_new.groupby('area_group')\n",
    "df_new['kitchen_area'] = df_new_grouped.kitchen_area.apply(lambda x: x.fillna(x.mean())) # Заполняю пропуски средним по группам\n",
    "\n",
    "df_new = df_new.query('kitchen_area > 4') # Избавляемся от маленьких кухонь\n",
    "df_new.info() # Проверка"
   ]
  },
  {
   "cell_type": "markdown",
   "metadata": {},
   "source": [
    "### Балконы\n",
    "Осталось разобраться с балконами"
   ]
  },
  {
   "cell_type": "code",
   "execution_count": 17,
   "metadata": {},
   "outputs": [
    {
     "name": "stdout",
     "output_type": "stream",
     "text": [
      "1.0    3998\n",
      "0.0    3467\n",
      "2.0    3456\n",
      "5.0     278\n",
      "4.0     174\n",
      "3.0      74\n",
      "Name: balcony, dtype: int64\n",
      "Число пропусков в столбце: 9925\n"
     ]
    }
   ],
   "source": [
    "print(df_new['balcony'].value_counts()) # Выведу значения по балконам\n",
    "print('Число пропусков в столбце:', df_new['balcony'].isna().sum())"
   ]
  },
  {
   "cell_type": "markdown",
   "metadata": {},
   "source": [
    "Никогда не видел квартиры с более чем 2 балконами. Ну да ладно. Итак, в таблице почти половина квартир с пропущенными данными по балконам. Т.к. данные заполняют пользователи, велика вероятность, что вместо этих пропусков должны быть 0, т.е. балконов просто нет.\n",
    "Заполню пропуки нулями."
   ]
  },
  {
   "cell_type": "code",
   "execution_count": 18,
   "metadata": {
    "scrolled": true
   },
   "outputs": [
    {
     "name": "stdout",
     "output_type": "stream",
     "text": [
      "Число пропусков в столбце: 0\n"
     ]
    },
    {
     "name": "stderr",
     "output_type": "stream",
     "text": [
      "/var/folders/5c/2q3z541d6f5fv13fbdytg1500000gn/T/ipykernel_5773/1178775018.py:1: SettingWithCopyWarning: \n",
      "A value is trying to be set on a copy of a slice from a DataFrame.\n",
      "Try using .loc[row_indexer,col_indexer] = value instead\n",
      "\n",
      "See the caveats in the documentation: https://pandas.pydata.org/pandas-docs/stable/user_guide/indexing.html#returning-a-view-versus-a-copy\n",
      "  df_new.loc[:, 'balcony'] = df_new.loc[:, 'balcony'].fillna(0)\n"
     ]
    }
   ],
   "source": [
    "df_new.loc[:, 'balcony'] = df_new.loc[:, 'balcony'].fillna(0)\n",
    "print('Число пропусков в столбце:', df_new['balcony'].isna().sum()) # Проверка"
   ]
  },
  {
   "cell_type": "markdown",
   "metadata": {},
   "source": [
    "### Срок хранения объявления\n",
    "Посмотрю поближе на параметр ```days_exposition```."
   ]
  },
  {
   "cell_type": "code",
   "execution_count": 19,
   "metadata": {
    "scrolled": true
   },
   "outputs": [
    {
     "data": {
      "text/plain": [
       "count    18439.000000\n",
       "mean       184.850317\n",
       "std        221.715016\n",
       "min          1.000000\n",
       "25%         44.000000\n",
       "50%        101.000000\n",
       "75%        238.000000\n",
       "max       1580.000000\n",
       "Name: days_exposition, dtype: float64"
      ]
     },
     "execution_count": 19,
     "metadata": {},
     "output_type": "execute_result"
    }
   ],
   "source": [
    "df_new['days_exposition'].describe()"
   ]
  },
  {
   "cell_type": "markdown",
   "metadata": {},
   "source": [
    "В столбце нет значения 0 и нет дробных значений. Это может указывать на то, что пропуски значений у тех объявлений, которые висели менее суток. Заполню пропуски."
   ]
  },
  {
   "cell_type": "code",
   "execution_count": 20,
   "metadata": {},
   "outputs": [
    {
     "name": "stdout",
     "output_type": "stream",
     "text": [
      "<class 'pandas.core.frame.DataFrame'>\n",
      "Int64Index: 21372 entries, 0 to 23698\n",
      "Data columns (total 23 columns):\n",
      " #   Column                Non-Null Count  Dtype         \n",
      "---  ------                --------------  -----         \n",
      " 0   total_images          21372 non-null  int64         \n",
      " 1   last_price            21372 non-null  float64       \n",
      " 2   total_area            21372 non-null  float64       \n",
      " 3   first_day_exposition  21372 non-null  datetime64[ns]\n",
      " 4   rooms                 21372 non-null  int64         \n",
      " 5   ceiling_height        21372 non-null  float64       \n",
      " 6   floors_total          21372 non-null  float64       \n",
      " 7   living_area           21372 non-null  float64       \n",
      " 8   floor                 21372 non-null  int64         \n",
      " 9   is_apartment          2604 non-null   object        \n",
      " 10  studio                21372 non-null  bool          \n",
      " 11  open_plan             21372 non-null  bool          \n",
      " 12  kitchen_area          21372 non-null  float64       \n",
      " 13  balcony               21372 non-null  float64       \n",
      " 14  locality_name         21372 non-null  object        \n",
      " 15  airports_nearest      16542 non-null  float64       \n",
      " 16  city_centers_nearest  16560 non-null  float64       \n",
      " 17  parks_around_3000     16561 non-null  float64       \n",
      " 18  parks_nearest         7342 non-null   float64       \n",
      " 19  ponds_around_3000     16561 non-null  float64       \n",
      " 20  ponds_nearest         8203 non-null   float64       \n",
      " 21  days_exposition       21372 non-null  float64       \n",
      " 22  area_group            21372 non-null  object        \n",
      "dtypes: bool(2), datetime64[ns](1), float64(14), int64(3), object(3)\n",
      "memory usage: 3.6+ MB\n"
     ]
    },
    {
     "name": "stderr",
     "output_type": "stream",
     "text": [
      "/var/folders/5c/2q3z541d6f5fv13fbdytg1500000gn/T/ipykernel_5773/1206019529.py:1: SettingWithCopyWarning: \n",
      "A value is trying to be set on a copy of a slice from a DataFrame.\n",
      "Try using .loc[row_indexer,col_indexer] = value instead\n",
      "\n",
      "See the caveats in the documentation: https://pandas.pydata.org/pandas-docs/stable/user_guide/indexing.html#returning-a-view-versus-a-copy\n",
      "  df_new.loc[:, 'days_exposition'] = df_new.loc[:, 'days_exposition'].fillna(0)\n"
     ]
    }
   ],
   "source": [
    "df_new.loc[:, 'days_exposition'] = df_new.loc[:, 'days_exposition'].fillna(0)\n",
    "df_new.info()"
   ]
  },
  {
   "cell_type": "markdown",
   "metadata": {},
   "source": [
    "### Геоданные\n",
    "Последним этапом в подготовке данных будут геоданные таблицы: названия населенных пунктов, удаленность от центра, аэропортов, наличие парков и прудов."
   ]
  },
  {
   "cell_type": "code",
   "execution_count": 21,
   "metadata": {},
   "outputs": [
    {
     "data": {
      "text/plain": [
       "Санкт-Петербург                            14316\n",
       "посёлок Мурино                               450\n",
       "посёлок Шушары                               393\n",
       "Всеволожск                                   368\n",
       "Пушкин                                       341\n",
       "Колпино                                      328\n",
       "посёлок Парголово                            291\n",
       "Гатчина                                      291\n",
       "деревня Кудрово                              256\n",
       "Петергоф                                     196\n",
       "Выборг                                       187\n",
       "Красное Село                                 166\n",
       "Сестрорецк                                   165\n",
       "Кудрово                                      158\n",
       "деревня Новое Девяткино                      136\n",
       "Сертолово                                    134\n",
       "Ломоносов                                    128\n",
       "Сланцы                                       100\n",
       "Тосно                                         94\n",
       "Волхов                                        91\n",
       "Кириши                                        90\n",
       "Кронштадт                                     89\n",
       "Никольское                                    84\n",
       "Коммунар                                      80\n",
       "Кировск                                       78\n",
       "Отрадное                                      76\n",
       "Кингисепп                                     71\n",
       "Сосновый Бор                                  68\n",
       "посёлок Бугры                                 61\n",
       "Приозерск                                     61\n",
       "посёлок Металлострой                          61\n",
       "городской посёлок Янино-1                     56\n",
       "деревня Старая                                56\n",
       "Шлиссельбург                                  55\n",
       "посёлок Стрельна                              41\n",
       "поселок Бугры                                 40\n",
       "посёлок Тельмана                              37\n",
       "Луга                                          37\n",
       "Тихвин                                        35\n",
       "Павловск                                      35\n",
       "поселок Романовка                             35\n",
       "Волосово                                      35\n",
       "Мурино                                        30\n",
       "поселок Мурино                                29\n",
       "посёлок городского типа Сиверский             29\n",
       "Ивангород                                     25\n",
       "городской посёлок Новоселье                   25\n",
       "поселок городского типа имени Свердлова       22\n",
       "Зеленогорск                                   22\n",
       "посёлок городского типа Кузьмоловский         21\n",
       "Name: locality_name, dtype: int64"
      ]
     },
     "metadata": {},
     "output_type": "display_data"
    }
   ],
   "source": [
    "display(df_new['locality_name'].value_counts().head(50))"
   ]
  },
  {
   "cell_type": "markdown",
   "metadata": {},
   "source": [
    "Что ж, есть в значениях различные написания одних  и тех же населенных пунктов. Немного. Поправим."
   ]
  },
  {
   "cell_type": "code",
   "execution_count": 22,
   "metadata": {
    "scrolled": false
   },
   "outputs": [
    {
     "name": "stderr",
     "output_type": "stream",
     "text": [
      "/var/folders/5c/2q3z541d6f5fv13fbdytg1500000gn/T/ipykernel_5773/3428472966.py:14: SettingWithCopyWarning: \n",
      "A value is trying to be set on a copy of a slice from a DataFrame.\n",
      "Try using .loc[row_indexer,col_indexer] = value instead\n",
      "\n",
      "See the caveats in the documentation: https://pandas.pydata.org/pandas-docs/stable/user_guide/indexing.html#returning-a-view-versus-a-copy\n",
      "  df_new['locality_name'] = df_new['locality_name'].apply(locality)\n"
     ]
    },
    {
     "data": {
      "text/plain": [
       "Санкт-Петербург                            14316\n",
       "Мурино                                       509\n",
       "Кудрово                                      414\n",
       "Шушары                                       393\n",
       "Всеволожск                                   368\n",
       "Пушкин                                       341\n",
       "Колпино                                      328\n",
       "Парголово                                    291\n",
       "Гатчина                                      291\n",
       "Петергоф                                     196\n",
       "Выборг                                       187\n",
       "Красное Село                                 166\n",
       "Сестрорецк                                   165\n",
       "деревня Новое Девяткино                      136\n",
       "Сертолово                                    134\n",
       "Ломоносов                                    128\n",
       "Сланцы                                       100\n",
       "Тосно                                         94\n",
       "Волхов                                        91\n",
       "Кириши                                        90\n",
       "Кронштадт                                     89\n",
       "Никольское                                    84\n",
       "Коммунар                                      80\n",
       "Кировск                                       78\n",
       "Отрадное                                      76\n",
       "Кингисепп                                     71\n",
       "Сосновый Бор                                  68\n",
       "посёлок Бугры                                 61\n",
       "посёлок Металлострой                          61\n",
       "Приозерск                                     61\n",
       "деревня Старая                                56\n",
       "городской посёлок Янино-1                     56\n",
       "Шлиссельбург                                  55\n",
       "посёлок Стрельна                              41\n",
       "поселок Бугры                                 40\n",
       "посёлок Тельмана                              37\n",
       "Луга                                          37\n",
       "поселок Романовка                             35\n",
       "Тихвин                                        35\n",
       "Волосово                                      35\n",
       "Павловск                                      35\n",
       "посёлок городского типа Сиверский             29\n",
       "Ивангород                                     25\n",
       "городской посёлок Новоселье                   25\n",
       "поселок городского типа имени Свердлова       22\n",
       "Зеленогорск                                   22\n",
       "посёлок городского типа Кузьмоловский         21\n",
       "деревня Лесколово                             20\n",
       "поселок городского типа Синявино              19\n",
       "поселок городского типа Рощино                19\n",
       "Name: locality_name, dtype: int64"
      ]
     },
     "metadata": {},
     "output_type": "display_data"
    }
   ],
   "source": [
    "def locality(name):\n",
    "    if 'Мурино' in name:\n",
    "        return 'Мурино'\n",
    "    if 'Шушары' in name:\n",
    "        return 'Шушары'\n",
    "    if 'Кудрово' in name:\n",
    "        return 'Кудрово'\n",
    "    if 'Колпино' in name:\n",
    "        return 'Колпино'\n",
    "    if 'Парголово' in name:\n",
    "        return 'Парголово'\n",
    "    return name\n",
    "        \n",
    "df_new['locality_name'] = df_new['locality_name'].apply(locality)\n",
    "display(df_new['locality_name'].value_counts().head(50))"
   ]
  },
  {
   "cell_type": "markdown",
   "metadata": {},
   "source": [
    "В столбцах с кол-вом парков и прудов одинаковое кол-во значений. Посмотрим в одних и тех же ли строках."
   ]
  },
  {
   "cell_type": "code",
   "execution_count": 23,
   "metadata": {
    "scrolled": false
   },
   "outputs": [
    {
     "data": {
      "text/plain": [
       "<AxesSubplot:>"
      ]
     },
     "execution_count": 23,
     "metadata": {},
     "output_type": "execute_result"
    },
    {
     "data": {
      "image/png": "[encoded data removed]",
      "text/plain": [
       "<Figure size 432x288 with 1 Axes>"
      ]
     },
     "metadata": {
      "needs_background": "light"
     },
     "output_type": "display_data"
    }
   ],
   "source": [
    "sns.heatmap(df_new[['parks_around_3000', 'ponds_around_3000']].isna(), yticklabels=False, cbar=False, cmap=\"YlGnBu\")"
   ]
  },
  {
   "cell_type": "markdown",
   "metadata": {},
   "source": [
    "Действительно в одних и тех же строках пользователи не ввели кол-во парков и прудов в радиусе 3км. Скорее всего это так же указывает на отсутствие рядом этих объектов. В городской черте это не редкость. Заполню пропуски нулями."
   ]
  },
  {
   "cell_type": "code",
   "execution_count": 24,
   "metadata": {},
   "outputs": [
    {
     "name": "stdout",
     "output_type": "stream",
     "text": [
      "<class 'pandas.core.frame.DataFrame'>\n",
      "Int64Index: 21372 entries, 0 to 23698\n",
      "Data columns (total 23 columns):\n",
      " #   Column                Non-Null Count  Dtype         \n",
      "---  ------                --------------  -----         \n",
      " 0   total_images          21372 non-null  int64         \n",
      " 1   last_price            21372 non-null  float64       \n",
      " 2   total_area            21372 non-null  float64       \n",
      " 3   first_day_exposition  21372 non-null  datetime64[ns]\n",
      " 4   rooms                 21372 non-null  int64         \n",
      " 5   ceiling_height        21372 non-null  float64       \n",
      " 6   floors_total          21372 non-null  float64       \n",
      " 7   living_area           21372 non-null  float64       \n",
      " 8   floor                 21372 non-null  int64         \n",
      " 9   is_apartment          2604 non-null   object        \n",
      " 10  studio                21372 non-null  bool          \n",
      " 11  open_plan             21372 non-null  bool          \n",
      " 12  kitchen_area          21372 non-null  float64       \n",
      " 13  balcony               21372 non-null  float64       \n",
      " 14  locality_name         21372 non-null  object        \n",
      " 15  airports_nearest      16542 non-null  float64       \n",
      " 16  city_centers_nearest  16560 non-null  float64       \n",
      " 17  parks_around_3000     21372 non-null  float64       \n",
      " 18  parks_nearest         7342 non-null   float64       \n",
      " 19  ponds_around_3000     21372 non-null  float64       \n",
      " 20  ponds_nearest         8203 non-null   float64       \n",
      " 21  days_exposition       21372 non-null  float64       \n",
      " 22  area_group            21372 non-null  object        \n",
      "dtypes: bool(2), datetime64[ns](1), float64(14), int64(3), object(3)\n",
      "memory usage: 3.6+ MB\n"
     ]
    },
    {
     "name": "stderr",
     "output_type": "stream",
     "text": [
      "/var/folders/5c/2q3z541d6f5fv13fbdytg1500000gn/T/ipykernel_5773/114593038.py:1: SettingWithCopyWarning: \n",
      "A value is trying to be set on a copy of a slice from a DataFrame.\n",
      "Try using .loc[row_indexer,col_indexer] = value instead\n",
      "\n",
      "See the caveats in the documentation: https://pandas.pydata.org/pandas-docs/stable/user_guide/indexing.html#returning-a-view-versus-a-copy\n",
      "  df_new[['parks_around_3000', 'ponds_around_3000']] = df_new[['parks_around_3000', 'ponds_around_3000']].fillna(0)\n"
     ]
    }
   ],
   "source": [
    "df_new[['parks_around_3000', 'ponds_around_3000']] = df_new[['parks_around_3000', 'ponds_around_3000']].fillna(0)\n",
    "df_new.info() # Проверка"
   ]
  },
  {
   "cell_type": "markdown",
   "metadata": {},
   "source": [
    "### Изменение типов данных\n",
    "Есть ряд столбцов с типом данных float, которые можно смело перевести в int. Например, кол-во прудов рядом или кол-во балконов.\n",
    "Тут не может быть дробных значений. "
   ]
  },
  {
   "cell_type": "code",
   "execution_count": 25,
   "metadata": {
    "scrolled": false
   },
   "outputs": [
    {
     "name": "stdout",
     "output_type": "stream",
     "text": [
      "<class 'pandas.core.frame.DataFrame'>\n",
      "Int64Index: 21372 entries, 0 to 23698\n",
      "Data columns (total 23 columns):\n",
      " #   Column                Non-Null Count  Dtype         \n",
      "---  ------                --------------  -----         \n",
      " 0   total_images          21372 non-null  int64         \n",
      " 1   last_price            21372 non-null  float64       \n",
      " 2   total_area            21372 non-null  float64       \n",
      " 3   first_day_exposition  21372 non-null  datetime64[ns]\n",
      " 4   rooms                 21372 non-null  int64         \n",
      " 5   ceiling_height        21372 non-null  float64       \n",
      " 6   floors_total          21372 non-null  float64       \n",
      " 7   living_area           21372 non-null  float64       \n",
      " 8   floor                 21372 non-null  int64         \n",
      " 9   is_apartment          2604 non-null   object        \n",
      " 10  studio                21372 non-null  bool          \n",
      " 11  open_plan             21372 non-null  bool          \n",
      " 12  kitchen_area          21372 non-null  float64       \n",
      " 13  balcony               21372 non-null  float64       \n",
      " 14  locality_name         21372 non-null  object        \n",
      " 15  airports_nearest      16542 non-null  float64       \n",
      " 16  city_centers_nearest  16560 non-null  float64       \n",
      " 17  parks_around_3000     21372 non-null  float64       \n",
      " 18  parks_nearest         7342 non-null   float64       \n",
      " 19  ponds_around_3000     21372 non-null  float64       \n",
      " 20  ponds_nearest         8203 non-null   float64       \n",
      " 21  days_exposition       21372 non-null  float64       \n",
      " 22  area_group            21372 non-null  object        \n",
      "dtypes: bool(2), datetime64[ns](1), float64(14), int64(3), object(3)\n",
      "memory usage: 3.6+ MB\n"
     ]
    }
   ],
   "source": [
    "df_new[['floors_total', 'balcony', 'parks_around_3000', 'ponds_around_3000', 'days_exposition']].astype('int')\n",
    "df_new.info()"
   ]
  },
  {
   "cell_type": "markdown",
   "metadata": {},
   "source": [
    "### Вывод\n",
    "С пропусками остались несколько столбцов:\n",
    "1. is_apartment - Потому что более или менее объективно сложно сказать что можно указать на месте пропусков. В таблице есть значения как True так и False.\n",
    "2. Расстояния до ближайших географических объектов. Тут без адреса объекта данные заполнить невозможно."
   ]
  },
  {
   "cell_type": "markdown",
   "metadata": {},
   "source": [
    "## Расчёты и добавление результатов в таблицу"
   ]
  },
  {
   "cell_type": "markdown",
   "metadata": {},
   "source": [
    "Необходимо посчитать и добавить в таблицу:\n",
    "- цену квадратного метра\n",
    "- день недели, месяц и год публикации объявления\n",
    "- этаж квартиры; варианты — первый, последний, другой\n",
    "- соотношение жилой и общей площади, а также отношение площади кухни к общей."
   ]
  },
  {
   "cell_type": "markdown",
   "metadata": {},
   "source": [
    "### Цена квадратного метра"
   ]
  },
  {
   "cell_type": "code",
   "execution_count": 26,
   "metadata": {},
   "outputs": [
    {
     "name": "stderr",
     "output_type": "stream",
     "text": [
      "/var/folders/5c/2q3z541d6f5fv13fbdytg1500000gn/T/ipykernel_5773/2714104595.py:1: SettingWithCopyWarning: \n",
      "A value is trying to be set on a copy of a slice from a DataFrame.\n",
      "Try using .loc[row_indexer,col_indexer] = value instead\n",
      "\n",
      "See the caveats in the documentation: https://pandas.pydata.org/pandas-docs/stable/user_guide/indexing.html#returning-a-view-versus-a-copy\n",
      "  df_new['meter_price'] = df_new['last_price'] / df_new['total_area'] # Делим стоимость на площадь, получаем цену метра\n"
     ]
    },
    {
     "data": {
      "text/html": [
       "<div>\n",
       "<style scoped>\n",
       "    .dataframe tbody tr th:only-of-type {\n",
       "        vertical-align: middle;\n",
       "    }\n",
       "\n",
       "    .dataframe tbody tr th {\n",
       "        vertical-align: top;\n",
       "    }\n",
       "\n",
       "    .dataframe thead th {\n",
       "        text-align: right;\n",
       "    }\n",
       "</style>\n",
       "<table border=\"1\" class=\"dataframe\">\n",
       "  <thead>\n",
       "    <tr style=\"text-align: right;\">\n",
       "      <th></th>\n",
       "      <th>total_images</th>\n",
       "      <th>last_price</th>\n",
       "      <th>total_area</th>\n",
       "      <th>first_day_exposition</th>\n",
       "      <th>rooms</th>\n",
       "      <th>ceiling_height</th>\n",
       "      <th>floors_total</th>\n",
       "      <th>living_area</th>\n",
       "      <th>floor</th>\n",
       "      <th>is_apartment</th>\n",
       "      <th>...</th>\n",
       "      <th>locality_name</th>\n",
       "      <th>airports_nearest</th>\n",
       "      <th>city_centers_nearest</th>\n",
       "      <th>parks_around_3000</th>\n",
       "      <th>parks_nearest</th>\n",
       "      <th>ponds_around_3000</th>\n",
       "      <th>ponds_nearest</th>\n",
       "      <th>days_exposition</th>\n",
       "      <th>area_group</th>\n",
       "      <th>meter_price</th>\n",
       "    </tr>\n",
       "  </thead>\n",
       "  <tbody>\n",
       "    <tr>\n",
       "      <th>0</th>\n",
       "      <td>20</td>\n",
       "      <td>13000000.0</td>\n",
       "      <td>108.0</td>\n",
       "      <td>2019-03-07</td>\n",
       "      <td>3</td>\n",
       "      <td>2.700000</td>\n",
       "      <td>16.0</td>\n",
       "      <td>51.0</td>\n",
       "      <td>8</td>\n",
       "      <td>NaN</td>\n",
       "      <td>...</td>\n",
       "      <td>Санкт-Петербург</td>\n",
       "      <td>18863.0</td>\n",
       "      <td>16028.0</td>\n",
       "      <td>1.0</td>\n",
       "      <td>482.0</td>\n",
       "      <td>2.0</td>\n",
       "      <td>755.0</td>\n",
       "      <td>0.0</td>\n",
       "      <td>xl</td>\n",
       "      <td>120370.370370</td>\n",
       "    </tr>\n",
       "    <tr>\n",
       "      <th>1</th>\n",
       "      <td>7</td>\n",
       "      <td>3350000.0</td>\n",
       "      <td>40.4</td>\n",
       "      <td>2018-12-04</td>\n",
       "      <td>1</td>\n",
       "      <td>2.771283</td>\n",
       "      <td>11.0</td>\n",
       "      <td>18.6</td>\n",
       "      <td>1</td>\n",
       "      <td>NaN</td>\n",
       "      <td>...</td>\n",
       "      <td>Шушары</td>\n",
       "      <td>12817.0</td>\n",
       "      <td>18603.0</td>\n",
       "      <td>0.0</td>\n",
       "      <td>NaN</td>\n",
       "      <td>0.0</td>\n",
       "      <td>NaN</td>\n",
       "      <td>81.0</td>\n",
       "      <td>xl</td>\n",
       "      <td>82920.792079</td>\n",
       "    </tr>\n",
       "    <tr>\n",
       "      <th>2</th>\n",
       "      <td>10</td>\n",
       "      <td>5196000.0</td>\n",
       "      <td>56.0</td>\n",
       "      <td>2015-08-20</td>\n",
       "      <td>2</td>\n",
       "      <td>2.771283</td>\n",
       "      <td>5.0</td>\n",
       "      <td>34.3</td>\n",
       "      <td>4</td>\n",
       "      <td>NaN</td>\n",
       "      <td>...</td>\n",
       "      <td>Санкт-Петербург</td>\n",
       "      <td>21741.0</td>\n",
       "      <td>13933.0</td>\n",
       "      <td>1.0</td>\n",
       "      <td>90.0</td>\n",
       "      <td>2.0</td>\n",
       "      <td>574.0</td>\n",
       "      <td>558.0</td>\n",
       "      <td>m</td>\n",
       "      <td>92785.714286</td>\n",
       "    </tr>\n",
       "    <tr>\n",
       "      <th>4</th>\n",
       "      <td>2</td>\n",
       "      <td>10000000.0</td>\n",
       "      <td>100.0</td>\n",
       "      <td>2018-06-19</td>\n",
       "      <td>2</td>\n",
       "      <td>3.030000</td>\n",
       "      <td>14.0</td>\n",
       "      <td>32.0</td>\n",
       "      <td>13</td>\n",
       "      <td>NaN</td>\n",
       "      <td>...</td>\n",
       "      <td>Санкт-Петербург</td>\n",
       "      <td>31856.0</td>\n",
       "      <td>8098.0</td>\n",
       "      <td>2.0</td>\n",
       "      <td>112.0</td>\n",
       "      <td>1.0</td>\n",
       "      <td>48.0</td>\n",
       "      <td>121.0</td>\n",
       "      <td>xl</td>\n",
       "      <td>100000.000000</td>\n",
       "    </tr>\n",
       "    <tr>\n",
       "      <th>5</th>\n",
       "      <td>10</td>\n",
       "      <td>2890000.0</td>\n",
       "      <td>30.4</td>\n",
       "      <td>2018-09-10</td>\n",
       "      <td>1</td>\n",
       "      <td>2.771283</td>\n",
       "      <td>12.0</td>\n",
       "      <td>14.4</td>\n",
       "      <td>5</td>\n",
       "      <td>NaN</td>\n",
       "      <td>...</td>\n",
       "      <td>городской посёлок Янино-1</td>\n",
       "      <td>NaN</td>\n",
       "      <td>NaN</td>\n",
       "      <td>0.0</td>\n",
       "      <td>NaN</td>\n",
       "      <td>0.0</td>\n",
       "      <td>NaN</td>\n",
       "      <td>55.0</td>\n",
       "      <td>s</td>\n",
       "      <td>95065.789474</td>\n",
       "    </tr>\n",
       "  </tbody>\n",
       "</table>\n",
       "<p>5 rows × 24 columns</p>\n",
       "</div>"
      ],
      "text/plain": [
       "   total_images  last_price  total_area first_day_exposition  rooms  \\\n",
       "0            20  13000000.0       108.0           2019-03-07      3   \n",
       "1             7   3350000.0        40.4           2018-12-04      1   \n",
       "2            10   5196000.0        56.0           2015-08-20      2   \n",
       "4             2  10000000.0       100.0           2018-06-19      2   \n",
       "5            10   2890000.0        30.4           2018-09-10      1   \n",
       "\n",
       "   ceiling_height  floors_total  living_area  floor is_apartment  ...  \\\n",
       "0        2.700000          16.0         51.0      8          NaN  ...   \n",
       "1        2.771283          11.0         18.6      1          NaN  ...   \n",
       "2        2.771283           5.0         34.3      4          NaN  ...   \n",
       "4        3.030000          14.0         32.0     13          NaN  ...   \n",
       "5        2.771283          12.0         14.4      5          NaN  ...   \n",
       "\n",
       "               locality_name  airports_nearest  city_centers_nearest  \\\n",
       "0            Санкт-Петербург           18863.0               16028.0   \n",
       "1                     Шушары           12817.0               18603.0   \n",
       "2            Санкт-Петербург           21741.0               13933.0   \n",
       "4            Санкт-Петербург           31856.0                8098.0   \n",
       "5  городской посёлок Янино-1               NaN                   NaN   \n",
       "\n",
       "   parks_around_3000 parks_nearest  ponds_around_3000  ponds_nearest  \\\n",
       "0                1.0         482.0                2.0          755.0   \n",
       "1                0.0           NaN                0.0            NaN   \n",
       "2                1.0          90.0                2.0          574.0   \n",
       "4                2.0         112.0                1.0           48.0   \n",
       "5                0.0           NaN                0.0            NaN   \n",
       "\n",
       "   days_exposition  area_group    meter_price  \n",
       "0              0.0          xl  120370.370370  \n",
       "1             81.0          xl   82920.792079  \n",
       "2            558.0           m   92785.714286  \n",
       "4            121.0          xl  100000.000000  \n",
       "5             55.0           s   95065.789474  \n",
       "\n",
       "[5 rows x 24 columns]"
      ]
     },
     "metadata": {},
     "output_type": "display_data"
    },
    {
     "name": "stdout",
     "output_type": "stream",
     "text": [
      "<class 'pandas.core.frame.DataFrame'>\n",
      "Int64Index: 21372 entries, 0 to 23698\n",
      "Data columns (total 24 columns):\n",
      " #   Column                Non-Null Count  Dtype         \n",
      "---  ------                --------------  -----         \n",
      " 0   total_images          21372 non-null  int64         \n",
      " 1   last_price            21372 non-null  float64       \n",
      " 2   total_area            21372 non-null  float64       \n",
      " 3   first_day_exposition  21372 non-null  datetime64[ns]\n",
      " 4   rooms                 21372 non-null  int64         \n",
      " 5   ceiling_height        21372 non-null  float64       \n",
      " 6   floors_total          21372 non-null  float64       \n",
      " 7   living_area           21372 non-null  float64       \n",
      " 8   floor                 21372 non-null  int64         \n",
      " 9   is_apartment          2604 non-null   object        \n",
      " 10  studio                21372 non-null  bool          \n",
      " 11  open_plan             21372 non-null  bool          \n",
      " 12  kitchen_area          21372 non-null  float64       \n",
      " 13  balcony               21372 non-null  float64       \n",
      " 14  locality_name         21372 non-null  object        \n",
      " 15  airports_nearest      16542 non-null  float64       \n",
      " 16  city_centers_nearest  16560 non-null  float64       \n",
      " 17  parks_around_3000     21372 non-null  float64       \n",
      " 18  parks_nearest         7342 non-null   float64       \n",
      " 19  ponds_around_3000     21372 non-null  float64       \n",
      " 20  ponds_nearest         8203 non-null   float64       \n",
      " 21  days_exposition       21372 non-null  float64       \n",
      " 22  area_group            21372 non-null  object        \n",
      " 23  meter_price           21372 non-null  float64       \n",
      "dtypes: bool(2), datetime64[ns](1), float64(15), int64(3), object(3)\n",
      "memory usage: 3.8+ MB\n"
     ]
    },
    {
     "data": {
      "text/plain": [
       "None"
      ]
     },
     "metadata": {},
     "output_type": "display_data"
    }
   ],
   "source": [
    "df_new['meter_price'] = df_new['last_price'] / df_new['total_area'] # Делим стоимость на площадь, получаем цену метра\n",
    "display(df_new.head())\n",
    "display(df_new.info())"
   ]
  },
  {
   "cell_type": "markdown",
   "metadata": {},
   "source": [
    "### День недели, месяц и год публикации объявления"
   ]
  },
  {
   "cell_type": "code",
   "execution_count": 27,
   "metadata": {},
   "outputs": [
    {
     "name": "stderr",
     "output_type": "stream",
     "text": [
      "/var/folders/5c/2q3z541d6f5fv13fbdytg1500000gn/T/ipykernel_5773/2471523644.py:3: SettingWithCopyWarning: \n",
      "A value is trying to be set on a copy of a slice from a DataFrame.\n",
      "Try using .loc[row_indexer,col_indexer] = value instead\n",
      "\n",
      "See the caveats in the documentation: https://pandas.pydata.org/pandas-docs/stable/user_guide/indexing.html#returning-a-view-versus-a-copy\n",
      "  df_new['weekday'] = df_new['first_day_exposition'].dt.weekday # Создаю столбец с днем недели\n",
      "/var/folders/5c/2q3z541d6f5fv13fbdytg1500000gn/T/ipykernel_5773/2471523644.py:4: SettingWithCopyWarning: \n",
      "A value is trying to be set on a copy of a slice from a DataFrame.\n",
      "Try using .loc[row_indexer,col_indexer] = value instead\n",
      "\n",
      "See the caveats in the documentation: https://pandas.pydata.org/pandas-docs/stable/user_guide/indexing.html#returning-a-view-versus-a-copy\n",
      "  df_new['month'] = df_new['first_day_exposition'].dt.month # С месяцем\n",
      "/var/folders/5c/2q3z541d6f5fv13fbdytg1500000gn/T/ipykernel_5773/2471523644.py:5: SettingWithCopyWarning: \n",
      "A value is trying to be set on a copy of a slice from a DataFrame.\n",
      "Try using .loc[row_indexer,col_indexer] = value instead\n",
      "\n",
      "See the caveats in the documentation: https://pandas.pydata.org/pandas-docs/stable/user_guide/indexing.html#returning-a-view-versus-a-copy\n",
      "  df_new['year'] = df_new['first_day_exposition'].dt.year # С годом\n"
     ]
    },
    {
     "name": "stdout",
     "output_type": "stream",
     "text": [
      "<class 'pandas.core.frame.DataFrame'>\n",
      "Int64Index: 21372 entries, 0 to 23698\n",
      "Data columns (total 27 columns):\n",
      " #   Column                Non-Null Count  Dtype         \n",
      "---  ------                --------------  -----         \n",
      " 0   total_images          21372 non-null  int64         \n",
      " 1   last_price            21372 non-null  float64       \n",
      " 2   total_area            21372 non-null  float64       \n",
      " 3   first_day_exposition  21372 non-null  datetime64[ns]\n",
      " 4   rooms                 21372 non-null  int64         \n",
      " 5   ceiling_height        21372 non-null  float64       \n",
      " 6   floors_total          21372 non-null  float64       \n",
      " 7   living_area           21372 non-null  float64       \n",
      " 8   floor                 21372 non-null  int64         \n",
      " 9   is_apartment          2604 non-null   object        \n",
      " 10  studio                21372 non-null  bool          \n",
      " 11  open_plan             21372 non-null  bool          \n",
      " 12  kitchen_area          21372 non-null  float64       \n",
      " 13  balcony               21372 non-null  float64       \n",
      " 14  locality_name         21372 non-null  object        \n",
      " 15  airports_nearest      16542 non-null  float64       \n",
      " 16  city_centers_nearest  16560 non-null  float64       \n",
      " 17  parks_around_3000     21372 non-null  float64       \n",
      " 18  parks_nearest         7342 non-null   float64       \n",
      " 19  ponds_around_3000     21372 non-null  float64       \n",
      " 20  ponds_nearest         8203 non-null   float64       \n",
      " 21  days_exposition       21372 non-null  float64       \n",
      " 22  area_group            21372 non-null  object        \n",
      " 23  meter_price           21372 non-null  float64       \n",
      " 24  weekday               21372 non-null  int64         \n",
      " 25  month                 21372 non-null  int64         \n",
      " 26  year                  21372 non-null  int64         \n",
      "dtypes: bool(2), datetime64[ns](1), float64(15), int64(6), object(3)\n",
      "memory usage: 4.3+ MB\n"
     ]
    },
    {
     "data": {
      "text/plain": [
       "None"
      ]
     },
     "metadata": {},
     "output_type": "display_data"
    },
    {
     "data": {
      "text/plain": [
       "3    3896\n",
       "1    3816\n",
       "4    3636\n",
       "2    3570\n",
       "0    3280\n",
       "5    1693\n",
       "6    1481\n",
       "Name: weekday, dtype: int64"
      ]
     },
     "metadata": {},
     "output_type": "display_data"
    },
    {
     "data": {
      "text/plain": [
       "2     2345\n",
       "3     2311\n",
       "11    2220\n",
       "4     2173\n",
       "10    1969\n",
       "9     1857\n",
       "8     1583\n",
       "6     1583\n",
       "7     1510\n",
       "12    1351\n",
       "1     1293\n",
       "5     1177\n",
       "Name: month, dtype: int64"
      ]
     },
     "metadata": {},
     "output_type": "display_data"
    },
    {
     "data": {
      "text/plain": [
       "2017    7516\n",
       "2018    7394\n",
       "2019    2644\n",
       "2016    2600\n",
       "2015    1089\n",
       "2014     129\n",
       "Name: year, dtype: int64"
      ]
     },
     "metadata": {},
     "output_type": "display_data"
    }
   ],
   "source": [
    "import calendar # Импортирую модуль для переименования дней недели и месяцев\n",
    "\n",
    "df_new['weekday'] = df_new['first_day_exposition'].dt.weekday # Создаю столбец с днем недели\n",
    "df_new['month'] = df_new['first_day_exposition'].dt.month # С месяцем\n",
    "df_new['year'] = df_new['first_day_exposition'].dt.year # С годом\n",
    "\n",
    "# Проверки\n",
    "display(df_new.info())\n",
    "display(df_new['weekday'].value_counts())\n",
    "display(df_new['month'].value_counts())\n",
    "display(df_new['year'].value_counts())"
   ]
  },
  {
   "cell_type": "markdown",
   "metadata": {},
   "source": [
    "### Этаж квартиры"
   ]
  },
  {
   "cell_type": "markdown",
   "metadata": {},
   "source": [
    "Задача - указать на каком этаже находится квартира: на первом, последнем или другом.   \n",
    "Создам столбец под указание этажа и функцию для определения группы.   "
   ]
  },
  {
   "cell_type": "code",
   "execution_count": 28,
   "metadata": {},
   "outputs": [
    {
     "name": "stderr",
     "output_type": "stream",
     "text": [
      "/var/folders/5c/2q3z541d6f5fv13fbdytg1500000gn/T/ipykernel_5773/2924078431.py:9: SettingWithCopyWarning: \n",
      "A value is trying to be set on a copy of a slice from a DataFrame.\n",
      "Try using .loc[row_indexer,col_indexer] = value instead\n",
      "\n",
      "See the caveats in the documentation: https://pandas.pydata.org/pandas-docs/stable/user_guide/indexing.html#returning-a-view-versus-a-copy\n",
      "  df_new['floors_group'] = new_list # Добавляю столбец\n"
     ]
    },
    {
     "data": {
      "text/plain": [
       "другой       15740\n",
       "последний     3015\n",
       "первый        2617\n",
       "Name: floors_group, dtype: int64"
      ]
     },
     "execution_count": 28,
     "metadata": {},
     "output_type": "execute_result"
    }
   ],
   "source": [
    "new_list = [] # Создам пустой список, который позже станет столбцом с этажами\n",
    "for x, y in zip(df_new['floor'], df_new['floors_total']): # Перебираю значения в столбцах и сравниваю их\n",
    "    if x == 1:\n",
    "        new_list.append('первый')\n",
    "    elif x == y:\n",
    "        new_list.append('последний')\n",
    "    else:\n",
    "        new_list.append('другой')\n",
    "df_new['floors_group'] = new_list # Добавляю столбец\n",
    "df_new['floors_group'].value_counts() # Проверка"
   ]
  },
  {
   "cell_type": "markdown",
   "metadata": {},
   "source": [
    "### Соотношение жилой и общей площади"
   ]
  },
  {
   "cell_type": "markdown",
   "metadata": {},
   "source": [
    "Необходимо добавить соотношения:\n",
    "- жилой площади к общей\n",
    "- площади кухни к общей площади"
   ]
  },
  {
   "cell_type": "code",
   "execution_count": 29,
   "metadata": {},
   "outputs": [
    {
     "name": "stderr",
     "output_type": "stream",
     "text": [
      "/var/folders/5c/2q3z541d6f5fv13fbdytg1500000gn/T/ipykernel_5773/2501019296.py:1: SettingWithCopyWarning: \n",
      "A value is trying to be set on a copy of a slice from a DataFrame.\n",
      "Try using .loc[row_indexer,col_indexer] = value instead\n",
      "\n",
      "See the caveats in the documentation: https://pandas.pydata.org/pandas-docs/stable/user_guide/indexing.html#returning-a-view-versus-a-copy\n",
      "  df_new['living_%'] = df_new['living_area'] / df_new['total_area']\n",
      "/var/folders/5c/2q3z541d6f5fv13fbdytg1500000gn/T/ipykernel_5773/2501019296.py:2: SettingWithCopyWarning: \n",
      "A value is trying to be set on a copy of a slice from a DataFrame.\n",
      "Try using .loc[row_indexer,col_indexer] = value instead\n",
      "\n",
      "See the caveats in the documentation: https://pandas.pydata.org/pandas-docs/stable/user_guide/indexing.html#returning-a-view-versus-a-copy\n",
      "  df_new['kitchen_%'] = df_new['kitchen_area'] / df_new['total_area']\n"
     ]
    },
    {
     "data": {
      "text/plain": [
       "count    21372.000000\n",
       "mean         0.566159\n",
       "std          0.102678\n",
       "min          0.141304\n",
       "25%          0.497368\n",
       "50%          0.568750\n",
       "75%          0.637715\n",
       "max          1.000000\n",
       "Name: living_%, dtype: float64"
      ]
     },
     "metadata": {},
     "output_type": "display_data"
    },
    {
     "data": {
      "text/plain": [
       "count    21372.000000\n",
       "mean         0.187995\n",
       "std          0.071402\n",
       "min          0.025381\n",
       "25%          0.134350\n",
       "50%          0.173279\n",
       "75%          0.233333\n",
       "max          0.787879\n",
       "Name: kitchen_%, dtype: float64"
      ]
     },
     "metadata": {},
     "output_type": "display_data"
    },
    {
     "data": {
      "text/html": [
       "<div>\n",
       "<style scoped>\n",
       "    .dataframe tbody tr th:only-of-type {\n",
       "        vertical-align: middle;\n",
       "    }\n",
       "\n",
       "    .dataframe tbody tr th {\n",
       "        vertical-align: top;\n",
       "    }\n",
       "\n",
       "    .dataframe thead th {\n",
       "        text-align: right;\n",
       "    }\n",
       "</style>\n",
       "<table border=\"1\" class=\"dataframe\">\n",
       "  <thead>\n",
       "    <tr style=\"text-align: right;\">\n",
       "      <th></th>\n",
       "      <th>total_images</th>\n",
       "      <th>last_price</th>\n",
       "      <th>total_area</th>\n",
       "      <th>first_day_exposition</th>\n",
       "      <th>rooms</th>\n",
       "      <th>ceiling_height</th>\n",
       "      <th>floors_total</th>\n",
       "      <th>living_area</th>\n",
       "      <th>floor</th>\n",
       "      <th>is_apartment</th>\n",
       "      <th>...</th>\n",
       "      <th>ponds_nearest</th>\n",
       "      <th>days_exposition</th>\n",
       "      <th>area_group</th>\n",
       "      <th>meter_price</th>\n",
       "      <th>weekday</th>\n",
       "      <th>month</th>\n",
       "      <th>year</th>\n",
       "      <th>floors_group</th>\n",
       "      <th>living_%</th>\n",
       "      <th>kitchen_%</th>\n",
       "    </tr>\n",
       "  </thead>\n",
       "  <tbody>\n",
       "    <tr>\n",
       "      <th>0</th>\n",
       "      <td>20</td>\n",
       "      <td>13000000.0</td>\n",
       "      <td>108.00</td>\n",
       "      <td>2019-03-07</td>\n",
       "      <td>3</td>\n",
       "      <td>2.700000</td>\n",
       "      <td>16.0</td>\n",
       "      <td>51.00</td>\n",
       "      <td>8</td>\n",
       "      <td>NaN</td>\n",
       "      <td>...</td>\n",
       "      <td>755.0</td>\n",
       "      <td>0.0</td>\n",
       "      <td>xl</td>\n",
       "      <td>120370.370370</td>\n",
       "      <td>3</td>\n",
       "      <td>3</td>\n",
       "      <td>2019</td>\n",
       "      <td>другой</td>\n",
       "      <td>0.472222</td>\n",
       "      <td>0.231481</td>\n",
       "    </tr>\n",
       "    <tr>\n",
       "      <th>1</th>\n",
       "      <td>7</td>\n",
       "      <td>3350000.0</td>\n",
       "      <td>40.40</td>\n",
       "      <td>2018-12-04</td>\n",
       "      <td>1</td>\n",
       "      <td>2.771283</td>\n",
       "      <td>11.0</td>\n",
       "      <td>18.60</td>\n",
       "      <td>1</td>\n",
       "      <td>NaN</td>\n",
       "      <td>...</td>\n",
       "      <td>NaN</td>\n",
       "      <td>81.0</td>\n",
       "      <td>xl</td>\n",
       "      <td>82920.792079</td>\n",
       "      <td>1</td>\n",
       "      <td>12</td>\n",
       "      <td>2018</td>\n",
       "      <td>первый</td>\n",
       "      <td>0.460396</td>\n",
       "      <td>0.272277</td>\n",
       "    </tr>\n",
       "    <tr>\n",
       "      <th>2</th>\n",
       "      <td>10</td>\n",
       "      <td>5196000.0</td>\n",
       "      <td>56.00</td>\n",
       "      <td>2015-08-20</td>\n",
       "      <td>2</td>\n",
       "      <td>2.771283</td>\n",
       "      <td>5.0</td>\n",
       "      <td>34.30</td>\n",
       "      <td>4</td>\n",
       "      <td>NaN</td>\n",
       "      <td>...</td>\n",
       "      <td>574.0</td>\n",
       "      <td>558.0</td>\n",
       "      <td>m</td>\n",
       "      <td>92785.714286</td>\n",
       "      <td>3</td>\n",
       "      <td>8</td>\n",
       "      <td>2015</td>\n",
       "      <td>другой</td>\n",
       "      <td>0.612500</td>\n",
       "      <td>0.148214</td>\n",
       "    </tr>\n",
       "    <tr>\n",
       "      <th>4</th>\n",
       "      <td>2</td>\n",
       "      <td>10000000.0</td>\n",
       "      <td>100.00</td>\n",
       "      <td>2018-06-19</td>\n",
       "      <td>2</td>\n",
       "      <td>3.030000</td>\n",
       "      <td>14.0</td>\n",
       "      <td>32.00</td>\n",
       "      <td>13</td>\n",
       "      <td>NaN</td>\n",
       "      <td>...</td>\n",
       "      <td>48.0</td>\n",
       "      <td>121.0</td>\n",
       "      <td>xl</td>\n",
       "      <td>100000.000000</td>\n",
       "      <td>1</td>\n",
       "      <td>6</td>\n",
       "      <td>2018</td>\n",
       "      <td>другой</td>\n",
       "      <td>0.320000</td>\n",
       "      <td>0.410000</td>\n",
       "    </tr>\n",
       "    <tr>\n",
       "      <th>5</th>\n",
       "      <td>10</td>\n",
       "      <td>2890000.0</td>\n",
       "      <td>30.40</td>\n",
       "      <td>2018-09-10</td>\n",
       "      <td>1</td>\n",
       "      <td>2.771283</td>\n",
       "      <td>12.0</td>\n",
       "      <td>14.40</td>\n",
       "      <td>5</td>\n",
       "      <td>NaN</td>\n",
       "      <td>...</td>\n",
       "      <td>NaN</td>\n",
       "      <td>55.0</td>\n",
       "      <td>s</td>\n",
       "      <td>95065.789474</td>\n",
       "      <td>0</td>\n",
       "      <td>9</td>\n",
       "      <td>2018</td>\n",
       "      <td>другой</td>\n",
       "      <td>0.473684</td>\n",
       "      <td>0.299342</td>\n",
       "    </tr>\n",
       "    <tr>\n",
       "      <th>8</th>\n",
       "      <td>20</td>\n",
       "      <td>2900000.0</td>\n",
       "      <td>33.16</td>\n",
       "      <td>2018-05-23</td>\n",
       "      <td>1</td>\n",
       "      <td>2.771283</td>\n",
       "      <td>27.0</td>\n",
       "      <td>15.43</td>\n",
       "      <td>26</td>\n",
       "      <td>NaN</td>\n",
       "      <td>...</td>\n",
       "      <td>NaN</td>\n",
       "      <td>189.0</td>\n",
       "      <td>s</td>\n",
       "      <td>87454.764777</td>\n",
       "      <td>2</td>\n",
       "      <td>5</td>\n",
       "      <td>2018</td>\n",
       "      <td>другой</td>\n",
       "      <td>0.465320</td>\n",
       "      <td>0.265682</td>\n",
       "    </tr>\n",
       "    <tr>\n",
       "      <th>9</th>\n",
       "      <td>18</td>\n",
       "      <td>5400000.0</td>\n",
       "      <td>61.00</td>\n",
       "      <td>2017-02-26</td>\n",
       "      <td>3</td>\n",
       "      <td>2.500000</td>\n",
       "      <td>9.0</td>\n",
       "      <td>43.60</td>\n",
       "      <td>7</td>\n",
       "      <td>NaN</td>\n",
       "      <td>...</td>\n",
       "      <td>NaN</td>\n",
       "      <td>289.0</td>\n",
       "      <td>l</td>\n",
       "      <td>88524.590164</td>\n",
       "      <td>6</td>\n",
       "      <td>2</td>\n",
       "      <td>2017</td>\n",
       "      <td>другой</td>\n",
       "      <td>0.714754</td>\n",
       "      <td>0.106557</td>\n",
       "    </tr>\n",
       "    <tr>\n",
       "      <th>10</th>\n",
       "      <td>5</td>\n",
       "      <td>5050000.0</td>\n",
       "      <td>39.60</td>\n",
       "      <td>2017-11-16</td>\n",
       "      <td>1</td>\n",
       "      <td>2.670000</td>\n",
       "      <td>12.0</td>\n",
       "      <td>20.30</td>\n",
       "      <td>3</td>\n",
       "      <td>NaN</td>\n",
       "      <td>...</td>\n",
       "      <td>553.0</td>\n",
       "      <td>137.0</td>\n",
       "      <td>s</td>\n",
       "      <td>127525.252525</td>\n",
       "      <td>3</td>\n",
       "      <td>11</td>\n",
       "      <td>2017</td>\n",
       "      <td>другой</td>\n",
       "      <td>0.512626</td>\n",
       "      <td>0.214646</td>\n",
       "    </tr>\n",
       "    <tr>\n",
       "      <th>11</th>\n",
       "      <td>9</td>\n",
       "      <td>3300000.0</td>\n",
       "      <td>44.00</td>\n",
       "      <td>2018-08-27</td>\n",
       "      <td>2</td>\n",
       "      <td>2.771283</td>\n",
       "      <td>5.0</td>\n",
       "      <td>31.00</td>\n",
       "      <td>4</td>\n",
       "      <td>False</td>\n",
       "      <td>...</td>\n",
       "      <td>NaN</td>\n",
       "      <td>7.0</td>\n",
       "      <td>m</td>\n",
       "      <td>75000.000000</td>\n",
       "      <td>0</td>\n",
       "      <td>8</td>\n",
       "      <td>2018</td>\n",
       "      <td>другой</td>\n",
       "      <td>0.704545</td>\n",
       "      <td>0.136364</td>\n",
       "    </tr>\n",
       "    <tr>\n",
       "      <th>12</th>\n",
       "      <td>10</td>\n",
       "      <td>3890000.0</td>\n",
       "      <td>54.00</td>\n",
       "      <td>2016-06-30</td>\n",
       "      <td>2</td>\n",
       "      <td>2.771283</td>\n",
       "      <td>5.0</td>\n",
       "      <td>30.00</td>\n",
       "      <td>5</td>\n",
       "      <td>NaN</td>\n",
       "      <td>...</td>\n",
       "      <td>NaN</td>\n",
       "      <td>90.0</td>\n",
       "      <td>m</td>\n",
       "      <td>72037.037037</td>\n",
       "      <td>3</td>\n",
       "      <td>6</td>\n",
       "      <td>2016</td>\n",
       "      <td>последний</td>\n",
       "      <td>0.555556</td>\n",
       "      <td>0.166667</td>\n",
       "    </tr>\n",
       "  </tbody>\n",
       "</table>\n",
       "<p>10 rows × 30 columns</p>\n",
       "</div>"
      ],
      "text/plain": [
       "    total_images  last_price  total_area first_day_exposition  rooms  \\\n",
       "0             20  13000000.0      108.00           2019-03-07      3   \n",
       "1              7   3350000.0       40.40           2018-12-04      1   \n",
       "2             10   5196000.0       56.00           2015-08-20      2   \n",
       "4              2  10000000.0      100.00           2018-06-19      2   \n",
       "5             10   2890000.0       30.40           2018-09-10      1   \n",
       "8             20   2900000.0       33.16           2018-05-23      1   \n",
       "9             18   5400000.0       61.00           2017-02-26      3   \n",
       "10             5   5050000.0       39.60           2017-11-16      1   \n",
       "11             9   3300000.0       44.00           2018-08-27      2   \n",
       "12            10   3890000.0       54.00           2016-06-30      2   \n",
       "\n",
       "    ceiling_height  floors_total  living_area  floor is_apartment  ...  \\\n",
       "0         2.700000          16.0        51.00      8          NaN  ...   \n",
       "1         2.771283          11.0        18.60      1          NaN  ...   \n",
       "2         2.771283           5.0        34.30      4          NaN  ...   \n",
       "4         3.030000          14.0        32.00     13          NaN  ...   \n",
       "5         2.771283          12.0        14.40      5          NaN  ...   \n",
       "8         2.771283          27.0        15.43     26          NaN  ...   \n",
       "9         2.500000           9.0        43.60      7          NaN  ...   \n",
       "10        2.670000          12.0        20.30      3          NaN  ...   \n",
       "11        2.771283           5.0        31.00      4        False  ...   \n",
       "12        2.771283           5.0        30.00      5          NaN  ...   \n",
       "\n",
       "    ponds_nearest  days_exposition  area_group    meter_price weekday  month  \\\n",
       "0           755.0              0.0          xl  120370.370370       3      3   \n",
       "1             NaN             81.0          xl   82920.792079       1     12   \n",
       "2           574.0            558.0           m   92785.714286       3      8   \n",
       "4            48.0            121.0          xl  100000.000000       1      6   \n",
       "5             NaN             55.0           s   95065.789474       0      9   \n",
       "8             NaN            189.0           s   87454.764777       2      5   \n",
       "9             NaN            289.0           l   88524.590164       6      2   \n",
       "10          553.0            137.0           s  127525.252525       3     11   \n",
       "11            NaN              7.0           m   75000.000000       0      8   \n",
       "12            NaN             90.0           m   72037.037037       3      6   \n",
       "\n",
       "    year  floors_group  living_%  kitchen_%  \n",
       "0   2019        другой  0.472222   0.231481  \n",
       "1   2018        первый  0.460396   0.272277  \n",
       "2   2015        другой  0.612500   0.148214  \n",
       "4   2018        другой  0.320000   0.410000  \n",
       "5   2018        другой  0.473684   0.299342  \n",
       "8   2018        другой  0.465320   0.265682  \n",
       "9   2017        другой  0.714754   0.106557  \n",
       "10  2017        другой  0.512626   0.214646  \n",
       "11  2018        другой  0.704545   0.136364  \n",
       "12  2016     последний  0.555556   0.166667  \n",
       "\n",
       "[10 rows x 30 columns]"
      ]
     },
     "metadata": {},
     "output_type": "display_data"
    }
   ],
   "source": [
    "df_new['living_%'] = df_new['living_area'] / df_new['total_area']\n",
    "df_new['kitchen_%'] = df_new['kitchen_area'] / df_new['total_area']\n",
    "\n",
    "# Проверки\n",
    "display(df_new['living_%'].describe())\n",
    "display(df_new['kitchen_%'].describe())\n",
    "display(df_new.head(10))"
   ]
  },
  {
   "cell_type": "markdown",
   "metadata": {},
   "source": [
    "## Исследовательский анализ данных"
   ]
  },
  {
   "cell_type": "markdown",
   "metadata": {},
   "source": [
    "### Технические характеристики квартир\n",
    "Изучу технические характеристики квартир. Меня интересуют:\n",
    "- площадь\n",
    "- высота потолков\n",
    "- цена\n",
    "- число комнат"
   ]
  },
  {
   "cell_type": "code",
   "execution_count": 30,
   "metadata": {},
   "outputs": [
    {
     "data": {
      "text/plain": [
       "count    21372.000000\n",
       "mean        59.666671\n",
       "std         31.151527\n",
       "min         16.000000\n",
       "25%         40.000000\n",
       "50%         52.000000\n",
       "75%         69.600000\n",
       "max        413.500000\n",
       "Name: total_area, dtype: float64"
      ]
     },
     "metadata": {},
     "output_type": "display_data"
    },
    {
     "data": {
      "text/plain": [
       "<AxesSubplot:>"
      ]
     },
     "execution_count": 30,
     "metadata": {},
     "output_type": "execute_result"
    },
    {
     "data": {
      "image/png": "[encoded data removed]",
      "text/plain": [
       "<Figure size 432x288 with 1 Axes>"
      ]
     },
     "metadata": {
      "needs_background": "light"
     },
     "output_type": "display_data"
    }
   ],
   "source": [
    "display(df_new['total_area'].describe())\n",
    "df_new['total_area'].hist(bins=30)"
   ]
  },
  {
   "cell_type": "markdown",
   "metadata": {},
   "source": [
    "Большинство квартир от 30 до 90 метров. Есть некоторое количество менее 30 и совсем единичные случаи по 150+ метров."
   ]
  },
  {
   "cell_type": "code",
   "execution_count": 31,
   "metadata": {},
   "outputs": [
    {
     "data": {
      "text/plain": [
       "count    21372.000000\n",
       "mean         2.739011\n",
       "std          0.204428\n",
       "min          2.400000\n",
       "25%          2.600000\n",
       "50%          2.771283\n",
       "75%          2.771283\n",
       "max          4.000000\n",
       "Name: ceiling_height, dtype: float64"
      ]
     },
     "metadata": {},
     "output_type": "display_data"
    },
    {
     "data": {
      "text/plain": [
       "<AxesSubplot:>"
      ]
     },
     "execution_count": 31,
     "metadata": {},
     "output_type": "execute_result"
    },
    {
     "data": {
      "image/png": "[encoded data removed]",
      "text/plain": [
       "<Figure size 432x288 with 1 Axes>"
      ]
     },
     "metadata": {
      "needs_background": "light"
     },
     "output_type": "display_data"
    }
   ],
   "source": [
    "display(df_new['ceiling_height'].describe())\n",
    "df_new['ceiling_height'].hist(bins=30)"
   ]
  },
  {
   "cell_type": "markdown",
   "metadata": {},
   "source": [
    "С потолками все интереснее: хотя большинство квартир с потолками 2.6-2.8м, есть много квартир с потолками ниже. Т.к. я отсеил совсем нереально низкие потолки, мы их здесь не видим. Потолки ниже 2.6м тоже достаточно низкие - скорее всего это квартиры в старом жилом фонде, т.к. в Петербурге и области большое число старых домов еще с деревянными перекрытиями. Высокие потолки не в почете - их совсем немного, но они есть. Опять же, совсем нереально выскоие значения я отсек."
   ]
  },
  {
   "cell_type": "code",
   "execution_count": 32,
   "metadata": {},
   "outputs": [
    {
     "data": {
      "text/plain": [
       "count    2.137200e+04\n",
       "mean     6.306406e+06\n",
       "std      7.753910e+06\n",
       "min      1.219000e+04\n",
       "25%      3.469800e+06\n",
       "50%      4.650000e+06\n",
       "75%      6.750000e+06\n",
       "max      3.300000e+08\n",
       "Name: last_price, dtype: float64"
      ]
     },
     "metadata": {},
     "output_type": "display_data"
    },
    {
     "data": {
      "text/plain": [
       "<AxesSubplot:ylabel='Frequency'>"
      ]
     },
     "execution_count": 32,
     "metadata": {},
     "output_type": "execute_result"
    },
    {
     "data": {
      "image/png": "[encoded data removed]",
      "text/plain": [
       "<Figure size 432x288 with 1 Axes>"
      ]
     },
     "metadata": {
      "needs_background": "light"
     },
     "output_type": "display_data"
    }
   ],
   "source": [
    "display(df_new['last_price'].describe())\n",
    "df_new.plot(\n",
    "    kind = 'hist',\n",
    "    y = 'last_price',\n",
    "    range = (1000000, 60000000),\n",
    "    bins = 30,\n",
    "    grid = True,\n",
    "    label = 'Price'\n",
    ")"
   ]
  },
  {
   "cell_type": "markdown",
   "metadata": {},
   "source": [
    "Есть квартиры стоимостью более 300 млн. рублей. Хорошо в нее, видимо, вложились. Но все же большинство цен до 8 млн руб. и самый пик 4-5 млн."
   ]
  },
  {
   "cell_type": "code",
   "execution_count": 33,
   "metadata": {},
   "outputs": [
    {
     "data": {
      "text/plain": [
       "count    21372.000000\n",
       "mean         2.071215\n",
       "std          1.052494\n",
       "min          0.000000\n",
       "25%          1.000000\n",
       "50%          2.000000\n",
       "75%          3.000000\n",
       "max         16.000000\n",
       "Name: rooms, dtype: float64"
      ]
     },
     "metadata": {},
     "output_type": "display_data"
    },
    {
     "data": {
      "text/plain": [
       "<AxesSubplot:ylabel='Frequency'>"
      ]
     },
     "execution_count": 33,
     "metadata": {},
     "output_type": "execute_result"
    },
    {
     "data": {
      "image/png": "[encoded data removed]",
      "text/plain": [
       "<Figure size 432x288 with 1 Axes>"
      ]
     },
     "metadata": {
      "needs_background": "light"
     },
     "output_type": "display_data"
    }
   ],
   "source": [
    "display(df_new['rooms'].describe())\n",
    "df_new.plot(\n",
    "    kind = 'hist',\n",
    "    y = 'rooms',\n",
    "    bins = 30,\n",
    "    grid = True,\n",
    "    label = 'Price'\n",
    ")"
   ]
  },
  {
   "cell_type": "markdown",
   "metadata": {},
   "source": [
    "Вот и нашел недоработку: есть квартиры с 0 комнат, что бы это ни значило. Сразу поправлю. Даже если это очень маленькая студия, то менее 1 комнаты быть не может."
   ]
  },
  {
   "cell_type": "code",
   "execution_count": 34,
   "metadata": {},
   "outputs": [
    {
     "data": {
      "text/plain": [
       "count    21372.000000\n",
       "mean         2.079403\n",
       "std          1.040166\n",
       "min          1.000000\n",
       "25%          1.000000\n",
       "50%          2.000000\n",
       "75%          3.000000\n",
       "max         16.000000\n",
       "Name: rooms, dtype: float64"
      ]
     },
     "metadata": {},
     "output_type": "display_data"
    },
    {
     "data": {
      "text/plain": [
       "<AxesSubplot:ylabel='Frequency'>"
      ]
     },
     "execution_count": 34,
     "metadata": {},
     "output_type": "execute_result"
    },
    {
     "data": {
      "image/png": "[encoded data removed]",
      "text/plain": [
       "<Figure size 432x288 with 1 Axes>"
      ]
     },
     "metadata": {
      "needs_background": "light"
     },
     "output_type": "display_data"
    }
   ],
   "source": [
    "df_new.loc[df_new['rooms'] == 0, 'rooms'] = 1\n",
    "df_new['rooms'].value_counts() # Проверка\n",
    "\n",
    "display(df_new['rooms'].describe())\n",
    "df_new.plot(\n",
    "    kind = 'hist',\n",
    "    y = 'rooms',\n",
    "    bins = 20,\n",
    "    grid = True,\n",
    "    label = 'Price'\n",
    ")"
   ]
  },
  {
   "cell_type": "markdown",
   "metadata": {},
   "source": [
    "Вполне ожидаемо, что однушки и двушки самые популярные. Есть так же совсем дворцы по 16 комнат, хотя и 7 выглядит достаточно сказочно."
   ]
  },
  {
   "cell_type": "markdown",
   "metadata": {},
   "source": [
    "### Время продажи квартир\n",
    "Интересно как долго продаются квартиры в Ленинградской области."
   ]
  },
  {
   "cell_type": "code",
   "execution_count": 35,
   "metadata": {},
   "outputs": [
    {
     "data": {
      "text/plain": [
       "count    21372.000000\n",
       "mean       159.482267\n",
       "std        215.538880\n",
       "min          0.000000\n",
       "25%         21.000000\n",
       "50%         77.000000\n",
       "75%        204.000000\n",
       "max       1580.000000\n",
       "Name: days_exposition, dtype: float64"
      ]
     },
     "metadata": {},
     "output_type": "display_data"
    },
    {
     "data": {
      "text/plain": [
       "<AxesSubplot:>"
      ]
     },
     "execution_count": 35,
     "metadata": {},
     "output_type": "execute_result"
    },
    {
     "data": {
      "image/png": "[encoded data removed]",
      "text/plain": [
       "<Figure size 432x288 with 1 Axes>"
      ]
     },
     "metadata": {
      "needs_background": "light"
     },
     "output_type": "display_data"
    }
   ],
   "source": [
    "display(df_new['days_exposition'].describe())\n",
    "df_new['days_exposition'].hist(bins=30)"
   ]
  },
  {
   "cell_type": "markdown",
   "metadata": {},
   "source": [
    "Основная масса продаж (на самом деле снятия объявления по какой-то причине) укладывается в полгода. Посмотрю на полугодовой интервал поближе."
   ]
  },
  {
   "cell_type": "code",
   "execution_count": 36,
   "metadata": {
    "scrolled": true
   },
   "outputs": [
    {
     "data": {
      "text/plain": [
       "<AxesSubplot:ylabel='Frequency'>"
      ]
     },
     "execution_count": 36,
     "metadata": {},
     "output_type": "execute_result"
    },
    {
     "data": {
      "image/png": "[encoded data removed]",
      "text/plain": [
       "<Figure size 432x288 with 1 Axes>"
      ]
     },
     "metadata": {
      "needs_background": "light"
     },
     "output_type": "display_data"
    }
   ],
   "source": [
    "df_new.plot(\n",
    "    kind = 'hist',\n",
    "    y = 'days_exposition',\n",
    "    range = (0, 200),\n",
    "    bins = 30,\n",
    "    grid = True\n",
    ")"
   ]
  },
  {
   "cell_type": "markdown",
   "metadata": {},
   "source": [
    "Интересный факт, что много квартир продаются необычно быстро - в день размещения или на следующий день. Далее ситуация достаточно равномерная и всплески к концу первого месяца размещения и второго. Далее по ниспадающей. Посмотрю поближе на всплески и что происходит с размещениями на интервале полгода - 2 года."
   ]
  },
  {
   "cell_type": "code",
   "execution_count": 37,
   "metadata": {},
   "outputs": [
    {
     "data": {
      "image/png": "[encoded data removed]",
      "text/plain": [
       "<Figure size 432x288 with 1 Axes>"
      ]
     },
     "metadata": {
      "needs_background": "light"
     },
     "output_type": "display_data"
    },
    {
     "data": {
      "text/plain": [
       "<AxesSubplot:ylabel='Frequency'>"
      ]
     },
     "execution_count": 37,
     "metadata": {},
     "output_type": "execute_result"
    },
    {
     "data": {
      "image/png": "[encoded data removed]",
      "text/plain": [
       "<Figure size 432x288 with 1 Axes>"
      ]
     },
     "metadata": {
      "needs_background": "light"
     },
     "output_type": "display_data"
    }
   ],
   "source": [
    "# Первый всплеск\n",
    "df_new.plot(\n",
    "    kind = 'hist',\n",
    "    y = 'days_exposition',\n",
    "    range = (25, 50),\n",
    "    bins = 30,\n",
    "    grid = True\n",
    ")\n",
    "plt.show()\n",
    "# Второй всплеск\n",
    "df_new.plot(\n",
    "    kind = 'hist',\n",
    "    y = 'days_exposition',\n",
    "    range = (50, 75),\n",
    "    bins = 30,\n",
    "    grid = True\n",
    ")"
   ]
  },
  {
   "cell_type": "markdown",
   "metadata": {},
   "source": [
    "Вероятно, всплески связаны с атоматическим снятием объявлений. Буду считать эти значения выбивающимися, позднее удалю. "
   ]
  },
  {
   "cell_type": "code",
   "execution_count": 38,
   "metadata": {
    "scrolled": true
   },
   "outputs": [
    {
     "data": {
      "text/plain": [
       "694"
      ]
     },
     "metadata": {},
     "output_type": "display_data"
    },
    {
     "data": {
      "image/png": "[encoded data removed]",
      "text/plain": [
       "<Figure size 432x288 with 1 Axes>"
      ]
     },
     "metadata": {
      "needs_background": "light"
     },
     "output_type": "display_data"
    }
   ],
   "source": [
    "# После полугода размещения\n",
    "df_new.plot(\n",
    "    kind = 'hist',\n",
    "    y = 'days_exposition',\n",
    "    range = (600, 1580), # меняю первую границу для более детального изучения периода\n",
    "    bins = 30,\n",
    "    grid = True\n",
    ")\n",
    "display(df_new[df_new['days_exposition'] > 730]['days_exposition'].count())"
   ]
  },
  {
   "cell_type": "markdown",
   "metadata": {},
   "source": [
    "694 объявления, провисевшие более 2-ух лет, 890 объявлений, странным образом закрытых на 45-й и 60-й дни. Итого, менее 7% данных. Жертвую ими для более объективной картины. "
   ]
  },
  {
   "cell_type": "code",
   "execution_count": 39,
   "metadata": {},
   "outputs": [
    {
     "data": {
      "text/plain": [
       "count    19796.000000\n",
       "mean       136.042988\n",
       "std        158.355877\n",
       "min          0.000000\n",
       "25%         18.000000\n",
       "50%         79.000000\n",
       "75%        192.000000\n",
       "max        729.000000\n",
       "Name: days_exposition, dtype: float64"
      ]
     },
     "execution_count": 39,
     "metadata": {},
     "output_type": "execute_result"
    }
   ],
   "source": [
    "df_new = df_new.query('days_exposition != 60')\n",
    "df_new = df_new.query('days_exposition < 730')\n",
    "df_new = df_new.query('days_exposition < 45 or days_exposition > 46')\n",
    "df_new['days_exposition'].describe()"
   ]
  },
  {
   "cell_type": "markdown",
   "metadata": {},
   "source": [
    "Крайне много объявлений закрываются на 1-й и 2-й дни размещения - это дейстивтельно слишком быстро. Для автомобиля еще ок, но для квартиры... Крайне долгой продажей буду считать продажу (размещение объявления) более 2 лет."
   ]
  },
  {
   "cell_type": "markdown",
   "metadata": {},
   "source": [
    "### Что влияет на стоимость квартиры?\n",
    "Сперва изучу зависимости цены от площади, числа комнат и удаленности от центра."
   ]
  },
  {
   "cell_type": "code",
   "execution_count": 40,
   "metadata": {},
   "outputs": [
    {
     "data": {
      "text/plain": [
       "array([[<AxesSubplot:xlabel='last_price', ylabel='last_price'>,\n",
       "        <AxesSubplot:xlabel='total_area', ylabel='last_price'>,\n",
       "        <AxesSubplot:xlabel='rooms', ylabel='last_price'>,\n",
       "        <AxesSubplot:xlabel='city_centers_nearest', ylabel='last_price'>],\n",
       "       [<AxesSubplot:xlabel='last_price', ylabel='total_area'>,\n",
       "        <AxesSubplot:xlabel='total_area', ylabel='total_area'>,\n",
       "        <AxesSubplot:xlabel='rooms', ylabel='total_area'>,\n",
       "        <AxesSubplot:xlabel='city_centers_nearest', ylabel='total_area'>],\n",
       "       [<AxesSubplot:xlabel='last_price', ylabel='rooms'>,\n",
       "        <AxesSubplot:xlabel='total_area', ylabel='rooms'>,\n",
       "        <AxesSubplot:xlabel='rooms', ylabel='rooms'>,\n",
       "        <AxesSubplot:xlabel='city_centers_nearest', ylabel='rooms'>],\n",
       "       [<AxesSubplot:xlabel='last_price', ylabel='city_centers_nearest'>,\n",
       "        <AxesSubplot:xlabel='total_area', ylabel='city_centers_nearest'>,\n",
       "        <AxesSubplot:xlabel='rooms', ylabel='city_centers_nearest'>,\n",
       "        <AxesSubplot:xlabel='city_centers_nearest', ylabel='city_centers_nearest'>]],\n",
       "      dtype=object)"
      ]
     },
     "execution_count": 40,
     "metadata": {},
     "output_type": "execute_result"
    },
    {
     "data": {
      "image/png": "[encoded data removed]",
      "text/plain": [
       "<Figure size 864x864 with 16 Axes>"
      ]
     },
     "metadata": {
      "needs_background": "light"
     },
     "output_type": "display_data"
    }
   ],
   "source": [
    "df_corr_clear = df_new.query('city_centers_nearest > 0') # Выберу только строки, где есть расстояние до центра\n",
    "price_corr_matrix = df_corr_clear[['last_price', 'total_area', 'rooms', 'city_centers_nearest']] # Выберу интересующие столбцы\n",
    "price_corr_matrix.corr()\n",
    "pd.plotting.scatter_matrix(price_corr_matrix, figsize=(12,12))"
   ]
  },
  {
   "cell_type": "markdown",
   "metadata": {},
   "source": [
    "Вижу более или менее прямую зависимость только от площади квартиры, что вполне закономерно, но тем не менее удивляет. А как же удорожание в зависимости от нахождения ближе к центру? По матрице видно, что скорее наоборот.   \n",
    "Посмотрю как распределяется стоимость в зависимости от этажа."
   ]
  },
  {
   "cell_type": "code",
   "execution_count": 41,
   "metadata": {
    "scrolled": true
   },
   "outputs": [
    {
     "data": {
      "text/html": [
       "<div>\n",
       "<style scoped>\n",
       "    .dataframe tbody tr th:only-of-type {\n",
       "        vertical-align: middle;\n",
       "    }\n",
       "\n",
       "    .dataframe tbody tr th {\n",
       "        vertical-align: top;\n",
       "    }\n",
       "\n",
       "    .dataframe thead th {\n",
       "        text-align: right;\n",
       "    }\n",
       "</style>\n",
       "<table border=\"1\" class=\"dataframe\">\n",
       "  <thead>\n",
       "    <tr style=\"text-align: right;\">\n",
       "      <th>floors_group</th>\n",
       "      <th>другой</th>\n",
       "      <th>первый</th>\n",
       "      <th>последний</th>\n",
       "    </tr>\n",
       "  </thead>\n",
       "  <tbody>\n",
       "    <tr>\n",
       "      <th>last_price</th>\n",
       "      <td>4850000.0</td>\n",
       "      <td>3950000.0</td>\n",
       "      <td>4350000.0</td>\n",
       "    </tr>\n",
       "  </tbody>\n",
       "</table>\n",
       "</div>"
      ],
      "text/plain": [
       "floors_group     другой     первый  последний\n",
       "last_price    4850000.0  3950000.0  4350000.0"
      ]
     },
     "metadata": {},
     "output_type": "display_data"
    }
   ],
   "source": [
    "display(df_new.pivot_table(columns = 'floors_group', values = 'last_price', aggfunc = 'median'))"
   ]
  },
  {
   "cell_type": "markdown",
   "metadata": {},
   "source": [
    "Явно квартиры на первом этаже стоят значительно ниже. Последний тоже немного дешевле любого другого, но разница не такая серьезная.   \n",
    "Есть ли зависимости от даты размещения?"
   ]
  },
  {
   "cell_type": "code",
   "execution_count": 42,
   "metadata": {},
   "outputs": [
    {
     "data": {
      "text/plain": [
       "<AxesSubplot:xlabel='year'>"
      ]
     },
     "execution_count": 42,
     "metadata": {},
     "output_type": "execute_result"
    },
    {
     "data": {
      "image/png": "[encoded data removed]",
      "text/plain": [
       "<Figure size 504x504 with 1 Axes>"
      ]
     },
     "metadata": {
      "needs_background": "light"
     },
     "output_type": "display_data"
    },
    {
     "data": {
      "image/png": "[encoded data removed]",
      "text/plain": [
       "<Figure size 504x504 with 1 Axes>"
      ]
     },
     "metadata": {
      "needs_background": "light"
     },
     "output_type": "display_data"
    },
    {
     "data": {
      "image/png": "[encoded data removed]",
      "text/plain": [
       "<Figure size 504x504 with 1 Axes>"
      ]
     },
     "metadata": {
      "needs_background": "light"
     },
     "output_type": "display_data"
    }
   ],
   "source": [
    "df_weekday_pivot = df_new.pivot_table(\n",
    "    index = 'weekday',\n",
    "    values = 'last_price',\n",
    "    aggfunc = 'median'\n",
    ")\n",
    "\n",
    "df_weekday_pivot.plot(y='last_price', kind='bar', figsize=(7,7))\n",
    "\n",
    "df_month_pivot = df_new.pivot_table(\n",
    "    index = 'month',\n",
    "    values = 'last_price',\n",
    "    aggfunc = 'median'\n",
    ")\n",
    "\n",
    "df_weekday_pivot.plot(y='last_price', kind='bar', figsize=(7,7))\n",
    "\n",
    "df_year_pivot = df_new.pivot_table(\n",
    "    index = 'year',\n",
    "    values = 'last_price',\n",
    "    aggfunc = 'median'\n",
    ")\n",
    "\n",
    "df_year_pivot.plot(y='last_price', kind='bar', figsize=(7,7))"
   ]
  },
  {
   "cell_type": "markdown",
   "metadata": {},
   "source": [
    "На графиках видно, что никакой явной зависимости от дня недели или месяца размещения объявления нет. Но стоимость квартир сильно упала в 2015г. и далее динамика не сильная."
   ]
  },
  {
   "cell_type": "markdown",
   "metadata": {},
   "source": [
    "### География продаж\n",
    "Интересует топ 10 населенных пунктов по количеству объявлений."
   ]
  },
  {
   "cell_type": "code",
   "execution_count": 43,
   "metadata": {},
   "outputs": [
    {
     "data": {
      "text/html": [
       "<div>\n",
       "<style scoped>\n",
       "    .dataframe tbody tr th:only-of-type {\n",
       "        vertical-align: middle;\n",
       "    }\n",
       "\n",
       "    .dataframe tbody tr th {\n",
       "        vertical-align: top;\n",
       "    }\n",
       "\n",
       "    .dataframe thead th {\n",
       "        text-align: right;\n",
       "    }\n",
       "</style>\n",
       "<table border=\"1\" class=\"dataframe\">\n",
       "  <thead>\n",
       "    <tr style=\"text-align: right;\">\n",
       "      <th></th>\n",
       "      <th>meter_price</th>\n",
       "    </tr>\n",
       "    <tr>\n",
       "      <th>locality_name</th>\n",
       "      <th></th>\n",
       "    </tr>\n",
       "  </thead>\n",
       "  <tbody>\n",
       "    <tr>\n",
       "      <th>Гатчина</th>\n",
       "      <td>68605.075379</td>\n",
       "    </tr>\n",
       "    <tr>\n",
       "      <th>Всеволожск</th>\n",
       "      <td>68927.604954</td>\n",
       "    </tr>\n",
       "    <tr>\n",
       "      <th>Колпино</th>\n",
       "      <td>75600.888974</td>\n",
       "    </tr>\n",
       "    <tr>\n",
       "      <th>Шушары</th>\n",
       "      <td>78269.901016</td>\n",
       "    </tr>\n",
       "    <tr>\n",
       "      <th>Петергоф</th>\n",
       "      <td>84214.422814</td>\n",
       "    </tr>\n",
       "    <tr>\n",
       "      <th>Мурино</th>\n",
       "      <td>86222.977702</td>\n",
       "    </tr>\n",
       "    <tr>\n",
       "      <th>Парголово</th>\n",
       "      <td>90338.302192</td>\n",
       "    </tr>\n",
       "    <tr>\n",
       "      <th>Кудрово</th>\n",
       "      <td>95817.270577</td>\n",
       "    </tr>\n",
       "    <tr>\n",
       "      <th>Пушкин</th>\n",
       "      <td>103359.874715</td>\n",
       "    </tr>\n",
       "    <tr>\n",
       "      <th>Санкт-Петербург</th>\n",
       "      <td>113439.536917</td>\n",
       "    </tr>\n",
       "  </tbody>\n",
       "</table>\n",
       "</div>"
      ],
      "text/plain": [
       "                   meter_price\n",
       "locality_name                 \n",
       "Гатчина           68605.075379\n",
       "Всеволожск        68927.604954\n",
       "Колпино           75600.888974\n",
       "Шушары            78269.901016\n",
       "Петергоф          84214.422814\n",
       "Мурино            86222.977702\n",
       "Парголово         90338.302192\n",
       "Кудрово           95817.270577\n",
       "Пушкин           103359.874715\n",
       "Санкт-Петербург  113439.536917"
      ]
     },
     "metadata": {},
     "output_type": "display_data"
    },
    {
     "data": {
      "text/plain": [
       "<AxesSubplot:xlabel='locality_name'>"
      ]
     },
     "execution_count": 43,
     "metadata": {},
     "output_type": "execute_result"
    },
    {
     "data": {
      "image/png": "[encoded data removed]",
      "text/plain": [
       "<Figure size 576x576 with 1 Axes>"
      ]
     },
     "metadata": {
      "needs_background": "light"
     },
     "output_type": "display_data"
    }
   ],
   "source": [
    "top_localities = df_new['locality_name'].value_counts().head(10) # Список топ населенных пунктов\n",
    "df_tl = df_new.query('locality_name in @top_localities.index') # Датафрейм по топ населенным пунктам\n",
    "df_tl_pivot = df_tl.pivot_table(index = 'locality_name', values = 'meter_price').sort_values(by='meter_price')\n",
    "display(df_tl_pivot)\n",
    "df_tl_pivot.plot(\n",
    "    y = 'meter_price',\n",
    "    kind = 'bar',\n",
    "    figsize = (8, 8)\n",
    ")"
   ]
  },
  {
   "cell_type": "markdown",
   "metadata": {},
   "source": [
    "Самая высокая стоимость жилья, ожидаемо, в Санкт-Петербурге. Самая низкая же в Гатчине, хотя и Всеволжск совсем рядом."
   ]
  },
  {
   "cell_type": "markdown",
   "metadata": {},
   "source": [
    "### Квартиры в Санкт-Петербурге\n",
    "Необходимо определить \"центр\" города. Д"
   ]
  },
  {
   "cell_type": "code",
   "execution_count": 44,
   "metadata": {},
   "outputs": [
    {
     "name": "stderr",
     "output_type": "stream",
     "text": [
      "/var/folders/5c/2q3z541d6f5fv13fbdytg1500000gn/T/ipykernel_5773/2356955676.py:2: SettingWithCopyWarning: \n",
      "A value is trying to be set on a copy of a slice from a DataFrame.\n",
      "Try using .loc[row_indexer,col_indexer] = value instead\n",
      "\n",
      "See the caveats in the documentation: https://pandas.pydata.org/pandas-docs/stable/user_guide/indexing.html#returning-a-view-versus-a-copy\n",
      "  spb_flats.loc[:, 'center_km'] = spb_flats.loc[:, 'city_centers_nearest'] / 1000 # Столбец с расстоянием в км\n",
      "/var/folders/5c/2q3z541d6f5fv13fbdytg1500000gn/T/ipykernel_5773/2356955676.py:3: SettingWithCopyWarning: \n",
      "A value is trying to be set on a copy of a slice from a DataFrame.\n",
      "Try using .loc[row_indexer,col_indexer] = value instead\n",
      "\n",
      "See the caveats in the documentation: https://pandas.pydata.org/pandas-docs/stable/user_guide/indexing.html#returning-a-view-versus-a-copy\n",
      "  spb_flats.loc[:, 'center_km'] = spb_flats.loc[:, 'center_km'].apply(math.ceil) # Округление\n"
     ]
    },
    {
     "data": {
      "text/html": [
       "<div>\n",
       "<style scoped>\n",
       "    .dataframe tbody tr th:only-of-type {\n",
       "        vertical-align: middle;\n",
       "    }\n",
       "\n",
       "    .dataframe tbody tr th {\n",
       "        vertical-align: top;\n",
       "    }\n",
       "\n",
       "    .dataframe thead th {\n",
       "        text-align: right;\n",
       "    }\n",
       "</style>\n",
       "<table border=\"1\" class=\"dataframe\">\n",
       "  <thead>\n",
       "    <tr style=\"text-align: right;\">\n",
       "      <th></th>\n",
       "      <th>meter_price</th>\n",
       "    </tr>\n",
       "    <tr>\n",
       "      <th>center_km</th>\n",
       "      <th></th>\n",
       "    </tr>\n",
       "  </thead>\n",
       "  <tbody>\n",
       "    <tr>\n",
       "      <th>1</th>\n",
       "      <td>183321.702117</td>\n",
       "    </tr>\n",
       "    <tr>\n",
       "      <th>2</th>\n",
       "      <td>158606.423188</td>\n",
       "    </tr>\n",
       "    <tr>\n",
       "      <th>3</th>\n",
       "      <td>143178.436748</td>\n",
       "    </tr>\n",
       "    <tr>\n",
       "      <th>4</th>\n",
       "      <td>123261.804195</td>\n",
       "    </tr>\n",
       "    <tr>\n",
       "      <th>5</th>\n",
       "      <td>133635.873268</td>\n",
       "    </tr>\n",
       "    <tr>\n",
       "      <th>6</th>\n",
       "      <td>141967.062819</td>\n",
       "    </tr>\n",
       "    <tr>\n",
       "      <th>7</th>\n",
       "      <td>149773.739615</td>\n",
       "    </tr>\n",
       "    <tr>\n",
       "      <th>8</th>\n",
       "      <td>140800.751745</td>\n",
       "    </tr>\n",
       "    <tr>\n",
       "      <th>9</th>\n",
       "      <td>118867.420525</td>\n",
       "    </tr>\n",
       "    <tr>\n",
       "      <th>10</th>\n",
       "      <td>110373.633370</td>\n",
       "    </tr>\n",
       "    <tr>\n",
       "      <th>11</th>\n",
       "      <td>110999.375377</td>\n",
       "    </tr>\n",
       "    <tr>\n",
       "      <th>12</th>\n",
       "      <td>106580.221269</td>\n",
       "    </tr>\n",
       "    <tr>\n",
       "      <th>13</th>\n",
       "      <td>108830.126496</td>\n",
       "    </tr>\n",
       "    <tr>\n",
       "      <th>14</th>\n",
       "      <td>106767.234959</td>\n",
       "    </tr>\n",
       "    <tr>\n",
       "      <th>15</th>\n",
       "      <td>104796.374781</td>\n",
       "    </tr>\n",
       "    <tr>\n",
       "      <th>16</th>\n",
       "      <td>102023.564687</td>\n",
       "    </tr>\n",
       "    <tr>\n",
       "      <th>17</th>\n",
       "      <td>100149.917102</td>\n",
       "    </tr>\n",
       "    <tr>\n",
       "      <th>18</th>\n",
       "      <td>95933.371657</td>\n",
       "    </tr>\n",
       "    <tr>\n",
       "      <th>19</th>\n",
       "      <td>95722.775461</td>\n",
       "    </tr>\n",
       "    <tr>\n",
       "      <th>20</th>\n",
       "      <td>93559.919948</td>\n",
       "    </tr>\n",
       "    <tr>\n",
       "      <th>21</th>\n",
       "      <td>103561.637841</td>\n",
       "    </tr>\n",
       "    <tr>\n",
       "      <th>22</th>\n",
       "      <td>89888.671891</td>\n",
       "    </tr>\n",
       "    <tr>\n",
       "      <th>23</th>\n",
       "      <td>87246.549120</td>\n",
       "    </tr>\n",
       "    <tr>\n",
       "      <th>24</th>\n",
       "      <td>93992.451721</td>\n",
       "    </tr>\n",
       "    <tr>\n",
       "      <th>25</th>\n",
       "      <td>80812.269465</td>\n",
       "    </tr>\n",
       "    <tr>\n",
       "      <th>26</th>\n",
       "      <td>90633.831085</td>\n",
       "    </tr>\n",
       "    <tr>\n",
       "      <th>27</th>\n",
       "      <td>55118.977673</td>\n",
       "    </tr>\n",
       "    <tr>\n",
       "      <th>28</th>\n",
       "      <td>132115.709459</td>\n",
       "    </tr>\n",
       "    <tr>\n",
       "      <th>29</th>\n",
       "      <td>82057.341826</td>\n",
       "    </tr>\n",
       "    <tr>\n",
       "      <th>30</th>\n",
       "      <td>62482.404228</td>\n",
       "    </tr>\n",
       "  </tbody>\n",
       "</table>\n",
       "</div>"
      ],
      "text/plain": [
       "             meter_price\n",
       "center_km               \n",
       "1          183321.702117\n",
       "2          158606.423188\n",
       "3          143178.436748\n",
       "4          123261.804195\n",
       "5          133635.873268\n",
       "6          141967.062819\n",
       "7          149773.739615\n",
       "8          140800.751745\n",
       "9          118867.420525\n",
       "10         110373.633370\n",
       "11         110999.375377\n",
       "12         106580.221269\n",
       "13         108830.126496\n",
       "14         106767.234959\n",
       "15         104796.374781\n",
       "16         102023.564687\n",
       "17         100149.917102\n",
       "18          95933.371657\n",
       "19          95722.775461\n",
       "20          93559.919948\n",
       "21         103561.637841\n",
       "22          89888.671891\n",
       "23          87246.549120\n",
       "24          93992.451721\n",
       "25          80812.269465\n",
       "26          90633.831085\n",
       "27          55118.977673\n",
       "28         132115.709459\n",
       "29          82057.341826\n",
       "30          62482.404228"
      ]
     },
     "metadata": {},
     "output_type": "display_data"
    },
    {
     "data": {
      "text/plain": [
       "<AxesSubplot:xlabel='center_km'>"
      ]
     },
     "execution_count": 44,
     "metadata": {},
     "output_type": "execute_result"
    },
    {
     "data": {
      "image/png": "[encoded data removed]",
      "text/plain": [
       "<Figure size 576x576 with 1 Axes>"
      ]
     },
     "metadata": {
      "needs_background": "light"
     },
     "output_type": "display_data"
    }
   ],
   "source": [
    "spb_flats = df_new.query('locality_name == \"Санкт-Петербург\" and city_centers_nearest > 0') # Выбираю квартиры в СПб с данными о расстоянии до центра\n",
    "spb_flats.loc[:, 'center_km'] = spb_flats.loc[:, 'city_centers_nearest'] / 1000 # Столбец с расстоянием в км\n",
    "spb_flats.loc[:, 'center_km'] = spb_flats.loc[:, 'center_km'].apply(math.ceil) # Округление\n",
    "flats_pivot = spb_flats.pivot_table(index='center_km', values='meter_price')\n",
    "display(flats_pivot)\n",
    "\n",
    "flats_pivot.plot(\n",
    "    y = 'meter_price',\n",
    "    style = 'o-',\n",
    "    figsize = (8, 8),\n",
    "    grid = True,\n",
    ")"
   ]
  },
  {
   "cell_type": "markdown",
   "metadata": {},
   "source": [
    "Чем центрее, тем дороже. Хотя есть пик на уровне 7км, далее цена падает. Еще пик на 27км, тут видимо или крайне дорогой район или же элитная недвижимость.   \n",
    "Обозначим центр как расстояние до 7км."
   ]
  },
  {
   "cell_type": "markdown",
   "metadata": {},
   "source": [
    "### Квартиры в центре Петербурга\n",
    "Выделите сегмент квартир в центре. Проанализируйте эту территорию и изучите следующие параметры: площадь, цена, число комнат, высота потолков. Также выделите факторы, которые влияют на стоимость квартиры (число комнат, этаж, удалённость от центра, дата размещения объявления)"
   ]
  },
  {
   "cell_type": "code",
   "execution_count": 45,
   "metadata": {
    "scrolled": false
   },
   "outputs": [
    {
     "data": {
      "image/png": "[encoded data removed]",
      "text/plain": [
       "<Figure size 576x576 with 1 Axes>"
      ]
     },
     "metadata": {
      "needs_background": "light"
     },
     "output_type": "display_data"
    },
    {
     "data": {
      "image/png": "[encoded data removed]",
      "text/plain": [
       "<Figure size 576x576 with 1 Axes>"
      ]
     },
     "metadata": {
      "needs_background": "light"
     },
     "output_type": "display_data"
    },
    {
     "data": {
      "image/png": "[encoded data removed]",
      "text/plain": [
       "<Figure size 576x576 with 1 Axes>"
      ]
     },
     "metadata": {
      "needs_background": "light"
     },
     "output_type": "display_data"
    },
    {
     "data": {
      "image/png": "[encoded data removed]",
      "text/plain": [
       "<Figure size 576x576 with 1 Axes>"
      ]
     },
     "metadata": {
      "needs_background": "light"
     },
     "output_type": "display_data"
    }
   ],
   "source": [
    "spb_center_flats = spb_flats.query('center_km <= 7') # Выбираю квартиры в центре города\n",
    "\n",
    "# Строю гистограммы, чтобы изучить интересующие параметры\n",
    "spb_center_flats['total_area'].hist(bins=20, figsize=(8,8), legend=True)\n",
    "plt.show()\n",
    "spb_center_flats['last_price'].hist(bins=20, figsize=(8,8), legend=True)\n",
    "plt.show()\n",
    "spb_center_flats['rooms'].hist(bins=20, figsize=(8,8), legend=True)\n",
    "plt.show()\n",
    "spb_center_flats['ceiling_height'].hist(bins=20, figsize=(8,8), legend=True)\n",
    "plt.show()\n"
   ]
  },
  {
   "cell_type": "markdown",
   "metadata": {},
   "source": [
    "Продажи в центре придерживаются следующих закономерностей:\n",
    "- Подавляющее большинсто это двух- и трехкомнатные квартиры.\n",
    "- Стоимость в большинстве - до 25 млн. руб.\n",
    "- Самая популярная площадь в диапазоне от 30 до 90 метров.\n",
    "- Высота потолков обычно стандартна - 2.7м-2.8м, еще достаточно популярна высота около 3м.\n",
    "\n",
    "Построю диаграммы для изучения дополнительных параметров, которые могут влиять на стоимость квартиры."
   ]
  },
  {
   "cell_type": "code",
   "execution_count": 46,
   "metadata": {
    "scrolled": false
   },
   "outputs": [
    {
     "data": {
      "text/html": [
       "<div>\n",
       "<style scoped>\n",
       "    .dataframe tbody tr th:only-of-type {\n",
       "        vertical-align: middle;\n",
       "    }\n",
       "\n",
       "    .dataframe tbody tr th {\n",
       "        vertical-align: top;\n",
       "    }\n",
       "\n",
       "    .dataframe thead th {\n",
       "        text-align: right;\n",
       "    }\n",
       "</style>\n",
       "<table border=\"1\" class=\"dataframe\">\n",
       "  <thead>\n",
       "    <tr style=\"text-align: right;\">\n",
       "      <th></th>\n",
       "      <th>last_price</th>\n",
       "      <th>rooms</th>\n",
       "      <th>city_centers_nearest</th>\n",
       "    </tr>\n",
       "  </thead>\n",
       "  <tbody>\n",
       "    <tr>\n",
       "      <th>last_price</th>\n",
       "      <td>1.000000</td>\n",
       "      <td>0.306517</td>\n",
       "      <td>-0.084690</td>\n",
       "    </tr>\n",
       "    <tr>\n",
       "      <th>rooms</th>\n",
       "      <td>0.306517</td>\n",
       "      <td>1.000000</td>\n",
       "      <td>-0.162739</td>\n",
       "    </tr>\n",
       "    <tr>\n",
       "      <th>city_centers_nearest</th>\n",
       "      <td>-0.084690</td>\n",
       "      <td>-0.162739</td>\n",
       "      <td>1.000000</td>\n",
       "    </tr>\n",
       "  </tbody>\n",
       "</table>\n",
       "</div>"
      ],
      "text/plain": [
       "                      last_price     rooms  city_centers_nearest\n",
       "last_price              1.000000  0.306517             -0.084690\n",
       "rooms                   0.306517  1.000000             -0.162739\n",
       "city_centers_nearest   -0.084690 -0.162739              1.000000"
      ]
     },
     "metadata": {},
     "output_type": "display_data"
    },
    {
     "data": {
      "image/png": "[encoded data removed]",
      "text/plain": [
       "<Figure size 576x576 with 1 Axes>"
      ]
     },
     "metadata": {
      "needs_background": "light"
     },
     "output_type": "display_data"
    },
    {
     "data": {
      "image/png": "[encoded data removed]",
      "text/plain": [
       "<Figure size 1440x504 with 1 Axes>"
      ]
     },
     "metadata": {
      "needs_background": "light"
     },
     "output_type": "display_data"
    }
   ],
   "source": [
    "# Выбираю нужные столбцы\n",
    "spb_center_flats_corr = spb_center_flats.loc[:, ['last_price', 'rooms', 'floors_group', 'city_centers_nearest', 'first_day_exposition']]\n",
    "display(spb_center_flats_corr.corr()) # Матрица коэффициентов корреляции\n",
    "\n",
    "fg_pivot = spb_center_flats.pivot_table(\n",
    "    index = 'floors_group',\n",
    "    values = 'last_price',\n",
    "    aggfunc = 'median'\n",
    ")\n",
    "fg_pivot.plot(kind='bar', y='last_price', figsize = (8,8))\n",
    "plt.show()\n",
    "\n",
    "date_pivot = spb_center_flats.pivot_table(\n",
    "    index = ('year', 'month'),\n",
    "    values = 'last_price',\n",
    "    aggfunc = 'median'\n",
    ")\n",
    "date_pivot.plot(y = 'last_price', kind = 'bar', figsize = (20,7))\n",
    "plt.show()"
   ]
  },
  {
   "cell_type": "markdown",
   "metadata": {},
   "source": [
    "В центре города стоимость квартир на первом этаже так же ниже, а вот последний уже не так сильно влияет на стоимость. Интересны цены в зависимости от удаленности от центра - цена немного поодаль от центра немного дороже, думаю это как раз связано с количеством людей, транспорта и шума от них. А вот слегка поодаль жить, конечно, лучше, т.к. не теряется транспортная доступность и развитая инфраструктура, но вероятность выйти из подъезда и сбить туриста - ниже.   \n",
    "По дате размещения явных зависимостей нет. "
   ]
  },
  {
   "cell_type": "markdown",
   "metadata": {},
   "source": [
    "## Общий вывод"
   ]
  },
  {
   "cell_type": "markdown",
   "metadata": {},
   "source": [
    "### Что было сделано\n",
    "***1. Заполнил пропуски в данных:***    \n",
    "    1.1. Балконы. Пропуски заполнил 0 по логике - если пользователь не указал кол-во балконов, значит их просто нет.   \n",
    "    1.2. Кухни. Пропуски заполнил средними значениями, в зависимости от размера квартиры. Чтобы в маленьких квартирах не получилось больших кухонь и наоборот.   \n",
    "    1.3. Срок объявления. Тут пропуски также заполнил 0, предположив, что отсутствие значения означает срок хренения менее дня.   \n",
    "    \n",
    "***2. Изменил тип данных.***   \n",
    "Например, в столбце с кол-вом балконов или этажности здания на целочисленный, потому что не бывает 2.5 этажа или полбалкона. И в столбце с датой размещения объявления на ```datetime```, чтобы удобнее работать.   \n",
    "\n",
    "***3. Избавился от редких и выбивающихся значений.***   \n",
    "Например, от слишком крохотных кухонь или потолков высотой 1м. Также ушли данные по крайне дорогим и элитным квартирам с огромным числом комнат.\n",
    "\n",
    "***4. Добавил расчетные данные.***   \n",
    "    4.1. Цена квадратного метра.   \n",
    "    4.2. День недели, месяц и год публикации объявления.   \n",
    "    4.3. Этаж квартиры (первый, последний или другой).   \n",
    "    4.4. Соотношение жилой и общей площади."
   ]
  },
  {
   "cell_type": "markdown",
   "metadata": {},
   "source": [
    "### Выводы\n",
    "- Самое явное влияние на стоимость квартиры имеет площадь.\n",
    "- Цены на жилье в Санкт-Петербурге сильно выше, чем по области.\n",
    "- Расстояние до центра города влияет на стоимость, но не сильно. При этом цены на квартиры в центральной зоне города еще слабее зависит от расстояния до центра.\n",
    "- Самые популярные квартиры - 1х и 2х комнатные.\n",
    "- Средняя стоимость не превышает 10 млн. рублей.\n",
    "- Большинство квартир продаются в течение полугода.\n",
    "- Квартиры на первом этаже стоят дешевле."
   ]
  },
  {
   "cell_type": "markdown",
   "metadata": {},
   "source": [
    "### Дополнительно\n",
    "Крайне не хватает данных по апартаментам - уверен, это сильно бы изменило картину, т.к. из-за правил регистрации и владения такой собственностью и стоимость на нее значительно меньше как правило.\n",
    "Дополнительно интересно посмотреть на качество ремонта в квартирах или хотя бы бинарно с отделкой или без, т.е. понять сколько продают обжитых квартир. Тут тоже бы картина, имхо, разительно отличалась."
   ]
  }
 ],
 "metadata": {
  "ExecuteTimeLog": [
   {
    "duration": 512,
    "start_time": "2022-05-11T07:24:39.094Z"
   },
   {
    "duration": 87,
    "start_time": "2022-05-11T07:24:47.382Z"
   },
   {
    "duration": 14,
    "start_time": "2022-05-11T07:26:02.839Z"
   },
   {
    "duration": 18,
    "start_time": "2022-05-11T07:26:10.797Z"
   },
   {
    "duration": 13,
    "start_time": "2022-05-11T07:26:22.649Z"
   },
   {
    "duration": 12,
    "start_time": "2022-05-11T07:26:26.210Z"
   },
   {
    "duration": 69,
    "start_time": "2022-05-11T07:27:14.110Z"
   },
   {
    "duration": 6,
    "start_time": "2022-05-11T07:27:18.139Z"
   },
   {
    "duration": 177,
    "start_time": "2022-05-11T07:27:40.792Z"
   },
   {
    "duration": 188,
    "start_time": "2022-05-11T07:28:40.561Z"
   },
   {
    "duration": 88,
    "start_time": "2022-05-11T07:31:10.124Z"
   },
   {
    "duration": 5,
    "start_time": "2022-05-11T07:31:15.697Z"
   },
   {
    "duration": 163,
    "start_time": "2022-05-11T07:31:19.807Z"
   },
   {
    "duration": 169,
    "start_time": "2022-05-11T07:31:25.051Z"
   },
   {
    "duration": 77,
    "start_time": "2022-05-11T07:31:35.150Z"
   },
   {
    "duration": 5,
    "start_time": "2022-05-11T07:31:37.668Z"
   },
   {
    "duration": 445,
    "start_time": "2022-05-11T07:35:24.733Z"
   },
   {
    "duration": 128,
    "start_time": "2022-05-11T07:37:08.891Z"
   },
   {
    "duration": 182,
    "start_time": "2022-05-11T07:37:29.492Z"
   },
   {
    "duration": 77,
    "start_time": "2022-05-11T07:37:45.384Z"
   },
   {
    "duration": 5,
    "start_time": "2022-05-11T07:37:47.993Z"
   },
   {
    "duration": 91,
    "start_time": "2022-05-11T07:38:06.059Z"
   },
   {
    "duration": 16,
    "start_time": "2022-05-11T07:38:08.269Z"
   },
   {
    "duration": 794,
    "start_time": "2022-05-11T07:38:20.853Z"
   },
   {
    "duration": 78,
    "start_time": "2022-05-11T07:38:24.953Z"
   },
   {
    "duration": 5,
    "start_time": "2022-05-11T07:38:26.755Z"
   },
   {
    "duration": 83,
    "start_time": "2022-05-11T07:38:32.074Z"
   },
   {
    "duration": 5,
    "start_time": "2022-05-11T07:38:34.258Z"
   },
   {
    "duration": 84,
    "start_time": "2022-05-11T07:38:39.861Z"
   },
   {
    "duration": 15,
    "start_time": "2022-05-11T07:38:41.972Z"
   },
   {
    "duration": 15,
    "start_time": "2022-05-11T07:38:50.161Z"
   },
   {
    "duration": 16,
    "start_time": "2022-05-11T07:39:50.174Z"
   },
   {
    "duration": 9,
    "start_time": "2022-05-11T07:46:23.262Z"
   },
   {
    "duration": 30,
    "start_time": "2022-05-11T07:48:37.368Z"
   },
   {
    "duration": 2,
    "start_time": "2022-05-11T07:49:36.247Z"
   },
   {
    "duration": 16,
    "start_time": "2022-05-11T07:49:43.558Z"
   },
   {
    "duration": 80,
    "start_time": "2022-05-11T07:49:51.184Z"
   },
   {
    "duration": 8,
    "start_time": "2022-05-11T07:52:19.147Z"
   },
   {
    "duration": 9,
    "start_time": "2022-05-11T07:52:37.549Z"
   },
   {
    "duration": 24,
    "start_time": "2022-05-11T07:52:44.258Z"
   },
   {
    "duration": 47,
    "start_time": "2022-05-11T07:52:59.125Z"
   },
   {
    "duration": 14,
    "start_time": "2022-05-11T07:53:42.553Z"
   },
   {
    "duration": 15,
    "start_time": "2022-05-11T07:53:47.905Z"
   },
   {
    "duration": 30,
    "start_time": "2022-05-11T07:53:57.639Z"
   },
   {
    "duration": 5,
    "start_time": "2022-05-11T07:53:59.480Z"
   },
   {
    "duration": 470,
    "start_time": "2022-05-11T07:54:25.878Z"
   },
   {
    "duration": 16,
    "start_time": "2022-05-11T07:54:26.351Z"
   },
   {
    "duration": 33,
    "start_time": "2022-05-11T07:54:26.369Z"
   },
   {
    "duration": 5,
    "start_time": "2022-05-11T07:54:26.405Z"
   },
   {
    "duration": 6,
    "start_time": "2022-05-11T07:54:41.935Z"
   },
   {
    "duration": 2291,
    "start_time": "2022-05-11T08:02:27.596Z"
   },
   {
    "duration": 20,
    "start_time": "2022-05-11T08:05:14.201Z"
   },
   {
    "duration": 67,
    "start_time": "2022-05-11T08:09:38.472Z"
   },
   {
    "duration": 11,
    "start_time": "2022-05-11T08:13:37.243Z"
   },
   {
    "duration": 14,
    "start_time": "2022-05-11T08:14:21.803Z"
   },
   {
    "duration": 24,
    "start_time": "2022-05-11T08:14:26.603Z"
   },
   {
    "duration": 549,
    "start_time": "2022-05-11T08:14:50.012Z"
   },
   {
    "duration": 19,
    "start_time": "2022-05-11T08:14:50.563Z"
   },
   {
    "duration": 50,
    "start_time": "2022-05-11T08:14:50.583Z"
   },
   {
    "duration": 23,
    "start_time": "2022-05-11T08:14:50.635Z"
   },
   {
    "duration": 15,
    "start_time": "2022-05-11T08:15:08.141Z"
   },
   {
    "duration": 39,
    "start_time": "2022-05-11T08:15:22.520Z"
   },
   {
    "duration": 14,
    "start_time": "2022-05-11T08:15:45.643Z"
   },
   {
    "duration": 67,
    "start_time": "2022-05-11T08:17:33.515Z"
   },
   {
    "duration": 25,
    "start_time": "2022-05-11T08:17:42.721Z"
   },
   {
    "duration": 8,
    "start_time": "2022-05-11T08:18:45.534Z"
   },
   {
    "duration": 6,
    "start_time": "2022-05-11T08:21:30.038Z"
   },
   {
    "duration": 37,
    "start_time": "2022-05-11T08:24:47.169Z"
   },
   {
    "duration": 5,
    "start_time": "2022-05-11T08:30:16.698Z"
   },
   {
    "duration": 7,
    "start_time": "2022-05-11T08:30:53.424Z"
   },
   {
    "duration": 15,
    "start_time": "2022-05-11T08:30:59.537Z"
   },
   {
    "duration": 10,
    "start_time": "2022-05-11T08:31:09.266Z"
   },
   {
    "duration": 576,
    "start_time": "2022-05-11T08:33:16.125Z"
   },
   {
    "duration": 60,
    "start_time": "2022-05-11T08:33:16.703Z"
   },
   {
    "duration": 21,
    "start_time": "2022-05-11T08:33:16.764Z"
   },
   {
    "duration": 55,
    "start_time": "2022-05-11T08:39:31.586Z"
   },
   {
    "duration": 225,
    "start_time": "2022-05-11T08:40:39.541Z"
   },
   {
    "duration": 144,
    "start_time": "2022-05-11T08:41:18.720Z"
   },
   {
    "duration": 70,
    "start_time": "2022-05-11T08:41:25.658Z"
   },
   {
    "duration": 103,
    "start_time": "2022-05-11T08:41:34.177Z"
   },
   {
    "duration": 149,
    "start_time": "2022-05-11T08:41:58.413Z"
   },
   {
    "duration": 78,
    "start_time": "2022-05-11T08:42:02.909Z"
   },
   {
    "duration": 69,
    "start_time": "2022-05-11T08:43:14.074Z"
   },
   {
    "duration": 96,
    "start_time": "2022-05-11T08:44:18.862Z"
   },
   {
    "duration": 22,
    "start_time": "2022-05-11T09:27:20.357Z"
   },
   {
    "duration": 184,
    "start_time": "2022-05-11T09:27:26.867Z"
   },
   {
    "duration": 15,
    "start_time": "2022-05-11T09:33:01.516Z"
   },
   {
    "duration": 2238,
    "start_time": "2022-05-11T09:33:36.599Z"
   },
   {
    "duration": 2392,
    "start_time": "2022-05-11T09:34:17.750Z"
   },
   {
    "duration": 11,
    "start_time": "2022-05-11T09:35:36.439Z"
   },
   {
    "duration": 365,
    "start_time": "2022-05-11T09:36:16.043Z"
   },
   {
    "duration": 3894,
    "start_time": "2022-05-11T09:36:24.204Z"
   },
   {
    "duration": 7,
    "start_time": "2022-05-11T09:37:07.486Z"
   },
   {
    "duration": 8,
    "start_time": "2022-05-11T09:38:35.320Z"
   },
   {
    "duration": 501,
    "start_time": "2022-05-11T09:38:47.552Z"
   },
   {
    "duration": 49,
    "start_time": "2022-05-11T09:38:48.056Z"
   },
   {
    "duration": 34,
    "start_time": "2022-05-11T09:38:48.107Z"
   },
   {
    "duration": 191,
    "start_time": "2022-05-11T09:38:48.143Z"
   },
   {
    "duration": 3,
    "start_time": "2022-05-11T09:38:48.337Z"
   },
   {
    "duration": 76,
    "start_time": "2022-05-11T09:39:04.802Z"
   },
   {
    "duration": 12,
    "start_time": "2022-05-11T09:39:22.450Z"
   },
   {
    "duration": 10,
    "start_time": "2022-05-11T09:39:58.287Z"
   },
   {
    "duration": 10,
    "start_time": "2022-05-11T09:40:15.013Z"
   },
   {
    "duration": 8,
    "start_time": "2022-05-11T09:40:38.169Z"
   },
   {
    "duration": 17,
    "start_time": "2022-05-11T09:40:44.621Z"
   },
   {
    "duration": 19,
    "start_time": "2022-05-11T09:41:14.248Z"
   },
   {
    "duration": 9,
    "start_time": "2022-05-11T09:44:11.304Z"
   },
   {
    "duration": 26,
    "start_time": "2022-05-11T09:44:16.702Z"
   },
   {
    "duration": 27,
    "start_time": "2022-05-11T09:44:46.025Z"
   },
   {
    "duration": 33,
    "start_time": "2022-05-11T09:44:56.332Z"
   },
   {
    "duration": 46,
    "start_time": "2022-05-11T09:54:55.289Z"
   },
   {
    "duration": 6,
    "start_time": "2022-05-11T10:01:07.922Z"
   },
   {
    "duration": 65,
    "start_time": "2022-05-11T10:01:10.482Z"
   },
   {
    "duration": 14,
    "start_time": "2022-05-11T10:23:20.985Z"
   },
   {
    "duration": 18,
    "start_time": "2022-05-11T10:26:22.798Z"
   },
   {
    "duration": 52,
    "start_time": "2022-05-11T10:26:53.690Z"
   },
   {
    "duration": 20,
    "start_time": "2022-05-11T10:27:06.715Z"
   },
   {
    "duration": 53,
    "start_time": "2022-05-11T10:27:26.467Z"
   },
   {
    "duration": 9,
    "start_time": "2022-05-11T10:27:45.406Z"
   },
   {
    "duration": 11,
    "start_time": "2022-05-11T10:27:52.100Z"
   },
   {
    "duration": 14,
    "start_time": "2022-05-11T10:29:01.936Z"
   },
   {
    "duration": 13,
    "start_time": "2022-05-11T10:30:43.366Z"
   },
   {
    "duration": 11,
    "start_time": "2022-05-11T10:30:58.092Z"
   },
   {
    "duration": 14,
    "start_time": "2022-05-11T10:31:25.382Z"
   },
   {
    "duration": 17,
    "start_time": "2022-05-11T10:31:31.980Z"
   },
   {
    "duration": 18,
    "start_time": "2022-05-11T10:36:58.760Z"
   },
   {
    "duration": 18,
    "start_time": "2022-05-11T10:43:39.285Z"
   },
   {
    "duration": 20,
    "start_time": "2022-05-11T10:44:01.950Z"
   },
   {
    "duration": 18,
    "start_time": "2022-05-11T10:44:26.208Z"
   },
   {
    "duration": 23,
    "start_time": "2022-05-11T10:44:33.845Z"
   },
   {
    "duration": 22,
    "start_time": "2022-05-11T10:44:38.925Z"
   },
   {
    "duration": 17,
    "start_time": "2022-05-11T10:49:57.698Z"
   },
   {
    "duration": 23,
    "start_time": "2022-05-11T10:50:17.252Z"
   },
   {
    "duration": 9,
    "start_time": "2022-05-11T10:51:29.467Z"
   },
   {
    "duration": 11,
    "start_time": "2022-05-11T10:52:27.698Z"
   },
   {
    "duration": 14,
    "start_time": "2022-05-11T10:53:02.841Z"
   },
   {
    "duration": 12,
    "start_time": "2022-05-11T10:53:14.211Z"
   },
   {
    "duration": 11,
    "start_time": "2022-05-11T10:53:18.348Z"
   },
   {
    "duration": 22,
    "start_time": "2022-05-11T10:53:46.791Z"
   },
   {
    "duration": 534,
    "start_time": "2022-05-11T10:54:19.843Z"
   },
   {
    "duration": 65,
    "start_time": "2022-05-11T10:54:20.379Z"
   },
   {
    "duration": 5,
    "start_time": "2022-05-11T10:54:20.445Z"
   },
   {
    "duration": 34,
    "start_time": "2022-05-11T10:54:20.452Z"
   },
   {
    "duration": 192,
    "start_time": "2022-05-11T10:54:20.489Z"
   },
   {
    "duration": 74,
    "start_time": "2022-05-11T10:54:20.683Z"
   },
   {
    "duration": 29,
    "start_time": "2022-05-11T10:54:20.759Z"
   },
   {
    "duration": 3,
    "start_time": "2022-05-11T10:54:20.790Z"
   },
   {
    "duration": 5,
    "start_time": "2022-05-11T10:56:26.845Z"
   },
   {
    "duration": 12,
    "start_time": "2022-05-11T10:56:53.952Z"
   },
   {
    "duration": 16,
    "start_time": "2022-05-11T10:56:57.226Z"
   },
   {
    "duration": 92,
    "start_time": "2022-05-11T10:57:07.917Z"
   },
   {
    "duration": 20,
    "start_time": "2022-05-11T10:57:16.375Z"
   },
   {
    "duration": 16,
    "start_time": "2022-05-11T10:57:23.014Z"
   },
   {
    "duration": 2508,
    "start_time": "2022-05-11T10:58:01.283Z"
   },
   {
    "duration": 2191,
    "start_time": "2022-05-11T10:58:25.568Z"
   },
   {
    "duration": 14,
    "start_time": "2022-05-11T10:58:53.558Z"
   },
   {
    "duration": 23,
    "start_time": "2022-05-11T11:00:39.339Z"
   },
   {
    "duration": 17,
    "start_time": "2022-05-11T11:00:50.423Z"
   },
   {
    "duration": 2830,
    "start_time": "2022-05-11T11:03:47.850Z"
   },
   {
    "duration": 181,
    "start_time": "2022-05-11T11:14:52.378Z"
   },
   {
    "duration": 10,
    "start_time": "2022-05-11T11:15:15.693Z"
   },
   {
    "duration": 11,
    "start_time": "2022-05-11T11:15:42.168Z"
   },
   {
    "duration": 9,
    "start_time": "2022-05-11T11:16:09.599Z"
   },
   {
    "duration": 11,
    "start_time": "2022-05-11T11:16:16.755Z"
   },
   {
    "duration": 12,
    "start_time": "2022-05-11T11:16:50.377Z"
   },
   {
    "duration": 14,
    "start_time": "2022-05-11T11:17:01.992Z"
   },
   {
    "duration": 174,
    "start_time": "2022-05-11T11:17:57.015Z"
   },
   {
    "duration": 198,
    "start_time": "2022-05-11T11:18:09.307Z"
   },
   {
    "duration": 319,
    "start_time": "2022-05-11T11:21:03.199Z"
   },
   {
    "duration": 12,
    "start_time": "2022-05-11T11:21:58.501Z"
   },
   {
    "duration": 19,
    "start_time": "2022-05-11T11:22:17.801Z"
   },
   {
    "duration": 178,
    "start_time": "2022-05-11T11:22:31.418Z"
   },
   {
    "duration": 168,
    "start_time": "2022-05-11T11:22:38.914Z"
   },
   {
    "duration": 166,
    "start_time": "2022-05-11T11:22:42.049Z"
   },
   {
    "duration": 172,
    "start_time": "2022-05-11T11:23:51.664Z"
   },
   {
    "duration": 355,
    "start_time": "2022-05-11T11:25:04.703Z"
   },
   {
    "duration": 206,
    "start_time": "2022-05-11T11:25:26.308Z"
   },
   {
    "duration": 2920,
    "start_time": "2022-05-11T11:26:54.523Z"
   },
   {
    "duration": 23,
    "start_time": "2022-05-11T11:27:27.488Z"
   },
   {
    "duration": 8,
    "start_time": "2022-05-11T11:27:55.014Z"
   },
   {
    "duration": 23,
    "start_time": "2022-05-11T11:28:17.147Z"
   },
   {
    "duration": 3295,
    "start_time": "2022-05-11T11:29:26.445Z"
   },
   {
    "duration": 2716,
    "start_time": "2022-05-11T11:30:16.321Z"
   },
   {
    "duration": 10,
    "start_time": "2022-05-11T11:30:57.921Z"
   },
   {
    "duration": 165,
    "start_time": "2022-05-11T11:33:53.185Z"
   },
   {
    "duration": 170,
    "start_time": "2022-05-11T11:39:39.381Z"
   },
   {
    "duration": 161,
    "start_time": "2022-05-11T11:39:52.208Z"
   },
   {
    "duration": 3314,
    "start_time": "2022-05-11T11:39:57.955Z"
   },
   {
    "duration": 161,
    "start_time": "2022-05-11T12:11:09.897Z"
   },
   {
    "duration": 690,
    "start_time": "2022-05-11T12:11:17.411Z"
   },
   {
    "duration": 172,
    "start_time": "2022-05-11T12:11:31.287Z"
   },
   {
    "duration": 155,
    "start_time": "2022-05-11T12:11:40.259Z"
   },
   {
    "duration": 158,
    "start_time": "2022-05-11T12:11:44.484Z"
   },
   {
    "duration": 171,
    "start_time": "2022-05-11T12:12:10.328Z"
   },
   {
    "duration": 176,
    "start_time": "2022-05-11T12:12:43.999Z"
   },
   {
    "duration": 173,
    "start_time": "2022-05-11T12:12:57.737Z"
   },
   {
    "duration": 160,
    "start_time": "2022-05-11T12:13:13.002Z"
   },
   {
    "duration": 173,
    "start_time": "2022-05-11T12:13:19.802Z"
   },
   {
    "duration": 183,
    "start_time": "2022-05-11T12:13:27.491Z"
   },
   {
    "duration": 19,
    "start_time": "2022-05-11T12:13:37.858Z"
   },
   {
    "duration": 174,
    "start_time": "2022-05-11T12:14:01.584Z"
   },
   {
    "duration": 16,
    "start_time": "2022-05-11T12:14:04.950Z"
   },
   {
    "duration": 14,
    "start_time": "2022-05-11T12:14:47.196Z"
   },
   {
    "duration": 519,
    "start_time": "2022-05-11T12:15:11.559Z"
   },
   {
    "duration": 54,
    "start_time": "2022-05-11T12:15:12.080Z"
   },
   {
    "duration": 6,
    "start_time": "2022-05-11T12:15:12.136Z"
   },
   {
    "duration": 24,
    "start_time": "2022-05-11T12:15:12.143Z"
   },
   {
    "duration": 187,
    "start_time": "2022-05-11T12:15:12.169Z"
   },
   {
    "duration": 23,
    "start_time": "2022-05-11T12:15:12.358Z"
   },
   {
    "duration": 56,
    "start_time": "2022-05-11T12:15:12.383Z"
   },
   {
    "duration": 16,
    "start_time": "2022-05-11T12:15:12.441Z"
   },
   {
    "duration": 18,
    "start_time": "2022-05-11T12:15:53.173Z"
   },
   {
    "duration": 548,
    "start_time": "2022-05-11T12:16:00.416Z"
   },
   {
    "duration": 55,
    "start_time": "2022-05-11T12:16:00.967Z"
   },
   {
    "duration": 6,
    "start_time": "2022-05-11T12:16:01.034Z"
   },
   {
    "duration": 30,
    "start_time": "2022-05-11T12:16:01.043Z"
   },
   {
    "duration": 191,
    "start_time": "2022-05-11T12:16:01.076Z"
   },
   {
    "duration": 64,
    "start_time": "2022-05-11T12:16:01.269Z"
   },
   {
    "duration": 20,
    "start_time": "2022-05-11T12:16:01.336Z"
   },
   {
    "duration": 17,
    "start_time": "2022-05-11T12:16:01.358Z"
   },
   {
    "duration": 25,
    "start_time": "2022-05-11T12:16:25.190Z"
   },
   {
    "duration": 16,
    "start_time": "2022-05-11T12:16:41.980Z"
   },
   {
    "duration": 18,
    "start_time": "2022-05-11T12:16:53.209Z"
   },
   {
    "duration": 24,
    "start_time": "2022-05-11T12:17:54.923Z"
   },
   {
    "duration": 470,
    "start_time": "2022-05-11T12:18:02.487Z"
   },
   {
    "duration": 54,
    "start_time": "2022-05-11T12:18:02.960Z"
   },
   {
    "duration": 5,
    "start_time": "2022-05-11T12:18:03.016Z"
   },
   {
    "duration": 20,
    "start_time": "2022-05-11T12:18:03.033Z"
   },
   {
    "duration": 134,
    "start_time": "2022-05-11T12:18:03.055Z"
   },
   {
    "duration": 26,
    "start_time": "2022-05-11T12:18:03.234Z"
   },
   {
    "duration": 18,
    "start_time": "2022-05-11T12:18:03.262Z"
   },
   {
    "duration": 52,
    "start_time": "2022-05-11T12:18:03.282Z"
   },
   {
    "duration": 31,
    "start_time": "2022-05-11T12:18:48.392Z"
   },
   {
    "duration": 27,
    "start_time": "2022-05-11T12:19:11.991Z"
   },
   {
    "duration": 162,
    "start_time": "2022-05-11T12:19:20.292Z"
   },
   {
    "duration": 25,
    "start_time": "2022-05-11T12:19:23.360Z"
   },
   {
    "duration": 16,
    "start_time": "2022-05-11T12:19:30.211Z"
   },
   {
    "duration": 19,
    "start_time": "2022-05-11T12:20:02.698Z"
   },
   {
    "duration": 33,
    "start_time": "2022-05-11T12:21:42.297Z"
   },
   {
    "duration": 23,
    "start_time": "2022-05-11T12:21:49.832Z"
   },
   {
    "duration": 38,
    "start_time": "2022-05-11T12:22:02.975Z"
   },
   {
    "duration": 23,
    "start_time": "2022-05-11T12:22:26.141Z"
   },
   {
    "duration": 27,
    "start_time": "2022-05-11T12:22:34.167Z"
   },
   {
    "duration": 18,
    "start_time": "2022-05-11T12:22:41.648Z"
   },
   {
    "duration": 14,
    "start_time": "2022-05-11T12:22:52.904Z"
   },
   {
    "duration": 19,
    "start_time": "2022-05-11T12:23:45.037Z"
   },
   {
    "duration": 16,
    "start_time": "2022-05-11T12:23:51.261Z"
   },
   {
    "duration": 1466,
    "start_time": "2022-05-11T12:24:05.941Z"
   },
   {
    "duration": 193,
    "start_time": "2022-05-11T12:24:18.781Z"
   },
   {
    "duration": 16,
    "start_time": "2022-05-11T12:24:21.325Z"
   },
   {
    "duration": 16,
    "start_time": "2022-05-11T12:24:26.656Z"
   },
   {
    "duration": 14,
    "start_time": "2022-05-11T12:24:48.291Z"
   },
   {
    "duration": 15,
    "start_time": "2022-05-11T12:24:51.741Z"
   },
   {
    "duration": 15,
    "start_time": "2022-05-11T12:24:59.972Z"
   },
   {
    "duration": 22,
    "start_time": "2022-05-11T12:26:25.012Z"
   },
   {
    "duration": 16,
    "start_time": "2022-05-11T12:26:31.655Z"
   },
   {
    "duration": 16,
    "start_time": "2022-05-11T12:26:55.040Z"
   },
   {
    "duration": 14,
    "start_time": "2022-05-11T12:27:04.742Z"
   },
   {
    "duration": 13,
    "start_time": "2022-05-11T12:27:11.737Z"
   },
   {
    "duration": 20,
    "start_time": "2022-05-11T12:27:46.156Z"
   },
   {
    "duration": 20,
    "start_time": "2022-05-11T12:27:53.076Z"
   },
   {
    "duration": 28,
    "start_time": "2022-05-11T12:28:00.359Z"
   },
   {
    "duration": 27,
    "start_time": "2022-05-11T12:28:34.234Z"
   },
   {
    "duration": 87,
    "start_time": "2022-05-11T12:28:56.510Z"
   },
   {
    "duration": 118,
    "start_time": "2022-05-11T12:29:12.081Z"
   },
   {
    "duration": 110,
    "start_time": "2022-05-11T12:29:51.664Z"
   },
   {
    "duration": 518,
    "start_time": "2022-05-11T12:30:01.744Z"
   },
   {
    "duration": 52,
    "start_time": "2022-05-11T12:30:02.265Z"
   },
   {
    "duration": 14,
    "start_time": "2022-05-11T12:30:02.320Z"
   },
   {
    "duration": 25,
    "start_time": "2022-05-11T12:30:02.336Z"
   },
   {
    "duration": 180,
    "start_time": "2022-05-11T12:30:02.363Z"
   },
   {
    "duration": 26,
    "start_time": "2022-05-11T12:30:02.544Z"
   },
   {
    "duration": 19,
    "start_time": "2022-05-11T12:30:02.571Z"
   },
   {
    "duration": 509,
    "start_time": "2022-05-11T12:30:02.592Z"
   },
   {
    "duration": 32,
    "start_time": "2022-05-11T12:30:37.603Z"
   },
   {
    "duration": 22,
    "start_time": "2022-05-11T12:30:52.516Z"
   },
   {
    "duration": 24,
    "start_time": "2022-05-11T12:31:04.558Z"
   },
   {
    "duration": 23,
    "start_time": "2022-05-11T12:31:17.548Z"
   },
   {
    "duration": 180,
    "start_time": "2022-05-11T12:32:58.966Z"
   },
   {
    "duration": 164,
    "start_time": "2022-05-11T12:33:12.696Z"
   },
   {
    "duration": 21,
    "start_time": "2022-05-11T12:33:34.707Z"
   },
   {
    "duration": 24,
    "start_time": "2022-05-11T12:34:01.801Z"
   },
   {
    "duration": 22,
    "start_time": "2022-05-11T12:34:06.907Z"
   },
   {
    "duration": 31,
    "start_time": "2022-05-11T12:34:12.875Z"
   },
   {
    "duration": 212,
    "start_time": "2022-05-11T12:34:32.434Z"
   },
   {
    "duration": 22,
    "start_time": "2022-05-11T12:34:36.014Z"
   },
   {
    "duration": 25,
    "start_time": "2022-05-11T12:34:58.113Z"
   },
   {
    "duration": 25,
    "start_time": "2022-05-11T12:35:15.657Z"
   },
   {
    "duration": 87,
    "start_time": "2022-05-11T12:35:23.714Z"
   },
   {
    "duration": 25,
    "start_time": "2022-05-11T12:35:37.550Z"
   },
   {
    "duration": 505,
    "start_time": "2022-05-11T12:35:51.950Z"
   },
   {
    "duration": 52,
    "start_time": "2022-05-11T12:35:52.458Z"
   },
   {
    "duration": 5,
    "start_time": "2022-05-11T12:35:52.512Z"
   },
   {
    "duration": 22,
    "start_time": "2022-05-11T12:35:52.533Z"
   },
   {
    "duration": 185,
    "start_time": "2022-05-11T12:35:52.557Z"
   },
   {
    "duration": 23,
    "start_time": "2022-05-11T12:35:52.744Z"
   },
   {
    "duration": 19,
    "start_time": "2022-05-11T12:35:52.769Z"
   },
   {
    "duration": 63,
    "start_time": "2022-05-11T12:35:52.789Z"
   },
   {
    "duration": 26,
    "start_time": "2022-05-11T12:36:32.564Z"
   },
   {
    "duration": 24,
    "start_time": "2022-05-11T12:36:48.815Z"
   },
   {
    "duration": 173,
    "start_time": "2022-05-11T12:36:58.739Z"
   },
   {
    "duration": 27,
    "start_time": "2022-05-11T12:37:07.378Z"
   },
   {
    "duration": 10,
    "start_time": "2022-05-11T14:04:07.653Z"
   },
   {
    "duration": 10,
    "start_time": "2022-05-11T14:05:06.943Z"
   },
   {
    "duration": 8,
    "start_time": "2022-05-11T14:05:20.367Z"
   },
   {
    "duration": 6,
    "start_time": "2022-05-11T14:05:35.401Z"
   },
   {
    "duration": 6,
    "start_time": "2022-05-11T14:06:17.664Z"
   },
   {
    "duration": 13,
    "start_time": "2022-05-11T14:10:28.461Z"
   },
   {
    "duration": 13,
    "start_time": "2022-05-11T14:10:38.458Z"
   },
   {
    "duration": 13,
    "start_time": "2022-05-11T14:12:03.118Z"
   },
   {
    "duration": 14,
    "start_time": "2022-05-11T14:16:42.452Z"
   },
   {
    "duration": 17,
    "start_time": "2022-05-11T14:17:13.286Z"
   },
   {
    "duration": 14,
    "start_time": "2022-05-11T14:17:18.617Z"
   },
   {
    "duration": 75,
    "start_time": "2022-05-11T14:18:04.903Z"
   },
   {
    "duration": 18,
    "start_time": "2022-05-11T14:19:49.835Z"
   },
   {
    "duration": 27,
    "start_time": "2022-05-11T14:20:03.133Z"
   },
   {
    "duration": 25,
    "start_time": "2022-05-11T14:20:52.016Z"
   },
   {
    "duration": 14,
    "start_time": "2022-05-11T14:21:10.094Z"
   },
   {
    "duration": 14,
    "start_time": "2022-05-11T14:21:32.962Z"
   },
   {
    "duration": 14,
    "start_time": "2022-05-11T14:23:40.789Z"
   },
   {
    "duration": 14,
    "start_time": "2022-05-11T14:23:53.684Z"
   },
   {
    "duration": 15,
    "start_time": "2022-05-11T14:24:00.655Z"
   },
   {
    "duration": 15,
    "start_time": "2022-05-11T14:24:39.827Z"
   },
   {
    "duration": 15,
    "start_time": "2022-05-11T14:24:49.234Z"
   },
   {
    "duration": 90,
    "start_time": "2022-05-11T14:27:35.435Z"
   },
   {
    "duration": 8,
    "start_time": "2022-05-11T14:27:39.674Z"
   },
   {
    "duration": 11,
    "start_time": "2022-05-11T14:27:47.866Z"
   },
   {
    "duration": 16,
    "start_time": "2022-05-11T14:28:25.088Z"
   },
   {
    "duration": 15,
    "start_time": "2022-05-11T14:29:08.165Z"
   },
   {
    "duration": 14,
    "start_time": "2022-05-11T14:33:04.496Z"
   },
   {
    "duration": 17,
    "start_time": "2022-05-11T14:34:23.713Z"
   },
   {
    "duration": 26,
    "start_time": "2022-05-11T14:34:47.270Z"
   },
   {
    "duration": 513,
    "start_time": "2022-05-11T14:35:07.246Z"
   },
   {
    "duration": 51,
    "start_time": "2022-05-11T14:35:07.761Z"
   },
   {
    "duration": 20,
    "start_time": "2022-05-11T14:35:07.814Z"
   },
   {
    "duration": 39,
    "start_time": "2022-05-11T14:35:07.837Z"
   },
   {
    "duration": 107,
    "start_time": "2022-05-11T14:35:07.879Z"
   },
   {
    "duration": 71,
    "start_time": "2022-05-11T14:35:07.988Z"
   },
   {
    "duration": 19,
    "start_time": "2022-05-11T14:35:08.061Z"
   },
   {
    "duration": 56,
    "start_time": "2022-05-11T14:35:08.081Z"
   },
   {
    "duration": 20,
    "start_time": "2022-05-11T14:35:08.140Z"
   },
   {
    "duration": 25,
    "start_time": "2022-05-11T14:35:08.161Z"
   },
   {
    "duration": 14,
    "start_time": "2022-05-11T14:35:32.393Z"
   },
   {
    "duration": 14,
    "start_time": "2022-05-11T14:36:43.329Z"
   },
   {
    "duration": 14,
    "start_time": "2022-05-11T14:36:55.181Z"
   },
   {
    "duration": 20,
    "start_time": "2022-05-11T14:37:22.697Z"
   },
   {
    "duration": 28,
    "start_time": "2022-05-11T14:37:34.599Z"
   },
   {
    "duration": 16,
    "start_time": "2022-05-11T14:38:05.237Z"
   },
   {
    "duration": 16,
    "start_time": "2022-05-11T14:38:09.212Z"
   },
   {
    "duration": 15,
    "start_time": "2022-05-11T14:38:16.848Z"
   },
   {
    "duration": 26,
    "start_time": "2022-05-11T14:38:23.188Z"
   },
   {
    "duration": 24,
    "start_time": "2022-05-11T14:38:26.173Z"
   },
   {
    "duration": 25,
    "start_time": "2022-05-11T14:38:41.107Z"
   },
   {
    "duration": 15,
    "start_time": "2022-05-11T14:38:52.780Z"
   },
   {
    "duration": 15,
    "start_time": "2022-05-11T14:38:57.767Z"
   },
   {
    "duration": 19,
    "start_time": "2022-05-11T14:39:10.188Z"
   },
   {
    "duration": 25,
    "start_time": "2022-05-11T14:39:14.311Z"
   },
   {
    "duration": 21,
    "start_time": "2022-05-11T14:39:41.716Z"
   },
   {
    "duration": 19,
    "start_time": "2022-05-11T14:39:59.795Z"
   },
   {
    "duration": 555,
    "start_time": "2022-05-11T14:40:07.002Z"
   },
   {
    "duration": 54,
    "start_time": "2022-05-11T14:40:07.559Z"
   },
   {
    "duration": 5,
    "start_time": "2022-05-11T14:40:07.614Z"
   },
   {
    "duration": 31,
    "start_time": "2022-05-11T14:40:07.621Z"
   },
   {
    "duration": 120,
    "start_time": "2022-05-11T14:40:07.654Z"
   },
   {
    "duration": 63,
    "start_time": "2022-05-11T14:40:07.775Z"
   },
   {
    "duration": 21,
    "start_time": "2022-05-11T14:40:07.841Z"
   },
   {
    "duration": 28,
    "start_time": "2022-05-11T14:40:07.864Z"
   },
   {
    "duration": 46,
    "start_time": "2022-05-11T14:40:07.893Z"
   },
   {
    "duration": 20,
    "start_time": "2022-05-11T14:40:07.941Z"
   },
   {
    "duration": 3030,
    "start_time": "2022-05-11T14:42:02.868Z"
   },
   {
    "duration": 30,
    "start_time": "2022-05-11T14:42:15.590Z"
   },
   {
    "duration": 28,
    "start_time": "2022-05-11T14:43:09.355Z"
   },
   {
    "duration": 29,
    "start_time": "2022-05-11T14:44:20.149Z"
   },
   {
    "duration": 19,
    "start_time": "2022-05-11T14:44:39.354Z"
   },
   {
    "duration": 21,
    "start_time": "2022-05-11T14:44:47.204Z"
   },
   {
    "duration": 539,
    "start_time": "2022-05-11T14:45:44.935Z"
   },
   {
    "duration": 52,
    "start_time": "2022-05-11T14:45:45.476Z"
   },
   {
    "duration": 6,
    "start_time": "2022-05-11T14:45:45.533Z"
   },
   {
    "duration": 21,
    "start_time": "2022-05-11T14:45:45.541Z"
   },
   {
    "duration": 180,
    "start_time": "2022-05-11T14:45:45.565Z"
   },
   {
    "duration": 24,
    "start_time": "2022-05-11T14:45:45.747Z"
   },
   {
    "duration": 17,
    "start_time": "2022-05-11T14:45:45.773Z"
   },
   {
    "duration": 63,
    "start_time": "2022-05-11T14:45:45.792Z"
   },
   {
    "duration": 14,
    "start_time": "2022-05-11T14:45:45.857Z"
   },
   {
    "duration": 21,
    "start_time": "2022-05-11T14:45:45.873Z"
   },
   {
    "duration": 19,
    "start_time": "2022-05-11T14:46:12.397Z"
   },
   {
    "duration": 10,
    "start_time": "2022-05-11T14:49:51.260Z"
   },
   {
    "duration": 9,
    "start_time": "2022-05-11T14:50:18.850Z"
   },
   {
    "duration": 11,
    "start_time": "2022-05-11T14:50:29.369Z"
   },
   {
    "duration": 10,
    "start_time": "2022-05-11T14:51:00.003Z"
   },
   {
    "duration": 30,
    "start_time": "2022-05-11T14:51:28.424Z"
   },
   {
    "duration": 14,
    "start_time": "2022-05-11T14:51:35.723Z"
   },
   {
    "duration": 12,
    "start_time": "2022-05-11T14:51:46.347Z"
   },
   {
    "duration": 10,
    "start_time": "2022-05-11T14:51:55.037Z"
   },
   {
    "duration": 11,
    "start_time": "2022-05-11T14:52:05.680Z"
   },
   {
    "duration": 10,
    "start_time": "2022-05-11T14:52:32.865Z"
   },
   {
    "duration": 11,
    "start_time": "2022-05-11T14:52:54.530Z"
   },
   {
    "duration": 12,
    "start_time": "2022-05-11T14:53:09.212Z"
   },
   {
    "duration": 12,
    "start_time": "2022-05-11T14:53:24.992Z"
   },
   {
    "duration": 12,
    "start_time": "2022-05-11T14:53:29.576Z"
   },
   {
    "duration": 11,
    "start_time": "2022-05-11T14:53:32.970Z"
   },
   {
    "duration": 12,
    "start_time": "2022-05-11T14:53:35.968Z"
   },
   {
    "duration": 12,
    "start_time": "2022-05-11T14:53:39.757Z"
   },
   {
    "duration": 13,
    "start_time": "2022-05-11T14:53:44.529Z"
   },
   {
    "duration": 13,
    "start_time": "2022-05-11T14:54:58.300Z"
   },
   {
    "duration": 12,
    "start_time": "2022-05-11T14:59:56.839Z"
   },
   {
    "duration": 14,
    "start_time": "2022-05-11T15:00:01.730Z"
   },
   {
    "duration": 13,
    "start_time": "2022-05-11T15:00:11.768Z"
   },
   {
    "duration": 12,
    "start_time": "2022-05-11T15:01:15.146Z"
   },
   {
    "duration": 12,
    "start_time": "2022-05-11T15:01:21.440Z"
   },
   {
    "duration": 13,
    "start_time": "2022-05-11T15:01:45.084Z"
   },
   {
    "duration": 11,
    "start_time": "2022-05-11T15:44:00.818Z"
   },
   {
    "duration": 18,
    "start_time": "2022-05-11T15:45:20.662Z"
   },
   {
    "duration": 34,
    "start_time": "2022-05-11T15:45:29.730Z"
   },
   {
    "duration": 32,
    "start_time": "2022-05-11T15:45:59.863Z"
   },
   {
    "duration": 35,
    "start_time": "2022-05-11T15:46:31.427Z"
   },
   {
    "duration": 26,
    "start_time": "2022-05-11T15:46:34.887Z"
   },
   {
    "duration": 38,
    "start_time": "2022-05-11T15:47:39.720Z"
   },
   {
    "duration": 6,
    "start_time": "2022-05-11T15:49:28.060Z"
   },
   {
    "duration": 13,
    "start_time": "2022-05-11T15:49:52.000Z"
   },
   {
    "duration": 12,
    "start_time": "2022-05-11T15:49:55.487Z"
   },
   {
    "duration": 16,
    "start_time": "2022-05-11T15:49:59.079Z"
   },
   {
    "duration": 14,
    "start_time": "2022-05-11T15:50:03.813Z"
   },
   {
    "duration": 13,
    "start_time": "2022-05-11T15:50:07.219Z"
   },
   {
    "duration": 6,
    "start_time": "2022-05-11T15:50:24.358Z"
   },
   {
    "duration": 8,
    "start_time": "2022-05-11T15:51:04.808Z"
   },
   {
    "duration": 9,
    "start_time": "2022-05-11T15:51:18.752Z"
   },
   {
    "duration": 8,
    "start_time": "2022-05-11T15:51:41.014Z"
   },
   {
    "duration": 7,
    "start_time": "2022-05-11T15:52:05.007Z"
   },
   {
    "duration": 12,
    "start_time": "2022-05-11T15:52:38.885Z"
   },
   {
    "duration": 27,
    "start_time": "2022-05-11T15:52:55.330Z"
   },
   {
    "duration": 8,
    "start_time": "2022-05-11T15:54:16.197Z"
   },
   {
    "duration": 9,
    "start_time": "2022-05-11T15:54:36.855Z"
   },
   {
    "duration": 13,
    "start_time": "2022-05-11T15:54:44.616Z"
   },
   {
    "duration": 74,
    "start_time": "2022-05-11T15:57:54.653Z"
   },
   {
    "duration": 6,
    "start_time": "2022-05-11T15:57:57.976Z"
   },
   {
    "duration": 7,
    "start_time": "2022-05-11T15:58:01.418Z"
   },
   {
    "duration": 13,
    "start_time": "2022-05-11T15:58:06.265Z"
   },
   {
    "duration": 7,
    "start_time": "2022-05-11T15:58:11.197Z"
   },
   {
    "duration": 15,
    "start_time": "2022-05-11T15:58:29.003Z"
   },
   {
    "duration": 504,
    "start_time": "2022-05-11T15:59:13.263Z"
   },
   {
    "duration": 63,
    "start_time": "2022-05-11T15:59:15.481Z"
   },
   {
    "duration": 5,
    "start_time": "2022-05-11T15:59:30.923Z"
   },
   {
    "duration": 33,
    "start_time": "2022-05-11T15:59:32.850Z"
   },
   {
    "duration": 116,
    "start_time": "2022-05-11T15:59:44.449Z"
   },
   {
    "duration": 26,
    "start_time": "2022-05-11T15:59:50.915Z"
   },
   {
    "duration": 20,
    "start_time": "2022-05-11T15:59:56.069Z"
   },
   {
    "duration": 37,
    "start_time": "2022-05-11T16:00:04.056Z"
   },
   {
    "duration": 17,
    "start_time": "2022-05-11T16:00:10.613Z"
   },
   {
    "duration": 19,
    "start_time": "2022-05-11T16:00:13.379Z"
   },
   {
    "duration": 45,
    "start_time": "2022-05-11T16:00:21.495Z"
   },
   {
    "duration": 20,
    "start_time": "2022-05-11T16:00:30.445Z"
   },
   {
    "duration": 15,
    "start_time": "2022-05-11T16:00:36.274Z"
   },
   {
    "duration": 13,
    "start_time": "2022-05-11T16:01:15.382Z"
   },
   {
    "duration": 34,
    "start_time": "2022-05-11T16:01:24.926Z"
   },
   {
    "duration": 18,
    "start_time": "2022-05-11T16:01:29.381Z"
   },
   {
    "duration": 20,
    "start_time": "2022-05-11T16:01:39.844Z"
   },
   {
    "duration": 487,
    "start_time": "2022-05-11T16:04:29.586Z"
   },
   {
    "duration": 81,
    "start_time": "2022-05-11T16:04:32.140Z"
   },
   {
    "duration": 56,
    "start_time": "2022-05-11T16:04:32.718Z"
   },
   {
    "duration": 5,
    "start_time": "2022-05-11T16:04:36.052Z"
   },
   {
    "duration": 21,
    "start_time": "2022-05-11T16:04:36.263Z"
   },
   {
    "duration": 109,
    "start_time": "2022-05-11T16:04:36.649Z"
   },
   {
    "duration": 36,
    "start_time": "2022-05-11T16:04:37.116Z"
   },
   {
    "duration": 19,
    "start_time": "2022-05-11T16:04:38.601Z"
   },
   {
    "duration": 34,
    "start_time": "2022-05-11T16:04:39.015Z"
   },
   {
    "duration": 15,
    "start_time": "2022-05-11T16:04:39.501Z"
   },
   {
    "duration": 19,
    "start_time": "2022-05-11T16:04:40.654Z"
   },
   {
    "duration": 13,
    "start_time": "2022-05-11T16:04:41.803Z"
   },
   {
    "duration": 38,
    "start_time": "2022-05-11T16:05:04.961Z"
   },
   {
    "duration": 734,
    "start_time": "2022-05-11T16:08:51.930Z"
   },
   {
    "duration": 175,
    "start_time": "2022-05-11T16:09:08.960Z"
   },
   {
    "duration": 190,
    "start_time": "2022-05-11T16:09:12.880Z"
   },
   {
    "duration": 200,
    "start_time": "2022-05-11T16:09:26.562Z"
   },
   {
    "duration": 378,
    "start_time": "2022-05-11T16:10:10.952Z"
   },
   {
    "duration": 204,
    "start_time": "2022-05-11T16:10:22.047Z"
   },
   {
    "duration": 38,
    "start_time": "2022-05-11T16:11:22.863Z"
   },
   {
    "duration": 87,
    "start_time": "2022-05-11T16:13:36.472Z"
   },
   {
    "duration": 44,
    "start_time": "2022-05-11T16:13:44.107Z"
   },
   {
    "duration": 33,
    "start_time": "2022-05-11T16:13:49.323Z"
   },
   {
    "duration": 27,
    "start_time": "2022-05-11T16:14:08.369Z"
   },
   {
    "duration": 33,
    "start_time": "2022-05-11T16:14:17.824Z"
   },
   {
    "duration": 28,
    "start_time": "2022-05-11T16:15:16.320Z"
   },
   {
    "duration": 97,
    "start_time": "2022-05-11T16:15:36.391Z"
   },
   {
    "duration": 66,
    "start_time": "2022-05-11T16:16:07.066Z"
   },
   {
    "duration": 10,
    "start_time": "2022-05-11T16:16:38.724Z"
   },
   {
    "duration": 195,
    "start_time": "2022-05-11T16:16:51.546Z"
   },
   {
    "duration": 189,
    "start_time": "2022-05-11T16:17:04.490Z"
   },
   {
    "duration": 190,
    "start_time": "2022-05-11T16:19:38.157Z"
   },
   {
    "duration": 4,
    "start_time": "2022-05-11T16:26:16.946Z"
   },
   {
    "duration": 38,
    "start_time": "2022-05-11T16:28:50.649Z"
   },
   {
    "duration": 43,
    "start_time": "2022-05-11T16:29:01.225Z"
   },
   {
    "duration": 30,
    "start_time": "2022-05-11T16:31:41.926Z"
   },
   {
    "duration": 19,
    "start_time": "2022-05-11T16:31:46.167Z"
   },
   {
    "duration": 22,
    "start_time": "2022-05-11T16:34:45.276Z"
   },
   {
    "duration": 23,
    "start_time": "2022-05-11T16:35:00.877Z"
   },
   {
    "duration": 28,
    "start_time": "2022-05-11T16:35:35.777Z"
   },
   {
    "duration": 36,
    "start_time": "2022-05-11T16:36:04.687Z"
   },
   {
    "duration": 27,
    "start_time": "2022-05-11T16:36:10.448Z"
   },
   {
    "duration": 31,
    "start_time": "2022-05-11T16:37:05.100Z"
   },
   {
    "duration": 31,
    "start_time": "2022-05-11T16:37:08.640Z"
   },
   {
    "duration": 28,
    "start_time": "2022-05-11T16:37:12.161Z"
   },
   {
    "duration": 29,
    "start_time": "2022-05-11T16:37:31.509Z"
   },
   {
    "duration": 24,
    "start_time": "2022-05-11T16:37:42.686Z"
   },
   {
    "duration": 32,
    "start_time": "2022-05-11T16:37:50.224Z"
   },
   {
    "duration": 34,
    "start_time": "2022-05-11T16:38:02.159Z"
   },
   {
    "duration": 28,
    "start_time": "2022-05-11T16:38:50.774Z"
   },
   {
    "duration": 46,
    "start_time": "2022-05-11T16:39:10.198Z"
   },
   {
    "duration": 39,
    "start_time": "2022-05-11T16:40:22.864Z"
   },
   {
    "duration": 12,
    "start_time": "2022-05-11T16:42:09.398Z"
   },
   {
    "duration": 7,
    "start_time": "2022-05-11T16:42:20.247Z"
   },
   {
    "duration": 5,
    "start_time": "2022-05-11T16:43:13.706Z"
   },
   {
    "duration": 455,
    "start_time": "2022-05-11T16:43:50.766Z"
   },
   {
    "duration": 7,
    "start_time": "2022-05-11T16:43:54.753Z"
   },
   {
    "duration": 5,
    "start_time": "2022-05-11T16:47:22.049Z"
   },
   {
    "duration": 4,
    "start_time": "2022-05-11T16:47:24.470Z"
   },
   {
    "duration": 8,
    "start_time": "2022-05-11T16:47:32.983Z"
   },
   {
    "duration": 5,
    "start_time": "2022-05-11T16:47:46.571Z"
   },
   {
    "duration": 8,
    "start_time": "2022-05-11T16:47:59.247Z"
   },
   {
    "duration": 14,
    "start_time": "2022-05-11T16:48:03.455Z"
   },
   {
    "duration": 10,
    "start_time": "2022-05-11T16:49:36.402Z"
   },
   {
    "duration": 5,
    "start_time": "2022-05-11T16:49:56.372Z"
   },
   {
    "duration": 8,
    "start_time": "2022-05-11T16:50:17.490Z"
   },
   {
    "duration": 7,
    "start_time": "2022-05-11T16:50:21.314Z"
   },
   {
    "duration": 10,
    "start_time": "2022-05-11T16:50:32.530Z"
   },
   {
    "duration": 11,
    "start_time": "2022-05-11T16:50:49.390Z"
   },
   {
    "duration": 8,
    "start_time": "2022-05-11T16:51:18.582Z"
   },
   {
    "duration": 12,
    "start_time": "2022-05-11T16:56:51.012Z"
   },
   {
    "duration": 9,
    "start_time": "2022-05-11T16:56:56.991Z"
   },
   {
    "duration": 8,
    "start_time": "2022-05-11T16:57:09.682Z"
   },
   {
    "duration": 8,
    "start_time": "2022-05-11T16:57:25.791Z"
   },
   {
    "duration": 11,
    "start_time": "2022-05-11T16:57:30.870Z"
   },
   {
    "duration": 8,
    "start_time": "2022-05-11T16:57:39.594Z"
   },
   {
    "duration": 10,
    "start_time": "2022-05-11T16:57:54.597Z"
   },
   {
    "duration": 17,
    "start_time": "2022-05-11T16:58:04.535Z"
   },
   {
    "duration": 16,
    "start_time": "2022-05-11T16:58:13.727Z"
   },
   {
    "duration": 9,
    "start_time": "2022-05-11T17:03:21.081Z"
   },
   {
    "duration": 720,
    "start_time": "2022-05-11T17:03:36.829Z"
   },
   {
    "duration": 7,
    "start_time": "2022-05-11T17:04:02.096Z"
   },
   {
    "duration": 10,
    "start_time": "2022-05-11T17:04:31.113Z"
   },
   {
    "duration": 9,
    "start_time": "2022-05-11T17:05:04.906Z"
   },
   {
    "duration": 739,
    "start_time": "2022-05-11T17:05:13.231Z"
   },
   {
    "duration": 493,
    "start_time": "2022-05-11T17:05:20.263Z"
   },
   {
    "duration": 87,
    "start_time": "2022-05-11T17:05:20.758Z"
   },
   {
    "duration": 33,
    "start_time": "2022-05-11T17:05:20.847Z"
   },
   {
    "duration": 5,
    "start_time": "2022-05-11T17:05:20.882Z"
   },
   {
    "duration": 25,
    "start_time": "2022-05-11T17:05:20.890Z"
   },
   {
    "duration": 143,
    "start_time": "2022-05-11T17:05:20.934Z"
   },
   {
    "duration": 66,
    "start_time": "2022-05-11T17:05:21.080Z"
   },
   {
    "duration": 22,
    "start_time": "2022-05-11T17:05:21.149Z"
   },
   {
    "duration": 29,
    "start_time": "2022-05-11T17:05:21.173Z"
   },
   {
    "duration": 24,
    "start_time": "2022-05-11T17:05:21.234Z"
   },
   {
    "duration": 527,
    "start_time": "2022-05-11T17:05:21.260Z"
   },
   {
    "duration": 212,
    "start_time": "2022-05-11T17:05:21.789Z"
   },
   {
    "duration": 35,
    "start_time": "2022-05-11T17:05:22.003Z"
   },
   {
    "duration": 210,
    "start_time": "2022-05-11T17:05:22.041Z"
   },
   {
    "duration": 42,
    "start_time": "2022-05-11T17:05:22.253Z"
   },
   {
    "duration": 6,
    "start_time": "2022-05-11T17:05:22.297Z"
   },
   {
    "duration": 34,
    "start_time": "2022-05-11T17:05:22.305Z"
   },
   {
    "duration": 22,
    "start_time": "2022-05-11T17:05:22.341Z"
   },
   {
    "duration": 19,
    "start_time": "2022-05-11T17:05:22.364Z"
   },
   {
    "duration": 534,
    "start_time": "2022-05-11T17:06:23.616Z"
   },
   {
    "duration": 88,
    "start_time": "2022-05-11T17:06:24.152Z"
   },
   {
    "duration": 28,
    "start_time": "2022-05-11T17:06:24.242Z"
   },
   {
    "duration": 5,
    "start_time": "2022-05-11T17:06:24.273Z"
   },
   {
    "duration": 21,
    "start_time": "2022-05-11T17:06:24.280Z"
   },
   {
    "duration": 158,
    "start_time": "2022-05-11T17:06:24.303Z"
   },
   {
    "duration": 24,
    "start_time": "2022-05-11T17:06:24.462Z"
   },
   {
    "duration": 52,
    "start_time": "2022-05-11T17:06:24.487Z"
   },
   {
    "duration": 29,
    "start_time": "2022-05-11T17:06:24.542Z"
   },
   {
    "duration": 13,
    "start_time": "2022-05-11T17:06:24.574Z"
   },
   {
    "duration": 561,
    "start_time": "2022-05-11T17:06:24.589Z"
   },
   {
    "duration": 203,
    "start_time": "2022-05-11T17:06:25.152Z"
   },
   {
    "duration": 28,
    "start_time": "2022-05-11T17:06:25.357Z"
   },
   {
    "duration": 223,
    "start_time": "2022-05-11T17:06:25.387Z"
   },
   {
    "duration": 54,
    "start_time": "2022-05-11T17:06:25.612Z"
   },
   {
    "duration": 7,
    "start_time": "2022-05-11T17:06:25.668Z"
   },
   {
    "duration": 7,
    "start_time": "2022-05-11T17:06:25.677Z"
   },
   {
    "duration": 14,
    "start_time": "2022-05-11T17:06:25.686Z"
   },
   {
    "duration": 13,
    "start_time": "2022-05-11T17:13:51.461Z"
   },
   {
    "duration": 964,
    "start_time": "2022-05-11T17:15:05.984Z"
   },
   {
    "duration": 964,
    "start_time": "2022-05-11T17:19:44.684Z"
   },
   {
    "duration": 540,
    "start_time": "2022-05-11T17:19:51.010Z"
   },
   {
    "duration": 71,
    "start_time": "2022-05-11T17:19:51.552Z"
   },
   {
    "duration": 29,
    "start_time": "2022-05-11T17:19:51.624Z"
   },
   {
    "duration": 5,
    "start_time": "2022-05-11T17:19:51.654Z"
   },
   {
    "duration": 24,
    "start_time": "2022-05-11T17:19:51.662Z"
   },
   {
    "duration": 113,
    "start_time": "2022-05-11T17:19:51.688Z"
   },
   {
    "duration": 24,
    "start_time": "2022-05-11T17:19:51.842Z"
   },
   {
    "duration": 21,
    "start_time": "2022-05-11T17:19:51.868Z"
   },
   {
    "duration": 60,
    "start_time": "2022-05-11T17:19:51.891Z"
   },
   {
    "duration": 16,
    "start_time": "2022-05-11T17:19:51.953Z"
   },
   {
    "duration": 605,
    "start_time": "2022-05-11T17:19:51.970Z"
   },
   {
    "duration": 205,
    "start_time": "2022-05-11T17:19:52.577Z"
   },
   {
    "duration": 28,
    "start_time": "2022-05-11T17:19:52.784Z"
   },
   {
    "duration": 220,
    "start_time": "2022-05-11T17:19:52.815Z"
   },
   {
    "duration": 45,
    "start_time": "2022-05-11T17:19:53.037Z"
   },
   {
    "duration": 5,
    "start_time": "2022-05-11T17:19:53.084Z"
   },
   {
    "duration": 12,
    "start_time": "2022-05-11T17:19:53.091Z"
   },
   {
    "duration": 35,
    "start_time": "2022-05-11T17:19:53.105Z"
   },
   {
    "duration": 16,
    "start_time": "2022-05-11T17:19:53.142Z"
   },
   {
    "duration": 13,
    "start_time": "2022-05-11T17:21:54.853Z"
   },
   {
    "duration": 504,
    "start_time": "2022-05-11T17:22:16.179Z"
   },
   {
    "duration": 80,
    "start_time": "2022-05-11T17:22:16.685Z"
   },
   {
    "duration": 25,
    "start_time": "2022-05-11T17:22:16.767Z"
   },
   {
    "duration": 4,
    "start_time": "2022-05-11T17:22:16.794Z"
   },
   {
    "duration": 46,
    "start_time": "2022-05-11T17:22:16.801Z"
   },
   {
    "duration": 117,
    "start_time": "2022-05-11T17:22:16.849Z"
   },
   {
    "duration": 22,
    "start_time": "2022-05-11T17:22:16.968Z"
   },
   {
    "duration": 52,
    "start_time": "2022-05-11T17:22:16.992Z"
   },
   {
    "duration": 26,
    "start_time": "2022-05-11T17:22:17.046Z"
   },
   {
    "duration": 14,
    "start_time": "2022-05-11T17:22:17.074Z"
   },
   {
    "duration": 540,
    "start_time": "2022-05-11T17:22:17.090Z"
   },
   {
    "duration": 214,
    "start_time": "2022-05-11T17:22:17.633Z"
   },
   {
    "duration": 26,
    "start_time": "2022-05-11T17:22:17.849Z"
   },
   {
    "duration": 196,
    "start_time": "2022-05-11T17:22:17.877Z"
   },
   {
    "duration": 40,
    "start_time": "2022-05-11T17:22:18.075Z"
   },
   {
    "duration": 26,
    "start_time": "2022-05-11T17:22:18.117Z"
   },
   {
    "duration": 13,
    "start_time": "2022-05-11T17:22:18.146Z"
   },
   {
    "duration": 13,
    "start_time": "2022-05-11T17:22:18.161Z"
   },
   {
    "duration": 15,
    "start_time": "2022-05-11T17:22:18.176Z"
   },
   {
    "duration": 14,
    "start_time": "2022-05-11T17:22:51.758Z"
   },
   {
    "duration": 83,
    "start_time": "2022-05-11T17:25:08.146Z"
   },
   {
    "duration": 9,
    "start_time": "2022-05-11T17:25:14.384Z"
   },
   {
    "duration": 17,
    "start_time": "2022-05-11T17:25:31.030Z"
   },
   {
    "duration": 12,
    "start_time": "2022-05-11T17:25:47.216Z"
   },
   {
    "duration": 19,
    "start_time": "2022-05-11T17:25:50.224Z"
   },
   {
    "duration": 20,
    "start_time": "2022-05-11T17:26:31.163Z"
   },
   {
    "duration": 13,
    "start_time": "2022-05-11T17:27:44.298Z"
   },
   {
    "duration": 13,
    "start_time": "2022-05-11T17:28:13.209Z"
   },
   {
    "duration": 18,
    "start_time": "2022-05-11T17:30:15.305Z"
   },
   {
    "duration": 18,
    "start_time": "2022-05-11T17:31:27.126Z"
   },
   {
    "duration": 8,
    "start_time": "2022-05-11T17:35:04.292Z"
   },
   {
    "duration": 19,
    "start_time": "2022-05-11T17:36:03.144Z"
   },
   {
    "duration": 22,
    "start_time": "2022-05-11T17:36:33.863Z"
   },
   {
    "duration": 23,
    "start_time": "2022-05-11T17:36:57.546Z"
   },
   {
    "duration": 36,
    "start_time": "2022-05-11T17:37:42.725Z"
   },
   {
    "duration": 18,
    "start_time": "2022-05-11T17:38:08.055Z"
   },
   {
    "duration": 30,
    "start_time": "2022-05-11T17:38:14.067Z"
   },
   {
    "duration": 27,
    "start_time": "2022-05-11T17:38:40.490Z"
   },
   {
    "duration": 1397,
    "start_time": "2022-05-11T17:42:31.209Z"
   },
   {
    "duration": 315,
    "start_time": "2022-05-11T17:43:13.888Z"
   },
   {
    "duration": 518,
    "start_time": "2022-05-12T11:08:49.416Z"
   },
   {
    "duration": 110,
    "start_time": "2022-05-12T11:08:49.937Z"
   },
   {
    "duration": 35,
    "start_time": "2022-05-12T11:08:50.049Z"
   },
   {
    "duration": 5,
    "start_time": "2022-05-12T11:08:50.087Z"
   },
   {
    "duration": 50,
    "start_time": "2022-05-12T11:08:50.094Z"
   },
   {
    "duration": 112,
    "start_time": "2022-05-12T11:08:50.146Z"
   },
   {
    "duration": 22,
    "start_time": "2022-05-12T11:08:50.260Z"
   },
   {
    "duration": 55,
    "start_time": "2022-05-12T11:08:50.284Z"
   },
   {
    "duration": 27,
    "start_time": "2022-05-12T11:08:50.341Z"
   },
   {
    "duration": 16,
    "start_time": "2022-05-12T11:08:50.371Z"
   },
   {
    "duration": 701,
    "start_time": "2022-05-12T11:08:50.388Z"
   },
   {
    "duration": 247,
    "start_time": "2022-05-12T11:08:51.091Z"
   },
   {
    "duration": 35,
    "start_time": "2022-05-12T11:08:51.340Z"
   },
   {
    "duration": 282,
    "start_time": "2022-05-12T11:08:51.376Z"
   },
   {
    "duration": 150,
    "start_time": "2022-05-12T11:08:51.660Z"
   },
   {
    "duration": 13,
    "start_time": "2022-05-12T11:08:51.812Z"
   },
   {
    "duration": 7,
    "start_time": "2022-05-12T11:08:51.827Z"
   },
   {
    "duration": 15,
    "start_time": "2022-05-12T11:08:51.836Z"
   },
   {
    "duration": 23,
    "start_time": "2022-05-12T11:08:51.852Z"
   },
   {
    "duration": 763,
    "start_time": "2022-05-12T11:08:51.876Z"
   },
   {
    "duration": 601,
    "start_time": "2022-05-12T11:15:01.952Z"
   },
   {
    "duration": 196,
    "start_time": "2022-05-12T11:17:11.184Z"
   },
   {
    "duration": 6,
    "start_time": "2022-05-12T11:17:55.540Z"
   },
   {
    "duration": 23,
    "start_time": "2022-05-12T11:18:47.724Z"
   },
   {
    "duration": 26,
    "start_time": "2022-05-12T11:20:15.895Z"
   },
   {
    "duration": 24,
    "start_time": "2022-05-12T11:20:37.082Z"
   },
   {
    "duration": 11334,
    "start_time": "2022-05-12T11:21:00.625Z"
   },
   {
    "duration": 20,
    "start_time": "2022-05-12T11:22:42.800Z"
   },
   {
    "duration": 19,
    "start_time": "2022-05-12T11:23:08.549Z"
   },
   {
    "duration": 20,
    "start_time": "2022-05-12T11:23:38.846Z"
   },
   {
    "duration": 6,
    "start_time": "2022-05-12T11:27:25.560Z"
   },
   {
    "duration": 6,
    "start_time": "2022-05-12T11:27:47.323Z"
   },
   {
    "duration": 8,
    "start_time": "2022-05-12T11:28:22.857Z"
   },
   {
    "duration": 7,
    "start_time": "2022-05-12T11:28:33.029Z"
   },
   {
    "duration": 293,
    "start_time": "2022-05-12T11:30:19.988Z"
   },
   {
    "duration": 8,
    "start_time": "2022-05-12T11:31:40.321Z"
   },
   {
    "duration": 17,
    "start_time": "2022-05-12T11:35:15.461Z"
   },
   {
    "duration": 18,
    "start_time": "2022-05-12T11:35:24.058Z"
   },
   {
    "duration": 26,
    "start_time": "2022-05-12T11:35:39.246Z"
   },
   {
    "duration": 19,
    "start_time": "2022-05-12T11:36:34.457Z"
   },
   {
    "duration": 7,
    "start_time": "2022-05-12T11:38:23.408Z"
   },
   {
    "duration": 10,
    "start_time": "2022-05-12T11:38:39.658Z"
   },
   {
    "duration": 10,
    "start_time": "2022-05-12T11:38:59.366Z"
   },
   {
    "duration": 5,
    "start_time": "2022-05-12T11:41:27.889Z"
   },
   {
    "duration": 16,
    "start_time": "2022-05-12T11:42:19.759Z"
   },
   {
    "duration": 24,
    "start_time": "2022-05-12T11:42:31.288Z"
   },
   {
    "duration": 19,
    "start_time": "2022-05-12T11:42:53.758Z"
   },
   {
    "duration": 432,
    "start_time": "2022-05-12T16:34:35.112Z"
   },
   {
    "duration": 60,
    "start_time": "2022-05-12T16:34:35.546Z"
   },
   {
    "duration": 20,
    "start_time": "2022-05-12T16:34:35.608Z"
   },
   {
    "duration": 4,
    "start_time": "2022-05-12T16:34:35.630Z"
   },
   {
    "duration": 39,
    "start_time": "2022-05-12T16:34:35.636Z"
   },
   {
    "duration": 99,
    "start_time": "2022-05-12T16:34:35.676Z"
   },
   {
    "duration": 20,
    "start_time": "2022-05-12T16:34:35.777Z"
   },
   {
    "duration": 15,
    "start_time": "2022-05-12T16:34:35.798Z"
   },
   {
    "duration": 21,
    "start_time": "2022-05-12T16:34:35.814Z"
   },
   {
    "duration": 45,
    "start_time": "2022-05-12T16:34:35.836Z"
   },
   {
    "duration": 562,
    "start_time": "2022-05-12T16:34:35.883Z"
   },
   {
    "duration": 156,
    "start_time": "2022-05-12T16:34:36.446Z"
   },
   {
    "duration": 23,
    "start_time": "2022-05-12T16:34:36.604Z"
   },
   {
    "duration": 170,
    "start_time": "2022-05-12T16:34:36.631Z"
   },
   {
    "duration": 98,
    "start_time": "2022-05-12T16:34:36.804Z"
   },
   {
    "duration": 6,
    "start_time": "2022-05-12T16:34:36.904Z"
   },
   {
    "duration": 5,
    "start_time": "2022-05-12T16:34:36.912Z"
   },
   {
    "duration": 8,
    "start_time": "2022-05-12T16:34:36.919Z"
   },
   {
    "duration": 49,
    "start_time": "2022-05-12T16:34:36.929Z"
   },
   {
    "duration": 9,
    "start_time": "2022-05-12T16:34:36.980Z"
   },
   {
    "duration": 15,
    "start_time": "2022-05-12T16:34:36.991Z"
   },
   {
    "duration": 617,
    "start_time": "2022-05-12T16:34:37.008Z"
   },
   {
    "duration": 17,
    "start_time": "2022-05-12T16:34:37.627Z"
   },
   {
    "duration": 41,
    "start_time": "2022-05-12T16:34:37.646Z"
   },
   {
    "duration": 14,
    "start_time": "2022-05-12T16:35:30.046Z"
   },
   {
    "duration": 15,
    "start_time": "2022-05-12T16:36:19.416Z"
   },
   {
    "duration": 439,
    "start_time": "2022-05-12T16:36:29.530Z"
   },
   {
    "duration": 65,
    "start_time": "2022-05-12T16:36:29.972Z"
   },
   {
    "duration": 43,
    "start_time": "2022-05-12T16:36:30.039Z"
   },
   {
    "duration": 5,
    "start_time": "2022-05-12T16:36:30.084Z"
   },
   {
    "duration": 20,
    "start_time": "2022-05-12T16:36:30.091Z"
   },
   {
    "duration": 98,
    "start_time": "2022-05-12T16:36:30.112Z"
   },
   {
    "duration": 20,
    "start_time": "2022-05-12T16:36:30.212Z"
   },
   {
    "duration": 51,
    "start_time": "2022-05-12T16:36:30.234Z"
   },
   {
    "duration": 22,
    "start_time": "2022-05-12T16:36:30.287Z"
   },
   {
    "duration": 12,
    "start_time": "2022-05-12T16:36:30.310Z"
   },
   {
    "duration": 445,
    "start_time": "2022-05-12T16:36:30.323Z"
   },
   {
    "duration": 157,
    "start_time": "2022-05-12T16:36:30.771Z"
   },
   {
    "duration": 22,
    "start_time": "2022-05-12T16:36:30.929Z"
   },
   {
    "duration": 163,
    "start_time": "2022-05-12T16:36:30.954Z"
   },
   {
    "duration": 36,
    "start_time": "2022-05-12T16:36:31.119Z"
   },
   {
    "duration": 18,
    "start_time": "2022-05-12T16:36:31.157Z"
   },
   {
    "duration": 17,
    "start_time": "2022-05-12T16:36:31.176Z"
   },
   {
    "duration": 12,
    "start_time": "2022-05-12T16:36:31.195Z"
   },
   {
    "duration": 16,
    "start_time": "2022-05-12T16:36:31.209Z"
   },
   {
    "duration": 7,
    "start_time": "2022-05-12T16:36:31.226Z"
   },
   {
    "duration": 22,
    "start_time": "2022-05-12T16:36:31.235Z"
   },
   {
    "duration": 646,
    "start_time": "2022-05-12T16:36:31.258Z"
   },
   {
    "duration": 83,
    "start_time": "2022-05-12T16:36:31.905Z"
   },
   {
    "duration": 111,
    "start_time": "2022-05-12T16:36:31.990Z"
   },
   {
    "duration": 1398,
    "start_time": "2022-05-12T16:36:53.135Z"
   },
   {
    "duration": 15,
    "start_time": "2022-05-12T16:37:10.415Z"
   },
   {
    "duration": 14,
    "start_time": "2022-05-12T16:37:28.482Z"
   },
   {
    "duration": 15,
    "start_time": "2022-05-12T16:37:50.748Z"
   },
   {
    "duration": 16,
    "start_time": "2022-05-12T16:38:08.743Z"
   },
   {
    "duration": 20,
    "start_time": "2022-05-12T16:38:56.639Z"
   },
   {
    "duration": 32,
    "start_time": "2022-05-12T16:41:05.015Z"
   },
   {
    "duration": 34,
    "start_time": "2022-05-12T16:41:35.091Z"
   },
   {
    "duration": 16,
    "start_time": "2022-05-12T16:41:54.547Z"
   },
   {
    "duration": 40,
    "start_time": "2022-05-12T16:45:11.348Z"
   },
   {
    "duration": 14,
    "start_time": "2022-05-12T16:45:52.434Z"
   },
   {
    "duration": 14,
    "start_time": "2022-05-12T16:45:55.437Z"
   },
   {
    "duration": 447,
    "start_time": "2022-05-12T16:46:02.413Z"
   },
   {
    "duration": 61,
    "start_time": "2022-05-12T16:46:02.862Z"
   },
   {
    "duration": 22,
    "start_time": "2022-05-12T16:46:02.924Z"
   },
   {
    "duration": 4,
    "start_time": "2022-05-12T16:46:02.948Z"
   },
   {
    "duration": 20,
    "start_time": "2022-05-12T16:46:02.970Z"
   },
   {
    "duration": 99,
    "start_time": "2022-05-12T16:46:02.992Z"
   },
   {
    "duration": 21,
    "start_time": "2022-05-12T16:46:03.093Z"
   },
   {
    "duration": 16,
    "start_time": "2022-05-12T16:46:03.116Z"
   },
   {
    "duration": 56,
    "start_time": "2022-05-12T16:46:03.133Z"
   },
   {
    "duration": 12,
    "start_time": "2022-05-12T16:46:03.191Z"
   },
   {
    "duration": 432,
    "start_time": "2022-05-12T16:46:03.204Z"
   },
   {
    "duration": 164,
    "start_time": "2022-05-12T16:46:03.638Z"
   },
   {
    "duration": 23,
    "start_time": "2022-05-12T16:46:03.804Z"
   },
   {
    "duration": 162,
    "start_time": "2022-05-12T16:46:03.829Z"
   },
   {
    "duration": 37,
    "start_time": "2022-05-12T16:46:03.993Z"
   },
   {
    "duration": 5,
    "start_time": "2022-05-12T16:46:04.031Z"
   },
   {
    "duration": 6,
    "start_time": "2022-05-12T16:46:04.037Z"
   },
   {
    "duration": 34,
    "start_time": "2022-05-12T16:46:04.044Z"
   },
   {
    "duration": 14,
    "start_time": "2022-05-12T16:46:04.079Z"
   },
   {
    "duration": 7,
    "start_time": "2022-05-12T16:46:04.094Z"
   },
   {
    "duration": 41,
    "start_time": "2022-05-12T16:46:04.102Z"
   },
   {
    "duration": 734,
    "start_time": "2022-05-12T16:46:04.145Z"
   },
   {
    "duration": 18,
    "start_time": "2022-05-12T16:46:04.880Z"
   },
   {
    "duration": 118,
    "start_time": "2022-05-12T16:46:04.900Z"
   },
   {
    "duration": 41,
    "start_time": "2022-05-12T16:46:37.760Z"
   },
   {
    "duration": 44,
    "start_time": "2022-05-12T16:46:48.863Z"
   },
   {
    "duration": 15,
    "start_time": "2022-05-12T16:46:56.325Z"
   },
   {
    "duration": 15,
    "start_time": "2022-05-12T16:47:27.080Z"
   },
   {
    "duration": 15,
    "start_time": "2022-05-12T16:47:36.576Z"
   },
   {
    "duration": 19,
    "start_time": "2022-05-12T16:47:45.114Z"
   },
   {
    "duration": 4,
    "start_time": "2022-05-12T18:00:36.209Z"
   },
   {
    "duration": 25,
    "start_time": "2022-05-12T18:01:30.949Z"
   },
   {
    "duration": 3612,
    "start_time": "2022-05-12T18:02:24.778Z"
   },
   {
    "duration": 30,
    "start_time": "2022-05-12T18:02:28.587Z"
   },
   {
    "duration": 37,
    "start_time": "2022-05-12T18:02:50.105Z"
   },
   {
    "duration": 12,
    "start_time": "2022-05-12T18:13:53.129Z"
   },
   {
    "duration": 31,
    "start_time": "2022-05-12T18:14:06.852Z"
   },
   {
    "duration": 32,
    "start_time": "2022-05-12T18:15:32.397Z"
   },
   {
    "duration": 468,
    "start_time": "2022-05-12T18:17:51.044Z"
   },
   {
    "duration": 617,
    "start_time": "2022-05-12T18:18:09.584Z"
   },
   {
    "duration": 456,
    "start_time": "2022-05-12T18:18:28.699Z"
   },
   {
    "duration": 507,
    "start_time": "2022-05-12T18:19:22.851Z"
   },
   {
    "duration": 86,
    "start_time": "2022-05-12T18:20:19.670Z"
   },
   {
    "duration": 145,
    "start_time": "2022-05-12T18:22:43.936Z"
   },
   {
    "duration": 100,
    "start_time": "2022-05-12T19:14:34.407Z"
   },
   {
    "duration": 3,
    "start_time": "2022-05-12T19:14:51.392Z"
   },
   {
    "duration": 5,
    "start_time": "2022-05-12T19:15:30.329Z"
   },
   {
    "duration": 27,
    "start_time": "2022-05-12T19:15:38.066Z"
   },
   {
    "duration": 20,
    "start_time": "2022-05-12T19:16:26.710Z"
   },
   {
    "duration": 8,
    "start_time": "2022-05-12T19:16:51.371Z"
   },
   {
    "duration": 13,
    "start_time": "2022-05-12T19:16:58.466Z"
   },
   {
    "duration": 165,
    "start_time": "2022-05-12T19:20:28.570Z"
   },
   {
    "duration": 13,
    "start_time": "2022-05-12T19:21:14.795Z"
   },
   {
    "duration": 8,
    "start_time": "2022-05-12T19:22:28.159Z"
   },
   {
    "duration": 471,
    "start_time": "2022-05-12T19:22:49.872Z"
   },
   {
    "duration": 60,
    "start_time": "2022-05-12T19:22:50.345Z"
   },
   {
    "duration": 22,
    "start_time": "2022-05-12T19:22:50.406Z"
   },
   {
    "duration": 5,
    "start_time": "2022-05-12T19:22:50.429Z"
   },
   {
    "duration": 37,
    "start_time": "2022-05-12T19:22:50.436Z"
   },
   {
    "duration": 114,
    "start_time": "2022-05-12T19:22:50.475Z"
   },
   {
    "duration": 27,
    "start_time": "2022-05-12T19:22:50.591Z"
   },
   {
    "duration": 19,
    "start_time": "2022-05-12T19:22:50.619Z"
   },
   {
    "duration": 61,
    "start_time": "2022-05-12T19:22:50.640Z"
   },
   {
    "duration": 15,
    "start_time": "2022-05-12T19:22:50.703Z"
   },
   {
    "duration": 593,
    "start_time": "2022-05-12T19:22:50.720Z"
   },
   {
    "duration": 241,
    "start_time": "2022-05-12T19:22:51.315Z"
   },
   {
    "duration": 38,
    "start_time": "2022-05-12T19:22:51.558Z"
   },
   {
    "duration": 231,
    "start_time": "2022-05-12T19:22:51.600Z"
   },
   {
    "duration": 61,
    "start_time": "2022-05-12T19:22:51.833Z"
   },
   {
    "duration": 6,
    "start_time": "2022-05-12T19:22:51.896Z"
   },
   {
    "duration": 7,
    "start_time": "2022-05-12T19:22:51.904Z"
   },
   {
    "duration": 11,
    "start_time": "2022-05-12T19:22:51.913Z"
   },
   {
    "duration": 19,
    "start_time": "2022-05-12T19:22:51.925Z"
   },
   {
    "duration": 11,
    "start_time": "2022-05-12T19:22:51.972Z"
   },
   {
    "duration": 25,
    "start_time": "2022-05-12T19:22:51.984Z"
   },
   {
    "duration": 906,
    "start_time": "2022-05-12T19:22:52.011Z"
   },
   {
    "duration": 17,
    "start_time": "2022-05-12T19:22:52.919Z"
   },
   {
    "duration": 35,
    "start_time": "2022-05-12T19:22:52.937Z"
   },
   {
    "duration": 37,
    "start_time": "2022-05-12T19:22:52.973Z"
   },
   {
    "duration": 162,
    "start_time": "2022-05-12T19:22:53.011Z"
   },
   {
    "duration": 1832,
    "start_time": "2022-05-12T19:22:53.174Z"
   },
   {
    "duration": 13,
    "start_time": "2022-05-12T19:23:09.575Z"
   },
   {
    "duration": 115,
    "start_time": "2022-05-12T19:23:45.275Z"
   },
   {
    "duration": 1842,
    "start_time": "2022-05-12T19:24:00.820Z"
   },
   {
    "duration": 9,
    "start_time": "2022-05-12T19:26:10.533Z"
   },
   {
    "duration": 12,
    "start_time": "2022-05-12T19:26:51.356Z"
   },
   {
    "duration": 3,
    "start_time": "2022-05-12T19:33:09.128Z"
   },
   {
    "duration": 494,
    "start_time": "2022-05-12T19:33:15.991Z"
   },
   {
    "duration": 63,
    "start_time": "2022-05-12T19:33:16.487Z"
   },
   {
    "duration": 31,
    "start_time": "2022-05-12T19:33:16.551Z"
   },
   {
    "duration": 4,
    "start_time": "2022-05-12T19:33:16.584Z"
   },
   {
    "duration": 21,
    "start_time": "2022-05-12T19:33:16.590Z"
   },
   {
    "duration": 97,
    "start_time": "2022-05-12T19:33:16.612Z"
   },
   {
    "duration": 19,
    "start_time": "2022-05-12T19:33:16.711Z"
   },
   {
    "duration": 16,
    "start_time": "2022-05-12T19:33:16.771Z"
   },
   {
    "duration": 22,
    "start_time": "2022-05-12T19:33:16.788Z"
   },
   {
    "duration": 12,
    "start_time": "2022-05-12T19:33:16.813Z"
   },
   {
    "duration": 437,
    "start_time": "2022-05-12T19:33:16.826Z"
   },
   {
    "duration": 173,
    "start_time": "2022-05-12T19:33:17.265Z"
   },
   {
    "duration": 32,
    "start_time": "2022-05-12T19:33:17.440Z"
   },
   {
    "duration": 160,
    "start_time": "2022-05-12T19:33:17.473Z"
   },
   {
    "duration": 44,
    "start_time": "2022-05-12T19:33:17.635Z"
   },
   {
    "duration": 4,
    "start_time": "2022-05-12T19:33:17.681Z"
   },
   {
    "duration": 4,
    "start_time": "2022-05-12T19:33:17.687Z"
   },
   {
    "duration": 8,
    "start_time": "2022-05-12T19:33:17.692Z"
   },
   {
    "duration": 13,
    "start_time": "2022-05-12T19:33:17.702Z"
   },
   {
    "duration": 7,
    "start_time": "2022-05-12T19:33:17.716Z"
   },
   {
    "duration": 50,
    "start_time": "2022-05-12T19:33:17.724Z"
   },
   {
    "duration": 698,
    "start_time": "2022-05-12T19:33:17.776Z"
   },
   {
    "duration": 18,
    "start_time": "2022-05-12T19:33:18.475Z"
   },
   {
    "duration": 19,
    "start_time": "2022-05-12T19:33:18.495Z"
   },
   {
    "duration": 65,
    "start_time": "2022-05-12T19:33:18.515Z"
   },
   {
    "duration": 131,
    "start_time": "2022-05-12T19:33:18.581Z"
   },
   {
    "duration": 2,
    "start_time": "2022-05-12T19:33:18.713Z"
   },
   {
    "duration": 7,
    "start_time": "2022-05-12T19:38:15.145Z"
   },
   {
    "duration": 8,
    "start_time": "2022-05-12T19:38:32.951Z"
   },
   {
    "duration": 12,
    "start_time": "2022-05-12T19:38:43.085Z"
   },
   {
    "duration": 94,
    "start_time": "2022-05-12T19:39:40.787Z"
   },
   {
    "duration": 11,
    "start_time": "2022-05-12T19:39:49.339Z"
   },
   {
    "duration": 11,
    "start_time": "2022-05-12T19:40:02.202Z"
   },
   {
    "duration": 483,
    "start_time": "2022-05-12T19:40:13.176Z"
   },
   {
    "duration": 62,
    "start_time": "2022-05-12T19:40:13.661Z"
   },
   {
    "duration": 23,
    "start_time": "2022-05-12T19:40:13.725Z"
   },
   {
    "duration": 21,
    "start_time": "2022-05-12T19:40:13.750Z"
   },
   {
    "duration": 20,
    "start_time": "2022-05-12T19:40:13.773Z"
   },
   {
    "duration": 110,
    "start_time": "2022-05-12T19:40:13.795Z"
   },
   {
    "duration": 22,
    "start_time": "2022-05-12T19:40:13.907Z"
   },
   {
    "duration": 52,
    "start_time": "2022-05-12T19:40:13.930Z"
   },
   {
    "duration": 22,
    "start_time": "2022-05-12T19:40:13.984Z"
   },
   {
    "duration": 12,
    "start_time": "2022-05-12T19:40:14.009Z"
   },
   {
    "duration": 428,
    "start_time": "2022-05-12T19:40:14.023Z"
   },
   {
    "duration": 158,
    "start_time": "2022-05-12T19:40:14.452Z"
   },
   {
    "duration": 21,
    "start_time": "2022-05-12T19:40:14.612Z"
   },
   {
    "duration": 163,
    "start_time": "2022-05-12T19:40:14.635Z"
   },
   {
    "duration": 38,
    "start_time": "2022-05-12T19:40:14.799Z"
   },
   {
    "duration": 5,
    "start_time": "2022-05-12T19:40:14.838Z"
   },
   {
    "duration": 26,
    "start_time": "2022-05-12T19:40:14.845Z"
   },
   {
    "duration": 8,
    "start_time": "2022-05-12T19:40:14.873Z"
   },
   {
    "duration": 14,
    "start_time": "2022-05-12T19:40:14.882Z"
   },
   {
    "duration": 6,
    "start_time": "2022-05-12T19:40:14.897Z"
   },
   {
    "duration": 16,
    "start_time": "2022-05-12T19:40:14.905Z"
   },
   {
    "duration": 773,
    "start_time": "2022-05-12T19:40:14.923Z"
   },
   {
    "duration": 17,
    "start_time": "2022-05-12T19:40:15.698Z"
   },
   {
    "duration": 19,
    "start_time": "2022-05-12T19:40:15.716Z"
   },
   {
    "duration": 56,
    "start_time": "2022-05-12T19:40:15.737Z"
   },
   {
    "duration": 134,
    "start_time": "2022-05-12T19:40:15.794Z"
   },
   {
    "duration": 9,
    "start_time": "2022-05-12T19:40:15.929Z"
   },
   {
    "duration": 3,
    "start_time": "2022-05-12T19:44:13.717Z"
   },
   {
    "duration": 467,
    "start_time": "2022-05-12T19:44:23.197Z"
   },
   {
    "duration": 69,
    "start_time": "2022-05-12T19:44:23.670Z"
   },
   {
    "duration": 21,
    "start_time": "2022-05-12T19:44:23.740Z"
   },
   {
    "duration": 9,
    "start_time": "2022-05-12T19:44:23.764Z"
   },
   {
    "duration": 30,
    "start_time": "2022-05-12T19:44:23.775Z"
   },
   {
    "duration": 68,
    "start_time": "2022-05-12T19:44:23.807Z"
   },
   {
    "duration": 24,
    "start_time": "2022-05-12T19:44:23.877Z"
   },
   {
    "duration": 15,
    "start_time": "2022-05-12T19:44:23.903Z"
   },
   {
    "duration": 22,
    "start_time": "2022-05-12T19:44:23.919Z"
   },
   {
    "duration": 11,
    "start_time": "2022-05-12T19:44:23.944Z"
   },
   {
    "duration": 479,
    "start_time": "2022-05-12T19:44:23.957Z"
   },
   {
    "duration": 263,
    "start_time": "2022-05-12T19:44:24.438Z"
   },
   {
    "duration": 23,
    "start_time": "2022-05-12T19:44:24.703Z"
   },
   {
    "duration": 179,
    "start_time": "2022-05-12T19:44:24.728Z"
   },
   {
    "duration": 38,
    "start_time": "2022-05-12T19:44:24.909Z"
   },
   {
    "duration": 6,
    "start_time": "2022-05-12T19:44:24.948Z"
   },
   {
    "duration": 20,
    "start_time": "2022-05-12T19:44:24.955Z"
   },
   {
    "duration": 16,
    "start_time": "2022-05-12T19:44:24.977Z"
   },
   {
    "duration": 14,
    "start_time": "2022-05-12T19:44:24.995Z"
   },
   {
    "duration": 7,
    "start_time": "2022-05-12T19:44:25.011Z"
   },
   {
    "duration": 16,
    "start_time": "2022-05-12T19:44:25.019Z"
   },
   {
    "duration": 739,
    "start_time": "2022-05-12T19:44:25.037Z"
   },
   {
    "duration": 18,
    "start_time": "2022-05-12T19:44:25.778Z"
   },
   {
    "duration": 20,
    "start_time": "2022-05-12T19:44:25.798Z"
   },
   {
    "duration": 69,
    "start_time": "2022-05-12T19:44:25.820Z"
   },
   {
    "duration": 145,
    "start_time": "2022-05-12T19:44:25.891Z"
   },
   {
    "duration": 4,
    "start_time": "2022-05-12T19:44:26.038Z"
   },
   {
    "duration": 618,
    "start_time": "2022-05-12T19:44:34.833Z"
   },
   {
    "duration": 625,
    "start_time": "2022-05-12T19:47:03.565Z"
   },
   {
    "duration": 5,
    "start_time": "2022-05-12T19:47:24.524Z"
   },
   {
    "duration": 13,
    "start_time": "2022-05-12T19:47:27.368Z"
   },
   {
    "duration": 4,
    "start_time": "2022-05-12T19:54:33.671Z"
   },
   {
    "duration": 8,
    "start_time": "2022-05-12T19:56:14.031Z"
   },
   {
    "duration": 12,
    "start_time": "2022-05-12T19:56:16.886Z"
   },
   {
    "duration": 1816,
    "start_time": "2022-05-12T20:09:23.040Z"
   },
   {
    "duration": 10,
    "start_time": "2022-05-12T20:09:31.229Z"
   },
   {
    "duration": 11,
    "start_time": "2022-05-12T20:09:56.838Z"
   },
   {
    "duration": 11,
    "start_time": "2022-05-12T20:10:03.642Z"
   },
   {
    "duration": 12,
    "start_time": "2022-05-12T20:10:29.903Z"
   },
   {
    "duration": 16,
    "start_time": "2022-05-12T20:10:47.523Z"
   },
   {
    "duration": 15,
    "start_time": "2022-05-12T20:11:56.397Z"
   },
   {
    "duration": 5,
    "start_time": "2022-05-12T20:16:03.233Z"
   },
   {
    "duration": 5,
    "start_time": "2022-05-12T20:16:21.415Z"
   },
   {
    "duration": 26,
    "start_time": "2022-05-12T20:16:30.552Z"
   },
   {
    "duration": 10,
    "start_time": "2022-05-12T20:16:47.361Z"
   },
   {
    "duration": 15,
    "start_time": "2022-05-12T20:17:34.939Z"
   },
   {
    "duration": 37,
    "start_time": "2022-05-12T20:18:12.955Z"
   },
   {
    "duration": 53,
    "start_time": "2022-05-12T20:18:52.866Z"
   },
   {
    "duration": 45,
    "start_time": "2022-05-12T20:21:09.738Z"
   },
   {
    "duration": 37,
    "start_time": "2022-05-12T20:21:42.245Z"
   },
   {
    "duration": 435,
    "start_time": "2022-05-12T20:21:59.233Z"
   },
   {
    "duration": 75,
    "start_time": "2022-05-12T20:21:59.670Z"
   },
   {
    "duration": 38,
    "start_time": "2022-05-12T20:21:59.747Z"
   },
   {
    "duration": 8,
    "start_time": "2022-05-12T20:21:59.789Z"
   },
   {
    "duration": 19,
    "start_time": "2022-05-12T20:21:59.800Z"
   },
   {
    "duration": 111,
    "start_time": "2022-05-12T20:21:59.821Z"
   },
   {
    "duration": 57,
    "start_time": "2022-05-12T20:21:59.934Z"
   },
   {
    "duration": 16,
    "start_time": "2022-05-12T20:21:59.993Z"
   },
   {
    "duration": 24,
    "start_time": "2022-05-12T20:22:00.011Z"
   },
   {
    "duration": 46,
    "start_time": "2022-05-12T20:22:00.038Z"
   },
   {
    "duration": 448,
    "start_time": "2022-05-12T20:22:00.086Z"
   },
   {
    "duration": 171,
    "start_time": "2022-05-12T20:22:00.536Z"
   },
   {
    "duration": 22,
    "start_time": "2022-05-12T20:22:00.709Z"
   },
   {
    "duration": 179,
    "start_time": "2022-05-12T20:22:00.733Z"
   },
   {
    "duration": 40,
    "start_time": "2022-05-12T20:22:00.914Z"
   },
   {
    "duration": 31,
    "start_time": "2022-05-12T20:22:00.955Z"
   },
   {
    "duration": 12,
    "start_time": "2022-05-12T20:22:00.993Z"
   },
   {
    "duration": 12,
    "start_time": "2022-05-12T20:22:01.007Z"
   },
   {
    "duration": 17,
    "start_time": "2022-05-12T20:22:01.021Z"
   },
   {
    "duration": 14,
    "start_time": "2022-05-12T20:22:01.040Z"
   },
   {
    "duration": 33,
    "start_time": "2022-05-12T20:22:01.056Z"
   },
   {
    "duration": 700,
    "start_time": "2022-05-12T20:22:01.090Z"
   },
   {
    "duration": 20,
    "start_time": "2022-05-12T20:22:01.791Z"
   },
   {
    "duration": 20,
    "start_time": "2022-05-12T20:22:01.813Z"
   },
   {
    "duration": 70,
    "start_time": "2022-05-12T20:22:01.834Z"
   },
   {
    "duration": 152,
    "start_time": "2022-05-12T20:22:01.906Z"
   },
   {
    "duration": 53,
    "start_time": "2022-05-12T20:22:02.071Z"
   },
   {
    "duration": 66,
    "start_time": "2022-05-12T20:22:02.126Z"
   },
   {
    "duration": 74,
    "start_time": "2022-05-13T07:18:24.000Z"
   },
   {
    "duration": 584,
    "start_time": "2022-05-13T07:18:33.071Z"
   },
   {
    "duration": 105,
    "start_time": "2022-05-13T07:18:33.658Z"
   },
   {
    "duration": 33,
    "start_time": "2022-05-13T07:18:33.765Z"
   },
   {
    "duration": 8,
    "start_time": "2022-05-13T07:18:33.801Z"
   },
   {
    "duration": 61,
    "start_time": "2022-05-13T07:18:33.813Z"
   },
   {
    "duration": 183,
    "start_time": "2022-05-13T07:18:33.877Z"
   },
   {
    "duration": 30,
    "start_time": "2022-05-13T07:18:34.062Z"
   },
   {
    "duration": 67,
    "start_time": "2022-05-13T07:18:34.095Z"
   },
   {
    "duration": 34,
    "start_time": "2022-05-13T07:18:34.165Z"
   },
   {
    "duration": 56,
    "start_time": "2022-05-13T07:18:34.201Z"
   },
   {
    "duration": 853,
    "start_time": "2022-05-13T07:18:34.259Z"
   },
   {
    "duration": 300,
    "start_time": "2022-05-13T07:18:35.114Z"
   },
   {
    "duration": 51,
    "start_time": "2022-05-13T07:18:35.416Z"
   },
   {
    "duration": 267,
    "start_time": "2022-05-13T07:18:35.472Z"
   },
   {
    "duration": 128,
    "start_time": "2022-05-13T07:18:35.741Z"
   },
   {
    "duration": 9,
    "start_time": "2022-05-13T07:18:35.871Z"
   },
   {
    "duration": 10,
    "start_time": "2022-05-13T07:18:35.883Z"
   },
   {
    "duration": 14,
    "start_time": "2022-05-13T07:18:35.896Z"
   },
   {
    "duration": 61,
    "start_time": "2022-05-13T07:18:35.913Z"
   },
   {
    "duration": 11,
    "start_time": "2022-05-13T07:18:35.977Z"
   },
   {
    "duration": 23,
    "start_time": "2022-05-13T07:18:35.990Z"
   },
   {
    "duration": 981,
    "start_time": "2022-05-13T07:18:36.015Z"
   },
   {
    "duration": 26,
    "start_time": "2022-05-13T07:18:36.999Z"
   },
   {
    "duration": 48,
    "start_time": "2022-05-13T07:18:37.027Z"
   },
   {
    "duration": 85,
    "start_time": "2022-05-13T07:18:37.077Z"
   },
   {
    "duration": 238,
    "start_time": "2022-05-13T07:18:37.164Z"
   },
   {
    "duration": 49,
    "start_time": "2022-05-13T07:18:37.404Z"
   },
   {
    "duration": 64,
    "start_time": "2022-05-13T07:18:37.456Z"
   },
   {
    "duration": 12,
    "start_time": "2022-05-13T07:18:37.553Z"
   },
   {
    "duration": 263,
    "start_time": "2022-05-13T07:19:08.317Z"
   },
   {
    "duration": 248,
    "start_time": "2022-05-13T07:27:05.339Z"
   },
   {
    "duration": 271,
    "start_time": "2022-05-13T07:33:38.281Z"
   },
   {
    "duration": 319,
    "start_time": "2022-05-13T07:33:56.707Z"
   },
   {
    "duration": 323,
    "start_time": "2022-05-13T07:34:01.884Z"
   },
   {
    "duration": 97,
    "start_time": "2022-05-13T07:35:00.535Z"
   },
   {
    "duration": 357,
    "start_time": "2022-05-13T07:35:07.116Z"
   },
   {
    "duration": 317,
    "start_time": "2022-05-13T07:35:22.257Z"
   },
   {
    "duration": 326,
    "start_time": "2022-05-13T07:35:29.666Z"
   },
   {
    "duration": 256,
    "start_time": "2022-05-13T07:37:05.143Z"
   },
   {
    "duration": 105,
    "start_time": "2022-05-13T07:42:20.934Z"
   },
   {
    "duration": 256,
    "start_time": "2022-05-13T07:42:45.015Z"
   },
   {
    "duration": 422,
    "start_time": "2022-05-13T07:43:15.747Z"
   },
   {
    "duration": 308,
    "start_time": "2022-05-13T07:43:25.440Z"
   },
   {
    "duration": 299,
    "start_time": "2022-05-13T07:43:42.863Z"
   },
   {
    "duration": 324,
    "start_time": "2022-05-13T07:46:42.354Z"
   },
   {
    "duration": 301,
    "start_time": "2022-05-13T07:46:47.096Z"
   },
   {
    "duration": 446,
    "start_time": "2022-05-13T07:48:59.261Z"
   },
   {
    "duration": 220,
    "start_time": "2022-05-13T07:49:08.221Z"
   },
   {
    "duration": 236,
    "start_time": "2022-05-13T07:49:34.259Z"
   },
   {
    "duration": 297,
    "start_time": "2022-05-13T07:51:29.000Z"
   },
   {
    "duration": 7,
    "start_time": "2022-05-13T07:54:22.437Z"
   },
   {
    "duration": 13,
    "start_time": "2022-05-13T07:54:38.843Z"
   },
   {
    "duration": 11,
    "start_time": "2022-05-13T07:54:55.387Z"
   },
   {
    "duration": 308,
    "start_time": "2022-05-13T07:58:50.873Z"
   },
   {
    "duration": 329,
    "start_time": "2022-05-13T08:00:49.780Z"
   },
   {
    "duration": 568,
    "start_time": "2022-05-13T08:00:56.336Z"
   },
   {
    "duration": 38,
    "start_time": "2022-05-13T08:07:04.143Z"
   },
   {
    "duration": 11,
    "start_time": "2022-05-13T08:07:58.893Z"
   },
   {
    "duration": 633,
    "start_time": "2022-05-13T08:08:18.370Z"
   },
   {
    "duration": 111,
    "start_time": "2022-05-13T08:08:19.006Z"
   },
   {
    "duration": 56,
    "start_time": "2022-05-13T08:08:19.120Z"
   },
   {
    "duration": 7,
    "start_time": "2022-05-13T08:08:19.179Z"
   },
   {
    "duration": 31,
    "start_time": "2022-05-13T08:08:19.189Z"
   },
   {
    "duration": 182,
    "start_time": "2022-05-13T08:08:19.222Z"
   },
   {
    "duration": 37,
    "start_time": "2022-05-13T08:08:19.453Z"
   },
   {
    "duration": 24,
    "start_time": "2022-05-13T08:08:19.492Z"
   },
   {
    "duration": 73,
    "start_time": "2022-05-13T08:08:19.518Z"
   },
   {
    "duration": 19,
    "start_time": "2022-05-13T08:08:19.593Z"
   },
   {
    "duration": 677,
    "start_time": "2022-05-13T08:08:19.615Z"
   },
   {
    "duration": 302,
    "start_time": "2022-05-13T08:08:20.295Z"
   },
   {
    "duration": 52,
    "start_time": "2022-05-13T08:08:20.599Z"
   },
   {
    "duration": 293,
    "start_time": "2022-05-13T08:08:20.659Z"
   },
   {
    "duration": 64,
    "start_time": "2022-05-13T08:08:20.955Z"
   },
   {
    "duration": 34,
    "start_time": "2022-05-13T08:08:21.022Z"
   },
   {
    "duration": 15,
    "start_time": "2022-05-13T08:08:21.059Z"
   },
   {
    "duration": 19,
    "start_time": "2022-05-13T08:08:21.076Z"
   },
   {
    "duration": 23,
    "start_time": "2022-05-13T08:08:21.097Z"
   },
   {
    "duration": 35,
    "start_time": "2022-05-13T08:08:21.123Z"
   },
   {
    "duration": 32,
    "start_time": "2022-05-13T08:08:21.161Z"
   },
   {
    "duration": 1029,
    "start_time": "2022-05-13T08:08:21.195Z"
   },
   {
    "duration": 47,
    "start_time": "2022-05-13T08:08:22.226Z"
   },
   {
    "duration": 29,
    "start_time": "2022-05-13T08:08:22.276Z"
   },
   {
    "duration": 100,
    "start_time": "2022-05-13T08:08:22.307Z"
   },
   {
    "duration": 344,
    "start_time": "2022-05-13T08:08:22.410Z"
   },
   {
    "duration": 41,
    "start_time": "2022-05-13T08:08:22.757Z"
   },
   {
    "duration": 101,
    "start_time": "2022-05-13T08:08:22.801Z"
   },
   {
    "duration": 326,
    "start_time": "2022-05-13T08:08:22.904Z"
   },
   {
    "duration": 322,
    "start_time": "2022-05-13T08:08:23.233Z"
   },
   {
    "duration": 413,
    "start_time": "2022-05-13T08:08:23.562Z"
   },
   {
    "duration": 358,
    "start_time": "2022-05-13T08:08:23.981Z"
   },
   {
    "duration": 400,
    "start_time": "2022-05-13T08:08:24.341Z"
   },
   {
    "duration": 13,
    "start_time": "2022-05-13T08:08:24.751Z"
   },
   {
    "duration": 11,
    "start_time": "2022-05-13T08:09:05.771Z"
   },
   {
    "duration": 253,
    "start_time": "2022-05-13T08:09:54.274Z"
   },
   {
    "duration": 440,
    "start_time": "2022-05-13T08:10:12.591Z"
   },
   {
    "duration": 279,
    "start_time": "2022-05-13T08:10:20.309Z"
   },
   {
    "duration": 268,
    "start_time": "2022-05-13T08:10:34.596Z"
   },
   {
    "duration": 125,
    "start_time": "2022-05-13T08:12:57.884Z"
   },
   {
    "duration": 304,
    "start_time": "2022-05-13T08:13:02.024Z"
   },
   {
    "duration": 317,
    "start_time": "2022-05-13T08:15:25.768Z"
   },
   {
    "duration": 358,
    "start_time": "2022-05-13T08:15:35.754Z"
   },
   {
    "duration": 9,
    "start_time": "2022-05-13T08:33:53.637Z"
   },
   {
    "duration": 8,
    "start_time": "2022-05-13T08:34:11.412Z"
   },
   {
    "duration": 8,
    "start_time": "2022-05-13T08:34:23.731Z"
   },
   {
    "duration": 1745,
    "start_time": "2022-05-13T08:34:30.873Z"
   },
   {
    "duration": 8,
    "start_time": "2022-05-13T08:34:50.109Z"
   },
   {
    "duration": 0,
    "start_time": "2022-05-13T08:35:15.007Z"
   },
   {
    "duration": 2464,
    "start_time": "2022-05-13T08:35:17.361Z"
   },
   {
    "duration": 7,
    "start_time": "2022-05-13T08:35:31.336Z"
   },
   {
    "duration": 7,
    "start_time": "2022-05-13T08:36:07.336Z"
   },
   {
    "duration": 289,
    "start_time": "2022-05-13T08:36:52.406Z"
   },
   {
    "duration": 332,
    "start_time": "2022-05-13T08:37:04.000Z"
   },
   {
    "duration": 516,
    "start_time": "2022-05-13T08:37:32.810Z"
   },
   {
    "duration": 309,
    "start_time": "2022-05-13T08:37:41.721Z"
   },
   {
    "duration": 300,
    "start_time": "2022-05-13T08:39:43.914Z"
   },
   {
    "duration": 298,
    "start_time": "2022-05-13T08:40:04.730Z"
   },
   {
    "duration": 362,
    "start_time": "2022-05-13T08:40:13.716Z"
   },
   {
    "duration": 13,
    "start_time": "2022-05-13T08:53:08.570Z"
   },
   {
    "duration": 30,
    "start_time": "2022-05-13T08:53:15.471Z"
   },
   {
    "duration": 71,
    "start_time": "2022-05-13T08:53:20.544Z"
   },
   {
    "duration": 107,
    "start_time": "2022-05-13T08:53:32.788Z"
   },
   {
    "duration": 112,
    "start_time": "2022-05-13T08:54:37.730Z"
   },
   {
    "duration": 108,
    "start_time": "2022-05-13T08:54:46.965Z"
   },
   {
    "duration": 5342,
    "start_time": "2022-05-13T08:57:51.679Z"
   },
   {
    "duration": 86,
    "start_time": "2022-05-13T08:58:17.434Z"
   },
   {
    "duration": 6,
    "start_time": "2022-05-13T09:00:04.280Z"
   },
   {
    "duration": 17,
    "start_time": "2022-05-13T09:00:15.165Z"
   },
   {
    "duration": 15,
    "start_time": "2022-05-13T09:01:41.246Z"
   },
   {
    "duration": 37,
    "start_time": "2022-05-13T09:03:48.058Z"
   },
   {
    "duration": 24,
    "start_time": "2022-05-13T09:05:15.640Z"
   },
   {
    "duration": 26,
    "start_time": "2022-05-13T09:05:31.967Z"
   },
   {
    "duration": 40,
    "start_time": "2022-05-13T09:05:48.264Z"
   },
   {
    "duration": 23,
    "start_time": "2022-05-13T09:06:37.003Z"
   },
   {
    "duration": 2704,
    "start_time": "2022-05-13T09:15:04.398Z"
   },
   {
    "duration": 94,
    "start_time": "2022-05-13T09:15:39.001Z"
   },
   {
    "duration": 28,
    "start_time": "2022-05-13T09:15:43.625Z"
   },
   {
    "duration": 37,
    "start_time": "2022-05-13T09:16:03.376Z"
   },
   {
    "duration": 5,
    "start_time": "2022-05-13T09:19:23.281Z"
   },
   {
    "duration": 15,
    "start_time": "2022-05-13T09:21:02.309Z"
   },
   {
    "duration": 21,
    "start_time": "2022-05-13T09:22:42.381Z"
   },
   {
    "duration": 17,
    "start_time": "2022-05-13T09:23:15.007Z"
   },
   {
    "duration": 15,
    "start_time": "2022-05-13T09:24:46.785Z"
   },
   {
    "duration": 23,
    "start_time": "2022-05-13T09:24:52.365Z"
   },
   {
    "duration": 30,
    "start_time": "2022-05-13T09:25:25.940Z"
   },
   {
    "duration": 22,
    "start_time": "2022-05-13T09:25:45.277Z"
   },
   {
    "duration": 459,
    "start_time": "2022-05-13T09:26:01.068Z"
   },
   {
    "duration": 481,
    "start_time": "2022-05-13T09:26:14.095Z"
   },
   {
    "duration": 18,
    "start_time": "2022-05-13T09:26:47.639Z"
   },
   {
    "duration": 21,
    "start_time": "2022-05-13T09:27:19.923Z"
   },
   {
    "duration": 11,
    "start_time": "2022-05-13T09:27:36.613Z"
   },
   {
    "duration": 12,
    "start_time": "2022-05-13T09:27:40.041Z"
   },
   {
    "duration": 24,
    "start_time": "2022-05-13T09:27:48.569Z"
   },
   {
    "duration": 48,
    "start_time": "2022-05-13T09:32:34.771Z"
   },
   {
    "duration": 21,
    "start_time": "2022-05-13T09:33:58.131Z"
   },
   {
    "duration": 300,
    "start_time": "2022-05-13T09:34:18.355Z"
   },
   {
    "duration": 996,
    "start_time": "2022-05-13T09:35:05.302Z"
   },
   {
    "duration": 11,
    "start_time": "2022-05-13T09:36:07.284Z"
   },
   {
    "duration": 330,
    "start_time": "2022-05-13T09:36:12.012Z"
   },
   {
    "duration": 930,
    "start_time": "2022-05-13T09:36:24.566Z"
   },
   {
    "duration": 14,
    "start_time": "2022-05-13T09:45:44.638Z"
   },
   {
    "duration": 5,
    "start_time": "2022-05-13T09:47:00.257Z"
   },
   {
    "duration": 61,
    "start_time": "2022-05-13T09:47:11.282Z"
   },
   {
    "duration": 19,
    "start_time": "2022-05-13T09:49:20.769Z"
   },
   {
    "duration": 11,
    "start_time": "2022-05-13T09:49:42.511Z"
   },
   {
    "duration": 11,
    "start_time": "2022-05-13T09:49:48.014Z"
   },
   {
    "duration": 11,
    "start_time": "2022-05-13T09:49:51.741Z"
   },
   {
    "duration": 11,
    "start_time": "2022-05-13T09:50:03.967Z"
   },
   {
    "duration": 130,
    "start_time": "2022-05-13T11:22:49.434Z"
   },
   {
    "duration": 91,
    "start_time": "2022-05-13T11:23:19.335Z"
   },
   {
    "duration": 67,
    "start_time": "2022-05-13T11:23:49.747Z"
   },
   {
    "duration": 60,
    "start_time": "2022-05-13T11:24:01.532Z"
   },
   {
    "duration": 22,
    "start_time": "2022-05-13T11:24:06.767Z"
   },
   {
    "duration": 39,
    "start_time": "2022-05-13T11:24:15.319Z"
   },
   {
    "duration": 53,
    "start_time": "2022-05-13T11:24:19.467Z"
   },
   {
    "duration": 27,
    "start_time": "2022-05-13T11:24:40.981Z"
   },
   {
    "duration": 30,
    "start_time": "2022-05-13T11:30:35.041Z"
   },
   {
    "duration": 33,
    "start_time": "2022-05-13T11:30:44.431Z"
   },
   {
    "duration": 35,
    "start_time": "2022-05-13T11:31:59.622Z"
   },
   {
    "duration": 41,
    "start_time": "2022-05-13T11:32:16.308Z"
   },
   {
    "duration": 248,
    "start_time": "2022-05-13T11:33:26.243Z"
   },
   {
    "duration": 1375,
    "start_time": "2022-05-13T11:35:21.530Z"
   },
   {
    "duration": 52,
    "start_time": "2022-05-13T11:41:39.821Z"
   },
   {
    "duration": 47,
    "start_time": "2022-05-13T11:41:50.452Z"
   },
   {
    "duration": 42,
    "start_time": "2022-05-13T11:42:06.275Z"
   },
   {
    "duration": 44,
    "start_time": "2022-05-13T11:42:20.526Z"
   },
   {
    "duration": 1626,
    "start_time": "2022-05-13T11:42:30.934Z"
   },
   {
    "duration": 211,
    "start_time": "2022-05-13T11:42:41.776Z"
   },
   {
    "duration": 244,
    "start_time": "2022-05-13T11:42:50.517Z"
   },
   {
    "duration": 259,
    "start_time": "2022-05-13T11:42:59.754Z"
   },
   {
    "duration": 250,
    "start_time": "2022-05-13T11:43:04.689Z"
   },
   {
    "duration": 253,
    "start_time": "2022-05-13T11:44:43.738Z"
   },
   {
    "duration": 265,
    "start_time": "2022-05-13T11:44:53.654Z"
   },
   {
    "duration": 267,
    "start_time": "2022-05-13T11:45:00.530Z"
   },
   {
    "duration": 266,
    "start_time": "2022-05-13T11:45:13.756Z"
   },
   {
    "duration": 227,
    "start_time": "2022-05-13T11:45:23.648Z"
   },
   {
    "duration": 219,
    "start_time": "2022-05-13T11:46:58.057Z"
   },
   {
    "duration": 35,
    "start_time": "2022-05-13T11:48:26.353Z"
   },
   {
    "duration": 34,
    "start_time": "2022-05-13T11:48:34.135Z"
   },
   {
    "duration": 37,
    "start_time": "2022-05-13T11:48:50.597Z"
   },
   {
    "duration": 250,
    "start_time": "2022-05-13T11:48:55.468Z"
   },
   {
    "duration": 219,
    "start_time": "2022-05-13T11:49:04.332Z"
   },
   {
    "duration": 227,
    "start_time": "2022-05-13T11:50:06.755Z"
   },
   {
    "duration": 351,
    "start_time": "2022-05-13T11:50:55.650Z"
   },
   {
    "duration": 225,
    "start_time": "2022-05-13T11:51:19.160Z"
   },
   {
    "duration": 228,
    "start_time": "2022-05-13T11:51:28.913Z"
   },
   {
    "duration": 233,
    "start_time": "2022-05-13T11:52:34.252Z"
   },
   {
    "duration": 222,
    "start_time": "2022-05-13T11:52:49.515Z"
   },
   {
    "duration": 382,
    "start_time": "2022-05-13T11:53:10.965Z"
   },
   {
    "duration": 225,
    "start_time": "2022-05-13T11:53:16.829Z"
   },
   {
    "duration": 221,
    "start_time": "2022-05-13T11:53:20.753Z"
   },
   {
    "duration": 216,
    "start_time": "2022-05-13T11:53:24.520Z"
   },
   {
    "duration": 211,
    "start_time": "2022-05-13T11:53:29.371Z"
   },
   {
    "duration": 363,
    "start_time": "2022-05-13T11:54:56.079Z"
   },
   {
    "duration": 12,
    "start_time": "2022-05-13T12:02:42.854Z"
   },
   {
    "duration": 25,
    "start_time": "2022-05-13T12:14:07.921Z"
   },
   {
    "duration": 15,
    "start_time": "2022-05-13T12:16:18.492Z"
   },
   {
    "duration": 18,
    "start_time": "2022-05-13T12:19:02.967Z"
   },
   {
    "duration": 24,
    "start_time": "2022-05-13T12:19:15.998Z"
   },
   {
    "duration": 21,
    "start_time": "2022-05-13T12:19:27.598Z"
   },
   {
    "duration": 23,
    "start_time": "2022-05-13T12:19:45.605Z"
   },
   {
    "duration": 23,
    "start_time": "2022-05-13T12:20:15.713Z"
   },
   {
    "duration": 23,
    "start_time": "2022-05-13T12:20:19.554Z"
   },
   {
    "duration": 27,
    "start_time": "2022-05-13T12:20:35.322Z"
   },
   {
    "duration": 23,
    "start_time": "2022-05-13T12:20:55.439Z"
   },
   {
    "duration": 23,
    "start_time": "2022-05-13T12:22:01.849Z"
   },
   {
    "duration": 639,
    "start_time": "2022-05-13T12:22:08.533Z"
   },
   {
    "duration": 112,
    "start_time": "2022-05-13T12:22:09.175Z"
   },
   {
    "duration": 34,
    "start_time": "2022-05-13T12:22:09.290Z"
   },
   {
    "duration": 7,
    "start_time": "2022-05-13T12:22:09.354Z"
   },
   {
    "duration": 34,
    "start_time": "2022-05-13T12:22:09.364Z"
   },
   {
    "duration": 268,
    "start_time": "2022-05-13T12:22:09.401Z"
   },
   {
    "duration": 79,
    "start_time": "2022-05-13T12:22:09.673Z"
   },
   {
    "duration": 24,
    "start_time": "2022-05-13T12:22:09.755Z"
   },
   {
    "duration": 78,
    "start_time": "2022-05-13T12:22:09.782Z"
   },
   {
    "duration": 19,
    "start_time": "2022-05-13T12:22:09.864Z"
   },
   {
    "duration": 887,
    "start_time": "2022-05-13T12:22:09.886Z"
   },
   {
    "duration": 339,
    "start_time": "2022-05-13T12:22:10.776Z"
   },
   {
    "duration": 54,
    "start_time": "2022-05-13T12:22:11.118Z"
   },
   {
    "duration": 389,
    "start_time": "2022-05-13T12:22:11.175Z"
   },
   {
    "duration": 92,
    "start_time": "2022-05-13T12:22:11.567Z"
   },
   {
    "duration": 9,
    "start_time": "2022-05-13T12:22:11.662Z"
   },
   {
    "duration": 13,
    "start_time": "2022-05-13T12:22:11.675Z"
   },
   {
    "duration": 63,
    "start_time": "2022-05-13T12:22:11.691Z"
   },
   {
    "duration": 34,
    "start_time": "2022-05-13T12:22:11.757Z"
   },
   {
    "duration": 13,
    "start_time": "2022-05-13T12:22:11.794Z"
   },
   {
    "duration": 64,
    "start_time": "2022-05-13T12:22:11.809Z"
   },
   {
    "duration": 947,
    "start_time": "2022-05-13T12:22:11.875Z"
   },
   {
    "duration": 38,
    "start_time": "2022-05-13T12:22:12.853Z"
   },
   {
    "duration": 70,
    "start_time": "2022-05-13T12:22:12.894Z"
   },
   {
    "duration": 111,
    "start_time": "2022-05-13T12:22:12.967Z"
   },
   {
    "duration": 87,
    "start_time": "2022-05-13T12:22:13.081Z"
   },
   {
    "duration": 28,
    "start_time": "2022-05-13T12:22:13.171Z"
   },
   {
    "duration": 106,
    "start_time": "2022-05-13T12:22:13.204Z"
   },
   {
    "duration": 347,
    "start_time": "2022-05-13T12:22:13.312Z"
   },
   {
    "duration": 307,
    "start_time": "2022-05-13T12:22:13.662Z"
   },
   {
    "duration": 369,
    "start_time": "2022-05-13T12:22:13.972Z"
   },
   {
    "duration": 349,
    "start_time": "2022-05-13T12:22:14.343Z"
   },
   {
    "duration": 399,
    "start_time": "2022-05-13T12:22:14.695Z"
   },
   {
    "duration": 295,
    "start_time": "2022-05-13T12:22:15.096Z"
   },
   {
    "duration": 480,
    "start_time": "2022-05-13T12:22:15.394Z"
   },
   {
    "duration": 459,
    "start_time": "2022-05-13T12:22:15.876Z"
   },
   {
    "duration": 41,
    "start_time": "2022-05-13T12:22:16.339Z"
   },
   {
    "duration": 23,
    "start_time": "2022-05-13T12:22:16.383Z"
   },
   {
    "duration": 896,
    "start_time": "2022-05-13T12:22:16.409Z"
   },
   {
    "duration": 269,
    "start_time": "2022-05-13T12:22:17.307Z"
   },
   {
    "duration": 184,
    "start_time": "2022-05-13T12:22:17.578Z"
   },
   {
    "duration": 29,
    "start_time": "2022-05-13T12:22:51.212Z"
   },
   {
    "duration": 40,
    "start_time": "2022-05-13T12:23:30.249Z"
   },
   {
    "duration": 25,
    "start_time": "2022-05-13T12:24:36.309Z"
   },
   {
    "duration": 28,
    "start_time": "2022-05-13T12:25:09.537Z"
   },
   {
    "duration": 29,
    "start_time": "2022-05-13T12:25:17.305Z"
   },
   {
    "duration": 37,
    "start_time": "2022-05-13T12:25:28.011Z"
   },
   {
    "duration": 28,
    "start_time": "2022-05-13T12:25:43.619Z"
   },
   {
    "duration": 28,
    "start_time": "2022-05-13T12:25:53.349Z"
   },
   {
    "duration": 30,
    "start_time": "2022-05-13T12:26:03.860Z"
   },
   {
    "duration": 42,
    "start_time": "2022-05-13T12:30:04.230Z"
   },
   {
    "duration": 37,
    "start_time": "2022-05-13T12:30:20.941Z"
   },
   {
    "duration": 59,
    "start_time": "2022-05-13T12:30:51.003Z"
   },
   {
    "duration": 42,
    "start_time": "2022-05-13T12:31:15.622Z"
   },
   {
    "duration": 45,
    "start_time": "2022-05-13T12:31:49.211Z"
   },
   {
    "duration": 39,
    "start_time": "2022-05-13T12:32:05.971Z"
   },
   {
    "duration": 269,
    "start_time": "2022-05-13T12:33:50.709Z"
   },
   {
    "duration": 457,
    "start_time": "2022-05-13T12:33:59.244Z"
   },
   {
    "duration": 481,
    "start_time": "2022-05-14T07:44:22.529Z"
   },
   {
    "duration": 72,
    "start_time": "2022-05-14T07:44:23.012Z"
   },
   {
    "duration": 42,
    "start_time": "2022-05-14T07:44:23.087Z"
   },
   {
    "duration": 6,
    "start_time": "2022-05-14T07:44:23.131Z"
   },
   {
    "duration": 21,
    "start_time": "2022-05-14T07:44:23.139Z"
   },
   {
    "duration": 148,
    "start_time": "2022-05-14T07:44:23.161Z"
   },
   {
    "duration": 33,
    "start_time": "2022-05-14T07:44:23.310Z"
   },
   {
    "duration": 22,
    "start_time": "2022-05-14T07:44:23.345Z"
   },
   {
    "duration": 60,
    "start_time": "2022-05-14T07:44:23.369Z"
   },
   {
    "duration": 15,
    "start_time": "2022-05-14T07:44:23.431Z"
   },
   {
    "duration": 743,
    "start_time": "2022-05-14T07:44:23.447Z"
   },
   {
    "duration": 189,
    "start_time": "2022-05-14T07:44:24.192Z"
   },
   {
    "duration": 40,
    "start_time": "2022-05-14T07:44:24.383Z"
   },
   {
    "duration": 184,
    "start_time": "2022-05-14T07:44:24.426Z"
   },
   {
    "duration": 106,
    "start_time": "2022-05-14T07:44:24.612Z"
   },
   {
    "duration": 6,
    "start_time": "2022-05-14T07:44:24.719Z"
   },
   {
    "duration": 8,
    "start_time": "2022-05-14T07:44:24.727Z"
   },
   {
    "duration": 10,
    "start_time": "2022-05-14T07:44:24.738Z"
   },
   {
    "duration": 17,
    "start_time": "2022-05-14T07:44:24.750Z"
   },
   {
    "duration": 42,
    "start_time": "2022-05-14T07:44:24.769Z"
   },
   {
    "duration": 19,
    "start_time": "2022-05-14T07:44:24.813Z"
   },
   {
    "duration": 825,
    "start_time": "2022-05-14T07:44:24.833Z"
   },
   {
    "duration": 19,
    "start_time": "2022-05-14T07:44:25.660Z"
   },
   {
    "duration": 42,
    "start_time": "2022-05-14T07:44:25.680Z"
   },
   {
    "duration": 43,
    "start_time": "2022-05-14T07:44:25.724Z"
   },
   {
    "duration": 60,
    "start_time": "2022-05-14T07:44:25.769Z"
   },
   {
    "duration": 18,
    "start_time": "2022-05-14T07:44:25.830Z"
   },
   {
    "duration": 70,
    "start_time": "2022-05-14T07:44:25.850Z"
   },
   {
    "duration": 195,
    "start_time": "2022-05-14T07:44:25.922Z"
   },
   {
    "duration": 188,
    "start_time": "2022-05-14T07:44:26.119Z"
   },
   {
    "duration": 223,
    "start_time": "2022-05-14T07:44:26.309Z"
   },
   {
    "duration": 291,
    "start_time": "2022-05-14T07:44:26.534Z"
   },
   {
    "duration": 212,
    "start_time": "2022-05-14T07:44:26.828Z"
   },
   {
    "duration": 181,
    "start_time": "2022-05-14T07:44:27.042Z"
   },
   {
    "duration": 225,
    "start_time": "2022-05-14T07:44:27.225Z"
   },
   {
    "duration": 208,
    "start_time": "2022-05-14T07:44:27.452Z"
   },
   {
    "duration": 24,
    "start_time": "2022-05-14T07:44:27.662Z"
   },
   {
    "duration": 33,
    "start_time": "2022-05-14T07:44:27.688Z"
   },
   {
    "duration": 574,
    "start_time": "2022-05-14T07:44:27.723Z"
   },
   {
    "duration": 187,
    "start_time": "2022-05-14T07:44:28.299Z"
   },
   {
    "duration": 210,
    "start_time": "2022-05-14T07:44:28.490Z"
   },
   {
    "duration": 8,
    "start_time": "2022-05-14T07:45:43.938Z"
   },
   {
    "duration": 18,
    "start_time": "2022-05-14T07:45:54.863Z"
   },
   {
    "duration": 74,
    "start_time": "2022-05-14T07:46:12.570Z"
   },
   {
    "duration": 134,
    "start_time": "2022-05-14T07:46:44.313Z"
   },
   {
    "duration": 18,
    "start_time": "2022-05-14T07:47:13.969Z"
   },
   {
    "duration": 40,
    "start_time": "2022-05-14T07:48:43.824Z"
   },
   {
    "duration": 30349,
    "start_time": "2022-05-14T07:50:33.199Z"
   },
   {
    "duration": 31257,
    "start_time": "2022-05-14T07:51:15.379Z"
   },
   {
    "duration": 30,
    "start_time": "2022-05-14T07:52:47.916Z"
   },
   {
    "duration": 30,
    "start_time": "2022-05-14T07:53:45.051Z"
   },
   {
    "duration": 44,
    "start_time": "2022-05-14T07:53:58.062Z"
   },
   {
    "duration": 29,
    "start_time": "2022-05-14T07:54:09.381Z"
   },
   {
    "duration": 0,
    "start_time": "2022-05-14T07:55:15.393Z"
   },
   {
    "duration": 18,
    "start_time": "2022-05-14T07:55:16.054Z"
   },
   {
    "duration": 25994,
    "start_time": "2022-05-14T07:55:58.536Z"
   },
   {
    "duration": 31287,
    "start_time": "2022-05-14T07:58:44.399Z"
   },
   {
    "duration": 12,
    "start_time": "2022-05-14T08:01:07.257Z"
   },
   {
    "duration": 1987,
    "start_time": "2022-05-14T08:01:30.360Z"
   },
   {
    "duration": 2505,
    "start_time": "2022-05-14T08:01:57.913Z"
   },
   {
    "duration": 2585,
    "start_time": "2022-05-14T08:02:02.742Z"
   },
   {
    "duration": 2667,
    "start_time": "2022-05-14T08:02:16.786Z"
   },
   {
    "duration": 263,
    "start_time": "2022-05-14T08:03:00.885Z"
   },
   {
    "duration": 201,
    "start_time": "2022-05-14T08:04:58.107Z"
   },
   {
    "duration": 195,
    "start_time": "2022-05-14T08:05:06.352Z"
   },
   {
    "duration": 422,
    "start_time": "2022-05-14T08:06:09.805Z"
   },
   {
    "duration": 540,
    "start_time": "2022-05-14T08:06:20.021Z"
   },
   {
    "duration": 518,
    "start_time": "2022-05-14T08:06:46.384Z"
   },
   {
    "duration": 180,
    "start_time": "2022-05-14T08:06:52.947Z"
   },
   {
    "duration": 550,
    "start_time": "2022-05-14T08:07:05.289Z"
   },
   {
    "duration": 702,
    "start_time": "2022-05-14T08:08:27.522Z"
   },
   {
    "duration": 768,
    "start_time": "2022-05-14T08:08:45.048Z"
   },
   {
    "duration": 776,
    "start_time": "2022-05-14T08:09:07.113Z"
   },
   {
    "duration": 777,
    "start_time": "2022-05-14T08:09:19.825Z"
   },
   {
    "duration": 733,
    "start_time": "2022-05-14T08:09:34.585Z"
   },
   {
    "duration": 690,
    "start_time": "2022-05-14T08:09:42.727Z"
   },
   {
    "duration": 907,
    "start_time": "2022-05-14T08:10:02.570Z"
   },
   {
    "duration": 837,
    "start_time": "2022-05-14T08:10:50.542Z"
   },
   {
    "duration": 2,
    "start_time": "2022-05-14T08:11:29.956Z"
   },
   {
    "duration": 708,
    "start_time": "2022-05-14T08:15:51.225Z"
   },
   {
    "duration": 162,
    "start_time": "2022-05-14T08:21:18.311Z"
   },
   {
    "duration": 152,
    "start_time": "2022-05-14T08:21:37.346Z"
   },
   {
    "duration": 183,
    "start_time": "2022-05-14T08:21:50.771Z"
   },
   {
    "duration": 174,
    "start_time": "2022-05-14T08:21:56.678Z"
   },
   {
    "duration": 10,
    "start_time": "2022-05-14T08:26:07.348Z"
   },
   {
    "duration": 17,
    "start_time": "2022-05-14T08:26:15.399Z"
   },
   {
    "duration": 18,
    "start_time": "2022-05-14T08:26:23.839Z"
   },
   {
    "duration": 46,
    "start_time": "2022-05-14T08:26:32.171Z"
   },
   {
    "duration": 478,
    "start_time": "2022-05-14T08:30:46.932Z"
   },
   {
    "duration": 147,
    "start_time": "2022-05-14T08:30:47.412Z"
   },
   {
    "duration": 22,
    "start_time": "2022-05-14T08:30:47.561Z"
   },
   {
    "duration": 4,
    "start_time": "2022-05-14T08:30:47.585Z"
   },
   {
    "duration": 22,
    "start_time": "2022-05-14T08:30:47.608Z"
   },
   {
    "duration": 103,
    "start_time": "2022-05-14T08:30:47.632Z"
   },
   {
    "duration": 22,
    "start_time": "2022-05-14T08:30:47.736Z"
   },
   {
    "duration": 57,
    "start_time": "2022-05-14T08:30:47.760Z"
   },
   {
    "duration": 26,
    "start_time": "2022-05-14T08:30:47.819Z"
   },
   {
    "duration": 16,
    "start_time": "2022-05-14T08:30:47.847Z"
   },
   {
    "duration": 480,
    "start_time": "2022-05-14T08:30:47.865Z"
   },
   {
    "duration": 184,
    "start_time": "2022-05-14T08:30:48.347Z"
   },
   {
    "duration": 26,
    "start_time": "2022-05-14T08:30:48.532Z"
   },
   {
    "duration": 196,
    "start_time": "2022-05-14T08:30:48.561Z"
   },
   {
    "duration": 101,
    "start_time": "2022-05-14T08:30:48.759Z"
   },
   {
    "duration": 6,
    "start_time": "2022-05-14T08:30:48.862Z"
   },
   {
    "duration": 7,
    "start_time": "2022-05-14T08:30:48.869Z"
   },
   {
    "duration": 30,
    "start_time": "2022-05-14T08:30:48.878Z"
   },
   {
    "duration": 16,
    "start_time": "2022-05-14T08:30:48.910Z"
   },
   {
    "duration": 8,
    "start_time": "2022-05-14T08:30:48.927Z"
   },
   {
    "duration": 17,
    "start_time": "2022-05-14T08:30:48.937Z"
   },
   {
    "duration": 698,
    "start_time": "2022-05-14T08:30:48.955Z"
   },
   {
    "duration": 65,
    "start_time": "2022-05-14T08:30:49.655Z"
   },
   {
    "duration": 20,
    "start_time": "2022-05-14T08:30:49.722Z"
   },
   {
    "duration": 64,
    "start_time": "2022-05-14T08:30:49.744Z"
   },
   {
    "duration": 33,
    "start_time": "2022-05-14T08:30:49.810Z"
   },
   {
    "duration": 16,
    "start_time": "2022-05-14T08:30:49.845Z"
   },
   {
    "duration": 53,
    "start_time": "2022-05-14T08:30:49.863Z"
   },
   {
    "duration": 186,
    "start_time": "2022-05-14T08:30:49.917Z"
   },
   {
    "duration": 175,
    "start_time": "2022-05-14T08:30:50.106Z"
   },
   {
    "duration": 220,
    "start_time": "2022-05-14T08:30:50.283Z"
   },
   {
    "duration": 275,
    "start_time": "2022-05-14T08:30:50.506Z"
   },
   {
    "duration": 362,
    "start_time": "2022-05-14T08:30:50.783Z"
   },
   {
    "duration": 169,
    "start_time": "2022-05-14T08:30:51.147Z"
   },
   {
    "duration": 213,
    "start_time": "2022-05-14T08:30:51.317Z"
   },
   {
    "duration": 198,
    "start_time": "2022-05-14T08:30:51.531Z"
   },
   {
    "duration": 21,
    "start_time": "2022-05-14T08:30:51.731Z"
   },
   {
    "duration": 15,
    "start_time": "2022-05-14T08:30:51.753Z"
   },
   {
    "duration": 568,
    "start_time": "2022-05-14T08:30:51.770Z"
   },
   {
    "duration": 181,
    "start_time": "2022-05-14T08:30:52.340Z"
   },
   {
    "duration": 210,
    "start_time": "2022-05-14T08:30:52.525Z"
   },
   {
    "duration": 797,
    "start_time": "2022-05-14T08:30:52.737Z"
   },
   {
    "duration": 181,
    "start_time": "2022-05-14T08:30:53.536Z"
   },
   {
    "duration": 666,
    "start_time": "2022-05-14T08:31:34.702Z"
   },
   {
    "duration": 767,
    "start_time": "2022-05-14T08:32:35.762Z"
   },
   {
    "duration": 686,
    "start_time": "2022-05-14T08:33:26.522Z"
   },
   {
    "duration": 820,
    "start_time": "2022-05-14T08:34:11.971Z"
   },
   {
    "duration": 70,
    "start_time": "2022-05-14T08:54:26.531Z"
   },
   {
    "duration": 109,
    "start_time": "2022-05-14T08:54:58.354Z"
   },
   {
    "duration": 57,
    "start_time": "2022-05-14T08:56:56.165Z"
   },
   {
    "duration": 481,
    "start_time": "2022-05-14T08:57:09.062Z"
   },
   {
    "duration": 153,
    "start_time": "2022-05-14T08:57:09.545Z"
   },
   {
    "duration": 33,
    "start_time": "2022-05-14T08:57:09.706Z"
   },
   {
    "duration": 5,
    "start_time": "2022-05-14T08:57:09.741Z"
   },
   {
    "duration": 21,
    "start_time": "2022-05-14T08:57:09.749Z"
   },
   {
    "duration": 155,
    "start_time": "2022-05-14T08:57:09.773Z"
   },
   {
    "duration": 23,
    "start_time": "2022-05-14T08:57:09.929Z"
   },
   {
    "duration": 18,
    "start_time": "2022-05-14T08:57:09.954Z"
   },
   {
    "duration": 61,
    "start_time": "2022-05-14T08:57:09.973Z"
   },
   {
    "duration": 15,
    "start_time": "2022-05-14T08:57:10.036Z"
   },
   {
    "duration": 479,
    "start_time": "2022-05-14T08:57:10.053Z"
   },
   {
    "duration": 200,
    "start_time": "2022-05-14T08:57:10.533Z"
   },
   {
    "duration": 27,
    "start_time": "2022-05-14T08:57:10.734Z"
   },
   {
    "duration": 209,
    "start_time": "2022-05-14T08:57:10.765Z"
   },
   {
    "duration": 108,
    "start_time": "2022-05-14T08:57:10.976Z"
   },
   {
    "duration": 6,
    "start_time": "2022-05-14T08:57:11.086Z"
   },
   {
    "duration": 17,
    "start_time": "2022-05-14T08:57:11.094Z"
   },
   {
    "duration": 12,
    "start_time": "2022-05-14T08:57:11.112Z"
   },
   {
    "duration": 15,
    "start_time": "2022-05-14T08:57:11.126Z"
   },
   {
    "duration": 8,
    "start_time": "2022-05-14T08:57:11.143Z"
   },
   {
    "duration": 18,
    "start_time": "2022-05-14T08:57:11.152Z"
   },
   {
    "duration": 734,
    "start_time": "2022-05-14T08:57:11.216Z"
   },
   {
    "duration": 20,
    "start_time": "2022-05-14T08:57:11.952Z"
   },
   {
    "duration": 47,
    "start_time": "2022-05-14T08:57:11.974Z"
   },
   {
    "duration": 43,
    "start_time": "2022-05-14T08:57:12.023Z"
   },
   {
    "duration": 62,
    "start_time": "2022-05-14T08:57:12.067Z"
   },
   {
    "duration": 17,
    "start_time": "2022-05-14T08:57:12.130Z"
   },
   {
    "duration": 73,
    "start_time": "2022-05-14T08:57:12.149Z"
   },
   {
    "duration": 207,
    "start_time": "2022-05-14T08:57:12.224Z"
   },
   {
    "duration": 189,
    "start_time": "2022-05-14T08:57:12.433Z"
   },
   {
    "duration": 230,
    "start_time": "2022-05-14T08:57:12.624Z"
   },
   {
    "duration": 306,
    "start_time": "2022-05-14T08:57:12.855Z"
   },
   {
    "duration": 224,
    "start_time": "2022-05-14T08:57:13.163Z"
   },
   {
    "duration": 191,
    "start_time": "2022-05-14T08:57:13.388Z"
   },
   {
    "duration": 244,
    "start_time": "2022-05-14T08:57:13.581Z"
   },
   {
    "duration": 218,
    "start_time": "2022-05-14T08:57:13.827Z"
   },
   {
    "duration": 24,
    "start_time": "2022-05-14T08:57:14.047Z"
   },
   {
    "duration": 16,
    "start_time": "2022-05-14T08:57:14.073Z"
   },
   {
    "duration": 605,
    "start_time": "2022-05-14T08:57:14.112Z"
   },
   {
    "duration": 181,
    "start_time": "2022-05-14T08:57:14.719Z"
   },
   {
    "duration": 231,
    "start_time": "2022-05-14T08:57:14.910Z"
   },
   {
    "duration": 890,
    "start_time": "2022-05-14T08:57:15.143Z"
   },
   {
    "duration": 1085,
    "start_time": "2022-05-14T08:57:16.035Z"
   },
   {
    "duration": 23,
    "start_time": "2022-05-14T08:57:57.587Z"
   },
   {
    "duration": 73,
    "start_time": "2022-05-14T08:58:07.800Z"
   },
   {
    "duration": 117,
    "start_time": "2022-05-14T08:58:11.255Z"
   },
   {
    "duration": 63,
    "start_time": "2022-05-14T08:58:31.785Z"
   },
   {
    "duration": 9,
    "start_time": "2022-05-14T08:58:40.296Z"
   },
   {
    "duration": 535,
    "start_time": "2022-05-14T08:59:05.779Z"
   },
   {
    "duration": 140,
    "start_time": "2022-05-14T08:59:07.643Z"
   },
   {
    "duration": 24,
    "start_time": "2022-05-14T08:59:07.840Z"
   },
   {
    "duration": 24,
    "start_time": "2022-05-14T08:59:10.334Z"
   },
   {
    "duration": 6,
    "start_time": "2022-05-14T08:59:15.278Z"
   },
   {
    "duration": 20,
    "start_time": "2022-05-14T08:59:17.093Z"
   },
   {
    "duration": 77,
    "start_time": "2022-05-14T08:59:19.983Z"
   },
   {
    "duration": 23,
    "start_time": "2022-05-14T08:59:24.093Z"
   },
   {
    "duration": 19,
    "start_time": "2022-05-14T08:59:26.127Z"
   },
   {
    "duration": 26,
    "start_time": "2022-05-14T08:59:27.118Z"
   },
   {
    "duration": 14,
    "start_time": "2022-05-14T08:59:27.866Z"
   },
   {
    "duration": 445,
    "start_time": "2022-05-14T08:59:28.888Z"
   },
   {
    "duration": 184,
    "start_time": "2022-05-14T08:59:29.808Z"
   },
   {
    "duration": 26,
    "start_time": "2022-05-14T08:59:33.449Z"
   },
   {
    "duration": 171,
    "start_time": "2022-05-14T08:59:34.556Z"
   },
   {
    "duration": 41,
    "start_time": "2022-05-14T08:59:38.024Z"
   },
   {
    "duration": 7,
    "start_time": "2022-05-14T08:59:40.464Z"
   },
   {
    "duration": 6,
    "start_time": "2022-05-14T08:59:42.409Z"
   },
   {
    "duration": 64,
    "start_time": "2022-05-14T09:01:58.855Z"
   },
   {
    "duration": 2357,
    "start_time": "2022-05-14T09:02:04.694Z"
   },
   {
    "duration": 519,
    "start_time": "2022-05-14T09:02:18.304Z"
   },
   {
    "duration": 156,
    "start_time": "2022-05-14T09:02:18.825Z"
   },
   {
    "duration": 33,
    "start_time": "2022-05-14T09:02:18.983Z"
   },
   {
    "duration": 5,
    "start_time": "2022-05-14T09:02:19.018Z"
   },
   {
    "duration": 19,
    "start_time": "2022-05-14T09:02:19.025Z"
   },
   {
    "duration": 110,
    "start_time": "2022-05-14T09:02:19.046Z"
   },
   {
    "duration": 60,
    "start_time": "2022-05-14T09:02:19.157Z"
   },
   {
    "duration": 16,
    "start_time": "2022-05-14T09:02:19.219Z"
   },
   {
    "duration": 26,
    "start_time": "2022-05-14T09:02:19.237Z"
   },
   {
    "duration": 42,
    "start_time": "2022-05-14T09:02:19.265Z"
   },
   {
    "duration": 448,
    "start_time": "2022-05-14T09:02:19.309Z"
   },
   {
    "duration": 189,
    "start_time": "2022-05-14T09:02:19.759Z"
   },
   {
    "duration": 27,
    "start_time": "2022-05-14T09:02:19.951Z"
   },
   {
    "duration": 201,
    "start_time": "2022-05-14T09:02:19.982Z"
   },
   {
    "duration": 100,
    "start_time": "2022-05-14T09:02:20.185Z"
   },
   {
    "duration": 8,
    "start_time": "2022-05-14T09:02:20.287Z"
   },
   {
    "duration": 2412,
    "start_time": "2022-05-14T09:02:20.308Z"
   },
   {
    "duration": 0,
    "start_time": "2022-05-14T09:02:22.725Z"
   },
   {
    "duration": 0,
    "start_time": "2022-05-14T09:02:22.726Z"
   },
   {
    "duration": 0,
    "start_time": "2022-05-14T09:02:22.728Z"
   },
   {
    "duration": 0,
    "start_time": "2022-05-14T09:02:22.730Z"
   },
   {
    "duration": 0,
    "start_time": "2022-05-14T09:02:22.732Z"
   },
   {
    "duration": 0,
    "start_time": "2022-05-14T09:02:22.734Z"
   },
   {
    "duration": 0,
    "start_time": "2022-05-14T09:02:22.735Z"
   },
   {
    "duration": 0,
    "start_time": "2022-05-14T09:02:22.737Z"
   },
   {
    "duration": 0,
    "start_time": "2022-05-14T09:02:22.738Z"
   },
   {
    "duration": 0,
    "start_time": "2022-05-14T09:02:22.740Z"
   },
   {
    "duration": 0,
    "start_time": "2022-05-14T09:02:22.741Z"
   },
   {
    "duration": 0,
    "start_time": "2022-05-14T09:02:22.743Z"
   },
   {
    "duration": 0,
    "start_time": "2022-05-14T09:02:22.744Z"
   },
   {
    "duration": 0,
    "start_time": "2022-05-14T09:02:22.746Z"
   },
   {
    "duration": 0,
    "start_time": "2022-05-14T09:02:22.747Z"
   },
   {
    "duration": 0,
    "start_time": "2022-05-14T09:02:22.748Z"
   },
   {
    "duration": 0,
    "start_time": "2022-05-14T09:02:22.750Z"
   },
   {
    "duration": 0,
    "start_time": "2022-05-14T09:02:22.751Z"
   },
   {
    "duration": 0,
    "start_time": "2022-05-14T09:02:22.753Z"
   },
   {
    "duration": 0,
    "start_time": "2022-05-14T09:02:22.754Z"
   },
   {
    "duration": 0,
    "start_time": "2022-05-14T09:02:22.756Z"
   },
   {
    "duration": 0,
    "start_time": "2022-05-14T09:02:22.758Z"
   },
   {
    "duration": 0,
    "start_time": "2022-05-14T09:02:22.759Z"
   },
   {
    "duration": 0,
    "start_time": "2022-05-14T09:02:22.760Z"
   },
   {
    "duration": 0,
    "start_time": "2022-05-14T09:02:22.762Z"
   },
   {
    "duration": 0,
    "start_time": "2022-05-14T09:02:22.808Z"
   },
   {
    "duration": 1688,
    "start_time": "2022-05-14T09:02:38.526Z"
   },
   {
    "duration": 467,
    "start_time": "2022-05-14T09:02:53.537Z"
   },
   {
    "duration": 155,
    "start_time": "2022-05-14T09:02:54.006Z"
   },
   {
    "duration": 25,
    "start_time": "2022-05-14T09:02:54.162Z"
   },
   {
    "duration": 19,
    "start_time": "2022-05-14T09:02:54.189Z"
   },
   {
    "duration": 20,
    "start_time": "2022-05-14T09:02:54.210Z"
   },
   {
    "duration": 116,
    "start_time": "2022-05-14T09:02:54.232Z"
   },
   {
    "duration": 21,
    "start_time": "2022-05-14T09:02:54.349Z"
   },
   {
    "duration": 17,
    "start_time": "2022-05-14T09:02:54.407Z"
   },
   {
    "duration": 26,
    "start_time": "2022-05-14T09:02:54.426Z"
   },
   {
    "duration": 14,
    "start_time": "2022-05-14T09:02:54.453Z"
   },
   {
    "duration": 480,
    "start_time": "2022-05-14T09:02:54.469Z"
   },
   {
    "duration": 182,
    "start_time": "2022-05-14T09:02:54.951Z"
   },
   {
    "duration": 27,
    "start_time": "2022-05-14T09:02:55.134Z"
   },
   {
    "duration": 185,
    "start_time": "2022-05-14T09:02:55.164Z"
   },
   {
    "duration": 39,
    "start_time": "2022-05-14T09:02:55.351Z"
   },
   {
    "duration": 5,
    "start_time": "2022-05-14T09:02:55.407Z"
   },
   {
    "duration": 1778,
    "start_time": "2022-05-14T09:02:55.414Z"
   },
   {
    "duration": 0,
    "start_time": "2022-05-14T09:02:57.195Z"
   },
   {
    "duration": 0,
    "start_time": "2022-05-14T09:02:57.196Z"
   },
   {
    "duration": 0,
    "start_time": "2022-05-14T09:02:57.197Z"
   },
   {
    "duration": 0,
    "start_time": "2022-05-14T09:02:57.198Z"
   },
   {
    "duration": 0,
    "start_time": "2022-05-14T09:02:57.200Z"
   },
   {
    "duration": 0,
    "start_time": "2022-05-14T09:02:57.201Z"
   },
   {
    "duration": 0,
    "start_time": "2022-05-14T09:02:57.202Z"
   },
   {
    "duration": 0,
    "start_time": "2022-05-14T09:02:57.203Z"
   },
   {
    "duration": 0,
    "start_time": "2022-05-14T09:02:57.207Z"
   },
   {
    "duration": 0,
    "start_time": "2022-05-14T09:02:57.208Z"
   },
   {
    "duration": 0,
    "start_time": "2022-05-14T09:02:57.209Z"
   },
   {
    "duration": 0,
    "start_time": "2022-05-14T09:02:57.211Z"
   },
   {
    "duration": 0,
    "start_time": "2022-05-14T09:02:57.212Z"
   },
   {
    "duration": 0,
    "start_time": "2022-05-14T09:02:57.213Z"
   },
   {
    "duration": 0,
    "start_time": "2022-05-14T09:02:57.214Z"
   },
   {
    "duration": 0,
    "start_time": "2022-05-14T09:02:57.215Z"
   },
   {
    "duration": 0,
    "start_time": "2022-05-14T09:02:57.216Z"
   },
   {
    "duration": 0,
    "start_time": "2022-05-14T09:02:57.217Z"
   },
   {
    "duration": 0,
    "start_time": "2022-05-14T09:02:57.219Z"
   },
   {
    "duration": 0,
    "start_time": "2022-05-14T09:02:57.220Z"
   },
   {
    "duration": 0,
    "start_time": "2022-05-14T09:02:57.222Z"
   },
   {
    "duration": 0,
    "start_time": "2022-05-14T09:02:57.223Z"
   },
   {
    "duration": 0,
    "start_time": "2022-05-14T09:02:57.224Z"
   },
   {
    "duration": 0,
    "start_time": "2022-05-14T09:02:57.225Z"
   },
   {
    "duration": 0,
    "start_time": "2022-05-14T09:02:57.226Z"
   },
   {
    "duration": 0,
    "start_time": "2022-05-14T09:02:57.227Z"
   },
   {
    "duration": 500,
    "start_time": "2022-05-14T09:04:23.520Z"
   },
   {
    "duration": 158,
    "start_time": "2022-05-14T09:04:24.022Z"
   },
   {
    "duration": 34,
    "start_time": "2022-05-14T09:04:24.182Z"
   },
   {
    "duration": 5,
    "start_time": "2022-05-14T09:04:24.217Z"
   },
   {
    "duration": 20,
    "start_time": "2022-05-14T09:04:24.224Z"
   },
   {
    "duration": 114,
    "start_time": "2022-05-14T09:04:24.246Z"
   },
   {
    "duration": 60,
    "start_time": "2022-05-14T09:04:24.362Z"
   },
   {
    "duration": 19,
    "start_time": "2022-05-14T09:04:24.424Z"
   },
   {
    "duration": 27,
    "start_time": "2022-05-14T09:04:24.445Z"
   },
   {
    "duration": 46,
    "start_time": "2022-05-14T09:04:24.473Z"
   },
   {
    "duration": 455,
    "start_time": "2022-05-14T09:04:24.521Z"
   },
   {
    "duration": 200,
    "start_time": "2022-05-14T09:04:24.978Z"
   },
   {
    "duration": 36,
    "start_time": "2022-05-14T09:04:25.180Z"
   },
   {
    "duration": 193,
    "start_time": "2022-05-14T09:04:25.221Z"
   },
   {
    "duration": 108,
    "start_time": "2022-05-14T09:04:25.416Z"
   },
   {
    "duration": 5,
    "start_time": "2022-05-14T09:04:25.526Z"
   },
   {
    "duration": 7,
    "start_time": "2022-05-14T09:04:25.533Z"
   },
   {
    "duration": 9,
    "start_time": "2022-05-14T09:04:25.542Z"
   },
   {
    "duration": 16,
    "start_time": "2022-05-14T09:04:25.553Z"
   },
   {
    "duration": 42,
    "start_time": "2022-05-14T09:04:25.570Z"
   },
   {
    "duration": 18,
    "start_time": "2022-05-14T09:04:25.614Z"
   },
   {
    "duration": 722,
    "start_time": "2022-05-14T09:04:25.634Z"
   },
   {
    "duration": 21,
    "start_time": "2022-05-14T09:04:26.358Z"
   },
   {
    "duration": 43,
    "start_time": "2022-05-14T09:04:26.381Z"
   },
   {
    "duration": 43,
    "start_time": "2022-05-14T09:04:26.426Z"
   },
   {
    "duration": 59,
    "start_time": "2022-05-14T09:04:26.471Z"
   },
   {
    "duration": 17,
    "start_time": "2022-05-14T09:04:26.531Z"
   },
   {
    "duration": 72,
    "start_time": "2022-05-14T09:04:26.550Z"
   },
   {
    "duration": 191,
    "start_time": "2022-05-14T09:04:26.624Z"
   },
   {
    "duration": 179,
    "start_time": "2022-05-14T09:04:26.817Z"
   },
   {
    "duration": 223,
    "start_time": "2022-05-14T09:04:26.998Z"
   },
   {
    "duration": 286,
    "start_time": "2022-05-14T09:04:27.223Z"
   },
   {
    "duration": 208,
    "start_time": "2022-05-14T09:04:27.511Z"
   },
   {
    "duration": 176,
    "start_time": "2022-05-14T09:04:27.721Z"
   },
   {
    "duration": 214,
    "start_time": "2022-05-14T09:04:27.899Z"
   },
   {
    "duration": 203,
    "start_time": "2022-05-14T09:04:28.115Z"
   },
   {
    "duration": 22,
    "start_time": "2022-05-14T09:04:28.320Z"
   },
   {
    "duration": 17,
    "start_time": "2022-05-14T09:04:28.344Z"
   },
   {
    "duration": 569,
    "start_time": "2022-05-14T09:04:28.363Z"
   },
   {
    "duration": 191,
    "start_time": "2022-05-14T09:04:28.934Z"
   },
   {
    "duration": 217,
    "start_time": "2022-05-14T09:04:29.130Z"
   },
   {
    "duration": 814,
    "start_time": "2022-05-14T09:04:29.350Z"
   },
   {
    "duration": 1548,
    "start_time": "2022-05-14T09:04:30.166Z"
   },
   {
    "duration": 4,
    "start_time": "2022-05-14T09:06:48.254Z"
   },
   {
    "duration": 7,
    "start_time": "2022-05-14T09:07:11.776Z"
   },
   {
    "duration": 11,
    "start_time": "2022-05-14T09:07:18.769Z"
   },
   {
    "duration": 5,
    "start_time": "2022-05-14T09:07:30.148Z"
   },
   {
    "duration": 9,
    "start_time": "2022-05-14T09:07:34.281Z"
   },
   {
    "duration": 16,
    "start_time": "2022-05-14T09:07:40.911Z"
   },
   {
    "duration": 8,
    "start_time": "2022-05-14T09:07:55.836Z"
   },
   {
    "duration": 17,
    "start_time": "2022-05-14T09:07:58.745Z"
   },
   {
    "duration": 16,
    "start_time": "2022-05-14T09:08:40.811Z"
   },
   {
    "duration": 15,
    "start_time": "2022-05-14T09:08:56.045Z"
   },
   {
    "duration": 194,
    "start_time": "2022-05-14T09:09:00.261Z"
   },
   {
    "duration": 19,
    "start_time": "2022-05-14T09:09:10.514Z"
   },
   {
    "duration": 18,
    "start_time": "2022-05-14T09:09:33.601Z"
   },
   {
    "duration": 45,
    "start_time": "2022-05-14T09:12:02.991Z"
   },
   {
    "duration": 35,
    "start_time": "2022-05-14T09:12:10.116Z"
   },
   {
    "duration": 21,
    "start_time": "2022-05-14T09:12:14.499Z"
   },
   {
    "duration": 46,
    "start_time": "2022-05-14T09:12:15.005Z"
   },
   {
    "duration": 183,
    "start_time": "2022-05-14T09:12:15.870Z"
   },
   {
    "duration": 190,
    "start_time": "2022-05-14T09:12:16.539Z"
   },
   {
    "duration": 220,
    "start_time": "2022-05-14T09:12:16.947Z"
   },
   {
    "duration": 216,
    "start_time": "2022-05-14T09:12:18.128Z"
   },
   {
    "duration": 217,
    "start_time": "2022-05-14T09:12:19.284Z"
   },
   {
    "duration": 299,
    "start_time": "2022-05-14T09:12:20.608Z"
   },
   {
    "duration": 217,
    "start_time": "2022-05-14T09:12:21.547Z"
   },
   {
    "duration": 205,
    "start_time": "2022-05-14T09:12:21.898Z"
   },
   {
    "duration": 18,
    "start_time": "2022-05-14T09:12:22.351Z"
   },
   {
    "duration": 16,
    "start_time": "2022-05-14T09:12:22.632Z"
   },
   {
    "duration": 595,
    "start_time": "2022-05-14T09:12:22.931Z"
   },
   {
    "duration": 196,
    "start_time": "2022-05-14T09:12:23.528Z"
   },
   {
    "duration": 204,
    "start_time": "2022-05-14T09:12:23.898Z"
   },
   {
    "duration": 477,
    "start_time": "2022-05-14T09:12:28.960Z"
   },
   {
    "duration": 151,
    "start_time": "2022-05-14T09:12:29.439Z"
   },
   {
    "duration": 37,
    "start_time": "2022-05-14T09:12:29.592Z"
   },
   {
    "duration": 5,
    "start_time": "2022-05-14T09:12:29.630Z"
   },
   {
    "duration": 18,
    "start_time": "2022-05-14T09:12:29.638Z"
   },
   {
    "duration": 111,
    "start_time": "2022-05-14T09:12:29.658Z"
   },
   {
    "duration": 70,
    "start_time": "2022-05-14T09:12:29.771Z"
   },
   {
    "duration": 16,
    "start_time": "2022-05-14T09:12:29.843Z"
   },
   {
    "duration": 54,
    "start_time": "2022-05-14T09:12:29.861Z"
   },
   {
    "duration": 24,
    "start_time": "2022-05-14T09:12:29.917Z"
   },
   {
    "duration": 470,
    "start_time": "2022-05-14T09:12:29.942Z"
   },
   {
    "duration": 197,
    "start_time": "2022-05-14T09:12:30.416Z"
   },
   {
    "duration": 29,
    "start_time": "2022-05-14T09:12:30.615Z"
   },
   {
    "duration": 205,
    "start_time": "2022-05-14T09:12:30.648Z"
   },
   {
    "duration": 40,
    "start_time": "2022-05-14T09:12:30.855Z"
   },
   {
    "duration": 28,
    "start_time": "2022-05-14T09:12:30.896Z"
   },
   {
    "duration": 11,
    "start_time": "2022-05-14T09:12:30.926Z"
   },
   {
    "duration": 16,
    "start_time": "2022-05-14T09:12:30.939Z"
   },
   {
    "duration": 17,
    "start_time": "2022-05-14T09:12:30.957Z"
   },
   {
    "duration": 7,
    "start_time": "2022-05-14T09:12:30.976Z"
   },
   {
    "duration": 16,
    "start_time": "2022-05-14T09:12:30.985Z"
   },
   {
    "duration": 747,
    "start_time": "2022-05-14T09:12:31.011Z"
   },
   {
    "duration": 15,
    "start_time": "2022-05-14T09:12:31.760Z"
   },
   {
    "duration": 128,
    "start_time": "2022-05-14T09:12:31.777Z"
   },
   {
    "duration": 0,
    "start_time": "2022-05-14T09:12:31.908Z"
   },
   {
    "duration": 0,
    "start_time": "2022-05-14T09:12:31.910Z"
   },
   {
    "duration": 0,
    "start_time": "2022-05-14T09:12:31.912Z"
   },
   {
    "duration": 0,
    "start_time": "2022-05-14T09:12:31.913Z"
   },
   {
    "duration": 0,
    "start_time": "2022-05-14T09:12:31.915Z"
   },
   {
    "duration": 0,
    "start_time": "2022-05-14T09:12:31.917Z"
   },
   {
    "duration": 0,
    "start_time": "2022-05-14T09:12:31.919Z"
   },
   {
    "duration": 0,
    "start_time": "2022-05-14T09:12:31.920Z"
   },
   {
    "duration": 0,
    "start_time": "2022-05-14T09:12:31.921Z"
   },
   {
    "duration": 0,
    "start_time": "2022-05-14T09:12:31.923Z"
   },
   {
    "duration": 0,
    "start_time": "2022-05-14T09:12:31.924Z"
   },
   {
    "duration": 0,
    "start_time": "2022-05-14T09:12:31.926Z"
   },
   {
    "duration": 0,
    "start_time": "2022-05-14T09:12:31.927Z"
   },
   {
    "duration": 0,
    "start_time": "2022-05-14T09:12:31.929Z"
   },
   {
    "duration": 0,
    "start_time": "2022-05-14T09:12:31.930Z"
   },
   {
    "duration": 1,
    "start_time": "2022-05-14T09:12:31.931Z"
   },
   {
    "duration": 0,
    "start_time": "2022-05-14T09:12:31.933Z"
   },
   {
    "duration": 0,
    "start_time": "2022-05-14T09:12:31.934Z"
   },
   {
    "duration": 0,
    "start_time": "2022-05-14T09:12:31.936Z"
   },
   {
    "duration": 16,
    "start_time": "2022-05-14T09:14:50.222Z"
   },
   {
    "duration": 24,
    "start_time": "2022-05-14T09:17:57.748Z"
   },
   {
    "duration": 18,
    "start_time": "2022-05-14T09:18:13.721Z"
   },
   {
    "duration": 941,
    "start_time": "2022-05-14T09:18:28.242Z"
   },
   {
    "duration": 6,
    "start_time": "2022-05-14T09:18:43.692Z"
   },
   {
    "duration": 521,
    "start_time": "2022-05-14T09:18:58.599Z"
   },
   {
    "duration": 144,
    "start_time": "2022-05-14T09:18:59.123Z"
   },
   {
    "duration": 41,
    "start_time": "2022-05-14T09:18:59.269Z"
   },
   {
    "duration": 7,
    "start_time": "2022-05-14T09:18:59.312Z"
   },
   {
    "duration": 31,
    "start_time": "2022-05-14T09:18:59.322Z"
   },
   {
    "duration": 107,
    "start_time": "2022-05-14T09:18:59.356Z"
   },
   {
    "duration": 68,
    "start_time": "2022-05-14T09:18:59.465Z"
   },
   {
    "duration": 18,
    "start_time": "2022-05-14T09:18:59.535Z"
   },
   {
    "duration": 26,
    "start_time": "2022-05-14T09:18:59.554Z"
   },
   {
    "duration": 21,
    "start_time": "2022-05-14T09:18:59.608Z"
   },
   {
    "duration": 465,
    "start_time": "2022-05-14T09:18:59.631Z"
   },
   {
    "duration": 197,
    "start_time": "2022-05-14T09:19:00.098Z"
   },
   {
    "duration": 37,
    "start_time": "2022-05-14T09:19:00.297Z"
   },
   {
    "duration": 198,
    "start_time": "2022-05-14T09:19:00.337Z"
   },
   {
    "duration": 41,
    "start_time": "2022-05-14T09:19:00.537Z"
   },
   {
    "duration": 6,
    "start_time": "2022-05-14T09:19:00.580Z"
   },
   {
    "duration": 15,
    "start_time": "2022-05-14T09:19:00.607Z"
   },
   {
    "duration": 11,
    "start_time": "2022-05-14T09:19:00.624Z"
   },
   {
    "duration": 22,
    "start_time": "2022-05-14T09:19:00.637Z"
   },
   {
    "duration": 9,
    "start_time": "2022-05-14T09:19:00.661Z"
   },
   {
    "duration": 60,
    "start_time": "2022-05-14T09:19:00.672Z"
   },
   {
    "duration": 777,
    "start_time": "2022-05-14T09:19:00.734Z"
   },
   {
    "duration": 30,
    "start_time": "2022-05-14T09:19:01.513Z"
   },
   {
    "duration": 24,
    "start_time": "2022-05-14T09:19:01.546Z"
   },
   {
    "duration": 84,
    "start_time": "2022-05-14T09:19:01.572Z"
   },
   {
    "duration": 61,
    "start_time": "2022-05-14T09:19:01.658Z"
   },
   {
    "duration": 19,
    "start_time": "2022-05-14T09:19:01.721Z"
   },
   {
    "duration": 75,
    "start_time": "2022-05-14T09:19:01.743Z"
   },
   {
    "duration": 185,
    "start_time": "2022-05-14T09:19:01.820Z"
   },
   {
    "duration": 183,
    "start_time": "2022-05-14T09:19:02.013Z"
   },
   {
    "duration": 228,
    "start_time": "2022-05-14T09:19:02.198Z"
   },
   {
    "duration": 248,
    "start_time": "2022-05-14T09:19:02.428Z"
   },
   {
    "duration": 303,
    "start_time": "2022-05-14T09:19:02.678Z"
   },
   {
    "duration": 188,
    "start_time": "2022-05-14T09:19:02.983Z"
   },
   {
    "duration": 229,
    "start_time": "2022-05-14T09:19:03.173Z"
   },
   {
    "duration": 217,
    "start_time": "2022-05-14T09:19:03.408Z"
   },
   {
    "duration": 22,
    "start_time": "2022-05-14T09:19:03.627Z"
   },
   {
    "duration": 23,
    "start_time": "2022-05-14T09:19:03.651Z"
   },
   {
    "duration": 636,
    "start_time": "2022-05-14T09:19:03.676Z"
   },
   {
    "duration": 189,
    "start_time": "2022-05-14T09:19:04.314Z"
   },
   {
    "duration": 226,
    "start_time": "2022-05-14T09:19:04.507Z"
   },
   {
    "duration": 866,
    "start_time": "2022-05-14T09:19:04.735Z"
   },
   {
    "duration": 830,
    "start_time": "2022-05-14T09:19:05.603Z"
   },
   {
    "duration": 233,
    "start_time": "2022-05-14T09:19:53.003Z"
   },
   {
    "duration": 213,
    "start_time": "2022-05-14T09:21:07.944Z"
   },
   {
    "duration": 534,
    "start_time": "2022-05-14T09:27:06.616Z"
   },
   {
    "duration": 157,
    "start_time": "2022-05-14T09:27:07.419Z"
   },
   {
    "duration": 25,
    "start_time": "2022-05-14T09:27:07.819Z"
   },
   {
    "duration": 6,
    "start_time": "2022-05-14T09:27:09.174Z"
   },
   {
    "duration": 24,
    "start_time": "2022-05-14T09:27:09.691Z"
   },
   {
    "duration": 99,
    "start_time": "2022-05-14T09:27:11.170Z"
   },
   {
    "duration": 25,
    "start_time": "2022-05-14T09:27:12.819Z"
   },
   {
    "duration": 19,
    "start_time": "2022-05-14T09:27:24.830Z"
   },
   {
    "duration": 25,
    "start_time": "2022-05-14T09:27:28.646Z"
   },
   {
    "duration": 16,
    "start_time": "2022-05-14T09:27:32.151Z"
   },
   {
    "duration": 465,
    "start_time": "2022-05-14T09:27:37.777Z"
   },
   {
    "duration": 183,
    "start_time": "2022-05-14T09:27:42.808Z"
   },
   {
    "duration": 26,
    "start_time": "2022-05-14T09:27:44.923Z"
   },
   {
    "duration": 188,
    "start_time": "2022-05-14T09:27:48.519Z"
   },
   {
    "duration": 41,
    "start_time": "2022-05-14T09:27:52.015Z"
   },
   {
    "duration": 11,
    "start_time": "2022-05-14T09:27:56.516Z"
   },
   {
    "duration": 7,
    "start_time": "2022-05-14T09:28:10.076Z"
   },
   {
    "duration": 533,
    "start_time": "2022-05-14T09:28:32.487Z"
   },
   {
    "duration": 162,
    "start_time": "2022-05-14T09:28:33.022Z"
   },
   {
    "duration": 36,
    "start_time": "2022-05-14T09:28:33.186Z"
   },
   {
    "duration": 5,
    "start_time": "2022-05-14T09:28:33.225Z"
   },
   {
    "duration": 21,
    "start_time": "2022-05-14T09:28:33.232Z"
   },
   {
    "duration": 160,
    "start_time": "2022-05-14T09:28:33.256Z"
   },
   {
    "duration": 25,
    "start_time": "2022-05-14T09:28:33.419Z"
   },
   {
    "duration": 18,
    "start_time": "2022-05-14T09:28:33.445Z"
   },
   {
    "duration": 65,
    "start_time": "2022-05-14T09:28:33.464Z"
   },
   {
    "duration": 15,
    "start_time": "2022-05-14T09:28:33.532Z"
   },
   {
    "duration": 479,
    "start_time": "2022-05-14T09:28:33.549Z"
   },
   {
    "duration": 199,
    "start_time": "2022-05-14T09:28:34.031Z"
   },
   {
    "duration": 28,
    "start_time": "2022-05-14T09:28:34.231Z"
   },
   {
    "duration": 215,
    "start_time": "2022-05-14T09:28:34.261Z"
   },
   {
    "duration": 112,
    "start_time": "2022-05-14T09:28:34.477Z"
   },
   {
    "duration": 6,
    "start_time": "2022-05-14T09:28:34.591Z"
   },
   {
    "duration": 16,
    "start_time": "2022-05-14T09:28:34.598Z"
   },
   {
    "duration": 13,
    "start_time": "2022-05-14T09:28:34.616Z"
   },
   {
    "duration": 16,
    "start_time": "2022-05-14T09:28:34.630Z"
   },
   {
    "duration": 7,
    "start_time": "2022-05-14T09:28:34.648Z"
   },
   {
    "duration": 54,
    "start_time": "2022-05-14T09:28:34.657Z"
   },
   {
    "duration": 723,
    "start_time": "2022-05-14T09:28:34.714Z"
   },
   {
    "duration": 18,
    "start_time": "2022-05-14T09:28:35.439Z"
   },
   {
    "duration": 16,
    "start_time": "2022-05-14T09:28:35.459Z"
   },
   {
    "duration": 69,
    "start_time": "2022-05-14T09:28:35.476Z"
   },
   {
    "duration": 68,
    "start_time": "2022-05-14T09:28:35.547Z"
   },
   {
    "duration": 23,
    "start_time": "2022-05-14T09:28:35.617Z"
   },
   {
    "duration": 69,
    "start_time": "2022-05-14T09:28:35.644Z"
   },
   {
    "duration": 209,
    "start_time": "2022-05-14T09:28:35.715Z"
   },
   {
    "duration": 199,
    "start_time": "2022-05-14T09:28:35.926Z"
   },
   {
    "duration": 227,
    "start_time": "2022-05-14T09:28:36.126Z"
   },
   {
    "duration": 310,
    "start_time": "2022-05-14T09:28:36.355Z"
   },
   {
    "duration": 214,
    "start_time": "2022-05-14T09:28:36.667Z"
   },
   {
    "duration": 190,
    "start_time": "2022-05-14T09:28:36.883Z"
   },
   {
    "duration": 236,
    "start_time": "2022-05-14T09:28:37.075Z"
   },
   {
    "duration": 207,
    "start_time": "2022-05-14T09:28:37.319Z"
   },
   {
    "duration": 20,
    "start_time": "2022-05-14T09:28:37.528Z"
   },
   {
    "duration": 15,
    "start_time": "2022-05-14T09:28:37.550Z"
   },
   {
    "duration": 590,
    "start_time": "2022-05-14T09:28:37.567Z"
   },
   {
    "duration": 194,
    "start_time": "2022-05-14T09:28:38.159Z"
   },
   {
    "duration": 222,
    "start_time": "2022-05-14T09:28:38.355Z"
   },
   {
    "duration": 861,
    "start_time": "2022-05-14T09:28:38.579Z"
   },
   {
    "duration": 802,
    "start_time": "2022-05-14T09:28:39.442Z"
   },
   {
    "duration": 12,
    "start_time": "2022-05-14T10:04:30.414Z"
   },
   {
    "duration": 683,
    "start_time": "2022-05-14T10:04:30.427Z"
   },
   {
    "duration": 207,
    "start_time": "2022-05-14T10:04:31.112Z"
   },
   {
    "duration": 43,
    "start_time": "2022-05-14T10:04:31.321Z"
   },
   {
    "duration": 5,
    "start_time": "2022-05-14T10:04:31.366Z"
   },
   {
    "duration": 30,
    "start_time": "2022-05-14T10:04:31.372Z"
   },
   {
    "duration": 95,
    "start_time": "2022-05-14T10:04:31.404Z"
   },
   {
    "duration": 21,
    "start_time": "2022-05-14T10:04:31.501Z"
   },
   {
    "duration": 52,
    "start_time": "2022-05-14T10:04:31.523Z"
   },
   {
    "duration": 22,
    "start_time": "2022-05-14T10:04:31.577Z"
   },
   {
    "duration": 13,
    "start_time": "2022-05-14T10:04:31.602Z"
   },
   {
    "duration": 435,
    "start_time": "2022-05-14T10:04:31.616Z"
   },
   {
    "duration": 170,
    "start_time": "2022-05-14T10:04:32.053Z"
   },
   {
    "duration": 23,
    "start_time": "2022-05-14T10:04:32.225Z"
   },
   {
    "duration": 164,
    "start_time": "2022-05-14T10:04:32.261Z"
   },
   {
    "duration": 47,
    "start_time": "2022-05-14T10:04:32.426Z"
   },
   {
    "duration": 7,
    "start_time": "2022-05-14T10:04:32.475Z"
   },
   {
    "duration": 6,
    "start_time": "2022-05-14T10:04:32.484Z"
   },
   {
    "duration": 9,
    "start_time": "2022-05-14T10:04:32.492Z"
   },
   {
    "duration": 15,
    "start_time": "2022-05-14T10:04:32.502Z"
   },
   {
    "duration": 47,
    "start_time": "2022-05-14T10:04:32.520Z"
   },
   {
    "duration": 16,
    "start_time": "2022-05-14T10:04:32.569Z"
   },
   {
    "duration": 684,
    "start_time": "2022-05-14T10:04:32.587Z"
   },
   {
    "duration": 18,
    "start_time": "2022-05-14T10:04:33.273Z"
   },
   {
    "duration": 14,
    "start_time": "2022-05-14T10:04:33.293Z"
   },
   {
    "duration": 67,
    "start_time": "2022-05-14T10:04:33.308Z"
   },
   {
    "duration": 30,
    "start_time": "2022-05-14T10:04:33.376Z"
   },
   {
    "duration": 15,
    "start_time": "2022-05-14T10:04:33.408Z"
   },
   {
    "duration": 81,
    "start_time": "2022-05-14T10:04:33.425Z"
   },
   {
    "duration": 263,
    "start_time": "2022-05-14T10:04:33.508Z"
   },
   {
    "duration": 239,
    "start_time": "2022-05-14T10:04:33.772Z"
   },
   {
    "duration": 308,
    "start_time": "2022-05-14T10:04:34.013Z"
   },
   {
    "duration": 238,
    "start_time": "2022-05-14T10:04:34.324Z"
   },
   {
    "duration": 362,
    "start_time": "2022-05-14T10:04:34.564Z"
   },
   {
    "duration": 239,
    "start_time": "2022-05-14T10:04:34.928Z"
   },
   {
    "duration": 288,
    "start_time": "2022-05-14T10:04:35.169Z"
   },
   {
    "duration": 263,
    "start_time": "2022-05-14T10:04:35.462Z"
   },
   {
    "duration": 36,
    "start_time": "2022-05-14T10:04:35.727Z"
   },
   {
    "duration": 20,
    "start_time": "2022-05-14T10:04:35.765Z"
   },
   {
    "duration": 760,
    "start_time": "2022-05-14T10:04:35.786Z"
   },
   {
    "duration": 241,
    "start_time": "2022-05-14T10:04:36.549Z"
   },
   {
    "duration": 276,
    "start_time": "2022-05-14T10:04:36.792Z"
   },
   {
    "duration": 1106,
    "start_time": "2022-05-14T10:04:37.070Z"
   },
   {
    "duration": 1008,
    "start_time": "2022-05-14T10:04:38.177Z"
   },
   {
    "duration": 1173,
    "start_time": "2022-05-15T11:31:25.927Z"
   },
   {
    "duration": 119,
    "start_time": "2022-05-15T11:32:32.457Z"
   },
   {
    "duration": 4,
    "start_time": "2022-05-15T11:32:46.236Z"
   },
   {
    "duration": 96,
    "start_time": "2022-05-15T11:32:47.196Z"
   },
   {
    "duration": 583,
    "start_time": "2022-05-15T11:42:25.705Z"
   },
   {
    "duration": 132,
    "start_time": "2022-05-15T11:42:53.849Z"
   },
   {
    "duration": 21,
    "start_time": "2022-05-15T12:02:09.791Z"
   },
   {
    "duration": 1578,
    "start_time": "2022-05-15T12:02:09.816Z"
   },
   {
    "duration": 100,
    "start_time": "2022-05-15T12:02:11.396Z"
   },
   {
    "duration": 200,
    "start_time": "2022-05-15T12:02:11.499Z"
   },
   {
    "duration": 31,
    "start_time": "2022-05-15T12:02:11.701Z"
   },
   {
    "duration": 5,
    "start_time": "2022-05-15T12:02:11.734Z"
   },
   {
    "duration": 58,
    "start_time": "2022-05-15T12:02:11.741Z"
   },
   {
    "duration": 191,
    "start_time": "2022-05-15T12:02:11.801Z"
   },
   {
    "duration": 34,
    "start_time": "2022-05-15T12:02:11.995Z"
   },
   {
    "duration": 23,
    "start_time": "2022-05-15T12:02:12.033Z"
   },
   {
    "duration": 33,
    "start_time": "2022-05-15T12:02:12.092Z"
   },
   {
    "duration": 17,
    "start_time": "2022-05-15T12:02:12.127Z"
   },
   {
    "duration": 325,
    "start_time": "2022-05-15T12:02:12.146Z"
   },
   {
    "duration": 266,
    "start_time": "2022-05-15T12:02:12.473Z"
   },
   {
    "duration": 51,
    "start_time": "2022-05-15T12:02:12.742Z"
   },
   {
    "duration": 261,
    "start_time": "2022-05-15T12:02:12.795Z"
   },
   {
    "duration": 67,
    "start_time": "2022-05-15T12:02:13.059Z"
   },
   {
    "duration": 9,
    "start_time": "2022-05-15T12:02:13.128Z"
   },
   {
    "duration": 9,
    "start_time": "2022-05-15T12:02:13.140Z"
   },
   {
    "duration": 50,
    "start_time": "2022-05-15T12:02:13.152Z"
   },
   {
    "duration": 21,
    "start_time": "2022-05-15T12:02:13.205Z"
   },
   {
    "duration": 14,
    "start_time": "2022-05-15T12:02:13.228Z"
   },
   {
    "duration": 69,
    "start_time": "2022-05-15T12:02:13.245Z"
   },
   {
    "duration": 390,
    "start_time": "2022-05-15T12:02:13.317Z"
   },
   {
    "duration": 39,
    "start_time": "2022-05-15T12:02:13.710Z"
   },
   {
    "duration": 55,
    "start_time": "2022-05-15T12:02:13.752Z"
   },
   {
    "duration": 94,
    "start_time": "2022-05-15T12:02:13.810Z"
   },
   {
    "duration": 43,
    "start_time": "2022-05-15T12:02:13.909Z"
   },
   {
    "duration": 55,
    "start_time": "2022-05-15T12:02:13.954Z"
   },
   {
    "duration": 98,
    "start_time": "2022-05-15T12:02:14.011Z"
   },
   {
    "duration": 273,
    "start_time": "2022-05-15T12:02:14.111Z"
   },
   {
    "duration": 258,
    "start_time": "2022-05-15T12:02:14.386Z"
   },
   {
    "duration": 321,
    "start_time": "2022-05-15T12:02:14.646Z"
   },
   {
    "duration": 325,
    "start_time": "2022-05-15T12:02:14.970Z"
   },
   {
    "duration": 351,
    "start_time": "2022-05-15T12:02:15.297Z"
   },
   {
    "duration": 258,
    "start_time": "2022-05-15T12:02:15.650Z"
   },
   {
    "duration": 306,
    "start_time": "2022-05-15T12:02:15.911Z"
   },
   {
    "duration": 295,
    "start_time": "2022-05-15T12:02:16.219Z"
   },
   {
    "duration": 28,
    "start_time": "2022-05-15T12:02:16.517Z"
   },
   {
    "duration": 46,
    "start_time": "2022-05-15T12:02:16.547Z"
   },
   {
    "duration": 785,
    "start_time": "2022-05-15T12:02:16.596Z"
   },
   {
    "duration": 273,
    "start_time": "2022-05-15T12:02:17.383Z"
   },
   {
    "duration": 345,
    "start_time": "2022-05-15T12:02:17.658Z"
   },
   {
    "duration": 1206,
    "start_time": "2022-05-15T12:02:18.006Z"
   },
   {
    "duration": 1127,
    "start_time": "2022-05-15T12:02:19.214Z"
   },
   {
    "duration": 268,
    "start_time": "2022-05-15T12:11:58.483Z"
   },
   {
    "duration": 266,
    "start_time": "2022-05-15T12:12:17.738Z"
   },
   {
    "duration": 253,
    "start_time": "2022-05-15T12:12:27.129Z"
   },
   {
    "duration": 264,
    "start_time": "2022-05-15T12:12:30.361Z"
   },
   {
    "duration": 278,
    "start_time": "2022-05-15T12:12:35.333Z"
   },
   {
    "duration": 245,
    "start_time": "2022-05-15T12:12:41.652Z"
   },
   {
    "duration": 358,
    "start_time": "2022-05-15T12:12:47.400Z"
   },
   {
    "duration": 248,
    "start_time": "2022-05-15T12:12:51.932Z"
   },
   {
    "duration": 253,
    "start_time": "2022-05-15T12:12:59.624Z"
   },
   {
    "duration": 265,
    "start_time": "2022-05-15T12:13:10.114Z"
   },
   {
    "duration": 272,
    "start_time": "2022-05-15T12:14:13.907Z"
   },
   {
    "duration": 289,
    "start_time": "2022-05-15T12:14:25.295Z"
   },
   {
    "duration": 275,
    "start_time": "2022-05-15T12:14:48.955Z"
   },
   {
    "duration": 263,
    "start_time": "2022-05-15T12:15:46.609Z"
   },
   {
    "duration": 321,
    "start_time": "2022-05-15T12:16:05.055Z"
   },
   {
    "duration": 284,
    "start_time": "2022-05-15T12:16:42.229Z"
   },
   {
    "duration": 275,
    "start_time": "2022-05-15T12:17:00.664Z"
   },
   {
    "duration": 276,
    "start_time": "2022-05-15T12:18:32.446Z"
   },
   {
    "duration": 712,
    "start_time": "2022-05-15T12:19:30.567Z"
   },
   {
    "duration": 597,
    "start_time": "2022-05-15T12:21:27.555Z"
   },
   {
    "duration": 512,
    "start_time": "2022-05-15T12:21:56.327Z"
   },
   {
    "duration": 503,
    "start_time": "2022-05-15T12:22:45.971Z"
   },
   {
    "duration": 537,
    "start_time": "2022-05-15T12:23:00.084Z"
   },
   {
    "duration": 497,
    "start_time": "2022-05-15T12:23:27.316Z"
   },
   {
    "duration": 520,
    "start_time": "2022-05-15T12:23:44.845Z"
   },
   {
    "duration": 8,
    "start_time": "2022-05-15T14:05:19.263Z"
   },
   {
    "duration": 7,
    "start_time": "2022-05-15T14:05:19.273Z"
   },
   {
    "duration": 112,
    "start_time": "2022-05-15T14:05:19.282Z"
   },
   {
    "duration": 213,
    "start_time": "2022-05-15T14:05:19.397Z"
   },
   {
    "duration": 30,
    "start_time": "2022-05-15T14:05:19.612Z"
   },
   {
    "duration": 6,
    "start_time": "2022-05-15T14:05:19.644Z"
   },
   {
    "duration": 54,
    "start_time": "2022-05-15T14:05:19.652Z"
   },
   {
    "duration": 184,
    "start_time": "2022-05-15T14:05:19.708Z"
   },
   {
    "duration": 28,
    "start_time": "2022-05-15T14:05:19.895Z"
   },
   {
    "duration": 23,
    "start_time": "2022-05-15T14:05:19.927Z"
   },
   {
    "duration": 69,
    "start_time": "2022-05-15T14:05:19.953Z"
   },
   {
    "duration": 18,
    "start_time": "2022-05-15T14:05:20.025Z"
   },
   {
    "duration": 306,
    "start_time": "2022-05-15T14:05:20.045Z"
   },
   {
    "duration": 275,
    "start_time": "2022-05-15T14:05:20.354Z"
   },
   {
    "duration": 37,
    "start_time": "2022-05-15T14:05:20.632Z"
   },
   {
    "duration": 283,
    "start_time": "2022-05-15T14:05:20.672Z"
   },
   {
    "duration": 66,
    "start_time": "2022-05-15T14:05:20.959Z"
   },
   {
    "duration": 9,
    "start_time": "2022-05-15T14:05:21.028Z"
   },
   {
    "duration": 16,
    "start_time": "2022-05-15T14:05:21.040Z"
   },
   {
    "duration": 42,
    "start_time": "2022-05-15T14:05:21.060Z"
   },
   {
    "duration": 22,
    "start_time": "2022-05-15T14:05:21.105Z"
   },
   {
    "duration": 10,
    "start_time": "2022-05-15T14:05:21.129Z"
   },
   {
    "duration": 54,
    "start_time": "2022-05-15T14:05:21.141Z"
   },
   {
    "duration": 253,
    "start_time": "2022-05-15T14:05:21.198Z"
   },
   {
    "duration": 24,
    "start_time": "2022-05-15T14:05:21.456Z"
   },
   {
    "duration": 21,
    "start_time": "2022-05-15T14:05:21.494Z"
   },
   {
    "duration": 86,
    "start_time": "2022-05-15T14:05:21.517Z"
   },
   {
    "duration": 45,
    "start_time": "2022-05-15T14:05:21.605Z"
   },
   {
    "duration": 54,
    "start_time": "2022-05-15T14:05:21.652Z"
   },
   {
    "duration": 57,
    "start_time": "2022-05-15T14:05:21.709Z"
   },
   {
    "duration": 259,
    "start_time": "2022-05-15T14:05:21.792Z"
   },
   {
    "duration": 258,
    "start_time": "2022-05-15T14:05:22.053Z"
   },
   {
    "duration": 311,
    "start_time": "2022-05-15T14:05:22.314Z"
   },
   {
    "duration": 344,
    "start_time": "2022-05-15T14:05:22.627Z"
   },
   {
    "duration": 302,
    "start_time": "2022-05-15T14:05:22.974Z"
   },
   {
    "duration": 269,
    "start_time": "2022-05-15T14:05:23.278Z"
   },
   {
    "duration": 328,
    "start_time": "2022-05-15T14:05:23.550Z"
   },
   {
    "duration": 674,
    "start_time": "2022-05-15T14:05:23.881Z"
   },
   {
    "duration": 297,
    "start_time": "2022-05-15T14:05:24.558Z"
   },
   {
    "duration": 38,
    "start_time": "2022-05-15T14:05:24.857Z"
   },
   {
    "duration": 21,
    "start_time": "2022-05-15T14:05:24.897Z"
   },
   {
    "duration": 796,
    "start_time": "2022-05-15T14:05:24.920Z"
   },
   {
    "duration": 275,
    "start_time": "2022-05-15T14:05:25.718Z"
   },
   {
    "duration": 299,
    "start_time": "2022-05-15T14:05:25.995Z"
   },
   {
    "duration": 1500,
    "start_time": "2022-05-15T14:05:26.296Z"
   },
   {
    "duration": 1330,
    "start_time": "2022-05-15T14:05:27.798Z"
   },
   {
    "duration": 711,
    "start_time": "2022-05-15T14:06:23.634Z"
   },
   {
    "duration": 732,
    "start_time": "2022-05-15T14:06:40.853Z"
   },
   {
    "duration": 282,
    "start_time": "2022-05-15T14:08:49.295Z"
   },
   {
    "duration": 276,
    "start_time": "2022-05-15T14:10:13.261Z"
   },
   {
    "duration": 266,
    "start_time": "2022-05-15T14:10:18.361Z"
   },
   {
    "duration": 258,
    "start_time": "2022-05-15T14:10:48.942Z"
   },
   {
    "duration": 327,
    "start_time": "2022-05-15T14:12:04.508Z"
   },
   {
    "duration": 200,
    "start_time": "2022-05-15T14:12:17.758Z"
   },
   {
    "duration": 381,
    "start_time": "2022-05-15T14:12:23.742Z"
   },
   {
    "duration": 17,
    "start_time": "2022-05-15T14:15:03.183Z"
   },
   {
    "duration": 32,
    "start_time": "2022-05-15T14:15:19.298Z"
   },
   {
    "duration": 21,
    "start_time": "2022-05-15T14:15:45.757Z"
   },
   {
    "duration": 29,
    "start_time": "2022-05-15T14:15:59.474Z"
   },
   {
    "duration": 27,
    "start_time": "2022-05-15T14:16:07.871Z"
   },
   {
    "duration": 14,
    "start_time": "2022-05-15T14:16:18.932Z"
   },
   {
    "duration": 1558,
    "start_time": "2022-05-15T14:16:18.949Z"
   },
   {
    "duration": 111,
    "start_time": "2022-05-15T14:16:20.513Z"
   },
   {
    "duration": 203,
    "start_time": "2022-05-15T14:16:20.626Z"
   },
   {
    "duration": 31,
    "start_time": "2022-05-15T14:16:20.831Z"
   },
   {
    "duration": 31,
    "start_time": "2022-05-15T14:16:20.865Z"
   },
   {
    "duration": 27,
    "start_time": "2022-05-15T14:16:20.898Z"
   },
   {
    "duration": 192,
    "start_time": "2022-05-15T14:16:20.927Z"
   },
   {
    "duration": 78,
    "start_time": "2022-05-15T14:16:21.123Z"
   },
   {
    "duration": 26,
    "start_time": "2022-05-15T14:16:21.203Z"
   },
   {
    "duration": 71,
    "start_time": "2022-05-15T14:16:21.232Z"
   },
   {
    "duration": 22,
    "start_time": "2022-05-15T14:16:21.306Z"
   },
   {
    "duration": 336,
    "start_time": "2022-05-15T14:16:21.331Z"
   },
   {
    "duration": 268,
    "start_time": "2022-05-15T14:16:21.669Z"
   },
   {
    "duration": 53,
    "start_time": "2022-05-15T14:16:21.940Z"
   },
   {
    "duration": 280,
    "start_time": "2022-05-15T14:16:21.995Z"
   },
   {
    "duration": 64,
    "start_time": "2022-05-15T14:16:22.278Z"
   },
   {
    "duration": 7,
    "start_time": "2022-05-15T14:16:22.345Z"
   },
   {
    "duration": 42,
    "start_time": "2022-05-15T14:16:22.355Z"
   },
   {
    "duration": 12,
    "start_time": "2022-05-15T14:16:22.400Z"
   },
   {
    "duration": 35,
    "start_time": "2022-05-15T14:16:22.414Z"
   },
   {
    "duration": 10,
    "start_time": "2022-05-15T14:16:22.452Z"
   },
   {
    "duration": 47,
    "start_time": "2022-05-15T14:16:22.465Z"
   },
   {
    "duration": 252,
    "start_time": "2022-05-15T14:16:22.515Z"
   },
   {
    "duration": 43,
    "start_time": "2022-05-15T14:16:22.769Z"
   },
   {
    "duration": 23,
    "start_time": "2022-05-15T14:16:22.814Z"
   },
   {
    "duration": 91,
    "start_time": "2022-05-15T14:16:22.845Z"
   },
   {
    "duration": 90,
    "start_time": "2022-05-15T14:16:22.939Z"
   },
   {
    "duration": 67,
    "start_time": "2022-05-15T14:16:23.032Z"
   },
   {
    "duration": 100,
    "start_time": "2022-05-15T14:16:23.102Z"
   },
   {
    "duration": 314,
    "start_time": "2022-05-15T14:16:23.205Z"
   },
   {
    "duration": 286,
    "start_time": "2022-05-15T14:16:23.522Z"
   },
   {
    "duration": 332,
    "start_time": "2022-05-15T14:16:23.810Z"
   },
   {
    "duration": 330,
    "start_time": "2022-05-15T14:16:24.144Z"
   },
   {
    "duration": 374,
    "start_time": "2022-05-15T14:16:24.477Z"
   },
   {
    "duration": 263,
    "start_time": "2022-05-15T14:16:24.853Z"
   },
   {
    "duration": 312,
    "start_time": "2022-05-15T14:16:25.118Z"
   },
   {
    "duration": 564,
    "start_time": "2022-05-15T14:16:25.433Z"
   },
   {
    "duration": 298,
    "start_time": "2022-05-15T14:16:25.999Z"
   },
   {
    "duration": 43,
    "start_time": "2022-05-15T14:16:26.299Z"
   },
   {
    "duration": 57,
    "start_time": "2022-05-15T14:16:26.344Z"
   },
   {
    "duration": 22,
    "start_time": "2022-05-15T14:16:26.404Z"
   },
   {
    "duration": 790,
    "start_time": "2022-05-15T14:16:26.429Z"
   },
   {
    "duration": 281,
    "start_time": "2022-05-15T14:16:27.221Z"
   },
   {
    "duration": 413,
    "start_time": "2022-05-15T14:16:27.504Z"
   },
   {
    "duration": 1638,
    "start_time": "2022-05-15T14:16:27.920Z"
   },
   {
    "duration": 1609,
    "start_time": "2022-05-15T14:16:29.560Z"
   },
   {
    "duration": 2221,
    "start_time": "2022-05-15T14:21:18.072Z"
   },
   {
    "duration": 2460,
    "start_time": "2022-05-15T14:21:29.183Z"
   },
   {
    "duration": 15,
    "start_time": "2022-05-15T14:24:09.538Z"
   },
   {
    "duration": 1552,
    "start_time": "2022-05-15T14:24:09.556Z"
   },
   {
    "duration": 105,
    "start_time": "2022-05-15T14:24:11.110Z"
   },
   {
    "duration": 206,
    "start_time": "2022-05-15T14:24:11.218Z"
   },
   {
    "duration": 32,
    "start_time": "2022-05-15T14:24:11.426Z"
   },
   {
    "duration": 36,
    "start_time": "2022-05-15T14:24:11.460Z"
   },
   {
    "duration": 29,
    "start_time": "2022-05-15T14:24:11.499Z"
   },
   {
    "duration": 196,
    "start_time": "2022-05-15T14:24:11.530Z"
   },
   {
    "duration": 83,
    "start_time": "2022-05-15T14:24:11.728Z"
   },
   {
    "duration": 24,
    "start_time": "2022-05-15T14:24:11.815Z"
   },
   {
    "duration": 92,
    "start_time": "2022-05-15T14:24:11.841Z"
   },
   {
    "duration": 20,
    "start_time": "2022-05-15T14:24:11.935Z"
   },
   {
    "duration": 353,
    "start_time": "2022-05-15T14:24:11.957Z"
   },
   {
    "duration": 292,
    "start_time": "2022-05-15T14:24:12.312Z"
   },
   {
    "duration": 37,
    "start_time": "2022-05-15T14:24:12.606Z"
   },
   {
    "duration": 309,
    "start_time": "2022-05-15T14:24:12.645Z"
   },
   {
    "duration": 77,
    "start_time": "2022-05-15T14:24:12.957Z"
   },
   {
    "duration": 9,
    "start_time": "2022-05-15T14:24:13.036Z"
   },
   {
    "duration": 14,
    "start_time": "2022-05-15T14:24:13.047Z"
   },
   {
    "duration": 44,
    "start_time": "2022-05-15T14:24:13.063Z"
   },
   {
    "duration": 28,
    "start_time": "2022-05-15T14:24:13.110Z"
   },
   {
    "duration": 14,
    "start_time": "2022-05-15T14:24:13.141Z"
   },
   {
    "duration": 26,
    "start_time": "2022-05-15T14:24:13.192Z"
   },
   {
    "duration": 319,
    "start_time": "2022-05-15T14:24:13.220Z"
   },
   {
    "duration": 28,
    "start_time": "2022-05-15T14:24:13.542Z"
   },
   {
    "duration": 27,
    "start_time": "2022-05-15T14:24:13.592Z"
   },
   {
    "duration": 97,
    "start_time": "2022-05-15T14:24:13.622Z"
   },
   {
    "duration": 83,
    "start_time": "2022-05-15T14:24:13.728Z"
   },
   {
    "duration": 29,
    "start_time": "2022-05-15T14:24:13.815Z"
   },
   {
    "duration": 103,
    "start_time": "2022-05-15T14:24:13.847Z"
   },
   {
    "duration": 297,
    "start_time": "2022-05-15T14:24:13.953Z"
   },
   {
    "duration": 265,
    "start_time": "2022-05-15T14:24:14.252Z"
   },
   {
    "duration": 327,
    "start_time": "2022-05-15T14:24:14.519Z"
   },
   {
    "duration": 328,
    "start_time": "2022-05-15T14:24:14.849Z"
   },
   {
    "duration": 377,
    "start_time": "2022-05-15T14:24:15.179Z"
   },
   {
    "duration": 271,
    "start_time": "2022-05-15T14:24:15.559Z"
   },
   {
    "duration": 333,
    "start_time": "2022-05-15T14:24:15.833Z"
   },
   {
    "duration": 570,
    "start_time": "2022-05-15T14:24:16.168Z"
   },
   {
    "duration": 418,
    "start_time": "2022-05-15T14:24:16.741Z"
   },
   {
    "duration": 66,
    "start_time": "2022-05-15T14:24:17.161Z"
   },
   {
    "duration": 2510,
    "start_time": "2022-05-15T14:24:17.230Z"
   },
   {
    "duration": 50,
    "start_time": "2022-05-15T14:24:19.742Z"
   },
   {
    "duration": 158,
    "start_time": "2022-05-15T14:24:19.794Z"
   },
   {
    "duration": 0,
    "start_time": "2022-05-15T14:24:19.955Z"
   },
   {
    "duration": 0,
    "start_time": "2022-05-15T14:24:19.957Z"
   },
   {
    "duration": 0,
    "start_time": "2022-05-15T14:24:19.959Z"
   },
   {
    "duration": 0,
    "start_time": "2022-05-15T14:24:19.961Z"
   },
   {
    "duration": 3,
    "start_time": "2022-05-15T14:24:52.689Z"
   },
   {
    "duration": 14,
    "start_time": "2022-05-15T14:37:32.573Z"
   },
   {
    "duration": 1784,
    "start_time": "2022-05-15T14:37:32.589Z"
   },
   {
    "duration": 154,
    "start_time": "2022-05-15T14:37:34.376Z"
   },
   {
    "duration": 283,
    "start_time": "2022-05-15T14:37:34.534Z"
   },
   {
    "duration": 35,
    "start_time": "2022-05-15T14:37:34.820Z"
   },
   {
    "duration": 7,
    "start_time": "2022-05-15T14:37:34.857Z"
   },
   {
    "duration": 27,
    "start_time": "2022-05-15T14:37:34.894Z"
   },
   {
    "duration": 193,
    "start_time": "2022-05-15T14:37:34.923Z"
   },
   {
    "duration": 75,
    "start_time": "2022-05-15T14:37:35.118Z"
   },
   {
    "duration": 22,
    "start_time": "2022-05-15T14:37:35.198Z"
   },
   {
    "duration": 36,
    "start_time": "2022-05-15T14:37:35.223Z"
   },
   {
    "duration": 19,
    "start_time": "2022-05-15T14:37:35.293Z"
   },
   {
    "duration": 326,
    "start_time": "2022-05-15T14:37:35.315Z"
   },
   {
    "duration": 292,
    "start_time": "2022-05-15T14:37:35.643Z"
   },
   {
    "duration": 37,
    "start_time": "2022-05-15T14:37:35.937Z"
   },
   {
    "duration": 379,
    "start_time": "2022-05-15T14:37:35.994Z"
   },
   {
    "duration": 63,
    "start_time": "2022-05-15T14:37:36.375Z"
   },
   {
    "duration": 8,
    "start_time": "2022-05-15T14:37:36.440Z"
   },
   {
    "duration": 42,
    "start_time": "2022-05-15T14:37:36.450Z"
   },
   {
    "duration": 13,
    "start_time": "2022-05-15T14:37:36.494Z"
   },
   {
    "duration": 23,
    "start_time": "2022-05-15T14:37:36.509Z"
   },
   {
    "duration": 59,
    "start_time": "2022-05-15T14:37:36.534Z"
   },
   {
    "duration": 25,
    "start_time": "2022-05-15T14:37:36.595Z"
   },
   {
    "duration": 317,
    "start_time": "2022-05-15T14:37:36.623Z"
   },
   {
    "duration": 24,
    "start_time": "2022-05-15T14:37:36.942Z"
   },
   {
    "duration": 41,
    "start_time": "2022-05-15T14:37:36.969Z"
   },
   {
    "duration": 93,
    "start_time": "2022-05-15T14:37:37.012Z"
   },
   {
    "duration": 84,
    "start_time": "2022-05-15T14:37:37.110Z"
   },
   {
    "duration": 40,
    "start_time": "2022-05-15T14:37:37.197Z"
   },
   {
    "duration": 115,
    "start_time": "2022-05-15T14:37:37.240Z"
   },
   {
    "duration": 326,
    "start_time": "2022-05-15T14:37:37.357Z"
   },
   {
    "duration": 256,
    "start_time": "2022-05-15T14:37:37.692Z"
   },
   {
    "duration": 328,
    "start_time": "2022-05-15T14:37:37.951Z"
   },
   {
    "duration": 326,
    "start_time": "2022-05-15T14:37:38.282Z"
   },
   {
    "duration": 406,
    "start_time": "2022-05-15T14:37:38.611Z"
   },
   {
    "duration": 276,
    "start_time": "2022-05-15T14:37:39.020Z"
   },
   {
    "duration": 332,
    "start_time": "2022-05-15T14:37:39.299Z"
   },
   {
    "duration": 578,
    "start_time": "2022-05-15T14:37:39.634Z"
   },
   {
    "duration": 315,
    "start_time": "2022-05-15T14:37:40.215Z"
   },
   {
    "duration": 61,
    "start_time": "2022-05-15T14:37:40.533Z"
   },
   {
    "duration": 2593,
    "start_time": "2022-05-15T14:37:40.597Z"
   },
   {
    "duration": 24,
    "start_time": "2022-05-15T14:37:43.194Z"
   },
   {
    "duration": 268,
    "start_time": "2022-05-15T14:37:43.220Z"
   },
   {
    "duration": 283,
    "start_time": "2022-05-15T14:37:43.493Z"
   },
   {
    "duration": 341,
    "start_time": "2022-05-15T14:37:43.779Z"
   },
   {
    "duration": 1148,
    "start_time": "2022-05-15T14:37:44.123Z"
   },
   {
    "duration": 2129,
    "start_time": "2022-05-15T14:37:45.273Z"
   },
   {
    "duration": 665,
    "start_time": "2022-05-15T14:38:51.888Z"
   },
   {
    "duration": 852,
    "start_time": "2022-05-15T14:40:22.499Z"
   },
   {
    "duration": 556,
    "start_time": "2022-05-15T14:41:20.447Z"
   },
   {
    "duration": 497,
    "start_time": "2022-05-15T14:41:46.341Z"
   },
   {
    "duration": 542,
    "start_time": "2022-05-15T14:42:00.772Z"
   },
   {
    "duration": 3771,
    "start_time": "2022-05-15T14:42:32.208Z"
   },
   {
    "duration": 3727,
    "start_time": "2022-05-15T14:42:58.549Z"
   },
   {
    "duration": 5989,
    "start_time": "2022-05-15T14:43:55.677Z"
   },
   {
    "duration": 15,
    "start_time": "2022-05-15T14:44:41.544Z"
   },
   {
    "duration": 1546,
    "start_time": "2022-05-15T14:44:41.562Z"
   },
   {
    "duration": 105,
    "start_time": "2022-05-15T14:44:43.110Z"
   },
   {
    "duration": 213,
    "start_time": "2022-05-15T14:44:43.219Z"
   },
   {
    "duration": 31,
    "start_time": "2022-05-15T14:44:43.434Z"
   },
   {
    "duration": 30,
    "start_time": "2022-05-15T14:44:43.468Z"
   },
   {
    "duration": 39,
    "start_time": "2022-05-15T14:44:43.501Z"
   },
   {
    "duration": 200,
    "start_time": "2022-05-15T14:44:43.543Z"
   },
   {
    "duration": 44,
    "start_time": "2022-05-15T14:44:43.793Z"
   },
   {
    "duration": 67,
    "start_time": "2022-05-15T14:44:43.844Z"
   },
   {
    "duration": 54,
    "start_time": "2022-05-15T14:44:43.914Z"
   },
   {
    "duration": 26,
    "start_time": "2022-05-15T14:44:43.994Z"
   },
   {
    "duration": 470,
    "start_time": "2022-05-15T14:44:44.023Z"
   },
   {
    "duration": 386,
    "start_time": "2022-05-15T14:44:44.496Z"
   },
   {
    "duration": 58,
    "start_time": "2022-05-15T14:44:44.884Z"
   },
   {
    "duration": 297,
    "start_time": "2022-05-15T14:44:44.945Z"
   },
   {
    "duration": 70,
    "start_time": "2022-05-15T14:44:45.245Z"
   },
   {
    "duration": 8,
    "start_time": "2022-05-15T14:44:45.317Z"
   },
   {
    "duration": 10,
    "start_time": "2022-05-15T14:44:45.327Z"
   },
   {
    "duration": 13,
    "start_time": "2022-05-15T14:44:45.339Z"
   },
   {
    "duration": 25,
    "start_time": "2022-05-15T14:44:45.393Z"
   },
   {
    "duration": 12,
    "start_time": "2022-05-15T14:44:45.420Z"
   },
   {
    "duration": 68,
    "start_time": "2022-05-15T14:44:45.434Z"
   },
   {
    "duration": 258,
    "start_time": "2022-05-15T14:44:45.505Z"
   },
   {
    "duration": 46,
    "start_time": "2022-05-15T14:44:45.765Z"
   },
   {
    "duration": 20,
    "start_time": "2022-05-15T14:44:45.814Z"
   },
   {
    "duration": 100,
    "start_time": "2022-05-15T14:44:45.836Z"
   },
   {
    "duration": 86,
    "start_time": "2022-05-15T14:44:45.942Z"
   },
   {
    "duration": 74,
    "start_time": "2022-05-15T14:44:46.031Z"
   },
   {
    "duration": 92,
    "start_time": "2022-05-15T14:44:46.107Z"
   },
   {
    "duration": 295,
    "start_time": "2022-05-15T14:44:46.202Z"
   },
   {
    "duration": 275,
    "start_time": "2022-05-15T14:44:46.499Z"
   },
   {
    "duration": 347,
    "start_time": "2022-05-15T14:44:46.777Z"
   },
   {
    "duration": 337,
    "start_time": "2022-05-15T14:44:47.128Z"
   },
   {
    "duration": 408,
    "start_time": "2022-05-15T14:44:47.467Z"
   },
   {
    "duration": 271,
    "start_time": "2022-05-15T14:44:47.878Z"
   },
   {
    "duration": 391,
    "start_time": "2022-05-15T14:44:48.151Z"
   },
   {
    "duration": 566,
    "start_time": "2022-05-15T14:44:48.545Z"
   },
   {
    "duration": 303,
    "start_time": "2022-05-15T14:44:49.114Z"
   },
   {
    "duration": 43,
    "start_time": "2022-05-15T14:44:49.419Z"
   },
   {
    "duration": 2329,
    "start_time": "2022-05-15T14:44:49.465Z"
   },
   {
    "duration": 22,
    "start_time": "2022-05-15T14:44:51.796Z"
   },
   {
    "duration": 3974,
    "start_time": "2022-05-15T14:44:51.820Z"
   },
   {
    "duration": 0,
    "start_time": "2022-05-15T14:44:55.797Z"
   },
   {
    "duration": 0,
    "start_time": "2022-05-15T14:44:55.799Z"
   },
   {
    "duration": 0,
    "start_time": "2022-05-15T14:44:55.801Z"
   },
   {
    "duration": 0,
    "start_time": "2022-05-15T14:44:55.802Z"
   },
   {
    "duration": 625,
    "start_time": "2022-05-15T14:46:22.650Z"
   },
   {
    "duration": 339,
    "start_time": "2022-05-15T14:51:36.202Z"
   },
   {
    "duration": 322,
    "start_time": "2022-05-15T14:51:49.089Z"
   },
   {
    "duration": 14,
    "start_time": "2022-05-15T15:02:42.563Z"
   },
   {
    "duration": 1620,
    "start_time": "2022-05-15T15:02:42.580Z"
   },
   {
    "duration": 109,
    "start_time": "2022-05-15T15:02:44.203Z"
   },
   {
    "duration": 326,
    "start_time": "2022-05-15T15:02:44.315Z"
   },
   {
    "duration": 70,
    "start_time": "2022-05-15T15:02:44.644Z"
   },
   {
    "duration": 6,
    "start_time": "2022-05-15T15:02:44.717Z"
   },
   {
    "duration": 31,
    "start_time": "2022-05-15T15:02:44.725Z"
   },
   {
    "duration": 173,
    "start_time": "2022-05-15T15:02:44.758Z"
   },
   {
    "duration": 75,
    "start_time": "2022-05-15T15:02:44.934Z"
   },
   {
    "duration": 25,
    "start_time": "2022-05-15T15:02:45.013Z"
   },
   {
    "duration": 65,
    "start_time": "2022-05-15T15:02:45.040Z"
   },
   {
    "duration": 20,
    "start_time": "2022-05-15T15:02:45.108Z"
   },
   {
    "duration": 316,
    "start_time": "2022-05-15T15:02:45.131Z"
   },
   {
    "duration": 284,
    "start_time": "2022-05-15T15:02:45.450Z"
   },
   {
    "duration": 39,
    "start_time": "2022-05-15T15:02:45.736Z"
   },
   {
    "duration": 407,
    "start_time": "2022-05-15T15:02:45.793Z"
   },
   {
    "duration": 61,
    "start_time": "2022-05-15T15:02:46.203Z"
   },
   {
    "duration": 32,
    "start_time": "2022-05-15T15:02:46.266Z"
   },
   {
    "duration": 17,
    "start_time": "2022-05-15T15:02:46.301Z"
   },
   {
    "duration": 16,
    "start_time": "2022-05-15T15:02:46.320Z"
   },
   {
    "duration": 23,
    "start_time": "2022-05-15T15:02:46.339Z"
   },
   {
    "duration": 36,
    "start_time": "2022-05-15T15:02:46.364Z"
   },
   {
    "duration": 26,
    "start_time": "2022-05-15T15:02:46.403Z"
   },
   {
    "duration": 385,
    "start_time": "2022-05-15T15:02:46.432Z"
   },
   {
    "duration": 39,
    "start_time": "2022-05-15T15:02:46.821Z"
   },
   {
    "duration": 53,
    "start_time": "2022-05-15T15:02:46.864Z"
   },
   {
    "duration": 115,
    "start_time": "2022-05-15T15:02:46.920Z"
   },
   {
    "duration": 97,
    "start_time": "2022-05-15T15:02:47.044Z"
   },
   {
    "duration": 65,
    "start_time": "2022-05-15T15:02:47.144Z"
   },
   {
    "duration": 87,
    "start_time": "2022-05-15T15:02:47.211Z"
   },
   {
    "duration": 298,
    "start_time": "2022-05-15T15:02:47.300Z"
   },
   {
    "duration": 336,
    "start_time": "2022-05-15T15:02:47.602Z"
   },
   {
    "duration": 327,
    "start_time": "2022-05-15T15:02:47.941Z"
   },
   {
    "duration": 332,
    "start_time": "2022-05-15T15:02:48.270Z"
   },
   {
    "duration": 450,
    "start_time": "2022-05-15T15:02:48.604Z"
   },
   {
    "duration": 251,
    "start_time": "2022-05-15T15:02:49.056Z"
   },
   {
    "duration": 328,
    "start_time": "2022-05-15T15:02:49.310Z"
   },
   {
    "duration": 597,
    "start_time": "2022-05-15T15:02:49.641Z"
   },
   {
    "duration": 420,
    "start_time": "2022-05-15T15:02:50.293Z"
   },
   {
    "duration": 81,
    "start_time": "2022-05-15T15:02:50.716Z"
   },
   {
    "duration": 2411,
    "start_time": "2022-05-15T15:02:50.799Z"
   },
   {
    "duration": 24,
    "start_time": "2022-05-15T15:02:53.213Z"
   },
   {
    "duration": 1019,
    "start_time": "2022-05-15T15:02:53.239Z"
   },
   {
    "duration": 494,
    "start_time": "2022-05-15T15:02:54.261Z"
   },
   {
    "duration": 459,
    "start_time": "2022-05-15T15:02:54.758Z"
   },
   {
    "duration": 1706,
    "start_time": "2022-05-15T15:02:55.220Z"
   },
   {
    "duration": 1209,
    "start_time": "2022-05-15T15:02:56.929Z"
   },
   {
    "duration": 3411,
    "start_time": "2022-05-15T15:07:53.847Z"
   },
   {
    "duration": 16,
    "start_time": "2022-05-15T15:08:15.796Z"
   },
   {
    "duration": 16,
    "start_time": "2022-05-15T15:08:21.185Z"
   },
   {
    "duration": 199,
    "start_time": "2022-05-15T15:08:42.788Z"
   },
   {
    "duration": 22,
    "start_time": "2022-05-15T15:08:51.187Z"
   },
   {
    "duration": 18,
    "start_time": "2022-05-15T15:10:58.258Z"
   },
   {
    "duration": 15,
    "start_time": "2022-05-15T15:11:42.937Z"
   },
   {
    "duration": 1573,
    "start_time": "2022-05-15T15:11:42.955Z"
   },
   {
    "duration": 114,
    "start_time": "2022-05-15T15:11:44.530Z"
   },
   {
    "duration": 201,
    "start_time": "2022-05-15T15:11:44.647Z"
   },
   {
    "duration": 50,
    "start_time": "2022-05-15T15:11:44.850Z"
   },
   {
    "duration": 6,
    "start_time": "2022-05-15T15:11:44.903Z"
   },
   {
    "duration": 28,
    "start_time": "2022-05-15T15:11:44.911Z"
   },
   {
    "duration": 176,
    "start_time": "2022-05-15T15:11:44.942Z"
   },
   {
    "duration": 33,
    "start_time": "2022-05-15T15:11:45.121Z"
   },
   {
    "duration": 58,
    "start_time": "2022-05-15T15:11:45.158Z"
   },
   {
    "duration": 36,
    "start_time": "2022-05-15T15:11:45.218Z"
   },
   {
    "duration": 51,
    "start_time": "2022-05-15T15:11:45.257Z"
   },
   {
    "duration": 418,
    "start_time": "2022-05-15T15:11:45.311Z"
   },
   {
    "duration": 286,
    "start_time": "2022-05-15T15:11:45.733Z"
   },
   {
    "duration": 38,
    "start_time": "2022-05-15T15:11:46.021Z"
   },
   {
    "duration": 275,
    "start_time": "2022-05-15T15:11:46.061Z"
   },
   {
    "duration": 69,
    "start_time": "2022-05-15T15:11:46.339Z"
   },
   {
    "duration": 9,
    "start_time": "2022-05-15T15:11:46.410Z"
   },
   {
    "duration": 12,
    "start_time": "2022-05-15T15:11:46.421Z"
   },
   {
    "duration": 14,
    "start_time": "2022-05-15T15:11:46.435Z"
   },
   {
    "duration": 55,
    "start_time": "2022-05-15T15:11:46.451Z"
   },
   {
    "duration": 11,
    "start_time": "2022-05-15T15:11:46.508Z"
   },
   {
    "duration": 25,
    "start_time": "2022-05-15T15:11:46.521Z"
   },
   {
    "duration": 323,
    "start_time": "2022-05-15T15:11:46.549Z"
   },
   {
    "duration": 37,
    "start_time": "2022-05-15T15:11:46.875Z"
   },
   {
    "duration": 20,
    "start_time": "2022-05-15T15:11:46.915Z"
   },
   {
    "duration": 85,
    "start_time": "2022-05-15T15:11:46.938Z"
   },
   {
    "duration": 70,
    "start_time": "2022-05-15T15:11:47.028Z"
   },
   {
    "duration": 27,
    "start_time": "2022-05-15T15:11:47.101Z"
   },
   {
    "duration": 102,
    "start_time": "2022-05-15T15:11:47.130Z"
   },
   {
    "duration": 288,
    "start_time": "2022-05-15T15:11:47.234Z"
   },
   {
    "duration": 268,
    "start_time": "2022-05-15T15:11:47.525Z"
   },
   {
    "duration": 326,
    "start_time": "2022-05-15T15:11:47.795Z"
   },
   {
    "duration": 498,
    "start_time": "2022-05-15T15:11:48.124Z"
   },
   {
    "duration": 597,
    "start_time": "2022-05-15T15:11:48.625Z"
   },
   {
    "duration": 276,
    "start_time": "2022-05-15T15:11:49.226Z"
   },
   {
    "duration": 323,
    "start_time": "2022-05-15T15:11:49.505Z"
   },
   {
    "duration": 720,
    "start_time": "2022-05-15T15:11:49.830Z"
   },
   {
    "duration": 499,
    "start_time": "2022-05-15T15:11:50.553Z"
   },
   {
    "duration": 76,
    "start_time": "2022-05-15T15:11:51.056Z"
   },
   {
    "duration": 4311,
    "start_time": "2022-05-15T15:11:51.135Z"
   },
   {
    "duration": 22,
    "start_time": "2022-05-15T15:11:55.449Z"
   },
   {
    "duration": 696,
    "start_time": "2022-05-15T15:11:55.473Z"
   },
   {
    "duration": 505,
    "start_time": "2022-05-15T15:11:56.172Z"
   },
   {
    "duration": 490,
    "start_time": "2022-05-15T15:11:56.680Z"
   },
   {
    "duration": 1780,
    "start_time": "2022-05-15T15:11:57.174Z"
   },
   {
    "duration": 159,
    "start_time": "2022-05-15T15:11:58.957Z"
   },
   {
    "duration": 18,
    "start_time": "2022-05-15T15:12:35.019Z"
   },
   {
    "duration": 22,
    "start_time": "2022-05-15T15:14:09.377Z"
   },
   {
    "duration": 6,
    "start_time": "2022-05-15T15:14:32.789Z"
   },
   {
    "duration": 18,
    "start_time": "2022-05-15T15:14:44.248Z"
   },
   {
    "duration": 16,
    "start_time": "2022-05-15T15:15:01.151Z"
   },
   {
    "duration": 16,
    "start_time": "2022-05-15T15:16:07.319Z"
   },
   {
    "duration": 19,
    "start_time": "2022-05-15T15:18:31.703Z"
   },
   {
    "duration": 1586,
    "start_time": "2022-05-15T15:18:31.725Z"
   },
   {
    "duration": 114,
    "start_time": "2022-05-15T15:18:33.313Z"
   },
   {
    "duration": 199,
    "start_time": "2022-05-15T15:18:33.430Z"
   },
   {
    "duration": 32,
    "start_time": "2022-05-15T15:18:33.634Z"
   },
   {
    "duration": 6,
    "start_time": "2022-05-15T15:18:33.694Z"
   },
   {
    "duration": 30,
    "start_time": "2022-05-15T15:18:33.702Z"
   },
   {
    "duration": 191,
    "start_time": "2022-05-15T15:18:33.735Z"
   },
   {
    "duration": 81,
    "start_time": "2022-05-15T15:18:33.929Z"
   },
   {
    "duration": 24,
    "start_time": "2022-05-15T15:18:34.012Z"
   },
   {
    "duration": 71,
    "start_time": "2022-05-15T15:18:34.038Z"
   },
   {
    "duration": 19,
    "start_time": "2022-05-15T15:18:34.111Z"
   },
   {
    "duration": 327,
    "start_time": "2022-05-15T15:18:34.133Z"
   },
   {
    "duration": 281,
    "start_time": "2022-05-15T15:18:34.462Z"
   },
   {
    "duration": 56,
    "start_time": "2022-05-15T15:18:34.745Z"
   },
   {
    "duration": 267,
    "start_time": "2022-05-15T15:18:34.803Z"
   },
   {
    "duration": 72,
    "start_time": "2022-05-15T15:18:35.072Z"
   },
   {
    "duration": 8,
    "start_time": "2022-05-15T15:18:35.147Z"
   },
   {
    "duration": 40,
    "start_time": "2022-05-15T15:18:35.157Z"
   },
   {
    "duration": 13,
    "start_time": "2022-05-15T15:18:35.199Z"
   },
   {
    "duration": 23,
    "start_time": "2022-05-15T15:18:35.214Z"
   },
   {
    "duration": 54,
    "start_time": "2022-05-15T15:18:35.239Z"
   },
   {
    "duration": 22,
    "start_time": "2022-05-15T15:18:35.295Z"
   },
   {
    "duration": 296,
    "start_time": "2022-05-15T15:18:35.319Z"
   },
   {
    "duration": 26,
    "start_time": "2022-05-15T15:18:35.617Z"
   },
   {
    "duration": 55,
    "start_time": "2022-05-15T15:18:35.646Z"
   },
   {
    "duration": 60,
    "start_time": "2022-05-15T15:18:35.706Z"
   },
   {
    "duration": 46,
    "start_time": "2022-05-15T15:18:35.793Z"
   },
   {
    "duration": 61,
    "start_time": "2022-05-15T15:18:35.841Z"
   },
   {
    "duration": 90,
    "start_time": "2022-05-15T15:18:35.905Z"
   },
   {
    "duration": 286,
    "start_time": "2022-05-15T15:18:35.997Z"
   },
   {
    "duration": 363,
    "start_time": "2022-05-15T15:18:36.285Z"
   },
   {
    "duration": 328,
    "start_time": "2022-05-15T15:18:36.651Z"
   },
   {
    "duration": 323,
    "start_time": "2022-05-15T15:18:36.982Z"
   },
   {
    "duration": 388,
    "start_time": "2022-05-15T15:18:37.308Z"
   },
   {
    "duration": 275,
    "start_time": "2022-05-15T15:18:37.698Z"
   },
   {
    "duration": 332,
    "start_time": "2022-05-15T15:18:37.976Z"
   },
   {
    "duration": 576,
    "start_time": "2022-05-15T15:18:38.310Z"
   },
   {
    "duration": 302,
    "start_time": "2022-05-15T15:18:38.888Z"
   },
   {
    "duration": 48,
    "start_time": "2022-05-15T15:18:39.192Z"
   },
   {
    "duration": 2311,
    "start_time": "2022-05-15T15:18:39.242Z"
   },
   {
    "duration": 42,
    "start_time": "2022-05-15T15:18:41.555Z"
   },
   {
    "duration": 658,
    "start_time": "2022-05-15T15:18:41.599Z"
   },
   {
    "duration": 321,
    "start_time": "2022-05-15T15:18:42.259Z"
   },
   {
    "duration": 310,
    "start_time": "2022-05-15T15:18:42.583Z"
   },
   {
    "duration": 1071,
    "start_time": "2022-05-15T15:18:42.895Z"
   },
   {
    "duration": 15,
    "start_time": "2022-05-15T15:20:42.672Z"
   },
   {
    "duration": 1570,
    "start_time": "2022-05-15T15:20:42.689Z"
   },
   {
    "duration": 112,
    "start_time": "2022-05-15T15:20:44.261Z"
   },
   {
    "duration": 253,
    "start_time": "2022-05-15T15:20:44.377Z"
   },
   {
    "duration": 33,
    "start_time": "2022-05-15T15:20:44.633Z"
   },
   {
    "duration": 36,
    "start_time": "2022-05-15T15:20:44.669Z"
   },
   {
    "duration": 29,
    "start_time": "2022-05-15T15:20:44.708Z"
   },
   {
    "duration": 199,
    "start_time": "2022-05-15T15:20:44.740Z"
   },
   {
    "duration": 87,
    "start_time": "2022-05-15T15:20:44.942Z"
   },
   {
    "duration": 23,
    "start_time": "2022-05-15T15:20:45.033Z"
   },
   {
    "duration": 40,
    "start_time": "2022-05-15T15:20:45.095Z"
   },
   {
    "duration": 16,
    "start_time": "2022-05-15T15:20:45.138Z"
   },
   {
    "duration": 311,
    "start_time": "2022-05-15T15:20:45.195Z"
   },
   {
    "duration": 287,
    "start_time": "2022-05-15T15:20:45.510Z"
   },
   {
    "duration": 38,
    "start_time": "2022-05-15T15:20:45.800Z"
   },
   {
    "duration": 305,
    "start_time": "2022-05-15T15:20:45.840Z"
   },
   {
    "duration": 77,
    "start_time": "2022-05-15T15:20:46.147Z"
   },
   {
    "duration": 7,
    "start_time": "2022-05-15T15:20:46.226Z"
   },
   {
    "duration": 9,
    "start_time": "2022-05-15T15:20:46.236Z"
   },
   {
    "duration": 49,
    "start_time": "2022-05-15T15:20:46.247Z"
   },
   {
    "duration": 26,
    "start_time": "2022-05-15T15:20:46.299Z"
   },
   {
    "duration": 11,
    "start_time": "2022-05-15T15:20:46.327Z"
   },
   {
    "duration": 72,
    "start_time": "2022-05-15T15:20:46.340Z"
   },
   {
    "duration": 256,
    "start_time": "2022-05-15T15:20:46.414Z"
   },
   {
    "duration": 43,
    "start_time": "2022-05-15T15:20:46.673Z"
   },
   {
    "duration": 21,
    "start_time": "2022-05-15T15:20:46.718Z"
   },
   {
    "duration": 95,
    "start_time": "2022-05-15T15:20:46.741Z"
   },
   {
    "duration": 87,
    "start_time": "2022-05-15T15:20:46.842Z"
   },
   {
    "duration": 23,
    "start_time": "2022-05-15T15:20:46.932Z"
   },
   {
    "duration": 96,
    "start_time": "2022-05-15T15:20:46.958Z"
   },
   {
    "duration": 320,
    "start_time": "2022-05-15T15:20:47.057Z"
   },
   {
    "duration": 291,
    "start_time": "2022-05-15T15:20:47.380Z"
   },
   {
    "duration": 343,
    "start_time": "2022-05-15T15:20:47.673Z"
   },
   {
    "duration": 328,
    "start_time": "2022-05-15T15:20:48.018Z"
   },
   {
    "duration": 390,
    "start_time": "2022-05-15T15:20:48.348Z"
   },
   {
    "duration": 359,
    "start_time": "2022-05-15T15:20:48.740Z"
   },
   {
    "duration": 314,
    "start_time": "2022-05-15T15:20:49.102Z"
   },
   {
    "duration": 580,
    "start_time": "2022-05-15T15:20:49.418Z"
   },
   {
    "duration": 401,
    "start_time": "2022-05-15T15:20:50.003Z"
   },
   {
    "duration": 104,
    "start_time": "2022-05-15T15:20:50.408Z"
   },
   {
    "duration": 2708,
    "start_time": "2022-05-15T15:20:50.514Z"
   },
   {
    "duration": 21,
    "start_time": "2022-05-15T15:20:53.224Z"
   },
   {
    "duration": 682,
    "start_time": "2022-05-15T15:20:53.247Z"
   },
   {
    "duration": 341,
    "start_time": "2022-05-15T15:20:53.931Z"
   },
   {
    "duration": 339,
    "start_time": "2022-05-15T15:20:54.274Z"
   },
   {
    "duration": 1132,
    "start_time": "2022-05-15T15:20:54.615Z"
   },
   {
    "duration": 15,
    "start_time": "2022-05-15T15:20:55.749Z"
   },
   {
    "duration": 20,
    "start_time": "2022-05-15T15:24:28.848Z"
   },
   {
    "duration": 1588,
    "start_time": "2022-05-15T15:24:28.872Z"
   },
   {
    "duration": 110,
    "start_time": "2022-05-15T15:24:30.462Z"
   },
   {
    "duration": 211,
    "start_time": "2022-05-15T15:24:30.574Z"
   },
   {
    "duration": 38,
    "start_time": "2022-05-15T15:24:30.795Z"
   },
   {
    "duration": 6,
    "start_time": "2022-05-15T15:24:30.835Z"
   },
   {
    "duration": 65,
    "start_time": "2022-05-15T15:24:30.843Z"
   },
   {
    "duration": 206,
    "start_time": "2022-05-15T15:24:30.911Z"
   },
   {
    "duration": 31,
    "start_time": "2022-05-15T15:24:31.120Z"
   },
   {
    "duration": 38,
    "start_time": "2022-05-15T15:24:31.192Z"
   },
   {
    "duration": 71,
    "start_time": "2022-05-15T15:24:31.233Z"
   },
   {
    "duration": 21,
    "start_time": "2022-05-15T15:24:31.306Z"
   },
   {
    "duration": 335,
    "start_time": "2022-05-15T15:24:31.330Z"
   },
   {
    "duration": 283,
    "start_time": "2022-05-15T15:24:31.672Z"
   },
   {
    "duration": 55,
    "start_time": "2022-05-15T15:24:31.957Z"
   },
   {
    "duration": 285,
    "start_time": "2022-05-15T15:24:32.015Z"
   },
   {
    "duration": 58,
    "start_time": "2022-05-15T15:24:32.303Z"
   },
   {
    "duration": 31,
    "start_time": "2022-05-15T15:24:32.364Z"
   },
   {
    "duration": 23,
    "start_time": "2022-05-15T15:24:32.398Z"
   },
   {
    "duration": 18,
    "start_time": "2022-05-15T15:24:32.424Z"
   },
   {
    "duration": 65,
    "start_time": "2022-05-15T15:24:32.446Z"
   },
   {
    "duration": 12,
    "start_time": "2022-05-15T15:24:32.513Z"
   },
   {
    "duration": 25,
    "start_time": "2022-05-15T15:24:32.527Z"
   },
   {
    "duration": 302,
    "start_time": "2022-05-15T15:24:32.554Z"
   },
   {
    "duration": 52,
    "start_time": "2022-05-15T15:24:32.859Z"
   },
   {
    "duration": 22,
    "start_time": "2022-05-15T15:24:32.915Z"
   },
   {
    "duration": 98,
    "start_time": "2022-05-15T15:24:32.939Z"
   },
   {
    "duration": 83,
    "start_time": "2022-05-15T15:24:33.039Z"
   },
   {
    "duration": 25,
    "start_time": "2022-05-15T15:24:33.124Z"
   },
   {
    "duration": 100,
    "start_time": "2022-05-15T15:24:33.151Z"
   },
   {
    "duration": 332,
    "start_time": "2022-05-15T15:24:33.253Z"
   },
   {
    "duration": 279,
    "start_time": "2022-05-15T15:24:33.587Z"
   },
   {
    "duration": 330,
    "start_time": "2022-05-15T15:24:33.869Z"
   },
   {
    "duration": 339,
    "start_time": "2022-05-15T15:24:34.202Z"
   },
   {
    "duration": 395,
    "start_time": "2022-05-15T15:24:34.545Z"
   },
   {
    "duration": 285,
    "start_time": "2022-05-15T15:24:34.943Z"
   },
   {
    "duration": 334,
    "start_time": "2022-05-15T15:24:35.230Z"
   },
   {
    "duration": 961,
    "start_time": "2022-05-15T15:24:35.567Z"
   },
   {
    "duration": 498,
    "start_time": "2022-05-15T15:24:36.531Z"
   },
   {
    "duration": 81,
    "start_time": "2022-05-15T15:24:37.032Z"
   },
   {
    "duration": 2495,
    "start_time": "2022-05-15T15:24:37.118Z"
   },
   {
    "duration": 21,
    "start_time": "2022-05-15T15:24:39.615Z"
   },
   {
    "duration": 707,
    "start_time": "2022-05-15T15:24:39.639Z"
   },
   {
    "duration": 337,
    "start_time": "2022-05-15T15:24:40.349Z"
   },
   {
    "duration": 335,
    "start_time": "2022-05-15T15:24:40.689Z"
   },
   {
    "duration": 1140,
    "start_time": "2022-05-15T15:24:41.027Z"
   },
   {
    "duration": 29,
    "start_time": "2022-05-15T15:24:42.170Z"
   },
   {
    "duration": 22,
    "start_time": "2022-05-15T15:26:21.912Z"
   },
   {
    "duration": 273,
    "start_time": "2022-05-15T15:27:09.700Z"
   },
   {
    "duration": 26860,
    "start_time": "2022-05-15T15:27:48.298Z"
   },
   {
    "duration": 259,
    "start_time": "2022-05-15T15:30:13.486Z"
   },
   {
    "duration": 285,
    "start_time": "2022-05-15T15:30:48.878Z"
   },
   {
    "duration": 26443,
    "start_time": "2022-05-15T15:31:29.852Z"
   },
   {
    "duration": 276,
    "start_time": "2022-05-15T15:32:39.979Z"
   },
   {
    "duration": 181,
    "start_time": "2022-05-15T15:33:43.607Z"
   },
   {
    "duration": 24808,
    "start_time": "2022-05-15T15:34:38.714Z"
   },
   {
    "duration": 30489,
    "start_time": "2022-05-15T15:36:47.990Z"
   },
   {
    "duration": 363,
    "start_time": "2022-05-15T15:37:36.934Z"
   },
   {
    "duration": 291,
    "start_time": "2022-05-15T15:37:51.785Z"
   },
   {
    "duration": 262,
    "start_time": "2022-05-15T15:39:04.349Z"
   },
   {
    "duration": 517,
    "start_time": "2022-05-15T15:39:16.470Z"
   },
   {
    "duration": 201,
    "start_time": "2022-05-15T15:39:59.346Z"
   },
   {
    "duration": 1738,
    "start_time": "2022-05-15T15:40:04.982Z"
   },
   {
    "duration": 1649,
    "start_time": "2022-05-15T15:40:18.538Z"
   },
   {
    "duration": 2658,
    "start_time": "2022-05-15T15:43:31.265Z"
   },
   {
    "duration": 1756,
    "start_time": "2022-05-15T15:43:50.188Z"
   },
   {
    "duration": 3,
    "start_time": "2022-05-15T16:10:47.139Z"
   },
   {
    "duration": 15,
    "start_time": "2022-05-15T16:51:24.161Z"
   },
   {
    "duration": 1892,
    "start_time": "2022-05-15T16:51:24.179Z"
   },
   {
    "duration": 147,
    "start_time": "2022-05-15T16:51:26.075Z"
   },
   {
    "duration": 227,
    "start_time": "2022-05-15T16:51:26.226Z"
   },
   {
    "duration": 61,
    "start_time": "2022-05-15T16:51:26.456Z"
   },
   {
    "duration": 7,
    "start_time": "2022-05-15T16:51:26.520Z"
   },
   {
    "duration": 68,
    "start_time": "2022-05-15T16:51:26.530Z"
   },
   {
    "duration": 223,
    "start_time": "2022-05-15T16:51:26.600Z"
   },
   {
    "duration": 59,
    "start_time": "2022-05-15T16:51:26.828Z"
   },
   {
    "duration": 29,
    "start_time": "2022-05-15T16:51:26.889Z"
   },
   {
    "duration": 70,
    "start_time": "2022-05-15T16:51:26.920Z"
   },
   {
    "duration": 26,
    "start_time": "2022-05-15T16:51:26.997Z"
   },
   {
    "duration": 340,
    "start_time": "2022-05-15T16:51:27.025Z"
   },
   {
    "duration": 306,
    "start_time": "2022-05-15T16:51:27.367Z"
   },
   {
    "duration": 48,
    "start_time": "2022-05-15T16:51:27.676Z"
   },
   {
    "duration": 407,
    "start_time": "2022-05-15T16:51:27.727Z"
   },
   {
    "duration": 103,
    "start_time": "2022-05-15T16:51:28.137Z"
   },
   {
    "duration": 9,
    "start_time": "2022-05-15T16:51:28.243Z"
   },
   {
    "duration": 36,
    "start_time": "2022-05-15T16:51:28.254Z"
   },
   {
    "duration": 18,
    "start_time": "2022-05-15T16:51:28.292Z"
   },
   {
    "duration": 34,
    "start_time": "2022-05-15T16:51:28.312Z"
   },
   {
    "duration": 42,
    "start_time": "2022-05-15T16:51:28.349Z"
   },
   {
    "duration": 32,
    "start_time": "2022-05-15T16:51:28.394Z"
   },
   {
    "duration": 383,
    "start_time": "2022-05-15T16:51:28.432Z"
   },
   {
    "duration": 35,
    "start_time": "2022-05-15T16:51:28.819Z"
   },
   {
    "duration": 49,
    "start_time": "2022-05-15T16:51:28.857Z"
   },
   {
    "duration": 111,
    "start_time": "2022-05-15T16:51:28.909Z"
   },
   {
    "duration": 76,
    "start_time": "2022-05-15T16:51:29.023Z"
   },
   {
    "duration": 28,
    "start_time": "2022-05-15T16:51:29.101Z"
   },
   {
    "duration": 126,
    "start_time": "2022-05-15T16:51:29.132Z"
   },
   {
    "duration": 307,
    "start_time": "2022-05-15T16:51:29.262Z"
   },
   {
    "duration": 291,
    "start_time": "2022-05-15T16:51:29.571Z"
   },
   {
    "duration": 357,
    "start_time": "2022-05-15T16:51:29.865Z"
   },
   {
    "duration": 376,
    "start_time": "2022-05-15T16:51:30.225Z"
   },
   {
    "duration": 429,
    "start_time": "2022-05-15T16:51:30.603Z"
   },
   {
    "duration": 315,
    "start_time": "2022-05-15T16:51:31.035Z"
   },
   {
    "duration": 350,
    "start_time": "2022-05-15T16:51:31.352Z"
   },
   {
    "duration": 605,
    "start_time": "2022-05-15T16:51:31.705Z"
   },
   {
    "duration": 327,
    "start_time": "2022-05-15T16:51:32.313Z"
   },
   {
    "duration": 56,
    "start_time": "2022-05-15T16:51:32.643Z"
   },
   {
    "duration": 2652,
    "start_time": "2022-05-15T16:51:32.702Z"
   },
   {
    "duration": 43,
    "start_time": "2022-05-15T16:51:35.357Z"
   },
   {
    "duration": 916,
    "start_time": "2022-05-15T16:51:35.403Z"
   },
   {
    "duration": 485,
    "start_time": "2022-05-15T16:51:36.325Z"
   },
   {
    "duration": 390,
    "start_time": "2022-05-15T16:51:36.812Z"
   },
   {
    "duration": 1190,
    "start_time": "2022-05-15T16:51:37.205Z"
   },
   {
    "duration": 2338,
    "start_time": "2022-05-15T16:51:38.397Z"
   }
  ],
  "kernelspec": {
   "display_name": "Python 3 (ipykernel)",
   "language": "python",
   "name": "python3"
  },
  "language_info": {
   "codemirror_mode": {
    "name": "ipython",
    "version": 3
   },
   "file_extension": ".py",
   "mimetype": "text/x-python",
   "name": "python",
   "nbconvert_exporter": "python",
   "pygments_lexer": "ipython3",
   "version": "3.9.12"
  },
  "toc": {
   "base_numbering": 1,
   "nav_menu": {},
   "number_sections": true,
   "sideBar": true,
   "skip_h1_title": true,
   "title_cell": "Содержание",
   "title_sidebar": "Contents",
   "toc_cell": true,
   "toc_position": {
    "height": "calc(100% - 180px)",
    "left": "10px",
    "top": "150px",
    "width": "325px"
   },
   "toc_section_display": true,
   "toc_window_display": true
  }
 },
 "nbformat": 4,
 "nbformat_minor": 4
}
