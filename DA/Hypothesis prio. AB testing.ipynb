{
 "cells": [
  {
   "cell_type": "markdown",
   "metadata": {},
   "source": [
    "# Вводная часть\n",
    "\n",
    "Бизнес - крупный интернет-магазин. Есть 2 блока задач.   \n",
    "\n",
    "**Часть 1**   \n",
    "Есть подготовленный список гипотез, которые необходимо приоритизировать, используя фреймворки ICE и RICE.   \n",
    "\n",
    "**Часть 2**  \n",
    "Проведен A/B тест. Необходимо проанализировать результаты и принять решение о дальнейших действиях.\n",
    "\n",
    "## Часть 1. Приоритизация гипотез.\n",
    "\n",
    "Есть подготовленный список гипотез, которые необходимо приоритизировать, используя фреймворки ICE и RICE. \n",
    "\n",
    "### Описание данных\n",
    "\n",
    "Файл с данными - `/datasets/hypothesis.csv`\n",
    "\n",
    "`Hypothesis` — краткое описание гипотезы;   \n",
    "`Reach` — охват пользователей по 10-балльной шкале;   \n",
    "`Impact` — влияние на пользователей по 10-балльной шкале;   \n",
    "`Confidence` — уверенность в гипотезе по 10-балльной шкале;   \n",
    "`Efforts` — затраты ресурсов на проверку гипотезы по 10-балльной шкале. Чем больше значение Efforts, тем дороже проверка гипотезы.\n",
    "### Основная часть"
   ]
  },
  {
   "cell_type": "code",
   "execution_count": 1,
   "metadata": {},
   "outputs": [],
   "source": [
    "# импортирую необходимые библиотеки для обеих частей работы\n",
    "import pandas as pd\n",
    "import scipy.stats as stats\n",
    "import datetime as dt\n",
    "import numpy as np\n",
    "import matplotlib.pyplot as plt\n",
    "from pandas.plotting import register_matplotlib_converters"
   ]
  },
  {
   "cell_type": "code",
   "execution_count": 2,
   "metadata": {},
   "outputs": [
    {
     "data": {
      "text/html": [
       "<div>\n",
       "<style scoped>\n",
       "    .dataframe tbody tr th:only-of-type {\n",
       "        vertical-align: middle;\n",
       "    }\n",
       "\n",
       "    .dataframe tbody tr th {\n",
       "        vertical-align: top;\n",
       "    }\n",
       "\n",
       "    .dataframe thead th {\n",
       "        text-align: right;\n",
       "    }\n",
       "</style>\n",
       "<table border=\"1\" class=\"dataframe\">\n",
       "  <thead>\n",
       "    <tr style=\"text-align: right;\">\n",
       "      <th></th>\n",
       "      <th>Hypothesis</th>\n",
       "      <th>Reach</th>\n",
       "      <th>Impact</th>\n",
       "      <th>Confidence</th>\n",
       "      <th>Efforts</th>\n",
       "    </tr>\n",
       "  </thead>\n",
       "  <tbody>\n",
       "    <tr>\n",
       "      <th>0</th>\n",
       "      <td>Добавить два новых канала привлечения трафика, что позволит привлекать на 30% больше пользователей</td>\n",
       "      <td>3</td>\n",
       "      <td>10</td>\n",
       "      <td>8</td>\n",
       "      <td>6</td>\n",
       "    </tr>\n",
       "    <tr>\n",
       "      <th>1</th>\n",
       "      <td>Запустить собственную службу доставки, что сократит срок доставки заказов</td>\n",
       "      <td>2</td>\n",
       "      <td>5</td>\n",
       "      <td>4</td>\n",
       "      <td>10</td>\n",
       "    </tr>\n",
       "    <tr>\n",
       "      <th>2</th>\n",
       "      <td>Добавить блоки рекомендаций товаров на сайт интернет магазина, чтобы повысить конверсию и средний чек заказа</td>\n",
       "      <td>8</td>\n",
       "      <td>3</td>\n",
       "      <td>7</td>\n",
       "      <td>3</td>\n",
       "    </tr>\n",
       "    <tr>\n",
       "      <th>3</th>\n",
       "      <td>Изменить структура категорий, что увеличит конверсию, т.к. пользователи быстрее найдут нужный товар</td>\n",
       "      <td>8</td>\n",
       "      <td>3</td>\n",
       "      <td>3</td>\n",
       "      <td>8</td>\n",
       "    </tr>\n",
       "    <tr>\n",
       "      <th>4</th>\n",
       "      <td>Изменить цвет фона главной страницы, чтобы увеличить вовлеченность пользователей</td>\n",
       "      <td>3</td>\n",
       "      <td>1</td>\n",
       "      <td>1</td>\n",
       "      <td>1</td>\n",
       "    </tr>\n",
       "    <tr>\n",
       "      <th>5</th>\n",
       "      <td>Добавить страницу отзывов клиентов о магазине, что позволит увеличить количество заказов</td>\n",
       "      <td>3</td>\n",
       "      <td>2</td>\n",
       "      <td>2</td>\n",
       "      <td>3</td>\n",
       "    </tr>\n",
       "    <tr>\n",
       "      <th>6</th>\n",
       "      <td>Показать на главной странице баннеры с актуальными акциями и распродажами, чтобы увеличить конверсию</td>\n",
       "      <td>5</td>\n",
       "      <td>3</td>\n",
       "      <td>8</td>\n",
       "      <td>3</td>\n",
       "    </tr>\n",
       "    <tr>\n",
       "      <th>7</th>\n",
       "      <td>Добавить форму подписки на все основные страницы, чтобы собрать базу клиентов для email-рассылок</td>\n",
       "      <td>10</td>\n",
       "      <td>7</td>\n",
       "      <td>8</td>\n",
       "      <td>5</td>\n",
       "    </tr>\n",
       "    <tr>\n",
       "      <th>8</th>\n",
       "      <td>Запустить акцию, дающую скидку на товар в день рождения</td>\n",
       "      <td>1</td>\n",
       "      <td>9</td>\n",
       "      <td>9</td>\n",
       "      <td>5</td>\n",
       "    </tr>\n",
       "  </tbody>\n",
       "</table>\n",
       "</div>"
      ],
      "text/plain": [
       "                                                                                                     Hypothesis  \\\n",
       "0            Добавить два новых канала привлечения трафика, что позволит привлекать на 30% больше пользователей   \n",
       "1                                     Запустить собственную службу доставки, что сократит срок доставки заказов   \n",
       "2  Добавить блоки рекомендаций товаров на сайт интернет магазина, чтобы повысить конверсию и средний чек заказа   \n",
       "3           Изменить структура категорий, что увеличит конверсию, т.к. пользователи быстрее найдут нужный товар   \n",
       "4                              Изменить цвет фона главной страницы, чтобы увеличить вовлеченность пользователей   \n",
       "5                      Добавить страницу отзывов клиентов о магазине, что позволит увеличить количество заказов   \n",
       "6          Показать на главной странице баннеры с актуальными акциями и распродажами, чтобы увеличить конверсию   \n",
       "7              Добавить форму подписки на все основные страницы, чтобы собрать базу клиентов для email-рассылок   \n",
       "8                                                       Запустить акцию, дающую скидку на товар в день рождения   \n",
       "\n",
       "   Reach  Impact  Confidence  Efforts  \n",
       "0      3      10           8        6  \n",
       "1      2       5           4       10  \n",
       "2      8       3           7        3  \n",
       "3      8       3           3        8  \n",
       "4      3       1           1        1  \n",
       "5      3       2           2        3  \n",
       "6      5       3           8        3  \n",
       "7     10       7           8        5  \n",
       "8      1       9           9        5  "
      ]
     },
     "metadata": {},
     "output_type": "display_data"
    }
   ],
   "source": [
    "# загружаю датасет и знакомлюсь с данными\n",
    "hypo = pd.read_csv('hypothesis.csv')\n",
    "pd.set_option('display.max_colwidth', None) # чтобы весь текст гипотезы помещался\n",
    "pd.set_option('display.float_format', '{:.2f}'.format) # округление значений до 2 знаков после запятой\n",
    "display(hypo)"
   ]
  },
  {
   "cell_type": "markdown",
   "metadata": {},
   "source": [
    "Можно исправить опечатки в формулировках гипотез и привести названия столбцов в `lower case`, но критичности в этом в моем кейсе нет, т.к. мало работы с ними.\n",
    "\n",
    "---\n",
    "Есть 8 проскоренных по разным параметрам гипотез. Осталось их приоритизировать.\n",
    "#### Приоритизация по ICE фреймворку"
   ]
  },
  {
   "cell_type": "code",
   "execution_count": 3,
   "metadata": {},
   "outputs": [
    {
     "data": {
      "text/html": [
       "<div>\n",
       "<style scoped>\n",
       "    .dataframe tbody tr th:only-of-type {\n",
       "        vertical-align: middle;\n",
       "    }\n",
       "\n",
       "    .dataframe tbody tr th {\n",
       "        vertical-align: top;\n",
       "    }\n",
       "\n",
       "    .dataframe thead th {\n",
       "        text-align: right;\n",
       "    }\n",
       "</style>\n",
       "<table border=\"1\" class=\"dataframe\">\n",
       "  <thead>\n",
       "    <tr style=\"text-align: right;\">\n",
       "      <th></th>\n",
       "      <th>Hypothesis</th>\n",
       "      <th>ICE</th>\n",
       "    </tr>\n",
       "  </thead>\n",
       "  <tbody>\n",
       "    <tr>\n",
       "      <th>8</th>\n",
       "      <td>Запустить акцию, дающую скидку на товар в день рождения</td>\n",
       "      <td>16.20</td>\n",
       "    </tr>\n",
       "    <tr>\n",
       "      <th>0</th>\n",
       "      <td>Добавить два новых канала привлечения трафика, что позволит привлекать на 30% больше пользователей</td>\n",
       "      <td>13.33</td>\n",
       "    </tr>\n",
       "    <tr>\n",
       "      <th>7</th>\n",
       "      <td>Добавить форму подписки на все основные страницы, чтобы собрать базу клиентов для email-рассылок</td>\n",
       "      <td>11.20</td>\n",
       "    </tr>\n",
       "    <tr>\n",
       "      <th>6</th>\n",
       "      <td>Показать на главной странице баннеры с актуальными акциями и распродажами, чтобы увеличить конверсию</td>\n",
       "      <td>8.00</td>\n",
       "    </tr>\n",
       "    <tr>\n",
       "      <th>2</th>\n",
       "      <td>Добавить блоки рекомендаций товаров на сайт интернет магазина, чтобы повысить конверсию и средний чек заказа</td>\n",
       "      <td>7.00</td>\n",
       "    </tr>\n",
       "    <tr>\n",
       "      <th>1</th>\n",
       "      <td>Запустить собственную службу доставки, что сократит срок доставки заказов</td>\n",
       "      <td>2.00</td>\n",
       "    </tr>\n",
       "    <tr>\n",
       "      <th>5</th>\n",
       "      <td>Добавить страницу отзывов клиентов о магазине, что позволит увеличить количество заказов</td>\n",
       "      <td>1.33</td>\n",
       "    </tr>\n",
       "    <tr>\n",
       "      <th>3</th>\n",
       "      <td>Изменить структура категорий, что увеличит конверсию, т.к. пользователи быстрее найдут нужный товар</td>\n",
       "      <td>1.12</td>\n",
       "    </tr>\n",
       "    <tr>\n",
       "      <th>4</th>\n",
       "      <td>Изменить цвет фона главной страницы, чтобы увеличить вовлеченность пользователей</td>\n",
       "      <td>1.00</td>\n",
       "    </tr>\n",
       "  </tbody>\n",
       "</table>\n",
       "</div>"
      ],
      "text/plain": [
       "                                                                                                     Hypothesis  \\\n",
       "8                                                       Запустить акцию, дающую скидку на товар в день рождения   \n",
       "0            Добавить два новых канала привлечения трафика, что позволит привлекать на 30% больше пользователей   \n",
       "7              Добавить форму подписки на все основные страницы, чтобы собрать базу клиентов для email-рассылок   \n",
       "6          Показать на главной странице баннеры с актуальными акциями и распродажами, чтобы увеличить конверсию   \n",
       "2  Добавить блоки рекомендаций товаров на сайт интернет магазина, чтобы повысить конверсию и средний чек заказа   \n",
       "1                                     Запустить собственную службу доставки, что сократит срок доставки заказов   \n",
       "5                      Добавить страницу отзывов клиентов о магазине, что позволит увеличить количество заказов   \n",
       "3           Изменить структура категорий, что увеличит конверсию, т.к. пользователи быстрее найдут нужный товар   \n",
       "4                              Изменить цвет фона главной страницы, чтобы увеличить вовлеченность пользователей   \n",
       "\n",
       "    ICE  \n",
       "8 16.20  \n",
       "0 13.33  \n",
       "7 11.20  \n",
       "6  8.00  \n",
       "2  7.00  \n",
       "1  2.00  \n",
       "5  1.33  \n",
       "3  1.12  \n",
       "4  1.00  "
      ]
     },
     "metadata": {},
     "output_type": "display_data"
    }
   ],
   "source": [
    "# добавляю столбец со значениями ICE\n",
    "hypo['ICE'] = (\n",
    "    hypo['Impact'] * hypo['Confidence'] / hypo['Efforts']\n",
    ")\n",
    "display(hypo[['Hypothesis', 'ICE']].sort_values(by='ICE', ascending=False))"
   ]
  },
  {
   "cell_type": "markdown",
   "metadata": {},
   "source": [
    "Топ-3 гипотезы:\n",
    "- акция на скидку в день рождения\n",
    "- подключить два новых канала привлечения\n",
    "- добавление формы подписки для сбора базы клиентов для email рассылок\n",
    "\n",
    "Посмотрю как изменится приоритет у гипотез, применив другой фреймворк.\n",
    "#### Приоритизация по RICE фреймворку"
   ]
  },
  {
   "cell_type": "code",
   "execution_count": 4,
   "metadata": {},
   "outputs": [
    {
     "data": {
      "text/html": [
       "<div>\n",
       "<style scoped>\n",
       "    .dataframe tbody tr th:only-of-type {\n",
       "        vertical-align: middle;\n",
       "    }\n",
       "\n",
       "    .dataframe tbody tr th {\n",
       "        vertical-align: top;\n",
       "    }\n",
       "\n",
       "    .dataframe thead th {\n",
       "        text-align: right;\n",
       "    }\n",
       "</style>\n",
       "<table border=\"1\" class=\"dataframe\">\n",
       "  <thead>\n",
       "    <tr style=\"text-align: right;\">\n",
       "      <th></th>\n",
       "      <th>Hypothesis</th>\n",
       "      <th>RICE</th>\n",
       "    </tr>\n",
       "  </thead>\n",
       "  <tbody>\n",
       "    <tr>\n",
       "      <th>7</th>\n",
       "      <td>Добавить форму подписки на все основные страницы, чтобы собрать базу клиентов для email-рассылок</td>\n",
       "      <td>112.00</td>\n",
       "    </tr>\n",
       "    <tr>\n",
       "      <th>2</th>\n",
       "      <td>Добавить блоки рекомендаций товаров на сайт интернет магазина, чтобы повысить конверсию и средний чек заказа</td>\n",
       "      <td>56.00</td>\n",
       "    </tr>\n",
       "    <tr>\n",
       "      <th>0</th>\n",
       "      <td>Добавить два новых канала привлечения трафика, что позволит привлекать на 30% больше пользователей</td>\n",
       "      <td>40.00</td>\n",
       "    </tr>\n",
       "    <tr>\n",
       "      <th>6</th>\n",
       "      <td>Показать на главной странице баннеры с актуальными акциями и распродажами, чтобы увеличить конверсию</td>\n",
       "      <td>40.00</td>\n",
       "    </tr>\n",
       "    <tr>\n",
       "      <th>8</th>\n",
       "      <td>Запустить акцию, дающую скидку на товар в день рождения</td>\n",
       "      <td>16.20</td>\n",
       "    </tr>\n",
       "    <tr>\n",
       "      <th>3</th>\n",
       "      <td>Изменить структура категорий, что увеличит конверсию, т.к. пользователи быстрее найдут нужный товар</td>\n",
       "      <td>9.00</td>\n",
       "    </tr>\n",
       "    <tr>\n",
       "      <th>1</th>\n",
       "      <td>Запустить собственную службу доставки, что сократит срок доставки заказов</td>\n",
       "      <td>4.00</td>\n",
       "    </tr>\n",
       "    <tr>\n",
       "      <th>5</th>\n",
       "      <td>Добавить страницу отзывов клиентов о магазине, что позволит увеличить количество заказов</td>\n",
       "      <td>4.00</td>\n",
       "    </tr>\n",
       "    <tr>\n",
       "      <th>4</th>\n",
       "      <td>Изменить цвет фона главной страницы, чтобы увеличить вовлеченность пользователей</td>\n",
       "      <td>3.00</td>\n",
       "    </tr>\n",
       "  </tbody>\n",
       "</table>\n",
       "</div>"
      ],
      "text/plain": [
       "                                                                                                     Hypothesis  \\\n",
       "7              Добавить форму подписки на все основные страницы, чтобы собрать базу клиентов для email-рассылок   \n",
       "2  Добавить блоки рекомендаций товаров на сайт интернет магазина, чтобы повысить конверсию и средний чек заказа   \n",
       "0            Добавить два новых канала привлечения трафика, что позволит привлекать на 30% больше пользователей   \n",
       "6          Показать на главной странице баннеры с актуальными акциями и распродажами, чтобы увеличить конверсию   \n",
       "8                                                       Запустить акцию, дающую скидку на товар в день рождения   \n",
       "3           Изменить структура категорий, что увеличит конверсию, т.к. пользователи быстрее найдут нужный товар   \n",
       "1                                     Запустить собственную службу доставки, что сократит срок доставки заказов   \n",
       "5                      Добавить страницу отзывов клиентов о магазине, что позволит увеличить количество заказов   \n",
       "4                              Изменить цвет фона главной страницы, чтобы увеличить вовлеченность пользователей   \n",
       "\n",
       "    RICE  \n",
       "7 112.00  \n",
       "2  56.00  \n",
       "0  40.00  \n",
       "6  40.00  \n",
       "8  16.20  \n",
       "3   9.00  \n",
       "1   4.00  \n",
       "5   4.00  \n",
       "4   3.00  "
      ]
     },
     "metadata": {},
     "output_type": "display_data"
    }
   ],
   "source": [
    "# добавляю столбец со значениями RICE\n",
    "hypo['RICE'] = (\n",
    "    hypo['Reach'] * hypo['Impact'] * hypo['Confidence'] / hypo['Efforts']\n",
    ")\n",
    "display(hypo[['Hypothesis', 'RICE']].sort_values(by='RICE', ascending=False))"
   ]
  },
  {
   "cell_type": "markdown",
   "metadata": {},
   "source": [
    "Видно что топ гипотез изменился:\n",
    "- на первое место пришла гипотеза с формой подписки\n",
    "- добавились гипотезы с баннерами на главной и блоками рекомендаций для увеличения конверсии\n",
    "- из топа ушла гипотеза с акцией на скидку в день рождения\n",
    "\n",
    "Это изменение связано с учетом охвата аудитории при приоритизации гипотез: гипотезы с бОльшим охватом вышли в топ.\n",
    "\n",
    "#### Вывод\n",
    "- Список гипотез был приоритизирован с помощью двух фреймворков - ICE и RICE.\n",
    "- Существуют различия в приоритетах проверки гипотез в зависимости от используемого фреймворка, связанные с учетом охвата аудитории.\n",
    "- При использовании любого фреймворка в топе есть гипотезы формы подписки для сбора базы данных клиентов для рассылок и подключении двух новых каналов привлечения.\n",
    "Начать проверку, считаю, нужно именно с гипотез, которые и с учетом охвата и без него есть в топе. Дополнительно большой охват несколько упростит проведение A/B теста."
   ]
  },
  {
   "cell_type": "markdown",
   "metadata": {},
   "source": [
    "## Часть 2. Анализ A/B теста.\n",
    "\n",
    "Проведен A/B тест. Необходимо проанализировать результаты и принять решение о дальнейших действиях.\n",
    "\n",
    "### Описание данных\n",
    "\n",
    "Файлы с данными: `/datasets/orders.csv` - заказы, `/datasets/visitors.csv` - посетители.\n",
    "\n",
    "**Заказы**   \n",
    "`transactionId` — идентификатор заказа;   \n",
    "`visitorId` — идентификатор пользователя, совершившего заказ;   \n",
    "`date` — дата, когда был совершён заказ;   \n",
    "`revenue` — выручка заказа;   \n",
    "`group` — группа A/B-теста, в которую попал заказ.   \n",
    "\n",
    "**Посетители**   \n",
    "`date` — дата;   \n",
    "`group` — группа A/B-теста;   \n",
    "`visitors` — количество пользователей в указанную дату в указанной группе A/B-теста.   \n",
    "\n",
    "### Основная часть"
   ]
  },
  {
   "cell_type": "code",
   "execution_count": 5,
   "metadata": {},
   "outputs": [],
   "source": [
    "# загружаю датасеты для работы\n",
    "orders = pd.read_csv('orders.csv')\n",
    "visitors = pd.read_csv('visitors.csv')"
   ]
  },
  {
   "cell_type": "code",
   "execution_count": 6,
   "metadata": {
    "scrolled": false
   },
   "outputs": [
    {
     "data": {
      "text/html": [
       "<div>\n",
       "<style scoped>\n",
       "    .dataframe tbody tr th:only-of-type {\n",
       "        vertical-align: middle;\n",
       "    }\n",
       "\n",
       "    .dataframe tbody tr th {\n",
       "        vertical-align: top;\n",
       "    }\n",
       "\n",
       "    .dataframe thead th {\n",
       "        text-align: right;\n",
       "    }\n",
       "</style>\n",
       "<table border=\"1\" class=\"dataframe\">\n",
       "  <thead>\n",
       "    <tr style=\"text-align: right;\">\n",
       "      <th></th>\n",
       "      <th>transactionId</th>\n",
       "      <th>visitorId</th>\n",
       "      <th>date</th>\n",
       "      <th>revenue</th>\n",
       "      <th>group</th>\n",
       "    </tr>\n",
       "  </thead>\n",
       "  <tbody>\n",
       "    <tr>\n",
       "      <th>0</th>\n",
       "      <td>3667963787</td>\n",
       "      <td>3312258926</td>\n",
       "      <td>2019-08-15</td>\n",
       "      <td>1650</td>\n",
       "      <td>B</td>\n",
       "    </tr>\n",
       "    <tr>\n",
       "      <th>1</th>\n",
       "      <td>2804400009</td>\n",
       "      <td>3642806036</td>\n",
       "      <td>2019-08-15</td>\n",
       "      <td>730</td>\n",
       "      <td>B</td>\n",
       "    </tr>\n",
       "    <tr>\n",
       "      <th>2</th>\n",
       "      <td>2961555356</td>\n",
       "      <td>4069496402</td>\n",
       "      <td>2019-08-15</td>\n",
       "      <td>400</td>\n",
       "      <td>A</td>\n",
       "    </tr>\n",
       "    <tr>\n",
       "      <th>3</th>\n",
       "      <td>3797467345</td>\n",
       "      <td>1196621759</td>\n",
       "      <td>2019-08-15</td>\n",
       "      <td>9759</td>\n",
       "      <td>B</td>\n",
       "    </tr>\n",
       "    <tr>\n",
       "      <th>4</th>\n",
       "      <td>2282983706</td>\n",
       "      <td>2322279887</td>\n",
       "      <td>2019-08-15</td>\n",
       "      <td>2308</td>\n",
       "      <td>B</td>\n",
       "    </tr>\n",
       "  </tbody>\n",
       "</table>\n",
       "</div>"
      ],
      "text/plain": [
       "   transactionId   visitorId        date  revenue group\n",
       "0     3667963787  3312258926  2019-08-15     1650     B\n",
       "1     2804400009  3642806036  2019-08-15      730     B\n",
       "2     2961555356  4069496402  2019-08-15      400     A\n",
       "3     3797467345  1196621759  2019-08-15     9759     B\n",
       "4     2282983706  2322279887  2019-08-15     2308     B"
      ]
     },
     "metadata": {},
     "output_type": "display_data"
    },
    {
     "name": "stdout",
     "output_type": "stream",
     "text": [
      "<class 'pandas.core.frame.DataFrame'>\n",
      "RangeIndex: 1197 entries, 0 to 1196\n",
      "Data columns (total 5 columns):\n",
      " #   Column         Non-Null Count  Dtype \n",
      "---  ------         --------------  ----- \n",
      " 0   transactionId  1197 non-null   int64 \n",
      " 1   visitorId      1197 non-null   int64 \n",
      " 2   date           1197 non-null   object\n",
      " 3   revenue        1197 non-null   int64 \n",
      " 4   group          1197 non-null   object\n",
      "dtypes: int64(3), object(2)\n",
      "memory usage: 46.9+ KB\n"
     ]
    },
    {
     "data": {
      "text/plain": [
       "None"
      ]
     },
     "metadata": {},
     "output_type": "display_data"
    },
    {
     "data": {
      "text/html": [
       "<div>\n",
       "<style scoped>\n",
       "    .dataframe tbody tr th:only-of-type {\n",
       "        vertical-align: middle;\n",
       "    }\n",
       "\n",
       "    .dataframe tbody tr th {\n",
       "        vertical-align: top;\n",
       "    }\n",
       "\n",
       "    .dataframe thead th {\n",
       "        text-align: right;\n",
       "    }\n",
       "</style>\n",
       "<table border=\"1\" class=\"dataframe\">\n",
       "  <thead>\n",
       "    <tr style=\"text-align: right;\">\n",
       "      <th></th>\n",
       "      <th>date</th>\n",
       "      <th>group</th>\n",
       "      <th>visitors</th>\n",
       "    </tr>\n",
       "  </thead>\n",
       "  <tbody>\n",
       "    <tr>\n",
       "      <th>0</th>\n",
       "      <td>2019-08-01</td>\n",
       "      <td>A</td>\n",
       "      <td>719</td>\n",
       "    </tr>\n",
       "    <tr>\n",
       "      <th>1</th>\n",
       "      <td>2019-08-02</td>\n",
       "      <td>A</td>\n",
       "      <td>619</td>\n",
       "    </tr>\n",
       "    <tr>\n",
       "      <th>2</th>\n",
       "      <td>2019-08-03</td>\n",
       "      <td>A</td>\n",
       "      <td>507</td>\n",
       "    </tr>\n",
       "    <tr>\n",
       "      <th>3</th>\n",
       "      <td>2019-08-04</td>\n",
       "      <td>A</td>\n",
       "      <td>717</td>\n",
       "    </tr>\n",
       "    <tr>\n",
       "      <th>4</th>\n",
       "      <td>2019-08-05</td>\n",
       "      <td>A</td>\n",
       "      <td>756</td>\n",
       "    </tr>\n",
       "  </tbody>\n",
       "</table>\n",
       "</div>"
      ],
      "text/plain": [
       "         date group  visitors\n",
       "0  2019-08-01     A       719\n",
       "1  2019-08-02     A       619\n",
       "2  2019-08-03     A       507\n",
       "3  2019-08-04     A       717\n",
       "4  2019-08-05     A       756"
      ]
     },
     "metadata": {},
     "output_type": "display_data"
    },
    {
     "name": "stdout",
     "output_type": "stream",
     "text": [
      "<class 'pandas.core.frame.DataFrame'>\n",
      "RangeIndex: 62 entries, 0 to 61\n",
      "Data columns (total 3 columns):\n",
      " #   Column    Non-Null Count  Dtype \n",
      "---  ------    --------------  ----- \n",
      " 0   date      62 non-null     object\n",
      " 1   group     62 non-null     object\n",
      " 2   visitors  62 non-null     int64 \n",
      "dtypes: int64(1), object(2)\n",
      "memory usage: 1.6+ KB\n"
     ]
    },
    {
     "data": {
      "text/plain": [
       "None"
      ]
     },
     "metadata": {},
     "output_type": "display_data"
    }
   ],
   "source": [
    "for i in [orders, visitors]:\n",
    "    display(i.head())\n",
    "    display(i.info())"
   ]
  },
  {
   "cell_type": "markdown",
   "metadata": {},
   "source": [
    "Пустых значений нет, нужно привести столбцы с датами в формат datetime."
   ]
  },
  {
   "cell_type": "code",
   "execution_count": 7,
   "metadata": {},
   "outputs": [],
   "source": [
    "# приведу столбцы с датой к формату datetime\n",
    "orders['date'] = orders['date'].map(\n",
    "    lambda x: dt.datetime.strptime(x, '%Y-%m-%d')\n",
    ")\n",
    "visitors['date'] = visitors['date'].map(\n",
    "    lambda x: dt.datetime.strptime(x, '%Y-%m-%d')\n",
    ")"
   ]
  },
  {
   "cell_type": "code",
   "execution_count": 8,
   "metadata": {},
   "outputs": [
    {
     "name": "stdout",
     "output_type": "stream",
     "text": [
      "<class 'pandas.core.frame.DataFrame'>\n",
      "RangeIndex: 1197 entries, 0 to 1196\n",
      "Data columns (total 5 columns):\n",
      " #   Column         Non-Null Count  Dtype         \n",
      "---  ------         --------------  -----         \n",
      " 0   transactionId  1197 non-null   int64         \n",
      " 1   visitorId      1197 non-null   int64         \n",
      " 2   date           1197 non-null   datetime64[ns]\n",
      " 3   revenue        1197 non-null   int64         \n",
      " 4   group          1197 non-null   object        \n",
      "dtypes: datetime64[ns](1), int64(3), object(1)\n",
      "memory usage: 46.9+ KB\n",
      "\n",
      "<class 'pandas.core.frame.DataFrame'>\n",
      "RangeIndex: 62 entries, 0 to 61\n",
      "Data columns (total 3 columns):\n",
      " #   Column    Non-Null Count  Dtype         \n",
      "---  ------    --------------  -----         \n",
      " 0   date      62 non-null     datetime64[ns]\n",
      " 1   group     62 non-null     object        \n",
      " 2   visitors  62 non-null     int64         \n",
      "dtypes: datetime64[ns](1), int64(1), object(1)\n",
      "memory usage: 1.6+ KB\n"
     ]
    }
   ],
   "source": [
    "orders.info()\n",
    "print()\n",
    "visitors.info()"
   ]
  },
  {
   "cell_type": "markdown",
   "metadata": {},
   "source": [
    "#### Кумулятивная выручка по группам\n",
    "Сперва подготовлю датафрейм для анализа кумулятивных значений."
   ]
  },
  {
   "cell_type": "code",
   "execution_count": 9,
   "metadata": {},
   "outputs": [],
   "source": [
    "datesGroups = orders[['date', 'group']].drop_duplicates()\n",
    "\n",
    "ordersAggregated = datesGroups.apply(\n",
    "    lambda x: orders[\n",
    "        np.logical_and(\n",
    "            orders['date'] <= x['date'], orders['group'] == x['group']\n",
    "        )\n",
    "    ].agg(\n",
    "        {\n",
    "            'date': 'max',\n",
    "            'group': 'max',\n",
    "            'transactionId': 'nunique',\n",
    "            'visitorId': 'nunique',\n",
    "            'revenue': 'sum',\n",
    "        }\n",
    "    ),\n",
    "    axis=1,\n",
    ").sort_values(by=['date', 'group'])\n",
    "\n",
    "visitorsAggregated = datesGroups.apply(\n",
    "    lambda x: visitors[\n",
    "        np.logical_and(\n",
    "            visitors['date'] <= x['date'], visitors['group'] == x['group']\n",
    "        )\n",
    "    ].agg({'date': 'max', 'group': 'max', 'visitors': 'sum'}),\n",
    "    axis=1,\n",
    ").sort_values(by=['date', 'group'])\n",
    "\n",
    "cumulativeData = ordersAggregated.merge(\n",
    "    visitorsAggregated, left_on=['date', 'group'], right_on=['date', 'group']\n",
    ")\n",
    "cumulativeData.columns = [\n",
    "    'date',\n",
    "    'group',\n",
    "    'orders',\n",
    "    'buyers',\n",
    "    'revenue',\n",
    "    'visitors',\n",
    "]"
   ]
  },
  {
   "cell_type": "code",
   "execution_count": 10,
   "metadata": {},
   "outputs": [
    {
     "data": {
      "text/html": [
       "<div>\n",
       "<style scoped>\n",
       "    .dataframe tbody tr th:only-of-type {\n",
       "        vertical-align: middle;\n",
       "    }\n",
       "\n",
       "    .dataframe tbody tr th {\n",
       "        vertical-align: top;\n",
       "    }\n",
       "\n",
       "    .dataframe thead th {\n",
       "        text-align: right;\n",
       "    }\n",
       "</style>\n",
       "<table border=\"1\" class=\"dataframe\">\n",
       "  <thead>\n",
       "    <tr style=\"text-align: right;\">\n",
       "      <th></th>\n",
       "      <th>date</th>\n",
       "      <th>group</th>\n",
       "      <th>orders</th>\n",
       "      <th>buyers</th>\n",
       "      <th>revenue</th>\n",
       "      <th>visitors</th>\n",
       "    </tr>\n",
       "  </thead>\n",
       "  <tbody>\n",
       "    <tr>\n",
       "      <th>0</th>\n",
       "      <td>2019-08-01</td>\n",
       "      <td>A</td>\n",
       "      <td>24</td>\n",
       "      <td>20</td>\n",
       "      <td>148579</td>\n",
       "      <td>719</td>\n",
       "    </tr>\n",
       "    <tr>\n",
       "      <th>1</th>\n",
       "      <td>2019-08-01</td>\n",
       "      <td>B</td>\n",
       "      <td>21</td>\n",
       "      <td>20</td>\n",
       "      <td>101217</td>\n",
       "      <td>713</td>\n",
       "    </tr>\n",
       "    <tr>\n",
       "      <th>2</th>\n",
       "      <td>2019-08-02</td>\n",
       "      <td>A</td>\n",
       "      <td>44</td>\n",
       "      <td>38</td>\n",
       "      <td>242401</td>\n",
       "      <td>1338</td>\n",
       "    </tr>\n",
       "    <tr>\n",
       "      <th>3</th>\n",
       "      <td>2019-08-02</td>\n",
       "      <td>B</td>\n",
       "      <td>45</td>\n",
       "      <td>43</td>\n",
       "      <td>266748</td>\n",
       "      <td>1294</td>\n",
       "    </tr>\n",
       "    <tr>\n",
       "      <th>4</th>\n",
       "      <td>2019-08-03</td>\n",
       "      <td>A</td>\n",
       "      <td>68</td>\n",
       "      <td>62</td>\n",
       "      <td>354874</td>\n",
       "      <td>1845</td>\n",
       "    </tr>\n",
       "  </tbody>\n",
       "</table>\n",
       "</div>"
      ],
      "text/plain": [
       "        date group  orders  buyers  revenue  visitors\n",
       "0 2019-08-01     A      24      20   148579       719\n",
       "1 2019-08-01     B      21      20   101217       713\n",
       "2 2019-08-02     A      44      38   242401      1338\n",
       "3 2019-08-02     B      45      43   266748      1294\n",
       "4 2019-08-03     A      68      62   354874      1845"
      ]
     },
     "execution_count": 10,
     "metadata": {},
     "output_type": "execute_result"
    }
   ],
   "source": [
    "cumulativeData.head()"
   ]
  },
  {
   "cell_type": "code",
   "execution_count": 11,
   "metadata": {},
   "outputs": [],
   "source": [
    "# кумулятивная выручка по группам\n",
    "cumulativeRevenueA = cumulativeData[cumulativeData['group']=='A'][['date', 'revenue', 'orders']]\n",
    "cumulativeRevenueB = cumulativeData[cumulativeData['group']=='B'][['date', 'revenue', 'orders']]"
   ]
  },
  {
   "cell_type": "code",
   "execution_count": 12,
   "metadata": {},
   "outputs": [
    {
     "data": {
      "image/png": "[encoded data removed]",
      "text/plain": [
       "<Figure size 864x576 with 1 Axes>"
      ]
     },
     "metadata": {
      "needs_background": "light"
     },
     "output_type": "display_data"
    }
   ],
   "source": [
    "plt.figure(figsize=(12, 8))\n",
    "plt.grid(True)\n",
    "plt.title('Кумулятивная выручка по группам')\n",
    "plt.plot(cumulativeRevenueA['date'], cumulativeRevenueA['revenue'], label='A')\n",
    "plt.plot(cumulativeRevenueB['date'], cumulativeRevenueB['revenue'], label='B')\n",
    "plt.xlabel('Дата')\n",
    "plt.ylabel('Выручка')\n",
    "plt.legend()\n",
    "plt.show()"
   ]
  },
  {
   "cell_type": "markdown",
   "metadata": {},
   "source": [
    "Средняя выручка обеих групп показывает стабильный плавный рост, это хорошо. Но 18 августа произошел скачок выручке в группе В и далее снова плавный рост. Вероятно, этот скачок связан с выбросом. Посмотрю позднее.\n",
    "\n",
    "#### Кумулятивный средний чек по группам"
   ]
  },
  {
   "cell_type": "code",
   "execution_count": 13,
   "metadata": {},
   "outputs": [
    {
     "data": {
      "image/png": "[encoded data removed]",
      "text/plain": [
       "<Figure size 864x576 with 1 Axes>"
      ]
     },
     "metadata": {
      "needs_background": "light"
     },
     "output_type": "display_data"
    }
   ],
   "source": [
    "plt.figure(figsize=(12, 8))\n",
    "plt.grid(True)\n",
    "plt.title('Кумулятивный средний чек по группам')\n",
    "plt.plot(cumulativeRevenueA['date'], cumulativeRevenueA['revenue']/cumulativeRevenueA['orders'], label='A')\n",
    "plt.plot(cumulativeRevenueB['date'], cumulativeRevenueB['revenue']/cumulativeRevenueB['orders'], label='B')\n",
    "plt.xlabel('Дата')\n",
    "plt.ylabel('Средний чек')\n",
    "plt.legend()\n",
    "plt.show()"
   ]
  },
  {
   "cell_type": "markdown",
   "metadata": {},
   "source": [
    "На графике виден тот же скачок в группе В перед тем как графики нормализовались. Дополнительно есть падение среднего чека после этого всплеска в группе B, в то время когда средний чек группы А показывает небольшой рост.   \n",
    "Посмотрю на график относительного изменения кумулятивного среднего чека."
   ]
  },
  {
   "cell_type": "code",
   "execution_count": 14,
   "metadata": {},
   "outputs": [],
   "source": [
    "mergedCumulativeRevenue = cumulativeRevenueA.merge(cumulativeRevenueB, left_on='date', right_on='date', how='left', suffixes=['A', 'B'])"
   ]
  },
  {
   "cell_type": "code",
   "execution_count": 15,
   "metadata": {},
   "outputs": [
    {
     "data": {
      "image/png": "[encoded data removed]",
      "text/plain": [
       "<Figure size 864x576 with 1 Axes>"
      ]
     },
     "metadata": {
      "needs_background": "light"
     },
     "output_type": "display_data"
    }
   ],
   "source": [
    "plt.figure(figsize=(12, 8))\n",
    "plt.grid(True)\n",
    "plt.title('Относительное изменение кумулятивного среднего чека')\n",
    "plt.plot(\n",
    "    mergedCumulativeRevenue['date'], (mergedCumulativeRevenue['revenueB']/mergedCumulativeRevenue['ordersB'])/(mergedCumulativeRevenue['revenueA']/mergedCumulativeRevenue['ordersA'])-1\n",
    ")\n",
    "plt.axhline(y=0, color='black', linestyle='--')\n",
    "plt.xlabel('Дата')\n",
    "plt.show()"
   ]
  },
  {
   "cell_type": "markdown",
   "metadata": {},
   "source": [
    "Видно сильные скачки между сегментами в нескольких точках. Все сильнее крепнет убеждение во влиянии выбросов.   \n",
    "Посмотрю на кумулятивную конверсию.\n",
    "\n",
    "#### Кумулятивная конверсия по группам"
   ]
  },
  {
   "cell_type": "code",
   "execution_count": 16,
   "metadata": {},
   "outputs": [],
   "source": [
    "cumulativeData['conversion'] = cumulativeData['orders'] / cumulativeData['visitors']\n",
    "cumulativeDataA = cumulativeData[cumulativeData['group']=='A']\n",
    "cumulativeDataB = cumulativeData[cumulativeData['group']=='B']"
   ]
  },
  {
   "cell_type": "code",
   "execution_count": 17,
   "metadata": {},
   "outputs": [
    {
     "data": {
      "image/png": "[encoded data removed]",
      "text/plain": [
       "<Figure size 864x576 with 1 Axes>"
      ]
     },
     "metadata": {
      "needs_background": "light"
     },
     "output_type": "display_data"
    }
   ],
   "source": [
    "plt.figure(figsize=(12, 8))\n",
    "plt.grid(True)\n",
    "plt.title('Кумулятивная конверсия по группам')\n",
    "plt.plot(cumulativeDataA['date'], cumulativeDataA['conversion'], label='A')\n",
    "plt.plot(cumulativeDataB['date'], cumulativeDataB['conversion'], label='B')\n",
    "plt.legend()\n",
    "plt.axis([dt.datetime(2019, 8, 1), dt.datetime(2019, 8, 23), 0, 0.05]) #задам масштаб\n",
    "plt.xlabel('Дата')\n",
    "plt.ylabel('Конверсия')\n",
    "plt.show()"
   ]
  },
  {
   "cell_type": "markdown",
   "metadata": {},
   "source": [
    "Сперва конверсии шли одинаково, но с 6 августа конверсии разошлись и стабилизировались 9 августа. При этом конверсия группы В выше. Надо посмотреть на график относительного изменения конверсий."
   ]
  },
  {
   "cell_type": "code",
   "execution_count": 18,
   "metadata": {},
   "outputs": [],
   "source": [
    "mergedCumulativeConversions = cumulativeDataA[['date','conversion']].merge(cumulativeDataB[['date','conversion']], left_on='date', right_on='date', how='left', suffixes=['A', 'B'])"
   ]
  },
  {
   "cell_type": "code",
   "execution_count": 19,
   "metadata": {},
   "outputs": [
    {
     "data": {
      "image/png": "[encoded data removed]",
      "text/plain": [
       "<Figure size 864x576 with 1 Axes>"
      ]
     },
     "metadata": {
      "needs_background": "light"
     },
     "output_type": "display_data"
    }
   ],
   "source": [
    "plt.figure(figsize=(12, 8))\n",
    "plt.grid(True)\n",
    "plt.title('Относительное изменений кумулятивной конверсии')\n",
    "plt.plot(mergedCumulativeConversions['date'], mergedCumulativeConversions['conversionB']/mergedCumulativeConversions['conversionA']-1, label=\"Относительный прирост конверсии группы B относительно группы A\")\n",
    "plt.legend()\n",
    "plt.axhline(y=0, color='black', linestyle='--')\n",
    "plt.axhline(y=0.15, color='grey', linestyle='--')\n",
    "plt.axis([dt.datetime(2019, 8, 1), dt.datetime(2019, 8, 23), -0.3, 0.3]) #задам масштаб\n",
    "plt.xlabel('Дата')\n",
    "plt.show()"
   ]
  },
  {
   "cell_type": "markdown",
   "metadata": {},
   "source": [
    "Почти с самого начала теста группа В лидирует по конверсии, но показывает то рост, то падение.\n",
    "\n",
    "#### Количество заказов по пользователям"
   ]
  },
  {
   "cell_type": "code",
   "execution_count": 20,
   "metadata": {},
   "outputs": [],
   "source": [
    "ordersByUsers = (\n",
    "    orders.groupby('visitorId', as_index=False)\n",
    "    .agg({'transactionId': 'nunique'})\n",
    ")\n",
    "ordersByUsers.columns = ['visitorId', 'orders']"
   ]
  },
  {
   "cell_type": "code",
   "execution_count": 21,
   "metadata": {},
   "outputs": [
    {
     "name": "stdout",
     "output_type": "stream",
     "text": [
      "95 перцентиль равен: 2.0\n",
      "99 перцентиль равен: 4.0\n"
     ]
    },
    {
     "data": {
      "image/png": "[encoded data removed]",
      "text/plain": [
       "<Figure size 864x576 with 1 Axes>"
      ]
     },
     "metadata": {
      "needs_background": "light"
     },
     "output_type": "display_data"
    }
   ],
   "source": [
    "x_values = pd.Series(range(0, len(ordersByUsers)))\n",
    "\n",
    "plt.figure(figsize=(12, 8))\n",
    "plt.title('Количество заказов по пользователям')\n",
    "plt.scatter(x_values, ordersByUsers['orders'])\n",
    "\n",
    "print('95 перцентиль равен:', np.percentile(ordersByUsers['orders'], 95))\n",
    "print('99 перцентиль равен:', np.percentile(ordersByUsers['orders'], 99))"
   ]
  },
  {
   "cell_type": "markdown",
   "metadata": {},
   "source": [
    "- 5% клиентов совершили более 2 заказов и 1% более 4\n",
    "- границей для определения аномальных пользователей будет 2 заказа, т.е. 5% отсеку.\n",
    "\n",
    "#### Стоимости заказов"
   ]
  },
  {
   "cell_type": "code",
   "execution_count": 22,
   "metadata": {},
   "outputs": [
    {
     "name": "stdout",
     "output_type": "stream",
     "text": [
      "95 перцентиль равен: 28000\n",
      "99 перцентиль равен: 58233\n"
     ]
    },
    {
     "data": {
      "image/png": "[encoded data removed]",
      "text/plain": [
       "<Figure size 864x576 with 1 Axes>"
      ]
     },
     "metadata": {
      "needs_background": "light"
     },
     "output_type": "display_data"
    }
   ],
   "source": [
    "x_values = pd.Series(range(0, len(orders['revenue'])))\n",
    "\n",
    "plt.figure(figsize=(12, 8))\n",
    "plt.title('Стоимость заказов')\n",
    "plt.scatter(x_values, orders['revenue'])\n",
    "\n",
    "print('95 перцентиль равен:', round(np.percentile(orders['revenue'], 95)))\n",
    "print('99 перцентиль равен:', round(np.percentile(orders['revenue'], 99)))"
   ]
  },
  {
   "cell_type": "markdown",
   "metadata": {},
   "source": [
    "Вот и выброс нашел. Да какой мощный. Границей будет 28000 - стоимость заказа для 95% клиентов."
   ]
  },
  {
   "cell_type": "markdown",
   "metadata": {},
   "source": [
    "#### Статистическая значимость различий по \"сырым\" данным\n",
    "##### Средний чек\n",
    "Гипотезы:   \n",
    "**Нулевая** - различий в среднем чеке между группами нет.   \n",
    "**Альтернативная** - различия в среднем чеке между группами есть.   \n",
    "Буду применять критерий Манна-Уитни для определения статистической значимости, чтобы не учитывать сами значения из-за наличия выбросов."
   ]
  },
  {
   "cell_type": "code",
   "execution_count": 23,
   "metadata": {},
   "outputs": [
    {
     "name": "stdout",
     "output_type": "stream",
     "text": [
      "p-value равен: 0.73\n",
      "Относительные различия в среднем чеке: 0.26\n"
     ]
    }
   ],
   "source": [
    "print('p-value равен:', '{:.2f}'.format(stats.mannwhitneyu(orders[orders['group']=='A']['revenue'], orders[orders['group']=='B']['revenue'])[1]))\n",
    "print('Относительные различия в среднем чеке:','{:.2f}'.format(orders[orders['group']=='B']['revenue'].mean()/orders[orders['group']=='A']['revenue'].mean()-1))"
   ]
  },
  {
   "cell_type": "markdown",
   "metadata": {},
   "source": [
    "Нулевую гипотезу отвергнуть не удалось, p-value сильно больше 0.05. Статистической значимости нет.\n",
    "\n",
    "##### Конверсия\n",
    "Гипотезы:   \n",
    "**Нулевая** - различий в конверсии между группами нет.   \n",
    "**Альтернативная** - различия в конверсии между группами есть. \n",
    "Подготовлю фрейм"
   ]
  },
  {
   "cell_type": "code",
   "execution_count": 24,
   "metadata": {},
   "outputs": [],
   "source": [
    "visitorsADaily = visitors[visitors['group'] == 'A'][['date', 'visitors']]\n",
    "visitorsADaily.columns = ['date', 'visitorsPerDateA']\n",
    "\n",
    "visitorsBDaily = visitors[visitors['group'] == 'B'][['date', 'visitors']]\n",
    "visitorsBDaily.columns = ['date', 'visitorsPerDateB']\n",
    "\n",
    "data = visitorsADaily.merge(visitorsBDaily, left_on='date', right_on='date', how='left')"
   ]
  },
  {
   "cell_type": "code",
   "execution_count": 25,
   "metadata": {},
   "outputs": [
    {
     "name": "stdout",
     "output_type": "stream",
     "text": [
      "p-value равен: 0.02\n",
      "Относительные различия в конверсии: 0.14\n"
     ]
    }
   ],
   "source": [
    "ordersByUsersA = (\n",
    "    orders[orders['group'] == 'A']\n",
    "    .groupby('visitorId', as_index=False)\n",
    "    .agg({'transactionId': pd.Series.nunique})\n",
    ")\n",
    "ordersByUsersA.columns = ['visitorId', 'orders']\n",
    "\n",
    "ordersByUsersB = (\n",
    "    orders[orders['group'] == 'B']\n",
    "    .groupby('visitorId', as_index=False)\n",
    "    .agg({'transactionId': pd.Series.nunique})\n",
    ")\n",
    "ordersByUsersB.columns = ['visitorId', 'orders']\n",
    "\n",
    "sampleA = pd.concat(\n",
    "    [\n",
    "        ordersByUsersA['orders'],\n",
    "        pd.Series(\n",
    "            0,\n",
    "            index=np.arange(\n",
    "                data['visitorsPerDateA'].sum() - len(ordersByUsersA['orders'])\n",
    "            ),\n",
    "            name='orders',\n",
    "        ),\n",
    "    ],\n",
    "    axis=0,\n",
    ")\n",
    "\n",
    "sampleB = pd.concat(\n",
    "    [\n",
    "        ordersByUsersB['orders'],\n",
    "        pd.Series(\n",
    "            0,\n",
    "            index=np.arange(\n",
    "                data['visitorsPerDateB'].sum() - len(ordersByUsersB['orders'])\n",
    "            ),\n",
    "            name='orders',\n",
    "        ),\n",
    "    ],\n",
    "    axis=0,\n",
    ")\n",
    "\n",
    "print('p-value равен:', '{:.2f}'.format(stats.mannwhitneyu(sampleA, sampleB)[1]))\n",
    "print('Относительные различия в конверсии:','{:.2f}'.format(sampleB.mean() / sampleA.mean() - 1))"
   ]
  },
  {
   "cell_type": "markdown",
   "metadata": {},
   "source": [
    "Отвергаем нулевую гипотезу.\n",
    "\n",
    "#### Статистическая значимость различий по очищенным данным\n",
    "##### Средний чек\n",
    "Гипотезы:   \n",
    "**Нулевая** - различий в среднем чеке между группами нет.   \n",
    "**Альтернативная** - различия в среднем чеке между группами есть.   \n",
    "\n",
    "Очищу данные от выбросов."
   ]
  },
  {
   "cell_type": "code",
   "execution_count": 26,
   "metadata": {},
   "outputs": [
    {
     "name": "stdout",
     "output_type": "stream",
     "text": [
      "74\n"
     ]
    }
   ],
   "source": [
    "ordersByUsersA = (\n",
    "    orders[orders['group'] == 'A']\n",
    "    .groupby('visitorId', as_index=False)\n",
    "    .agg({'transactionId': pd.Series.nunique})\n",
    ")\n",
    "ordersByUsersA.columns = ['visitorId', 'orders']\n",
    "\n",
    "ordersByUsersB = (\n",
    "    orders[orders['group'] == 'B']\n",
    "    .groupby('visitorId', as_index=False)\n",
    "    .agg({'transactionId': pd.Series.nunique})\n",
    ")\n",
    "ordersByUsersB.columns = ['visitorId', 'orders'] \n",
    "\n",
    "usersWithManyOrders = pd.concat(\n",
    "    [\n",
    "        ordersByUsersA[ordersByUsersA['orders'] > (np.percentile(ordersByUsers['orders'], 95))]['visitorId'],\n",
    "        ordersByUsersB[ordersByUsersB['orders'] > (np.percentile(ordersByUsers['orders'], 95))]['visitorId'],\n",
    "    ],\n",
    "    axis=0,\n",
    ")\n",
    "usersWithExpensiveOrders = orders[orders['revenue'] > (round(np.percentile(orders['revenue'], 95)))]['visitorId']\n",
    "\n",
    "abnormalUsers = (\n",
    "    pd.concat([usersWithManyOrders, usersWithExpensiveOrders], axis=0)\n",
    "    .drop_duplicates()\n",
    "    .sort_values()\n",
    ")\n",
    "print(abnormalUsers.shape[0])"
   ]
  },
  {
   "cell_type": "markdown",
   "metadata": {},
   "source": [
    "74 клиента делали много заказов или же слишком дорогие."
   ]
  },
  {
   "cell_type": "code",
   "execution_count": 27,
   "metadata": {},
   "outputs": [
    {
     "name": "stdout",
     "output_type": "stream",
     "text": [
      "p-value равен: 0.74\n",
      "Относительные различия в среднем чеке: -0.02\n"
     ]
    }
   ],
   "source": [
    "print(\n",
    "    'p-value равен:', '{:.2f}'.format(\n",
    "        stats.mannwhitneyu(\n",
    "            orders[\n",
    "                np.logical_and(\n",
    "                    orders['group'] == 'A',\n",
    "                    np.logical_not(orders['visitorId'].isin(abnormalUsers)),\n",
    "                )\n",
    "            ]['revenue'],\n",
    "            orders[\n",
    "                np.logical_and(\n",
    "                    orders['group'] == 'B',\n",
    "                    np.logical_not(orders['visitorId'].isin(abnormalUsers)),\n",
    "                )\n",
    "            ]['revenue'],\n",
    "        )[1]\n",
    "    )\n",
    ")\n",
    "\n",
    "print(\n",
    "    'Относительные различия в среднем чеке:', \"{:.2f}\".format(\n",
    "        orders[\n",
    "            np.logical_and(\n",
    "                orders['group'] == 'B',\n",
    "                np.logical_not(orders['visitorId'].isin(abnormalUsers)),\n",
    "            )\n",
    "        ]['revenue'].mean()\n",
    "        / orders[\n",
    "            np.logical_and(\n",
    "                orders['group'] == 'A',\n",
    "                np.logical_not(orders['visitorId'].isin(abnormalUsers)),\n",
    "            )\n",
    "        ]['revenue'].mean()\n",
    "        - 1\n",
    "    )\n",
    ")"
   ]
  },
  {
   "cell_type": "markdown",
   "metadata": {},
   "source": [
    "p-value больше 0.05 - нулевую гипотезу отвергнуть не удалось. Статистической значимости нет.\n",
    "\n",
    "##### Конверсия\n",
    "Гипотезы:   \n",
    "**Нулевая** - различий в конверсии между группами нет.   \n",
    "**Альтернативная** - различия в конверсии между группами есть.   \n",
    "Исправлю датафрейм."
   ]
  },
  {
   "cell_type": "code",
   "execution_count": 28,
   "metadata": {},
   "outputs": [
    {
     "data": {
      "text/html": [
       "<div>\n",
       "<style scoped>\n",
       "    .dataframe tbody tr th:only-of-type {\n",
       "        vertical-align: middle;\n",
       "    }\n",
       "\n",
       "    .dataframe tbody tr th {\n",
       "        vertical-align: top;\n",
       "    }\n",
       "\n",
       "    .dataframe thead th {\n",
       "        text-align: right;\n",
       "    }\n",
       "</style>\n",
       "<table border=\"1\" class=\"dataframe\">\n",
       "  <thead>\n",
       "    <tr style=\"text-align: right;\">\n",
       "      <th></th>\n",
       "      <th>date</th>\n",
       "      <th>buyersPerDateA</th>\n",
       "      <th>buyersPerDateB</th>\n",
       "      <th>visitorsPerDateA</th>\n",
       "      <th>visitorsPerDateB</th>\n",
       "      <th>conversionA</th>\n",
       "      <th>conversionB</th>\n",
       "    </tr>\n",
       "  </thead>\n",
       "  <tbody>\n",
       "    <tr>\n",
       "      <th>0</th>\n",
       "      <td>2019-08-01</td>\n",
       "      <td>15</td>\n",
       "      <td>19</td>\n",
       "      <td>719</td>\n",
       "      <td>713</td>\n",
       "      <td>0.02</td>\n",
       "      <td>0.03</td>\n",
       "    </tr>\n",
       "    <tr>\n",
       "      <th>1</th>\n",
       "      <td>2019-08-02</td>\n",
       "      <td>18</td>\n",
       "      <td>20</td>\n",
       "      <td>619</td>\n",
       "      <td>581</td>\n",
       "      <td>0.03</td>\n",
       "      <td>0.03</td>\n",
       "    </tr>\n",
       "    <tr>\n",
       "      <th>2</th>\n",
       "      <td>2019-08-03</td>\n",
       "      <td>24</td>\n",
       "      <td>16</td>\n",
       "      <td>507</td>\n",
       "      <td>509</td>\n",
       "      <td>0.05</td>\n",
       "      <td>0.03</td>\n",
       "    </tr>\n",
       "    <tr>\n",
       "      <th>3</th>\n",
       "      <td>2019-08-04</td>\n",
       "      <td>13</td>\n",
       "      <td>14</td>\n",
       "      <td>717</td>\n",
       "      <td>770</td>\n",
       "      <td>0.02</td>\n",
       "      <td>0.02</td>\n",
       "    </tr>\n",
       "    <tr>\n",
       "      <th>4</th>\n",
       "      <td>2019-08-05</td>\n",
       "      <td>25</td>\n",
       "      <td>21</td>\n",
       "      <td>756</td>\n",
       "      <td>707</td>\n",
       "      <td>0.03</td>\n",
       "      <td>0.03</td>\n",
       "    </tr>\n",
       "  </tbody>\n",
       "</table>\n",
       "</div>"
      ],
      "text/plain": [
       "        date  buyersPerDateA  buyersPerDateB  visitorsPerDateA  \\\n",
       "0 2019-08-01              15              19               719   \n",
       "1 2019-08-02              18              20               619   \n",
       "2 2019-08-03              24              16               507   \n",
       "3 2019-08-04              13              14               717   \n",
       "4 2019-08-05              25              21               756   \n",
       "\n",
       "   visitorsPerDateB  conversionA  conversionB  \n",
       "0               713         0.02         0.03  \n",
       "1               581         0.03         0.03  \n",
       "2               509         0.05         0.03  \n",
       "3               770         0.02         0.02  \n",
       "4               707         0.03         0.03  "
      ]
     },
     "execution_count": 28,
     "metadata": {},
     "output_type": "execute_result"
    }
   ],
   "source": [
    "visitorsADaily = visitors[visitors['group'] == 'A'][['date', 'visitors']]\n",
    "visitorsADaily.columns = ['date', 'visitorsPerDateA']\n",
    "\n",
    "visitorsBDaily = visitors[visitors['group'] == 'B'][['date', 'visitors']]\n",
    "visitorsBDaily.columns = ['date', 'visitorsPerDateB']\n",
    "\n",
    "buyersADaily = (\n",
    "    orders[np.logical_and(orders['group'] == 'A', np.logical_not(orders['visitorId'].isin(abnormalUsers)))][['date', 'transactionId', 'visitorId']]\n",
    "    .groupby('date', as_index=False)\n",
    "    .agg({'visitorId': pd.Series.nunique})\n",
    ")\n",
    "buyersADaily.columns = ['date', 'buyersPerDateA']\n",
    "\n",
    "buyersBDaily = (\n",
    "    orders[np.logical_and(orders['group'] == 'B', np.logical_not(orders['visitorId'].isin(abnormalUsers)))][['date', 'transactionId', 'visitorId']]\n",
    "    .groupby('date', as_index=False)\n",
    "    .agg({'visitorId': pd.Series.nunique})\n",
    ")\n",
    "buyersBDaily.columns = ['date', 'buyersPerDateB']\n",
    "\n",
    "data = (\n",
    "    buyersADaily.merge(\n",
    "        buyersBDaily, left_on='date', right_on='date', how='left'\n",
    "    )\n",
    "    .merge(visitorsADaily, left_on='date', right_on='date', how='left')\n",
    "    .merge(visitorsBDaily, left_on='date', right_on='date', how='left')\n",
    ")\n",
    "\n",
    "data['conversionA'] = data['buyersPerDateA'] / data['visitorsPerDateA']\n",
    "data['conversionB'] = data['buyersPerDateB'] / data['visitorsPerDateB']\n",
    "\n",
    "data.head()"
   ]
  },
  {
   "cell_type": "code",
   "execution_count": 29,
   "metadata": {},
   "outputs": [
    {
     "name": "stdout",
     "output_type": "stream",
     "text": [
      "p-value равен: 0.03\n",
      "Относительные различия в конверсии: 0.19\n"
     ]
    }
   ],
   "source": [
    "print('p-value равен:', '{:.2f}'.format(stats.mannwhitneyu(data['conversionA'], data['conversionB'])[1]))\n",
    "print('Относительные различия в конверсии:','{:.2f}'.format(data['conversionB'].mean()/data['conversionA'].mean()-1))"
   ]
  },
  {
   "cell_type": "markdown",
   "metadata": {},
   "source": [
    "Отвергаем нулевую гипотезу. Достигнут уровень статистической значимости.   \n",
    "\n",
    "--\n",
    "#### Результаты А/В теста\n",
    "- По средним чекам между группами А и В нет статистической значимости различий как по сырым данным, так и по очищенным.\n",
    "- В конверссии между группами А и В есть статистическая значимость различий по очищенным данным.\n"
   ]
  },
  {
   "cell_type": "markdown",
   "metadata": {},
   "source": [
    "### Вывод\n",
    "\n",
    "**Сперва приоритизировали гипотезы отдела маркетинга.**   \n",
    "\n",
    "- Список гипотез был приоритизирован с помощью двух фреймворков - ICE и RICE.\n",
    "- Существуют различия в приоритетах проверки гипотез в зависимости от используемого фреймворка, связанные с учетом охвата аудитории.\n",
    "- При использовании любого фреймворка в топе есть гипотезы формы подписки для сбора базы данных клиентов для рассылок и подключении двух новых каналов привлечения. Начать проверку, считаю, нужно именно с гипотез, которые и с учетом охвата и без него есть в топе. Дополнительно большой охват несколько упростит проведение A/B теста.\n",
    "\n",
    "**Проведен анализ А/В теста**   \n",
    "\n",
    "- Разницы в среднем чеке тест не выявил.\n",
    "- Не удалось отвергнуть гипотезу об отсутствии разницы в конверсии групп ни по \"сырым\" ни по очищенным данным.\n",
    "\n",
    "Тест можно остановить и считать успешным. Видно, что конверсия группы В выше."
   ]
  }
 ],
 "metadata": {
  "ExecuteTimeLog": [
   {
    "duration": 398,
    "start_time": "2022-07-17T10:31:36.728Z"
   },
   {
    "duration": 70,
    "start_time": "2022-07-17T10:34:56.970Z"
   },
   {
    "duration": 31,
    "start_time": "2022-07-17T10:37:17.097Z"
   },
   {
    "duration": 6,
    "start_time": "2022-07-17T10:41:51.707Z"
   },
   {
    "duration": 960,
    "start_time": "2022-07-17T10:43:03.388Z"
   },
   {
    "duration": 715,
    "start_time": "2022-07-17T10:43:32.479Z"
   },
   {
    "duration": 11,
    "start_time": "2022-07-17T10:43:47.135Z"
   },
   {
    "duration": 10,
    "start_time": "2022-07-17T10:44:40.939Z"
   },
   {
    "duration": 11,
    "start_time": "2022-07-17T10:44:51.810Z"
   },
   {
    "duration": 13,
    "start_time": "2022-07-17T10:45:18.227Z"
   },
   {
    "duration": 30,
    "start_time": "2022-07-17T10:46:00.812Z"
   },
   {
    "duration": 10,
    "start_time": "2022-07-17T10:46:03.771Z"
   },
   {
    "duration": 30,
    "start_time": "2022-07-17T10:46:52.027Z"
   },
   {
    "duration": 9,
    "start_time": "2022-07-17T10:46:54.541Z"
   },
   {
    "duration": 9,
    "start_time": "2022-07-17T10:47:27.651Z"
   },
   {
    "duration": 10,
    "start_time": "2022-07-17T10:55:42.414Z"
   },
   {
    "duration": 11,
    "start_time": "2022-07-17T10:56:09.585Z"
   },
   {
    "duration": 397,
    "start_time": "2022-07-17T11:17:22.753Z"
   },
   {
    "duration": 30,
    "start_time": "2022-07-17T11:17:59.611Z"
   },
   {
    "duration": 10,
    "start_time": "2022-07-17T11:18:28.711Z"
   },
   {
    "duration": 13,
    "start_time": "2022-07-17T11:18:39.736Z"
   },
   {
    "duration": 130,
    "start_time": "2022-07-17T11:19:46.860Z"
   },
   {
    "duration": 58,
    "start_time": "2022-07-17T11:20:35.571Z"
   },
   {
    "duration": 353,
    "start_time": "2022-07-17T11:21:58.747Z"
   },
   {
    "duration": 29,
    "start_time": "2022-07-17T11:23:07.098Z"
   },
   {
    "duration": 13,
    "start_time": "2022-07-17T11:24:41.565Z"
   },
   {
    "duration": 2,
    "start_time": "2022-07-17T11:25:13.921Z"
   },
   {
    "duration": 34,
    "start_time": "2022-07-17T11:25:13.926Z"
   },
   {
    "duration": 9,
    "start_time": "2022-07-17T11:25:13.961Z"
   },
   {
    "duration": 11,
    "start_time": "2022-07-17T11:25:13.971Z"
   },
   {
    "duration": 53,
    "start_time": "2022-07-17T11:25:13.984Z"
   },
   {
    "duration": 29,
    "start_time": "2022-07-17T11:25:14.038Z"
   },
   {
    "duration": 13,
    "start_time": "2022-07-17T11:25:14.069Z"
   },
   {
    "duration": 214,
    "start_time": "2022-07-17T11:25:40.218Z"
   },
   {
    "duration": 200,
    "start_time": "2022-07-17T11:25:56.342Z"
   },
   {
    "duration": 11,
    "start_time": "2022-07-17T11:26:02.621Z"
   },
   {
    "duration": 17,
    "start_time": "2022-07-17T11:26:10.005Z"
   },
   {
    "duration": 16,
    "start_time": "2022-07-17T11:26:32.017Z"
   },
   {
    "duration": 848,
    "start_time": "2022-07-18T08:32:34.166Z"
   },
   {
    "duration": 88,
    "start_time": "2022-07-18T08:32:35.016Z"
   },
   {
    "duration": 12,
    "start_time": "2022-07-18T08:32:35.105Z"
   },
   {
    "duration": 12,
    "start_time": "2022-07-18T08:32:35.120Z"
   },
   {
    "duration": 127,
    "start_time": "2022-07-18T08:32:35.134Z"
   },
   {
    "duration": 36,
    "start_time": "2022-07-18T08:32:35.262Z"
   },
   {
    "duration": 19,
    "start_time": "2022-07-18T08:32:35.300Z"
   },
   {
    "duration": 18,
    "start_time": "2022-07-18T08:32:35.320Z"
   },
   {
    "duration": 10,
    "start_time": "2022-07-18T08:48:41.763Z"
   },
   {
    "duration": 91,
    "start_time": "2022-07-18T08:56:25.635Z"
   },
   {
    "duration": 247,
    "start_time": "2022-07-18T08:57:21.669Z"
   },
   {
    "duration": 8,
    "start_time": "2022-07-18T08:57:45.072Z"
   },
   {
    "duration": 6,
    "start_time": "2022-07-18T08:58:28.676Z"
   },
   {
    "duration": 8,
    "start_time": "2022-07-18T08:59:01.807Z"
   },
   {
    "duration": 374,
    "start_time": "2022-07-18T08:59:18.485Z"
   },
   {
    "duration": 228,
    "start_time": "2022-07-18T08:59:23.596Z"
   },
   {
    "duration": 163,
    "start_time": "2022-07-18T09:00:50.479Z"
   },
   {
    "duration": 177,
    "start_time": "2022-07-18T09:01:26.745Z"
   },
   {
    "duration": 289,
    "start_time": "2022-07-18T09:01:38.879Z"
   },
   {
    "duration": 205,
    "start_time": "2022-07-18T09:02:01.981Z"
   },
   {
    "duration": 176,
    "start_time": "2022-07-18T09:02:10.037Z"
   },
   {
    "duration": 201,
    "start_time": "2022-07-18T09:08:28.112Z"
   },
   {
    "duration": 18,
    "start_time": "2022-07-18T09:08:59.444Z"
   },
   {
    "duration": 12,
    "start_time": "2022-07-18T09:09:41.389Z"
   },
   {
    "duration": 121,
    "start_time": "2022-07-18T09:10:45.151Z"
   },
   {
    "duration": 214,
    "start_time": "2022-07-18T09:11:57.696Z"
   },
   {
    "duration": 302,
    "start_time": "2022-07-18T09:12:07.601Z"
   },
   {
    "duration": 216,
    "start_time": "2022-07-18T09:12:42.076Z"
   },
   {
    "duration": 306,
    "start_time": "2022-07-18T09:14:08.051Z"
   },
   {
    "duration": 218,
    "start_time": "2022-07-18T09:14:19.212Z"
   },
   {
    "duration": 237,
    "start_time": "2022-07-18T09:14:37.132Z"
   },
   {
    "duration": 211,
    "start_time": "2022-07-18T09:15:00.868Z"
   },
   {
    "duration": 237,
    "start_time": "2022-07-18T09:15:07.706Z"
   },
   {
    "duration": 6,
    "start_time": "2022-07-18T09:19:56.620Z"
   },
   {
    "duration": 303,
    "start_time": "2022-07-18T09:20:37.939Z"
   },
   {
    "duration": 324,
    "start_time": "2022-07-18T09:21:14.769Z"
   },
   {
    "duration": 216,
    "start_time": "2022-07-18T09:28:56.403Z"
   },
   {
    "duration": 5,
    "start_time": "2022-07-18T09:29:12.667Z"
   },
   {
    "duration": 173,
    "start_time": "2022-07-18T09:29:15.505Z"
   },
   {
    "duration": 246,
    "start_time": "2022-07-18T09:29:33.580Z"
   },
   {
    "duration": 322,
    "start_time": "2022-07-18T09:30:26.349Z"
   },
   {
    "duration": 3,
    "start_time": "2022-07-18T09:31:10.579Z"
   },
   {
    "duration": 273,
    "start_time": "2022-07-18T09:31:16.713Z"
   },
   {
    "duration": 185,
    "start_time": "2022-07-18T09:31:52.946Z"
   },
   {
    "duration": 255,
    "start_time": "2022-07-18T09:32:19.280Z"
   },
   {
    "duration": 172,
    "start_time": "2022-07-18T09:33:08.413Z"
   },
   {
    "duration": 190,
    "start_time": "2022-07-18T09:33:14.485Z"
   },
   {
    "duration": 194,
    "start_time": "2022-07-18T09:33:24.888Z"
   },
   {
    "duration": 171,
    "start_time": "2022-07-18T09:33:28.880Z"
   },
   {
    "duration": 217,
    "start_time": "2022-07-18T09:33:39.089Z"
   },
   {
    "duration": 171,
    "start_time": "2022-07-18T09:36:54.817Z"
   },
   {
    "duration": 235,
    "start_time": "2022-07-18T09:37:08.235Z"
   },
   {
    "duration": 223,
    "start_time": "2022-07-18T09:38:59.598Z"
   },
   {
    "duration": 217,
    "start_time": "2022-07-18T09:39:06.663Z"
   },
   {
    "duration": 195,
    "start_time": "2022-07-18T09:39:14.651Z"
   },
   {
    "duration": 196,
    "start_time": "2022-07-18T09:41:04.507Z"
   },
   {
    "duration": 310,
    "start_time": "2022-07-18T09:41:16.808Z"
   },
   {
    "duration": 198,
    "start_time": "2022-07-18T09:41:29.531Z"
   },
   {
    "duration": 175,
    "start_time": "2022-07-18T09:41:38.839Z"
   },
   {
    "duration": 164,
    "start_time": "2022-07-18T09:41:46.743Z"
   },
   {
    "duration": 222,
    "start_time": "2022-07-18T09:42:11.262Z"
   },
   {
    "duration": 346,
    "start_time": "2022-07-18T09:48:33.589Z"
   },
   {
    "duration": 9,
    "start_time": "2022-07-18T09:49:56.735Z"
   },
   {
    "duration": 182,
    "start_time": "2022-07-18T09:50:03.864Z"
   },
   {
    "duration": 194,
    "start_time": "2022-07-18T09:50:16.098Z"
   },
   {
    "duration": 234,
    "start_time": "2022-07-18T09:50:41.591Z"
   },
   {
    "duration": 374,
    "start_time": "2022-07-18T09:51:45.978Z"
   },
   {
    "duration": 298,
    "start_time": "2022-07-18T09:52:50.628Z"
   },
   {
    "duration": 351,
    "start_time": "2022-07-18T09:53:38.270Z"
   },
   {
    "duration": 277,
    "start_time": "2022-07-18T09:53:55.549Z"
   },
   {
    "duration": 9,
    "start_time": "2022-07-18T10:00:13.828Z"
   },
   {
    "duration": 13,
    "start_time": "2022-07-18T10:00:39.711Z"
   },
   {
    "duration": 21,
    "start_time": "2022-07-18T10:00:47.702Z"
   },
   {
    "duration": 8,
    "start_time": "2022-07-18T10:01:00.323Z"
   },
   {
    "duration": 7,
    "start_time": "2022-07-18T10:01:40.155Z"
   },
   {
    "duration": 121,
    "start_time": "2022-07-18T10:01:47.825Z"
   },
   {
    "duration": 123,
    "start_time": "2022-07-18T10:02:26.441Z"
   },
   {
    "duration": 128,
    "start_time": "2022-07-18T10:05:12.330Z"
   },
   {
    "duration": 131,
    "start_time": "2022-07-18T10:05:29.658Z"
   },
   {
    "duration": 290,
    "start_time": "2022-07-18T10:11:25.446Z"
   },
   {
    "duration": 144,
    "start_time": "2022-07-18T10:11:52.127Z"
   },
   {
    "duration": 9,
    "start_time": "2022-07-18T10:30:31.672Z"
   },
   {
    "duration": 10,
    "start_time": "2022-07-18T10:49:28.763Z"
   },
   {
    "duration": 7,
    "start_time": "2022-07-18T10:50:12.321Z"
   },
   {
    "duration": 9,
    "start_time": "2022-07-18T10:58:29.521Z"
   },
   {
    "duration": 10,
    "start_time": "2022-07-18T10:59:32.675Z"
   },
   {
    "duration": 84,
    "start_time": "2022-07-18T11:14:14.215Z"
   },
   {
    "duration": 23,
    "start_time": "2022-07-18T11:14:37.721Z"
   },
   {
    "duration": 40,
    "start_time": "2022-07-18T11:15:37.125Z"
   },
   {
    "duration": 42,
    "start_time": "2022-07-18T11:15:45.723Z"
   },
   {
    "duration": 35,
    "start_time": "2022-07-18T11:16:59.477Z"
   },
   {
    "duration": 37,
    "start_time": "2022-07-18T11:17:05.763Z"
   },
   {
    "duration": 7,
    "start_time": "2022-07-18T11:18:51.181Z"
   },
   {
    "duration": 19,
    "start_time": "2022-07-18T11:24:57.176Z"
   },
   {
    "duration": 56,
    "start_time": "2022-07-18T11:26:00.964Z"
   },
   {
    "duration": 7,
    "start_time": "2022-07-18T11:27:07.762Z"
   },
   {
    "duration": 31,
    "start_time": "2022-07-18T11:29:20.877Z"
   },
   {
    "duration": 39,
    "start_time": "2022-07-18T11:29:29.122Z"
   },
   {
    "duration": 143,
    "start_time": "2022-07-18T11:36:20.627Z"
   },
   {
    "duration": 125,
    "start_time": "2022-07-18T11:36:39.266Z"
   },
   {
    "duration": 153,
    "start_time": "2022-07-18T11:39:12.426Z"
   },
   {
    "duration": 18,
    "start_time": "2022-07-18T11:41:23.323Z"
   },
   {
    "duration": 19,
    "start_time": "2022-07-18T11:41:28.128Z"
   },
   {
    "duration": 14,
    "start_time": "2022-07-18T11:41:30.711Z"
   },
   {
    "duration": 13,
    "start_time": "2022-07-18T11:42:36.620Z"
   },
   {
    "duration": 16,
    "start_time": "2022-07-18T11:43:10.722Z"
   },
   {
    "duration": 1598,
    "start_time": "2022-07-18T11:52:21.037Z"
   },
   {
    "duration": 41,
    "start_time": "2022-07-18T11:56:17.238Z"
   },
   {
    "duration": 5,
    "start_time": "2022-07-18T11:57:03.090Z"
   },
   {
    "duration": 1070,
    "start_time": "2022-07-18T12:08:25.253Z"
   },
   {
    "duration": 103,
    "start_time": "2022-07-18T12:08:26.326Z"
   },
   {
    "duration": 11,
    "start_time": "2022-07-18T12:08:26.435Z"
   },
   {
    "duration": 24,
    "start_time": "2022-07-18T12:08:26.448Z"
   },
   {
    "duration": 76,
    "start_time": "2022-07-18T12:08:26.475Z"
   },
   {
    "duration": 37,
    "start_time": "2022-07-18T12:08:26.553Z"
   },
   {
    "duration": 20,
    "start_time": "2022-07-18T12:08:26.591Z"
   },
   {
    "duration": 47,
    "start_time": "2022-07-18T12:08:26.613Z"
   },
   {
    "duration": 306,
    "start_time": "2022-07-18T12:08:26.661Z"
   },
   {
    "duration": 10,
    "start_time": "2022-07-18T12:08:26.969Z"
   },
   {
    "duration": 32,
    "start_time": "2022-07-18T12:08:26.980Z"
   },
   {
    "duration": 347,
    "start_time": "2022-07-18T12:08:27.021Z"
   },
   {
    "duration": 292,
    "start_time": "2022-07-18T12:08:27.370Z"
   },
   {
    "duration": 6,
    "start_time": "2022-07-18T12:08:27.665Z"
   },
   {
    "duration": 381,
    "start_time": "2022-07-18T12:08:27.673Z"
   },
   {
    "duration": 5,
    "start_time": "2022-07-18T12:08:28.055Z"
   },
   {
    "duration": 198,
    "start_time": "2022-07-18T12:08:28.062Z"
   },
   {
    "duration": 7,
    "start_time": "2022-07-18T12:08:28.262Z"
   },
   {
    "duration": 369,
    "start_time": "2022-07-18T12:08:28.270Z"
   },
   {
    "duration": 7,
    "start_time": "2022-07-18T12:08:28.642Z"
   },
   {
    "duration": 163,
    "start_time": "2022-07-18T12:08:28.651Z"
   },
   {
    "duration": 160,
    "start_time": "2022-07-18T12:08:28.816Z"
   },
   {
    "duration": 12,
    "start_time": "2022-07-18T12:08:28.978Z"
   },
   {
    "duration": 66,
    "start_time": "2022-07-18T12:08:28.992Z"
   },
   {
    "duration": 5,
    "start_time": "2022-07-18T12:08:29.060Z"
   },
   {
    "duration": 184,
    "start_time": "2022-07-18T12:08:29.067Z"
   },
   {
    "duration": 15,
    "start_time": "2022-07-18T12:08:29.253Z"
   },
   {
    "duration": 74,
    "start_time": "2022-07-18T12:08:29.270Z"
   },
   {
    "duration": 6,
    "start_time": "2022-07-18T12:08:29.346Z"
   },
   {
    "duration": 1241,
    "start_time": "2022-07-18T13:29:30.612Z"
   },
   {
    "duration": 122,
    "start_time": "2022-07-18T13:29:31.855Z"
   },
   {
    "duration": 12,
    "start_time": "2022-07-18T13:29:31.979Z"
   },
   {
    "duration": 11,
    "start_time": "2022-07-18T13:29:31.993Z"
   },
   {
    "duration": 136,
    "start_time": "2022-07-18T13:29:32.005Z"
   },
   {
    "duration": 30,
    "start_time": "2022-07-18T13:29:32.143Z"
   },
   {
    "duration": 12,
    "start_time": "2022-07-18T13:29:32.174Z"
   },
   {
    "duration": 22,
    "start_time": "2022-07-18T13:29:32.188Z"
   },
   {
    "duration": 285,
    "start_time": "2022-07-18T13:29:32.211Z"
   },
   {
    "duration": 8,
    "start_time": "2022-07-18T13:29:32.499Z"
   },
   {
    "duration": 18,
    "start_time": "2022-07-18T13:29:32.509Z"
   },
   {
    "duration": 301,
    "start_time": "2022-07-18T13:29:32.528Z"
   },
   {
    "duration": 220,
    "start_time": "2022-07-18T13:29:32.831Z"
   },
   {
    "duration": 7,
    "start_time": "2022-07-18T13:29:33.053Z"
   },
   {
    "duration": 407,
    "start_time": "2022-07-18T13:29:33.061Z"
   },
   {
    "duration": 6,
    "start_time": "2022-07-18T13:29:33.470Z"
   },
   {
    "duration": 187,
    "start_time": "2022-07-18T13:29:33.477Z"
   },
   {
    "duration": 8,
    "start_time": "2022-07-18T13:29:33.665Z"
   },
   {
    "duration": 306,
    "start_time": "2022-07-18T13:29:33.674Z"
   },
   {
    "duration": 6,
    "start_time": "2022-07-18T13:29:33.983Z"
   },
   {
    "duration": 155,
    "start_time": "2022-07-18T13:29:33.990Z"
   },
   {
    "duration": 166,
    "start_time": "2022-07-18T13:29:34.146Z"
   },
   {
    "duration": 18,
    "start_time": "2022-07-18T13:29:34.314Z"
   },
   {
    "duration": 40,
    "start_time": "2022-07-18T13:29:34.333Z"
   },
   {
    "duration": 5,
    "start_time": "2022-07-18T13:29:34.375Z"
   },
   {
    "duration": 169,
    "start_time": "2022-07-18T13:29:34.382Z"
   },
   {
    "duration": 19,
    "start_time": "2022-07-18T13:29:34.554Z"
   },
   {
    "duration": 71,
    "start_time": "2022-07-18T13:29:34.576Z"
   },
   {
    "duration": 8,
    "start_time": "2022-07-18T13:29:34.649Z"
   },
   {
    "duration": 49,
    "start_time": "2022-07-18T15:03:10.942Z"
   },
   {
    "duration": 1369,
    "start_time": "2022-07-18T15:03:16.983Z"
   },
   {
    "duration": 133,
    "start_time": "2022-07-18T15:03:18.355Z"
   },
   {
    "duration": 11,
    "start_time": "2022-07-18T15:03:18.489Z"
   },
   {
    "duration": 10,
    "start_time": "2022-07-18T15:03:18.502Z"
   },
   {
    "duration": 122,
    "start_time": "2022-07-18T15:03:18.514Z"
   },
   {
    "duration": 33,
    "start_time": "2022-07-18T15:03:18.638Z"
   },
   {
    "duration": 13,
    "start_time": "2022-07-18T15:03:18.673Z"
   },
   {
    "duration": 36,
    "start_time": "2022-07-18T15:03:18.687Z"
   },
   {
    "duration": 318,
    "start_time": "2022-07-18T15:03:18.725Z"
   },
   {
    "duration": 9,
    "start_time": "2022-07-18T15:03:19.045Z"
   },
   {
    "duration": 9,
    "start_time": "2022-07-18T15:03:19.055Z"
   },
   {
    "duration": 313,
    "start_time": "2022-07-18T15:03:19.065Z"
   },
   {
    "duration": 227,
    "start_time": "2022-07-18T15:03:19.380Z"
   },
   {
    "duration": 14,
    "start_time": "2022-07-18T15:03:19.610Z"
   },
   {
    "duration": 386,
    "start_time": "2022-07-18T15:03:19.627Z"
   },
   {
    "duration": 10,
    "start_time": "2022-07-18T15:03:20.015Z"
   },
   {
    "duration": 232,
    "start_time": "2022-07-18T15:03:20.027Z"
   },
   {
    "duration": 8,
    "start_time": "2022-07-18T15:03:20.261Z"
   },
   {
    "duration": 318,
    "start_time": "2022-07-18T15:03:20.271Z"
   },
   {
    "duration": 8,
    "start_time": "2022-07-18T15:03:20.591Z"
   },
   {
    "duration": 172,
    "start_time": "2022-07-18T15:03:20.600Z"
   },
   {
    "duration": 193,
    "start_time": "2022-07-18T15:03:20.774Z"
   },
   {
    "duration": 12,
    "start_time": "2022-07-18T15:03:20.969Z"
   },
   {
    "duration": 64,
    "start_time": "2022-07-18T15:03:20.983Z"
   },
   {
    "duration": 7,
    "start_time": "2022-07-18T15:03:21.050Z"
   },
   {
    "duration": 195,
    "start_time": "2022-07-18T15:03:21.059Z"
   },
   {
    "duration": 15,
    "start_time": "2022-07-18T15:03:21.256Z"
   },
   {
    "duration": 67,
    "start_time": "2022-07-18T15:03:21.274Z"
   },
   {
    "duration": 7,
    "start_time": "2022-07-18T15:03:21.343Z"
   },
   {
    "duration": 241,
    "start_time": "2022-07-18T15:03:40.352Z"
   },
   {
    "duration": 238,
    "start_time": "2022-07-18T15:04:08.057Z"
   },
   {
    "duration": 340,
    "start_time": "2022-07-18T15:04:55.838Z"
   },
   {
    "duration": 282,
    "start_time": "2022-07-18T15:05:03.209Z"
   },
   {
    "duration": 242,
    "start_time": "2022-07-18T15:07:08.099Z"
   },
   {
    "duration": 332,
    "start_time": "2022-07-18T15:07:41.352Z"
   },
   {
    "duration": 335,
    "start_time": "2022-07-18T15:07:47.753Z"
   },
   {
    "duration": 223,
    "start_time": "2022-07-18T15:08:09.850Z"
   },
   {
    "duration": 311,
    "start_time": "2022-07-18T15:08:19.240Z"
   },
   {
    "duration": 169,
    "start_time": "2022-07-18T15:15:20.993Z"
   },
   {
    "duration": 190,
    "start_time": "2022-07-18T15:16:05.732Z"
   },
   {
    "duration": 3,
    "start_time": "2022-07-18T15:16:16.092Z"
   },
   {
    "duration": 2,
    "start_time": "2022-07-18T15:16:20.301Z"
   },
   {
    "duration": 3,
    "start_time": "2022-07-18T15:18:20.001Z"
   },
   {
    "duration": 183,
    "start_time": "2022-07-18T15:19:23.296Z"
   },
   {
    "duration": 193,
    "start_time": "2022-07-18T15:20:02.905Z"
   },
   {
    "duration": 1167,
    "start_time": "2022-07-18T15:22:08.298Z"
   },
   {
    "duration": 82,
    "start_time": "2022-07-18T15:22:09.467Z"
   },
   {
    "duration": 27,
    "start_time": "2022-07-18T15:22:09.551Z"
   },
   {
    "duration": 21,
    "start_time": "2022-07-18T15:22:09.579Z"
   },
   {
    "duration": 63,
    "start_time": "2022-07-18T15:22:09.603Z"
   },
   {
    "duration": 32,
    "start_time": "2022-07-18T15:22:09.668Z"
   },
   {
    "duration": 14,
    "start_time": "2022-07-18T15:22:09.702Z"
   },
   {
    "duration": 43,
    "start_time": "2022-07-18T15:22:09.718Z"
   },
   {
    "duration": 332,
    "start_time": "2022-07-18T15:22:09.763Z"
   },
   {
    "duration": 8,
    "start_time": "2022-07-18T15:22:10.097Z"
   },
   {
    "duration": 16,
    "start_time": "2022-07-18T15:22:10.107Z"
   },
   {
    "duration": 339,
    "start_time": "2022-07-18T15:22:10.126Z"
   },
   {
    "duration": 241,
    "start_time": "2022-07-18T15:22:10.466Z"
   },
   {
    "duration": 12,
    "start_time": "2022-07-18T15:22:10.710Z"
   },
   {
    "duration": 370,
    "start_time": "2022-07-18T15:22:10.725Z"
   },
   {
    "duration": 6,
    "start_time": "2022-07-18T15:22:11.097Z"
   },
   {
    "duration": 215,
    "start_time": "2022-07-18T15:22:11.104Z"
   },
   {
    "duration": 10,
    "start_time": "2022-07-18T15:22:11.322Z"
   },
   {
    "duration": 359,
    "start_time": "2022-07-18T15:22:11.334Z"
   },
   {
    "duration": 8,
    "start_time": "2022-07-18T15:22:11.695Z"
   },
   {
    "duration": 187,
    "start_time": "2022-07-18T15:22:11.705Z"
   },
   {
    "duration": 205,
    "start_time": "2022-07-18T15:22:11.893Z"
   },
   {
    "duration": 24,
    "start_time": "2022-07-18T15:22:12.099Z"
   },
   {
    "duration": 26,
    "start_time": "2022-07-18T15:22:12.125Z"
   },
   {
    "duration": 17,
    "start_time": "2022-07-18T15:22:12.153Z"
   },
   {
    "duration": 310,
    "start_time": "2022-07-18T15:22:12.172Z"
   },
   {
    "duration": 0,
    "start_time": "2022-07-18T15:22:12.484Z"
   },
   {
    "duration": 0,
    "start_time": "2022-07-18T15:22:12.485Z"
   },
   {
    "duration": 0,
    "start_time": "2022-07-18T15:22:12.486Z"
   },
   {
    "duration": 0,
    "start_time": "2022-07-18T15:22:12.487Z"
   },
   {
    "duration": 5,
    "start_time": "2022-07-18T15:22:34.239Z"
   },
   {
    "duration": 1202,
    "start_time": "2022-07-18T15:22:39.160Z"
   },
   {
    "duration": 97,
    "start_time": "2022-07-18T15:22:40.364Z"
   },
   {
    "duration": 13,
    "start_time": "2022-07-18T15:22:40.462Z"
   },
   {
    "duration": 11,
    "start_time": "2022-07-18T15:22:40.477Z"
   },
   {
    "duration": 47,
    "start_time": "2022-07-18T15:22:40.490Z"
   },
   {
    "duration": 36,
    "start_time": "2022-07-18T15:22:40.539Z"
   },
   {
    "duration": 16,
    "start_time": "2022-07-18T15:22:40.578Z"
   },
   {
    "duration": 34,
    "start_time": "2022-07-18T15:22:40.596Z"
   },
   {
    "duration": 339,
    "start_time": "2022-07-18T15:22:40.633Z"
   },
   {
    "duration": 9,
    "start_time": "2022-07-18T15:22:40.974Z"
   },
   {
    "duration": 8,
    "start_time": "2022-07-18T15:22:40.986Z"
   },
   {
    "duration": 379,
    "start_time": "2022-07-18T15:22:40.996Z"
   },
   {
    "duration": 274,
    "start_time": "2022-07-18T15:22:41.377Z"
   },
   {
    "duration": 6,
    "start_time": "2022-07-18T15:22:41.655Z"
   },
   {
    "duration": 370,
    "start_time": "2022-07-18T15:22:41.663Z"
   },
   {
    "duration": 11,
    "start_time": "2022-07-18T15:22:42.035Z"
   },
   {
    "duration": 234,
    "start_time": "2022-07-18T15:22:42.049Z"
   },
   {
    "duration": 9,
    "start_time": "2022-07-18T15:22:42.285Z"
   },
   {
    "duration": 388,
    "start_time": "2022-07-18T15:22:42.296Z"
   },
   {
    "duration": 6,
    "start_time": "2022-07-18T15:22:42.686Z"
   },
   {
    "duration": 183,
    "start_time": "2022-07-18T15:22:42.694Z"
   },
   {
    "duration": 221,
    "start_time": "2022-07-18T15:22:42.879Z"
   },
   {
    "duration": 25,
    "start_time": "2022-07-18T15:22:43.101Z"
   },
   {
    "duration": 6,
    "start_time": "2022-07-18T15:22:43.131Z"
   },
   {
    "duration": 16,
    "start_time": "2022-07-18T15:22:43.140Z"
   },
   {
    "duration": 330,
    "start_time": "2022-07-18T15:22:43.159Z"
   },
   {
    "duration": 0,
    "start_time": "2022-07-18T15:22:43.491Z"
   },
   {
    "duration": 0,
    "start_time": "2022-07-18T15:22:43.492Z"
   },
   {
    "duration": 0,
    "start_time": "2022-07-18T15:22:43.493Z"
   },
   {
    "duration": 1,
    "start_time": "2022-07-18T15:22:43.494Z"
   },
   {
    "duration": 25,
    "start_time": "2022-07-18T15:24:48.124Z"
   },
   {
    "duration": 58,
    "start_time": "2022-07-18T15:25:17.719Z"
   },
   {
    "duration": 57,
    "start_time": "2022-07-18T15:25:34.318Z"
   },
   {
    "duration": 936,
    "start_time": "2022-07-18T15:25:43.782Z"
   },
   {
    "duration": 19,
    "start_time": "2022-07-18T15:25:57.412Z"
   },
   {
    "duration": 12,
    "start_time": "2022-07-18T15:26:03.056Z"
   },
   {
    "duration": 213,
    "start_time": "2022-07-18T15:26:05.328Z"
   },
   {
    "duration": 1125,
    "start_time": "2022-07-18T15:26:55.321Z"
   },
   {
    "duration": 94,
    "start_time": "2022-07-18T15:26:56.448Z"
   },
   {
    "duration": 10,
    "start_time": "2022-07-18T15:26:56.544Z"
   },
   {
    "duration": 18,
    "start_time": "2022-07-18T15:26:56.556Z"
   },
   {
    "duration": 51,
    "start_time": "2022-07-18T15:26:56.575Z"
   },
   {
    "duration": 31,
    "start_time": "2022-07-18T15:26:56.628Z"
   },
   {
    "duration": 13,
    "start_time": "2022-07-18T15:26:56.661Z"
   },
   {
    "duration": 24,
    "start_time": "2022-07-18T15:26:56.676Z"
   },
   {
    "duration": 301,
    "start_time": "2022-07-18T15:26:56.722Z"
   },
   {
    "duration": 9,
    "start_time": "2022-07-18T15:26:57.026Z"
   },
   {
    "duration": 18,
    "start_time": "2022-07-18T15:26:57.037Z"
   },
   {
    "duration": 323,
    "start_time": "2022-07-18T15:26:57.057Z"
   },
   {
    "duration": 241,
    "start_time": "2022-07-18T15:26:57.382Z"
   },
   {
    "duration": 7,
    "start_time": "2022-07-18T15:26:57.624Z"
   },
   {
    "duration": 330,
    "start_time": "2022-07-18T15:26:57.633Z"
   },
   {
    "duration": 7,
    "start_time": "2022-07-18T15:26:57.964Z"
   },
   {
    "duration": 220,
    "start_time": "2022-07-18T15:26:57.973Z"
   },
   {
    "duration": 8,
    "start_time": "2022-07-18T15:26:58.195Z"
   },
   {
    "duration": 337,
    "start_time": "2022-07-18T15:26:58.205Z"
   },
   {
    "duration": 8,
    "start_time": "2022-07-18T15:26:58.544Z"
   },
   {
    "duration": 163,
    "start_time": "2022-07-18T15:26:58.553Z"
   },
   {
    "duration": 174,
    "start_time": "2022-07-18T15:26:58.722Z"
   },
   {
    "duration": 11,
    "start_time": "2022-07-18T15:26:58.898Z"
   },
   {
    "duration": 20,
    "start_time": "2022-07-18T15:26:58.911Z"
   },
   {
    "duration": 4,
    "start_time": "2022-07-18T15:26:58.933Z"
   },
   {
    "duration": 191,
    "start_time": "2022-07-18T15:26:58.939Z"
   },
   {
    "duration": 150,
    "start_time": "2022-07-18T15:26:59.132Z"
   },
   {
    "duration": 14,
    "start_time": "2022-07-18T15:26:59.286Z"
   },
   {
    "duration": 62,
    "start_time": "2022-07-18T15:26:59.301Z"
   },
   {
    "duration": 7,
    "start_time": "2022-07-18T15:26:59.365Z"
   },
   {
    "duration": 10,
    "start_time": "2022-07-18T15:27:39.384Z"
   },
   {
    "duration": 10,
    "start_time": "2022-07-18T15:27:49.541Z"
   },
   {
    "duration": 156,
    "start_time": "2022-07-18T15:27:50.396Z"
   },
   {
    "duration": 1099,
    "start_time": "2022-07-18T15:28:15.308Z"
   },
   {
    "duration": 97,
    "start_time": "2022-07-18T15:28:16.409Z"
   },
   {
    "duration": 12,
    "start_time": "2022-07-18T15:28:16.507Z"
   },
   {
    "duration": 10,
    "start_time": "2022-07-18T15:28:16.521Z"
   },
   {
    "duration": 49,
    "start_time": "2022-07-18T15:28:16.532Z"
   },
   {
    "duration": 31,
    "start_time": "2022-07-18T15:28:16.582Z"
   },
   {
    "duration": 14,
    "start_time": "2022-07-18T15:28:16.614Z"
   },
   {
    "duration": 29,
    "start_time": "2022-07-18T15:28:16.630Z"
   },
   {
    "duration": 311,
    "start_time": "2022-07-18T15:28:16.661Z"
   },
   {
    "duration": 9,
    "start_time": "2022-07-18T15:28:16.975Z"
   },
   {
    "duration": 7,
    "start_time": "2022-07-18T15:28:16.986Z"
   },
   {
    "duration": 319,
    "start_time": "2022-07-18T15:28:16.995Z"
   },
   {
    "duration": 233,
    "start_time": "2022-07-18T15:28:17.315Z"
   },
   {
    "duration": 6,
    "start_time": "2022-07-18T15:28:17.550Z"
   },
   {
    "duration": 309,
    "start_time": "2022-07-18T15:28:17.558Z"
   },
   {
    "duration": 6,
    "start_time": "2022-07-18T15:28:17.868Z"
   },
   {
    "duration": 215,
    "start_time": "2022-07-18T15:28:17.876Z"
   },
   {
    "duration": 9,
    "start_time": "2022-07-18T15:28:18.093Z"
   },
   {
    "duration": 332,
    "start_time": "2022-07-18T15:28:18.104Z"
   },
   {
    "duration": 7,
    "start_time": "2022-07-18T15:28:18.438Z"
   },
   {
    "duration": 159,
    "start_time": "2022-07-18T15:28:18.447Z"
   },
   {
    "duration": 164,
    "start_time": "2022-07-18T15:28:18.608Z"
   },
   {
    "duration": 12,
    "start_time": "2022-07-18T15:28:18.773Z"
   },
   {
    "duration": 10,
    "start_time": "2022-07-18T15:28:18.786Z"
   },
   {
    "duration": 192,
    "start_time": "2022-07-18T15:28:18.797Z"
   },
   {
    "duration": 140,
    "start_time": "2022-07-18T15:28:18.991Z"
   },
   {
    "duration": 13,
    "start_time": "2022-07-18T15:28:19.132Z"
   },
   {
    "duration": 43,
    "start_time": "2022-07-18T15:28:19.148Z"
   },
   {
    "duration": 30,
    "start_time": "2022-07-18T15:28:19.193Z"
   },
   {
    "duration": 1394,
    "start_time": "2022-07-19T10:40:25.885Z"
   },
   {
    "duration": 138,
    "start_time": "2022-07-19T10:40:27.281Z"
   },
   {
    "duration": 14,
    "start_time": "2022-07-19T10:40:27.420Z"
   },
   {
    "duration": 18,
    "start_time": "2022-07-19T10:40:27.436Z"
   },
   {
    "duration": 155,
    "start_time": "2022-07-19T10:40:27.455Z"
   },
   {
    "duration": 40,
    "start_time": "2022-07-19T10:40:27.611Z"
   },
   {
    "duration": 14,
    "start_time": "2022-07-19T10:40:27.653Z"
   },
   {
    "duration": 37,
    "start_time": "2022-07-19T10:40:27.669Z"
   },
   {
    "duration": 357,
    "start_time": "2022-07-19T10:40:27.707Z"
   },
   {
    "duration": 9,
    "start_time": "2022-07-19T10:40:28.067Z"
   },
   {
    "duration": 17,
    "start_time": "2022-07-19T10:40:28.078Z"
   },
   {
    "duration": 330,
    "start_time": "2022-07-19T10:40:28.097Z"
   },
   {
    "duration": 241,
    "start_time": "2022-07-19T10:40:28.429Z"
   },
   {
    "duration": 7,
    "start_time": "2022-07-19T10:40:28.672Z"
   },
   {
    "duration": 408,
    "start_time": "2022-07-19T10:40:28.681Z"
   },
   {
    "duration": 13,
    "start_time": "2022-07-19T10:40:29.091Z"
   },
   {
    "duration": 205,
    "start_time": "2022-07-19T10:40:29.105Z"
   },
   {
    "duration": 13,
    "start_time": "2022-07-19T10:40:29.313Z"
   },
   {
    "duration": 332,
    "start_time": "2022-07-19T10:40:29.328Z"
   },
   {
    "duration": 7,
    "start_time": "2022-07-19T10:40:29.663Z"
   },
   {
    "duration": 174,
    "start_time": "2022-07-19T10:40:29.672Z"
   },
   {
    "duration": 182,
    "start_time": "2022-07-19T10:40:29.848Z"
   },
   {
    "duration": 18,
    "start_time": "2022-07-19T10:40:30.032Z"
   },
   {
    "duration": 44,
    "start_time": "2022-07-19T10:40:30.052Z"
   },
   {
    "duration": 218,
    "start_time": "2022-07-19T10:40:30.098Z"
   },
   {
    "duration": 148,
    "start_time": "2022-07-19T10:40:30.317Z"
   },
   {
    "duration": 14,
    "start_time": "2022-07-19T10:40:30.467Z"
   },
   {
    "duration": 70,
    "start_time": "2022-07-19T10:40:30.484Z"
   },
   {
    "duration": 7,
    "start_time": "2022-07-19T10:40:30.556Z"
   }
  ],
  "kernelspec": {
   "display_name": "Python 3 (ipykernel)",
   "language": "python",
   "name": "python3"
  },
  "language_info": {
   "codemirror_mode": {
    "name": "ipython",
    "version": 3
   },
   "file_extension": ".py",
   "mimetype": "text/x-python",
   "name": "python",
   "nbconvert_exporter": "python",
   "pygments_lexer": "ipython3",
   "version": "3.9.12"
  },
  "toc": {
   "base_numbering": 1,
   "nav_menu": {},
   "number_sections": true,
   "sideBar": true,
   "skip_h1_title": true,
   "title_cell": "Table of Contents",
   "title_sidebar": "Содержание",
   "toc_cell": false,
   "toc_position": {
    "height": "calc(100% - 180px)",
    "left": "10px",
    "top": "150px",
    "width": "349.391px"
   },
   "toc_section_display": true,
   "toc_window_display": true
  }
 },
 "nbformat": 4,
 "nbformat_minor": 2
}
