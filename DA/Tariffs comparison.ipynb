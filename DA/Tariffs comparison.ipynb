{
 "cells": [
  {
   "cell_type": "markdown",
   "metadata": {},
   "source": [
    "## Цели и задачи"
   ]
  },
  {
   "cell_type": "markdown",
   "metadata": {},
   "source": [
    "### Задача\n",
    "Необходимо выяснить какой из двух тарифов приносит больше денег.\n",
    "Данные предоставить коммерческому отделу для корректировки рекламного бюджета."
   ]
  },
  {
   "cell_type": "markdown",
   "metadata": {},
   "source": [
    "### План работ\n",
    "1. Изучить полученные данные.\n",
    "2. Подготовить данные для дальнейшего анализа.\n",
    "3. Проанализировать поведение клиентов по представленной выборке.\n",
    "4. Проверить гипотезы.\n",
    "5. Сделать вывод и подготовить результаты исследования."
   ]
  },
  {
   "cell_type": "markdown",
   "metadata": {},
   "source": [
    "### Вводные\n",
    "**Описание тарифов**   \n",
    "\n",
    "***Тариф «Смарт»***   \n",
    "Ежемесячная плата: 550 рублей   \n",
    "Включено 500 минут разговора, 50 сообщений и 15 Гб интернет-трафика   \n",
    "Стоимость услуг сверх тарифного пакета:\n",
    "- минута разговора: 3 рубля\n",
    "- сообщение: 3 рубля\n",
    "- 1 Гб интернет-трафика: 200 рублей   \n",
    "\n",
    "***Тариф «Ультра»***   \n",
    "Ежемесячная плата: 1950 рублей   \n",
    "Включено 3000 минут разговора, 1000 сообщений и 30 Гб интернет-трафика   \n",
    "Стоимость услуг сверх тарифного пакета:\n",
    "- минута разговора: 1 рубль\n",
    "- сообщение: 1 рубль\n",
    "- 1 Гб интернет-трафика: 150 рублей   \n",
    "***\n",
    "**Гипотезы для проверки**   \n",
    "- средняя выручка пользователей тарифов «Ультра» и «Смарт» различаются;\n",
    "- средняя выручка пользователей из Москвы отличается от выручки пользователей из других регионов."
   ]
  },
  {
   "cell_type": "markdown",
   "metadata": {},
   "source": [
    "## Изучение данных"
   ]
  },
  {
   "cell_type": "code",
   "execution_count": 1,
   "metadata": {},
   "outputs": [],
   "source": [
    "# Сначала загружаю необходимые библиотеки и модули\n",
    "import pandas as pd\n",
    "import numpy as np\n",
    "from scipy import stats as st\n",
    "from math import factorial"
   ]
  },
  {
   "cell_type": "code",
   "execution_count": 2,
   "metadata": {},
   "outputs": [],
   "source": [
    "# Загружаю датасеты\n",
    "df_calls = pd.read_csv('calls.csv') # Звонки\n",
    "df_internet = pd.read_csv('internet.csv') # Интернет\n",
    "df_messages = pd.read_csv('messages.csv') # Сообщения\n",
    "df_tariffs = pd.read_csv('tariffs.csv') # Тарифы\n",
    "df_users = pd.read_csv('users.csv') # Пользователи"
   ]
  },
  {
   "cell_type": "code",
   "execution_count": 3,
   "metadata": {
    "scrolled": false
   },
   "outputs": [
    {
     "name": "stdout",
     "output_type": "stream",
     "text": [
      "<class 'pandas.core.frame.DataFrame'>\n",
      "RangeIndex: 202607 entries, 0 to 202606\n",
      "Data columns (total 4 columns):\n",
      " #   Column     Non-Null Count   Dtype  \n",
      "---  ------     --------------   -----  \n",
      " 0   id         202607 non-null  object \n",
      " 1   call_date  202607 non-null  object \n",
      " 2   duration   202607 non-null  float64\n",
      " 3   user_id    202607 non-null  int64  \n",
      "dtypes: float64(1), int64(1), object(2)\n",
      "memory usage: 6.2+ MB\n"
     ]
    },
    {
     "data": {
      "text/plain": [
       "None"
      ]
     },
     "metadata": {},
     "output_type": "display_data"
    },
    {
     "data": {
      "text/html": [
       "<div>\n",
       "<style scoped>\n",
       "    .dataframe tbody tr th:only-of-type {\n",
       "        vertical-align: middle;\n",
       "    }\n",
       "\n",
       "    .dataframe tbody tr th {\n",
       "        vertical-align: top;\n",
       "    }\n",
       "\n",
       "    .dataframe thead th {\n",
       "        text-align: right;\n",
       "    }\n",
       "</style>\n",
       "<table border=\"1\" class=\"dataframe\">\n",
       "  <thead>\n",
       "    <tr style=\"text-align: right;\">\n",
       "      <th></th>\n",
       "      <th>id</th>\n",
       "      <th>call_date</th>\n",
       "      <th>duration</th>\n",
       "      <th>user_id</th>\n",
       "    </tr>\n",
       "  </thead>\n",
       "  <tbody>\n",
       "    <tr>\n",
       "      <th>0</th>\n",
       "      <td>1000_0</td>\n",
       "      <td>2018-07-25</td>\n",
       "      <td>0.00</td>\n",
       "      <td>1000</td>\n",
       "    </tr>\n",
       "    <tr>\n",
       "      <th>1</th>\n",
       "      <td>1000_1</td>\n",
       "      <td>2018-08-17</td>\n",
       "      <td>0.00</td>\n",
       "      <td>1000</td>\n",
       "    </tr>\n",
       "    <tr>\n",
       "      <th>2</th>\n",
       "      <td>1000_2</td>\n",
       "      <td>2018-06-11</td>\n",
       "      <td>2.85</td>\n",
       "      <td>1000</td>\n",
       "    </tr>\n",
       "    <tr>\n",
       "      <th>3</th>\n",
       "      <td>1000_3</td>\n",
       "      <td>2018-09-21</td>\n",
       "      <td>13.80</td>\n",
       "      <td>1000</td>\n",
       "    </tr>\n",
       "    <tr>\n",
       "      <th>4</th>\n",
       "      <td>1000_4</td>\n",
       "      <td>2018-12-15</td>\n",
       "      <td>5.18</td>\n",
       "      <td>1000</td>\n",
       "    </tr>\n",
       "    <tr>\n",
       "      <th>5</th>\n",
       "      <td>1000_5</td>\n",
       "      <td>2018-11-02</td>\n",
       "      <td>0.00</td>\n",
       "      <td>1000</td>\n",
       "    </tr>\n",
       "    <tr>\n",
       "      <th>6</th>\n",
       "      <td>1000_6</td>\n",
       "      <td>2018-10-18</td>\n",
       "      <td>0.00</td>\n",
       "      <td>1000</td>\n",
       "    </tr>\n",
       "    <tr>\n",
       "      <th>7</th>\n",
       "      <td>1000_7</td>\n",
       "      <td>2018-08-22</td>\n",
       "      <td>18.31</td>\n",
       "      <td>1000</td>\n",
       "    </tr>\n",
       "    <tr>\n",
       "      <th>8</th>\n",
       "      <td>1000_8</td>\n",
       "      <td>2018-09-15</td>\n",
       "      <td>18.44</td>\n",
       "      <td>1000</td>\n",
       "    </tr>\n",
       "    <tr>\n",
       "      <th>9</th>\n",
       "      <td>1000_9</td>\n",
       "      <td>2018-08-15</td>\n",
       "      <td>0.00</td>\n",
       "      <td>1000</td>\n",
       "    </tr>\n",
       "  </tbody>\n",
       "</table>\n",
       "</div>"
      ],
      "text/plain": [
       "       id   call_date  duration  user_id\n",
       "0  1000_0  2018-07-25      0.00     1000\n",
       "1  1000_1  2018-08-17      0.00     1000\n",
       "2  1000_2  2018-06-11      2.85     1000\n",
       "3  1000_3  2018-09-21     13.80     1000\n",
       "4  1000_4  2018-12-15      5.18     1000\n",
       "5  1000_5  2018-11-02      0.00     1000\n",
       "6  1000_6  2018-10-18      0.00     1000\n",
       "7  1000_7  2018-08-22     18.31     1000\n",
       "8  1000_8  2018-09-15     18.44     1000\n",
       "9  1000_9  2018-08-15      0.00     1000"
      ]
     },
     "metadata": {},
     "output_type": "display_data"
    },
    {
     "name": "stdout",
     "output_type": "stream",
     "text": [
      "************************************************************\n",
      "<class 'pandas.core.frame.DataFrame'>\n",
      "RangeIndex: 149396 entries, 0 to 149395\n",
      "Data columns (total 5 columns):\n",
      " #   Column        Non-Null Count   Dtype  \n",
      "---  ------        --------------   -----  \n",
      " 0   Unnamed: 0    149396 non-null  int64  \n",
      " 1   id            149396 non-null  object \n",
      " 2   mb_used       149396 non-null  float64\n",
      " 3   session_date  149396 non-null  object \n",
      " 4   user_id       149396 non-null  int64  \n",
      "dtypes: float64(1), int64(2), object(2)\n",
      "memory usage: 5.7+ MB\n"
     ]
    },
    {
     "data": {
      "text/plain": [
       "None"
      ]
     },
     "metadata": {},
     "output_type": "display_data"
    },
    {
     "data": {
      "text/html": [
       "<div>\n",
       "<style scoped>\n",
       "    .dataframe tbody tr th:only-of-type {\n",
       "        vertical-align: middle;\n",
       "    }\n",
       "\n",
       "    .dataframe tbody tr th {\n",
       "        vertical-align: top;\n",
       "    }\n",
       "\n",
       "    .dataframe thead th {\n",
       "        text-align: right;\n",
       "    }\n",
       "</style>\n",
       "<table border=\"1\" class=\"dataframe\">\n",
       "  <thead>\n",
       "    <tr style=\"text-align: right;\">\n",
       "      <th></th>\n",
       "      <th>Unnamed: 0</th>\n",
       "      <th>id</th>\n",
       "      <th>mb_used</th>\n",
       "      <th>session_date</th>\n",
       "      <th>user_id</th>\n",
       "    </tr>\n",
       "  </thead>\n",
       "  <tbody>\n",
       "    <tr>\n",
       "      <th>0</th>\n",
       "      <td>0</td>\n",
       "      <td>1000_0</td>\n",
       "      <td>112.95</td>\n",
       "      <td>2018-11-25</td>\n",
       "      <td>1000</td>\n",
       "    </tr>\n",
       "    <tr>\n",
       "      <th>1</th>\n",
       "      <td>1</td>\n",
       "      <td>1000_1</td>\n",
       "      <td>1052.81</td>\n",
       "      <td>2018-09-07</td>\n",
       "      <td>1000</td>\n",
       "    </tr>\n",
       "    <tr>\n",
       "      <th>2</th>\n",
       "      <td>2</td>\n",
       "      <td>1000_2</td>\n",
       "      <td>1197.26</td>\n",
       "      <td>2018-06-25</td>\n",
       "      <td>1000</td>\n",
       "    </tr>\n",
       "    <tr>\n",
       "      <th>3</th>\n",
       "      <td>3</td>\n",
       "      <td>1000_3</td>\n",
       "      <td>550.27</td>\n",
       "      <td>2018-08-22</td>\n",
       "      <td>1000</td>\n",
       "    </tr>\n",
       "    <tr>\n",
       "      <th>4</th>\n",
       "      <td>4</td>\n",
       "      <td>1000_4</td>\n",
       "      <td>302.56</td>\n",
       "      <td>2018-09-24</td>\n",
       "      <td>1000</td>\n",
       "    </tr>\n",
       "    <tr>\n",
       "      <th>5</th>\n",
       "      <td>5</td>\n",
       "      <td>1000_5</td>\n",
       "      <td>399.97</td>\n",
       "      <td>2018-10-02</td>\n",
       "      <td>1000</td>\n",
       "    </tr>\n",
       "    <tr>\n",
       "      <th>6</th>\n",
       "      <td>6</td>\n",
       "      <td>1000_6</td>\n",
       "      <td>540.08</td>\n",
       "      <td>2018-09-07</td>\n",
       "      <td>1000</td>\n",
       "    </tr>\n",
       "    <tr>\n",
       "      <th>7</th>\n",
       "      <td>7</td>\n",
       "      <td>1000_7</td>\n",
       "      <td>415.70</td>\n",
       "      <td>2018-07-11</td>\n",
       "      <td>1000</td>\n",
       "    </tr>\n",
       "    <tr>\n",
       "      <th>8</th>\n",
       "      <td>8</td>\n",
       "      <td>1000_8</td>\n",
       "      <td>505.40</td>\n",
       "      <td>2018-10-08</td>\n",
       "      <td>1000</td>\n",
       "    </tr>\n",
       "    <tr>\n",
       "      <th>9</th>\n",
       "      <td>9</td>\n",
       "      <td>1000_9</td>\n",
       "      <td>345.54</td>\n",
       "      <td>2018-09-03</td>\n",
       "      <td>1000</td>\n",
       "    </tr>\n",
       "  </tbody>\n",
       "</table>\n",
       "</div>"
      ],
      "text/plain": [
       "   Unnamed: 0      id  mb_used session_date  user_id\n",
       "0           0  1000_0   112.95   2018-11-25     1000\n",
       "1           1  1000_1  1052.81   2018-09-07     1000\n",
       "2           2  1000_2  1197.26   2018-06-25     1000\n",
       "3           3  1000_3   550.27   2018-08-22     1000\n",
       "4           4  1000_4   302.56   2018-09-24     1000\n",
       "5           5  1000_5   399.97   2018-10-02     1000\n",
       "6           6  1000_6   540.08   2018-09-07     1000\n",
       "7           7  1000_7   415.70   2018-07-11     1000\n",
       "8           8  1000_8   505.40   2018-10-08     1000\n",
       "9           9  1000_9   345.54   2018-09-03     1000"
      ]
     },
     "metadata": {},
     "output_type": "display_data"
    },
    {
     "name": "stdout",
     "output_type": "stream",
     "text": [
      "************************************************************\n",
      "<class 'pandas.core.frame.DataFrame'>\n",
      "RangeIndex: 123036 entries, 0 to 123035\n",
      "Data columns (total 3 columns):\n",
      " #   Column        Non-Null Count   Dtype \n",
      "---  ------        --------------   ----- \n",
      " 0   id            123036 non-null  object\n",
      " 1   message_date  123036 non-null  object\n",
      " 2   user_id       123036 non-null  int64 \n",
      "dtypes: int64(1), object(2)\n",
      "memory usage: 2.8+ MB\n"
     ]
    },
    {
     "data": {
      "text/plain": [
       "None"
      ]
     },
     "metadata": {},
     "output_type": "display_data"
    },
    {
     "data": {
      "text/html": [
       "<div>\n",
       "<style scoped>\n",
       "    .dataframe tbody tr th:only-of-type {\n",
       "        vertical-align: middle;\n",
       "    }\n",
       "\n",
       "    .dataframe tbody tr th {\n",
       "        vertical-align: top;\n",
       "    }\n",
       "\n",
       "    .dataframe thead th {\n",
       "        text-align: right;\n",
       "    }\n",
       "</style>\n",
       "<table border=\"1\" class=\"dataframe\">\n",
       "  <thead>\n",
       "    <tr style=\"text-align: right;\">\n",
       "      <th></th>\n",
       "      <th>id</th>\n",
       "      <th>message_date</th>\n",
       "      <th>user_id</th>\n",
       "    </tr>\n",
       "  </thead>\n",
       "  <tbody>\n",
       "    <tr>\n",
       "      <th>0</th>\n",
       "      <td>1000_0</td>\n",
       "      <td>2018-06-27</td>\n",
       "      <td>1000</td>\n",
       "    </tr>\n",
       "    <tr>\n",
       "      <th>1</th>\n",
       "      <td>1000_1</td>\n",
       "      <td>2018-10-08</td>\n",
       "      <td>1000</td>\n",
       "    </tr>\n",
       "    <tr>\n",
       "      <th>2</th>\n",
       "      <td>1000_2</td>\n",
       "      <td>2018-08-04</td>\n",
       "      <td>1000</td>\n",
       "    </tr>\n",
       "    <tr>\n",
       "      <th>3</th>\n",
       "      <td>1000_3</td>\n",
       "      <td>2018-06-16</td>\n",
       "      <td>1000</td>\n",
       "    </tr>\n",
       "    <tr>\n",
       "      <th>4</th>\n",
       "      <td>1000_4</td>\n",
       "      <td>2018-12-05</td>\n",
       "      <td>1000</td>\n",
       "    </tr>\n",
       "    <tr>\n",
       "      <th>5</th>\n",
       "      <td>1000_5</td>\n",
       "      <td>2018-06-20</td>\n",
       "      <td>1000</td>\n",
       "    </tr>\n",
       "    <tr>\n",
       "      <th>6</th>\n",
       "      <td>1000_6</td>\n",
       "      <td>2018-11-19</td>\n",
       "      <td>1000</td>\n",
       "    </tr>\n",
       "    <tr>\n",
       "      <th>7</th>\n",
       "      <td>1000_7</td>\n",
       "      <td>2018-10-29</td>\n",
       "      <td>1000</td>\n",
       "    </tr>\n",
       "    <tr>\n",
       "      <th>8</th>\n",
       "      <td>1000_8</td>\n",
       "      <td>2018-06-25</td>\n",
       "      <td>1000</td>\n",
       "    </tr>\n",
       "    <tr>\n",
       "      <th>9</th>\n",
       "      <td>1000_9</td>\n",
       "      <td>2018-12-18</td>\n",
       "      <td>1000</td>\n",
       "    </tr>\n",
       "  </tbody>\n",
       "</table>\n",
       "</div>"
      ],
      "text/plain": [
       "       id message_date  user_id\n",
       "0  1000_0   2018-06-27     1000\n",
       "1  1000_1   2018-10-08     1000\n",
       "2  1000_2   2018-08-04     1000\n",
       "3  1000_3   2018-06-16     1000\n",
       "4  1000_4   2018-12-05     1000\n",
       "5  1000_5   2018-06-20     1000\n",
       "6  1000_6   2018-11-19     1000\n",
       "7  1000_7   2018-10-29     1000\n",
       "8  1000_8   2018-06-25     1000\n",
       "9  1000_9   2018-12-18     1000"
      ]
     },
     "metadata": {},
     "output_type": "display_data"
    },
    {
     "name": "stdout",
     "output_type": "stream",
     "text": [
      "************************************************************\n",
      "<class 'pandas.core.frame.DataFrame'>\n",
      "RangeIndex: 2 entries, 0 to 1\n",
      "Data columns (total 8 columns):\n",
      " #   Column                 Non-Null Count  Dtype \n",
      "---  ------                 --------------  ----- \n",
      " 0   messages_included      2 non-null      int64 \n",
      " 1   mb_per_month_included  2 non-null      int64 \n",
      " 2   minutes_included       2 non-null      int64 \n",
      " 3   rub_monthly_fee        2 non-null      int64 \n",
      " 4   rub_per_gb             2 non-null      int64 \n",
      " 5   rub_per_message        2 non-null      int64 \n",
      " 6   rub_per_minute         2 non-null      int64 \n",
      " 7   tariff_name            2 non-null      object\n",
      "dtypes: int64(7), object(1)\n",
      "memory usage: 256.0+ bytes\n"
     ]
    },
    {
     "data": {
      "text/plain": [
       "None"
      ]
     },
     "metadata": {},
     "output_type": "display_data"
    },
    {
     "data": {
      "text/html": [
       "<div>\n",
       "<style scoped>\n",
       "    .dataframe tbody tr th:only-of-type {\n",
       "        vertical-align: middle;\n",
       "    }\n",
       "\n",
       "    .dataframe tbody tr th {\n",
       "        vertical-align: top;\n",
       "    }\n",
       "\n",
       "    .dataframe thead th {\n",
       "        text-align: right;\n",
       "    }\n",
       "</style>\n",
       "<table border=\"1\" class=\"dataframe\">\n",
       "  <thead>\n",
       "    <tr style=\"text-align: right;\">\n",
       "      <th></th>\n",
       "      <th>messages_included</th>\n",
       "      <th>mb_per_month_included</th>\n",
       "      <th>minutes_included</th>\n",
       "      <th>rub_monthly_fee</th>\n",
       "      <th>rub_per_gb</th>\n",
       "      <th>rub_per_message</th>\n",
       "      <th>rub_per_minute</th>\n",
       "      <th>tariff_name</th>\n",
       "    </tr>\n",
       "  </thead>\n",
       "  <tbody>\n",
       "    <tr>\n",
       "      <th>0</th>\n",
       "      <td>50</td>\n",
       "      <td>15360</td>\n",
       "      <td>500</td>\n",
       "      <td>550</td>\n",
       "      <td>200</td>\n",
       "      <td>3</td>\n",
       "      <td>3</td>\n",
       "      <td>smart</td>\n",
       "    </tr>\n",
       "    <tr>\n",
       "      <th>1</th>\n",
       "      <td>1000</td>\n",
       "      <td>30720</td>\n",
       "      <td>3000</td>\n",
       "      <td>1950</td>\n",
       "      <td>150</td>\n",
       "      <td>1</td>\n",
       "      <td>1</td>\n",
       "      <td>ultra</td>\n",
       "    </tr>\n",
       "  </tbody>\n",
       "</table>\n",
       "</div>"
      ],
      "text/plain": [
       "   messages_included  mb_per_month_included  minutes_included  \\\n",
       "0                 50                  15360               500   \n",
       "1               1000                  30720              3000   \n",
       "\n",
       "   rub_monthly_fee  rub_per_gb  rub_per_message  rub_per_minute tariff_name  \n",
       "0              550         200                3               3       smart  \n",
       "1             1950         150                1               1       ultra  "
      ]
     },
     "metadata": {},
     "output_type": "display_data"
    },
    {
     "name": "stdout",
     "output_type": "stream",
     "text": [
      "************************************************************\n",
      "<class 'pandas.core.frame.DataFrame'>\n",
      "RangeIndex: 500 entries, 0 to 499\n",
      "Data columns (total 8 columns):\n",
      " #   Column      Non-Null Count  Dtype \n",
      "---  ------      --------------  ----- \n",
      " 0   user_id     500 non-null    int64 \n",
      " 1   age         500 non-null    int64 \n",
      " 2   churn_date  38 non-null     object\n",
      " 3   city        500 non-null    object\n",
      " 4   first_name  500 non-null    object\n",
      " 5   last_name   500 non-null    object\n",
      " 6   reg_date    500 non-null    object\n",
      " 7   tariff      500 non-null    object\n",
      "dtypes: int64(2), object(6)\n",
      "memory usage: 31.4+ KB\n"
     ]
    },
    {
     "data": {
      "text/plain": [
       "None"
      ]
     },
     "metadata": {},
     "output_type": "display_data"
    },
    {
     "data": {
      "text/html": [
       "<div>\n",
       "<style scoped>\n",
       "    .dataframe tbody tr th:only-of-type {\n",
       "        vertical-align: middle;\n",
       "    }\n",
       "\n",
       "    .dataframe tbody tr th {\n",
       "        vertical-align: top;\n",
       "    }\n",
       "\n",
       "    .dataframe thead th {\n",
       "        text-align: right;\n",
       "    }\n",
       "</style>\n",
       "<table border=\"1\" class=\"dataframe\">\n",
       "  <thead>\n",
       "    <tr style=\"text-align: right;\">\n",
       "      <th></th>\n",
       "      <th>user_id</th>\n",
       "      <th>age</th>\n",
       "      <th>churn_date</th>\n",
       "      <th>city</th>\n",
       "      <th>first_name</th>\n",
       "      <th>last_name</th>\n",
       "      <th>reg_date</th>\n",
       "      <th>tariff</th>\n",
       "    </tr>\n",
       "  </thead>\n",
       "  <tbody>\n",
       "    <tr>\n",
       "      <th>0</th>\n",
       "      <td>1000</td>\n",
       "      <td>52</td>\n",
       "      <td>NaN</td>\n",
       "      <td>Краснодар</td>\n",
       "      <td>Рафаил</td>\n",
       "      <td>Верещагин</td>\n",
       "      <td>2018-05-25</td>\n",
       "      <td>ultra</td>\n",
       "    </tr>\n",
       "    <tr>\n",
       "      <th>1</th>\n",
       "      <td>1001</td>\n",
       "      <td>41</td>\n",
       "      <td>NaN</td>\n",
       "      <td>Москва</td>\n",
       "      <td>Иван</td>\n",
       "      <td>Ежов</td>\n",
       "      <td>2018-11-01</td>\n",
       "      <td>smart</td>\n",
       "    </tr>\n",
       "    <tr>\n",
       "      <th>2</th>\n",
       "      <td>1002</td>\n",
       "      <td>59</td>\n",
       "      <td>NaN</td>\n",
       "      <td>Стерлитамак</td>\n",
       "      <td>Евгений</td>\n",
       "      <td>Абрамович</td>\n",
       "      <td>2018-06-17</td>\n",
       "      <td>smart</td>\n",
       "    </tr>\n",
       "    <tr>\n",
       "      <th>3</th>\n",
       "      <td>1003</td>\n",
       "      <td>23</td>\n",
       "      <td>NaN</td>\n",
       "      <td>Москва</td>\n",
       "      <td>Белла</td>\n",
       "      <td>Белякова</td>\n",
       "      <td>2018-08-17</td>\n",
       "      <td>ultra</td>\n",
       "    </tr>\n",
       "    <tr>\n",
       "      <th>4</th>\n",
       "      <td>1004</td>\n",
       "      <td>68</td>\n",
       "      <td>NaN</td>\n",
       "      <td>Новокузнецк</td>\n",
       "      <td>Татьяна</td>\n",
       "      <td>Авдеенко</td>\n",
       "      <td>2018-05-14</td>\n",
       "      <td>ultra</td>\n",
       "    </tr>\n",
       "    <tr>\n",
       "      <th>5</th>\n",
       "      <td>1005</td>\n",
       "      <td>67</td>\n",
       "      <td>NaN</td>\n",
       "      <td>Набережные Челны</td>\n",
       "      <td>Афанасий</td>\n",
       "      <td>Горлов</td>\n",
       "      <td>2018-01-25</td>\n",
       "      <td>smart</td>\n",
       "    </tr>\n",
       "    <tr>\n",
       "      <th>6</th>\n",
       "      <td>1006</td>\n",
       "      <td>21</td>\n",
       "      <td>NaN</td>\n",
       "      <td>Ульяновск</td>\n",
       "      <td>Леонид</td>\n",
       "      <td>Ермолаев</td>\n",
       "      <td>2018-02-26</td>\n",
       "      <td>smart</td>\n",
       "    </tr>\n",
       "    <tr>\n",
       "      <th>7</th>\n",
       "      <td>1007</td>\n",
       "      <td>65</td>\n",
       "      <td>NaN</td>\n",
       "      <td>Москва</td>\n",
       "      <td>Юна</td>\n",
       "      <td>Березина</td>\n",
       "      <td>2018-04-19</td>\n",
       "      <td>smart</td>\n",
       "    </tr>\n",
       "    <tr>\n",
       "      <th>8</th>\n",
       "      <td>1008</td>\n",
       "      <td>63</td>\n",
       "      <td>NaN</td>\n",
       "      <td>Челябинск</td>\n",
       "      <td>Рустэм</td>\n",
       "      <td>Пономарёв</td>\n",
       "      <td>2018-12-19</td>\n",
       "      <td>smart</td>\n",
       "    </tr>\n",
       "    <tr>\n",
       "      <th>9</th>\n",
       "      <td>1009</td>\n",
       "      <td>24</td>\n",
       "      <td>NaN</td>\n",
       "      <td>Пермь</td>\n",
       "      <td>Василиса</td>\n",
       "      <td>Блинова</td>\n",
       "      <td>2018-03-22</td>\n",
       "      <td>smart</td>\n",
       "    </tr>\n",
       "  </tbody>\n",
       "</table>\n",
       "</div>"
      ],
      "text/plain": [
       "   user_id  age churn_date              city first_name  last_name  \\\n",
       "0     1000   52        NaN         Краснодар     Рафаил  Верещагин   \n",
       "1     1001   41        NaN            Москва       Иван       Ежов   \n",
       "2     1002   59        NaN       Стерлитамак    Евгений  Абрамович   \n",
       "3     1003   23        NaN            Москва      Белла   Белякова   \n",
       "4     1004   68        NaN       Новокузнецк    Татьяна   Авдеенко   \n",
       "5     1005   67        NaN  Набережные Челны   Афанасий     Горлов   \n",
       "6     1006   21        NaN         Ульяновск     Леонид   Ермолаев   \n",
       "7     1007   65        NaN            Москва        Юна   Березина   \n",
       "8     1008   63        NaN         Челябинск     Рустэм  Пономарёв   \n",
       "9     1009   24        NaN             Пермь   Василиса    Блинова   \n",
       "\n",
       "     reg_date tariff  \n",
       "0  2018-05-25  ultra  \n",
       "1  2018-11-01  smart  \n",
       "2  2018-06-17  smart  \n",
       "3  2018-08-17  ultra  \n",
       "4  2018-05-14  ultra  \n",
       "5  2018-01-25  smart  \n",
       "6  2018-02-26  smart  \n",
       "7  2018-04-19  smart  \n",
       "8  2018-12-19  smart  \n",
       "9  2018-03-22  smart  "
      ]
     },
     "metadata": {},
     "output_type": "display_data"
    },
    {
     "name": "stdout",
     "output_type": "stream",
     "text": [
      "************************************************************\n"
     ]
    }
   ],
   "source": [
    "# Веведу основную информацию о датасетах\n",
    "for df in [df_calls, df_internet, df_messages, df_tariffs, df_users]:\n",
    "    display(df.info())\n",
    "    display(df.head(10))\n",
    "    print('*'*60)"
   ]
  },
  {
   "cell_type": "markdown",
   "metadata": {},
   "source": [
    "Отлично, что нет пропусков данных. Из того, что можно поправить - тип данных, а точнее везде изменить ```object``` на ```datetime```."
   ]
  },
  {
   "cell_type": "markdown",
   "metadata": {},
   "source": [
    "## Подготовка данных"
   ]
  },
  {
   "cell_type": "markdown",
   "metadata": {},
   "source": [
    "### Проверка на дубли."
   ]
  },
  {
   "cell_type": "code",
   "execution_count": 4,
   "metadata": {},
   "outputs": [
    {
     "name": "stdout",
     "output_type": "stream",
     "text": [
      "Явных дублей: 0\n",
      "********************\n",
      "Явных дублей: 0\n",
      "********************\n",
      "Явных дублей: 0\n",
      "********************\n",
      "Явных дублей: 0\n",
      "********************\n",
      "Явных дублей: 0\n",
      "********************\n"
     ]
    }
   ],
   "source": [
    "for df in [df_calls, df_internet, df_messages, df_tariffs, df_users]: # Проверю циклом наличие явных дублей\n",
    "    print('Явных дублей:', df.duplicated().sum())\n",
    "    print('*'*20)"
   ]
  },
  {
   "cell_type": "markdown",
   "metadata": {},
   "source": [
    "### Детали датафреймов"
   ]
  },
  {
   "cell_type": "markdown",
   "metadata": {},
   "source": [
    "Посмотрю поближе на каждый из датафреймов.   \n",
    "**df_calls** - данные о звонках   \n",
    "**df_internet** - данные о использование интернета   \n",
    "**df_messages** - данные о сообщениях   \n",
    "**df_tariffs** - данные о тарифных планах   \n",
    "**df_users** - данные о пользователях   "
   ]
  },
  {
   "cell_type": "code",
   "execution_count": 5,
   "metadata": {},
   "outputs": [
    {
     "data": {
      "text/plain": [
       "count     202607\n",
       "unique    202607\n",
       "top       1000_0\n",
       "freq           1\n",
       "Name: id, dtype: object"
      ]
     },
     "metadata": {},
     "output_type": "display_data"
    },
    {
     "data": {
      "text/plain": [
       "1000_0      1\n",
       "1344_881    1\n",
       "1344_883    1\n",
       "1344_884    1\n",
       "1344_885    1\n",
       "           ..\n",
       "1171_562    1\n",
       "1171_563    1\n",
       "1171_564    1\n",
       "1171_565    1\n",
       "1499_219    1\n",
       "Name: id, Length: 202607, dtype: int64"
      ]
     },
     "metadata": {},
     "output_type": "display_data"
    },
    {
     "data": {
      "text/plain": [
       "count         202607\n",
       "unique           365\n",
       "top       2018-12-31\n",
       "freq            1435\n",
       "Name: call_date, dtype: object"
      ]
     },
     "metadata": {},
     "output_type": "display_data"
    },
    {
     "data": {
      "text/plain": [
       "2018-12-31    1435\n",
       "2018-12-29    1202\n",
       "2018-12-30    1192\n",
       "2018-12-22    1158\n",
       "2018-12-26    1149\n",
       "              ... \n",
       "2018-01-05      20\n",
       "2018-01-07      18\n",
       "2018-01-02       9\n",
       "2018-01-03       7\n",
       "2018-01-01       5\n",
       "Name: call_date, Length: 365, dtype: int64"
      ]
     },
     "metadata": {},
     "output_type": "display_data"
    },
    {
     "data": {
      "text/plain": [
       "count    202607.000000\n",
       "mean          6.755887\n",
       "std           5.843365\n",
       "min           0.000000\n",
       "25%           1.300000\n",
       "50%           6.000000\n",
       "75%          10.700000\n",
       "max          38.000000\n",
       "Name: duration, dtype: float64"
      ]
     },
     "metadata": {},
     "output_type": "display_data"
    },
    {
     "data": {
      "text/plain": [
       "0.00     39613\n",
       "4.49       142\n",
       "5.50       142\n",
       "6.15       141\n",
       "6.38       141\n",
       "         ...  \n",
       "26.94        1\n",
       "32.19        1\n",
       "26.32        1\n",
       "27.41        1\n",
       "26.90        1\n",
       "Name: duration, Length: 2871, dtype: int64"
      ]
     },
     "metadata": {},
     "output_type": "display_data"
    },
    {
     "data": {
      "text/plain": [
       "count    202607.000000\n",
       "mean       1253.940619\n",
       "std         144.722751\n",
       "min        1000.000000\n",
       "25%        1126.000000\n",
       "50%        1260.000000\n",
       "75%        1379.000000\n",
       "max        1499.000000\n",
       "Name: user_id, dtype: float64"
      ]
     },
     "metadata": {},
     "output_type": "display_data"
    },
    {
     "data": {
      "text/plain": [
       "1377    1760\n",
       "1168    1692\n",
       "1375    1560\n",
       "1453    1440\n",
       "1196    1240\n",
       "        ... \n",
       "1397      33\n",
       "1442      28\n",
       "1373      24\n",
       "1016      20\n",
       "1257      14\n",
       "Name: user_id, Length: 492, dtype: int64"
      ]
     },
     "metadata": {},
     "output_type": "display_data"
    }
   ],
   "source": [
    "for column in df_calls.columns: # Посмотрю описание данных в столбцах таблицы\n",
    "    display(df_calls[column].describe())\n",
    "    display(df_calls[column].value_counts())"
   ]
  },
  {
   "cell_type": "markdown",
   "metadata": {},
   "source": [
    "Исправлю тип данных в столбце даты и удалю пропущенные звонки."
   ]
  },
  {
   "cell_type": "code",
   "execution_count": 6,
   "metadata": {},
   "outputs": [
    {
     "name": "stdout",
     "output_type": "stream",
     "text": [
      "<class 'pandas.core.frame.DataFrame'>\n",
      "Int64Index: 162994 entries, 2 to 202606\n",
      "Data columns (total 4 columns):\n",
      " #   Column     Non-Null Count   Dtype         \n",
      "---  ------     --------------   -----         \n",
      " 0   id         162994 non-null  object        \n",
      " 1   call_date  162994 non-null  datetime64[ns]\n",
      " 2   duration   162994 non-null  float64       \n",
      " 3   user_id    162994 non-null  int64         \n",
      "dtypes: datetime64[ns](1), float64(1), int64(1), object(1)\n",
      "memory usage: 6.2+ MB\n"
     ]
    }
   ],
   "source": [
    "df_calls['call_date'] = pd.to_datetime(df_calls['call_date'], format = '%Y-%m-%d')\n",
    "df_calls = df_calls.query('duration > 0')\n",
    "df_calls['duration'] = df_calls['duration'].apply(np.ceil) # Округление вверх\n",
    "df_calls.info() # Проверка"
   ]
  },
  {
   "cell_type": "code",
   "execution_count": 7,
   "metadata": {
    "scrolled": false
   },
   "outputs": [
    {
     "data": {
      "text/plain": [
       "count    149396.000000\n",
       "mean      74697.500000\n",
       "std       43127.054745\n",
       "min           0.000000\n",
       "25%       37348.750000\n",
       "50%       74697.500000\n",
       "75%      112046.250000\n",
       "max      149395.000000\n",
       "Name: Unnamed: 0, dtype: float64"
      ]
     },
     "metadata": {},
     "output_type": "display_data"
    },
    {
     "data": {
      "text/plain": [
       "0         1\n",
       "99574     1\n",
       "99594     1\n",
       "99595     1\n",
       "99596     1\n",
       "         ..\n",
       "49798     1\n",
       "49799     1\n",
       "49800     1\n",
       "49801     1\n",
       "149395    1\n",
       "Name: Unnamed: 0, Length: 149396, dtype: int64"
      ]
     },
     "metadata": {},
     "output_type": "display_data"
    },
    {
     "data": {
      "text/plain": [
       "count     149396\n",
       "unique    149396\n",
       "top       1000_0\n",
       "freq           1\n",
       "Name: id, dtype: object"
      ]
     },
     "metadata": {},
     "output_type": "display_data"
    },
    {
     "data": {
      "text/plain": [
       "1000_0      1\n",
       "1333_109    1\n",
       "1334_0      1\n",
       "1334_1      1\n",
       "1334_2      1\n",
       "           ..\n",
       "1172_80     1\n",
       "1172_81     1\n",
       "1172_82     1\n",
       "1172_83     1\n",
       "1499_156    1\n",
       "Name: id, Length: 149396, dtype: int64"
      ]
     },
     "metadata": {},
     "output_type": "display_data"
    },
    {
     "data": {
      "text/plain": [
       "count    149396.000000\n",
       "mean        370.192426\n",
       "std         278.300951\n",
       "min           0.000000\n",
       "25%         138.187500\n",
       "50%         348.015000\n",
       "75%         559.552500\n",
       "max        1724.830000\n",
       "Name: mb_used, dtype: float64"
      ]
     },
     "metadata": {},
     "output_type": "display_data"
    },
    {
     "data": {
      "text/plain": [
       "0.00      19598\n",
       "335.91        9\n",
       "447.30        9\n",
       "197.56        9\n",
       "199.11        8\n",
       "          ...  \n",
       "643.43        1\n",
       "973.04        1\n",
       "834.51        1\n",
       "777.30        1\n",
       "23.72         1\n",
       "Name: mb_used, Length: 70003, dtype: int64"
      ]
     },
     "metadata": {},
     "output_type": "display_data"
    },
    {
     "data": {
      "text/plain": [
       "count         149396\n",
       "unique           365\n",
       "top       2018-12-31\n",
       "freq            1057\n",
       "Name: session_date, dtype: object"
      ]
     },
     "metadata": {},
     "output_type": "display_data"
    },
    {
     "data": {
      "text/plain": [
       "2018-12-31    1057\n",
       "2018-12-30     903\n",
       "2018-12-25     859\n",
       "2018-12-26     844\n",
       "2018-12-22     834\n",
       "              ... \n",
       "2018-01-05      14\n",
       "2018-01-04       9\n",
       "2018-01-03       6\n",
       "2018-01-02       3\n",
       "2018-01-01       3\n",
       "Name: session_date, Length: 365, dtype: int64"
      ]
     },
     "metadata": {},
     "output_type": "display_data"
    },
    {
     "data": {
      "text/plain": [
       "count    149396.000000\n",
       "mean       1252.099842\n",
       "std         144.050823\n",
       "min        1000.000000\n",
       "25%        1130.000000\n",
       "50%        1251.000000\n",
       "75%        1380.000000\n",
       "max        1499.000000\n",
       "Name: user_id, dtype: float64"
      ]
     },
     "metadata": {},
     "output_type": "display_data"
    },
    {
     "data": {
      "text/plain": [
       "1496    834\n",
       "1227    812\n",
       "1204    789\n",
       "1240    764\n",
       "1251    759\n",
       "       ... \n",
       "1151     35\n",
       "1467     27\n",
       "1343     26\n",
       "1192     22\n",
       "1399      8\n",
       "Name: user_id, Length: 497, dtype: int64"
      ]
     },
     "metadata": {},
     "output_type": "display_data"
    }
   ],
   "source": [
    "for column in df_internet.columns: # Посмотрю описание данных в столбцах таблицы\n",
    "    display(df_internet[column].describe())\n",
    "    display(df_internet[column].value_counts())"
   ]
  },
  {
   "cell_type": "markdown",
   "metadata": {},
   "source": [
    "Есть ненужный столбец ```unnamed 0```, который можно удалить. Пока не мешает. Поправлю тип данных в столбце даты."
   ]
  },
  {
   "cell_type": "code",
   "execution_count": 8,
   "metadata": {},
   "outputs": [],
   "source": [
    "df_internet['session_date'] = pd.to_datetime(df_internet['session_date'], format = '%Y-%m-%d')"
   ]
  },
  {
   "cell_type": "code",
   "execution_count": 9,
   "metadata": {},
   "outputs": [
    {
     "data": {
      "text/plain": [
       "count     123036\n",
       "unique    123036\n",
       "top       1000_0\n",
       "freq           1\n",
       "Name: id, dtype: object"
      ]
     },
     "metadata": {},
     "output_type": "display_data"
    },
    {
     "data": {
      "text/plain": [
       "1000_0      1\n",
       "1344_248    1\n",
       "1344_96     1\n",
       "1344_95     1\n",
       "1344_94     1\n",
       "           ..\n",
       "1174_352    1\n",
       "1174_351    1\n",
       "1174_350    1\n",
       "1174_349    1\n",
       "1499_183    1\n",
       "Name: id, Length: 123036, dtype: int64"
      ]
     },
     "metadata": {},
     "output_type": "display_data"
    },
    {
     "data": {
      "text/plain": [
       "count         123036\n",
       "unique           364\n",
       "top       2018-12-31\n",
       "freq             859\n",
       "Name: message_date, dtype: object"
      ]
     },
     "metadata": {},
     "output_type": "display_data"
    },
    {
     "data": {
      "text/plain": [
       "2018-12-31    859\n",
       "2018-12-30    765\n",
       "2018-12-21    712\n",
       "2018-12-29    702\n",
       "2018-12-28    699\n",
       "             ... \n",
       "2018-01-11     12\n",
       "2018-01-05     10\n",
       "2018-01-04     10\n",
       "2018-01-02     10\n",
       "2018-01-03      4\n",
       "Name: message_date, Length: 364, dtype: int64"
      ]
     },
     "metadata": {},
     "output_type": "display_data"
    },
    {
     "data": {
      "text/plain": [
       "count    123036.000000\n",
       "mean       1256.989410\n",
       "std         143.523967\n",
       "min        1000.000000\n",
       "25%        1134.000000\n",
       "50%        1271.000000\n",
       "75%        1381.000000\n",
       "max        1499.000000\n",
       "Name: user_id, dtype: float64"
      ]
     },
     "metadata": {},
     "output_type": "display_data"
    },
    {
     "data": {
      "text/plain": [
       "1277    1463\n",
       "1089    1408\n",
       "1231    1384\n",
       "1385    1380\n",
       "1356    1224\n",
       "        ... \n",
       "1389       6\n",
       "1279       5\n",
       "1074       3\n",
       "1159       2\n",
       "1141       1\n",
       "Name: user_id, Length: 426, dtype: int64"
      ]
     },
     "metadata": {},
     "output_type": "display_data"
    }
   ],
   "source": [
    "for column in df_messages.columns: # Посмотрю описание данных в столбцах таблицы\n",
    "    display(df_messages[column].describe())\n",
    "    display(df_messages[column].value_counts())"
   ]
  },
  {
   "cell_type": "code",
   "execution_count": 10,
   "metadata": {},
   "outputs": [],
   "source": [
    "df_messages['message_date'] = pd.to_datetime(df_messages['message_date'], format = '%Y-%m-%d') # В корректный тип данных"
   ]
  },
  {
   "cell_type": "code",
   "execution_count": 11,
   "metadata": {
    "scrolled": false
   },
   "outputs": [
    {
     "data": {
      "text/plain": [
       "count     500.000000\n",
       "mean     1249.500000\n",
       "std       144.481833\n",
       "min      1000.000000\n",
       "25%      1124.750000\n",
       "50%      1249.500000\n",
       "75%      1374.250000\n",
       "max      1499.000000\n",
       "Name: user_id, dtype: float64"
      ]
     },
     "metadata": {},
     "output_type": "display_data"
    },
    {
     "data": {
      "text/plain": [
       "1000    1\n",
       "1329    1\n",
       "1342    1\n",
       "1341    1\n",
       "1340    1\n",
       "       ..\n",
       "1161    1\n",
       "1160    1\n",
       "1159    1\n",
       "1158    1\n",
       "1499    1\n",
       "Name: user_id, Length: 500, dtype: int64"
      ]
     },
     "metadata": {},
     "output_type": "display_data"
    },
    {
     "data": {
      "text/plain": [
       "count    500.00000\n",
       "mean      46.58800\n",
       "std       16.66763\n",
       "min       18.00000\n",
       "25%       32.00000\n",
       "50%       46.00000\n",
       "75%       62.00000\n",
       "max       75.00000\n",
       "Name: age, dtype: float64"
      ]
     },
     "metadata": {},
     "output_type": "display_data"
    },
    {
     "data": {
      "text/plain": [
       "53    14\n",
       "42    14\n",
       "63    13\n",
       "64    13\n",
       "71    13\n",
       "73    12\n",
       "21    12\n",
       "40    12\n",
       "37    11\n",
       "29    11\n",
       "39    11\n",
       "26    11\n",
       "47    11\n",
       "70    10\n",
       "45    10\n",
       "41    10\n",
       "52    10\n",
       "58    10\n",
       "36    10\n",
       "66     9\n",
       "23     9\n",
       "50     9\n",
       "65     9\n",
       "19     9\n",
       "48     9\n",
       "24     9\n",
       "68     9\n",
       "27     9\n",
       "28     9\n",
       "51     9\n",
       "20     9\n",
       "56     9\n",
       "30     9\n",
       "60     8\n",
       "44     8\n",
       "69     8\n",
       "62     8\n",
       "55     8\n",
       "74     7\n",
       "25     7\n",
       "46     7\n",
       "35     7\n",
       "32     7\n",
       "67     7\n",
       "43     7\n",
       "31     7\n",
       "18     6\n",
       "75     6\n",
       "54     6\n",
       "59     6\n",
       "72     5\n",
       "22     5\n",
       "34     5\n",
       "33     5\n",
       "38     5\n",
       "49     4\n",
       "57     4\n",
       "61     3\n",
       "Name: age, dtype: int64"
      ]
     },
     "metadata": {},
     "output_type": "display_data"
    },
    {
     "data": {
      "text/plain": [
       "count             38\n",
       "unique            33\n",
       "top       2018-12-03\n",
       "freq               2\n",
       "Name: churn_date, dtype: object"
      ]
     },
     "metadata": {},
     "output_type": "display_data"
    },
    {
     "data": {
      "text/plain": [
       "2018-12-03    2\n",
       "2018-10-03    2\n",
       "2018-10-14    2\n",
       "2018-12-09    2\n",
       "2018-12-21    2\n",
       "2018-12-30    1\n",
       "2018-10-28    1\n",
       "2018-11-26    1\n",
       "2018-11-27    1\n",
       "2018-11-16    1\n",
       "2018-10-27    1\n",
       "2018-10-05    1\n",
       "2018-09-27    1\n",
       "2018-11-13    1\n",
       "2018-12-25    1\n",
       "2018-12-14    1\n",
       "2018-12-24    1\n",
       "2018-09-26    1\n",
       "2018-11-22    1\n",
       "2018-08-17    1\n",
       "2018-10-04    1\n",
       "2018-09-02    1\n",
       "2018-12-18    1\n",
       "2018-11-30    1\n",
       "2018-12-20    1\n",
       "2018-12-16    1\n",
       "2018-11-07    1\n",
       "2018-12-23    1\n",
       "2018-08-31    1\n",
       "2018-12-26    1\n",
       "2018-12-11    1\n",
       "2018-11-21    1\n",
       "2018-10-25    1\n",
       "Name: churn_date, dtype: int64"
      ]
     },
     "metadata": {},
     "output_type": "display_data"
    },
    {
     "data": {
      "text/plain": [
       "count        500\n",
       "unique        76\n",
       "top       Москва\n",
       "freq          99\n",
       "Name: city, dtype: object"
      ]
     },
     "metadata": {},
     "output_type": "display_data"
    },
    {
     "data": {
      "text/plain": [
       "Москва             99\n",
       "Санкт-Петербург    39\n",
       "Новосибирск        16\n",
       "Омск               14\n",
       "Казань             14\n",
       "                   ..\n",
       "Архангельск         1\n",
       "Иваново             1\n",
       "Нижневартовск       1\n",
       "Химки               1\n",
       "Подольск            1\n",
       "Name: city, Length: 76, dtype: int64"
      ]
     },
     "metadata": {},
     "output_type": "display_data"
    },
    {
     "data": {
      "text/plain": [
       "count       500\n",
       "unique      246\n",
       "top       Радим\n",
       "freq          6\n",
       "Name: first_name, dtype: object"
      ]
     },
     "metadata": {},
     "output_type": "display_data"
    },
    {
     "data": {
      "text/plain": [
       "Радим      6\n",
       "Леонид     5\n",
       "Пётр       5\n",
       "Андрей     4\n",
       "Адам       4\n",
       "          ..\n",
       "Зинаида    1\n",
       "Глеб       1\n",
       "Роза       1\n",
       "Юзефа      1\n",
       "Трифон     1\n",
       "Name: first_name, Length: 246, dtype: int64"
      ]
     },
     "metadata": {},
     "output_type": "display_data"
    },
    {
     "data": {
      "text/plain": [
       "count           500\n",
       "unique          419\n",
       "top       Андреенко\n",
       "freq              5\n",
       "Name: last_name, dtype: object"
      ]
     },
     "metadata": {},
     "output_type": "display_data"
    },
    {
     "data": {
      "text/plain": [
       "Андреенко     5\n",
       "Березина      3\n",
       "Аркадьев      3\n",
       "Булгаков      3\n",
       "Соловьев      3\n",
       "             ..\n",
       "Медведев      1\n",
       "Минаева       1\n",
       "Авдонюшкин    1\n",
       "Андрейчук     1\n",
       "Акимчин       1\n",
       "Name: last_name, Length: 419, dtype: int64"
      ]
     },
     "metadata": {},
     "output_type": "display_data"
    },
    {
     "data": {
      "text/plain": [
       "count            500\n",
       "unique           270\n",
       "top       2018-05-28\n",
       "freq               8\n",
       "Name: reg_date, dtype: object"
      ]
     },
     "metadata": {},
     "output_type": "display_data"
    },
    {
     "data": {
      "text/plain": [
       "2018-05-28    8\n",
       "2018-11-16    5\n",
       "2018-10-05    5\n",
       "2018-04-03    5\n",
       "2018-01-04    5\n",
       "             ..\n",
       "2018-09-20    1\n",
       "2018-04-28    1\n",
       "2018-08-07    1\n",
       "2018-06-18    1\n",
       "2018-04-25    1\n",
       "Name: reg_date, Length: 270, dtype: int64"
      ]
     },
     "metadata": {},
     "output_type": "display_data"
    },
    {
     "data": {
      "text/plain": [
       "count       500\n",
       "unique        2\n",
       "top       smart\n",
       "freq        351\n",
       "Name: tariff, dtype: object"
      ]
     },
     "metadata": {},
     "output_type": "display_data"
    },
    {
     "data": {
      "text/plain": [
       "smart    351\n",
       "ultra    149\n",
       "Name: tariff, dtype: int64"
      ]
     },
     "metadata": {},
     "output_type": "display_data"
    }
   ],
   "source": [
    "for column in df_users.columns: # Посмотрю описание данных в столбцах таблицы\n",
    "    display(df_users[column].describe())\n",
    "    display(df_users[column].value_counts())"
   ]
  },
  {
   "cell_type": "code",
   "execution_count": 12,
   "metadata": {
    "scrolled": false
   },
   "outputs": [
    {
     "name": "stdout",
     "output_type": "stream",
     "text": [
      "<class 'pandas.core.frame.DataFrame'>\n",
      "RangeIndex: 500 entries, 0 to 499\n",
      "Data columns (total 8 columns):\n",
      " #   Column      Non-Null Count  Dtype         \n",
      "---  ------      --------------  -----         \n",
      " 0   user_id     500 non-null    int64         \n",
      " 1   age         500 non-null    int64         \n",
      " 2   churn_date  38 non-null     object        \n",
      " 3   city        500 non-null    object        \n",
      " 4   first_name  500 non-null    object        \n",
      " 5   last_name   500 non-null    object        \n",
      " 6   reg_date    500 non-null    datetime64[ns]\n",
      " 7   tariff      500 non-null    object        \n",
      "dtypes: datetime64[ns](1), int64(2), object(5)\n",
      "memory usage: 31.4+ KB\n"
     ]
    }
   ],
   "source": [
    "df_users['reg_date'] = pd.to_datetime(df_users['reg_date'], format = '%Y-%m-%d')\n",
    "df_users.info()"
   ]
  },
  {
   "cell_type": "markdown",
   "metadata": {},
   "source": [
    "### Дополнительные калькуляции"
   ]
  },
  {
   "cell_type": "markdown",
   "metadata": {},
   "source": [
    "Нужно посчитать для каждого пользователя:   \n",
    "- количество сделанных звонков и израсходованных минут разговора по месяцам   \n",
    "- количество отправленных сообщений по месяцам   \n",
    "- объем израсходованного интернет-трафика по месяцам   \n",
    "- помесячную выручку с каждого пользователя (вычесть бесплатный лимит из суммарного количества звонков, сообщений и интернет-трафика; остаток умножить на значение из тарифного плана; прибавить абонентскую плату, соответствующую тарифному плану).\n",
    "\n",
    "По отдельности создам сводные таблицы по звонкам, смс и траффику."
   ]
  },
  {
   "cell_type": "code",
   "execution_count": 13,
   "metadata": {
    "scrolled": false
   },
   "outputs": [
    {
     "data": {
      "text/html": [
       "<div>\n",
       "<style scoped>\n",
       "    .dataframe tbody tr th:only-of-type {\n",
       "        vertical-align: middle;\n",
       "    }\n",
       "\n",
       "    .dataframe tbody tr th {\n",
       "        vertical-align: top;\n",
       "    }\n",
       "\n",
       "    .dataframe thead th {\n",
       "        text-align: right;\n",
       "    }\n",
       "</style>\n",
       "<table border=\"1\" class=\"dataframe\">\n",
       "  <thead>\n",
       "    <tr style=\"text-align: right;\">\n",
       "      <th></th>\n",
       "      <th></th>\n",
       "      <th>c_count</th>\n",
       "      <th>c_duration</th>\n",
       "    </tr>\n",
       "    <tr>\n",
       "      <th>user_id</th>\n",
       "      <th>call_date</th>\n",
       "      <th></th>\n",
       "      <th></th>\n",
       "    </tr>\n",
       "  </thead>\n",
       "  <tbody>\n",
       "    <tr>\n",
       "      <th rowspan=\"5\" valign=\"top\">1000</th>\n",
       "      <th>5</th>\n",
       "      <td>17</td>\n",
       "      <td>159.0</td>\n",
       "    </tr>\n",
       "    <tr>\n",
       "      <th>6</th>\n",
       "      <td>28</td>\n",
       "      <td>172.0</td>\n",
       "    </tr>\n",
       "    <tr>\n",
       "      <th>7</th>\n",
       "      <td>41</td>\n",
       "      <td>340.0</td>\n",
       "    </tr>\n",
       "    <tr>\n",
       "      <th>8</th>\n",
       "      <td>42</td>\n",
       "      <td>408.0</td>\n",
       "    </tr>\n",
       "    <tr>\n",
       "      <th>9</th>\n",
       "      <td>46</td>\n",
       "      <td>466.0</td>\n",
       "    </tr>\n",
       "    <tr>\n",
       "      <th>...</th>\n",
       "      <th>...</th>\n",
       "      <td>...</td>\n",
       "      <td>...</td>\n",
       "    </tr>\n",
       "    <tr>\n",
       "      <th>1498</th>\n",
       "      <th>10</th>\n",
       "      <td>30</td>\n",
       "      <td>247.0</td>\n",
       "    </tr>\n",
       "    <tr>\n",
       "      <th rowspan=\"4\" valign=\"top\">1499</th>\n",
       "      <th>9</th>\n",
       "      <td>8</td>\n",
       "      <td>70.0</td>\n",
       "    </tr>\n",
       "    <tr>\n",
       "      <th>10</th>\n",
       "      <td>44</td>\n",
       "      <td>449.0</td>\n",
       "    </tr>\n",
       "    <tr>\n",
       "      <th>11</th>\n",
       "      <td>62</td>\n",
       "      <td>612.0</td>\n",
       "    </tr>\n",
       "    <tr>\n",
       "      <th>12</th>\n",
       "      <td>56</td>\n",
       "      <td>492.0</td>\n",
       "    </tr>\n",
       "  </tbody>\n",
       "</table>\n",
       "<p>3168 rows × 2 columns</p>\n",
       "</div>"
      ],
      "text/plain": [
       "                   c_count  c_duration\n",
       "user_id call_date                     \n",
       "1000    5               17       159.0\n",
       "        6               28       172.0\n",
       "        7               41       340.0\n",
       "        8               42       408.0\n",
       "        9               46       466.0\n",
       "...                    ...         ...\n",
       "1498    10              30       247.0\n",
       "1499    9                8        70.0\n",
       "        10              44       449.0\n",
       "        11              62       612.0\n",
       "        12              56       492.0\n",
       "\n",
       "[3168 rows x 2 columns]"
      ]
     },
     "metadata": {},
     "output_type": "display_data"
    },
    {
     "name": "stdout",
     "output_type": "stream",
     "text": [
      "<class 'pandas.core.frame.DataFrame'>\n",
      "MultiIndex: 3168 entries, (1000, 5) to (1499, 12)\n",
      "Data columns (total 2 columns):\n",
      " #   Column      Non-Null Count  Dtype  \n",
      "---  ------      --------------  -----  \n",
      " 0   c_count     3168 non-null   int64  \n",
      " 1   c_duration  3168 non-null   float64\n",
      "dtypes: float64(1), int64(1)\n",
      "memory usage: 62.8 KB\n"
     ]
    }
   ],
   "source": [
    "calls_grouped = df_calls.pivot_table(index=['user_id',df_calls['call_date'].dt.month], values = 'duration', aggfunc =['count', 'sum'])\n",
    "calls_grouped.columns = calls_grouped.columns.droplevel(0)\n",
    "calls_grouped.columns = ['c_count', 'c_duration']\n",
    "display(calls_grouped)\n",
    "calls_grouped.info()"
   ]
  },
  {
   "cell_type": "code",
   "execution_count": 14,
   "metadata": {},
   "outputs": [
    {
     "data": {
      "text/html": [
       "<div>\n",
       "<style scoped>\n",
       "    .dataframe tbody tr th:only-of-type {\n",
       "        vertical-align: middle;\n",
       "    }\n",
       "\n",
       "    .dataframe tbody tr th {\n",
       "        vertical-align: top;\n",
       "    }\n",
       "\n",
       "    .dataframe thead th {\n",
       "        text-align: right;\n",
       "    }\n",
       "</style>\n",
       "<table border=\"1\" class=\"dataframe\">\n",
       "  <thead>\n",
       "    <tr style=\"text-align: right;\">\n",
       "      <th></th>\n",
       "      <th></th>\n",
       "      <th>m_count</th>\n",
       "    </tr>\n",
       "    <tr>\n",
       "      <th>user_id</th>\n",
       "      <th>message_date</th>\n",
       "      <th></th>\n",
       "    </tr>\n",
       "  </thead>\n",
       "  <tbody>\n",
       "    <tr>\n",
       "      <th rowspan=\"5\" valign=\"top\">1000</th>\n",
       "      <th>5</th>\n",
       "      <td>22</td>\n",
       "    </tr>\n",
       "    <tr>\n",
       "      <th>6</th>\n",
       "      <td>60</td>\n",
       "    </tr>\n",
       "    <tr>\n",
       "      <th>7</th>\n",
       "      <td>75</td>\n",
       "    </tr>\n",
       "    <tr>\n",
       "      <th>8</th>\n",
       "      <td>81</td>\n",
       "    </tr>\n",
       "    <tr>\n",
       "      <th>9</th>\n",
       "      <td>57</td>\n",
       "    </tr>\n",
       "    <tr>\n",
       "      <th>...</th>\n",
       "      <th>...</th>\n",
       "      <td>...</td>\n",
       "    </tr>\n",
       "    <tr>\n",
       "      <th>1498</th>\n",
       "      <th>10</th>\n",
       "      <td>42</td>\n",
       "    </tr>\n",
       "    <tr>\n",
       "      <th rowspan=\"4\" valign=\"top\">1499</th>\n",
       "      <th>9</th>\n",
       "      <td>11</td>\n",
       "    </tr>\n",
       "    <tr>\n",
       "      <th>10</th>\n",
       "      <td>48</td>\n",
       "    </tr>\n",
       "    <tr>\n",
       "      <th>11</th>\n",
       "      <td>59</td>\n",
       "    </tr>\n",
       "    <tr>\n",
       "      <th>12</th>\n",
       "      <td>66</td>\n",
       "    </tr>\n",
       "  </tbody>\n",
       "</table>\n",
       "<p>2717 rows × 1 columns</p>\n",
       "</div>"
      ],
      "text/plain": [
       "                      m_count\n",
       "user_id message_date         \n",
       "1000    5                  22\n",
       "        6                  60\n",
       "        7                  75\n",
       "        8                  81\n",
       "        9                  57\n",
       "...                       ...\n",
       "1498    10                 42\n",
       "1499    9                  11\n",
       "        10                 48\n",
       "        11                 59\n",
       "        12                 66\n",
       "\n",
       "[2717 rows x 1 columns]"
      ]
     },
     "metadata": {},
     "output_type": "display_data"
    },
    {
     "name": "stdout",
     "output_type": "stream",
     "text": [
      "<class 'pandas.core.frame.DataFrame'>\n",
      "MultiIndex: 2717 entries, (1000, 5) to (1499, 12)\n",
      "Data columns (total 1 columns):\n",
      " #   Column   Non-Null Count  Dtype\n",
      "---  ------   --------------  -----\n",
      " 0   m_count  2717 non-null   int64\n",
      "dtypes: int64(1)\n",
      "memory usage: 32.7 KB\n"
     ]
    }
   ],
   "source": [
    "m_grouped = df_messages.pivot_table(index=['user_id',df_messages['message_date'].dt.month], values = 'message_date', aggfunc ='count')\n",
    "m_grouped.columns = ['m_count']\n",
    "display(m_grouped)\n",
    "m_grouped.info()"
   ]
  },
  {
   "cell_type": "code",
   "execution_count": 15,
   "metadata": {},
   "outputs": [
    {
     "data": {
      "text/html": [
       "<div>\n",
       "<style scoped>\n",
       "    .dataframe tbody tr th:only-of-type {\n",
       "        vertical-align: middle;\n",
       "    }\n",
       "\n",
       "    .dataframe tbody tr th {\n",
       "        vertical-align: top;\n",
       "    }\n",
       "\n",
       "    .dataframe thead th {\n",
       "        text-align: right;\n",
       "    }\n",
       "</style>\n",
       "<table border=\"1\" class=\"dataframe\">\n",
       "  <thead>\n",
       "    <tr style=\"text-align: right;\">\n",
       "      <th></th>\n",
       "      <th></th>\n",
       "      <th>mb_used</th>\n",
       "    </tr>\n",
       "    <tr>\n",
       "      <th>user_id</th>\n",
       "      <th>session_date</th>\n",
       "      <th></th>\n",
       "    </tr>\n",
       "  </thead>\n",
       "  <tbody>\n",
       "    <tr>\n",
       "      <th rowspan=\"5\" valign=\"top\">1000</th>\n",
       "      <th>5</th>\n",
       "      <td>2253.49</td>\n",
       "    </tr>\n",
       "    <tr>\n",
       "      <th>6</th>\n",
       "      <td>23233.77</td>\n",
       "    </tr>\n",
       "    <tr>\n",
       "      <th>7</th>\n",
       "      <td>14003.64</td>\n",
       "    </tr>\n",
       "    <tr>\n",
       "      <th>8</th>\n",
       "      <td>14055.93</td>\n",
       "    </tr>\n",
       "    <tr>\n",
       "      <th>9</th>\n",
       "      <td>14568.91</td>\n",
       "    </tr>\n",
       "    <tr>\n",
       "      <th>...</th>\n",
       "      <th>...</th>\n",
       "      <td>...</td>\n",
       "    </tr>\n",
       "    <tr>\n",
       "      <th>1498</th>\n",
       "      <th>10</th>\n",
       "      <td>20579.36</td>\n",
       "    </tr>\n",
       "    <tr>\n",
       "      <th rowspan=\"4\" valign=\"top\">1499</th>\n",
       "      <th>9</th>\n",
       "      <td>1845.75</td>\n",
       "    </tr>\n",
       "    <tr>\n",
       "      <th>10</th>\n",
       "      <td>17788.51</td>\n",
       "    </tr>\n",
       "    <tr>\n",
       "      <th>11</th>\n",
       "      <td>17963.31</td>\n",
       "    </tr>\n",
       "    <tr>\n",
       "      <th>12</th>\n",
       "      <td>13055.58</td>\n",
       "    </tr>\n",
       "  </tbody>\n",
       "</table>\n",
       "<p>3203 rows × 1 columns</p>\n",
       "</div>"
      ],
      "text/plain": [
       "                       mb_used\n",
       "user_id session_date          \n",
       "1000    5              2253.49\n",
       "        6             23233.77\n",
       "        7             14003.64\n",
       "        8             14055.93\n",
       "        9             14568.91\n",
       "...                        ...\n",
       "1498    10            20579.36\n",
       "1499    9              1845.75\n",
       "        10            17788.51\n",
       "        11            17963.31\n",
       "        12            13055.58\n",
       "\n",
       "[3203 rows x 1 columns]"
      ]
     },
     "metadata": {},
     "output_type": "display_data"
    }
   ],
   "source": [
    "i_grouped = df_internet.pivot_table(index=['user_id', df_internet['session_date'].dt.month], values='mb_used', aggfunc='sum')\n",
    "display(i_grouped)"
   ]
  },
  {
   "cell_type": "markdown",
   "metadata": {},
   "source": [
    "Теперь склею таблицы с тратами и добавлю данных по тарифным планам для калькуляций."
   ]
  },
  {
   "cell_type": "code",
   "execution_count": 16,
   "metadata": {
    "scrolled": false
   },
   "outputs": [
    {
     "data": {
      "text/html": [
       "<div>\n",
       "<style scoped>\n",
       "    .dataframe tbody tr th:only-of-type {\n",
       "        vertical-align: middle;\n",
       "    }\n",
       "\n",
       "    .dataframe tbody tr th {\n",
       "        vertical-align: top;\n",
       "    }\n",
       "\n",
       "    .dataframe thead th {\n",
       "        text-align: right;\n",
       "    }\n",
       "</style>\n",
       "<table border=\"1\" class=\"dataframe\">\n",
       "  <thead>\n",
       "    <tr style=\"text-align: right;\">\n",
       "      <th></th>\n",
       "      <th></th>\n",
       "      <th>c_count</th>\n",
       "      <th>c_duration</th>\n",
       "      <th>m_count</th>\n",
       "      <th>mb_used</th>\n",
       "    </tr>\n",
       "    <tr>\n",
       "      <th>user_id</th>\n",
       "      <th></th>\n",
       "      <th></th>\n",
       "      <th></th>\n",
       "      <th></th>\n",
       "      <th></th>\n",
       "    </tr>\n",
       "  </thead>\n",
       "  <tbody>\n",
       "    <tr>\n",
       "      <th rowspan=\"5\" valign=\"top\">1000</th>\n",
       "      <th>5</th>\n",
       "      <td>17.0</td>\n",
       "      <td>159.0</td>\n",
       "      <td>22.0</td>\n",
       "      <td>2253.49</td>\n",
       "    </tr>\n",
       "    <tr>\n",
       "      <th>6</th>\n",
       "      <td>28.0</td>\n",
       "      <td>172.0</td>\n",
       "      <td>60.0</td>\n",
       "      <td>23233.77</td>\n",
       "    </tr>\n",
       "    <tr>\n",
       "      <th>7</th>\n",
       "      <td>41.0</td>\n",
       "      <td>340.0</td>\n",
       "      <td>75.0</td>\n",
       "      <td>14003.64</td>\n",
       "    </tr>\n",
       "    <tr>\n",
       "      <th>8</th>\n",
       "      <td>42.0</td>\n",
       "      <td>408.0</td>\n",
       "      <td>81.0</td>\n",
       "      <td>14055.93</td>\n",
       "    </tr>\n",
       "    <tr>\n",
       "      <th>9</th>\n",
       "      <td>46.0</td>\n",
       "      <td>466.0</td>\n",
       "      <td>57.0</td>\n",
       "      <td>14568.91</td>\n",
       "    </tr>\n",
       "    <tr>\n",
       "      <th>...</th>\n",
       "      <th>...</th>\n",
       "      <td>...</td>\n",
       "      <td>...</td>\n",
       "      <td>...</td>\n",
       "      <td>...</td>\n",
       "    </tr>\n",
       "    <tr>\n",
       "      <th rowspan=\"3\" valign=\"top\">1489</th>\n",
       "      <th>10</th>\n",
       "      <td>NaN</td>\n",
       "      <td>NaN</td>\n",
       "      <td>21.0</td>\n",
       "      <td>19559.44</td>\n",
       "    </tr>\n",
       "    <tr>\n",
       "      <th>11</th>\n",
       "      <td>NaN</td>\n",
       "      <td>NaN</td>\n",
       "      <td>20.0</td>\n",
       "      <td>17491.56</td>\n",
       "    </tr>\n",
       "    <tr>\n",
       "      <th>12</th>\n",
       "      <td>NaN</td>\n",
       "      <td>NaN</td>\n",
       "      <td>35.0</td>\n",
       "      <td>17322.51</td>\n",
       "    </tr>\n",
       "    <tr>\n",
       "      <th>1240</th>\n",
       "      <th>2</th>\n",
       "      <td>NaN</td>\n",
       "      <td>NaN</td>\n",
       "      <td>NaN</td>\n",
       "      <td>959.51</td>\n",
       "    </tr>\n",
       "    <tr>\n",
       "      <th>1476</th>\n",
       "      <th>4</th>\n",
       "      <td>NaN</td>\n",
       "      <td>NaN</td>\n",
       "      <td>NaN</td>\n",
       "      <td>530.78</td>\n",
       "    </tr>\n",
       "  </tbody>\n",
       "</table>\n",
       "<p>3214 rows × 4 columns</p>\n",
       "</div>"
      ],
      "text/plain": [
       "            c_count  c_duration  m_count   mb_used\n",
       "user_id                                           \n",
       "1000    5      17.0       159.0     22.0   2253.49\n",
       "        6      28.0       172.0     60.0  23233.77\n",
       "        7      41.0       340.0     75.0  14003.64\n",
       "        8      42.0       408.0     81.0  14055.93\n",
       "        9      46.0       466.0     57.0  14568.91\n",
       "...             ...         ...      ...       ...\n",
       "1489    10      NaN         NaN     21.0  19559.44\n",
       "        11      NaN         NaN     20.0  17491.56\n",
       "        12      NaN         NaN     35.0  17322.51\n",
       "1240    2       NaN         NaN      NaN    959.51\n",
       "1476    4       NaN         NaN      NaN    530.78\n",
       "\n",
       "[3214 rows x 4 columns]"
      ]
     },
     "metadata": {},
     "output_type": "display_data"
    },
    {
     "name": "stdout",
     "output_type": "stream",
     "text": [
      "<class 'pandas.core.frame.DataFrame'>\n",
      "MultiIndex: 3214 entries, (1000, 5) to (1476, 4)\n",
      "Data columns (total 4 columns):\n",
      " #   Column      Non-Null Count  Dtype  \n",
      "---  ------      --------------  -----  \n",
      " 0   c_count     3168 non-null   float64\n",
      " 1   c_duration  3168 non-null   float64\n",
      " 2   m_count     2717 non-null   float64\n",
      " 3   mb_used     3203 non-null   float64\n",
      "dtypes: float64(4)\n",
      "memory usage: 130.4 KB\n"
     ]
    }
   ],
   "source": [
    "cms_all = pd.concat([calls_grouped, m_grouped, i_grouped], axis=1)\n",
    "display(cms_all)\n",
    "cms_all.info()"
   ]
  },
  {
   "cell_type": "code",
   "execution_count": 17,
   "metadata": {},
   "outputs": [
    {
     "data": {
      "text/html": [
       "<div>\n",
       "<style scoped>\n",
       "    .dataframe tbody tr th:only-of-type {\n",
       "        vertical-align: middle;\n",
       "    }\n",
       "\n",
       "    .dataframe tbody tr th {\n",
       "        vertical-align: top;\n",
       "    }\n",
       "\n",
       "    .dataframe thead th {\n",
       "        text-align: right;\n",
       "    }\n",
       "</style>\n",
       "<table border=\"1\" class=\"dataframe\">\n",
       "  <thead>\n",
       "    <tr style=\"text-align: right;\">\n",
       "      <th></th>\n",
       "      <th>user_id</th>\n",
       "      <th>age</th>\n",
       "      <th>churn_date</th>\n",
       "      <th>city</th>\n",
       "      <th>first_name</th>\n",
       "      <th>last_name</th>\n",
       "      <th>reg_date</th>\n",
       "      <th>tariff</th>\n",
       "      <th>c_count</th>\n",
       "      <th>c_duration</th>\n",
       "      <th>m_count</th>\n",
       "      <th>mb_used</th>\n",
       "      <th>messages_included</th>\n",
       "      <th>mb_per_month_included</th>\n",
       "      <th>minutes_included</th>\n",
       "      <th>rub_monthly_fee</th>\n",
       "      <th>rub_per_gb</th>\n",
       "      <th>rub_per_message</th>\n",
       "      <th>rub_per_minute</th>\n",
       "    </tr>\n",
       "  </thead>\n",
       "  <tbody>\n",
       "    <tr>\n",
       "      <th>0</th>\n",
       "      <td>1000</td>\n",
       "      <td>52</td>\n",
       "      <td>NaN</td>\n",
       "      <td>Краснодар</td>\n",
       "      <td>Рафаил</td>\n",
       "      <td>Верещагин</td>\n",
       "      <td>2018-05-25</td>\n",
       "      <td>ultra</td>\n",
       "      <td>17.0</td>\n",
       "      <td>159.0</td>\n",
       "      <td>22.0</td>\n",
       "      <td>2253.49</td>\n",
       "      <td>1000</td>\n",
       "      <td>30720</td>\n",
       "      <td>3000</td>\n",
       "      <td>1950</td>\n",
       "      <td>150</td>\n",
       "      <td>1</td>\n",
       "      <td>1</td>\n",
       "    </tr>\n",
       "    <tr>\n",
       "      <th>1</th>\n",
       "      <td>1000</td>\n",
       "      <td>52</td>\n",
       "      <td>NaN</td>\n",
       "      <td>Краснодар</td>\n",
       "      <td>Рафаил</td>\n",
       "      <td>Верещагин</td>\n",
       "      <td>2018-05-25</td>\n",
       "      <td>ultra</td>\n",
       "      <td>28.0</td>\n",
       "      <td>172.0</td>\n",
       "      <td>60.0</td>\n",
       "      <td>23233.77</td>\n",
       "      <td>1000</td>\n",
       "      <td>30720</td>\n",
       "      <td>3000</td>\n",
       "      <td>1950</td>\n",
       "      <td>150</td>\n",
       "      <td>1</td>\n",
       "      <td>1</td>\n",
       "    </tr>\n",
       "    <tr>\n",
       "      <th>2</th>\n",
       "      <td>1000</td>\n",
       "      <td>52</td>\n",
       "      <td>NaN</td>\n",
       "      <td>Краснодар</td>\n",
       "      <td>Рафаил</td>\n",
       "      <td>Верещагин</td>\n",
       "      <td>2018-05-25</td>\n",
       "      <td>ultra</td>\n",
       "      <td>41.0</td>\n",
       "      <td>340.0</td>\n",
       "      <td>75.0</td>\n",
       "      <td>14003.64</td>\n",
       "      <td>1000</td>\n",
       "      <td>30720</td>\n",
       "      <td>3000</td>\n",
       "      <td>1950</td>\n",
       "      <td>150</td>\n",
       "      <td>1</td>\n",
       "      <td>1</td>\n",
       "    </tr>\n",
       "    <tr>\n",
       "      <th>3</th>\n",
       "      <td>1000</td>\n",
       "      <td>52</td>\n",
       "      <td>NaN</td>\n",
       "      <td>Краснодар</td>\n",
       "      <td>Рафаил</td>\n",
       "      <td>Верещагин</td>\n",
       "      <td>2018-05-25</td>\n",
       "      <td>ultra</td>\n",
       "      <td>42.0</td>\n",
       "      <td>408.0</td>\n",
       "      <td>81.0</td>\n",
       "      <td>14055.93</td>\n",
       "      <td>1000</td>\n",
       "      <td>30720</td>\n",
       "      <td>3000</td>\n",
       "      <td>1950</td>\n",
       "      <td>150</td>\n",
       "      <td>1</td>\n",
       "      <td>1</td>\n",
       "    </tr>\n",
       "    <tr>\n",
       "      <th>4</th>\n",
       "      <td>1000</td>\n",
       "      <td>52</td>\n",
       "      <td>NaN</td>\n",
       "      <td>Краснодар</td>\n",
       "      <td>Рафаил</td>\n",
       "      <td>Верещагин</td>\n",
       "      <td>2018-05-25</td>\n",
       "      <td>ultra</td>\n",
       "      <td>46.0</td>\n",
       "      <td>466.0</td>\n",
       "      <td>57.0</td>\n",
       "      <td>14568.91</td>\n",
       "      <td>1000</td>\n",
       "      <td>30720</td>\n",
       "      <td>3000</td>\n",
       "      <td>1950</td>\n",
       "      <td>150</td>\n",
       "      <td>1</td>\n",
       "      <td>1</td>\n",
       "    </tr>\n",
       "    <tr>\n",
       "      <th>...</th>\n",
       "      <td>...</td>\n",
       "      <td>...</td>\n",
       "      <td>...</td>\n",
       "      <td>...</td>\n",
       "      <td>...</td>\n",
       "      <td>...</td>\n",
       "      <td>...</td>\n",
       "      <td>...</td>\n",
       "      <td>...</td>\n",
       "      <td>...</td>\n",
       "      <td>...</td>\n",
       "      <td>...</td>\n",
       "      <td>...</td>\n",
       "      <td>...</td>\n",
       "      <td>...</td>\n",
       "      <td>...</td>\n",
       "      <td>...</td>\n",
       "      <td>...</td>\n",
       "      <td>...</td>\n",
       "    </tr>\n",
       "    <tr>\n",
       "      <th>3209</th>\n",
       "      <td>1498</td>\n",
       "      <td>68</td>\n",
       "      <td>2018-10-25</td>\n",
       "      <td>Владикавказ</td>\n",
       "      <td>Всеволод</td>\n",
       "      <td>Акимчин</td>\n",
       "      <td>2018-07-19</td>\n",
       "      <td>smart</td>\n",
       "      <td>30.0</td>\n",
       "      <td>247.0</td>\n",
       "      <td>42.0</td>\n",
       "      <td>20579.36</td>\n",
       "      <td>50</td>\n",
       "      <td>15360</td>\n",
       "      <td>500</td>\n",
       "      <td>550</td>\n",
       "      <td>200</td>\n",
       "      <td>3</td>\n",
       "      <td>3</td>\n",
       "    </tr>\n",
       "    <tr>\n",
       "      <th>3210</th>\n",
       "      <td>1499</td>\n",
       "      <td>35</td>\n",
       "      <td>NaN</td>\n",
       "      <td>Пермь</td>\n",
       "      <td>Гектор</td>\n",
       "      <td>Корнилов</td>\n",
       "      <td>2018-09-27</td>\n",
       "      <td>smart</td>\n",
       "      <td>8.0</td>\n",
       "      <td>70.0</td>\n",
       "      <td>11.0</td>\n",
       "      <td>1845.75</td>\n",
       "      <td>50</td>\n",
       "      <td>15360</td>\n",
       "      <td>500</td>\n",
       "      <td>550</td>\n",
       "      <td>200</td>\n",
       "      <td>3</td>\n",
       "      <td>3</td>\n",
       "    </tr>\n",
       "    <tr>\n",
       "      <th>3211</th>\n",
       "      <td>1499</td>\n",
       "      <td>35</td>\n",
       "      <td>NaN</td>\n",
       "      <td>Пермь</td>\n",
       "      <td>Гектор</td>\n",
       "      <td>Корнилов</td>\n",
       "      <td>2018-09-27</td>\n",
       "      <td>smart</td>\n",
       "      <td>44.0</td>\n",
       "      <td>449.0</td>\n",
       "      <td>48.0</td>\n",
       "      <td>17788.51</td>\n",
       "      <td>50</td>\n",
       "      <td>15360</td>\n",
       "      <td>500</td>\n",
       "      <td>550</td>\n",
       "      <td>200</td>\n",
       "      <td>3</td>\n",
       "      <td>3</td>\n",
       "    </tr>\n",
       "    <tr>\n",
       "      <th>3212</th>\n",
       "      <td>1499</td>\n",
       "      <td>35</td>\n",
       "      <td>NaN</td>\n",
       "      <td>Пермь</td>\n",
       "      <td>Гектор</td>\n",
       "      <td>Корнилов</td>\n",
       "      <td>2018-09-27</td>\n",
       "      <td>smart</td>\n",
       "      <td>62.0</td>\n",
       "      <td>612.0</td>\n",
       "      <td>59.0</td>\n",
       "      <td>17963.31</td>\n",
       "      <td>50</td>\n",
       "      <td>15360</td>\n",
       "      <td>500</td>\n",
       "      <td>550</td>\n",
       "      <td>200</td>\n",
       "      <td>3</td>\n",
       "      <td>3</td>\n",
       "    </tr>\n",
       "    <tr>\n",
       "      <th>3213</th>\n",
       "      <td>1499</td>\n",
       "      <td>35</td>\n",
       "      <td>NaN</td>\n",
       "      <td>Пермь</td>\n",
       "      <td>Гектор</td>\n",
       "      <td>Корнилов</td>\n",
       "      <td>2018-09-27</td>\n",
       "      <td>smart</td>\n",
       "      <td>56.0</td>\n",
       "      <td>492.0</td>\n",
       "      <td>66.0</td>\n",
       "      <td>13055.58</td>\n",
       "      <td>50</td>\n",
       "      <td>15360</td>\n",
       "      <td>500</td>\n",
       "      <td>550</td>\n",
       "      <td>200</td>\n",
       "      <td>3</td>\n",
       "      <td>3</td>\n",
       "    </tr>\n",
       "  </tbody>\n",
       "</table>\n",
       "<p>3214 rows × 19 columns</p>\n",
       "</div>"
      ],
      "text/plain": [
       "      user_id  age  churn_date         city first_name  last_name   reg_date  \\\n",
       "0        1000   52         NaN    Краснодар     Рафаил  Верещагин 2018-05-25   \n",
       "1        1000   52         NaN    Краснодар     Рафаил  Верещагин 2018-05-25   \n",
       "2        1000   52         NaN    Краснодар     Рафаил  Верещагин 2018-05-25   \n",
       "3        1000   52         NaN    Краснодар     Рафаил  Верещагин 2018-05-25   \n",
       "4        1000   52         NaN    Краснодар     Рафаил  Верещагин 2018-05-25   \n",
       "...       ...  ...         ...          ...        ...        ...        ...   \n",
       "3209     1498   68  2018-10-25  Владикавказ   Всеволод    Акимчин 2018-07-19   \n",
       "3210     1499   35         NaN        Пермь     Гектор   Корнилов 2018-09-27   \n",
       "3211     1499   35         NaN        Пермь     Гектор   Корнилов 2018-09-27   \n",
       "3212     1499   35         NaN        Пермь     Гектор   Корнилов 2018-09-27   \n",
       "3213     1499   35         NaN        Пермь     Гектор   Корнилов 2018-09-27   \n",
       "\n",
       "     tariff  c_count  c_duration  m_count   mb_used  messages_included  \\\n",
       "0     ultra     17.0       159.0     22.0   2253.49               1000   \n",
       "1     ultra     28.0       172.0     60.0  23233.77               1000   \n",
       "2     ultra     41.0       340.0     75.0  14003.64               1000   \n",
       "3     ultra     42.0       408.0     81.0  14055.93               1000   \n",
       "4     ultra     46.0       466.0     57.0  14568.91               1000   \n",
       "...     ...      ...         ...      ...       ...                ...   \n",
       "3209  smart     30.0       247.0     42.0  20579.36                 50   \n",
       "3210  smart      8.0        70.0     11.0   1845.75                 50   \n",
       "3211  smart     44.0       449.0     48.0  17788.51                 50   \n",
       "3212  smart     62.0       612.0     59.0  17963.31                 50   \n",
       "3213  smart     56.0       492.0     66.0  13055.58                 50   \n",
       "\n",
       "      mb_per_month_included  minutes_included  rub_monthly_fee  rub_per_gb  \\\n",
       "0                     30720              3000             1950         150   \n",
       "1                     30720              3000             1950         150   \n",
       "2                     30720              3000             1950         150   \n",
       "3                     30720              3000             1950         150   \n",
       "4                     30720              3000             1950         150   \n",
       "...                     ...               ...              ...         ...   \n",
       "3209                  15360               500              550         200   \n",
       "3210                  15360               500              550         200   \n",
       "3211                  15360               500              550         200   \n",
       "3212                  15360               500              550         200   \n",
       "3213                  15360               500              550         200   \n",
       "\n",
       "      rub_per_message  rub_per_minute  \n",
       "0                   1               1  \n",
       "1                   1               1  \n",
       "2                   1               1  \n",
       "3                   1               1  \n",
       "4                   1               1  \n",
       "...               ...             ...  \n",
       "3209                3               3  \n",
       "3210                3               3  \n",
       "3211                3               3  \n",
       "3212                3               3  \n",
       "3213                3               3  \n",
       "\n",
       "[3214 rows x 19 columns]"
      ]
     },
     "metadata": {},
     "output_type": "display_data"
    },
    {
     "name": "stdout",
     "output_type": "stream",
     "text": [
      "<class 'pandas.core.frame.DataFrame'>\n",
      "Int64Index: 3214 entries, 0 to 3213\n",
      "Data columns (total 19 columns):\n",
      " #   Column                 Non-Null Count  Dtype         \n",
      "---  ------                 --------------  -----         \n",
      " 0   user_id                3214 non-null   int64         \n",
      " 1   age                    3214 non-null   int64         \n",
      " 2   churn_date             187 non-null    object        \n",
      " 3   city                   3214 non-null   object        \n",
      " 4   first_name             3214 non-null   object        \n",
      " 5   last_name              3214 non-null   object        \n",
      " 6   reg_date               3214 non-null   datetime64[ns]\n",
      " 7   tariff                 3214 non-null   object        \n",
      " 8   c_count                3168 non-null   float64       \n",
      " 9   c_duration             3168 non-null   float64       \n",
      " 10  m_count                2717 non-null   float64       \n",
      " 11  mb_used                3203 non-null   float64       \n",
      " 12  messages_included      3214 non-null   int64         \n",
      " 13  mb_per_month_included  3214 non-null   int64         \n",
      " 14  minutes_included       3214 non-null   int64         \n",
      " 15  rub_monthly_fee        3214 non-null   int64         \n",
      " 16  rub_per_gb             3214 non-null   int64         \n",
      " 17  rub_per_message        3214 non-null   int64         \n",
      " 18  rub_per_minute         3214 non-null   int64         \n",
      "dtypes: datetime64[ns](1), float64(4), int64(9), object(5)\n",
      "memory usage: 502.2+ KB\n"
     ]
    }
   ],
   "source": [
    "df_full = df_users.merge(cms_all, on='user_id')\n",
    "df_tariffs = df_tariffs.rename(columns = {'tariff_name': 'tariff'}) # Переименую столбец, чтобы по нему склеить\n",
    "df_full = df_full.merge(df_tariffs, on='tariff')\n",
    "display(df_full)\n",
    "df_full.info()"
   ]
  },
  {
   "cell_type": "markdown",
   "metadata": {},
   "source": [
    "Пропуски в данных заполню нулями по этим столбцам. Кроме ```churn_date```, тут отсутствующие значения не мешают пока."
   ]
  },
  {
   "cell_type": "code",
   "execution_count": 18,
   "metadata": {},
   "outputs": [
    {
     "name": "stdout",
     "output_type": "stream",
     "text": [
      "<class 'pandas.core.frame.DataFrame'>\n",
      "Int64Index: 3214 entries, 0 to 3213\n",
      "Data columns (total 19 columns):\n",
      " #   Column                 Non-Null Count  Dtype         \n",
      "---  ------                 --------------  -----         \n",
      " 0   user_id                3214 non-null   int64         \n",
      " 1   age                    3214 non-null   int64         \n",
      " 2   churn_date             187 non-null    object        \n",
      " 3   city                   3214 non-null   object        \n",
      " 4   first_name             3214 non-null   object        \n",
      " 5   last_name              3214 non-null   object        \n",
      " 6   reg_date               3214 non-null   datetime64[ns]\n",
      " 7   tariff                 3214 non-null   object        \n",
      " 8   c_count                3214 non-null   float64       \n",
      " 9   c_duration             3214 non-null   float64       \n",
      " 10  m_count                3214 non-null   float64       \n",
      " 11  mb_used                3214 non-null   float64       \n",
      " 12  messages_included      3214 non-null   int64         \n",
      " 13  mb_per_month_included  3214 non-null   int64         \n",
      " 14  minutes_included       3214 non-null   int64         \n",
      " 15  rub_monthly_fee        3214 non-null   int64         \n",
      " 16  rub_per_gb             3214 non-null   int64         \n",
      " 17  rub_per_message        3214 non-null   int64         \n",
      " 18  rub_per_minute         3214 non-null   int64         \n",
      "dtypes: datetime64[ns](1), float64(4), int64(9), object(5)\n",
      "memory usage: 502.2+ KB\n"
     ]
    }
   ],
   "source": [
    "for i in ['c_count', 'c_duration', 'm_count', 'mb_used']:\n",
    "    df_full[i] = df_full[i].fillna(0)\n",
    "\n",
    "df_full.info()"
   ]
  },
  {
   "cell_type": "markdown",
   "metadata": {},
   "source": [
    "Добалю столбцы для рассчетов. Сначала добавлю столбец с переплатой за звонки."
   ]
  },
  {
   "cell_type": "code",
   "execution_count": 19,
   "metadata": {},
   "outputs": [],
   "source": [
    "df_full['paid_minutes'] = df_full['minutes_included'] - df_full['c_duration']\n",
    "df_full['paid_minutes'] = df_full['paid_minutes'].where(df_full['paid_minutes'] > 0, (df_full['paid_minutes']*(-1)*df_full['rub_per_minute']))\n",
    "df_full['paid_minutes'] = df_full['paid_minutes'].where(df_full['c_duration'] > df_full['minutes_included'], 0)"
   ]
  },
  {
   "cell_type": "markdown",
   "metadata": {},
   "source": [
    "Теперь для переплаты по SMS."
   ]
  },
  {
   "cell_type": "code",
   "execution_count": 20,
   "metadata": {},
   "outputs": [],
   "source": [
    "df_full['paid_messages'] = df_full['messages_included'] - df_full['m_count']\n",
    "df_full['paid_messages'] = df_full['paid_messages'].where(df_full['paid_messages'] > 0, (df_full['paid_messages']*(-1)*df_full['rub_per_message']))\n",
    "df_full['paid_messages'] = df_full['paid_messages'].where(df_full['m_count'] > df_full['messages_included'], 0)"
   ]
  },
  {
   "cell_type": "markdown",
   "metadata": {},
   "source": [
    "И для траффика."
   ]
  },
  {
   "cell_type": "code",
   "execution_count": 21,
   "metadata": {},
   "outputs": [],
   "source": [
    "df_full['paid_mb'] = df_full['mb_per_month_included'] - df_full['mb_used']\n",
    "df_full['paid_mb'] = df_full['paid_mb'].where(df_full['paid_mb'] > 0, (np.ceil(df_full['paid_mb']*(-1)/1024)*df_full['rub_per_gb']))\n",
    "df_full['paid_mb'] = df_full['paid_mb'].where(df_full['mb_used'] > df_full['mb_per_month_included'], 0)"
   ]
  },
  {
   "cell_type": "markdown",
   "metadata": {},
   "source": [
    "Осталось добавить лишь сумму затрат по месяцам."
   ]
  },
  {
   "cell_type": "code",
   "execution_count": 22,
   "metadata": {},
   "outputs": [
    {
     "data": {
      "text/html": [
       "<div>\n",
       "<style scoped>\n",
       "    .dataframe tbody tr th:only-of-type {\n",
       "        vertical-align: middle;\n",
       "    }\n",
       "\n",
       "    .dataframe tbody tr th {\n",
       "        vertical-align: top;\n",
       "    }\n",
       "\n",
       "    .dataframe thead th {\n",
       "        text-align: right;\n",
       "    }\n",
       "</style>\n",
       "<table border=\"1\" class=\"dataframe\">\n",
       "  <thead>\n",
       "    <tr style=\"text-align: right;\">\n",
       "      <th></th>\n",
       "      <th>user_id</th>\n",
       "      <th>age</th>\n",
       "      <th>churn_date</th>\n",
       "      <th>city</th>\n",
       "      <th>first_name</th>\n",
       "      <th>last_name</th>\n",
       "      <th>reg_date</th>\n",
       "      <th>tariff</th>\n",
       "      <th>c_count</th>\n",
       "      <th>c_duration</th>\n",
       "      <th>...</th>\n",
       "      <th>mb_per_month_included</th>\n",
       "      <th>minutes_included</th>\n",
       "      <th>rub_monthly_fee</th>\n",
       "      <th>rub_per_gb</th>\n",
       "      <th>rub_per_message</th>\n",
       "      <th>rub_per_minute</th>\n",
       "      <th>paid_minutes</th>\n",
       "      <th>paid_messages</th>\n",
       "      <th>paid_mb</th>\n",
       "      <th>month_rev</th>\n",
       "    </tr>\n",
       "  </thead>\n",
       "  <tbody>\n",
       "    <tr>\n",
       "      <th>3204</th>\n",
       "      <td>1497</td>\n",
       "      <td>32</td>\n",
       "      <td>NaN</td>\n",
       "      <td>Челябинск</td>\n",
       "      <td>Каролина</td>\n",
       "      <td>Агеева</td>\n",
       "      <td>2018-10-09</td>\n",
       "      <td>smart</td>\n",
       "      <td>48.0</td>\n",
       "      <td>371.0</td>\n",
       "      <td>...</td>\n",
       "      <td>15360</td>\n",
       "      <td>500</td>\n",
       "      <td>550</td>\n",
       "      <td>200</td>\n",
       "      <td>3</td>\n",
       "      <td>3</td>\n",
       "      <td>0.0</td>\n",
       "      <td>0.0</td>\n",
       "      <td>0.0</td>\n",
       "      <td>550.0</td>\n",
       "    </tr>\n",
       "    <tr>\n",
       "      <th>3205</th>\n",
       "      <td>1497</td>\n",
       "      <td>32</td>\n",
       "      <td>NaN</td>\n",
       "      <td>Челябинск</td>\n",
       "      <td>Каролина</td>\n",
       "      <td>Агеева</td>\n",
       "      <td>2018-10-09</td>\n",
       "      <td>smart</td>\n",
       "      <td>58.0</td>\n",
       "      <td>545.0</td>\n",
       "      <td>...</td>\n",
       "      <td>15360</td>\n",
       "      <td>500</td>\n",
       "      <td>550</td>\n",
       "      <td>200</td>\n",
       "      <td>3</td>\n",
       "      <td>3</td>\n",
       "      <td>135.0</td>\n",
       "      <td>0.0</td>\n",
       "      <td>1000.0</td>\n",
       "      <td>1685.0</td>\n",
       "    </tr>\n",
       "    <tr>\n",
       "      <th>3206</th>\n",
       "      <td>1498</td>\n",
       "      <td>68</td>\n",
       "      <td>2018-10-25</td>\n",
       "      <td>Владикавказ</td>\n",
       "      <td>Всеволод</td>\n",
       "      <td>Акимчин</td>\n",
       "      <td>2018-07-19</td>\n",
       "      <td>smart</td>\n",
       "      <td>20.0</td>\n",
       "      <td>175.0</td>\n",
       "      <td>...</td>\n",
       "      <td>15360</td>\n",
       "      <td>500</td>\n",
       "      <td>550</td>\n",
       "      <td>200</td>\n",
       "      <td>3</td>\n",
       "      <td>3</td>\n",
       "      <td>0.0</td>\n",
       "      <td>0.0</td>\n",
       "      <td>0.0</td>\n",
       "      <td>550.0</td>\n",
       "    </tr>\n",
       "    <tr>\n",
       "      <th>3207</th>\n",
       "      <td>1498</td>\n",
       "      <td>68</td>\n",
       "      <td>2018-10-25</td>\n",
       "      <td>Владикавказ</td>\n",
       "      <td>Всеволод</td>\n",
       "      <td>Акимчин</td>\n",
       "      <td>2018-07-19</td>\n",
       "      <td>smart</td>\n",
       "      <td>43.0</td>\n",
       "      <td>400.0</td>\n",
       "      <td>...</td>\n",
       "      <td>15360</td>\n",
       "      <td>500</td>\n",
       "      <td>550</td>\n",
       "      <td>200</td>\n",
       "      <td>3</td>\n",
       "      <td>3</td>\n",
       "      <td>0.0</td>\n",
       "      <td>36.0</td>\n",
       "      <td>1800.0</td>\n",
       "      <td>2386.0</td>\n",
       "    </tr>\n",
       "    <tr>\n",
       "      <th>3208</th>\n",
       "      <td>1498</td>\n",
       "      <td>68</td>\n",
       "      <td>2018-10-25</td>\n",
       "      <td>Владикавказ</td>\n",
       "      <td>Всеволод</td>\n",
       "      <td>Акимчин</td>\n",
       "      <td>2018-07-19</td>\n",
       "      <td>smart</td>\n",
       "      <td>53.0</td>\n",
       "      <td>471.0</td>\n",
       "      <td>...</td>\n",
       "      <td>15360</td>\n",
       "      <td>500</td>\n",
       "      <td>550</td>\n",
       "      <td>200</td>\n",
       "      <td>3</td>\n",
       "      <td>3</td>\n",
       "      <td>0.0</td>\n",
       "      <td>0.0</td>\n",
       "      <td>1400.0</td>\n",
       "      <td>1950.0</td>\n",
       "    </tr>\n",
       "    <tr>\n",
       "      <th>3209</th>\n",
       "      <td>1498</td>\n",
       "      <td>68</td>\n",
       "      <td>2018-10-25</td>\n",
       "      <td>Владикавказ</td>\n",
       "      <td>Всеволод</td>\n",
       "      <td>Акимчин</td>\n",
       "      <td>2018-07-19</td>\n",
       "      <td>smart</td>\n",
       "      <td>30.0</td>\n",
       "      <td>247.0</td>\n",
       "      <td>...</td>\n",
       "      <td>15360</td>\n",
       "      <td>500</td>\n",
       "      <td>550</td>\n",
       "      <td>200</td>\n",
       "      <td>3</td>\n",
       "      <td>3</td>\n",
       "      <td>0.0</td>\n",
       "      <td>0.0</td>\n",
       "      <td>1200.0</td>\n",
       "      <td>1750.0</td>\n",
       "    </tr>\n",
       "    <tr>\n",
       "      <th>3210</th>\n",
       "      <td>1499</td>\n",
       "      <td>35</td>\n",
       "      <td>NaN</td>\n",
       "      <td>Пермь</td>\n",
       "      <td>Гектор</td>\n",
       "      <td>Корнилов</td>\n",
       "      <td>2018-09-27</td>\n",
       "      <td>smart</td>\n",
       "      <td>8.0</td>\n",
       "      <td>70.0</td>\n",
       "      <td>...</td>\n",
       "      <td>15360</td>\n",
       "      <td>500</td>\n",
       "      <td>550</td>\n",
       "      <td>200</td>\n",
       "      <td>3</td>\n",
       "      <td>3</td>\n",
       "      <td>0.0</td>\n",
       "      <td>0.0</td>\n",
       "      <td>0.0</td>\n",
       "      <td>550.0</td>\n",
       "    </tr>\n",
       "    <tr>\n",
       "      <th>3211</th>\n",
       "      <td>1499</td>\n",
       "      <td>35</td>\n",
       "      <td>NaN</td>\n",
       "      <td>Пермь</td>\n",
       "      <td>Гектор</td>\n",
       "      <td>Корнилов</td>\n",
       "      <td>2018-09-27</td>\n",
       "      <td>smart</td>\n",
       "      <td>44.0</td>\n",
       "      <td>449.0</td>\n",
       "      <td>...</td>\n",
       "      <td>15360</td>\n",
       "      <td>500</td>\n",
       "      <td>550</td>\n",
       "      <td>200</td>\n",
       "      <td>3</td>\n",
       "      <td>3</td>\n",
       "      <td>0.0</td>\n",
       "      <td>0.0</td>\n",
       "      <td>600.0</td>\n",
       "      <td>1150.0</td>\n",
       "    </tr>\n",
       "    <tr>\n",
       "      <th>3212</th>\n",
       "      <td>1499</td>\n",
       "      <td>35</td>\n",
       "      <td>NaN</td>\n",
       "      <td>Пермь</td>\n",
       "      <td>Гектор</td>\n",
       "      <td>Корнилов</td>\n",
       "      <td>2018-09-27</td>\n",
       "      <td>smart</td>\n",
       "      <td>62.0</td>\n",
       "      <td>612.0</td>\n",
       "      <td>...</td>\n",
       "      <td>15360</td>\n",
       "      <td>500</td>\n",
       "      <td>550</td>\n",
       "      <td>200</td>\n",
       "      <td>3</td>\n",
       "      <td>3</td>\n",
       "      <td>336.0</td>\n",
       "      <td>27.0</td>\n",
       "      <td>600.0</td>\n",
       "      <td>1513.0</td>\n",
       "    </tr>\n",
       "    <tr>\n",
       "      <th>3213</th>\n",
       "      <td>1499</td>\n",
       "      <td>35</td>\n",
       "      <td>NaN</td>\n",
       "      <td>Пермь</td>\n",
       "      <td>Гектор</td>\n",
       "      <td>Корнилов</td>\n",
       "      <td>2018-09-27</td>\n",
       "      <td>smart</td>\n",
       "      <td>56.0</td>\n",
       "      <td>492.0</td>\n",
       "      <td>...</td>\n",
       "      <td>15360</td>\n",
       "      <td>500</td>\n",
       "      <td>550</td>\n",
       "      <td>200</td>\n",
       "      <td>3</td>\n",
       "      <td>3</td>\n",
       "      <td>0.0</td>\n",
       "      <td>48.0</td>\n",
       "      <td>0.0</td>\n",
       "      <td>598.0</td>\n",
       "    </tr>\n",
       "  </tbody>\n",
       "</table>\n",
       "<p>10 rows × 23 columns</p>\n",
       "</div>"
      ],
      "text/plain": [
       "      user_id  age  churn_date         city first_name last_name   reg_date  \\\n",
       "3204     1497   32         NaN    Челябинск   Каролина    Агеева 2018-10-09   \n",
       "3205     1497   32         NaN    Челябинск   Каролина    Агеева 2018-10-09   \n",
       "3206     1498   68  2018-10-25  Владикавказ   Всеволод   Акимчин 2018-07-19   \n",
       "3207     1498   68  2018-10-25  Владикавказ   Всеволод   Акимчин 2018-07-19   \n",
       "3208     1498   68  2018-10-25  Владикавказ   Всеволод   Акимчин 2018-07-19   \n",
       "3209     1498   68  2018-10-25  Владикавказ   Всеволод   Акимчин 2018-07-19   \n",
       "3210     1499   35         NaN        Пермь     Гектор  Корнилов 2018-09-27   \n",
       "3211     1499   35         NaN        Пермь     Гектор  Корнилов 2018-09-27   \n",
       "3212     1499   35         NaN        Пермь     Гектор  Корнилов 2018-09-27   \n",
       "3213     1499   35         NaN        Пермь     Гектор  Корнилов 2018-09-27   \n",
       "\n",
       "     tariff  c_count  c_duration  ...  mb_per_month_included  \\\n",
       "3204  smart     48.0       371.0  ...                  15360   \n",
       "3205  smart     58.0       545.0  ...                  15360   \n",
       "3206  smart     20.0       175.0  ...                  15360   \n",
       "3207  smart     43.0       400.0  ...                  15360   \n",
       "3208  smart     53.0       471.0  ...                  15360   \n",
       "3209  smart     30.0       247.0  ...                  15360   \n",
       "3210  smart      8.0        70.0  ...                  15360   \n",
       "3211  smart     44.0       449.0  ...                  15360   \n",
       "3212  smart     62.0       612.0  ...                  15360   \n",
       "3213  smart     56.0       492.0  ...                  15360   \n",
       "\n",
       "      minutes_included  rub_monthly_fee  rub_per_gb  rub_per_message  \\\n",
       "3204               500              550         200                3   \n",
       "3205               500              550         200                3   \n",
       "3206               500              550         200                3   \n",
       "3207               500              550         200                3   \n",
       "3208               500              550         200                3   \n",
       "3209               500              550         200                3   \n",
       "3210               500              550         200                3   \n",
       "3211               500              550         200                3   \n",
       "3212               500              550         200                3   \n",
       "3213               500              550         200                3   \n",
       "\n",
       "      rub_per_minute  paid_minutes  paid_messages  paid_mb  month_rev  \n",
       "3204               3           0.0            0.0      0.0      550.0  \n",
       "3205               3         135.0            0.0   1000.0     1685.0  \n",
       "3206               3           0.0            0.0      0.0      550.0  \n",
       "3207               3           0.0           36.0   1800.0     2386.0  \n",
       "3208               3           0.0            0.0   1400.0     1950.0  \n",
       "3209               3           0.0            0.0   1200.0     1750.0  \n",
       "3210               3           0.0            0.0      0.0      550.0  \n",
       "3211               3           0.0            0.0    600.0     1150.0  \n",
       "3212               3         336.0           27.0    600.0     1513.0  \n",
       "3213               3           0.0           48.0      0.0      598.0  \n",
       "\n",
       "[10 rows x 23 columns]"
      ]
     },
     "execution_count": 22,
     "metadata": {},
     "output_type": "execute_result"
    }
   ],
   "source": [
    "df_full['month_rev'] = df_full['rub_monthly_fee'] + df_full['paid_minutes'] + df_full['paid_messages'] + df_full['paid_mb']\n",
    "df_full.tail(10)"
   ]
  },
  {
   "cell_type": "markdown",
   "metadata": {},
   "source": [
    "Данные подготовлены. Теперь можно приступать к анализу."
   ]
  },
  {
   "cell_type": "markdown",
   "metadata": {},
   "source": [
    "## Анализ"
   ]
  },
  {
   "cell_type": "markdown",
   "metadata": {},
   "source": [
    "Для начала необходимо разделить пользователей тарифов и для каждого сегмента проанализировать действия."
   ]
  },
  {
   "cell_type": "code",
   "execution_count": 23,
   "metadata": {},
   "outputs": [
    {
     "name": "stdout",
     "output_type": "stream",
     "text": [
      "<class 'pandas.core.frame.DataFrame'>\n",
      "Int64Index: 2229 entries, 985 to 3213\n",
      "Data columns (total 23 columns):\n",
      " #   Column                 Non-Null Count  Dtype         \n",
      "---  ------                 --------------  -----         \n",
      " 0   user_id                2229 non-null   int64         \n",
      " 1   age                    2229 non-null   int64         \n",
      " 2   churn_date             111 non-null    object        \n",
      " 3   city                   2229 non-null   object        \n",
      " 4   first_name             2229 non-null   object        \n",
      " 5   last_name              2229 non-null   object        \n",
      " 6   reg_date               2229 non-null   datetime64[ns]\n",
      " 7   tariff                 2229 non-null   object        \n",
      " 8   c_count                2229 non-null   float64       \n",
      " 9   c_duration             2229 non-null   float64       \n",
      " 10  m_count                2229 non-null   float64       \n",
      " 11  mb_used                2229 non-null   float64       \n",
      " 12  messages_included      2229 non-null   int64         \n",
      " 13  mb_per_month_included  2229 non-null   int64         \n",
      " 14  minutes_included       2229 non-null   int64         \n",
      " 15  rub_monthly_fee        2229 non-null   int64         \n",
      " 16  rub_per_gb             2229 non-null   int64         \n",
      " 17  rub_per_message        2229 non-null   int64         \n",
      " 18  rub_per_minute         2229 non-null   int64         \n",
      " 19  paid_minutes           2229 non-null   float64       \n",
      " 20  paid_messages          2229 non-null   float64       \n",
      " 21  paid_mb                2229 non-null   float64       \n",
      " 22  month_rev              2229 non-null   float64       \n",
      "dtypes: datetime64[ns](1), float64(8), int64(9), object(5)\n",
      "memory usage: 417.9+ KB\n",
      "<class 'pandas.core.frame.DataFrame'>\n",
      "Int64Index: 985 entries, 0 to 984\n",
      "Data columns (total 23 columns):\n",
      " #   Column                 Non-Null Count  Dtype         \n",
      "---  ------                 --------------  -----         \n",
      " 0   user_id                985 non-null    int64         \n",
      " 1   age                    985 non-null    int64         \n",
      " 2   churn_date             76 non-null     object        \n",
      " 3   city                   985 non-null    object        \n",
      " 4   first_name             985 non-null    object        \n",
      " 5   last_name              985 non-null    object        \n",
      " 6   reg_date               985 non-null    datetime64[ns]\n",
      " 7   tariff                 985 non-null    object        \n",
      " 8   c_count                985 non-null    float64       \n",
      " 9   c_duration             985 non-null    float64       \n",
      " 10  m_count                985 non-null    float64       \n",
      " 11  mb_used                985 non-null    float64       \n",
      " 12  messages_included      985 non-null    int64         \n",
      " 13  mb_per_month_included  985 non-null    int64         \n",
      " 14  minutes_included       985 non-null    int64         \n",
      " 15  rub_monthly_fee        985 non-null    int64         \n",
      " 16  rub_per_gb             985 non-null    int64         \n",
      " 17  rub_per_message        985 non-null    int64         \n",
      " 18  rub_per_minute         985 non-null    int64         \n",
      " 19  paid_minutes           985 non-null    float64       \n",
      " 20  paid_messages          985 non-null    float64       \n",
      " 21  paid_mb                985 non-null    float64       \n",
      " 22  month_rev              985 non-null    float64       \n",
      "dtypes: datetime64[ns](1), float64(8), int64(9), object(5)\n",
      "memory usage: 184.7+ KB\n"
     ]
    }
   ],
   "source": [
    "smart_users = df_full.query('tariff == \"smart\"') # Пользователи тарифа Smart\n",
    "smart_users.info()\n",
    "ultra_users = df_full.query('tariff == \"ultra\"') # Пользователи тарифа Ultra\n",
    "ultra_users.info()"
   ]
  },
  {
   "cell_type": "markdown",
   "metadata": {},
   "source": [
    "### Тариф Smart\n",
    "Посмотрю на действия пользователей тарифа \"Смарт\".\n",
    "#### Минуты разговора"
   ]
  },
  {
   "cell_type": "code",
   "execution_count": 24,
   "metadata": {},
   "outputs": [
    {
     "data": {
      "text/plain": [
       "<AxesSubplot:>"
      ]
     },
     "execution_count": 24,
     "metadata": {},
     "output_type": "execute_result"
    },
    {
     "data": {
      "image/png": "[encoded data removed]",
      "text/plain": [
       "<Figure size 432x288 with 1 Axes>"
      ]
     },
     "metadata": {
      "needs_background": "light"
     },
     "output_type": "display_data"
    }
   ],
   "source": [
    "smart_users['c_duration'].hist(bins=range(0, 850, 50)) # Диаграмма "
   ]
  },
  {
   "cell_type": "markdown",
   "metadata": {},
   "source": [
    "По диаграмме видно скошенность данных влево. Или отрицательную скошенность. Само распределение нормальное."
   ]
  },
  {
   "cell_type": "code",
   "execution_count": 25,
   "metadata": {},
   "outputs": [
    {
     "name": "stdout",
     "output_type": "stream",
     "text": [
      "Среднее количество минут в месяц: 417.9349484073576\n"
     ]
    }
   ],
   "source": [
    "print('Среднее количество минут в месяц:', smart_users['c_duration'].mean())"
   ]
  },
  {
   "cell_type": "code",
   "execution_count": 26,
   "metadata": {},
   "outputs": [
    {
     "name": "stdout",
     "output_type": "stream",
     "text": [
      "Дисперсия равна 36203.066652094654\n",
      "Стандартное отклонение равно 190.27103471651867\n"
     ]
    }
   ],
   "source": [
    "variance_c = np.var(smart_users['c_duration']) # Дисперсия\n",
    "std_dev_c = np.sqrt(variance_c) # Стандартное отклонение\n",
    "print('Дисперсия равна', variance_c)\n",
    "print('Стандартное отклонение равно', std_dev_c)"
   ]
  },
  {
   "cell_type": "code",
   "execution_count": 27,
   "metadata": {},
   "outputs": [
    {
     "data": {
      "text/html": [
       "<div>\n",
       "<style scoped>\n",
       "    .dataframe tbody tr th:only-of-type {\n",
       "        vertical-align: middle;\n",
       "    }\n",
       "\n",
       "    .dataframe tbody tr th {\n",
       "        vertical-align: top;\n",
       "    }\n",
       "\n",
       "    .dataframe thead tr th {\n",
       "        text-align: left;\n",
       "    }\n",
       "\n",
       "    .dataframe thead tr:last-of-type th {\n",
       "        text-align: right;\n",
       "    }\n",
       "</style>\n",
       "<table border=\"1\" class=\"dataframe\">\n",
       "  <thead>\n",
       "    <tr>\n",
       "      <th></th>\n",
       "      <th>mean</th>\n",
       "      <th>var</th>\n",
       "      <th>std</th>\n",
       "    </tr>\n",
       "    <tr>\n",
       "      <th></th>\n",
       "      <th>c_duration</th>\n",
       "      <th>c_duration</th>\n",
       "      <th>c_duration</th>\n",
       "    </tr>\n",
       "    <tr>\n",
       "      <th>tariff</th>\n",
       "      <th></th>\n",
       "      <th></th>\n",
       "      <th></th>\n",
       "    </tr>\n",
       "  </thead>\n",
       "  <tbody>\n",
       "    <tr>\n",
       "      <th>smart</th>\n",
       "      <td>417.934948</td>\n",
       "      <td>36219.315784</td>\n",
       "      <td>190.313730</td>\n",
       "    </tr>\n",
       "    <tr>\n",
       "      <th>ultra</th>\n",
       "      <td>526.623350</td>\n",
       "      <td>100873.633397</td>\n",
       "      <td>317.606098</td>\n",
       "    </tr>\n",
       "  </tbody>\n",
       "</table>\n",
       "</div>"
      ],
      "text/plain": [
       "              mean            var         std\n",
       "        c_duration     c_duration  c_duration\n",
       "tariff                                       \n",
       "smart   417.934948   36219.315784  190.313730\n",
       "ultra   526.623350  100873.633397  317.606098"
      ]
     },
     "execution_count": 27,
     "metadata": {},
     "output_type": "execute_result"
    }
   ],
   "source": [
    "df_full.pivot_table(index = 'tariff', values = 'c_duration', aggfunc = ['mean', 'var', 'std'])"
   ]
  },
  {
   "cell_type": "markdown",
   "metadata": {},
   "source": [
    "Получаем, что статистически, при среднем в 396 минут и стандартном отклонении в 179 минут, что 750 минут хватит в месяц практически всем пользователям."
   ]
  },
  {
   "cell_type": "markdown",
   "metadata": {},
   "source": [
    "#### Сообщения"
   ]
  },
  {
   "cell_type": "code",
   "execution_count": 28,
   "metadata": {},
   "outputs": [
    {
     "data": {
      "text/plain": [
       "<AxesSubplot:>"
      ]
     },
     "execution_count": 28,
     "metadata": {},
     "output_type": "execute_result"
    },
    {
     "data": {
      "image/png": "[encoded data removed]",
      "text/plain": [
       "<Figure size 432x288 with 1 Axes>"
      ]
     },
     "metadata": {
      "needs_background": "light"
     },
     "output_type": "display_data"
    }
   ],
   "source": [
    "smart_users['m_count'].hist(bins=range(0, 145, 5)) #Диаграмма"
   ]
  },
  {
   "cell_type": "markdown",
   "metadata": {},
   "source": [
    "Получили сильную скошенность графика вправо из-за количества значений. "
   ]
  },
  {
   "cell_type": "code",
   "execution_count": 29,
   "metadata": {},
   "outputs": [
    {
     "name": "stdout",
     "output_type": "stream",
     "text": [
      "Среднее количество сообщений в месяц: 33.384028712427096\n"
     ]
    }
   ],
   "source": [
    "print('Среднее количество сообщений в месяц:', smart_users['m_count'].mean())"
   ]
  },
  {
   "cell_type": "code",
   "execution_count": 30,
   "metadata": {},
   "outputs": [
    {
     "name": "stdout",
     "output_type": "stream",
     "text": [
      "Дисперсия равна 796.455482917076\n",
      "Стандартное отклонение равно 28.221542886898938\n"
     ]
    }
   ],
   "source": [
    "variance_m = np.var(smart_users['m_count']) # Дисперсия\n",
    "std_dev_m = np.sqrt(variance_m) # Стандартное отклонение\n",
    "print('Дисперсия равна', variance_m)\n",
    "print('Стандартное отклонение равно', std_dev_m)"
   ]
  },
  {
   "cell_type": "markdown",
   "metadata": {},
   "source": [
    "Вероятно, смс не самая популярная услуга, особенно при развитии мессенджеров. Большинство пользователей тарифа не израсходуют лимит в 100 сообщений."
   ]
  },
  {
   "cell_type": "markdown",
   "metadata": {},
   "source": [
    "#### Интернет"
   ]
  },
  {
   "cell_type": "code",
   "execution_count": 31,
   "metadata": {},
   "outputs": [
    {
     "data": {
      "text/plain": [
       "<AxesSubplot:>"
      ]
     },
     "execution_count": 31,
     "metadata": {},
     "output_type": "execute_result"
    },
    {
     "data": {
      "image/png": "[encoded data removed]",
      "text/plain": [
       "<Figure size 432x288 with 1 Axes>"
      ]
     },
     "metadata": {
      "needs_background": "light"
     },
     "output_type": "display_data"
    }
   ],
   "source": [
    "smart_users['mb_used'].hist(bins=range(0, 40000, 1000)) #Диаграмма"
   ]
  },
  {
   "cell_type": "markdown",
   "metadata": {},
   "source": [
    "Также распределение вполне нормальное и немного скошено влево."
   ]
  },
  {
   "cell_type": "code",
   "execution_count": 32,
   "metadata": {},
   "outputs": [
    {
     "name": "stdout",
     "output_type": "stream",
     "text": [
      "Среднее количество траффика в месяц: 16208.38698968148\n"
     ]
    }
   ],
   "source": [
    "print('Среднее количество траффика в месяц:', smart_users['mb_used'].mean())"
   ]
  },
  {
   "cell_type": "code",
   "execution_count": 33,
   "metadata": {},
   "outputs": [
    {
     "name": "stdout",
     "output_type": "stream",
     "text": [
      "Дисперсия равна 34447035.4952849\n",
      "Стандартное отклонение равно 5869.159692433398\n"
     ]
    }
   ],
   "source": [
    "variance_mb = np.var(smart_users['mb_used']) # Дисперсия\n",
    "std_dev_mb = np.sqrt(variance_mb) # Стандартное отклонение\n",
    "print('Дисперсия равна', variance_mb)\n",
    "print('Стандартное отклонение равно', std_dev_mb)"
   ]
  },
  {
   "cell_type": "markdown",
   "metadata": {},
   "source": [
    "Получаем использование в месяц около 16Гб. Неплохо. При этом большинство закроют свои потребности 30Гб траффика.   \n",
    "\n",
    "Итого пользователи тарифа в среднем в месяц тратят:   \n",
    "\n",
    "|| Тратят в месяц | Включено в тариф |   \n",
    "| --- | --- | --- |   \n",
    "| Минуты | 396 | 500 |   \n",
    "| СМС | 39 | 50 |   \n",
    "| Траффик, Гб | 16 | 15 |   "
   ]
  },
  {
   "cell_type": "markdown",
   "metadata": {},
   "source": [
    "Интересно, что в среднем пользователи вполне себе в рамках включенных лимитов тарифа, лишь немного доплачивая за трафиик. Т.е. средний пользователь тарифа приносит оператору в месяц лишь абонентсую плату - 550 руб."
   ]
  },
  {
   "cell_type": "code",
   "execution_count": 34,
   "metadata": {},
   "outputs": [
    {
     "name": "stdout",
     "output_type": "stream",
     "text": [
      "Дисперсия равна 669485.2209234155\n"
     ]
    },
    {
     "data": {
      "image/png": "[encoded data removed]",
      "text/plain": [
       "<Figure size 432x288 with 1 Axes>"
      ]
     },
     "metadata": {
      "needs_background": "light"
     },
     "output_type": "display_data"
    }
   ],
   "source": [
    "smart_users['month_rev'].hist(bins=range(500, 3500, 125)) #Диаграмма по тратам\n",
    "print('Дисперсия равна', np.var(smart_users['month_rev']))"
   ]
  },
  {
   "cell_type": "markdown",
   "metadata": {},
   "source": [
    "По затратам же видно, что действительно большое число клиентов укладываются в тарифные лимиты, но еще столько же сильно переплачивают за перерасход."
   ]
  },
  {
   "cell_type": "markdown",
   "metadata": {},
   "source": [
    "### Тариф Ultra\n",
    "#### Минуты"
   ]
  },
  {
   "cell_type": "code",
   "execution_count": 35,
   "metadata": {},
   "outputs": [
    {
     "data": {
      "text/plain": [
       "<AxesSubplot:>"
      ]
     },
     "execution_count": 35,
     "metadata": {},
     "output_type": "execute_result"
    },
    {
     "data": {
      "image/png": "[encoded data removed]",
      "text/plain": [
       "<Figure size 432x288 with 1 Axes>"
      ]
     },
     "metadata": {
      "needs_background": "light"
     },
     "output_type": "display_data"
    }
   ],
   "source": [
    "ultra_users['c_duration'].hist(bins=range(0, 1250, 50))"
   ]
  },
  {
   "cell_type": "markdown",
   "metadata": {},
   "source": [
    "Наблюдаю скос вправо при близком к нормальному распределении."
   ]
  },
  {
   "cell_type": "code",
   "execution_count": 36,
   "metadata": {},
   "outputs": [
    {
     "name": "stdout",
     "output_type": "stream",
     "text": [
      "Среднее количество минут в месяц: 526.6233502538071\n"
     ]
    }
   ],
   "source": [
    "print('Среднее количество минут в месяц:', ultra_users['c_duration'].mean())"
   ]
  },
  {
   "cell_type": "code",
   "execution_count": 37,
   "metadata": {},
   "outputs": [
    {
     "name": "stdout",
     "output_type": "stream",
     "text": [
      "Дисперсия равна 100771.22361720214\n",
      "Стандартное отклонение равно 317.4448355497411\n"
     ]
    }
   ],
   "source": [
    "variance_c_u = np.var(ultra_users['c_duration']) # Дисперсия\n",
    "std_dev_c_u = np.sqrt(variance_c_u) # Стандартное отклонение\n",
    "print('Дисперсия равна', variance_c_u)\n",
    "print('Стандартное отклонение равно', std_dev_c_u)"
   ]
  },
  {
   "cell_type": "markdown",
   "metadata": {},
   "source": [
    "При среднем в 517 минут и отклонении в 288, тарифного лимита должно большинству хватать."
   ]
  },
  {
   "cell_type": "markdown",
   "metadata": {},
   "source": [
    "#### Сообщения"
   ]
  },
  {
   "cell_type": "code",
   "execution_count": 38,
   "metadata": {},
   "outputs": [
    {
     "data": {
      "text/plain": [
       "<AxesSubplot:>"
      ]
     },
     "execution_count": 38,
     "metadata": {},
     "output_type": "execute_result"
    },
    {
     "data": {
      "image/png": "[encoded data removed]",
      "text/plain": [
       "<Figure size 432x288 with 1 Axes>"
      ]
     },
     "metadata": {
      "needs_background": "light"
     },
     "output_type": "display_data"
    }
   ],
   "source": [
    "ultra_users['m_count'].hist(bins=range(0, 250, 10))"
   ]
  },
  {
   "cell_type": "markdown",
   "metadata": {},
   "source": [
    "Распределение больше похоже на Пуассоновское."
   ]
  },
  {
   "cell_type": "code",
   "execution_count": 39,
   "metadata": {},
   "outputs": [
    {
     "name": "stdout",
     "output_type": "stream",
     "text": [
      "Среднее количество сообщений в месяц: 49.36345177664975\n"
     ]
    }
   ],
   "source": [
    "print('Среднее количество сообщений в месяц:', ultra_users['m_count'].mean())"
   ]
  },
  {
   "cell_type": "code",
   "execution_count": 40,
   "metadata": {},
   "outputs": [
    {
     "name": "stdout",
     "output_type": "stream",
     "text": [
      "Дисперсия равна 2282.946075394892\n",
      "Стандартное отклонение равно 47.780184966101714\n"
     ]
    }
   ],
   "source": [
    "variance_m_u = np.var(ultra_users['m_count']) # Дисперсия\n",
    "std_dev_m_u = np.sqrt(variance_m_u) # Стандартное отклонение\n",
    "print('Дисперсия равна', variance_m_u)\n",
    "print('Стандартное отклонение равно', std_dev_m_u)"
   ]
  },
  {
   "cell_type": "markdown",
   "metadata": {},
   "source": [
    "#### Интернет"
   ]
  },
  {
   "cell_type": "code",
   "execution_count": 41,
   "metadata": {},
   "outputs": [
    {
     "data": {
      "text/plain": [
       "<AxesSubplot:>"
      ]
     },
     "execution_count": 41,
     "metadata": {},
     "output_type": "execute_result"
    },
    {
     "data": {
      "image/png": "[encoded data removed]",
      "text/plain": [
       "<Figure size 432x288 with 1 Axes>"
      ]
     },
     "metadata": {
      "needs_background": "light"
     },
     "output_type": "display_data"
    }
   ],
   "source": [
    "ultra_users['mb_used'].hist(bins=range(0, 40500, 1000))"
   ]
  },
  {
   "cell_type": "markdown",
   "metadata": {},
   "source": [
    "Небольшой скос вправо."
   ]
  },
  {
   "cell_type": "code",
   "execution_count": 42,
   "metadata": {},
   "outputs": [
    {
     "name": "stdout",
     "output_type": "stream",
     "text": [
      "Среднее количество траффика в месяц: 19468.805208121845\n"
     ]
    }
   ],
   "source": [
    "print('Среднее количество траффика в месяц:', ultra_users['mb_used'].mean())"
   ]
  },
  {
   "cell_type": "code",
   "execution_count": 43,
   "metadata": {},
   "outputs": [
    {
     "name": "stdout",
     "output_type": "stream",
     "text": [
      "Дисперсия равна 101647713.26174632\n",
      "Стандартное отклонение равно 10082.049060669478\n"
     ]
    }
   ],
   "source": [
    "variance_mb_u = np.var(ultra_users['mb_used']) # Дисперсия\n",
    "std_dev_mb_u = np.sqrt(variance_mb_u) # Стандартное отклонение\n",
    "print('Дисперсия равна', variance_mb_u)\n",
    "print('Стандартное отклонение равно', std_dev_mb_u)"
   ]
  },
  {
   "cell_type": "markdown",
   "metadata": {},
   "source": [
    "Про траффик можно сказать, что потребности большинстрва закроет пакет из 40Гб.   \n",
    "\n",
    "Итого пользователи тарифа в среднем в месяц тратят:   \n",
    "\n",
    "|| Тратят в месяц | Включено в тариф |   \n",
    "| --- | --- | --- |   \n",
    "| Минуты | 517 | 3000 |   \n",
    "| СМС | 61 | 1000 |   \n",
    "| Траффик, Гб | 20 | 30 |   "
   ]
  },
  {
   "cell_type": "code",
   "execution_count": 44,
   "metadata": {},
   "outputs": [
    {
     "name": "stdout",
     "output_type": "stream",
     "text": [
      "Дисперсия равна 141373.07325620216\n"
     ]
    },
    {
     "data": {
      "image/png": "[encoded data removed]",
      "text/plain": [
       "<Figure size 432x288 with 1 Axes>"
      ]
     },
     "metadata": {
      "needs_background": "light"
     },
     "output_type": "display_data"
    }
   ],
   "source": [
    "ultra_users['month_rev'].hist(bins=range(1750, 3500, 100)) #Диаграмма по тратам\n",
    "print('Дисперсия равна', np.var(ultra_users['month_rev']))"
   ]
  },
  {
   "cell_type": "markdown",
   "metadata": {},
   "source": [
    "Картина по тратам ожидаемая, практически все укладываются в тарифные лимиты."
   ]
  },
  {
   "cell_type": "markdown",
   "metadata": {},
   "source": [
    "## Проверка гипотез\n",
    "Гипотезы звучат следующим образом:\n",
    "- средняя выручка пользователей тарифов «Ультра» и «Смарт» различаются;\n",
    "- средняя выручка пользователей из Москвы отличается от выручки пользователей из других регионов.\n",
    "\n",
    "Начну с первой. Нулевая гипотеза - средняя выручка пользователей тарифов «Ультра» и «Смарт» не различаются, тогда альтернативной будет гипотеза - средняя выручка пользователей тарифов «Ультра» и «Смарт» различаются.   \n",
    "Проверю."
   ]
  },
  {
   "cell_type": "code",
   "execution_count": 45,
   "metadata": {},
   "outputs": [
    {
     "name": "stdout",
     "output_type": "stream",
     "text": [
      "p-значение:  4.2606313931076085e-250\n",
      "Отвергаем нулевую гипотезу\n"
     ]
    }
   ],
   "source": [
    "results = st.ttest_ind(smart_users['month_rev'], ultra_users['month_rev'], equal_var=False)\n",
    "alpha = .05\n",
    "print('p-значение: ', results.pvalue)\n",
    "if results.pvalue < alpha:\n",
    "    print(\"Отвергаем нулевую гипотезу\")\n",
    "else:\n",
    "    print(\"Не получилось отвергнуть нулевую гипотезу\")"
   ]
  },
  {
   "cell_type": "markdown",
   "metadata": {},
   "source": [
    "Отвергаем нулевую гипотезу. Проверим вторую. Для этого для каждой выборки выделим еще клиентов из Москвы и остальных."
   ]
  },
  {
   "cell_type": "code",
   "execution_count": 46,
   "metadata": {},
   "outputs": [
    {
     "name": "stdout",
     "output_type": "stream",
     "text": [
      "Дисперсия равна 564710.7117467293\n",
      "Дисперсия равна 653886.3270894091\n"
     ]
    }
   ],
   "source": [
    "moscow_users = df_full.query('city == \"Москва\"')\n",
    "print('Дисперсия равна', np.var(moscow_users['month_rev']))\n",
    "other_users = df_full.query('city != \"Москва\"')\n",
    "print('Дисперсия равна', np.var(other_users['month_rev']))"
   ]
  },
  {
   "cell_type": "markdown",
   "metadata": {},
   "source": [
    "Нулевая гипотеза - средняя выручка пользователей из Москвы не отличается от выручки пользователей из других регионов. Альтернативная - средняя выручка пользователей из Москвы отличается от выручки пользователей из других регионов."
   ]
  },
  {
   "cell_type": "code",
   "execution_count": 47,
   "metadata": {},
   "outputs": [
    {
     "name": "stdout",
     "output_type": "stream",
     "text": [
      "p-значение:  0.5440152911670224\n",
      "Не получилось отвергнуть нулевую гипотезу\n"
     ]
    }
   ],
   "source": [
    "results = st.ttest_ind(moscow_users['month_rev'], other_users['month_rev'])\n",
    "alpha = .05\n",
    "print('p-значение: ', results.pvalue)\n",
    "if results.pvalue < alpha:\n",
    "    print(\"Отвергаем нулевую гипотезу\")\n",
    "else:\n",
    "    print(\"Не получилось отвергнуть нулевую гипотезу\")"
   ]
  },
  {
   "cell_type": "markdown",
   "metadata": {},
   "source": [
    "## Общий вывод"
   ]
  },
  {
   "cell_type": "markdown",
   "metadata": {},
   "source": [
    "**Подготовка данных. Что было сделано**   \n",
    "Были объединены 4 датасета с целью получения единого и удобного для анализа. Конкретнее: получен датасет с данными по трат в разрезе клиент/месяц.   \n",
    "Из таблицы со звонками были удалены пропущенные звонки (звонки с нулевой продолжительностью).   \n",
    "Данные были получены полными, без значимых пропусков.   \n",
    "\n",
    "**Анализ действий пользователей**   \n",
    "Пользователям тарифа Smart в большом ряде случаев не хватает включенных в тариф лимитов, они часто платят дополнительно к абонентской плате за перерасход лимитов.   \n",
    "Пользователи же тарифа Ultra зачастую укладываются в лимиты и платят только абонентскую плату.\n",
    "\n",
    "**Гипотезы**   \n",
    "Гипотеза про разницу в выручке была отвергнута. Поэтому рекрмендация вкладываться в рекламу тарифа Ultra по логике, что пользователи Ultra гарантированно платят абонентскую плату, но при этом совсем не всегда по услугам даже подходят к лимиту. Т.е. оказано услуг менее заявленных, но гарантированно полученная прибыль +меньше возможный отток клиентов к другим операторам на предположительно более выгодные тарифы.   \n",
    "Вторую же гипотезу не удалось отвергнуть."
   ]
  },
  {
   "cell_type": "code",
   "execution_count": null,
   "metadata": {},
   "outputs": [],
   "source": []
  }
 ],
 "metadata": {
  "ExecuteTimeLog": [
   {
    "duration": 1247,
    "start_time": "2022-05-24T06:56:43.244Z"
   },
   {
    "duration": 3,
    "start_time": "2022-05-24T06:57:14.421Z"
   },
   {
    "duration": 93,
    "start_time": "2022-05-24T07:01:46.326Z"
   },
   {
    "duration": 1376,
    "start_time": "2022-05-24T07:02:20.485Z"
   },
   {
    "duration": 83,
    "start_time": "2022-05-24T12:04:23.583Z"
   },
   {
    "duration": 799,
    "start_time": "2022-05-24T12:04:32.550Z"
   },
   {
    "duration": 1486,
    "start_time": "2022-05-24T12:04:34.282Z"
   },
   {
    "duration": 237,
    "start_time": "2022-05-24T12:04:36.247Z"
   },
   {
    "duration": 105,
    "start_time": "2022-05-24T12:07:25.267Z"
   },
   {
    "duration": 130,
    "start_time": "2022-05-24T12:07:32.115Z"
   },
   {
    "duration": 114,
    "start_time": "2022-05-24T12:07:42.719Z"
   },
   {
    "duration": 9,
    "start_time": "2022-05-24T12:15:03.777Z"
   },
   {
    "duration": 7,
    "start_time": "2022-05-24T12:15:08.769Z"
   },
   {
    "duration": 230,
    "start_time": "2022-05-24T12:17:03.752Z"
   },
   {
    "duration": 216,
    "start_time": "2022-05-24T12:17:26.149Z"
   },
   {
    "duration": 290,
    "start_time": "2022-05-24T12:17:50.005Z"
   },
   {
    "duration": 230,
    "start_time": "2022-05-24T12:17:53.403Z"
   },
   {
    "duration": 70,
    "start_time": "2022-05-24T12:18:57.232Z"
   },
   {
    "duration": 10,
    "start_time": "2022-05-24T12:19:03.727Z"
   },
   {
    "duration": 9,
    "start_time": "2022-05-24T12:19:11.052Z"
   },
   {
    "duration": 280,
    "start_time": "2022-05-24T12:19:21.467Z"
   },
   {
    "duration": 383,
    "start_time": "2022-05-24T12:19:49.409Z"
   },
   {
    "duration": 239,
    "start_time": "2022-05-24T12:19:58.072Z"
   },
   {
    "duration": 209,
    "start_time": "2022-05-24T12:20:18.603Z"
   },
   {
    "duration": 24,
    "start_time": "2022-05-24T12:28:48.040Z"
   },
   {
    "duration": 8,
    "start_time": "2022-05-24T12:29:07.532Z"
   },
   {
    "duration": 23,
    "start_time": "2022-05-24T12:29:19.078Z"
   },
   {
    "duration": 29,
    "start_time": "2022-05-24T12:29:42.865Z"
   },
   {
    "duration": 134,
    "start_time": "2022-05-24T12:30:33.939Z"
   },
   {
    "duration": 209,
    "start_time": "2022-05-24T12:30:44.263Z"
   },
   {
    "duration": 236,
    "start_time": "2022-05-24T12:31:45.867Z"
   },
   {
    "duration": 9,
    "start_time": "2022-05-24T12:34:34.649Z"
   },
   {
    "duration": 9,
    "start_time": "2022-05-24T12:37:13.077Z"
   },
   {
    "duration": 10,
    "start_time": "2022-05-24T12:37:35.128Z"
   },
   {
    "duration": 8,
    "start_time": "2022-05-24T12:37:51.230Z"
   },
   {
    "duration": 28,
    "start_time": "2022-05-24T12:37:57.060Z"
   },
   {
    "duration": 229,
    "start_time": "2022-05-24T12:56:18.803Z"
   },
   {
    "duration": 221,
    "start_time": "2022-05-24T12:56:29.533Z"
   },
   {
    "duration": 146,
    "start_time": "2022-05-24T12:56:46.018Z"
   },
   {
    "duration": 220,
    "start_time": "2022-05-24T12:56:51.913Z"
   },
   {
    "duration": 210,
    "start_time": "2022-05-24T12:58:29.979Z"
   },
   {
    "duration": 583,
    "start_time": "2022-05-24T12:58:34.041Z"
   },
   {
    "duration": 299,
    "start_time": "2022-05-24T12:59:59.867Z"
   },
   {
    "duration": 30,
    "start_time": "2022-05-24T13:02:15.937Z"
   },
   {
    "duration": 203,
    "start_time": "2022-05-24T13:03:04.924Z"
   },
   {
    "duration": 25,
    "start_time": "2022-05-24T13:03:34.971Z"
   },
   {
    "duration": 19,
    "start_time": "2022-05-24T13:04:18.365Z"
   },
   {
    "duration": 288,
    "start_time": "2022-05-24T13:04:36.505Z"
   },
   {
    "duration": 9,
    "start_time": "2022-05-24T13:05:10.831Z"
   },
   {
    "duration": 53,
    "start_time": "2022-05-24T13:05:39.146Z"
   },
   {
    "duration": 6,
    "start_time": "2022-05-24T13:09:18.505Z"
   },
   {
    "duration": 13,
    "start_time": "2022-05-24T13:12:31.540Z"
   },
   {
    "duration": 9,
    "start_time": "2022-05-24T13:12:48.129Z"
   },
   {
    "duration": 810,
    "start_time": "2022-05-25T08:30:03.476Z"
   },
   {
    "duration": 1952,
    "start_time": "2022-05-25T08:30:04.289Z"
   },
   {
    "duration": 152,
    "start_time": "2022-05-25T08:30:06.243Z"
   },
   {
    "duration": 232,
    "start_time": "2022-05-25T08:30:06.396Z"
   },
   {
    "duration": 597,
    "start_time": "2022-05-25T08:30:06.630Z"
   },
   {
    "duration": 55,
    "start_time": "2022-05-25T08:30:07.228Z"
   },
   {
    "duration": 330,
    "start_time": "2022-05-25T08:30:07.285Z"
   },
   {
    "duration": 21,
    "start_time": "2022-05-25T08:30:07.616Z"
   },
   {
    "duration": 350,
    "start_time": "2022-05-25T08:30:07.638Z"
   },
   {
    "duration": 25,
    "start_time": "2022-05-25T08:30:07.990Z"
   },
   {
    "duration": 95,
    "start_time": "2022-05-25T08:30:08.018Z"
   },
   {
    "duration": 7,
    "start_time": "2022-05-25T08:30:08.115Z"
   },
   {
    "duration": 3,
    "start_time": "2022-05-25T08:32:52.386Z"
   },
   {
    "duration": 16,
    "start_time": "2022-05-25T08:33:00.987Z"
   },
   {
    "duration": 19,
    "start_time": "2022-05-25T08:33:31.358Z"
   },
   {
    "duration": 52,
    "start_time": "2022-05-25T08:39:38.272Z"
   },
   {
    "duration": 101,
    "start_time": "2022-05-25T08:40:42.583Z"
   },
   {
    "duration": 97,
    "start_time": "2022-05-25T08:41:05.254Z"
   },
   {
    "duration": 107,
    "start_time": "2022-05-25T08:41:41.936Z"
   },
   {
    "duration": 864,
    "start_time": "2022-05-25T08:41:49.335Z"
   },
   {
    "duration": 508,
    "start_time": "2022-05-25T08:41:50.202Z"
   },
   {
    "duration": 114,
    "start_time": "2022-05-25T08:41:50.712Z"
   },
   {
    "duration": 252,
    "start_time": "2022-05-25T08:41:50.828Z"
   },
   {
    "duration": 543,
    "start_time": "2022-05-25T08:41:51.083Z"
   },
   {
    "duration": 56,
    "start_time": "2022-05-25T08:41:51.628Z"
   },
   {
    "duration": 341,
    "start_time": "2022-05-25T08:41:51.690Z"
   },
   {
    "duration": 44,
    "start_time": "2022-05-25T08:41:52.033Z"
   },
   {
    "duration": 244,
    "start_time": "2022-05-25T08:41:52.078Z"
   },
   {
    "duration": 55,
    "start_time": "2022-05-25T08:41:52.326Z"
   },
   {
    "duration": 88,
    "start_time": "2022-05-25T08:41:52.383Z"
   },
   {
    "duration": 8,
    "start_time": "2022-05-25T08:41:52.473Z"
   },
   {
    "duration": 19,
    "start_time": "2022-05-25T08:41:52.483Z"
   },
   {
    "duration": 168,
    "start_time": "2022-05-25T08:41:52.505Z"
   },
   {
    "duration": 55,
    "start_time": "2022-05-25T08:41:59.830Z"
   },
   {
    "duration": 36,
    "start_time": "2022-05-25T08:42:14.181Z"
   },
   {
    "duration": 855,
    "start_time": "2022-05-25T08:42:37.213Z"
   },
   {
    "duration": 1343,
    "start_time": "2022-05-25T08:42:38.077Z"
   },
   {
    "duration": 166,
    "start_time": "2022-05-25T08:42:39.422Z"
   },
   {
    "duration": 282,
    "start_time": "2022-05-25T08:42:39.590Z"
   },
   {
    "duration": 613,
    "start_time": "2022-05-25T08:42:39.873Z"
   },
   {
    "duration": 30,
    "start_time": "2022-05-25T08:42:40.488Z"
   },
   {
    "duration": 373,
    "start_time": "2022-05-25T08:42:40.520Z"
   },
   {
    "duration": 39,
    "start_time": "2022-05-25T08:42:40.895Z"
   },
   {
    "duration": 298,
    "start_time": "2022-05-25T08:42:40.937Z"
   },
   {
    "duration": 46,
    "start_time": "2022-05-25T08:42:41.238Z"
   },
   {
    "duration": 103,
    "start_time": "2022-05-25T08:42:41.287Z"
   },
   {
    "duration": 7,
    "start_time": "2022-05-25T08:42:41.391Z"
   },
   {
    "duration": 13,
    "start_time": "2022-05-25T08:42:41.400Z"
   },
   {
    "duration": 103,
    "start_time": "2022-05-25T08:42:53.944Z"
   },
   {
    "duration": 841,
    "start_time": "2022-05-25T08:44:04.951Z"
   },
   {
    "duration": 1347,
    "start_time": "2022-05-25T08:44:05.796Z"
   },
   {
    "duration": 171,
    "start_time": "2022-05-25T08:44:07.145Z"
   },
   {
    "duration": 272,
    "start_time": "2022-05-25T08:44:07.317Z"
   },
   {
    "duration": 791,
    "start_time": "2022-05-25T08:44:07.591Z"
   },
   {
    "duration": 42,
    "start_time": "2022-05-25T08:44:08.385Z"
   },
   {
    "duration": 369,
    "start_time": "2022-05-25T08:44:08.429Z"
   },
   {
    "duration": 20,
    "start_time": "2022-05-25T08:44:08.800Z"
   },
   {
    "duration": 374,
    "start_time": "2022-05-25T08:44:08.822Z"
   },
   {
    "duration": 27,
    "start_time": "2022-05-25T08:44:09.198Z"
   },
   {
    "duration": 88,
    "start_time": "2022-05-25T08:44:09.227Z"
   },
   {
    "duration": 8,
    "start_time": "2022-05-25T08:44:09.317Z"
   },
   {
    "duration": 39,
    "start_time": "2022-05-25T08:44:09.327Z"
   },
   {
    "duration": 108,
    "start_time": "2022-05-25T08:44:09.369Z"
   },
   {
    "duration": 138,
    "start_time": "2022-05-25T08:46:06.971Z"
   },
   {
    "duration": 12,
    "start_time": "2022-05-25T08:46:15.357Z"
   },
   {
    "duration": 70,
    "start_time": "2022-05-25T08:46:17.413Z"
   },
   {
    "duration": 808,
    "start_time": "2022-05-25T08:46:26.022Z"
   },
   {
    "duration": 418,
    "start_time": "2022-05-25T08:46:26.833Z"
   },
   {
    "duration": 143,
    "start_time": "2022-05-25T08:46:27.253Z"
   },
   {
    "duration": 245,
    "start_time": "2022-05-25T08:46:27.398Z"
   },
   {
    "duration": 695,
    "start_time": "2022-05-25T08:46:27.645Z"
   },
   {
    "duration": 72,
    "start_time": "2022-05-25T08:46:28.341Z"
   },
   {
    "duration": 331,
    "start_time": "2022-05-25T08:46:28.415Z"
   },
   {
    "duration": 30,
    "start_time": "2022-05-25T08:46:28.761Z"
   },
   {
    "duration": 270,
    "start_time": "2022-05-25T08:46:28.792Z"
   },
   {
    "duration": 26,
    "start_time": "2022-05-25T08:46:29.066Z"
   },
   {
    "duration": 87,
    "start_time": "2022-05-25T08:46:29.094Z"
   },
   {
    "duration": 5,
    "start_time": "2022-05-25T08:46:29.183Z"
   },
   {
    "duration": 16,
    "start_time": "2022-05-25T08:46:29.190Z"
   },
   {
    "duration": 148,
    "start_time": "2022-05-25T08:46:29.208Z"
   },
   {
    "duration": 111,
    "start_time": "2022-05-25T09:11:36.594Z"
   },
   {
    "duration": 1368,
    "start_time": "2022-05-25T09:13:36.877Z"
   },
   {
    "duration": 1376,
    "start_time": "2022-05-25T09:13:38.247Z"
   },
   {
    "duration": 155,
    "start_time": "2022-05-25T09:13:39.625Z"
   },
   {
    "duration": 294,
    "start_time": "2022-05-25T09:13:39.782Z"
   },
   {
    "duration": 640,
    "start_time": "2022-05-25T09:13:40.078Z"
   },
   {
    "duration": 41,
    "start_time": "2022-05-25T09:13:40.720Z"
   },
   {
    "duration": 380,
    "start_time": "2022-05-25T09:13:40.764Z"
   },
   {
    "duration": 31,
    "start_time": "2022-05-25T09:13:41.161Z"
   },
   {
    "duration": 274,
    "start_time": "2022-05-25T09:13:41.194Z"
   },
   {
    "duration": 27,
    "start_time": "2022-05-25T09:13:41.470Z"
   },
   {
    "duration": 97,
    "start_time": "2022-05-25T09:13:41.498Z"
   },
   {
    "duration": 7,
    "start_time": "2022-05-25T09:13:41.597Z"
   },
   {
    "duration": 24,
    "start_time": "2022-05-25T09:13:41.606Z"
   },
   {
    "duration": 89,
    "start_time": "2022-05-25T09:13:41.634Z"
   },
   {
    "duration": 43,
    "start_time": "2022-05-25T09:14:29.750Z"
   },
   {
    "duration": 46,
    "start_time": "2022-05-25T09:14:48.759Z"
   },
   {
    "duration": 37,
    "start_time": "2022-05-25T09:15:12.377Z"
   },
   {
    "duration": 128,
    "start_time": "2022-05-25T09:15:19.605Z"
   },
   {
    "duration": 38,
    "start_time": "2022-05-25T09:15:32.539Z"
   },
   {
    "duration": 91,
    "start_time": "2022-05-25T09:15:43.690Z"
   },
   {
    "duration": 892,
    "start_time": "2022-05-25T09:16:37.698Z"
   },
   {
    "duration": 458,
    "start_time": "2022-05-25T09:16:38.592Z"
   },
   {
    "duration": 155,
    "start_time": "2022-05-25T09:16:39.054Z"
   },
   {
    "duration": 274,
    "start_time": "2022-05-25T09:16:39.212Z"
   },
   {
    "duration": 605,
    "start_time": "2022-05-25T09:16:39.488Z"
   },
   {
    "duration": 27,
    "start_time": "2022-05-25T09:16:40.095Z"
   },
   {
    "duration": 390,
    "start_time": "2022-05-25T09:16:40.125Z"
   },
   {
    "duration": 59,
    "start_time": "2022-05-25T09:16:40.517Z"
   },
   {
    "duration": 250,
    "start_time": "2022-05-25T09:16:40.582Z"
   },
   {
    "duration": 38,
    "start_time": "2022-05-25T09:16:40.834Z"
   },
   {
    "duration": 93,
    "start_time": "2022-05-25T09:16:40.873Z"
   },
   {
    "duration": 12,
    "start_time": "2022-05-25T09:16:40.967Z"
   },
   {
    "duration": 22,
    "start_time": "2022-05-25T09:16:40.981Z"
   },
   {
    "duration": 6,
    "start_time": "2022-05-25T09:16:41.006Z"
   },
   {
    "duration": 33,
    "start_time": "2022-05-25T09:17:15.336Z"
   },
   {
    "duration": 107,
    "start_time": "2022-05-25T09:19:14.698Z"
   },
   {
    "duration": 13,
    "start_time": "2022-05-25T09:19:54.405Z"
   },
   {
    "duration": 846,
    "start_time": "2022-05-25T09:20:40.386Z"
   },
   {
    "duration": 451,
    "start_time": "2022-05-25T09:20:41.234Z"
   },
   {
    "duration": 182,
    "start_time": "2022-05-25T09:20:41.687Z"
   },
   {
    "duration": 273,
    "start_time": "2022-05-25T09:20:41.873Z"
   },
   {
    "duration": 583,
    "start_time": "2022-05-25T09:20:42.147Z"
   },
   {
    "duration": 48,
    "start_time": "2022-05-25T09:20:42.732Z"
   },
   {
    "duration": 333,
    "start_time": "2022-05-25T09:20:42.781Z"
   },
   {
    "duration": 23,
    "start_time": "2022-05-25T09:20:43.115Z"
   },
   {
    "duration": 331,
    "start_time": "2022-05-25T09:20:43.140Z"
   },
   {
    "duration": 21,
    "start_time": "2022-05-25T09:20:43.473Z"
   },
   {
    "duration": 100,
    "start_time": "2022-05-25T09:20:43.495Z"
   },
   {
    "duration": 6,
    "start_time": "2022-05-25T09:20:43.596Z"
   },
   {
    "duration": 14,
    "start_time": "2022-05-25T09:20:43.604Z"
   },
   {
    "duration": 121,
    "start_time": "2022-05-25T09:20:43.620Z"
   },
   {
    "duration": 27,
    "start_time": "2022-05-25T09:20:54.968Z"
   },
   {
    "duration": 15,
    "start_time": "2022-05-25T09:21:28.474Z"
   },
   {
    "duration": 15,
    "start_time": "2022-05-25T09:21:47.487Z"
   },
   {
    "duration": 26,
    "start_time": "2022-05-25T09:22:11.667Z"
   },
   {
    "duration": 44,
    "start_time": "2022-05-25T09:22:23.366Z"
   },
   {
    "duration": 64,
    "start_time": "2022-05-25T09:22:33.894Z"
   },
   {
    "duration": 51,
    "start_time": "2022-05-25T09:23:07.250Z"
   },
   {
    "duration": 59,
    "start_time": "2022-05-25T09:23:13.980Z"
   },
   {
    "duration": 855,
    "start_time": "2022-05-25T11:35:51.711Z"
   },
   {
    "duration": 1196,
    "start_time": "2022-05-25T11:35:52.568Z"
   },
   {
    "duration": 105,
    "start_time": "2022-05-25T11:35:53.765Z"
   },
   {
    "duration": 242,
    "start_time": "2022-05-25T11:35:53.893Z"
   },
   {
    "duration": 530,
    "start_time": "2022-05-25T11:35:54.137Z"
   },
   {
    "duration": 44,
    "start_time": "2022-05-25T11:35:54.669Z"
   },
   {
    "duration": 284,
    "start_time": "2022-05-25T11:35:54.715Z"
   },
   {
    "duration": 25,
    "start_time": "2022-05-25T11:35:55.001Z"
   },
   {
    "duration": 236,
    "start_time": "2022-05-25T11:35:55.028Z"
   },
   {
    "duration": 28,
    "start_time": "2022-05-25T11:35:55.266Z"
   },
   {
    "duration": 46,
    "start_time": "2022-05-25T11:35:55.296Z"
   },
   {
    "duration": 10,
    "start_time": "2022-05-25T11:35:55.344Z"
   },
   {
    "duration": 14,
    "start_time": "2022-05-25T11:35:55.394Z"
   },
   {
    "duration": 58,
    "start_time": "2022-05-25T11:35:55.410Z"
   },
   {
    "duration": 114,
    "start_time": "2022-05-25T11:37:17.028Z"
   },
   {
    "duration": 121,
    "start_time": "2022-05-25T11:37:31.533Z"
   },
   {
    "duration": 32,
    "start_time": "2022-05-25T11:40:24.374Z"
   },
   {
    "duration": 82,
    "start_time": "2022-05-25T11:40:37.681Z"
   },
   {
    "duration": 92,
    "start_time": "2022-05-25T11:42:01.692Z"
   },
   {
    "duration": 18,
    "start_time": "2022-05-25T11:43:12.423Z"
   },
   {
    "duration": 97,
    "start_time": "2022-05-25T11:43:34.428Z"
   },
   {
    "duration": 91,
    "start_time": "2022-05-25T11:44:57.098Z"
   },
   {
    "duration": 103,
    "start_time": "2022-05-25T11:45:23.827Z"
   },
   {
    "duration": 117,
    "start_time": "2022-05-25T11:45:29.416Z"
   },
   {
    "duration": 10,
    "start_time": "2022-05-25T11:48:22.657Z"
   },
   {
    "duration": 30,
    "start_time": "2022-05-25T11:49:03.326Z"
   },
   {
    "duration": 355,
    "start_time": "2022-05-25T11:49:07.991Z"
   },
   {
    "duration": 49,
    "start_time": "2022-05-25T11:49:24.372Z"
   },
   {
    "duration": 9,
    "start_time": "2022-05-25T11:50:02.833Z"
   },
   {
    "duration": 58,
    "start_time": "2022-05-25T11:50:41.620Z"
   },
   {
    "duration": 92,
    "start_time": "2022-05-25T11:52:40.296Z"
   },
   {
    "duration": 53,
    "start_time": "2022-05-25T11:53:06.090Z"
   },
   {
    "duration": 48,
    "start_time": "2022-05-25T11:53:39.321Z"
   },
   {
    "duration": 11,
    "start_time": "2022-05-25T11:59:15.680Z"
   },
   {
    "duration": 13,
    "start_time": "2022-05-25T12:00:57.914Z"
   },
   {
    "duration": 462,
    "start_time": "2022-05-25T12:01:24.621Z"
   },
   {
    "duration": 10,
    "start_time": "2022-05-25T12:01:52.259Z"
   },
   {
    "duration": 10,
    "start_time": "2022-05-25T12:02:12.199Z"
   },
   {
    "duration": 17,
    "start_time": "2022-05-25T12:03:18.351Z"
   },
   {
    "duration": 18,
    "start_time": "2022-05-25T12:03:23.509Z"
   },
   {
    "duration": 15,
    "start_time": "2022-05-25T12:03:31.870Z"
   },
   {
    "duration": 13,
    "start_time": "2022-05-25T12:03:59.966Z"
   },
   {
    "duration": 16,
    "start_time": "2022-05-25T12:04:57.945Z"
   },
   {
    "duration": 778,
    "start_time": "2022-05-25T12:13:03.850Z"
   },
   {
    "duration": 10,
    "start_time": "2022-05-25T12:13:35.154Z"
   },
   {
    "duration": 58,
    "start_time": "2022-05-25T12:14:31.254Z"
   },
   {
    "duration": 24,
    "start_time": "2022-05-25T12:14:38.793Z"
   },
   {
    "duration": 45,
    "start_time": "2022-05-25T12:15:07.600Z"
   },
   {
    "duration": 11,
    "start_time": "2022-05-25T12:15:16.392Z"
   },
   {
    "duration": 8,
    "start_time": "2022-05-25T12:15:48.622Z"
   },
   {
    "duration": 53,
    "start_time": "2022-05-25T12:15:58.898Z"
   },
   {
    "duration": 10,
    "start_time": "2022-05-25T12:16:03.512Z"
   },
   {
    "duration": 18,
    "start_time": "2022-05-25T12:20:44.026Z"
   },
   {
    "duration": 5,
    "start_time": "2022-05-25T12:27:31.731Z"
   },
   {
    "duration": 24,
    "start_time": "2022-05-25T12:27:40.130Z"
   },
   {
    "duration": 827,
    "start_time": "2022-05-25T12:30:19.059Z"
   },
   {
    "duration": 397,
    "start_time": "2022-05-25T12:30:19.888Z"
   },
   {
    "duration": 126,
    "start_time": "2022-05-25T12:30:20.287Z"
   },
   {
    "duration": 237,
    "start_time": "2022-05-25T12:30:20.415Z"
   },
   {
    "duration": 750,
    "start_time": "2022-05-25T12:30:20.655Z"
   },
   {
    "duration": 31,
    "start_time": "2022-05-25T12:30:21.407Z"
   },
   {
    "duration": 306,
    "start_time": "2022-05-25T12:30:21.440Z"
   },
   {
    "duration": 21,
    "start_time": "2022-05-25T12:30:21.748Z"
   },
   {
    "duration": 228,
    "start_time": "2022-05-25T12:30:21.770Z"
   },
   {
    "duration": 18,
    "start_time": "2022-05-25T12:30:22.000Z"
   },
   {
    "duration": 90,
    "start_time": "2022-05-25T12:30:22.019Z"
   },
   {
    "duration": 12,
    "start_time": "2022-05-25T12:30:22.110Z"
   },
   {
    "duration": 19,
    "start_time": "2022-05-25T12:30:22.123Z"
   },
   {
    "duration": 103,
    "start_time": "2022-05-25T12:30:22.145Z"
   },
   {
    "duration": 59,
    "start_time": "2022-05-25T12:30:22.249Z"
   },
   {
    "duration": 48,
    "start_time": "2022-05-25T12:30:22.310Z"
   },
   {
    "duration": 11,
    "start_time": "2022-05-25T12:30:22.360Z"
   },
   {
    "duration": 815,
    "start_time": "2022-05-25T12:39:50.969Z"
   },
   {
    "duration": 422,
    "start_time": "2022-05-25T12:39:51.786Z"
   },
   {
    "duration": 120,
    "start_time": "2022-05-25T12:39:52.210Z"
   },
   {
    "duration": 266,
    "start_time": "2022-05-25T12:39:52.331Z"
   },
   {
    "duration": 612,
    "start_time": "2022-05-25T12:39:52.599Z"
   },
   {
    "duration": 32,
    "start_time": "2022-05-25T12:39:53.213Z"
   },
   {
    "duration": 357,
    "start_time": "2022-05-25T12:39:53.247Z"
   },
   {
    "duration": 23,
    "start_time": "2022-05-25T12:39:53.605Z"
   },
   {
    "duration": 276,
    "start_time": "2022-05-25T12:39:53.629Z"
   },
   {
    "duration": 21,
    "start_time": "2022-05-25T12:39:53.907Z"
   },
   {
    "duration": 87,
    "start_time": "2022-05-25T12:39:53.929Z"
   },
   {
    "duration": 13,
    "start_time": "2022-05-25T12:39:54.018Z"
   },
   {
    "duration": 40,
    "start_time": "2022-05-25T12:51:44.514Z"
   },
   {
    "duration": 57,
    "start_time": "2022-05-25T12:51:51.983Z"
   },
   {
    "duration": 5,
    "start_time": "2022-05-25T12:55:10.366Z"
   },
   {
    "duration": 23,
    "start_time": "2022-05-25T12:55:26.136Z"
   },
   {
    "duration": 86,
    "start_time": "2022-05-25T12:58:00.119Z"
   },
   {
    "duration": 106,
    "start_time": "2022-05-25T12:58:39.885Z"
   },
   {
    "duration": 23,
    "start_time": "2022-05-25T12:58:48.456Z"
   },
   {
    "duration": 45,
    "start_time": "2022-05-25T12:58:53.995Z"
   },
   {
    "duration": 59,
    "start_time": "2022-05-25T13:02:15.987Z"
   },
   {
    "duration": 10,
    "start_time": "2022-05-25T13:03:46.643Z"
   },
   {
    "duration": 21,
    "start_time": "2022-05-25T13:04:41.020Z"
   },
   {
    "duration": 24,
    "start_time": "2022-05-25T13:04:47.450Z"
   },
   {
    "duration": 47,
    "start_time": "2022-05-25T13:04:52.427Z"
   },
   {
    "duration": 28,
    "start_time": "2022-05-25T13:07:16.152Z"
   },
   {
    "duration": 34,
    "start_time": "2022-05-25T13:07:21.557Z"
   },
   {
    "duration": 82,
    "start_time": "2022-05-25T13:08:23.632Z"
   },
   {
    "duration": 32,
    "start_time": "2022-05-25T13:08:29.184Z"
   },
   {
    "duration": 714,
    "start_time": "2022-05-25T13:10:09.436Z"
   },
   {
    "duration": 217,
    "start_time": "2022-05-25T13:10:25.038Z"
   },
   {
    "duration": 50,
    "start_time": "2022-05-25T13:10:34.374Z"
   },
   {
    "duration": 40,
    "start_time": "2022-05-25T13:11:34.114Z"
   },
   {
    "duration": 36,
    "start_time": "2022-05-25T13:11:54.069Z"
   },
   {
    "duration": 38,
    "start_time": "2022-05-25T13:12:11.377Z"
   },
   {
    "duration": 36,
    "start_time": "2022-05-25T13:12:23.503Z"
   },
   {
    "duration": 20,
    "start_time": "2022-05-25T13:12:34.201Z"
   },
   {
    "duration": 34,
    "start_time": "2022-05-25T13:12:38.754Z"
   },
   {
    "duration": 40,
    "start_time": "2022-05-25T13:14:09.410Z"
   },
   {
    "duration": 50,
    "start_time": "2022-05-25T13:14:15.437Z"
   },
   {
    "duration": 41,
    "start_time": "2022-05-25T13:14:50.425Z"
   },
   {
    "duration": 44,
    "start_time": "2022-05-25T13:17:18.780Z"
   },
   {
    "duration": 45,
    "start_time": "2022-05-25T13:17:40.879Z"
   },
   {
    "duration": 33,
    "start_time": "2022-05-25T13:18:10.834Z"
   },
   {
    "duration": 34,
    "start_time": "2022-05-25T13:18:27.485Z"
   },
   {
    "duration": 24,
    "start_time": "2022-05-25T13:18:36.830Z"
   },
   {
    "duration": 37,
    "start_time": "2022-05-25T13:18:41.947Z"
   },
   {
    "duration": 64,
    "start_time": "2022-05-25T13:19:30.887Z"
   },
   {
    "duration": 27,
    "start_time": "2022-05-25T13:19:44.312Z"
   },
   {
    "duration": 92,
    "start_time": "2022-05-25T13:19:53.884Z"
   },
   {
    "duration": 31,
    "start_time": "2022-05-25T13:19:59.438Z"
   },
   {
    "duration": 666,
    "start_time": "2022-05-25T13:20:06.307Z"
   },
   {
    "duration": 35,
    "start_time": "2022-05-25T13:20:41.196Z"
   },
   {
    "duration": 46,
    "start_time": "2022-05-25T13:21:01.490Z"
   },
   {
    "duration": 20,
    "start_time": "2022-05-25T13:21:50.493Z"
   },
   {
    "duration": 11,
    "start_time": "2022-05-25T13:24:58.584Z"
   },
   {
    "duration": 26,
    "start_time": "2022-05-25T13:26:26.699Z"
   },
   {
    "duration": 495,
    "start_time": "2022-05-25T13:26:50.687Z"
   },
   {
    "duration": 23,
    "start_time": "2022-05-25T13:27:39.283Z"
   },
   {
    "duration": 22,
    "start_time": "2022-05-25T13:27:43.571Z"
   },
   {
    "duration": 33,
    "start_time": "2022-05-25T13:27:48.720Z"
   },
   {
    "duration": 4,
    "start_time": "2022-05-25T13:28:20.789Z"
   },
   {
    "duration": 39,
    "start_time": "2022-05-25T13:28:27.071Z"
   },
   {
    "duration": 27,
    "start_time": "2022-05-25T13:30:15.628Z"
   },
   {
    "duration": 52,
    "start_time": "2022-05-25T13:30:22.151Z"
   },
   {
    "duration": 31,
    "start_time": "2022-05-25T13:32:18.963Z"
   },
   {
    "duration": 96,
    "start_time": "2022-05-25T13:32:29.713Z"
   },
   {
    "duration": 38,
    "start_time": "2022-05-25T13:33:06.138Z"
   },
   {
    "duration": 43,
    "start_time": "2022-05-25T13:33:50.855Z"
   },
   {
    "duration": 42,
    "start_time": "2022-05-25T13:33:55.925Z"
   },
   {
    "duration": 52,
    "start_time": "2022-05-25T13:34:20.508Z"
   },
   {
    "duration": 56,
    "start_time": "2022-05-25T13:34:52.970Z"
   },
   {
    "duration": 49,
    "start_time": "2022-05-25T13:35:52.653Z"
   },
   {
    "duration": 45,
    "start_time": "2022-05-25T13:36:04.742Z"
   },
   {
    "duration": 61,
    "start_time": "2022-05-25T13:36:15.668Z"
   },
   {
    "duration": 57,
    "start_time": "2022-05-25T13:37:57.350Z"
   },
   {
    "duration": 49,
    "start_time": "2022-05-25T13:38:03.283Z"
   },
   {
    "duration": 65,
    "start_time": "2022-05-25T13:38:21.783Z"
   },
   {
    "duration": 50,
    "start_time": "2022-05-25T13:38:37.127Z"
   },
   {
    "duration": 56,
    "start_time": "2022-05-25T13:39:24.094Z"
   },
   {
    "duration": 55,
    "start_time": "2022-05-25T13:39:43.790Z"
   },
   {
    "duration": 40,
    "start_time": "2022-05-25T13:41:35.482Z"
   },
   {
    "duration": 50,
    "start_time": "2022-05-25T13:41:43.100Z"
   },
   {
    "duration": 52,
    "start_time": "2022-05-25T13:41:55.112Z"
   },
   {
    "duration": 53,
    "start_time": "2022-05-25T13:42:00.152Z"
   },
   {
    "duration": 54,
    "start_time": "2022-05-25T13:42:04.146Z"
   },
   {
    "duration": 55,
    "start_time": "2022-05-25T13:42:57.761Z"
   },
   {
    "duration": 61,
    "start_time": "2022-05-25T13:43:14.600Z"
   },
   {
    "duration": 51,
    "start_time": "2022-05-25T13:43:22.551Z"
   },
   {
    "duration": 50,
    "start_time": "2022-05-25T13:43:59.923Z"
   },
   {
    "duration": 50,
    "start_time": "2022-05-25T14:33:28.711Z"
   },
   {
    "duration": 55,
    "start_time": "2022-05-25T14:34:05.202Z"
   },
   {
    "duration": 50,
    "start_time": "2022-05-25T14:34:17.841Z"
   },
   {
    "duration": 52,
    "start_time": "2022-05-25T14:34:39.804Z"
   },
   {
    "duration": 55,
    "start_time": "2022-05-25T14:34:54.408Z"
   },
   {
    "duration": 30,
    "start_time": "2022-05-25T14:36:12.641Z"
   },
   {
    "duration": 35,
    "start_time": "2022-05-25T14:36:24.525Z"
   },
   {
    "duration": 14,
    "start_time": "2022-05-25T14:37:12.824Z"
   },
   {
    "duration": 8,
    "start_time": "2022-05-25T14:37:29.532Z"
   },
   {
    "duration": 20,
    "start_time": "2022-05-25T14:37:39.324Z"
   },
   {
    "duration": 27,
    "start_time": "2022-05-25T14:42:01.377Z"
   },
   {
    "duration": 22,
    "start_time": "2022-05-25T14:42:10.364Z"
   },
   {
    "duration": 26,
    "start_time": "2022-05-25T14:42:35.026Z"
   },
   {
    "duration": 74,
    "start_time": "2022-05-25T14:43:14.542Z"
   },
   {
    "duration": 51,
    "start_time": "2022-05-25T14:44:06.627Z"
   },
   {
    "duration": 36,
    "start_time": "2022-05-25T14:45:28.351Z"
   },
   {
    "duration": 19,
    "start_time": "2022-05-25T14:45:32.450Z"
   },
   {
    "duration": 59,
    "start_time": "2022-05-25T14:46:14.172Z"
   },
   {
    "duration": 11,
    "start_time": "2022-05-25T14:47:57.158Z"
   },
   {
    "duration": 12,
    "start_time": "2022-05-25T14:48:04.415Z"
   },
   {
    "duration": 37,
    "start_time": "2022-05-25T14:48:29.024Z"
   },
   {
    "duration": 36,
    "start_time": "2022-05-25T14:48:47.877Z"
   },
   {
    "duration": 53,
    "start_time": "2022-05-25T14:51:01.358Z"
   },
   {
    "duration": 48,
    "start_time": "2022-05-25T14:51:14.538Z"
   },
   {
    "duration": 52,
    "start_time": "2022-05-25T14:51:24.068Z"
   },
   {
    "duration": 1269,
    "start_time": "2022-05-25T14:52:52.938Z"
   },
   {
    "duration": 64,
    "start_time": "2022-05-25T14:53:15.220Z"
   },
   {
    "duration": 47,
    "start_time": "2022-05-25T14:53:18.943Z"
   },
   {
    "duration": 65,
    "start_time": "2022-05-25T14:53:34.333Z"
   },
   {
    "duration": 35,
    "start_time": "2022-05-25T14:53:40.137Z"
   },
   {
    "duration": 45,
    "start_time": "2022-05-25T14:53:42.132Z"
   },
   {
    "duration": 887,
    "start_time": "2022-05-25T14:55:15.281Z"
   },
   {
    "duration": 965,
    "start_time": "2022-05-25T14:55:16.170Z"
   },
   {
    "duration": 115,
    "start_time": "2022-05-25T14:55:17.136Z"
   },
   {
    "duration": 281,
    "start_time": "2022-05-25T14:55:17.253Z"
   },
   {
    "duration": 573,
    "start_time": "2022-05-25T14:55:17.536Z"
   },
   {
    "duration": 62,
    "start_time": "2022-05-25T14:55:18.112Z"
   },
   {
    "duration": 354,
    "start_time": "2022-05-25T14:55:18.175Z"
   },
   {
    "duration": 21,
    "start_time": "2022-05-25T14:55:18.530Z"
   },
   {
    "duration": 232,
    "start_time": "2022-05-25T14:55:18.553Z"
   },
   {
    "duration": 30,
    "start_time": "2022-05-25T14:55:18.787Z"
   },
   {
    "duration": 95,
    "start_time": "2022-05-25T14:55:18.820Z"
   },
   {
    "duration": 13,
    "start_time": "2022-05-25T14:55:18.917Z"
   },
   {
    "duration": 83,
    "start_time": "2022-05-25T14:55:18.931Z"
   },
   {
    "duration": 145,
    "start_time": "2022-05-25T14:55:19.017Z"
   },
   {
    "duration": 0,
    "start_time": "2022-05-25T14:55:19.164Z"
   },
   {
    "duration": 0,
    "start_time": "2022-05-25T14:55:19.166Z"
   },
   {
    "duration": 36,
    "start_time": "2022-05-25T14:55:36.248Z"
   },
   {
    "duration": 35,
    "start_time": "2022-05-25T14:55:41.632Z"
   },
   {
    "duration": 116,
    "start_time": "2022-05-25T14:55:43.811Z"
   },
   {
    "duration": 8,
    "start_time": "2022-05-25T14:57:26.720Z"
   },
   {
    "duration": 14,
    "start_time": "2022-05-25T14:57:35.477Z"
   },
   {
    "duration": 17,
    "start_time": "2022-05-25T14:57:46.924Z"
   },
   {
    "duration": 36,
    "start_time": "2022-05-25T14:58:36.289Z"
   },
   {
    "duration": 35,
    "start_time": "2022-05-25T14:59:27.776Z"
   },
   {
    "duration": 43,
    "start_time": "2022-05-25T15:00:58.448Z"
   },
   {
    "duration": 48,
    "start_time": "2022-05-25T15:01:40.033Z"
   },
   {
    "duration": 56,
    "start_time": "2022-05-25T15:01:46.195Z"
   },
   {
    "duration": 43,
    "start_time": "2022-05-25T15:02:03.039Z"
   },
   {
    "duration": 33,
    "start_time": "2022-05-25T15:02:11.149Z"
   },
   {
    "duration": 56,
    "start_time": "2022-05-26T05:57:25.019Z"
   },
   {
    "duration": 757,
    "start_time": "2022-05-26T05:57:34.990Z"
   },
   {
    "duration": 913,
    "start_time": "2022-05-26T05:57:35.749Z"
   },
   {
    "duration": 122,
    "start_time": "2022-05-26T05:57:36.663Z"
   },
   {
    "duration": 231,
    "start_time": "2022-05-26T05:57:36.786Z"
   },
   {
    "duration": 571,
    "start_time": "2022-05-26T05:57:37.019Z"
   },
   {
    "duration": 68,
    "start_time": "2022-05-26T05:57:37.591Z"
   },
   {
    "duration": 277,
    "start_time": "2022-05-26T05:57:37.661Z"
   },
   {
    "duration": 37,
    "start_time": "2022-05-26T05:57:37.939Z"
   },
   {
    "duration": 211,
    "start_time": "2022-05-26T05:57:37.978Z"
   },
   {
    "duration": 18,
    "start_time": "2022-05-26T05:57:38.190Z"
   },
   {
    "duration": 72,
    "start_time": "2022-05-26T05:57:38.209Z"
   },
   {
    "duration": 11,
    "start_time": "2022-05-26T05:57:38.283Z"
   },
   {
    "duration": 102,
    "start_time": "2022-05-26T05:57:38.295Z"
   },
   {
    "duration": 40,
    "start_time": "2022-05-26T05:57:38.399Z"
   },
   {
    "duration": 49,
    "start_time": "2022-05-26T05:57:38.441Z"
   },
   {
    "duration": 175,
    "start_time": "2022-05-26T05:57:38.491Z"
   },
   {
    "duration": 0,
    "start_time": "2022-05-26T05:57:38.668Z"
   },
   {
    "duration": 47,
    "start_time": "2022-05-26T05:57:45.826Z"
   },
   {
    "duration": 30,
    "start_time": "2022-05-26T05:57:49.955Z"
   },
   {
    "duration": 5,
    "start_time": "2022-05-26T06:02:22.942Z"
   },
   {
    "duration": 4,
    "start_time": "2022-05-26T06:02:50.041Z"
   },
   {
    "duration": 13,
    "start_time": "2022-05-26T06:02:56.161Z"
   },
   {
    "duration": 755,
    "start_time": "2022-05-26T06:04:17.517Z"
   },
   {
    "duration": 468,
    "start_time": "2022-05-26T06:04:32.913Z"
   },
   {
    "duration": 13,
    "start_time": "2022-05-26T06:04:41.660Z"
   },
   {
    "duration": 14,
    "start_time": "2022-05-26T06:04:51.637Z"
   },
   {
    "duration": 12,
    "start_time": "2022-05-26T06:05:03.155Z"
   },
   {
    "duration": 4,
    "start_time": "2022-05-26T06:05:07.114Z"
   },
   {
    "duration": 76,
    "start_time": "2022-05-26T06:05:57.630Z"
   },
   {
    "duration": 87,
    "start_time": "2022-05-26T06:06:03.091Z"
   },
   {
    "duration": 70,
    "start_time": "2022-05-26T06:06:57.344Z"
   },
   {
    "duration": 41,
    "start_time": "2022-05-26T06:07:07.572Z"
   },
   {
    "duration": 42,
    "start_time": "2022-05-26T06:07:12.746Z"
   },
   {
    "duration": 35,
    "start_time": "2022-05-26T06:07:17.931Z"
   },
   {
    "duration": 35,
    "start_time": "2022-05-26T06:09:05.791Z"
   },
   {
    "duration": 30,
    "start_time": "2022-05-26T06:09:29.353Z"
   },
   {
    "duration": 31,
    "start_time": "2022-05-26T06:09:32.588Z"
   },
   {
    "duration": 40,
    "start_time": "2022-05-26T06:09:35.855Z"
   },
   {
    "duration": 31,
    "start_time": "2022-05-26T06:09:39.911Z"
   },
   {
    "duration": 4,
    "start_time": "2022-05-26T06:12:55.093Z"
   },
   {
    "duration": 18,
    "start_time": "2022-05-26T06:13:04.485Z"
   },
   {
    "duration": 17,
    "start_time": "2022-05-26T06:14:26.238Z"
   },
   {
    "duration": 14,
    "start_time": "2022-05-26T06:17:29.582Z"
   },
   {
    "duration": 127,
    "start_time": "2022-05-26T06:17:57.107Z"
   },
   {
    "duration": 98,
    "start_time": "2022-05-26T06:18:09.412Z"
   },
   {
    "duration": 739,
    "start_time": "2022-05-26T06:19:04.207Z"
   },
   {
    "duration": 404,
    "start_time": "2022-05-26T06:19:04.948Z"
   },
   {
    "duration": 132,
    "start_time": "2022-05-26T06:19:05.353Z"
   },
   {
    "duration": 240,
    "start_time": "2022-05-26T06:19:05.486Z"
   },
   {
    "duration": 593,
    "start_time": "2022-05-26T06:19:05.728Z"
   },
   {
    "duration": 82,
    "start_time": "2022-05-26T06:19:06.323Z"
   },
   {
    "duration": 388,
    "start_time": "2022-05-26T06:19:06.407Z"
   },
   {
    "duration": 24,
    "start_time": "2022-05-26T06:19:06.797Z"
   },
   {
    "duration": 290,
    "start_time": "2022-05-26T06:19:06.822Z"
   },
   {
    "duration": 48,
    "start_time": "2022-05-26T06:19:07.114Z"
   },
   {
    "duration": 118,
    "start_time": "2022-05-26T06:19:07.164Z"
   },
   {
    "duration": 14,
    "start_time": "2022-05-26T06:19:07.284Z"
   },
   {
    "duration": 106,
    "start_time": "2022-05-26T06:19:07.301Z"
   },
   {
    "duration": 56,
    "start_time": "2022-05-26T06:19:07.409Z"
   },
   {
    "duration": 42,
    "start_time": "2022-05-26T06:19:07.467Z"
   },
   {
    "duration": 127,
    "start_time": "2022-05-26T06:19:07.510Z"
   },
   {
    "duration": 43,
    "start_time": "2022-05-26T06:19:07.639Z"
   },
   {
    "duration": 102,
    "start_time": "2022-05-26T06:19:07.684Z"
   },
   {
    "duration": 766,
    "start_time": "2022-05-26T06:19:54.483Z"
   },
   {
    "duration": 405,
    "start_time": "2022-05-26T06:19:55.251Z"
   },
   {
    "duration": 132,
    "start_time": "2022-05-26T06:19:55.658Z"
   },
   {
    "duration": 252,
    "start_time": "2022-05-26T06:19:55.792Z"
   },
   {
    "duration": 558,
    "start_time": "2022-05-26T06:19:56.046Z"
   },
   {
    "duration": 79,
    "start_time": "2022-05-26T06:19:56.605Z"
   },
   {
    "duration": 333,
    "start_time": "2022-05-26T06:19:56.686Z"
   },
   {
    "duration": 51,
    "start_time": "2022-05-26T06:19:57.021Z"
   },
   {
    "duration": 296,
    "start_time": "2022-05-26T06:19:57.074Z"
   },
   {
    "duration": 18,
    "start_time": "2022-05-26T06:19:57.372Z"
   },
   {
    "duration": 87,
    "start_time": "2022-05-26T06:19:57.392Z"
   },
   {
    "duration": 10,
    "start_time": "2022-05-26T06:19:57.480Z"
   },
   {
    "duration": 87,
    "start_time": "2022-05-26T06:19:57.492Z"
   },
   {
    "duration": 41,
    "start_time": "2022-05-26T06:19:57.580Z"
   },
   {
    "duration": 62,
    "start_time": "2022-05-26T06:19:57.623Z"
   },
   {
    "duration": 114,
    "start_time": "2022-05-26T06:19:57.687Z"
   },
   {
    "duration": 31,
    "start_time": "2022-05-26T06:19:57.803Z"
   },
   {
    "duration": 761,
    "start_time": "2022-05-26T06:20:54.398Z"
   },
   {
    "duration": 416,
    "start_time": "2022-05-26T06:20:55.161Z"
   },
   {
    "duration": 116,
    "start_time": "2022-05-26T06:20:55.579Z"
   },
   {
    "duration": 258,
    "start_time": "2022-05-26T06:20:55.697Z"
   },
   {
    "duration": 559,
    "start_time": "2022-05-26T06:20:55.960Z"
   },
   {
    "duration": 87,
    "start_time": "2022-05-26T06:20:56.521Z"
   },
   {
    "duration": 350,
    "start_time": "2022-05-26T06:20:56.610Z"
   },
   {
    "duration": 23,
    "start_time": "2022-05-26T06:20:56.961Z"
   },
   {
    "duration": 299,
    "start_time": "2022-05-26T06:20:56.986Z"
   },
   {
    "duration": 27,
    "start_time": "2022-05-26T06:20:57.287Z"
   },
   {
    "duration": 88,
    "start_time": "2022-05-26T06:20:57.316Z"
   },
   {
    "duration": 11,
    "start_time": "2022-05-26T06:20:57.405Z"
   },
   {
    "duration": 107,
    "start_time": "2022-05-26T06:20:57.417Z"
   },
   {
    "duration": 55,
    "start_time": "2022-05-26T06:20:57.526Z"
   },
   {
    "duration": 41,
    "start_time": "2022-05-26T06:20:57.582Z"
   },
   {
    "duration": 119,
    "start_time": "2022-05-26T06:20:57.625Z"
   },
   {
    "duration": 37,
    "start_time": "2022-05-26T06:20:57.745Z"
   },
   {
    "duration": 9,
    "start_time": "2022-05-26T06:20:57.783Z"
   },
   {
    "duration": 12,
    "start_time": "2022-05-26T06:23:02.680Z"
   },
   {
    "duration": 9,
    "start_time": "2022-05-26T06:23:37.763Z"
   },
   {
    "duration": 11,
    "start_time": "2022-05-26T06:23:56.335Z"
   },
   {
    "duration": 789,
    "start_time": "2022-05-26T06:24:08.857Z"
   },
   {
    "duration": 379,
    "start_time": "2022-05-26T06:24:09.648Z"
   },
   {
    "duration": 139,
    "start_time": "2022-05-26T06:24:10.029Z"
   },
   {
    "duration": 232,
    "start_time": "2022-05-26T06:24:10.170Z"
   },
   {
    "duration": 567,
    "start_time": "2022-05-26T06:24:10.405Z"
   },
   {
    "duration": 58,
    "start_time": "2022-05-26T06:24:10.974Z"
   },
   {
    "duration": 341,
    "start_time": "2022-05-26T06:24:11.035Z"
   },
   {
    "duration": 23,
    "start_time": "2022-05-26T06:24:11.377Z"
   },
   {
    "duration": 276,
    "start_time": "2022-05-26T06:24:11.402Z"
   },
   {
    "duration": 17,
    "start_time": "2022-05-26T06:24:11.680Z"
   },
   {
    "duration": 81,
    "start_time": "2022-05-26T06:24:11.698Z"
   },
   {
    "duration": 10,
    "start_time": "2022-05-26T06:24:11.780Z"
   },
   {
    "duration": 92,
    "start_time": "2022-05-26T06:24:11.792Z"
   },
   {
    "duration": 37,
    "start_time": "2022-05-26T06:24:11.887Z"
   },
   {
    "duration": 60,
    "start_time": "2022-05-26T06:24:11.925Z"
   },
   {
    "duration": 181,
    "start_time": "2022-05-26T06:24:11.987Z"
   },
   {
    "duration": 30,
    "start_time": "2022-05-26T06:24:12.170Z"
   },
   {
    "duration": 10,
    "start_time": "2022-05-26T06:24:12.202Z"
   },
   {
    "duration": 29,
    "start_time": "2022-05-26T06:25:53.149Z"
   },
   {
    "duration": 28,
    "start_time": "2022-05-26T06:26:18.799Z"
   },
   {
    "duration": 7,
    "start_time": "2022-05-26T06:31:12.580Z"
   },
   {
    "duration": 30,
    "start_time": "2022-05-26T06:31:21.529Z"
   },
   {
    "duration": 28,
    "start_time": "2022-05-26T06:31:28.220Z"
   },
   {
    "duration": 8,
    "start_time": "2022-05-26T07:25:00.274Z"
   },
   {
    "duration": 38,
    "start_time": "2022-05-26T07:25:26.680Z"
   },
   {
    "duration": 40,
    "start_time": "2022-05-26T07:25:49.807Z"
   },
   {
    "duration": 8,
    "start_time": "2022-05-26T07:30:18.893Z"
   },
   {
    "duration": 33,
    "start_time": "2022-05-26T07:30:39.333Z"
   },
   {
    "duration": 47,
    "start_time": "2022-05-26T07:30:47.377Z"
   },
   {
    "duration": 32,
    "start_time": "2022-05-26T07:30:53.188Z"
   },
   {
    "duration": 7,
    "start_time": "2022-05-26T07:31:11.429Z"
   },
   {
    "duration": 92,
    "start_time": "2022-05-26T07:33:22.537Z"
   },
   {
    "duration": 5,
    "start_time": "2022-05-26T07:33:39.227Z"
   },
   {
    "duration": 24,
    "start_time": "2022-05-26T07:33:54.985Z"
   },
   {
    "duration": 26,
    "start_time": "2022-05-26T07:34:07.700Z"
   },
   {
    "duration": 855,
    "start_time": "2022-05-26T11:09:24.773Z"
   },
   {
    "duration": 1691,
    "start_time": "2022-05-26T11:09:25.630Z"
   },
   {
    "duration": 200,
    "start_time": "2022-05-26T11:09:27.324Z"
   },
   {
    "duration": 281,
    "start_time": "2022-05-26T11:09:27.528Z"
   },
   {
    "duration": 600,
    "start_time": "2022-05-26T11:09:27.811Z"
   },
   {
    "duration": 101,
    "start_time": "2022-05-26T11:09:28.412Z"
   },
   {
    "duration": 343,
    "start_time": "2022-05-26T11:09:28.516Z"
   },
   {
    "duration": 39,
    "start_time": "2022-05-26T11:09:28.860Z"
   },
   {
    "duration": 263,
    "start_time": "2022-05-26T11:09:28.909Z"
   },
   {
    "duration": 44,
    "start_time": "2022-05-26T11:09:29.176Z"
   },
   {
    "duration": 77,
    "start_time": "2022-05-26T11:09:29.223Z"
   },
   {
    "duration": 22,
    "start_time": "2022-05-26T11:09:29.301Z"
   },
   {
    "duration": 78,
    "start_time": "2022-05-26T11:09:29.325Z"
   },
   {
    "duration": 53,
    "start_time": "2022-05-26T11:09:29.405Z"
   },
   {
    "duration": 50,
    "start_time": "2022-05-26T11:09:29.460Z"
   },
   {
    "duration": 114,
    "start_time": "2022-05-26T11:09:29.514Z"
   },
   {
    "duration": 31,
    "start_time": "2022-05-26T11:09:29.630Z"
   },
   {
    "duration": 8,
    "start_time": "2022-05-26T11:09:29.662Z"
   },
   {
    "duration": 8,
    "start_time": "2022-05-26T11:09:29.671Z"
   },
   {
    "duration": 25,
    "start_time": "2022-05-26T11:09:29.681Z"
   },
   {
    "duration": 44,
    "start_time": "2022-05-26T11:09:29.707Z"
   },
   {
    "duration": 790,
    "start_time": "2022-05-26T15:46:04.071Z"
   },
   {
    "duration": 1601,
    "start_time": "2022-05-26T15:46:04.863Z"
   },
   {
    "duration": 123,
    "start_time": "2022-05-26T15:46:06.466Z"
   },
   {
    "duration": 240,
    "start_time": "2022-05-26T15:46:06.590Z"
   },
   {
    "duration": 546,
    "start_time": "2022-05-26T15:46:06.831Z"
   },
   {
    "duration": 56,
    "start_time": "2022-05-26T15:46:07.378Z"
   },
   {
    "duration": 340,
    "start_time": "2022-05-26T15:46:07.435Z"
   },
   {
    "duration": 29,
    "start_time": "2022-05-26T15:46:07.780Z"
   },
   {
    "duration": 354,
    "start_time": "2022-05-26T15:46:07.810Z"
   },
   {
    "duration": 19,
    "start_time": "2022-05-26T15:46:08.166Z"
   },
   {
    "duration": 82,
    "start_time": "2022-05-26T15:46:08.187Z"
   },
   {
    "duration": 11,
    "start_time": "2022-05-26T15:46:08.271Z"
   },
   {
    "duration": 95,
    "start_time": "2022-05-26T15:46:08.284Z"
   },
   {
    "duration": 42,
    "start_time": "2022-05-26T15:46:08.380Z"
   },
   {
    "duration": 61,
    "start_time": "2022-05-26T15:46:08.424Z"
   },
   {
    "duration": 107,
    "start_time": "2022-05-26T15:46:08.486Z"
   },
   {
    "duration": 30,
    "start_time": "2022-05-26T15:46:08.595Z"
   },
   {
    "duration": 18,
    "start_time": "2022-05-26T15:46:08.627Z"
   },
   {
    "duration": 9,
    "start_time": "2022-05-26T15:46:08.659Z"
   },
   {
    "duration": 23,
    "start_time": "2022-05-26T15:46:08.670Z"
   },
   {
    "duration": 41,
    "start_time": "2022-05-26T15:46:08.695Z"
   },
   {
    "duration": 118,
    "start_time": "2022-05-26T15:48:14.912Z"
   },
   {
    "duration": 6,
    "start_time": "2022-05-26T15:48:27.575Z"
   },
   {
    "duration": 16,
    "start_time": "2022-05-26T15:48:36.138Z"
   },
   {
    "duration": 23,
    "start_time": "2022-05-26T15:49:22.963Z"
   },
   {
    "duration": 634,
    "start_time": "2022-05-27T06:34:49.716Z"
   },
   {
    "duration": 926,
    "start_time": "2022-05-27T06:34:57.812Z"
   },
   {
    "duration": 134,
    "start_time": "2022-05-27T06:38:06.893Z"
   },
   {
    "duration": 4309,
    "start_time": "2022-05-27T06:39:06.219Z"
   },
   {
    "duration": 324,
    "start_time": "2022-05-27T06:39:23.884Z"
   },
   {
    "duration": 10,
    "start_time": "2022-05-27T06:42:52.983Z"
   },
   {
    "duration": 4,
    "start_time": "2022-05-27T06:43:10.235Z"
   },
   {
    "duration": 3,
    "start_time": "2022-05-27T06:44:23.087Z"
   },
   {
    "duration": 4,
    "start_time": "2022-05-27T06:45:00.708Z"
   },
   {
    "duration": 3,
    "start_time": "2022-05-27T06:45:19.826Z"
   },
   {
    "duration": 5,
    "start_time": "2022-05-27T06:46:28.783Z"
   },
   {
    "duration": 20,
    "start_time": "2022-05-27T06:47:35.292Z"
   },
   {
    "duration": 4,
    "start_time": "2022-05-27T06:47:48.105Z"
   },
   {
    "duration": 6,
    "start_time": "2022-05-27T06:48:28.975Z"
   },
   {
    "duration": 123,
    "start_time": "2022-05-27T06:52:58.775Z"
   },
   {
    "duration": 121,
    "start_time": "2022-05-27T06:53:21.110Z"
   },
   {
    "duration": 153,
    "start_time": "2022-05-27T06:53:53.231Z"
   },
   {
    "duration": 133,
    "start_time": "2022-05-27T06:54:52.786Z"
   },
   {
    "duration": 126,
    "start_time": "2022-05-27T06:55:17.412Z"
   },
   {
    "duration": 137,
    "start_time": "2022-05-27T06:55:42.153Z"
   },
   {
    "duration": 5,
    "start_time": "2022-05-27T06:57:32.657Z"
   },
   {
    "duration": 510,
    "start_time": "2022-05-27T07:01:34.481Z"
   },
   {
    "duration": 4,
    "start_time": "2022-05-27T07:02:19.928Z"
   },
   {
    "duration": 5,
    "start_time": "2022-05-27T07:02:28.714Z"
   },
   {
    "duration": 121,
    "start_time": "2022-05-27T07:05:02.407Z"
   },
   {
    "duration": 3,
    "start_time": "2022-05-27T07:07:08.416Z"
   },
   {
    "duration": 4,
    "start_time": "2022-05-27T07:08:31.564Z"
   },
   {
    "duration": 4,
    "start_time": "2022-05-27T07:13:14.685Z"
   },
   {
    "duration": 103,
    "start_time": "2022-05-27T07:23:09.329Z"
   },
   {
    "duration": 131,
    "start_time": "2022-05-27T07:23:16.876Z"
   },
   {
    "duration": 140,
    "start_time": "2022-05-27T07:23:43.143Z"
   },
   {
    "duration": 192,
    "start_time": "2022-05-27T07:24:13.244Z"
   },
   {
    "duration": 124,
    "start_time": "2022-05-27T07:24:25.893Z"
   },
   {
    "duration": 5,
    "start_time": "2022-05-27T07:25:09.179Z"
   },
   {
    "duration": 13,
    "start_time": "2022-05-27T07:27:16.843Z"
   },
   {
    "duration": 6,
    "start_time": "2022-05-27T07:27:21.912Z"
   },
   {
    "duration": 4,
    "start_time": "2022-05-27T07:27:34.813Z"
   },
   {
    "duration": 4,
    "start_time": "2022-05-27T07:27:50.115Z"
   },
   {
    "duration": 113,
    "start_time": "2022-05-27T07:28:44.626Z"
   },
   {
    "duration": 3,
    "start_time": "2022-05-27T07:29:01.558Z"
   },
   {
    "duration": 5,
    "start_time": "2022-05-27T07:29:27.658Z"
   },
   {
    "duration": 116,
    "start_time": "2022-05-27T07:29:38.554Z"
   },
   {
    "duration": 4,
    "start_time": "2022-05-27T07:29:53.017Z"
   },
   {
    "duration": 5,
    "start_time": "2022-05-27T07:30:11.258Z"
   },
   {
    "duration": 134,
    "start_time": "2022-05-27T07:35:21.300Z"
   },
   {
    "duration": 115,
    "start_time": "2022-05-27T08:41:12.140Z"
   },
   {
    "duration": 110,
    "start_time": "2022-05-27T08:43:55.149Z"
   },
   {
    "duration": 116,
    "start_time": "2022-05-27T08:44:22.988Z"
   },
   {
    "duration": 119,
    "start_time": "2022-05-27T08:44:56.644Z"
   },
   {
    "duration": 115,
    "start_time": "2022-05-27T08:45:06.005Z"
   },
   {
    "duration": 121,
    "start_time": "2022-05-27T08:49:50.460Z"
   },
   {
    "duration": 116,
    "start_time": "2022-05-27T09:38:34.732Z"
   },
   {
    "duration": 119,
    "start_time": "2022-05-27T09:39:14.107Z"
   },
   {
    "duration": 110,
    "start_time": "2022-05-27T09:39:34.667Z"
   },
   {
    "duration": 3,
    "start_time": "2022-05-27T09:41:27.701Z"
   },
   {
    "duration": 4,
    "start_time": "2022-05-27T09:42:03.123Z"
   },
   {
    "duration": 4,
    "start_time": "2022-05-27T09:42:21.023Z"
   },
   {
    "duration": 5,
    "start_time": "2022-05-27T09:42:36.368Z"
   },
   {
    "duration": 5,
    "start_time": "2022-05-27T09:45:05.110Z"
   },
   {
    "duration": 5,
    "start_time": "2022-05-27T09:45:45.896Z"
   },
   {
    "duration": 7,
    "start_time": "2022-05-27T09:45:48.837Z"
   },
   {
    "duration": 6,
    "start_time": "2022-05-27T09:52:24.645Z"
   },
   {
    "duration": 8,
    "start_time": "2022-05-27T09:52:52.687Z"
   },
   {
    "duration": 10,
    "start_time": "2022-05-27T09:53:37.142Z"
   },
   {
    "duration": 6,
    "start_time": "2022-05-27T09:54:32.176Z"
   },
   {
    "duration": 834,
    "start_time": "2022-05-27T14:06:05.118Z"
   },
   {
    "duration": 931,
    "start_time": "2022-05-27T14:06:05.954Z"
   },
   {
    "duration": 140,
    "start_time": "2022-05-27T14:06:06.887Z"
   },
   {
    "duration": 267,
    "start_time": "2022-05-27T14:06:07.029Z"
   },
   {
    "duration": 613,
    "start_time": "2022-05-27T14:06:07.298Z"
   },
   {
    "duration": 66,
    "start_time": "2022-05-27T14:06:07.913Z"
   },
   {
    "duration": 377,
    "start_time": "2022-05-27T14:06:07.995Z"
   },
   {
    "duration": 47,
    "start_time": "2022-05-27T14:06:08.373Z"
   },
   {
    "duration": 329,
    "start_time": "2022-05-27T14:06:08.422Z"
   },
   {
    "duration": 21,
    "start_time": "2022-05-27T14:06:08.753Z"
   },
   {
    "duration": 58,
    "start_time": "2022-05-27T14:06:08.796Z"
   },
   {
    "duration": 53,
    "start_time": "2022-05-27T14:06:08.856Z"
   },
   {
    "duration": 104,
    "start_time": "2022-05-27T14:06:08.912Z"
   },
   {
    "duration": 51,
    "start_time": "2022-05-27T14:06:09.020Z"
   },
   {
    "duration": 66,
    "start_time": "2022-05-27T14:06:09.074Z"
   },
   {
    "duration": 123,
    "start_time": "2022-05-27T14:06:09.143Z"
   },
   {
    "duration": 41,
    "start_time": "2022-05-27T14:06:09.268Z"
   },
   {
    "duration": 8,
    "start_time": "2022-05-27T14:06:09.311Z"
   },
   {
    "duration": 10,
    "start_time": "2022-05-27T14:06:09.320Z"
   },
   {
    "duration": 13,
    "start_time": "2022-05-27T14:06:09.332Z"
   },
   {
    "duration": 24,
    "start_time": "2022-05-27T14:06:09.347Z"
   },
   {
    "duration": 50,
    "start_time": "2022-05-27T14:06:09.373Z"
   },
   {
    "duration": 708,
    "start_time": "2022-05-27T14:06:09.425Z"
   },
   {
    "duration": 4,
    "start_time": "2022-05-27T14:06:10.135Z"
   },
   {
    "duration": 8,
    "start_time": "2022-05-27T14:06:10.141Z"
   },
   {
    "duration": 145,
    "start_time": "2022-05-27T14:06:10.150Z"
   },
   {
    "duration": 4,
    "start_time": "2022-05-27T14:06:10.297Z"
   },
   {
    "duration": 8,
    "start_time": "2022-05-27T14:06:10.302Z"
   },
   {
    "duration": 167,
    "start_time": "2022-05-27T14:06:10.311Z"
   },
   {
    "duration": 4,
    "start_time": "2022-05-27T14:06:10.480Z"
   },
   {
    "duration": 5,
    "start_time": "2022-05-27T14:06:10.493Z"
   },
   {
    "duration": 148,
    "start_time": "2022-05-27T14:06:10.500Z"
   },
   {
    "duration": 164,
    "start_time": "2022-05-27T14:06:10.650Z"
   },
   {
    "duration": 4,
    "start_time": "2022-05-27T14:06:10.817Z"
   },
   {
    "duration": 7,
    "start_time": "2022-05-27T14:06:10.822Z"
   },
   {
    "duration": 154,
    "start_time": "2022-05-27T14:06:10.831Z"
   },
   {
    "duration": 8,
    "start_time": "2022-05-27T14:06:10.987Z"
   },
   {
    "duration": 11,
    "start_time": "2022-05-27T14:06:10.997Z"
   },
   {
    "duration": 174,
    "start_time": "2022-05-27T14:06:11.009Z"
   },
   {
    "duration": 11,
    "start_time": "2022-05-27T14:06:11.184Z"
   },
   {
    "duration": 8,
    "start_time": "2022-05-27T14:06:11.199Z"
   },
   {
    "duration": 162,
    "start_time": "2022-05-27T14:06:11.209Z"
   },
   {
    "duration": 6,
    "start_time": "2022-05-27T14:06:11.373Z"
   },
   {
    "duration": 14,
    "start_time": "2022-05-27T14:06:11.394Z"
   },
   {
    "duration": 10,
    "start_time": "2022-05-27T14:06:11.410Z"
   },
   {
    "duration": 894,
    "start_time": "2022-05-27T14:21:06.587Z"
   },
   {
    "duration": 476,
    "start_time": "2022-05-27T14:21:07.483Z"
   },
   {
    "duration": 149,
    "start_time": "2022-05-27T14:21:07.960Z"
   },
   {
    "duration": 295,
    "start_time": "2022-05-27T14:21:08.111Z"
   },
   {
    "duration": 687,
    "start_time": "2022-05-27T14:21:08.409Z"
   },
   {
    "duration": 77,
    "start_time": "2022-05-27T14:21:09.098Z"
   },
   {
    "duration": 374,
    "start_time": "2022-05-27T14:21:09.177Z"
   },
   {
    "duration": 46,
    "start_time": "2022-05-27T14:21:09.553Z"
   },
   {
    "duration": 249,
    "start_time": "2022-05-27T14:21:09.601Z"
   },
   {
    "duration": 19,
    "start_time": "2022-05-27T14:21:09.852Z"
   },
   {
    "duration": 73,
    "start_time": "2022-05-27T14:21:09.873Z"
   },
   {
    "duration": 47,
    "start_time": "2022-05-27T14:21:09.948Z"
   },
   {
    "duration": 100,
    "start_time": "2022-05-27T14:21:09.997Z"
   },
   {
    "duration": 50,
    "start_time": "2022-05-27T14:21:10.101Z"
   },
   {
    "duration": 63,
    "start_time": "2022-05-27T14:21:10.153Z"
   },
   {
    "duration": 118,
    "start_time": "2022-05-27T14:21:10.217Z"
   },
   {
    "duration": 34,
    "start_time": "2022-05-27T14:21:10.337Z"
   },
   {
    "duration": 26,
    "start_time": "2022-05-27T14:21:10.373Z"
   },
   {
    "duration": 12,
    "start_time": "2022-05-27T14:21:10.401Z"
   },
   {
    "duration": 9,
    "start_time": "2022-05-27T14:21:10.415Z"
   },
   {
    "duration": 25,
    "start_time": "2022-05-27T14:21:10.426Z"
   },
   {
    "duration": 52,
    "start_time": "2022-05-27T14:21:10.453Z"
   },
   {
    "duration": 452,
    "start_time": "2022-05-27T14:21:10.506Z"
   },
   {
    "duration": 4,
    "start_time": "2022-05-27T14:21:10.959Z"
   },
   {
    "duration": 6,
    "start_time": "2022-05-27T14:21:10.965Z"
   },
   {
    "duration": 170,
    "start_time": "2022-05-27T14:21:10.973Z"
   },
   {
    "duration": 5,
    "start_time": "2022-05-27T14:21:11.145Z"
   },
   {
    "duration": 7,
    "start_time": "2022-05-27T14:21:11.152Z"
   },
   {
    "duration": 196,
    "start_time": "2022-05-27T14:21:11.162Z"
   },
   {
    "duration": 4,
    "start_time": "2022-05-27T14:21:11.361Z"
   },
   {
    "duration": 7,
    "start_time": "2022-05-27T14:21:11.367Z"
   },
   {
    "duration": 155,
    "start_time": "2022-05-27T14:21:11.376Z"
   },
   {
    "duration": 165,
    "start_time": "2022-05-27T14:21:11.532Z"
   },
   {
    "duration": 5,
    "start_time": "2022-05-27T14:21:11.699Z"
   },
   {
    "duration": 24,
    "start_time": "2022-05-27T14:21:11.706Z"
   },
   {
    "duration": 154,
    "start_time": "2022-05-27T14:21:11.733Z"
   },
   {
    "duration": 7,
    "start_time": "2022-05-27T14:21:11.889Z"
   },
   {
    "duration": 11,
    "start_time": "2022-05-27T14:21:11.897Z"
   },
   {
    "duration": 161,
    "start_time": "2022-05-27T14:21:11.909Z"
   },
   {
    "duration": 4,
    "start_time": "2022-05-27T14:21:12.072Z"
   },
   {
    "duration": 17,
    "start_time": "2022-05-27T14:21:12.079Z"
   },
   {
    "duration": 158,
    "start_time": "2022-05-27T14:21:12.097Z"
   },
   {
    "duration": 8,
    "start_time": "2022-05-27T14:21:12.257Z"
   },
   {
    "duration": 31,
    "start_time": "2022-05-27T14:21:12.267Z"
   },
   {
    "duration": 5,
    "start_time": "2022-05-27T14:21:12.300Z"
   },
   {
    "duration": 185,
    "start_time": "2022-05-27T14:21:49.960Z"
   },
   {
    "duration": 9,
    "start_time": "2022-05-27T14:23:22.706Z"
   },
   {
    "duration": 10,
    "start_time": "2022-05-27T14:23:31.862Z"
   },
   {
    "duration": 8,
    "start_time": "2022-05-27T14:23:39.978Z"
   },
   {
    "duration": 33,
    "start_time": "2022-05-28T14:05:29.296Z"
   },
   {
    "duration": 5,
    "start_time": "2022-05-28T14:11:03.809Z"
   },
   {
    "duration": 1356,
    "start_time": "2022-05-28T14:19:48.369Z"
   },
   {
    "duration": 771,
    "start_time": "2022-05-28T14:19:49.727Z"
   },
   {
    "duration": 313,
    "start_time": "2022-05-28T14:19:50.499Z"
   },
   {
    "duration": 485,
    "start_time": "2022-05-28T14:19:50.815Z"
   },
   {
    "duration": 1195,
    "start_time": "2022-05-28T14:19:51.302Z"
   },
   {
    "duration": 195,
    "start_time": "2022-05-28T14:19:52.499Z"
   },
   {
    "duration": 729,
    "start_time": "2022-05-28T14:19:52.697Z"
   },
   {
    "duration": 82,
    "start_time": "2022-05-28T14:19:53.428Z"
   },
   {
    "duration": 521,
    "start_time": "2022-05-28T14:19:53.512Z"
   },
   {
    "duration": 74,
    "start_time": "2022-05-28T14:19:54.036Z"
   },
   {
    "duration": 114,
    "start_time": "2022-05-28T14:19:54.112Z"
   },
   {
    "duration": 16,
    "start_time": "2022-05-28T14:19:54.296Z"
   },
   {
    "duration": 202,
    "start_time": "2022-05-28T14:19:54.314Z"
   },
   {
    "duration": 85,
    "start_time": "2022-05-28T14:19:54.518Z"
   },
   {
    "duration": 41,
    "start_time": "2022-05-28T14:19:54.605Z"
   },
   {
    "duration": 108,
    "start_time": "2022-05-28T14:19:54.648Z"
   },
   {
    "duration": 43,
    "start_time": "2022-05-28T14:19:54.758Z"
   },
   {
    "duration": 8,
    "start_time": "2022-05-28T14:19:54.803Z"
   },
   {
    "duration": 8,
    "start_time": "2022-05-28T14:19:54.813Z"
   },
   {
    "duration": 13,
    "start_time": "2022-05-28T14:19:54.823Z"
   },
   {
    "duration": 27,
    "start_time": "2022-05-28T14:19:54.838Z"
   },
   {
    "duration": 43,
    "start_time": "2022-05-28T14:19:54.867Z"
   },
   {
    "duration": 431,
    "start_time": "2022-05-28T14:19:54.912Z"
   },
   {
    "duration": 4,
    "start_time": "2022-05-28T14:19:55.345Z"
   },
   {
    "duration": 11,
    "start_time": "2022-05-28T14:19:55.350Z"
   },
   {
    "duration": 141,
    "start_time": "2022-05-28T14:19:55.363Z"
   },
   {
    "duration": 4,
    "start_time": "2022-05-28T14:19:55.506Z"
   },
   {
    "duration": 10,
    "start_time": "2022-05-28T14:19:55.513Z"
   },
   {
    "duration": 152,
    "start_time": "2022-05-28T14:19:55.525Z"
   },
   {
    "duration": 4,
    "start_time": "2022-05-28T14:19:55.679Z"
   },
   {
    "duration": 5,
    "start_time": "2022-05-28T14:19:55.694Z"
   },
   {
    "duration": 133,
    "start_time": "2022-05-28T14:19:55.701Z"
   },
   {
    "duration": 135,
    "start_time": "2022-05-28T14:19:55.836Z"
   },
   {
    "duration": 4,
    "start_time": "2022-05-28T14:19:55.973Z"
   },
   {
    "duration": 17,
    "start_time": "2022-05-28T14:19:55.979Z"
   },
   {
    "duration": 142,
    "start_time": "2022-05-28T14:19:55.998Z"
   },
   {
    "duration": 5,
    "start_time": "2022-05-28T14:19:56.141Z"
   },
   {
    "duration": 9,
    "start_time": "2022-05-28T14:19:56.147Z"
   },
   {
    "duration": 148,
    "start_time": "2022-05-28T14:19:56.158Z"
   },
   {
    "duration": 4,
    "start_time": "2022-05-28T14:19:56.309Z"
   },
   {
    "duration": 8,
    "start_time": "2022-05-28T14:19:56.315Z"
   },
   {
    "duration": 153,
    "start_time": "2022-05-28T14:19:56.324Z"
   },
   {
    "duration": 6,
    "start_time": "2022-05-28T14:19:56.479Z"
   },
   {
    "duration": 11,
    "start_time": "2022-05-28T14:19:56.495Z"
   },
   {
    "duration": 7,
    "start_time": "2022-05-28T14:19:56.507Z"
   },
   {
    "duration": 56,
    "start_time": "2022-05-28T15:44:04.622Z"
   },
   {
    "duration": 807,
    "start_time": "2022-05-28T15:44:14.668Z"
   },
   {
    "duration": 1251,
    "start_time": "2022-05-28T15:44:15.477Z"
   },
   {
    "duration": 113,
    "start_time": "2022-05-28T15:44:16.729Z"
   },
   {
    "duration": 228,
    "start_time": "2022-05-28T15:44:16.844Z"
   },
   {
    "duration": 536,
    "start_time": "2022-05-28T15:44:17.075Z"
   },
   {
    "duration": 55,
    "start_time": "2022-05-28T15:44:17.613Z"
   },
   {
    "duration": 312,
    "start_time": "2022-05-28T15:44:17.670Z"
   },
   {
    "duration": 23,
    "start_time": "2022-05-28T15:44:17.993Z"
   },
   {
    "duration": 246,
    "start_time": "2022-05-28T15:44:18.018Z"
   },
   {
    "duration": 32,
    "start_time": "2022-05-28T15:44:18.266Z"
   },
   {
    "duration": 49,
    "start_time": "2022-05-28T15:44:18.300Z"
   },
   {
    "duration": 48,
    "start_time": "2022-05-28T15:44:18.350Z"
   },
   {
    "duration": 152,
    "start_time": "2022-05-28T15:44:18.400Z"
   },
   {
    "duration": 0,
    "start_time": "2022-05-28T15:44:18.555Z"
   },
   {
    "duration": 0,
    "start_time": "2022-05-28T15:44:18.555Z"
   },
   {
    "duration": 0,
    "start_time": "2022-05-28T15:44:18.557Z"
   },
   {
    "duration": 0,
    "start_time": "2022-05-28T15:44:18.558Z"
   },
   {
    "duration": 0,
    "start_time": "2022-05-28T15:44:18.559Z"
   },
   {
    "duration": 0,
    "start_time": "2022-05-28T15:44:18.560Z"
   },
   {
    "duration": 0,
    "start_time": "2022-05-28T15:44:18.561Z"
   },
   {
    "duration": 0,
    "start_time": "2022-05-28T15:44:18.562Z"
   },
   {
    "duration": 0,
    "start_time": "2022-05-28T15:44:18.563Z"
   },
   {
    "duration": 0,
    "start_time": "2022-05-28T15:44:18.564Z"
   },
   {
    "duration": 0,
    "start_time": "2022-05-28T15:44:18.565Z"
   },
   {
    "duration": 0,
    "start_time": "2022-05-28T15:44:18.567Z"
   },
   {
    "duration": 0,
    "start_time": "2022-05-28T15:44:18.567Z"
   },
   {
    "duration": 0,
    "start_time": "2022-05-28T15:44:18.595Z"
   },
   {
    "duration": 0,
    "start_time": "2022-05-28T15:44:18.596Z"
   },
   {
    "duration": 0,
    "start_time": "2022-05-28T15:44:18.597Z"
   },
   {
    "duration": 0,
    "start_time": "2022-05-28T15:44:18.598Z"
   },
   {
    "duration": 0,
    "start_time": "2022-05-28T15:44:18.600Z"
   },
   {
    "duration": 0,
    "start_time": "2022-05-28T15:44:18.601Z"
   },
   {
    "duration": 0,
    "start_time": "2022-05-28T15:44:18.602Z"
   },
   {
    "duration": 0,
    "start_time": "2022-05-28T15:44:18.603Z"
   },
   {
    "duration": 0,
    "start_time": "2022-05-28T15:44:18.604Z"
   },
   {
    "duration": 0,
    "start_time": "2022-05-28T15:44:18.605Z"
   },
   {
    "duration": 0,
    "start_time": "2022-05-28T15:44:18.606Z"
   },
   {
    "duration": 0,
    "start_time": "2022-05-28T15:44:18.607Z"
   },
   {
    "duration": 0,
    "start_time": "2022-05-28T15:44:18.608Z"
   },
   {
    "duration": 0,
    "start_time": "2022-05-28T15:44:18.609Z"
   },
   {
    "duration": 0,
    "start_time": "2022-05-28T15:44:18.610Z"
   },
   {
    "duration": 0,
    "start_time": "2022-05-28T15:44:18.612Z"
   },
   {
    "duration": 0,
    "start_time": "2022-05-28T15:44:18.613Z"
   },
   {
    "duration": 0,
    "start_time": "2022-05-28T15:44:18.614Z"
   },
   {
    "duration": 0,
    "start_time": "2022-05-28T15:44:18.615Z"
   },
   {
    "duration": 63,
    "start_time": "2022-05-28T15:45:35.967Z"
   },
   {
    "duration": 3,
    "start_time": "2022-05-28T15:45:59.684Z"
   },
   {
    "duration": 73,
    "start_time": "2022-05-28T15:46:47.179Z"
   },
   {
    "duration": 77,
    "start_time": "2022-05-28T15:46:53.608Z"
   },
   {
    "duration": 72,
    "start_time": "2022-05-28T15:47:12.723Z"
   },
   {
    "duration": 48,
    "start_time": "2022-05-28T15:50:18.862Z"
   },
   {
    "duration": 42,
    "start_time": "2022-05-28T15:50:21.676Z"
   },
   {
    "duration": 101,
    "start_time": "2022-05-28T15:50:24.995Z"
   },
   {
    "duration": 29,
    "start_time": "2022-05-28T15:50:32.604Z"
   },
   {
    "duration": 770,
    "start_time": "2022-05-28T15:51:00.033Z"
   },
   {
    "duration": 449,
    "start_time": "2022-05-28T15:51:00.805Z"
   },
   {
    "duration": 143,
    "start_time": "2022-05-28T15:51:01.255Z"
   },
   {
    "duration": 234,
    "start_time": "2022-05-28T15:51:01.401Z"
   },
   {
    "duration": 582,
    "start_time": "2022-05-28T15:51:01.637Z"
   },
   {
    "duration": 75,
    "start_time": "2022-05-28T15:51:02.221Z"
   },
   {
    "duration": 343,
    "start_time": "2022-05-28T15:51:02.298Z"
   },
   {
    "duration": 22,
    "start_time": "2022-05-28T15:51:02.643Z"
   },
   {
    "duration": 238,
    "start_time": "2022-05-28T15:51:02.667Z"
   },
   {
    "duration": 19,
    "start_time": "2022-05-28T15:51:02.908Z"
   },
   {
    "duration": 78,
    "start_time": "2022-05-28T15:51:02.928Z"
   },
   {
    "duration": 10,
    "start_time": "2022-05-28T15:51:03.008Z"
   },
   {
    "duration": 95,
    "start_time": "2022-05-28T15:51:03.020Z"
   },
   {
    "duration": 41,
    "start_time": "2022-05-28T15:51:03.117Z"
   },
   {
    "duration": 60,
    "start_time": "2022-05-28T15:51:03.160Z"
   },
   {
    "duration": 111,
    "start_time": "2022-05-28T15:51:03.222Z"
   },
   {
    "duration": 29,
    "start_time": "2022-05-28T15:51:03.334Z"
   },
   {
    "duration": 7,
    "start_time": "2022-05-28T15:51:03.364Z"
   },
   {
    "duration": 26,
    "start_time": "2022-05-28T15:51:03.373Z"
   },
   {
    "duration": 16,
    "start_time": "2022-05-28T15:51:03.400Z"
   },
   {
    "duration": 23,
    "start_time": "2022-05-28T15:51:03.418Z"
   },
   {
    "duration": 25,
    "start_time": "2022-05-28T15:51:03.443Z"
   },
   {
    "duration": 594,
    "start_time": "2022-05-28T15:51:03.470Z"
   },
   {
    "duration": 4,
    "start_time": "2022-05-28T15:51:04.065Z"
   },
   {
    "duration": 11,
    "start_time": "2022-05-28T15:51:04.071Z"
   },
   {
    "duration": 120,
    "start_time": "2022-05-28T15:51:04.093Z"
   },
   {
    "duration": 4,
    "start_time": "2022-05-28T15:51:04.215Z"
   },
   {
    "duration": 11,
    "start_time": "2022-05-28T15:51:04.222Z"
   },
   {
    "duration": 152,
    "start_time": "2022-05-28T15:51:04.235Z"
   },
   {
    "duration": 4,
    "start_time": "2022-05-28T15:51:04.394Z"
   },
   {
    "duration": 8,
    "start_time": "2022-05-28T15:51:04.400Z"
   },
   {
    "duration": 138,
    "start_time": "2022-05-28T15:51:04.410Z"
   },
   {
    "duration": 152,
    "start_time": "2022-05-28T15:51:04.550Z"
   },
   {
    "duration": 5,
    "start_time": "2022-05-28T15:51:04.704Z"
   },
   {
    "duration": 14,
    "start_time": "2022-05-28T15:51:04.710Z"
   },
   {
    "duration": 152,
    "start_time": "2022-05-28T15:51:04.726Z"
   },
   {
    "duration": 3,
    "start_time": "2022-05-28T15:51:04.880Z"
   },
   {
    "duration": 12,
    "start_time": "2022-05-28T15:51:04.885Z"
   },
   {
    "duration": 167,
    "start_time": "2022-05-28T15:51:04.898Z"
   },
   {
    "duration": 4,
    "start_time": "2022-05-28T15:51:05.067Z"
   },
   {
    "duration": 19,
    "start_time": "2022-05-28T15:51:05.073Z"
   },
   {
    "duration": 134,
    "start_time": "2022-05-28T15:51:05.094Z"
   },
   {
    "duration": 5,
    "start_time": "2022-05-28T15:51:05.230Z"
   },
   {
    "duration": 15,
    "start_time": "2022-05-28T15:51:05.236Z"
   },
   {
    "duration": 5,
    "start_time": "2022-05-28T15:51:05.253Z"
   },
   {
    "duration": 61,
    "start_time": "2022-05-28T15:54:59.132Z"
   },
   {
    "duration": 49,
    "start_time": "2022-05-28T15:55:02.059Z"
   },
   {
    "duration": 43,
    "start_time": "2022-05-28T15:55:05.021Z"
   },
   {
    "duration": 39,
    "start_time": "2022-05-28T15:56:49.326Z"
   },
   {
    "duration": 30,
    "start_time": "2022-05-28T15:58:18.662Z"
   },
   {
    "duration": 40,
    "start_time": "2022-05-28T15:58:31.620Z"
   },
   {
    "duration": 39,
    "start_time": "2022-05-28T15:59:11.417Z"
   },
   {
    "duration": 137,
    "start_time": "2022-05-28T16:00:01.214Z"
   },
   {
    "duration": 49,
    "start_time": "2022-05-28T16:00:09.096Z"
   },
   {
    "duration": 44,
    "start_time": "2022-05-28T16:00:33.459Z"
   },
   {
    "duration": 42,
    "start_time": "2022-05-28T16:00:46.991Z"
   },
   {
    "duration": 39,
    "start_time": "2022-05-28T16:03:19.563Z"
   },
   {
    "duration": 4,
    "start_time": "2022-05-28T16:05:47.833Z"
   },
   {
    "duration": 4,
    "start_time": "2022-05-28T16:05:51.896Z"
   },
   {
    "duration": 7,
    "start_time": "2022-05-28T16:07:40.033Z"
   },
   {
    "duration": 15,
    "start_time": "2022-05-28T16:07:49.875Z"
   },
   {
    "duration": 8,
    "start_time": "2022-05-28T16:08:00.622Z"
   },
   {
    "duration": 7,
    "start_time": "2022-05-28T16:08:02.792Z"
   },
   {
    "duration": 15,
    "start_time": "2022-05-28T16:08:39.623Z"
   },
   {
    "duration": 14,
    "start_time": "2022-05-28T16:09:08.070Z"
   },
   {
    "duration": 8,
    "start_time": "2022-05-28T16:10:05.329Z"
   },
   {
    "duration": 12,
    "start_time": "2022-05-28T16:12:11.819Z"
   },
   {
    "duration": 12,
    "start_time": "2022-05-28T16:13:56.224Z"
   },
   {
    "duration": 9,
    "start_time": "2022-05-28T16:14:43.057Z"
   },
   {
    "duration": 3,
    "start_time": "2022-05-28T16:15:00.745Z"
   },
   {
    "duration": 72,
    "start_time": "2022-05-28T16:15:20.229Z"
   },
   {
    "duration": 217,
    "start_time": "2022-05-28T16:16:31.065Z"
   },
   {
    "duration": 151,
    "start_time": "2022-05-28T16:16:41.070Z"
   },
   {
    "duration": 140,
    "start_time": "2022-05-28T16:16:48.469Z"
   },
   {
    "duration": 23,
    "start_time": "2022-05-28T16:23:21.245Z"
   },
   {
    "duration": 142,
    "start_time": "2022-05-28T16:24:26.838Z"
   },
   {
    "duration": 163,
    "start_time": "2022-05-28T16:24:55.903Z"
   },
   {
    "duration": 151,
    "start_time": "2022-05-28T16:25:37.564Z"
   },
   {
    "duration": 198,
    "start_time": "2022-05-28T16:25:47.689Z"
   },
   {
    "duration": 111,
    "start_time": "2022-05-28T16:26:43.897Z"
   },
   {
    "duration": 144,
    "start_time": "2022-05-28T16:26:56.086Z"
   },
   {
    "duration": 113,
    "start_time": "2022-05-28T16:27:03.604Z"
   },
   {
    "duration": 148,
    "start_time": "2022-05-28T16:27:16.472Z"
   },
   {
    "duration": 246,
    "start_time": "2022-05-28T16:27:23.087Z"
   },
   {
    "duration": 140,
    "start_time": "2022-05-28T16:27:29.303Z"
   },
   {
    "duration": 137,
    "start_time": "2022-05-28T16:28:22.918Z"
   },
   {
    "duration": 133,
    "start_time": "2022-05-28T16:29:05.745Z"
   },
   {
    "duration": 166,
    "start_time": "2022-05-28T16:29:35.375Z"
   },
   {
    "duration": 159,
    "start_time": "2022-05-28T16:30:17.483Z"
   },
   {
    "duration": 140,
    "start_time": "2022-05-28T16:30:26.585Z"
   },
   {
    "duration": 146,
    "start_time": "2022-05-28T16:30:33.078Z"
   },
   {
    "duration": 163,
    "start_time": "2022-05-28T16:31:03.413Z"
   },
   {
    "duration": 133,
    "start_time": "2022-05-28T16:31:14.990Z"
   },
   {
    "duration": 823,
    "start_time": "2022-05-29T08:46:03.430Z"
   },
   {
    "duration": 395,
    "start_time": "2022-05-29T08:46:04.255Z"
   },
   {
    "duration": 106,
    "start_time": "2022-05-29T08:46:04.651Z"
   },
   {
    "duration": 236,
    "start_time": "2022-05-29T08:46:04.759Z"
   },
   {
    "duration": 518,
    "start_time": "2022-05-29T08:46:04.997Z"
   },
   {
    "duration": 69,
    "start_time": "2022-05-29T08:46:05.516Z"
   },
   {
    "duration": 293,
    "start_time": "2022-05-29T08:46:05.587Z"
   },
   {
    "duration": 22,
    "start_time": "2022-05-29T08:46:05.881Z"
   },
   {
    "duration": 236,
    "start_time": "2022-05-29T08:46:05.905Z"
   },
   {
    "duration": 18,
    "start_time": "2022-05-29T08:46:06.144Z"
   },
   {
    "duration": 99,
    "start_time": "2022-05-29T08:46:06.163Z"
   },
   {
    "duration": 14,
    "start_time": "2022-05-29T08:46:06.264Z"
   },
   {
    "duration": 105,
    "start_time": "2022-05-29T08:46:06.279Z"
   },
   {
    "duration": 58,
    "start_time": "2022-05-29T08:46:06.386Z"
   },
   {
    "duration": 36,
    "start_time": "2022-05-29T08:46:06.447Z"
   },
   {
    "duration": 103,
    "start_time": "2022-05-29T08:46:06.485Z"
   },
   {
    "duration": 45,
    "start_time": "2022-05-29T08:46:06.590Z"
   },
   {
    "duration": 14,
    "start_time": "2022-05-29T08:46:06.637Z"
   },
   {
    "duration": 8,
    "start_time": "2022-05-29T08:46:06.652Z"
   },
   {
    "duration": 8,
    "start_time": "2022-05-29T08:46:06.661Z"
   },
   {
    "duration": 10,
    "start_time": "2022-05-29T08:46:06.670Z"
   },
   {
    "duration": 50,
    "start_time": "2022-05-29T08:46:06.681Z"
   },
   {
    "duration": 25,
    "start_time": "2022-05-29T08:46:06.733Z"
   },
   {
    "duration": 435,
    "start_time": "2022-05-29T08:46:06.760Z"
   },
   {
    "duration": 3,
    "start_time": "2022-05-29T08:46:07.197Z"
   },
   {
    "duration": 11,
    "start_time": "2022-05-29T08:46:07.201Z"
   },
   {
    "duration": 32,
    "start_time": "2022-05-29T08:46:07.214Z"
   },
   {
    "duration": 162,
    "start_time": "2022-05-29T08:46:07.250Z"
   },
   {
    "duration": 4,
    "start_time": "2022-05-29T08:46:07.413Z"
   },
   {
    "duration": 4,
    "start_time": "2022-05-29T08:46:07.427Z"
   },
   {
    "duration": 181,
    "start_time": "2022-05-29T08:46:07.432Z"
   },
   {
    "duration": 4,
    "start_time": "2022-05-29T08:46:07.615Z"
   },
   {
    "duration": 9,
    "start_time": "2022-05-29T08:46:07.620Z"
   },
   {
    "duration": 163,
    "start_time": "2022-05-29T08:46:07.631Z"
   },
   {
    "duration": 143,
    "start_time": "2022-05-29T08:46:07.796Z"
   },
   {
    "duration": 5,
    "start_time": "2022-05-29T08:46:07.941Z"
   },
   {
    "duration": 9,
    "start_time": "2022-05-29T08:46:07.948Z"
   },
   {
    "duration": 159,
    "start_time": "2022-05-29T08:46:07.959Z"
   },
   {
    "duration": 4,
    "start_time": "2022-05-29T08:46:08.119Z"
   },
   {
    "duration": 11,
    "start_time": "2022-05-29T08:46:08.127Z"
   },
   {
    "duration": 175,
    "start_time": "2022-05-29T08:46:08.140Z"
   },
   {
    "duration": 11,
    "start_time": "2022-05-29T08:46:08.316Z"
   },
   {
    "duration": 15,
    "start_time": "2022-05-29T08:46:08.329Z"
   },
   {
    "duration": 153,
    "start_time": "2022-05-29T08:46:08.346Z"
   },
   {
    "duration": 5,
    "start_time": "2022-05-29T08:46:08.500Z"
   },
   {
    "duration": 25,
    "start_time": "2022-05-29T08:46:08.506Z"
   },
   {
    "duration": 4,
    "start_time": "2022-05-29T08:46:08.533Z"
   },
   {
    "duration": 78,
    "start_time": "2022-05-29T10:56:44.465Z"
   },
   {
    "duration": 902,
    "start_time": "2022-05-29T10:56:52.667Z"
   },
   {
    "duration": 1153,
    "start_time": "2022-05-29T10:56:53.571Z"
   },
   {
    "duration": 119,
    "start_time": "2022-05-29T10:56:54.726Z"
   },
   {
    "duration": 256,
    "start_time": "2022-05-29T10:56:54.846Z"
   },
   {
    "duration": 610,
    "start_time": "2022-05-29T10:56:55.105Z"
   },
   {
    "duration": 62,
    "start_time": "2022-05-29T10:56:55.717Z"
   },
   {
    "duration": 346,
    "start_time": "2022-05-29T10:56:55.796Z"
   },
   {
    "duration": 22,
    "start_time": "2022-05-29T10:56:56.143Z"
   },
   {
    "duration": 288,
    "start_time": "2022-05-29T10:56:56.167Z"
   },
   {
    "duration": 38,
    "start_time": "2022-05-29T10:56:56.457Z"
   },
   {
    "duration": 54,
    "start_time": "2022-05-29T10:56:56.496Z"
   },
   {
    "duration": 48,
    "start_time": "2022-05-29T10:56:56.552Z"
   },
   {
    "duration": 66,
    "start_time": "2022-05-29T10:56:56.602Z"
   },
   {
    "duration": 61,
    "start_time": "2022-05-29T10:56:56.671Z"
   },
   {
    "duration": 37,
    "start_time": "2022-05-29T10:56:56.734Z"
   },
   {
    "duration": 127,
    "start_time": "2022-05-29T10:56:56.772Z"
   },
   {
    "duration": 40,
    "start_time": "2022-05-29T10:56:56.901Z"
   },
   {
    "duration": 15,
    "start_time": "2022-05-29T10:56:56.943Z"
   },
   {
    "duration": 36,
    "start_time": "2022-05-29T10:56:56.959Z"
   },
   {
    "duration": 9,
    "start_time": "2022-05-29T10:56:56.996Z"
   },
   {
    "duration": 11,
    "start_time": "2022-05-29T10:56:57.007Z"
   },
   {
    "duration": 32,
    "start_time": "2022-05-29T10:56:57.020Z"
   },
   {
    "duration": 50,
    "start_time": "2022-05-29T10:56:57.053Z"
   },
   {
    "duration": 681,
    "start_time": "2022-05-29T10:56:57.104Z"
   },
   {
    "duration": 8,
    "start_time": "2022-05-29T10:56:57.787Z"
   },
   {
    "duration": 6,
    "start_time": "2022-05-29T10:56:57.797Z"
   },
   {
    "duration": 30,
    "start_time": "2022-05-29T10:56:57.804Z"
   },
   {
    "duration": 171,
    "start_time": "2022-05-29T10:56:57.836Z"
   },
   {
    "duration": 3,
    "start_time": "2022-05-29T10:56:58.009Z"
   },
   {
    "duration": 14,
    "start_time": "2022-05-29T10:56:58.014Z"
   },
   {
    "duration": 202,
    "start_time": "2022-05-29T10:56:58.029Z"
   },
   {
    "duration": 4,
    "start_time": "2022-05-29T10:56:58.233Z"
   },
   {
    "duration": 10,
    "start_time": "2022-05-29T10:56:58.238Z"
   },
   {
    "duration": 170,
    "start_time": "2022-05-29T10:56:58.249Z"
   },
   {
    "duration": 160,
    "start_time": "2022-05-29T10:56:58.420Z"
   },
   {
    "duration": 13,
    "start_time": "2022-05-29T10:56:58.582Z"
   },
   {
    "duration": 6,
    "start_time": "2022-05-29T10:56:58.598Z"
   },
   {
    "duration": 162,
    "start_time": "2022-05-29T10:56:58.606Z"
   },
   {
    "duration": 4,
    "start_time": "2022-05-29T10:56:58.769Z"
   },
   {
    "duration": 7,
    "start_time": "2022-05-29T10:56:58.775Z"
   },
   {
    "duration": 190,
    "start_time": "2022-05-29T10:56:58.797Z"
   },
   {
    "duration": 4,
    "start_time": "2022-05-29T10:56:58.995Z"
   },
   {
    "duration": 8,
    "start_time": "2022-05-29T10:56:59.002Z"
   },
   {
    "duration": 182,
    "start_time": "2022-05-29T10:56:59.012Z"
   },
   {
    "duration": 6,
    "start_time": "2022-05-29T10:56:59.196Z"
   },
   {
    "duration": 17,
    "start_time": "2022-05-29T10:56:59.203Z"
   },
   {
    "duration": 9,
    "start_time": "2022-05-29T10:56:59.221Z"
   },
   {
    "duration": 133,
    "start_time": "2022-05-29T10:57:19.161Z"
   },
   {
    "duration": 79,
    "start_time": "2022-05-29T10:58:29.741Z"
   },
   {
    "duration": 16,
    "start_time": "2022-05-29T10:59:42.771Z"
   },
   {
    "duration": 804,
    "start_time": "2022-05-29T11:00:56.123Z"
   },
   {
    "duration": 444,
    "start_time": "2022-05-29T11:00:56.929Z"
   },
   {
    "duration": 146,
    "start_time": "2022-05-29T11:00:57.375Z"
   },
   {
    "duration": 253,
    "start_time": "2022-05-29T11:00:57.523Z"
   },
   {
    "duration": 592,
    "start_time": "2022-05-29T11:00:57.778Z"
   },
   {
    "duration": 74,
    "start_time": "2022-05-29T11:00:58.371Z"
   },
   {
    "duration": 360,
    "start_time": "2022-05-29T11:00:58.446Z"
   },
   {
    "duration": 22,
    "start_time": "2022-05-29T11:00:58.808Z"
   },
   {
    "duration": 280,
    "start_time": "2022-05-29T11:00:58.832Z"
   },
   {
    "duration": 19,
    "start_time": "2022-05-29T11:00:59.114Z"
   },
   {
    "duration": 81,
    "start_time": "2022-05-29T11:00:59.135Z"
   },
   {
    "duration": 12,
    "start_time": "2022-05-29T11:00:59.217Z"
   },
   {
    "duration": 91,
    "start_time": "2022-05-29T11:00:59.230Z"
   },
   {
    "duration": 39,
    "start_time": "2022-05-29T11:00:59.323Z"
   },
   {
    "duration": 57,
    "start_time": "2022-05-29T11:00:59.363Z"
   },
   {
    "duration": 108,
    "start_time": "2022-05-29T11:00:59.422Z"
   },
   {
    "duration": 68,
    "start_time": "2022-05-29T11:00:59.533Z"
   },
   {
    "duration": 17,
    "start_time": "2022-05-29T11:00:59.603Z"
   },
   {
    "duration": 12,
    "start_time": "2022-05-29T11:00:59.622Z"
   },
   {
    "duration": 10,
    "start_time": "2022-05-29T11:00:59.635Z"
   },
   {
    "duration": 10,
    "start_time": "2022-05-29T11:00:59.646Z"
   },
   {
    "duration": 63,
    "start_time": "2022-05-29T11:00:59.657Z"
   },
   {
    "duration": 33,
    "start_time": "2022-05-29T11:00:59.722Z"
   },
   {
    "duration": 496,
    "start_time": "2022-05-29T11:00:59.757Z"
   },
   {
    "duration": 4,
    "start_time": "2022-05-29T11:01:00.256Z"
   },
   {
    "duration": 10,
    "start_time": "2022-05-29T11:01:00.263Z"
   },
   {
    "duration": 47,
    "start_time": "2022-05-29T11:01:00.275Z"
   },
   {
    "duration": 207,
    "start_time": "2022-05-29T11:01:00.325Z"
   },
   {
    "duration": 4,
    "start_time": "2022-05-29T11:01:00.534Z"
   },
   {
    "duration": 38,
    "start_time": "2022-05-29T11:01:00.540Z"
   },
   {
    "duration": 224,
    "start_time": "2022-05-29T11:01:00.580Z"
   },
   {
    "duration": 5,
    "start_time": "2022-05-29T11:01:00.806Z"
   },
   {
    "duration": 22,
    "start_time": "2022-05-29T11:01:00.813Z"
   },
   {
    "duration": 197,
    "start_time": "2022-05-29T11:01:00.837Z"
   },
   {
    "duration": 183,
    "start_time": "2022-05-29T11:01:01.036Z"
   },
   {
    "duration": 3,
    "start_time": "2022-05-29T11:01:01.221Z"
   },
   {
    "duration": 31,
    "start_time": "2022-05-29T11:01:01.226Z"
   },
   {
    "duration": 158,
    "start_time": "2022-05-29T11:01:01.259Z"
   },
   {
    "duration": 4,
    "start_time": "2022-05-29T11:01:01.418Z"
   },
   {
    "duration": 36,
    "start_time": "2022-05-29T11:01:01.425Z"
   },
   {
    "duration": 196,
    "start_time": "2022-05-29T11:01:01.463Z"
   },
   {
    "duration": 4,
    "start_time": "2022-05-29T11:01:01.660Z"
   },
   {
    "duration": 9,
    "start_time": "2022-05-29T11:01:01.666Z"
   },
   {
    "duration": 174,
    "start_time": "2022-05-29T11:01:01.677Z"
   },
   {
    "duration": 5,
    "start_time": "2022-05-29T11:01:01.853Z"
   },
   {
    "duration": 17,
    "start_time": "2022-05-29T11:01:01.860Z"
   },
   {
    "duration": 8,
    "start_time": "2022-05-29T11:01:01.894Z"
   },
   {
    "duration": 792,
    "start_time": "2022-05-30T09:56:47.842Z"
   },
   {
    "duration": 364,
    "start_time": "2022-05-30T09:56:48.635Z"
   },
   {
    "duration": 95,
    "start_time": "2022-05-30T09:56:49.001Z"
   },
   {
    "duration": 196,
    "start_time": "2022-05-30T09:56:49.097Z"
   },
   {
    "duration": 437,
    "start_time": "2022-05-30T09:56:49.295Z"
   },
   {
    "duration": 72,
    "start_time": "2022-05-30T09:56:49.733Z"
   },
   {
    "duration": 274,
    "start_time": "2022-05-30T09:56:49.807Z"
   },
   {
    "duration": 20,
    "start_time": "2022-05-30T09:56:50.082Z"
   },
   {
    "duration": 196,
    "start_time": "2022-05-30T09:56:50.103Z"
   },
   {
    "duration": 16,
    "start_time": "2022-05-30T09:56:50.301Z"
   },
   {
    "duration": 73,
    "start_time": "2022-05-30T09:56:50.319Z"
   },
   {
    "duration": 9,
    "start_time": "2022-05-30T09:56:50.394Z"
   },
   {
    "duration": 84,
    "start_time": "2022-05-30T09:56:50.405Z"
   },
   {
    "duration": 33,
    "start_time": "2022-05-30T09:56:50.492Z"
   },
   {
    "duration": 50,
    "start_time": "2022-05-30T09:56:50.527Z"
   },
   {
    "duration": 80,
    "start_time": "2022-05-30T09:56:50.578Z"
   },
   {
    "duration": 33,
    "start_time": "2022-05-30T09:56:50.675Z"
   },
   {
    "duration": 12,
    "start_time": "2022-05-30T09:56:50.709Z"
   },
   {
    "duration": 7,
    "start_time": "2022-05-30T09:56:50.722Z"
   },
   {
    "duration": 13,
    "start_time": "2022-05-30T09:56:50.730Z"
   },
   {
    "duration": 33,
    "start_time": "2022-05-30T09:56:50.745Z"
   },
   {
    "duration": 30,
    "start_time": "2022-05-30T09:56:50.779Z"
   },
   {
    "duration": 21,
    "start_time": "2022-05-30T09:56:50.810Z"
   },
   {
    "duration": 380,
    "start_time": "2022-05-30T09:56:50.833Z"
   },
   {
    "duration": 4,
    "start_time": "2022-05-30T09:56:51.214Z"
   },
   {
    "duration": 23,
    "start_time": "2022-05-30T09:56:51.219Z"
   },
   {
    "duration": 35,
    "start_time": "2022-05-30T09:56:51.243Z"
   },
   {
    "duration": 150,
    "start_time": "2022-05-30T09:56:51.280Z"
   },
   {
    "duration": 3,
    "start_time": "2022-05-30T09:56:51.432Z"
   },
   {
    "duration": 7,
    "start_time": "2022-05-30T09:56:51.436Z"
   },
   {
    "duration": 171,
    "start_time": "2022-05-30T09:56:51.444Z"
   },
   {
    "duration": 3,
    "start_time": "2022-05-30T09:56:51.617Z"
   },
   {
    "duration": 7,
    "start_time": "2022-05-30T09:56:51.621Z"
   },
   {
    "duration": 145,
    "start_time": "2022-05-30T09:56:51.630Z"
   },
   {
    "duration": 133,
    "start_time": "2022-05-30T09:56:51.776Z"
   },
   {
    "duration": 3,
    "start_time": "2022-05-30T09:56:51.911Z"
   },
   {
    "duration": 6,
    "start_time": "2022-05-30T09:56:51.916Z"
   },
   {
    "duration": 134,
    "start_time": "2022-05-30T09:56:51.923Z"
   },
   {
    "duration": 3,
    "start_time": "2022-05-30T09:56:52.059Z"
   },
   {
    "duration": 13,
    "start_time": "2022-05-30T09:56:52.064Z"
   },
   {
    "duration": 159,
    "start_time": "2022-05-30T09:56:52.080Z"
   },
   {
    "duration": 4,
    "start_time": "2022-05-30T09:56:52.241Z"
   },
   {
    "duration": 9,
    "start_time": "2022-05-30T09:56:52.246Z"
   },
   {
    "duration": 142,
    "start_time": "2022-05-30T09:56:52.256Z"
   },
   {
    "duration": 5,
    "start_time": "2022-05-30T09:56:52.399Z"
   },
   {
    "duration": 13,
    "start_time": "2022-05-30T09:56:52.405Z"
   },
   {
    "duration": 5,
    "start_time": "2022-05-30T09:56:52.419Z"
   }
  ],
  "kernelspec": {
   "display_name": "Python 3 (ipykernel)",
   "language": "python",
   "name": "python3"
  },
  "language_info": {
   "codemirror_mode": {
    "name": "ipython",
    "version": 3
   },
   "file_extension": ".py",
   "mimetype": "text/x-python",
   "name": "python",
   "nbconvert_exporter": "python",
   "pygments_lexer": "ipython3",
   "version": "3.9.12"
  },
  "toc": {
   "base_numbering": 1,
   "nav_menu": {},
   "number_sections": true,
   "sideBar": true,
   "skip_h1_title": true,
   "title_cell": "Table of Contents",
   "title_sidebar": "Содержание",
   "toc_cell": false,
   "toc_position": {
    "height": "calc(100% - 180px)",
    "left": "10px",
    "top": "150px",
    "width": "192.391px"
   },
   "toc_section_display": true,
   "toc_window_display": true
  }
 },
 "nbformat": 4,
 "nbformat_minor": 2
}
